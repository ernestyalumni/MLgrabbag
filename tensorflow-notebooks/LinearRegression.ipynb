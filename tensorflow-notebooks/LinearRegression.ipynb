{
 "cells": [
  {
   "cell_type": "code",
   "execution_count": 162,
   "metadata": {},
   "outputs": [
    {
     "name": "stdout",
     "output_type": "stream",
     "text": [
      "You have version 1.3.0\n"
     ]
    }
   ],
   "source": [
    "import tensorflow\n",
    "import tensorflow as tf\n",
    "print(\"You have version %s\" % tf.__version__)"
   ]
  },
  {
   "cell_type": "code",
   "execution_count": 163,
   "metadata": {
    "collapsed": true
   },
   "outputs": [],
   "source": [
    "%matplotlib inline\n",
    "import matplotlib.pyplot as plt"
   ]
  },
  {
   "cell_type": "code",
   "execution_count": 164,
   "metadata": {},
   "outputs": [
    {
     "name": "stdout",
     "output_type": "stream",
     "text": [
      "/home/mobicfd/ReacCFD/MLgrabbag/tensorflow-notebooks\n",
      "['ex1data2.txt', 'iris_training.csv', 'ex1data1.txt', 'iris_test.csv']\n"
     ]
    }
   ],
   "source": [
    "import os, sys\n",
    "print(os.getcwd())\n",
    "print(os.listdir( os.getcwd() +'/dataset/'))"
   ]
  },
  {
   "cell_type": "code",
   "execution_count": 165,
   "metadata": {
    "collapsed": true
   },
   "outputs": [],
   "source": [
    "\"\"\"\n",
    "linreg1_dataset = tf.contrib.data.TextLineDataset(\n",
    "    '../coursera_Ng/machine-learning-ex1/ex1/ex1data1.txt')\n",
    "linreg2_dataset = tf.contrib.data.TextLineDataset(\n",
    "    '../coursera_Ng/machine-learning-ex1/ex1/ex1data2.txt')\n",
    "\"\"\" # or \n",
    "\n",
    "linreg1_dataset = tf.contrib.data.TextLineDataset( os.getcwd()+'/dataset/ex1data1.txt' )\n",
    "linregmulti_dataset = tf.contrib.data.TextLineDataset( os.getcwd()+'/dataset/ex1data2.txt' )"
   ]
  },
  {
   "cell_type": "code",
   "execution_count": 166,
   "metadata": {},
   "outputs": [
    {
     "name": "stdout",
     "output_type": "stream",
     "text": [
      "()\n",
      "<dtype: 'string'>\n"
     ]
    }
   ],
   "source": [
    "print( linreg1_dataset.output_shapes )\n",
    "print( linreg1_dataset.output_types )"
   ]
  },
  {
   "cell_type": "code",
   "execution_count": 167,
   "metadata": {
    "collapsed": true
   },
   "outputs": [],
   "source": [
    "def decode_func(line):\n",
    "    record_defaults=[[0.0],[0.0]]\n",
    "    line = tf.decode_csv(line, record_defaults=record_defaults,field_delim=',')\n",
    "    return line[:-1], line[-1] # X, y"
   ]
  },
  {
   "cell_type": "markdown",
   "metadata": {},
   "source": [
    "Section on [`map`, Datasets API](https://www.tensorflow.org/api_docs/python/tf/contrib/data/Dataset#batch)"
   ]
  },
  {
   "cell_type": "code",
   "execution_count": 71,
   "metadata": {
    "collapsed": true
   },
   "outputs": [],
   "source": [
    "# this WORKS\n",
    "# linreg1_dataset = linreg1_dataset.map(decode_func)"
   ]
  },
  {
   "cell_type": "code",
   "execution_count": 168,
   "metadata": {
    "collapsed": true
   },
   "outputs": [],
   "source": [
    "m=64"
   ]
  },
  {
   "cell_type": "code",
   "execution_count": 172,
   "metadata": {},
   "outputs": [],
   "source": [
    "linreg1_dataset= linreg1_dataset.batch(m)"
   ]
  },
  {
   "cell_type": "code",
   "execution_count": 173,
   "metadata": {},
   "outputs": [
    {
     "data": {
      "text/plain": [
       "<BatchDataset shapes: ((?, 1), (?,)), types: (tf.float32, tf.float32)>"
      ]
     },
     "execution_count": 173,
     "metadata": {},
     "output_type": "execute_result"
    }
   ],
   "source": [
    "linreg1_dataset"
   ]
  },
  {
   "cell_type": "code",
   "execution_count": 170,
   "metadata": {
    "collapsed": true
   },
   "outputs": [],
   "source": [
    "linreg1_dataset= linreg1_dataset.map(decode_func,num_threads=m)"
   ]
  },
  {
   "cell_type": "code",
   "execution_count": 171,
   "metadata": {},
   "outputs": [
    {
     "name": "stdout",
     "output_type": "stream",
     "text": [
      "<MapDataset shapes: ((1,), ()), types: (tf.float32, tf.float32)>\n"
     ]
    }
   ],
   "source": [
    "print( linreg1_dataset )"
   ]
  },
  {
   "cell_type": "code",
   "execution_count": 100,
   "metadata": {
    "collapsed": true
   },
   "outputs": [],
   "source": [
    "def decode_func_multi(line):\n",
    "    record_defaults=[[0.0],[0.0],[0.0]]\n",
    "    line = tf.decode_csv(line, record_defaults=record_defaults,field_delim=',')\n",
    "    return line[:-1], line[-1] # X, y"
   ]
  },
  {
   "cell_type": "markdown",
   "metadata": {},
   "source": [
    "Section on [`map`, Datasets API](https://www.tensorflow.org/api_docs/python/tf/contrib/data/Dataset#batch)"
   ]
  },
  {
   "cell_type": "code",
   "execution_count": 61,
   "metadata": {
    "collapsed": true
   },
   "outputs": [],
   "source": [
    "# this WORKS\n",
    "# linregmulti_dataset = linregmulti_dataset.map(decode_func_multi)"
   ]
  },
  {
   "cell_type": "code",
   "execution_count": 101,
   "metadata": {
    "collapsed": true
   },
   "outputs": [],
   "source": [
    "linregmulti_dataset = linregmulti_dataset.batch(m)"
   ]
  },
  {
   "cell_type": "code",
   "execution_count": 102,
   "metadata": {},
   "outputs": [
    {
     "data": {
      "text/plain": [
       "<BatchDataset shapes: (?,), types: tf.string>"
      ]
     },
     "execution_count": 102,
     "metadata": {},
     "output_type": "execute_result"
    }
   ],
   "source": [
    "linregmulti_dataset"
   ]
  },
  {
   "cell_type": "code",
   "execution_count": 103,
   "metadata": {},
   "outputs": [],
   "source": [
    "linregmulti_dataset = linregmulti_dataset.map(decode_func_multi, num_threads=m)"
   ]
  },
  {
   "cell_type": "markdown",
   "metadata": {},
   "source": [
    "Use Datasets API as is: [How to map Iterator's output to placeholder in loss function in Tensorflow using Dataset API](https://stackoverflow.com/questions/46156778/how-to-map-iterators-output-to-placeholder-in-loss-function-in-tensorflow-using)"
   ]
  },
  {
   "cell_type": "code",
   "execution_count": 175,
   "metadata": {},
   "outputs": [],
   "source": [
    "next_X1, next_y1 = linreg1_dataset.make_one_shot_iterator().get_next() # iterate over the dataset once\n"
   ]
  },
  {
   "cell_type": "code",
   "execution_count": null,
   "metadata": {
    "collapsed": true
   },
   "outputs": [],
   "source": [
    "next_Xmulti, next_ymulti = linregmulti_dataset.make_one_shot_iterator().get_next() # iterate over the dataset once"
   ]
  },
  {
   "cell_type": "code",
   "execution_count": 176,
   "metadata": {},
   "outputs": [],
   "source": [
    "d = 1 # number of features\n",
    "K = 1 # size dim. of output y, y\\in \\mathbb{R}^K\n",
    "#Theta = tf.Variable(tf.truncated_normal([ d, K], stddev=0.1))\n",
    "Theta = tf.Variable(tf.constant(2.0, shape=[d,K]))\n",
    "b = tf.Variable(tf.constant(0.1, shape=[ K]))"
   ]
  },
  {
   "cell_type": "markdown",
   "metadata": {},
   "source": [
    "Why we needed `tf.expand_dims`: [Tensorflow exception with matmul](https://stackoverflow.com/questions/34908033/tensorflow-exception-with-matmul)"
   ]
  },
  {
   "cell_type": "code",
   "execution_count": 177,
   "metadata": {},
   "outputs": [],
   "source": [
    "# WORKS for no batch, or batch of 1\n",
    "# a1 = tf.matmul(tf.expand_dims(next_X1,1), Theta)+b\n",
    "a1 = tf.matmul(next_X1, Theta)+b\n"
   ]
  },
  {
   "cell_type": "code",
   "execution_count": 178,
   "metadata": {},
   "outputs": [],
   "source": [
    "init = tf.global_variables_initializer()"
   ]
  },
  {
   "cell_type": "code",
   "execution_count": 179,
   "metadata": {},
   "outputs": [],
   "source": [
    "with tf.Session() as sess:\n",
    "    sess.run(init)\n",
    "    a1result = sess.run(a1)"
   ]
  },
  {
   "cell_type": "code",
   "execution_count": 180,
   "metadata": {},
   "outputs": [
    {
     "data": {
      "text/plain": [
       "array([[ 12.32019997],\n",
       "       [ 11.15540028],\n",
       "       [ 17.13720131],\n",
       "       [ 14.10640049],\n",
       "       [ 11.81960011],\n",
       "       [ 16.86580086],\n",
       "       [ 15.05280018],\n",
       "       [ 17.25620079],\n",
       "       [ 13.07240009],\n",
       "       [ 10.20919991],\n",
       "       [ 11.52140045],\n",
       "       [ 28.4279995 ],\n",
       "       [ 11.56800079],\n",
       "       [ 16.91679955],\n",
       "       [ 11.38140011],\n",
       "       [ 10.85879993],\n",
       "       [ 12.83080006],\n",
       "       [ 10.36019993],\n",
       "       [ 12.95919991],\n",
       "       [ 14.24160004],\n",
       "       [ 12.47819996],\n",
       "       [ 40.63999939],\n",
       "       [ 11.0802002 ],\n",
       "       [ 12.75220013],\n",
       "       [ 11.22980022],\n",
       "       [ 37.98999786],\n",
       "       [ 25.75600052],\n",
       "       [ 22.01399994],\n",
       "       [ 26.45199966],\n",
       "       [ 44.5059967 ],\n",
       "       [ 10.60480022],\n",
       "       [ 13.27880001],\n",
       "       [ 18.59640121],\n",
       "       [ 11.88360023],\n",
       "       [ 16.52219963],\n",
       "       [ 15.96680069],\n",
       "       [ 16.29179955],\n",
       "       [ 11.31260014],\n",
       "       [ 25.77200127],\n",
       "       [ 12.80680084],\n",
       "       [ 10.91380024],\n",
       "       [ 13.86500072],\n",
       "       [ 23.51600075],\n",
       "       [ 11.64740086],\n",
       "       [ 15.74940014],\n",
       "       [ 14.28620052],\n",
       "       [ 10.24040031],\n",
       "       [ 11.70280075],\n",
       "       [ 23.5       ],\n",
       "       [ 11.18320084],\n",
       "       [ 15.18040085],\n",
       "       [ 10.7154007 ],\n",
       "       [ 14.94780064],\n",
       "       [ 15.30620003],\n",
       "       [ 12.7656002 ],\n",
       "       [ 12.81780052],\n",
       "       [ 12.64840031],\n",
       "       [ 11.37940025],\n",
       "       [ 18.72039986],\n",
       "       [ 19.00720024],\n",
       "       [ 17.75080109],\n",
       "       [ 10.45860004],\n",
       "       [ 42.65799713],\n",
       "       [ 29.91600037]], dtype=float32)"
      ]
     },
     "execution_count": 180,
     "metadata": {},
     "output_type": "execute_result"
    }
   ],
   "source": [
    "a1result"
   ]
  },
  {
   "cell_type": "code",
   "execution_count": 161,
   "metadata": {
    "collapsed": true
   },
   "outputs": [],
   "source": [
    "tf.reset_default_graph()"
   ]
  },
  {
   "cell_type": "markdown",
   "metadata": {},
   "source": [
    "## sanity check with NumPy"
   ]
  },
  {
   "cell_type": "code",
   "execution_count": 186,
   "metadata": {
    "collapsed": true
   },
   "outputs": [],
   "source": [
    "import numpy\n",
    "import numpy as np\n",
    "import pandas\n",
    "import pandas as pd"
   ]
  },
  {
   "cell_type": "code",
   "execution_count": 187,
   "metadata": {
    "collapsed": true
   },
   "outputs": [],
   "source": [
    "ex1data1DF = pd.read_csv(\"./dataset/ex1data1.txt\", header=None)\n",
    "ex1data2DF = pd.read_csv(\"./dataset/ex1data2.txt\", header=None)"
   ]
  },
  {
   "cell_type": "code",
   "execution_count": 188,
   "metadata": {},
   "outputs": [
    {
     "name": "stdout",
     "output_type": "stream",
     "text": [
      "(97,)\n",
      "(97,)\n",
      "(47, 2)\n",
      "(47,)\n",
      "(97, 1)\n",
      "(97, 1)\n",
      "(47, 2)\n",
      "(47, 1)\n"
     ]
    }
   ],
   "source": [
    "Xyex1data1 = ex1data1DF.values\n",
    "Xex1data1 = Xyex1data1[:,0]\n",
    "yex1data1 = Xyex1data1[:,1]\n",
    "Xyex1data2 = ex1data2DF.values\n",
    "Xex1data2 = Xyex1data2[:,0:-1]\n",
    "yex1data2 = Xyex1data2[:,-1]\n",
    "print(Xex1data1.shape)\n",
    "print(yex1data1.shape)\n",
    "print(Xex1data2.shape)\n",
    "print(yex1data2.shape)\n",
    "Xex1data1 = np.vstack( Xex1data1 )\n",
    "yex1data1 = np.vstack( yex1data1 )\n",
    "yex1data2 = np.vstack( yex1data2 )\n",
    "print(Xex1data1.shape)\n",
    "print(yex1data1.shape)\n",
    "print(Xex1data2.shape)\n",
    "print(yex1data2.shape)"
   ]
  },
  {
   "cell_type": "code",
   "execution_count": 189,
   "metadata": {},
   "outputs": [
    {
     "data": {
      "text/plain": [
       "array([[ 12.3202],\n",
       "       [ 11.1554],\n",
       "       [ 17.1372],\n",
       "       [ 14.1064],\n",
       "       [ 11.8196],\n",
       "       [ 16.8658],\n",
       "       [ 15.0528],\n",
       "       [ 17.2562],\n",
       "       [ 13.0724],\n",
       "       [ 10.2092],\n",
       "       [ 11.5214],\n",
       "       [ 28.428 ],\n",
       "       [ 11.568 ],\n",
       "       [ 16.9168],\n",
       "       [ 11.3814],\n",
       "       [ 10.8588],\n",
       "       [ 12.8308],\n",
       "       [ 10.3602],\n",
       "       [ 12.9592],\n",
       "       [ 14.2416],\n",
       "       [ 12.4782],\n",
       "       [ 40.64  ],\n",
       "       [ 11.0802],\n",
       "       [ 12.7522],\n",
       "       [ 11.2298],\n",
       "       [ 37.99  ],\n",
       "       [ 25.756 ],\n",
       "       [ 22.014 ],\n",
       "       [ 26.452 ],\n",
       "       [ 44.506 ],\n",
       "       [ 10.6048],\n",
       "       [ 13.2788],\n",
       "       [ 18.5964],\n",
       "       [ 11.8836],\n",
       "       [ 16.5222],\n",
       "       [ 15.9668],\n",
       "       [ 16.2918],\n",
       "       [ 11.3126],\n",
       "       [ 25.772 ],\n",
       "       [ 12.8068],\n",
       "       [ 10.9138],\n",
       "       [ 13.865 ],\n",
       "       [ 23.516 ],\n",
       "       [ 11.6474],\n",
       "       [ 15.7494],\n",
       "       [ 14.2862],\n",
       "       [ 10.2404],\n",
       "       [ 11.7028],\n",
       "       [ 23.5   ],\n",
       "       [ 11.1832],\n",
       "       [ 15.1804],\n",
       "       [ 10.7154],\n",
       "       [ 14.9478],\n",
       "       [ 15.3062],\n",
       "       [ 12.7656],\n",
       "       [ 12.8178],\n",
       "       [ 12.6484],\n",
       "       [ 11.3794],\n",
       "       [ 18.7204],\n",
       "       [ 19.0072],\n",
       "       [ 17.7508],\n",
       "       [ 10.4586],\n",
       "       [ 42.658 ],\n",
       "       [ 29.916 ]])"
      ]
     },
     "execution_count": 189,
     "metadata": {},
     "output_type": "execute_result"
    }
   ],
   "source": [
    "Xex1data1[:64]*2. + 0.1"
   ]
  },
  {
   "cell_type": "code",
   "execution_count": null,
   "metadata": {
    "collapsed": true
   },
   "outputs": [],
   "source": []
  }
 ],
 "metadata": {
  "kernelspec": {
   "display_name": "Python 2",
   "language": "python",
   "name": "python2"
  },
  "language_info": {
   "codemirror_mode": {
    "name": "ipython",
    "version": 2
   },
   "file_extension": ".py",
   "mimetype": "text/x-python",
   "name": "python",
   "nbconvert_exporter": "python",
   "pygments_lexer": "ipython2",
   "version": "2.7.12"
  }
 },
 "nbformat": 4,
 "nbformat_minor": 2
}
