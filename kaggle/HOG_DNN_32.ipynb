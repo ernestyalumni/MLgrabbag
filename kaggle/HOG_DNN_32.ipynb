{
 "cells": [
  {
   "cell_type": "code",
   "execution_count": 1,
   "metadata": {
    "collapsed": true
   },
   "outputs": [],
   "source": [
    "%matplotlib inline"
   ]
  },
  {
   "cell_type": "code",
   "execution_count": 2,
   "metadata": {},
   "outputs": [
    {
     "name": "stderr",
     "output_type": "stream",
     "text": [
      "WARNING (theano.sandbox.cuda): The cuda backend is deprecated and will be removed in the next release (v0.10).  Please switch to the gpuarray backend. You can get more information about how to switch at this URL:\n",
      " https://github.com/Theano/Theano/wiki/Converting-to-the-new-gpu-back-end%28gpuarray%29\n",
      "\n",
      "Using gpu device 0: GeForce GTX 980 Ti (CNMeM is enabled with initial size: 80.0% of memory, cuDNN 5105)\n"
     ]
    }
   ],
   "source": [
    "import theano"
   ]
  },
  {
   "cell_type": "code",
   "execution_count": 3,
   "metadata": {
    "collapsed": true
   },
   "outputs": [],
   "source": [
    "from theano import function, config, sandbox, shared \n",
    "import theano.tensor as T"
   ]
  },
  {
   "cell_type": "code",
   "execution_count": 4,
   "metadata": {},
   "outputs": [
    {
     "name": "stdout",
     "output_type": "stream",
     "text": [
      "gpu\n",
      "0.8\n",
      "True\n"
     ]
    }
   ],
   "source": [
    "print( theano.config.device )\n",
    "print( theano.config.lib.cnmem)  # cf. http://deeplearning.net/software/theano/library/config.html\n",
    "print( theano.config.print_active_device)# Print active device at when the GPU device is initialized."
   ]
  },
  {
   "cell_type": "code",
   "execution_count": 5,
   "metadata": {},
   "outputs": [
    {
     "name": "stdout",
     "output_type": "stream",
     "text": [
      "False\n",
      "\n"
     ]
    }
   ],
   "source": [
    "print(theano.config.allow_gc)\n",
    "print(theano.config.optimizer_excluding)"
   ]
  },
  {
   "cell_type": "code",
   "execution_count": 6,
   "metadata": {
    "collapsed": true
   },
   "outputs": [],
   "source": [
    "import sys\n",
    "sys.path.append( '../ML' )"
   ]
  },
  {
   "cell_type": "code",
   "execution_count": 7,
   "metadata": {
    "collapsed": true
   },
   "outputs": [],
   "source": [
    "from DNN import DNN, Feedforward"
   ]
  },
  {
   "cell_type": "code",
   "execution_count": 8,
   "metadata": {
    "collapsed": true
   },
   "outputs": [],
   "source": [
    "import numpy as np\n",
    "import pandas as pd"
   ]
  },
  {
   "cell_type": "code",
   "execution_count": 9,
   "metadata": {},
   "outputs": [
    {
     "name": "stdout",
     "output_type": "stream",
     "text": [
      "/home/topolo/PropD/MLgrabbag/kaggle\n"
     ]
    },
    {
     "data": {
      "text/plain": [
       "['2017datascibowl',\n",
       " 'HOG_SVM32.ipynb',\n",
       " 'HOG_process_322.ipynb',\n",
       " 'data_password.txt',\n",
       " 'HOG_DNN.ipynb',\n",
       " 'LSTM_model201702271930.save',\n",
       " 'cleaning_dueSigmaFin.pyc',\n",
       " 'LSTM_model201702280608.save',\n",
       " 'DatSciBow2017_DNN.ipynb',\n",
       " '.ipynb_checkpoints',\n",
       " 'dueSigmaFinancial_kaggle.py',\n",
       " 'HOG_process.ipynb',\n",
       " 'LSTM_model.save',\n",
       " 'LSTM_model201703012346.save',\n",
       " 'DatSciBow2017_FullPreprocessTutorial.ipynb',\n",
       " 'LSTM_model201702282350.save',\n",
       " 'HOG_process_32.ipynb',\n",
       " 'GRU_model201703022010.save',\n",
       " 'DueSigmaFin_runs.ipynb',\n",
       " 'ImagePreprocessing.ipynb',\n",
       " 'dueSigmaFinancial_local.ipynb',\n",
       " 'GRU_model201703012348.save',\n",
       " 'GRU_model201703050709.save',\n",
       " 'GRU_model201703021741.save',\n",
       " 'kaggle.ipynb',\n",
       " 'glass.csv',\n",
       " 'DatSciBow2017_SVM.ipynb',\n",
       " '__init__.py',\n",
       " 'train.h5',\n",
       " 'HOG_process2.ipynb',\n",
       " 'dueSigmaFinancial_local_GRUs.ipynb',\n",
       " 'HOG_DNN_32.ipynb',\n",
       " 'cleaning_dueSigmaFin.py']"
      ]
     },
     "execution_count": 9,
     "metadata": {},
     "output_type": "execute_result"
    }
   ],
   "source": [
    "import os\n",
    "print(os.getcwd())\n",
    "os.listdir( os.getcwd() ) "
   ]
  },
  {
   "cell_type": "code",
   "execution_count": 10,
   "metadata": {
    "collapsed": true
   },
   "outputs": [],
   "source": [
    "def load_feat_vec(patientid,sub_name=\"stage1_feat\"):\n",
    "    f=file(\"./2017datascibowl/\"+sub_name+\"/\"+patientid+\"feat_vec\",\"rb\")\n",
    "    arr = np.load(f)\n",
    "    f.close()\n",
    "    return arr "
   ]
  },
  {
   "cell_type": "code",
   "execution_count": 11,
   "metadata": {
    "collapsed": true
   },
   "outputs": [],
   "source": [
    "def prepare_inputX(sub_name=\"stage1_HOG32\", ratio_of_train_to_total = 0.4,\n",
    "                                                    ratio_valid_to_rest = 0.2):\n",
    "    patients_stage1_feat = os.listdir('./2017datascibowl/'+sub_name)\n",
    "\n",
    "    patients_stage1_feat = [id.replace(\"feat_vec\",\"\") for id in patients_stage1_feat]  # remove the suffix \"feat_vec\"\n",
    "    \n",
    "    # get y labels\n",
    "    y_ids = pd.read_csv('./2017datascibowl/stage1_labels.csv')\n",
    "    \n",
    "    y_ids_found=y_ids.loc[y_ids['id'].isin(patients_stage1_feat)]\n",
    "    \n",
    "    m = len(patients_stage1_feat)\n",
    "    found_indices =[]\n",
    "    for i in range(m):\n",
    "        if patients_stage1_feat[i] in y_ids_found['id'].as_matrix():\n",
    "            found_indices.append(i)\n",
    "\n",
    "    patients_stage1_feat_found = [patients_stage1_feat[i] for i in found_indices]\n",
    "    \n",
    "    y_found=[]\n",
    "    for i in range(len(patients_stage1_feat_found)):\n",
    "        if (patients_stage1_feat_found[i] in y_ids_found['id'].as_matrix()):\n",
    "            cancer_val = y_ids_found.loc[y_ids_found['id']==patients_stage1_feat_found[i]]['cancer'].as_matrix()\n",
    "            y_found.append( cancer_val )\n",
    "    y_found=np.array(y_found).flatten()\n",
    "    \n",
    "    assert (len(y_found)==len(patients_stage1_feat_found))\n",
    "\n",
    "\n",
    "    numberofexamples = len(patients_stage1_feat_found)\n",
    "    numberoftrainingexamples = int(numberofexamples*ratio_of_train_to_total)\n",
    "    numbertovalidate = int((numberofexamples - numberoftrainingexamples)*ratio_valid_to_rest)\n",
    "    numbertotest= numberofexamples - numberoftrainingexamples - numbertovalidate\n",
    "    \n",
    "    shuffledindices = np.random.permutation( numberofexamples)\n",
    "    \n",
    "    patients_train = [patients_stage1_feat_found[id] for id in shuffledindices[:numberoftrainingexamples]]\n",
    "    patients_valid = [patients_stage1_feat_found[id] for id in shuffledindices[numberoftrainingexamples:numberoftrainingexamples+numbertovalidate]]\n",
    "    patients_test  = [patients_stage1_feat_found[id] for id in shuffledindices[numberoftrainingexamples+numbertovalidate:]]\n",
    "\n",
    "    y_train = y_found[shuffledindices[:numberoftrainingexamples]]\n",
    "    y_valid = y_found[shuffledindices[numberoftrainingexamples:numberoftrainingexamples+numbertovalidate]]\n",
    "    y_test  = y_found[shuffledindices[numberoftrainingexamples+numbertovalidate:]]\n",
    "    \n",
    "    patients_train_vecs = [load_feat_vec(id,sub_name) for id in patients_train]\n",
    "    patients_train_vecs = np.array(patients_train_vecs)\n",
    "    \n",
    "    patients_valid_vecs = [load_feat_vec(id,sub_name) for id in patients_valid]\n",
    "    patients_valid_vecs = np.array(patients_valid_vecs)\n",
    "    \n",
    "    patients_test_vecs = [load_feat_vec(id,sub_name) for id in patients_test]\n",
    "    patients_test_vecs = np.array(patients_test_vecs)\n",
    "\n",
    "    patient_ids = {\"train\":patients_train,\"valid\":patients_valid,\"test\":patients_test}\n",
    "    ys = {\"train\":y_train,\"valid\":y_valid,\"test\":y_test}\n",
    "    Xs = {\"train\":patients_train_vecs,\"valid\":patients_valid_vecs,\"test\":patients_test_vecs}\n",
    "    \n",
    "    return patient_ids, ys, Xs  "
   ]
  },
  {
   "cell_type": "code",
   "execution_count": 12,
   "metadata": {
    "collapsed": true
   },
   "outputs": [],
   "source": [
    "patient_ids32, ys32,Xs32=prepare_inputX(\"stage1_HOG32\",0.375,0.2)"
   ]
  },
  {
   "cell_type": "code",
   "execution_count": 13,
   "metadata": {
    "collapsed": true
   },
   "outputs": [],
   "source": [
    "y_train_rep2 = np.copy(ys32[\"train\"])  # 2nd representation\n",
    "y_train_rep2[y_train_rep2<=0]=-1\n",
    "\n",
    "y_valid_rep2 = np.copy(ys32[\"valid\"])  # 2nd representation\n",
    "y_valid_rep2[y_valid_rep2<=0]=-1\n",
    "\n",
    "y_test_rep2 = np.copy(ys32[\"test\"])  # 2nd representation\n",
    "y_test_rep2[y_test_rep2<=0]=-1"
   ]
  },
  {
   "cell_type": "code",
   "execution_count": 14,
   "metadata": {},
   "outputs": [
    {
     "name": "stdout",
     "output_type": "stream",
     "text": [
      "327688\n"
     ]
    }
   ],
   "source": [
    "d = Xs32[\"train\"][0].shape[0]\n",
    "print(d)"
   ]
  },
  {
   "cell_type": "code",
   "execution_count": 15,
   "metadata": {},
   "outputs": [],
   "source": [
    "Ff32 = Feedforward(2,[d,d/128,1],activation_fxn=T.nnet.sigmoid,psi_Lm1=T.nnet.sigmoid)"
   ]
  },
  {
   "cell_type": "code",
   "execution_count": 16,
   "metadata": {},
   "outputs": [
    {
     "data": {
      "text/plain": [
       "2560"
      ]
     },
     "execution_count": 16,
     "metadata": {},
     "output_type": "execute_result"
    }
   ],
   "source": [
    "d/128"
   ]
  },
  {
   "cell_type": "code",
   "execution_count": 17,
   "metadata": {},
   "outputs": [
    {
     "data": {
      "text/plain": [
       "sigmoid.0"
      ]
     },
     "execution_count": 17,
     "metadata": {},
     "output_type": "execute_result"
    }
   ],
   "source": [
    "X32=theano.shared( Xs32[\"train\"].astype(theano.config.floatX))\n",
    "Ff32.connect_through(X32)"
   ]
  },
  {
   "cell_type": "code",
   "execution_count": 16,
   "metadata": {},
   "outputs": [
    {
     "ename": "NameError",
     "evalue": "name 'X32' is not defined",
     "output_type": "error",
     "traceback": [
      "\u001b[1;31m---------------------------------------------------------------------------\u001b[0m",
      "\u001b[1;31mNameError\u001b[0m                                 Traceback (most recent call last)",
      "\u001b[1;32m<ipython-input-16-424ba203651d>\u001b[0m in \u001b[0;36m<module>\u001b[1;34m()\u001b[0m\n\u001b[1;32m----> 1\u001b[1;33m \u001b[0mDNN32\u001b[0m \u001b[1;33m=\u001b[0m \u001b[0mDNN\u001b[0m\u001b[1;33m(\u001b[0m\u001b[0mFf32\u001b[0m\u001b[1;33m,\u001b[0m\u001b[0mys32\u001b[0m\u001b[1;33m[\u001b[0m\u001b[1;34m\"train\"\u001b[0m\u001b[1;33m]\u001b[0m \u001b[1;33m,\u001b[0m \u001b[0mX32\u001b[0m\u001b[1;33m.\u001b[0m\u001b[0mget_value\u001b[0m\u001b[1;33m(\u001b[0m\u001b[1;33m)\u001b[0m\u001b[1;33m)\u001b[0m\u001b[1;33m\u001b[0m\u001b[0m\n\u001b[0m",
      "\u001b[1;31mNameError\u001b[0m: name 'X32' is not defined"
     ]
    }
   ],
   "source": [
    "DNN32 = DNN(Ff32,ys32[\"train\"] , X32.get_value())"
   ]
  },
  {
   "cell_type": "code",
   "execution_count": 20,
   "metadata": {},
   "outputs": [
    {
     "data": {
      "text/plain": [
       "GpuFromHost.0"
      ]
     },
     "execution_count": 20,
     "metadata": {},
     "output_type": "execute_result"
    }
   ],
   "source": [
    "DNN32.build_J_xent()"
   ]
  },
  {
   "cell_type": "code",
   "execution_count": 21,
   "metadata": {
    "collapsed": true
   },
   "outputs": [],
   "source": [
    "DNN32.build_update(alpha=0.0001)"
   ]
  },
  {
   "cell_type": "code",
   "execution_count": 23,
   "metadata": {},
   "outputs": [
    {
     "name": "stdout",
     "output_type": "stream",
     "text": [
      "theano.config.allow_gc =:  False\n",
      "CPU times: user 16min 43s, sys: 41min 23s, total: 58min 7s\n",
      "Wall time: 58min 6s\n"
     ]
    },
    {
     "data": {
      "text/plain": [
       "array([ 0.60423833,  0.601605  ,  0.59934652, ...,  0.22131497,\n",
       "        0.22130144,  0.22128801])"
      ]
     },
     "execution_count": 23,
     "metadata": {},
     "output_type": "execute_result"
    }
   ],
   "source": [
    "%time DNN32.train_model_full(max_iters=10000) # max_iters=3, CPU times: user 320 ms, sys: 713 ms, total: 1.03 s"
   ]
  },
  {
   "cell_type": "code",
   "execution_count": 24,
   "metadata": {},
   "outputs": [
    {
     "ename": "MemoryError",
     "evalue": "('Error allocating 264771904 bytes of device memory (CNMEM_STATUS_OUT_OF_MEMORY).', \"you might consider using 'theano.shared(..., borrow=True)'\")",
     "output_type": "error",
     "traceback": [
      "\u001b[1;31m---------------------------------------------------------------------------\u001b[0m",
      "\u001b[1;31mMemoryError\u001b[0m                               Traceback (most recent call last)",
      "\u001b[1;32m<ipython-input-24-e8c108ead055>\u001b[0m in \u001b[0;36m<module>\u001b[1;34m()\u001b[0m\n\u001b[1;32m----> 1\u001b[1;33m \u001b[0mDNN32\u001b[0m\u001b[1;33m.\u001b[0m\u001b[0mDNN_model\u001b[0m\u001b[1;33m.\u001b[0m\u001b[0mconnect_through\u001b[0m\u001b[1;33m(\u001b[0m\u001b[0mtheano\u001b[0m\u001b[1;33m.\u001b[0m\u001b[0mshared\u001b[0m\u001b[1;33m(\u001b[0m\u001b[0mXs32\u001b[0m\u001b[1;33m[\u001b[0m\u001b[1;34m\"valid\"\u001b[0m\u001b[1;33m]\u001b[0m\u001b[1;33m.\u001b[0m\u001b[0mastype\u001b[0m\u001b[1;33m(\u001b[0m\u001b[0mtheano\u001b[0m\u001b[1;33m.\u001b[0m\u001b[0mconfig\u001b[0m\u001b[1;33m.\u001b[0m\u001b[0mfloatX\u001b[0m\u001b[1;33m)\u001b[0m\u001b[1;33m)\u001b[0m\u001b[1;33m)\u001b[0m\u001b[1;33m\u001b[0m\u001b[0m\n\u001b[0m",
      "\u001b[1;32m/home/topolo/PropD/Theano/theano/compile/sharedvalue.pyc\u001b[0m in \u001b[0;36mshared\u001b[1;34m(value, name, strict, allow_downcast, **kwargs)\u001b[0m\n\u001b[0;32m    266\u001b[0m             \u001b[1;32mtry\u001b[0m\u001b[1;33m:\u001b[0m\u001b[1;33m\u001b[0m\u001b[0m\n\u001b[0;32m    267\u001b[0m                 var = ctor(value, name=name, strict=strict,\n\u001b[1;32m--> 268\u001b[1;33m                            allow_downcast=allow_downcast, **kwargs)\n\u001b[0m\u001b[0;32m    269\u001b[0m                 \u001b[0mutils\u001b[0m\u001b[1;33m.\u001b[0m\u001b[0madd_tag_trace\u001b[0m\u001b[1;33m(\u001b[0m\u001b[0mvar\u001b[0m\u001b[1;33m)\u001b[0m\u001b[1;33m\u001b[0m\u001b[0m\n\u001b[0;32m    270\u001b[0m                 \u001b[1;32mreturn\u001b[0m \u001b[0mvar\u001b[0m\u001b[1;33m\u001b[0m\u001b[0m\n",
      "\u001b[1;32m/home/topolo/PropD/Theano/theano/sandbox/cuda/var.pyc\u001b[0m in \u001b[0;36mfloat32_shared_constructor\u001b[1;34m(value, name, strict, allow_downcast, borrow, broadcastable, target)\u001b[0m\n\u001b[0;32m    186\u001b[0m         \u001b[1;31m# type.broadcastable is guaranteed to be a tuple, which this next\u001b[0m\u001b[1;33m\u001b[0m\u001b[1;33m\u001b[0m\u001b[0m\n\u001b[0;32m    187\u001b[0m         \u001b[1;31m# function requires\u001b[0m\u001b[1;33m\u001b[0m\u001b[1;33m\u001b[0m\u001b[0m\n\u001b[1;32m--> 188\u001b[1;33m         \u001b[0mdeviceval\u001b[0m \u001b[1;33m=\u001b[0m \u001b[0mtype_support_filter\u001b[0m\u001b[1;33m(\u001b[0m\u001b[0mvalue\u001b[0m\u001b[1;33m,\u001b[0m \u001b[0mtype\u001b[0m\u001b[1;33m.\u001b[0m\u001b[0mbroadcastable\u001b[0m\u001b[1;33m,\u001b[0m \u001b[0mFalse\u001b[0m\u001b[1;33m,\u001b[0m \u001b[0mNone\u001b[0m\u001b[1;33m)\u001b[0m\u001b[1;33m\u001b[0m\u001b[0m\n\u001b[0m\u001b[0;32m    189\u001b[0m \u001b[1;33m\u001b[0m\u001b[0m\n\u001b[0;32m    190\u001b[0m     \u001b[1;32mtry\u001b[0m\u001b[1;33m:\u001b[0m\u001b[1;33m\u001b[0m\u001b[0m\n",
      "\u001b[1;31mMemoryError\u001b[0m: ('Error allocating 264771904 bytes of device memory (CNMEM_STATUS_OUT_OF_MEMORY).', \"you might consider using 'theano.shared(..., borrow=True)'\")"
     ]
    }
   ],
   "source": [
    "DNN32.DNN_model.connect_through(theano.shared(Xs32[\"valid\"].astype(theano.config.floatX)))"
   ]
  },
  {
   "cell_type": "markdown",
   "metadata": {},
   "source": [
    "##### Breakdown (step-by-step) of long-term persistence (saving work, saving files, I/O); I'll "
   ]
  },
  {
   "cell_type": "code",
   "execution_count": 29,
   "metadata": {},
   "outputs": [],
   "source": [
    "import cPickle"
   ]
  },
  {
   "cell_type": "code",
   "execution_count": 26,
   "metadata": {},
   "outputs": [],
   "source": [
    "params_val32 = [weight.get_value() for weight in DNN32.DNN_model.__get_state__()['params'] ]"
   ]
  },
  {
   "cell_type": "code",
   "execution_count": 35,
   "metadata": {},
   "outputs": [
    {
     "name": "stdout",
     "output_type": "stream",
     "text": [
      "4\n"
     ]
    }
   ],
   "source": [
    "print(len(params_val32))"
   ]
  },
  {
   "cell_type": "code",
   "execution_count": 31,
   "metadata": {},
   "outputs": [
    {
     "ename": "SystemError",
     "evalue": "error return without exception set",
     "output_type": "error",
     "traceback": [
      "\u001b[1;31m---------------------------------------------------------------------------\u001b[0m",
      "\u001b[1;31mSystemError\u001b[0m                               Traceback (most recent call last)",
      "\u001b[1;32m<ipython-input-31-486676351de4>\u001b[0m in \u001b[0;36m<module>\u001b[1;34m()\u001b[0m\n\u001b[0;32m      1\u001b[0m \u001b[0mf\u001b[0m \u001b[1;33m=\u001b[0m \u001b[0mopen\u001b[0m\u001b[1;33m(\u001b[0m\u001b[1;34m\"./2017datascibowl/DNN32_L3_128.pkl\"\u001b[0m\u001b[1;33m,\u001b[0m\u001b[1;34m'wb'\u001b[0m\u001b[1;33m)\u001b[0m\u001b[1;33m\u001b[0m\u001b[0m\n\u001b[0;32m      2\u001b[0m \u001b[1;32mfor\u001b[0m \u001b[0mparam\u001b[0m \u001b[1;32min\u001b[0m \u001b[0mparams_val32\u001b[0m\u001b[1;33m:\u001b[0m\u001b[1;33m\u001b[0m\u001b[0m\n\u001b[1;32m----> 3\u001b[1;33m     \u001b[0mcPickle\u001b[0m\u001b[1;33m.\u001b[0m\u001b[0mdump\u001b[0m\u001b[1;33m(\u001b[0m\u001b[0mparam\u001b[0m\u001b[1;33m,\u001b[0m\u001b[0mf\u001b[0m\u001b[1;33m,\u001b[0m\u001b[0mprotocol\u001b[0m\u001b[1;33m=\u001b[0m\u001b[0mcPickle\u001b[0m\u001b[1;33m.\u001b[0m\u001b[0mHIGHEST_PROTOCOL\u001b[0m\u001b[1;33m)\u001b[0m\u001b[1;33m\u001b[0m\u001b[0m\n\u001b[0m\u001b[0;32m      4\u001b[0m \u001b[0mf\u001b[0m\u001b[1;33m.\u001b[0m\u001b[0mclose\u001b[0m\u001b[1;33m(\u001b[0m\u001b[1;33m)\u001b[0m\u001b[1;33m\u001b[0m\u001b[0m\n",
      "\u001b[1;31mSystemError\u001b[0m: error return without exception set"
     ]
    }
   ],
   "source": [
    "f = open(\"./2017datascibowl/DNN32_L3_128.pkl\",'wb')\n",
    "for param in params_val32:\n",
    "    cPickle.dump(param,f,protocol=cPickle.HIGHEST_PROTOCOL)  # Python problem cf.\n",
    "    # https://github.com/numpy/numpy/issues/2396\n",
    "f.close()"
   ]
  },
  {
   "cell_type": "code",
   "execution_count": 34,
   "metadata": {},
   "outputs": [],
   "source": [
    "# above is a problem with Python, for large arrays\n",
    "for param_idx in range(len(params_val32)):\n",
    "    f = open(\"./2017datascibowl/DNN32_L3_128\"+str(param_idx)+\".pkl\",'wb')\n",
    "    np.save(f,params_val32[param_idx])\n",
    "    f.close()\n",
    "\n"
   ]
  },
  {
   "cell_type": "markdown",
   "metadata": {},
   "source": [
    "### load back saved parameters"
   ]
  },
  {
   "cell_type": "code",
   "execution_count": 15,
   "metadata": {},
   "outputs": [],
   "source": [
    "params_reloaded = []\n",
    "no_params=4\n",
    "filename_reload = \"./2017datascibowl/DNN32_L3_128\"\n",
    "for param_idx in range(no_params):\n",
    "    name_reload = filename_reload+str(param_idx)+\".pkl\"\n",
    "    param_val = np.load(name_reload)\n",
    "    params_reloaded.append(param_val)"
   ]
  },
  {
   "cell_type": "code",
   "execution_count": 16,
   "metadata": {
    "collapsed": true
   },
   "outputs": [],
   "source": [
    "Ff32_reloaded = Feedforward(2,[d,d/128,1],activation_fxn=T.nnet.sigmoid,psi_Lm1=T.nnet.sigmoid)"
   ]
  },
  {
   "cell_type": "code",
   "execution_count": 17,
   "metadata": {},
   "outputs": [],
   "source": [
    "Ff32_reloaded.__set_state__(*params_reloaded)"
   ]
  },
  {
   "cell_type": "code",
   "execution_count": 19,
   "metadata": {},
   "outputs": [
    {
     "data": {
      "text/plain": [
       "array([[-0.01051898,  0.00416382, -0.00212343, ..., -0.01638052,\n",
       "        -0.00529799, -0.01309736],\n",
       "       [ 0.00960883,  0.0087943 , -0.00077023, ..., -0.00224601,\n",
       "         0.00270979, -0.00083148],\n",
       "       [ 0.01697689, -0.00064749,  0.00363629, ..., -0.01195615,\n",
       "         0.00590108, -0.00295875],\n",
       "       ..., \n",
       "       [ 0.00355044, -0.00947237, -0.00872016, ..., -0.0155024 ,\n",
       "         0.00426584,  0.00798085],\n",
       "       [ 0.00575262,  0.01189689, -0.01234404, ..., -0.00221689,\n",
       "         0.00172807, -0.0081163 ],\n",
       "       [-0.00503765, -0.00537038, -0.00895535, ..., -0.01033893,\n",
       "         0.00831992, -0.00455313]], dtype=float32)"
      ]
     },
     "execution_count": 19,
     "metadata": {},
     "output_type": "execute_result"
    }
   ],
   "source": [
    "Ff32_reloaded.__get_state__()['params'][0].get_value()"
   ]
  },
  {
   "cell_type": "code",
   "execution_count": 20,
   "metadata": {},
   "outputs": [
    {
     "data": {
      "text/plain": [
       "array([[-0.01051898,  0.00416382, -0.00212343, ..., -0.01638052,\n",
       "        -0.00529799, -0.01309736],\n",
       "       [ 0.00960883,  0.0087943 , -0.00077023, ..., -0.00224601,\n",
       "         0.00270979, -0.00083148],\n",
       "       [ 0.01697689, -0.00064749,  0.00363629, ..., -0.01195615,\n",
       "         0.00590108, -0.00295875],\n",
       "       ..., \n",
       "       [ 0.00355044, -0.00947237, -0.00872016, ..., -0.0155024 ,\n",
       "         0.00426584,  0.00798085],\n",
       "       [ 0.00575262,  0.01189689, -0.01234404, ..., -0.00221689,\n",
       "         0.00172807, -0.0081163 ],\n",
       "       [-0.00503765, -0.00537038, -0.00895535, ..., -0.01033893,\n",
       "         0.00831992, -0.00455313]], dtype=float32)"
      ]
     },
     "execution_count": 20,
     "metadata": {},
     "output_type": "execute_result"
    }
   ],
   "source": [
    "params_reloaded[0]"
   ]
  },
  {
   "cell_type": "markdown",
   "metadata": {},
   "source": [
    "# Submissions out"
   ]
  },
  {
   "cell_type": "code",
   "execution_count": 27,
   "metadata": {
    "collapsed": true
   },
   "outputs": [],
   "source": [
    "stage2_sample_submission_csv = pd.read_csv(\"./2017datascibowl/stage2_sample_submission.csv\")"
   ]
  },
  {
   "cell_type": "code",
   "execution_count": 28,
   "metadata": {
    "collapsed": true
   },
   "outputs": [],
   "source": [
    "sub_name=\"stage2_HOG32\"\n",
    "patients_sample2_vecs = np.array( [load_feat_vec(id,sub_name) for id in stage2_sample_submission_csv['id'].as_matrix()] )"
   ]
  },
  {
   "cell_type": "code",
   "execution_count": 17,
   "metadata": {},
   "outputs": [
    {
     "name": "stdout",
     "output_type": "stream",
     "text": [
      "(506, 327688)\n",
      "327688\n"
     ]
    }
   ],
   "source": [
    "print(patients_sample2_vecs.shape)\n",
    "\n",
    "d=patients_sample2_vecs.shape[1]\n",
    "print(d)"
   ]
  },
  {
   "cell_type": "code",
   "execution_count": 24,
   "metadata": {},
   "outputs": [
    {
     "data": {
      "text/plain": [
       "sigmoid.0"
      ]
     },
     "execution_count": 24,
     "metadata": {},
     "output_type": "execute_result"
    }
   ],
   "source": [
    "Ff32_reloaded.connect_through(theano.shared( patients_sample2_vecs.astype(theano.config.floatX)))"
   ]
  },
  {
   "cell_type": "code",
   "execution_count": 25,
   "metadata": {
    "collapsed": true
   },
   "outputs": [],
   "source": [
    "yhat_sample2 = theano.function(inputs=[],outputs=Ff32_reloaded._get_outer_layer_() )()"
   ]
  },
  {
   "cell_type": "code",
   "execution_count": 28,
   "metadata": {},
   "outputs": [
    {
     "data": {
      "text/plain": [
       "(506, 1)"
      ]
     },
     "execution_count": 28,
     "metadata": {},
     "output_type": "execute_result"
    }
   ],
   "source": [
    "yhat_sample2.shape"
   ]
  },
  {
   "cell_type": "code",
   "execution_count": 29,
   "metadata": {
    "collapsed": true
   },
   "outputs": [],
   "source": [
    "sample2_out = pd.DataFrame(zip(stage2_sample_submission_csv['id'].as_matrix(),yhat_sample2.flatten()))\n",
    "sample2_out.columns=[\"id\",\"cancer\"]"
   ]
  },
  {
   "cell_type": "code",
   "execution_count": 30,
   "metadata": {
    "collapsed": true
   },
   "outputs": [],
   "source": [
    "sample2_out.to_csv(\"./2017datascibowl/sample2submit01.csv\",index=False)"
   ]
  },
  {
   "cell_type": "markdown",
   "metadata": {
    "collapsed": true
   },
   "source": [
    "# Other models; $L=3$"
   ]
  },
  {
   "cell_type": "code",
   "execution_count": 16,
   "metadata": {},
   "outputs": [
    {
     "data": {
      "text/plain": [
       "320"
      ]
     },
     "execution_count": 16,
     "metadata": {},
     "output_type": "execute_result"
    }
   ],
   "source": [
    "d/1024"
   ]
  },
  {
   "cell_type": "code",
   "execution_count": 15,
   "metadata": {
    "collapsed": true
   },
   "outputs": [],
   "source": [
    "Ff32 = Feedforward(3,[d,d/256,d/1024,1],activation_fxn=T.nnet.sigmoid,psi_Lm1=T.nnet.sigmoid)"
   ]
  },
  {
   "cell_type": "code",
   "execution_count": 16,
   "metadata": {},
   "outputs": [
    {
     "data": {
      "text/plain": [
       "sigmoid.0"
      ]
     },
     "execution_count": 16,
     "metadata": {},
     "output_type": "execute_result"
    }
   ],
   "source": [
    "X32=theano.shared( Xs32[\"train\"].astype(theano.config.floatX))\n",
    "Ff32.connect_through(X32)"
   ]
  },
  {
   "cell_type": "code",
   "execution_count": 17,
   "metadata": {},
   "outputs": [],
   "source": [
    "DNN32 = DNN(Ff32,ys32[\"train\"] , X32.get_value())"
   ]
  },
  {
   "cell_type": "code",
   "execution_count": 18,
   "metadata": {},
   "outputs": [
    {
     "data": {
      "text/plain": [
       "GpuFromHost.0"
      ]
     },
     "execution_count": 18,
     "metadata": {},
     "output_type": "execute_result"
    }
   ],
   "source": [
    "DNN32.build_J_xent()"
   ]
  },
  {
   "cell_type": "code",
   "execution_count": 19,
   "metadata": {
    "collapsed": true
   },
   "outputs": [],
   "source": [
    "DNN32.build_update(alpha=0.0001)"
   ]
  },
  {
   "cell_type": "code",
   "execution_count": 20,
   "metadata": {},
   "outputs": [
    {
     "name": "stdout",
     "output_type": "stream",
     "text": [
      "theano.config.allow_gc =:  False\n",
      "CPU times: user 309 ms, sys: 559 ms, total: 868 ms\n",
      "Wall time: 867 ms\n"
     ]
    },
    {
     "data": {
      "text/plain": [
       "array([ 3.58742404,  2.56585026,  1.65380883])"
      ]
     },
     "execution_count": 20,
     "metadata": {},
     "output_type": "execute_result"
    }
   ],
   "source": [
    "%time DNN32.train_model_full(max_iters=3) # max_iters=3, CPU times: user 320 ms, sys: 713 ms, total: 1.03 s"
   ]
  },
  {
   "cell_type": "code",
   "execution_count": 21,
   "metadata": {},
   "outputs": [
    {
     "name": "stdout",
     "output_type": "stream",
     "text": [
      "theano.config.allow_gc =:  False\n",
      "CPU times: user 21min 39s, sys: 52min 31s, total: 1h 14min 10s\n",
      "Wall time: 1h 14min 9s\n"
     ]
    },
    {
     "data": {
      "text/plain": [
       "array([ 1.02403891,  0.73851693,  0.63771349, ...,  0.2418585 ,\n",
       "        0.24184632,  0.24183418])"
      ]
     },
     "execution_count": 21,
     "metadata": {},
     "output_type": "execute_result"
    }
   ],
   "source": [
    "%time DNN32.train_model_full(max_iters=15000) # max_iters=3, CPU times: user 309 ms, sys: 559 ms, total: 868 ms"
   ]
  },
  {
   "cell_type": "code",
   "execution_count": 24,
   "metadata": {
    "collapsed": true
   },
   "outputs": [],
   "source": [
    "DNN32.save_parameters(\"./2017datascibowl/DNNHOG32_L3_256_\")"
   ]
  },
  {
   "cell_type": "code",
   "execution_count": 25,
   "metadata": {},
   "outputs": [
    {
     "data": {
      "text/plain": [
       "sigmoid.0"
      ]
     },
     "execution_count": 25,
     "metadata": {},
     "output_type": "execute_result"
    }
   ],
   "source": [
    "DNN32.DNN_model.connect_through(theano.shared( patients_sample2_vecs.astype(theano.config.floatX)))"
   ]
  },
  {
   "cell_type": "code",
   "execution_count": 26,
   "metadata": {
    "collapsed": true
   },
   "outputs": [],
   "source": [
    "yhat_sample2 = theano.function(inputs=[],outputs=DNN32.DNN_model._get_outer_layer_() )()"
   ]
  },
  {
   "cell_type": "code",
   "execution_count": 27,
   "metadata": {
    "collapsed": true
   },
   "outputs": [],
   "source": [
    "sample2_out = pd.DataFrame(zip(stage2_sample_submission_csv['id'].as_matrix(),yhat_sample2.flatten()))\n",
    "sample2_out.columns=[\"id\",\"cancer\"]"
   ]
  },
  {
   "cell_type": "code",
   "execution_count": 28,
   "metadata": {
    "collapsed": true
   },
   "outputs": [],
   "source": [
    "sample2_out.to_csv(\"./2017datascibowl/sample2submit02.csv\",index=False)"
   ]
  },
  {
   "cell_type": "markdown",
   "metadata": {
    "collapsed": true
   },
   "source": [
    "# L=3, train to rest ratio$= 0.575,0.595$"
   ]
  },
  {
   "cell_type": "code",
   "execution_count": 12,
   "metadata": {
    "collapsed": true
   },
   "outputs": [],
   "source": [
    "patient_ids, ys,Xs=prepare_inputX(\"stage1_HOG32\",0.575,0.2)"
   ]
  },
  {
   "cell_type": "code",
   "execution_count": 14,
   "metadata": {},
   "outputs": [
    {
     "name": "stdout",
     "output_type": "stream",
     "text": [
      "327688\n"
     ]
    }
   ],
   "source": [
    "d = Xs32[\"train\"][0].shape[0]\n",
    "print(d)"
   ]
  },
  {
   "cell_type": "code",
   "execution_count": 15,
   "metadata": {
    "collapsed": true
   },
   "outputs": [],
   "source": [
    "Ff = Feedforward(3,[d,d/256,d/256,1],activation_fxn=T.nnet.sigmoid,psi_Lm1=T.nnet.sigmoid)"
   ]
  },
  {
   "cell_type": "code",
   "execution_count": 16,
   "metadata": {},
   "outputs": [
    {
     "data": {
      "text/plain": [
       "sigmoid.0"
      ]
     },
     "execution_count": 16,
     "metadata": {},
     "output_type": "execute_result"
    }
   ],
   "source": [
    "X=theano.shared( Xs32[\"train\"].astype(theano.config.floatX))\n",
    "Ff.connect_through(X)"
   ]
  },
  {
   "cell_type": "code",
   "execution_count": 19,
   "metadata": {
    "collapsed": true
   },
   "outputs": [],
   "source": [
    "DNN_HOG = DNN(Ff,ys32[\"train\"] )"
   ]
  },
  {
   "cell_type": "code",
   "execution_count": 20,
   "metadata": {},
   "outputs": [
    {
     "data": {
      "text/plain": [
       "GpuFromHost.0"
      ]
     },
     "execution_count": 20,
     "metadata": {},
     "output_type": "execute_result"
    }
   ],
   "source": [
    "DNN_HOG.build_J_xent()"
   ]
  },
  {
   "cell_type": "code",
   "execution_count": 21,
   "metadata": {
    "collapsed": true
   },
   "outputs": [],
   "source": [
    "DNN_HOG.build_update(alpha=0.0001)"
   ]
  },
  {
   "cell_type": "code",
   "execution_count": 22,
   "metadata": {},
   "outputs": [
    {
     "name": "stdout",
     "output_type": "stream",
     "text": [
      "theano.config.allow_gc =:  False\n",
      "CPU times: user 339 ms, sys: 551 ms, total: 889 ms\n",
      "Wall time: 887 ms\n"
     ]
    },
    {
     "data": {
      "text/plain": [
       "array([ 2.02084756,  1.39609814])"
      ]
     },
     "execution_count": 22,
     "metadata": {},
     "output_type": "execute_result"
    }
   ],
   "source": [
    "%time DNN_HOG.train_model_full(max_iters=2) # max_iters=2 CPU times: user 374 ms, sys: 679 ms, total: 1.05 s"
   ]
  },
  {
   "cell_type": "code",
   "execution_count": 23,
   "metadata": {},
   "outputs": [
    {
     "name": "stdout",
     "output_type": "stream",
     "text": [
      "theano.config.allow_gc =:  False\n",
      "CPU times: user 21min 54s, sys: 50min 32s, total: 1h 12min 27s\n",
      "Wall time: 1h 12min 26s\n"
     ]
    },
    {
     "data": {
      "text/plain": [
       "array([ 0.96289539,  0.74127501,  0.6490553 , ...,  0.4474774 ,\n",
       "        0.44746727,  0.44745716])"
      ]
     },
     "execution_count": 23,
     "metadata": {},
     "output_type": "execute_result"
    }
   ],
   "source": [
    "%time DNN_HOG.train_model_full(max_iters=10000)"
   ]
  },
  {
   "cell_type": "code",
   "execution_count": 25,
   "metadata": {},
   "outputs": [],
   "source": [
    "DNN_HOG.save_parameters(\"./2017datascibowl/DNNHOG32_L3_256_\")"
   ]
  },
  {
   "cell_type": "code",
   "execution_count": 27,
   "metadata": {},
   "outputs": [],
   "source": [
    "# predictions on validation set\n",
    "DNN_HOG.DNN_model.connect_through(theano.shared(Xs32[\"valid\"].astype(theano.config.floatX)))\n",
    "\n",
    "yhat_valid = theano.function(inputs=[],outputs=DNN_HOG.DNN_model._get_outer_layer_() )()"
   ]
  },
  {
   "cell_type": "code",
   "execution_count": 36,
   "metadata": {},
   "outputs": [
    {
     "data": {
      "text/plain": [
       "0.721057167480609"
      ]
     },
     "execution_count": 36,
     "metadata": {},
     "output_type": "execute_result"
    }
   ],
   "source": [
    "( (yhat_valid>0.50).astype(theano.config.floatX)==ys32[\"valid\"]).mean() # threshold 0.8 0.72493536340132148"
   ]
  },
  {
   "cell_type": "code",
   "execution_count": 37,
   "metadata": {},
   "outputs": [
    {
     "name": "stdout",
     "output_type": "stream",
     "text": [
      "theano.config.allow_gc =:  False\n",
      "CPU times: user 10min 49s, sys: 25min 29s, total: 36min 19s\n",
      "Wall time: 36min 18s\n"
     ]
    },
    {
     "data": {
      "text/plain": [
       "array([ 0.44744706,  0.4474369 ,  0.44742677, ...,  0.39755404,\n",
       "        0.39754432,  0.39753458])"
      ]
     },
     "execution_count": 37,
     "metadata": {},
     "output_type": "execute_result"
    }
   ],
   "source": [
    "%time DNN_HOG.train_model_full(max_iters=5000)"
   ]
  },
  {
   "cell_type": "code",
   "execution_count": 38,
   "metadata": {
    "collapsed": true
   },
   "outputs": [],
   "source": [
    "DNN_HOG.save_parameters(\"./2017datascibowl/DNNHOG32_L3_256b_\")"
   ]
  },
  {
   "cell_type": "code",
   "execution_count": 39,
   "metadata": {
    "collapsed": true
   },
   "outputs": [],
   "source": [
    "# predictions on validation set\n",
    "DNN_HOG.DNN_model.connect_through(theano.shared(Xs32[\"valid\"].astype(theano.config.floatX)))\n",
    "\n",
    "yhat_valid = theano.function(inputs=[],outputs=DNN_HOG.DNN_model._get_outer_layer_() )()"
   ]
  },
  {
   "cell_type": "code",
   "execution_count": 42,
   "metadata": {},
   "outputs": [
    {
     "data": {
      "text/plain": [
       "0.7055443837977593"
      ]
     },
     "execution_count": 42,
     "metadata": {},
     "output_type": "execute_result"
    }
   ],
   "source": [
    "( (yhat_valid>0.50).astype(theano.config.floatX)==ys32[\"valid\"]).mean() # threshold 0.8 0.72493536340132148"
   ]
  },
  {
   "cell_type": "code",
   "execution_count": 12,
   "metadata": {
    "collapsed": true
   },
   "outputs": [],
   "source": [
    "patient_ids, ys,Xs=prepare_inputX(\"stage1_HOG32\",0.595,0.2)"
   ]
  },
  {
   "cell_type": "code",
   "execution_count": 14,
   "metadata": {},
   "outputs": [
    {
     "name": "stdout",
     "output_type": "stream",
     "text": [
      "327688\n"
     ]
    }
   ],
   "source": [
    "d = Xs[\"train\"][0].shape[0]\n",
    "print(d)"
   ]
  },
  {
   "cell_type": "code",
   "execution_count": 17,
   "metadata": {},
   "outputs": [],
   "source": [
    "# reload the parameters after clearing the GPU RAM\n",
    "params_reloaded = []\n",
    "no_params=6\n",
    "filename_reload = \"./2017datascibowl/DNNHOG32_L3_256b_\"\n",
    "for param_idx in range(no_params):\n",
    "    name_reload = filename_reload+str(param_idx)\n",
    "    param_val = np.load(name_reload)\n",
    "    params_reloaded.append(param_val)"
   ]
  },
  {
   "cell_type": "code",
   "execution_count": 19,
   "metadata": {},
   "outputs": [],
   "source": [
    "Ff_reloaded = Feedforward(3,[d,d/256,d/256,1],activation_fxn=T.nnet.sigmoid,psi_Lm1=T.nnet.sigmoid)\n",
    "Ff_reloaded.__set_state__(*params_reloaded)"
   ]
  },
  {
   "cell_type": "code",
   "execution_count": 22,
   "metadata": {},
   "outputs": [],
   "source": [
    "X=theano.shared( Xs[\"train\"].astype(theano.config.floatX))\n",
    "Ff_reloaded.connect_through(X)\n",
    "\n",
    "DNN_HOG_reloaded = DNN(Ff_reloaded,ys[\"train\"] )\n",
    "\n",
    "DNN_HOG_reloaded.build_J_xent()\n",
    "\n",
    "DNN_HOG_reloaded.build_update(alpha=0.0001)"
   ]
  },
  {
   "cell_type": "code",
   "execution_count": 23,
   "metadata": {},
   "outputs": [
    {
     "name": "stdout",
     "output_type": "stream",
     "text": [
      "theano.config.allow_gc =:  False\n",
      "CPU times: user 342 ms, sys: 580 ms, total: 922 ms\n",
      "Wall time: 919 ms\n"
     ]
    },
    {
     "data": {
      "text/plain": [
       "array([ 0.45656514,  0.45633772])"
      ]
     },
     "execution_count": 23,
     "metadata": {},
     "output_type": "execute_result"
    }
   ],
   "source": [
    "%time DNN_HOG_reloaded.train_model_full(max_iters=2) # CPU times: user 342 ms, sys: 580 ms, total: 922 ms"
   ]
  },
  {
   "cell_type": "code",
   "execution_count": 24,
   "metadata": {},
   "outputs": [
    {
     "name": "stdout",
     "output_type": "stream",
     "text": [
      "theano.config.allow_gc =:  False\n",
      "CPU times: user 34min 38s, sys: 1h 24min 19s, total: 1h 58min 57s\n",
      "Wall time: 1h 58min 56s\n"
     ]
    },
    {
     "data": {
      "text/plain": [
       "array([ 0.45626116,  0.45620534,  0.45615417, ...,  0.30237636,\n",
       "        0.30236885,  0.30236131])"
      ]
     },
     "execution_count": 24,
     "metadata": {},
     "output_type": "execute_result"
    }
   ],
   "source": [
    "%time DNN_HOG_reloaded.train_model_full(max_iters=15000)"
   ]
  },
  {
   "cell_type": "code",
   "execution_count": 25,
   "metadata": {
    "collapsed": true
   },
   "outputs": [],
   "source": [
    "DNN_HOG_reloaded.save_parameters(\"./2017datascibowl/DNNHOG32_L3_256c_\")"
   ]
  },
  {
   "cell_type": "code",
   "execution_count": 26,
   "metadata": {
    "collapsed": true
   },
   "outputs": [],
   "source": [
    "# predictions on validation set\n",
    "DNN_HOG_reloaded.DNN_model.connect_through(theano.shared(Xs[\"valid\"].astype(theano.config.floatX)))\n",
    "\n",
    "yhat_valid = theano.function(inputs=[],outputs=DNN_HOG_reloaded.DNN_model._get_outer_layer_() )()"
   ]
  },
  {
   "cell_type": "code",
   "execution_count": 29,
   "metadata": {},
   "outputs": [
    {
     "data": {
      "text/plain": [
       "0.74124833581329785"
      ]
     },
     "execution_count": 29,
     "metadata": {},
     "output_type": "execute_result"
    }
   ],
   "source": [
    "( (yhat_valid>0.50).astype(theano.config.floatX)==ys[\"valid\"]).mean() # threshold 0.8 0.76991150442477874"
   ]
  },
  {
   "cell_type": "code",
   "execution_count": 33,
   "metadata": {},
   "outputs": [
    {
     "ename": "MemoryError",
     "evalue": "('Error allocating 663240512 bytes of device memory (CNMEM_STATUS_OUT_OF_MEMORY).', \"you might consider using 'theano.shared(..., borrow=True)'\")",
     "output_type": "error",
     "traceback": [
      "\u001b[1;31m---------------------------------------------------------------------------\u001b[0m",
      "\u001b[1;31mMemoryError\u001b[0m                               Traceback (most recent call last)",
      "\u001b[1;32m<ipython-input-33-f09afd21e572>\u001b[0m in \u001b[0;36m<module>\u001b[1;34m()\u001b[0m\n\u001b[1;32m----> 1\u001b[1;33m \u001b[0mDNN_HOG_reloaded\u001b[0m\u001b[1;33m.\u001b[0m\u001b[0mDNN_model\u001b[0m\u001b[1;33m.\u001b[0m\u001b[0mconnect_through\u001b[0m\u001b[1;33m(\u001b[0m\u001b[0mtheano\u001b[0m\u001b[1;33m.\u001b[0m\u001b[0mshared\u001b[0m\u001b[1;33m(\u001b[0m \u001b[0mpatients_sample2_vecs\u001b[0m\u001b[1;33m.\u001b[0m\u001b[0mastype\u001b[0m\u001b[1;33m(\u001b[0m\u001b[0mtheano\u001b[0m\u001b[1;33m.\u001b[0m\u001b[0mconfig\u001b[0m\u001b[1;33m.\u001b[0m\u001b[0mfloatX\u001b[0m\u001b[1;33m)\u001b[0m\u001b[1;33m)\u001b[0m\u001b[1;33m)\u001b[0m\u001b[1;33m\u001b[0m\u001b[0m\n\u001b[0m",
      "\u001b[1;32m/home/topolo/PropD/Theano/theano/compile/sharedvalue.pyc\u001b[0m in \u001b[0;36mshared\u001b[1;34m(value, name, strict, allow_downcast, **kwargs)\u001b[0m\n\u001b[0;32m    266\u001b[0m             \u001b[1;32mtry\u001b[0m\u001b[1;33m:\u001b[0m\u001b[1;33m\u001b[0m\u001b[0m\n\u001b[0;32m    267\u001b[0m                 var = ctor(value, name=name, strict=strict,\n\u001b[1;32m--> 268\u001b[1;33m                            allow_downcast=allow_downcast, **kwargs)\n\u001b[0m\u001b[0;32m    269\u001b[0m                 \u001b[0mutils\u001b[0m\u001b[1;33m.\u001b[0m\u001b[0madd_tag_trace\u001b[0m\u001b[1;33m(\u001b[0m\u001b[0mvar\u001b[0m\u001b[1;33m)\u001b[0m\u001b[1;33m\u001b[0m\u001b[0m\n\u001b[0;32m    270\u001b[0m                 \u001b[1;32mreturn\u001b[0m \u001b[0mvar\u001b[0m\u001b[1;33m\u001b[0m\u001b[0m\n",
      "\u001b[1;32m/home/topolo/PropD/Theano/theano/sandbox/cuda/var.pyc\u001b[0m in \u001b[0;36mfloat32_shared_constructor\u001b[1;34m(value, name, strict, allow_downcast, borrow, broadcastable, target)\u001b[0m\n\u001b[0;32m    186\u001b[0m         \u001b[1;31m# type.broadcastable is guaranteed to be a tuple, which this next\u001b[0m\u001b[1;33m\u001b[0m\u001b[1;33m\u001b[0m\u001b[0m\n\u001b[0;32m    187\u001b[0m         \u001b[1;31m# function requires\u001b[0m\u001b[1;33m\u001b[0m\u001b[1;33m\u001b[0m\u001b[0m\n\u001b[1;32m--> 188\u001b[1;33m         \u001b[0mdeviceval\u001b[0m \u001b[1;33m=\u001b[0m \u001b[0mtype_support_filter\u001b[0m\u001b[1;33m(\u001b[0m\u001b[0mvalue\u001b[0m\u001b[1;33m,\u001b[0m \u001b[0mtype\u001b[0m\u001b[1;33m.\u001b[0m\u001b[0mbroadcastable\u001b[0m\u001b[1;33m,\u001b[0m \u001b[0mFalse\u001b[0m\u001b[1;33m,\u001b[0m \u001b[0mNone\u001b[0m\u001b[1;33m)\u001b[0m\u001b[1;33m\u001b[0m\u001b[0m\n\u001b[0m\u001b[0;32m    189\u001b[0m \u001b[1;33m\u001b[0m\u001b[0m\n\u001b[0;32m    190\u001b[0m     \u001b[1;32mtry\u001b[0m\u001b[1;33m:\u001b[0m\u001b[1;33m\u001b[0m\u001b[0m\n",
      "\u001b[1;31mMemoryError\u001b[0m: ('Error allocating 663240512 bytes of device memory (CNMEM_STATUS_OUT_OF_MEMORY).', \"you might consider using 'theano.shared(..., borrow=True)'\")"
     ]
    }
   ],
   "source": [
    "DNN_HOG_reloaded.DNN_model.connect_through(theano.shared( patients_sample2_vecs.astype(theano.config.floatX)))"
   ]
  },
  {
   "cell_type": "code",
   "execution_count": 15,
   "metadata": {
    "collapsed": true
   },
   "outputs": [],
   "source": [
    "# reload the parameters after clearing the GPU RAM\n",
    "params_reloaded = []\n",
    "no_params=6\n",
    "filename_reload = \"./2017datascibowl/DNNHOG32_L3_256c_\"\n",
    "for param_idx in range(no_params):\n",
    "    name_reload = filename_reload+str(param_idx)\n",
    "    param_val = np.load(name_reload)\n",
    "    params_reloaded.append(param_val)"
   ]
  },
  {
   "cell_type": "code",
   "execution_count": 18,
   "metadata": {},
   "outputs": [],
   "source": [
    "Ff_reloaded = Feedforward(3,[d,d/256,d/256,1],activation_fxn=T.nnet.sigmoid,psi_Lm1=T.nnet.sigmoid)\n",
    "Ff_reloaded.__set_state__(*params_reloaded)"
   ]
  },
  {
   "cell_type": "code",
   "execution_count": 19,
   "metadata": {},
   "outputs": [
    {
     "data": {
      "text/plain": [
       "sigmoid.0"
      ]
     },
     "execution_count": 19,
     "metadata": {},
     "output_type": "execute_result"
    }
   ],
   "source": [
    "Ff_reloaded.connect_through(theano.shared( patients_sample2_vecs.astype(theano.config.floatX)))"
   ]
  },
  {
   "cell_type": "code",
   "execution_count": 22,
   "metadata": {},
   "outputs": [],
   "source": [
    "yhat_sample2 = theano.function(inputs=[],outputs=Ff_reloaded._get_outer_layer_() )()\n",
    "\n",
    "sample2_out = pd.DataFrame(zip(stage2_sample_submission_csv['id'].as_matrix(),yhat_sample2.flatten()))\n",
    "sample2_out.columns=[\"id\",\"cancer\"]"
   ]
  },
  {
   "cell_type": "code",
   "execution_count": 23,
   "metadata": {
    "collapsed": true
   },
   "outputs": [],
   "source": [
    "sample2_out.to_csv(\"./2017datascibowl/sample2submit05_L3_256.csv\",index=False)"
   ]
  },
  {
   "cell_type": "markdown",
   "metadata": {
    "collapsed": true
   },
   "source": [
    "# L=3, train to rest ratio$= +0.595$"
   ]
  },
  {
   "cell_type": "code",
   "execution_count": 12,
   "metadata": {},
   "outputs": [],
   "source": [
    "# reload the parameters after clearing the GPU RAM\n",
    "params_reloaded = []\n",
    "no_params=6\n",
    "filename_reload = \"./2017datascibowl/DNNHOG32_L3_256b_\"\n",
    "for param_idx in range(no_params):\n",
    "    name_reload = filename_reload+str(param_idx)\n",
    "    param_val = np.load(name_reload)\n",
    "    params_reloaded.append(param_val)"
   ]
  },
  {
   "cell_type": "code",
   "execution_count": 13,
   "metadata": {},
   "outputs": [
    {
     "name": "stdout",
     "output_type": "stream",
     "text": [
      "327688\n"
     ]
    }
   ],
   "source": [
    "patient_ids, ys,Xs=prepare_inputX(\"stage1_HOG32\",0.635,0.2)  # 0.615\n",
    "\n",
    "d = Xs[\"train\"][0].shape[0]\n",
    "print(d)"
   ]
  },
  {
   "cell_type": "code",
   "execution_count": 15,
   "metadata": {
    "collapsed": true
   },
   "outputs": [],
   "source": [
    "Ff_reloaded = Feedforward(3,[d,d/256,d/256,1],activation_fxn=T.nnet.sigmoid,psi_Lm1=T.nnet.sigmoid)\n",
    "Ff_reloaded.__set_state__(*params_reloaded)"
   ]
  },
  {
   "cell_type": "code",
   "execution_count": 16,
   "metadata": {
    "collapsed": true
   },
   "outputs": [],
   "source": [
    "X=theano.shared( Xs[\"train\"].astype(theano.config.floatX))\n",
    "Ff_reloaded.connect_through(X)\n",
    "\n",
    "DNN_HOG_reloaded = DNN(Ff_reloaded,ys[\"train\"] )\n",
    "\n",
    "DNN_HOG_reloaded.build_J_xent()\n",
    "\n",
    "DNN_HOG_reloaded.build_update(alpha=0.0001)"
   ]
  },
  {
   "cell_type": "code",
   "execution_count": 17,
   "metadata": {},
   "outputs": [
    {
     "name": "stdout",
     "output_type": "stream",
     "text": [
      "theano.config.allow_gc =:  False\n",
      "CPU times: user 0 ns, sys: 383 ms, total: 383 ms\n",
      "Wall time: 1 s\n"
     ]
    },
    {
     "data": {
      "text/plain": [
       "array([ 0.41254067,  0.41235557])"
      ]
     },
     "execution_count": 17,
     "metadata": {},
     "output_type": "execute_result"
    }
   ],
   "source": [
    "%time DNN_HOG_reloaded.train_model_full(max_iters=2) # "
   ]
  },
  {
   "cell_type": "code",
   "execution_count": 18,
   "metadata": {},
   "outputs": [
    {
     "name": "stdout",
     "output_type": "stream",
     "text": [
      "theano.config.allow_gc =:  False\n",
      "CPU times: user 21min 52s, sys: 55min 52s, total: 1h 17min 44s\n",
      "Wall time: 1h 17min 43s\n"
     ]
    },
    {
     "data": {
      "text/plain": [
       "array([ 0.47579074,  0.47573674,  0.4756839 , ...,  0.36137226,\n",
       "        0.36136359,  0.36135498])"
      ]
     },
     "execution_count": 18,
     "metadata": {},
     "output_type": "execute_result"
    }
   ],
   "source": [
    "%time DNN_HOG_reloaded.train_model_full(max_iters=10000)"
   ]
  },
  {
   "cell_type": "code",
   "execution_count": 19,
   "metadata": {
    "collapsed": true
   },
   "outputs": [],
   "source": [
    "DNN_HOG_reloaded.save_parameters(\"./2017datascibowl/DNNHOG32_L3_256d_\")"
   ]
  },
  {
   "cell_type": "code",
   "execution_count": 20,
   "metadata": {
    "collapsed": true
   },
   "outputs": [],
   "source": [
    "# predictions on validation set\n",
    "DNN_HOG_reloaded.DNN_model.connect_through(theano.shared(Xs[\"valid\"].astype(theano.config.floatX)))\n",
    "\n",
    "yhat_valid = theano.function(inputs=[],outputs=DNN_HOG_reloaded.DNN_model._get_outer_layer_() )()"
   ]
  },
  {
   "cell_type": "code",
   "execution_count": 23,
   "metadata": {},
   "outputs": [
    {
     "data": {
      "text/plain": [
       "0.70757271377412878"
      ]
     },
     "execution_count": 23,
     "metadata": {},
     "output_type": "execute_result"
    }
   ],
   "source": [
    "( (yhat_valid>0.50).astype(theano.config.floatX)==ys[\"valid\"]).mean() # threshold 0.8 0.7289719626168224"
   ]
  },
  {
   "cell_type": "code",
   "execution_count": 24,
   "metadata": {
    "collapsed": true
   },
   "outputs": [],
   "source": [
    "# predictions on test set\n",
    "DNN_HOG_reloaded.DNN_model.connect_through(theano.shared(Xs[\"test\"].astype(theano.config.floatX)))\n",
    "\n",
    "yhat_test = theano.function(inputs=[],outputs=DNN_HOG_reloaded.DNN_model._get_outer_layer_() )()"
   ]
  },
  {
   "cell_type": "code",
   "execution_count": 27,
   "metadata": {},
   "outputs": [
    {
     "data": {
      "text/plain": [
       "0.7158607027309285"
      ]
     },
     "execution_count": 27,
     "metadata": {},
     "output_type": "execute_result"
    }
   ],
   "source": [
    "( (yhat_test>0.50).astype(theano.config.floatX)==ys[\"test\"]).mean() # threshold 0.8 0.72764466168894437"
   ]
  },
  {
   "cell_type": "code",
   "execution_count": 21,
   "metadata": {
    "collapsed": true
   },
   "outputs": [],
   "source": [
    "# reload the parameters after clearing the GPU RAM\n",
    "params_reloaded = []\n",
    "no_params=6\n",
    "filename_reload = \"./2017datascibowl/DNNHOG32_L3_256d_\"\n",
    "for param_idx in range(no_params):\n",
    "    name_reload = filename_reload+str(param_idx)\n",
    "    param_val = np.load(name_reload)\n",
    "    params_reloaded.append(param_val)"
   ]
  },
  {
   "cell_type": "code",
   "execution_count": 24,
   "metadata": {},
   "outputs": [
    {
     "name": "stdout",
     "output_type": "stream",
     "text": [
      "theano.config.allow_gc =:  False\n",
      "CPU times: user 12min 43s, sys: 30min 11s, total: 42min 55s\n",
      "Wall time: 42min 55s\n"
     ]
    },
    {
     "data": {
      "text/plain": [
       "array([ 0.41232234,  0.41229433,  0.41226661, ...,  0.35503957,\n",
       "        0.35503042,  0.35502127])"
      ]
     },
     "execution_count": 24,
     "metadata": {},
     "output_type": "execute_result"
    }
   ],
   "source": [
    "%time DNN_HOG_reloaded.train_model_full(max_iters=5000)"
   ]
  },
  {
   "cell_type": "code",
   "execution_count": 25,
   "metadata": {
    "collapsed": true
   },
   "outputs": [],
   "source": [
    "DNN_HOG_reloaded.save_parameters(\"./2017datascibowl/DNNHOG32_L3_256e_\")"
   ]
  },
  {
   "cell_type": "code",
   "execution_count": 26,
   "metadata": {
    "collapsed": true
   },
   "outputs": [],
   "source": [
    "# predictions on validation set\n",
    "DNN_HOG_reloaded.DNN_model.connect_through(theano.shared(Xs[\"valid\"].astype(theano.config.floatX)))\n",
    "\n",
    "yhat_valid = theano.function(inputs=[],outputs=DNN_HOG_reloaded.DNN_model._get_outer_layer_() )()"
   ]
  },
  {
   "cell_type": "code",
   "execution_count": 28,
   "metadata": {},
   "outputs": [
    {
     "data": {
      "text/plain": [
       "0.74990388312187617"
      ]
     },
     "execution_count": 28,
     "metadata": {},
     "output_type": "execute_result"
    }
   ],
   "source": [
    "( (yhat_valid>0.50).astype(theano.config.floatX)==ys[\"valid\"]).mean() # threshold 0.8 0.74990388312187617"
   ]
  },
  {
   "cell_type": "code",
   "execution_count": 33,
   "metadata": {},
   "outputs": [
    {
     "name": "stdout",
     "output_type": "stream",
     "text": [
      "(887, 327688)\n",
      "(887, 327688)\n",
      "[[ 0.  0.  0. ...,  0.  1.  0.]\n",
      " [ 0.  0.  0. ...,  0.  1.  0.]\n",
      " [ 0.  0.  0. ...,  0.  1.  0.]]\n",
      "[[ 0.  0.  0. ...,  0.  1.  0.]\n",
      " [ 0.  0.  0. ...,  0.  1.  0.]\n",
      " [ 0.  0.  0. ...,  0.  1.  0.]]\n"
     ]
    }
   ],
   "source": [
    "print(X.get_value().shape)\n",
    "print(Xs[\"train\"].shape)\n",
    "print(X.get_value()[:3]);\n",
    "print(Xs[\"train\"][:3]);"
   ]
  },
  {
   "cell_type": "code",
   "execution_count": 34,
   "metadata": {},
   "outputs": [
    {
     "data": {
      "text/plain": [
       "sigmoid.0"
      ]
     },
     "execution_count": 34,
     "metadata": {},
     "output_type": "execute_result"
    }
   ],
   "source": [
    "DNN_HOG_reloaded.DNN_model.connect_through(theano.shared(Xs[\"train\"].astype(theano.config.floatX)))"
   ]
  },
  {
   "cell_type": "code",
   "execution_count": 35,
   "metadata": {
    "collapsed": true
   },
   "outputs": [],
   "source": [
    "DNN_HOG_reloaded.build_J_xent()\n",
    "\n",
    "DNN_HOG_reloaded.build_update(alpha=0.0001)"
   ]
  },
  {
   "cell_type": "code",
   "execution_count": 36,
   "metadata": {},
   "outputs": [
    {
     "name": "stdout",
     "output_type": "stream",
     "text": [
      "theano.config.allow_gc =:  False\n",
      "CPU times: user 4min 47s, sys: 12min 20s, total: 17min 8s\n",
      "Wall time: 17min 8s\n"
     ]
    },
    {
     "data": {
      "text/plain": [
       "array([ 0.35501212,  0.35500294,  0.35499376, ...,  0.33740544,\n",
       "        0.33739692,  0.33738837])"
      ]
     },
     "execution_count": 36,
     "metadata": {},
     "output_type": "execute_result"
    }
   ],
   "source": [
    "%time DNN_HOG_reloaded.train_model_full(max_iters=2000)"
   ]
  },
  {
   "cell_type": "code",
   "execution_count": 37,
   "metadata": {
    "collapsed": true
   },
   "outputs": [],
   "source": [
    "DNN_HOG_reloaded.save_parameters(\"./2017datascibowl/DNNHOG32_L3_256f_\")"
   ]
  },
  {
   "cell_type": "code",
   "execution_count": 38,
   "metadata": {
    "collapsed": true
   },
   "outputs": [],
   "source": [
    "# predictions on validation set\n",
    "DNN_HOG_reloaded.DNN_model.connect_through(theano.shared(Xs[\"valid\"].astype(theano.config.floatX)))\n",
    "\n",
    "yhat_valid = theano.function(inputs=[],outputs=DNN_HOG_reloaded.DNN_model._get_outer_layer_() )()"
   ]
  },
  {
   "cell_type": "code",
   "execution_count": 41,
   "metadata": {},
   "outputs": [
    {
     "data": {
      "text/plain": [
       "0.72491349480968859"
      ]
     },
     "execution_count": 41,
     "metadata": {},
     "output_type": "execute_result"
    }
   ],
   "source": [
    "( (yhat_valid>0.50).astype(theano.config.floatX)==ys[\"valid\"]).mean() # threshold 0.8 0.74990388312187617"
   ]
  },
  {
   "cell_type": "code",
   "execution_count": 43,
   "metadata": {},
   "outputs": [
    {
     "ename": "MemoryError",
     "evalue": "('Error allocating 1162637024 bytes of device memory (CNMEM_STATUS_OUT_OF_MEMORY).', \"you might consider using 'theano.shared(..., borrow=True)'\")",
     "output_type": "error",
     "traceback": [
      "\u001b[1;31m---------------------------------------------------------------------------\u001b[0m",
      "\u001b[1;31mMemoryError\u001b[0m                               Traceback (most recent call last)",
      "\u001b[1;32m<ipython-input-43-d0e875d63ef4>\u001b[0m in \u001b[0;36m<module>\u001b[1;34m()\u001b[0m\n\u001b[1;32m----> 1\u001b[1;33m \u001b[0mDNN_HOG_reloaded\u001b[0m\u001b[1;33m.\u001b[0m\u001b[0mDNN_model\u001b[0m\u001b[1;33m.\u001b[0m\u001b[0mconnect_through\u001b[0m\u001b[1;33m(\u001b[0m\u001b[0mtheano\u001b[0m\u001b[1;33m.\u001b[0m\u001b[0mshared\u001b[0m\u001b[1;33m(\u001b[0m\u001b[0mXs\u001b[0m\u001b[1;33m[\u001b[0m\u001b[1;34m\"train\"\u001b[0m\u001b[1;33m]\u001b[0m\u001b[1;33m.\u001b[0m\u001b[0mastype\u001b[0m\u001b[1;33m(\u001b[0m\u001b[0mtheano\u001b[0m\u001b[1;33m.\u001b[0m\u001b[0mconfig\u001b[0m\u001b[1;33m.\u001b[0m\u001b[0mfloatX\u001b[0m\u001b[1;33m)\u001b[0m\u001b[1;33m)\u001b[0m\u001b[1;33m)\u001b[0m\u001b[1;33m\u001b[0m\u001b[0m\n\u001b[0m\u001b[0;32m      2\u001b[0m \u001b[1;33m\u001b[0m\u001b[0m\n\u001b[0;32m      3\u001b[0m \u001b[0mDNN_HOG_reloaded\u001b[0m\u001b[1;33m.\u001b[0m\u001b[0mbuild_J_xent\u001b[0m\u001b[1;33m(\u001b[0m\u001b[1;33m)\u001b[0m\u001b[1;33m\u001b[0m\u001b[0m\n\u001b[0;32m      4\u001b[0m \u001b[1;33m\u001b[0m\u001b[0m\n\u001b[0;32m      5\u001b[0m \u001b[0mDNN_HOG_reloaded\u001b[0m\u001b[1;33m.\u001b[0m\u001b[0mbuild_update\u001b[0m\u001b[1;33m(\u001b[0m\u001b[0malpha\u001b[0m\u001b[1;33m=\u001b[0m\u001b[1;36m0.0001\u001b[0m\u001b[1;33m)\u001b[0m\u001b[1;33m\u001b[0m\u001b[0m\n",
      "\u001b[1;32m/home/topolo/PropD/Theano/theano/compile/sharedvalue.pyc\u001b[0m in \u001b[0;36mshared\u001b[1;34m(value, name, strict, allow_downcast, **kwargs)\u001b[0m\n\u001b[0;32m    266\u001b[0m             \u001b[1;32mtry\u001b[0m\u001b[1;33m:\u001b[0m\u001b[1;33m\u001b[0m\u001b[0m\n\u001b[0;32m    267\u001b[0m                 var = ctor(value, name=name, strict=strict,\n\u001b[1;32m--> 268\u001b[1;33m                            allow_downcast=allow_downcast, **kwargs)\n\u001b[0m\u001b[0;32m    269\u001b[0m                 \u001b[0mutils\u001b[0m\u001b[1;33m.\u001b[0m\u001b[0madd_tag_trace\u001b[0m\u001b[1;33m(\u001b[0m\u001b[0mvar\u001b[0m\u001b[1;33m)\u001b[0m\u001b[1;33m\u001b[0m\u001b[0m\n\u001b[0;32m    270\u001b[0m                 \u001b[1;32mreturn\u001b[0m \u001b[0mvar\u001b[0m\u001b[1;33m\u001b[0m\u001b[0m\n",
      "\u001b[1;32m/home/topolo/PropD/Theano/theano/sandbox/cuda/var.pyc\u001b[0m in \u001b[0;36mfloat32_shared_constructor\u001b[1;34m(value, name, strict, allow_downcast, borrow, broadcastable, target)\u001b[0m\n\u001b[0;32m    186\u001b[0m         \u001b[1;31m# type.broadcastable is guaranteed to be a tuple, which this next\u001b[0m\u001b[1;33m\u001b[0m\u001b[1;33m\u001b[0m\u001b[0m\n\u001b[0;32m    187\u001b[0m         \u001b[1;31m# function requires\u001b[0m\u001b[1;33m\u001b[0m\u001b[1;33m\u001b[0m\u001b[0m\n\u001b[1;32m--> 188\u001b[1;33m         \u001b[0mdeviceval\u001b[0m \u001b[1;33m=\u001b[0m \u001b[0mtype_support_filter\u001b[0m\u001b[1;33m(\u001b[0m\u001b[0mvalue\u001b[0m\u001b[1;33m,\u001b[0m \u001b[0mtype\u001b[0m\u001b[1;33m.\u001b[0m\u001b[0mbroadcastable\u001b[0m\u001b[1;33m,\u001b[0m \u001b[0mFalse\u001b[0m\u001b[1;33m,\u001b[0m \u001b[0mNone\u001b[0m\u001b[1;33m)\u001b[0m\u001b[1;33m\u001b[0m\u001b[0m\n\u001b[0m\u001b[0;32m    189\u001b[0m \u001b[1;33m\u001b[0m\u001b[0m\n\u001b[0;32m    190\u001b[0m     \u001b[1;32mtry\u001b[0m\u001b[1;33m:\u001b[0m\u001b[1;33m\u001b[0m\u001b[0m\n",
      "\u001b[1;31mMemoryError\u001b[0m: ('Error allocating 1162637024 bytes of device memory (CNMEM_STATUS_OUT_OF_MEMORY).', \"you might consider using 'theano.shared(..., borrow=True)'\")"
     ]
    }
   ],
   "source": [
    "DNN_HOG_reloaded.DNN_model.connect_through(theano.shared(Xs[\"train\"].astype(theano.config.floatX)))\n",
    "\n",
    "DNN_HOG_reloaded.build_J_xent()\n",
    "\n",
    "DNN_HOG_reloaded.build_update(alpha=0.0001)"
   ]
  },
  {
   "cell_type": "code",
   "execution_count": 12,
   "metadata": {
    "collapsed": true
   },
   "outputs": [],
   "source": [
    "# reload the parameters after clearing the GPU RAM\n",
    "params_reloaded = []\n",
    "no_params=6\n",
    "filename_reload = \"./2017datascibowl/DNNHOG32_L3_256f_\"\n",
    "for param_idx in range(no_params):\n",
    "    name_reload = filename_reload+str(param_idx)\n",
    "    param_val = np.load(name_reload)\n",
    "    params_reloaded.append(param_val)"
   ]
  },
  {
   "cell_type": "code",
   "execution_count": 13,
   "metadata": {},
   "outputs": [
    {
     "name": "stdout",
     "output_type": "stream",
     "text": [
      "327688\n"
     ]
    }
   ],
   "source": [
    "patient_ids, ys,Xs=prepare_inputX(\"stage1_HOG32\",0.655,0.2)  # 0.615, 0.635\n",
    "\n",
    "d = Xs[\"train\"][0].shape[0]\n",
    "print(d)"
   ]
  },
  {
   "cell_type": "code",
   "execution_count": 14,
   "metadata": {
    "collapsed": true
   },
   "outputs": [],
   "source": [
    "Ff_reloaded = Feedforward(3,[d,d/256,d/256,1],activation_fxn=T.nnet.sigmoid,psi_Lm1=T.nnet.sigmoid)\n",
    "Ff_reloaded.__set_state__(*params_reloaded)"
   ]
  },
  {
   "cell_type": "code",
   "execution_count": 15,
   "metadata": {
    "collapsed": true
   },
   "outputs": [],
   "source": [
    "X=theano.shared( Xs[\"train\"].astype(theano.config.floatX))\n",
    "Ff_reloaded.connect_through(X)\n",
    "\n",
    "DNN_HOG_reloaded = DNN(Ff_reloaded,ys[\"train\"] )\n",
    "\n",
    "DNN_HOG_reloaded.build_J_xent()\n",
    "\n",
    "DNN_HOG_reloaded.build_update(alpha=0.0001)"
   ]
  },
  {
   "cell_type": "code",
   "execution_count": 16,
   "metadata": {},
   "outputs": [
    {
     "name": "stdout",
     "output_type": "stream",
     "text": [
      "theano.config.allow_gc =:  False\n",
      "CPU times: user 3min 36s, sys: 8min 53s, total: 12min 29s\n",
      "Wall time: 12min 29s\n"
     ]
    },
    {
     "data": {
      "text/plain": [
       "array([ 0.38097757,  0.3805989 ,  0.38056234, ...,  0.35795695,\n",
       "        0.35794604,  0.35793516])"
      ]
     },
     "execution_count": 16,
     "metadata": {},
     "output_type": "execute_result"
    }
   ],
   "source": [
    "%time DNN_HOG_reloaded.train_model_full(max_iters=1500)"
   ]
  },
  {
   "cell_type": "code",
   "execution_count": 17,
   "metadata": {
    "collapsed": true
   },
   "outputs": [],
   "source": [
    "DNN_HOG_reloaded.save_parameters(\"./2017datascibowl/DNNHOG32_L3_256g_\")"
   ]
  },
  {
   "cell_type": "code",
   "execution_count": 18,
   "metadata": {
    "collapsed": true
   },
   "outputs": [],
   "source": [
    "# predictions on validation set\n",
    "DNN_HOG_reloaded.DNN_model.connect_through(theano.shared(Xs[\"valid\"].astype(theano.config.floatX)))\n",
    "\n",
    "yhat_valid = theano.function(inputs=[],outputs=DNN_HOG_reloaded.DNN_model._get_outer_layer_() )()"
   ]
  },
  {
   "cell_type": "code",
   "execution_count": 21,
   "metadata": {},
   "outputs": [
    {
     "data": {
      "text/plain": [
       "0.66232638888888884"
      ]
     },
     "execution_count": 21,
     "metadata": {},
     "output_type": "execute_result"
    }
   ],
   "source": [
    "( (yhat_valid>0.50).astype(theano.config.floatX)==ys[\"valid\"]).mean() # threshold 0.8 0.72916666666666663"
   ]
  },
  {
   "cell_type": "code",
   "execution_count": 22,
   "metadata": {
    "collapsed": true
   },
   "outputs": [],
   "source": [
    "# predictions on test set\n",
    "DNN_HOG_reloaded.DNN_model.connect_through(theano.shared(Xs[\"test\"].astype(theano.config.floatX)))\n",
    "\n",
    "yhat_test = theano.function(inputs=[],outputs=DNN_HOG_reloaded.DNN_model._get_outer_layer_() )()"
   ]
  },
  {
   "cell_type": "code",
   "execution_count": 25,
   "metadata": {},
   "outputs": [
    {
     "data": {
      "text/plain": [
       "0.69458240489677581"
      ]
     },
     "execution_count": 25,
     "metadata": {},
     "output_type": "execute_result"
    }
   ],
   "source": [
    "( (yhat_test>0.50).astype(theano.config.floatX)==ys[\"test\"]).mean() # threshold 0.8 0.74741603801444334"
   ]
  },
  {
   "cell_type": "code",
   "execution_count": 29,
   "metadata": {},
   "outputs": [
    {
     "data": {
      "text/plain": [
       "sigmoid.0"
      ]
     },
     "execution_count": 29,
     "metadata": {},
     "output_type": "execute_result"
    }
   ],
   "source": [
    "DNN_HOG_reloaded.DNN_model.connect_through(theano.shared( patients_sample2_vecs.astype(theano.config.floatX)))"
   ]
  },
  {
   "cell_type": "code",
   "execution_count": 30,
   "metadata": {
    "collapsed": true
   },
   "outputs": [],
   "source": [
    "yhat_sample2 = theano.function(inputs=[],outputs=DNN_HOG_reloaded.DNN_model._get_outer_layer_() )()\n",
    "\n",
    "sample2_out = pd.DataFrame(zip(stage2_sample_submission_csv['id'].as_matrix(),yhat_sample2.flatten()))\n",
    "sample2_out.columns=[\"id\",\"cancer\"]"
   ]
  },
  {
   "cell_type": "code",
   "execution_count": 31,
   "metadata": {
    "collapsed": true
   },
   "outputs": [],
   "source": [
    "sample2_out.to_csv(\"./2017datascibowl/sample2submit06_L3_256_066.csv\",index=False)"
   ]
  },
  {
   "cell_type": "code",
   "execution_count": 42,
   "metadata": {},
   "outputs": [
    {
     "name": "stdout",
     "output_type": "stream",
     "text": [
      "[ 0.  0.  0.  1.  1.  0.  1.  0.  0.  0.]\n",
      "[0 0 0 1 1 0 1 0 0 0]\n"
     ]
    }
   ],
   "source": [
    "print(DNN_HOG_reloaded.y.get_value()[:10])\n",
    "print(ys[\"train\"][:10])"
   ]
  },
  {
   "cell_type": "code",
   "execution_count": 22,
   "metadata": {},
   "outputs": [
    {
     "name": "stdout",
     "output_type": "stream",
     "text": [
      "[[ -1.05394311e-02   4.18995507e-03  -2.12602178e-03 ...,   1.23951416e-02\n",
      "    4.43352899e-03   1.26545550e-02]\n",
      " [ -1.40867829e-02   1.24492031e-02  -1.56735536e-02 ...,  -1.64048374e-02\n",
      "   -5.29065821e-03  -1.31486915e-02]\n",
      " [  9.62750334e-03   8.75628181e-03  -7.75774941e-04 ...,   6.71705711e-05\n",
      "   -6.65440504e-03   1.26282685e-02]\n",
      " ..., \n",
      " [  9.62470565e-03   1.42008010e-02  -1.69687513e-02 ...,   9.14281467e-04\n",
      "   -1.16204340e-02   1.68460626e-02]\n",
      " [ -3.80297215e-03   5.01478324e-04  -7.52616161e-03 ...,  -5.15476149e-03\n",
      "   -2.23281421e-03  -2.89960811e-03]\n",
      " [  1.34664727e-02  -2.64157518e-03  -1.10893007e-02 ...,  -1.51445381e-02\n",
      "    1.50058875e-02   1.36591052e-03]]\n",
      "[[ 0.13591398  0.05975517  0.00216788 ...,  0.11721792  0.17021373\n",
      "   0.12387137]\n",
      " [ 0.18551475 -0.07370686  0.10704312 ...,  0.12297633  0.03753624\n",
      "   0.06093714]\n",
      " [-0.07069941 -0.17607622 -0.05969213 ..., -0.08114195  0.08655923\n",
      "  -0.09912383]\n",
      " ..., \n",
      " [-0.03615148 -0.06664355  0.18831345 ...,  0.1776958   0.1222437\n",
      "   0.14410536]\n",
      " [ 0.16230944  0.03704982  0.04771241 ...,  0.13605502  0.05308732\n",
      "   0.10281823]\n",
      " [-0.16344711 -0.15765999  0.12361822 ...,  0.05752134  0.01395508\n",
      "  -0.0770214 ]]\n"
     ]
    }
   ],
   "source": [
    "print(params_reloaded[0]); print(params_reloaded[2])"
   ]
  },
  {
   "cell_type": "code",
   "execution_count": 23,
   "metadata": {},
   "outputs": [
    {
     "name": "stdout",
     "output_type": "stream",
     "text": [
      "[[ -1.05394311e-02   4.18996345e-03  -2.12602108e-03 ...,   1.23951416e-02\n",
      "    4.43352619e-03   1.26545578e-02]\n",
      " [ -1.40867829e-02   1.24492003e-02  -1.56735536e-02 ...,  -1.64048374e-02\n",
      "   -5.29065728e-03  -1.31486924e-02]\n",
      " [  9.62750334e-03   8.75628088e-03  -7.75774941e-04 ...,   6.71705639e-05\n",
      "   -6.65440410e-03   1.26282685e-02]\n",
      " ..., \n",
      " [  9.62470565e-03   1.42008010e-02  -1.69687513e-02 ...,   9.14281467e-04\n",
      "   -1.16204340e-02   1.68460626e-02]\n",
      " [ -3.80297098e-03   5.01571631e-04  -7.52615789e-03 ...,  -5.15476009e-03\n",
      "   -2.23284052e-03  -2.89956946e-03]\n",
      " [  1.34664727e-02  -2.64157518e-03  -1.10893007e-02 ...,  -1.51445381e-02\n",
      "    1.50058875e-02   1.36591052e-03]]\n",
      "[[ 0.13591398  0.05975512  0.00216788 ...,  0.1172179   0.17021368\n",
      "   0.12387137]\n",
      " [ 0.18551475 -0.07370693  0.10704312 ...,  0.12297631  0.03753618\n",
      "   0.06093714]\n",
      " [-0.07069941 -0.17607625 -0.05969213 ..., -0.08114197  0.08655919\n",
      "  -0.09912383]\n",
      " ..., \n",
      " [-0.03615148 -0.06664355  0.18831345 ...,  0.1776958   0.1222437\n",
      "   0.14410536]\n",
      " [ 0.16230944  0.03704983  0.04771241 ...,  0.13605502  0.05308732\n",
      "   0.10281823]\n",
      " [-0.16344711 -0.15766005  0.12361822 ...,  0.05752132  0.01395503\n",
      "  -0.0770214 ]]\n"
     ]
    }
   ],
   "source": [
    "print( DNN_HOG_reloaded.DNN_model.__get_state__()['params'][0].get_value() )\n",
    "print( DNN_HOG_reloaded.DNN_model.__get_state__()['params'][2].get_value() )\n",
    "\n"
   ]
  },
  {
   "cell_type": "code",
   "execution_count": null,
   "metadata": {
    "collapsed": true
   },
   "outputs": [],
   "source": []
  }
 ],
 "metadata": {
  "kernelspec": {
   "display_name": "Python 2",
   "language": "python",
   "name": "python2"
  },
  "language_info": {
   "codemirror_mode": {
    "name": "ipython",
    "version": 2
   },
   "file_extension": ".py",
   "mimetype": "text/x-python",
   "name": "python",
   "nbconvert_exporter": "python",
   "pygments_lexer": "ipython2",
   "version": "2.7.13"
  }
 },
 "nbformat": 4,
 "nbformat_minor": 1
}
