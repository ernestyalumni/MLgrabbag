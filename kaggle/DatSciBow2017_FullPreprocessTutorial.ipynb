{
 "cells": [
  {
   "cell_type": "markdown",
   "metadata": {},
   "source": [
    "# Data, Data Science Bowl 2017  \n",
    "cf. https://www.kaggle.com/c/data-science-bowl-2017/data\n",
    "\n",
    "I had to `sudo dnf install p7zip` and install `p7zip` (yet another software repo) just to extract the images.  \n",
    "\n",
    "* `data_password.txt.zip` - contains decryption key for the image files; needed to extract.  9$kAsfpQ*FtH \n",
    "* **`sample_images.7z`** - smaller subset of full dataset, provided for people who wish to preview images before large file `stage1.7z`, File size 781.39 MB"
   ]
  },
  {
   "cell_type": "code",
   "execution_count": 1,
   "metadata": {},
   "outputs": [
    {
     "data": {
      "text/plain": [
       "['2017datascibowl',\n",
       " 'data_password.txt',\n",
       " 'LSTM_model201702271930.save',\n",
       " 'cleaning_dueSigmaFin.pyc',\n",
       " 'LSTM_model201702280608.save',\n",
       " '.ipynb_checkpoints',\n",
       " 'dueSigmaFinancial_kaggle.py',\n",
       " 'LSTM_model.save',\n",
       " 'LSTM_model201703012346.save',\n",
       " 'DatSciBow2017_FullPreprocessTutorial.ipynb',\n",
       " 'LSTM_model201702282350.save',\n",
       " 'GRU_model201703022010.save',\n",
       " 'DueSigmaFin_runs.ipynb',\n",
       " 'ImagePreprocessing.ipynb',\n",
       " 'dueSigmaFinancial_local.ipynb',\n",
       " 'GRU_model201703012348.save',\n",
       " 'GRU_model201703050709.save',\n",
       " 'GRU_model201703021741.save',\n",
       " 'kaggle.ipynb',\n",
       " 'glass.csv',\n",
       " 'DatSciBow2017_SVM.ipynb',\n",
       " '__init__.py',\n",
       " 'train.h5',\n",
       " 'dueSigmaFinancial_local_GRUs.ipynb',\n",
       " 'cleaning_dueSigmaFin.py']"
      ]
     },
     "execution_count": 1,
     "metadata": {},
     "output_type": "execute_result"
    }
   ],
   "source": [
    "import os, sys\n",
    "os.getcwd()\n",
    "os.listdir( os.getcwd() ) "
   ]
  },
  {
   "cell_type": "code",
   "execution_count": 7,
   "metadata": {},
   "outputs": [
    {
     "data": {
      "text/plain": [
       "['0d2fcf787026fece4e57be167d079383',\n",
       " '0a0c32c9e08cc2ea76a71649de56be6d',\n",
       " '0de72529c30fe642bc60dcb75c87f6bd',\n",
       " '0b20184e0cd497028bdd155d9fb42dc9',\n",
       " '00cba091fa4ad62cc3200a657aeb957e',\n",
       " '0acbebb8d463b4b9ca88cf38431aac69',\n",
       " '0c0de3749d4fe175b7a5098b060982a1',\n",
       " '0ca943d821204ceb089510f836a367fd',\n",
       " '0d19f1c627df49eb223771c28548350e',\n",
       " '0ddeb08e9c97227853422bd71a2a695e',\n",
       " '0c98fcb55e3f36d0c2b6507f62f4c5f1',\n",
       " '0a38e7597ca26f9374f8ea2770ba870d',\n",
       " '0a099f2549429d29b32f349e95fb2244',\n",
       " '0c59313f52304e25d5a7dcf9877633b1',\n",
       " '0c9d8314f9c69840e25febabb1229fa4',\n",
       " '0c37613214faddf8701ca41e6d43f56e',\n",
       " '0d941a3ad6c889ac451caf89c46cb92a',\n",
       " '0d06d764d3c07572074d468b4cff954f',\n",
       " '0bd0e3056cbf23a1cb7f0f0b18446068',\n",
       " '0c60f4b87afcb3e2dfa65abbbf3ef2f9']"
      ]
     },
     "execution_count": 7,
     "metadata": {},
     "output_type": "execute_result"
    }
   ],
   "source": [
    "os.listdir( os.getcwd() + \"/2017datascibowl/sample_images/\") "
   ]
  },
  {
   "cell_type": "code",
   "execution_count": 9,
   "metadata": {},
   "outputs": [
    {
     "data": {
      "text/plain": [
       "'/home/topolo/PropD/MLgrabbag/kaggle'"
      ]
     },
     "execution_count": 9,
     "metadata": {},
     "output_type": "execute_result"
    }
   ],
   "source": [
    "os.getcwd()"
   ]
  },
  {
   "cell_type": "markdown",
   "metadata": {},
   "source": [
    "cf. [Full Preprocessing Tutorial](https://www.kaggle.com/jyotiislam/data-science-bowl-2017/full-preprocessing-tutorial)"
   ]
  },
  {
   "cell_type": "code",
   "execution_count": 2,
   "metadata": {
    "collapsed": true
   },
   "outputs": [],
   "source": [
    "%matplotlib inline"
   ]
  },
  {
   "cell_type": "code",
   "execution_count": 3,
   "metadata": {},
   "outputs": [],
   "source": [
    "import numpy as np # linear algebra\n",
    "import pandas as pd # data processing, CSV file I/O (e.g. pd.read_csv)\n",
    "import dicom\n",
    "import os\n",
    "import scipy.ndimage\n",
    "import matplotlib.pyplot as plt"
   ]
  },
  {
   "cell_type": "code",
   "execution_count": 45,
   "metadata": {
    "collapsed": true
   },
   "outputs": [],
   "source": [
    "from skimage import measure, morphology\n",
    "from mpl_toolkits.mplot3d.art3d import Poly3DCollection"
   ]
  },
  {
   "cell_type": "code",
   "execution_count": 3,
   "metadata": {},
   "outputs": [],
   "source": [
    "# Some constants\n",
    "INPUT_FOLDER = './2017datascibowl/sample_images/'\n",
    "patients=os.listdir(INPUT_FOLDER)\n",
    "patients.sort()"
   ]
  },
  {
   "cell_type": "code",
   "execution_count": 13,
   "metadata": {},
   "outputs": [
    {
     "data": {
      "text/plain": [
       "['00cba091fa4ad62cc3200a657aeb957e',\n",
       " '0a099f2549429d29b32f349e95fb2244',\n",
       " '0a0c32c9e08cc2ea76a71649de56be6d',\n",
       " '0a38e7597ca26f9374f8ea2770ba870d',\n",
       " '0acbebb8d463b4b9ca88cf38431aac69',\n",
       " '0b20184e0cd497028bdd155d9fb42dc9',\n",
       " '0bd0e3056cbf23a1cb7f0f0b18446068',\n",
       " '0c0de3749d4fe175b7a5098b060982a1',\n",
       " '0c37613214faddf8701ca41e6d43f56e',\n",
       " '0c59313f52304e25d5a7dcf9877633b1',\n",
       " '0c60f4b87afcb3e2dfa65abbbf3ef2f9',\n",
       " '0c98fcb55e3f36d0c2b6507f62f4c5f1',\n",
       " '0c9d8314f9c69840e25febabb1229fa4',\n",
       " '0ca943d821204ceb089510f836a367fd',\n",
       " '0d06d764d3c07572074d468b4cff954f',\n",
       " '0d19f1c627df49eb223771c28548350e',\n",
       " '0d2fcf787026fece4e57be167d079383',\n",
       " '0d941a3ad6c889ac451caf89c46cb92a',\n",
       " '0ddeb08e9c97227853422bd71a2a695e',\n",
       " '0de72529c30fe642bc60dcb75c87f6bd']"
      ]
     },
     "execution_count": 13,
     "metadata": {},
     "output_type": "execute_result"
    }
   ],
   "source": [
    "patients"
   ]
  },
  {
   "cell_type": "markdown",
   "metadata": {},
   "source": [
    "# Loading the files"
   ]
  },
  {
   "cell_type": "code",
   "execution_count": 14,
   "metadata": {
    "collapsed": true
   },
   "outputs": [],
   "source": [
    "# Load the scans in given folder path\n",
    "def load_scan(path):\n",
    "    \"\"\"\n",
    "    INPUTS/ARGUMENTS \n",
    "    ================\n",
    "    @type path : Python string\n",
    "    \n",
    "    @type slices : Python list (for each file in a folder/directory of dicom.dataset.FileDataset  \n",
    "    each is a slice of the single patient's lung\n",
    "    \"\"\"\n",
    "    slices = [dicom.read_file(path + '/' + s) for s in os.listdir(path)]\n",
    "    slices.sort(key = lambda x: float(x.ImagePositionPatient[2]))\n",
    "    try:\n",
    "        slice_thickness = np.abs(slices[0].ImagePositionPatient[2] - slices[1].ImagePositionPatient[2])\n",
    "    except:\n",
    "        slice_thickness = np.abs(slices[0].SliceLocation - slices[1].SliceLocation)\n",
    "        \n",
    "    for s in slices:\n",
    "        s.SliceThickness = slice_thickness\n",
    "        \n",
    "    return slices"
   ]
  },
  {
   "cell_type": "code",
   "execution_count": 69,
   "metadata": {
    "collapsed": true
   },
   "outputs": [],
   "source": [
    "image_test = np.stack([s.pixel_array for s in load_scan(INPUT_FOLDER+patients[0])])"
   ]
  },
  {
   "cell_type": "code",
   "execution_count": 71,
   "metadata": {},
   "outputs": [
    {
     "name": "stdout",
     "output_type": "stream",
     "text": [
      "(134, 512, 512)\n",
      "int16\n"
     ]
    }
   ],
   "source": [
    "print(image_test.shape);print(image_test.dtype)"
   ]
  },
  {
   "cell_type": "code",
   "execution_count": 72,
   "metadata": {},
   "outputs": [
    {
     "data": {
      "text/html": [
       "<div>\n",
       "<table border=\"1\" class=\"dataframe\">\n",
       "  <thead>\n",
       "    <tr style=\"text-align: right;\">\n",
       "      <th></th>\n",
       "      <th>0</th>\n",
       "      <th>1</th>\n",
       "      <th>2</th>\n",
       "      <th>3</th>\n",
       "      <th>4</th>\n",
       "      <th>5</th>\n",
       "      <th>6</th>\n",
       "      <th>7</th>\n",
       "      <th>8</th>\n",
       "      <th>9</th>\n",
       "      <th>...</th>\n",
       "      <th>502</th>\n",
       "      <th>503</th>\n",
       "      <th>504</th>\n",
       "      <th>505</th>\n",
       "      <th>506</th>\n",
       "      <th>507</th>\n",
       "      <th>508</th>\n",
       "      <th>509</th>\n",
       "      <th>510</th>\n",
       "      <th>511</th>\n",
       "    </tr>\n",
       "  </thead>\n",
       "  <tbody>\n",
       "    <tr>\n",
       "      <th>count</th>\n",
       "      <td>512.000000</td>\n",
       "      <td>512.000000</td>\n",
       "      <td>512.000000</td>\n",
       "      <td>512.000000</td>\n",
       "      <td>512.000000</td>\n",
       "      <td>512.000000</td>\n",
       "      <td>512.000000</td>\n",
       "      <td>512.000000</td>\n",
       "      <td>512.000000</td>\n",
       "      <td>512.000000</td>\n",
       "      <td>...</td>\n",
       "      <td>512.000000</td>\n",
       "      <td>512.000000</td>\n",
       "      <td>512.000000</td>\n",
       "      <td>512.000000</td>\n",
       "      <td>512.000000</td>\n",
       "      <td>512.000000</td>\n",
       "      <td>512.000000</td>\n",
       "      <td>512.000000</td>\n",
       "      <td>512.000000</td>\n",
       "      <td>512.000000</td>\n",
       "    </tr>\n",
       "    <tr>\n",
       "      <th>mean</th>\n",
       "      <td>-1817.480469</td>\n",
       "      <td>-1687.929688</td>\n",
       "      <td>-1600.953125</td>\n",
       "      <td>-1523.867188</td>\n",
       "      <td>-1467.464844</td>\n",
       "      <td>-1413.097656</td>\n",
       "      <td>-1359.531250</td>\n",
       "      <td>-1316.011719</td>\n",
       "      <td>-1271.882812</td>\n",
       "      <td>-1227.421875</td>\n",
       "      <td>...</td>\n",
       "      <td>-1234.949219</td>\n",
       "      <td>-1278.269531</td>\n",
       "      <td>-1321.933594</td>\n",
       "      <td>-1366.171875</td>\n",
       "      <td>-1419.917969</td>\n",
       "      <td>-1472.910156</td>\n",
       "      <td>-1527.789062</td>\n",
       "      <td>-1602.140625</td>\n",
       "      <td>-1686.277344</td>\n",
       "      <td>-1816.578125</td>\n",
       "    </tr>\n",
       "    <tr>\n",
       "      <th>std</th>\n",
       "      <td>707.955168</td>\n",
       "      <td>893.832547</td>\n",
       "      <td>991.304186</td>\n",
       "      <td>1065.634957</td>\n",
       "      <td>1114.995762</td>\n",
       "      <td>1155.741711</td>\n",
       "      <td>1191.352015</td>\n",
       "      <td>1217.971285</td>\n",
       "      <td>1243.673746</td>\n",
       "      <td>1267.897664</td>\n",
       "      <td>...</td>\n",
       "      <td>1257.301007</td>\n",
       "      <td>1234.392217</td>\n",
       "      <td>1209.006865</td>\n",
       "      <td>1180.214144</td>\n",
       "      <td>1143.906186</td>\n",
       "      <td>1104.989222</td>\n",
       "      <td>1057.894768</td>\n",
       "      <td>988.719528</td>\n",
       "      <td>897.840990</td>\n",
       "      <td>711.176932</td>\n",
       "    </tr>\n",
       "    <tr>\n",
       "      <th>min</th>\n",
       "      <td>-2000.000000</td>\n",
       "      <td>-2000.000000</td>\n",
       "      <td>-2000.000000</td>\n",
       "      <td>-2000.000000</td>\n",
       "      <td>-2000.000000</td>\n",
       "      <td>-2000.000000</td>\n",
       "      <td>-2000.000000</td>\n",
       "      <td>-2000.000000</td>\n",
       "      <td>-2000.000000</td>\n",
       "      <td>-2000.000000</td>\n",
       "      <td>...</td>\n",
       "      <td>-2000.000000</td>\n",
       "      <td>-2000.000000</td>\n",
       "      <td>-2000.000000</td>\n",
       "      <td>-2000.000000</td>\n",
       "      <td>-2000.000000</td>\n",
       "      <td>-2000.000000</td>\n",
       "      <td>-2000.000000</td>\n",
       "      <td>-2000.000000</td>\n",
       "      <td>-2000.000000</td>\n",
       "      <td>-2000.000000</td>\n",
       "    </tr>\n",
       "    <tr>\n",
       "      <th>25%</th>\n",
       "      <td>-2000.000000</td>\n",
       "      <td>-2000.000000</td>\n",
       "      <td>-2000.000000</td>\n",
       "      <td>-2000.000000</td>\n",
       "      <td>-2000.000000</td>\n",
       "      <td>-2000.000000</td>\n",
       "      <td>-2000.000000</td>\n",
       "      <td>-2000.000000</td>\n",
       "      <td>-2000.000000</td>\n",
       "      <td>-2000.000000</td>\n",
       "      <td>...</td>\n",
       "      <td>-2000.000000</td>\n",
       "      <td>-2000.000000</td>\n",
       "      <td>-2000.000000</td>\n",
       "      <td>-2000.000000</td>\n",
       "      <td>-2000.000000</td>\n",
       "      <td>-2000.000000</td>\n",
       "      <td>-2000.000000</td>\n",
       "      <td>-2000.000000</td>\n",
       "      <td>-2000.000000</td>\n",
       "      <td>-2000.000000</td>\n",
       "    </tr>\n",
       "    <tr>\n",
       "      <th>50%</th>\n",
       "      <td>-2000.000000</td>\n",
       "      <td>-2000.000000</td>\n",
       "      <td>-2000.000000</td>\n",
       "      <td>-2000.000000</td>\n",
       "      <td>-2000.000000</td>\n",
       "      <td>-2000.000000</td>\n",
       "      <td>-2000.000000</td>\n",
       "      <td>-2000.000000</td>\n",
       "      <td>-2000.000000</td>\n",
       "      <td>-2000.000000</td>\n",
       "      <td>...</td>\n",
       "      <td>-2000.000000</td>\n",
       "      <td>-2000.000000</td>\n",
       "      <td>-2000.000000</td>\n",
       "      <td>-2000.000000</td>\n",
       "      <td>-2000.000000</td>\n",
       "      <td>-2000.000000</td>\n",
       "      <td>-2000.000000</td>\n",
       "      <td>-2000.000000</td>\n",
       "      <td>-2000.000000</td>\n",
       "      <td>-2000.000000</td>\n",
       "    </tr>\n",
       "    <tr>\n",
       "      <th>75%</th>\n",
       "      <td>-2000.000000</td>\n",
       "      <td>-2000.000000</td>\n",
       "      <td>-2000.000000</td>\n",
       "      <td>-2000.000000</td>\n",
       "      <td>-2000.000000</td>\n",
       "      <td>-2000.000000</td>\n",
       "      <td>-2000.000000</td>\n",
       "      <td>-2000.000000</td>\n",
       "      <td>58.500000</td>\n",
       "      <td>178.000000</td>\n",
       "      <td>...</td>\n",
       "      <td>101.500000</td>\n",
       "      <td>28.500000</td>\n",
       "      <td>-2000.000000</td>\n",
       "      <td>-2000.000000</td>\n",
       "      <td>-2000.000000</td>\n",
       "      <td>-2000.000000</td>\n",
       "      <td>-2000.000000</td>\n",
       "      <td>-2000.000000</td>\n",
       "      <td>-2000.000000</td>\n",
       "      <td>-2000.000000</td>\n",
       "    </tr>\n",
       "    <tr>\n",
       "      <th>max</th>\n",
       "      <td>1062.000000</td>\n",
       "      <td>1090.000000</td>\n",
       "      <td>1068.000000</td>\n",
       "      <td>1076.000000</td>\n",
       "      <td>1076.000000</td>\n",
       "      <td>1084.000000</td>\n",
       "      <td>1118.000000</td>\n",
       "      <td>1110.000000</td>\n",
       "      <td>1118.000000</td>\n",
       "      <td>1070.000000</td>\n",
       "      <td>...</td>\n",
       "      <td>1070.000000</td>\n",
       "      <td>1040.000000</td>\n",
       "      <td>1046.000000</td>\n",
       "      <td>1108.000000</td>\n",
       "      <td>1032.000000</td>\n",
       "      <td>1076.000000</td>\n",
       "      <td>1092.000000</td>\n",
       "      <td>1070.000000</td>\n",
       "      <td>1018.000000</td>\n",
       "      <td>1038.000000</td>\n",
       "    </tr>\n",
       "  </tbody>\n",
       "</table>\n",
       "<p>8 rows × 512 columns</p>\n",
       "</div>"
      ],
      "text/plain": [
       "               0            1            2            3            4    \\\n",
       "count   512.000000   512.000000   512.000000   512.000000   512.000000   \n",
       "mean  -1817.480469 -1687.929688 -1600.953125 -1523.867188 -1467.464844   \n",
       "std     707.955168   893.832547   991.304186  1065.634957  1114.995762   \n",
       "min   -2000.000000 -2000.000000 -2000.000000 -2000.000000 -2000.000000   \n",
       "25%   -2000.000000 -2000.000000 -2000.000000 -2000.000000 -2000.000000   \n",
       "50%   -2000.000000 -2000.000000 -2000.000000 -2000.000000 -2000.000000   \n",
       "75%   -2000.000000 -2000.000000 -2000.000000 -2000.000000 -2000.000000   \n",
       "max    1062.000000  1090.000000  1068.000000  1076.000000  1076.000000   \n",
       "\n",
       "               5            6            7            8            9    \\\n",
       "count   512.000000   512.000000   512.000000   512.000000   512.000000   \n",
       "mean  -1413.097656 -1359.531250 -1316.011719 -1271.882812 -1227.421875   \n",
       "std    1155.741711  1191.352015  1217.971285  1243.673746  1267.897664   \n",
       "min   -2000.000000 -2000.000000 -2000.000000 -2000.000000 -2000.000000   \n",
       "25%   -2000.000000 -2000.000000 -2000.000000 -2000.000000 -2000.000000   \n",
       "50%   -2000.000000 -2000.000000 -2000.000000 -2000.000000 -2000.000000   \n",
       "75%   -2000.000000 -2000.000000 -2000.000000    58.500000   178.000000   \n",
       "max    1084.000000  1118.000000  1110.000000  1118.000000  1070.000000   \n",
       "\n",
       "          ...               502          503          504          505  \\\n",
       "count     ...        512.000000   512.000000   512.000000   512.000000   \n",
       "mean      ...      -1234.949219 -1278.269531 -1321.933594 -1366.171875   \n",
       "std       ...       1257.301007  1234.392217  1209.006865  1180.214144   \n",
       "min       ...      -2000.000000 -2000.000000 -2000.000000 -2000.000000   \n",
       "25%       ...      -2000.000000 -2000.000000 -2000.000000 -2000.000000   \n",
       "50%       ...      -2000.000000 -2000.000000 -2000.000000 -2000.000000   \n",
       "75%       ...        101.500000    28.500000 -2000.000000 -2000.000000   \n",
       "max       ...       1070.000000  1040.000000  1046.000000  1108.000000   \n",
       "\n",
       "               506          507          508          509          510  \\\n",
       "count   512.000000   512.000000   512.000000   512.000000   512.000000   \n",
       "mean  -1419.917969 -1472.910156 -1527.789062 -1602.140625 -1686.277344   \n",
       "std    1143.906186  1104.989222  1057.894768   988.719528   897.840990   \n",
       "min   -2000.000000 -2000.000000 -2000.000000 -2000.000000 -2000.000000   \n",
       "25%   -2000.000000 -2000.000000 -2000.000000 -2000.000000 -2000.000000   \n",
       "50%   -2000.000000 -2000.000000 -2000.000000 -2000.000000 -2000.000000   \n",
       "75%   -2000.000000 -2000.000000 -2000.000000 -2000.000000 -2000.000000   \n",
       "max    1032.000000  1076.000000  1092.000000  1070.000000  1018.000000   \n",
       "\n",
       "               511  \n",
       "count   512.000000  \n",
       "mean  -1816.578125  \n",
       "std     711.176932  \n",
       "min   -2000.000000  \n",
       "25%   -2000.000000  \n",
       "50%   -2000.000000  \n",
       "75%   -2000.000000  \n",
       "max    1038.000000  \n",
       "\n",
       "[8 rows x 512 columns]"
      ]
     },
     "execution_count": 72,
     "metadata": {},
     "output_type": "execute_result"
    }
   ],
   "source": [
    "pd.DataFrame( image_test[0]).describe()"
   ]
  },
  {
   "cell_type": "code",
   "execution_count": 73,
   "metadata": {},
   "outputs": [
    {
     "data": {
      "text/html": [
       "<div>\n",
       "<table border=\"1\" class=\"dataframe\">\n",
       "  <thead>\n",
       "    <tr style=\"text-align: right;\">\n",
       "      <th></th>\n",
       "      <th>0</th>\n",
       "      <th>1</th>\n",
       "      <th>2</th>\n",
       "      <th>3</th>\n",
       "      <th>4</th>\n",
       "      <th>5</th>\n",
       "      <th>6</th>\n",
       "      <th>7</th>\n",
       "      <th>8</th>\n",
       "      <th>9</th>\n",
       "      <th>...</th>\n",
       "      <th>502</th>\n",
       "      <th>503</th>\n",
       "      <th>504</th>\n",
       "      <th>505</th>\n",
       "      <th>506</th>\n",
       "      <th>507</th>\n",
       "      <th>508</th>\n",
       "      <th>509</th>\n",
       "      <th>510</th>\n",
       "      <th>511</th>\n",
       "    </tr>\n",
       "  </thead>\n",
       "  <tbody>\n",
       "    <tr>\n",
       "      <th>count</th>\n",
       "      <td>512.000000</td>\n",
       "      <td>512.000000</td>\n",
       "      <td>512.000000</td>\n",
       "      <td>512.000000</td>\n",
       "      <td>512.000000</td>\n",
       "      <td>512.000000</td>\n",
       "      <td>512.000000</td>\n",
       "      <td>512.000000</td>\n",
       "      <td>512.000000</td>\n",
       "      <td>512.000000</td>\n",
       "      <td>...</td>\n",
       "      <td>512.000000</td>\n",
       "      <td>512.000000</td>\n",
       "      <td>512.000000</td>\n",
       "      <td>512.000000</td>\n",
       "      <td>512.000000</td>\n",
       "      <td>512.000000</td>\n",
       "      <td>512.000000</td>\n",
       "      <td>512.000000</td>\n",
       "      <td>512.000000</td>\n",
       "      <td>512.000000</td>\n",
       "    </tr>\n",
       "    <tr>\n",
       "      <th>mean</th>\n",
       "      <td>-1820.785156</td>\n",
       "      <td>-1693.468750</td>\n",
       "      <td>-1605.542969</td>\n",
       "      <td>-1526.933594</td>\n",
       "      <td>-1469.355469</td>\n",
       "      <td>-1413.863281</td>\n",
       "      <td>-1360.519531</td>\n",
       "      <td>-1316.566406</td>\n",
       "      <td>-1272.644531</td>\n",
       "      <td>-1228.250000</td>\n",
       "      <td>...</td>\n",
       "      <td>-1234.457031</td>\n",
       "      <td>-1277.929688</td>\n",
       "      <td>-1321.339844</td>\n",
       "      <td>-1366.078125</td>\n",
       "      <td>-1420.300781</td>\n",
       "      <td>-1474.128906</td>\n",
       "      <td>-1528.585938</td>\n",
       "      <td>-1602.785156</td>\n",
       "      <td>-1687.871094</td>\n",
       "      <td>-1816.843750</td>\n",
       "    </tr>\n",
       "    <tr>\n",
       "      <th>std</th>\n",
       "      <td>696.348879</td>\n",
       "      <td>880.072154</td>\n",
       "      <td>981.704601</td>\n",
       "      <td>1059.962254</td>\n",
       "      <td>1111.883407</td>\n",
       "      <td>1155.108780</td>\n",
       "      <td>1190.254072</td>\n",
       "      <td>1217.500664</td>\n",
       "      <td>1242.583521</td>\n",
       "      <td>1266.651168</td>\n",
       "      <td>...</td>\n",
       "      <td>1257.511898</td>\n",
       "      <td>1234.274330</td>\n",
       "      <td>1209.383344</td>\n",
       "      <td>1180.197301</td>\n",
       "      <td>1143.005183</td>\n",
       "      <td>1102.343928</td>\n",
       "      <td>1056.282430</td>\n",
       "      <td>987.581466</td>\n",
       "      <td>894.045774</td>\n",
       "      <td>710.258754</td>\n",
       "    </tr>\n",
       "    <tr>\n",
       "      <th>min</th>\n",
       "      <td>-2000.000000</td>\n",
       "      <td>-2000.000000</td>\n",
       "      <td>-2000.000000</td>\n",
       "      <td>-2000.000000</td>\n",
       "      <td>-2000.000000</td>\n",
       "      <td>-2000.000000</td>\n",
       "      <td>-2000.000000</td>\n",
       "      <td>-2000.000000</td>\n",
       "      <td>-2000.000000</td>\n",
       "      <td>-2000.000000</td>\n",
       "      <td>...</td>\n",
       "      <td>-2000.000000</td>\n",
       "      <td>-2000.000000</td>\n",
       "      <td>-2000.000000</td>\n",
       "      <td>-2000.000000</td>\n",
       "      <td>-2000.000000</td>\n",
       "      <td>-2000.000000</td>\n",
       "      <td>-2000.000000</td>\n",
       "      <td>-2000.000000</td>\n",
       "      <td>-2000.000000</td>\n",
       "      <td>-2000.000000</td>\n",
       "    </tr>\n",
       "    <tr>\n",
       "      <th>25%</th>\n",
       "      <td>-2000.000000</td>\n",
       "      <td>-2000.000000</td>\n",
       "      <td>-2000.000000</td>\n",
       "      <td>-2000.000000</td>\n",
       "      <td>-2000.000000</td>\n",
       "      <td>-2000.000000</td>\n",
       "      <td>-2000.000000</td>\n",
       "      <td>-2000.000000</td>\n",
       "      <td>-2000.000000</td>\n",
       "      <td>-2000.000000</td>\n",
       "      <td>...</td>\n",
       "      <td>-2000.000000</td>\n",
       "      <td>-2000.000000</td>\n",
       "      <td>-2000.000000</td>\n",
       "      <td>-2000.000000</td>\n",
       "      <td>-2000.000000</td>\n",
       "      <td>-2000.000000</td>\n",
       "      <td>-2000.000000</td>\n",
       "      <td>-2000.000000</td>\n",
       "      <td>-2000.000000</td>\n",
       "      <td>-2000.000000</td>\n",
       "    </tr>\n",
       "    <tr>\n",
       "      <th>50%</th>\n",
       "      <td>-2000.000000</td>\n",
       "      <td>-2000.000000</td>\n",
       "      <td>-2000.000000</td>\n",
       "      <td>-2000.000000</td>\n",
       "      <td>-2000.000000</td>\n",
       "      <td>-2000.000000</td>\n",
       "      <td>-2000.000000</td>\n",
       "      <td>-2000.000000</td>\n",
       "      <td>-2000.000000</td>\n",
       "      <td>-2000.000000</td>\n",
       "      <td>...</td>\n",
       "      <td>-2000.000000</td>\n",
       "      <td>-2000.000000</td>\n",
       "      <td>-2000.000000</td>\n",
       "      <td>-2000.000000</td>\n",
       "      <td>-2000.000000</td>\n",
       "      <td>-2000.000000</td>\n",
       "      <td>-2000.000000</td>\n",
       "      <td>-2000.000000</td>\n",
       "      <td>-2000.000000</td>\n",
       "      <td>-2000.000000</td>\n",
       "    </tr>\n",
       "    <tr>\n",
       "      <th>75%</th>\n",
       "      <td>-2000.000000</td>\n",
       "      <td>-2000.000000</td>\n",
       "      <td>-2000.000000</td>\n",
       "      <td>-2000.000000</td>\n",
       "      <td>-2000.000000</td>\n",
       "      <td>-2000.000000</td>\n",
       "      <td>-2000.000000</td>\n",
       "      <td>-2000.000000</td>\n",
       "      <td>51.000000</td>\n",
       "      <td>165.000000</td>\n",
       "      <td>...</td>\n",
       "      <td>129.500000</td>\n",
       "      <td>42.000000</td>\n",
       "      <td>-2000.000000</td>\n",
       "      <td>-2000.000000</td>\n",
       "      <td>-2000.000000</td>\n",
       "      <td>-2000.000000</td>\n",
       "      <td>-2000.000000</td>\n",
       "      <td>-2000.000000</td>\n",
       "      <td>-2000.000000</td>\n",
       "      <td>-2000.000000</td>\n",
       "    </tr>\n",
       "    <tr>\n",
       "      <th>max</th>\n",
       "      <td>1070.000000</td>\n",
       "      <td>1048.000000</td>\n",
       "      <td>1088.000000</td>\n",
       "      <td>1136.000000</td>\n",
       "      <td>1072.000000</td>\n",
       "      <td>1090.000000</td>\n",
       "      <td>1080.000000</td>\n",
       "      <td>1102.000000</td>\n",
       "      <td>1070.000000</td>\n",
       "      <td>1108.000000</td>\n",
       "      <td>...</td>\n",
       "      <td>1044.000000</td>\n",
       "      <td>1074.000000</td>\n",
       "      <td>1042.000000</td>\n",
       "      <td>1040.000000</td>\n",
       "      <td>1042.000000</td>\n",
       "      <td>1050.000000</td>\n",
       "      <td>1072.000000</td>\n",
       "      <td>1086.000000</td>\n",
       "      <td>1064.000000</td>\n",
       "      <td>1064.000000</td>\n",
       "    </tr>\n",
       "  </tbody>\n",
       "</table>\n",
       "<p>8 rows × 512 columns</p>\n",
       "</div>"
      ],
      "text/plain": [
       "               0            1            2            3            4    \\\n",
       "count   512.000000   512.000000   512.000000   512.000000   512.000000   \n",
       "mean  -1820.785156 -1693.468750 -1605.542969 -1526.933594 -1469.355469   \n",
       "std     696.348879   880.072154   981.704601  1059.962254  1111.883407   \n",
       "min   -2000.000000 -2000.000000 -2000.000000 -2000.000000 -2000.000000   \n",
       "25%   -2000.000000 -2000.000000 -2000.000000 -2000.000000 -2000.000000   \n",
       "50%   -2000.000000 -2000.000000 -2000.000000 -2000.000000 -2000.000000   \n",
       "75%   -2000.000000 -2000.000000 -2000.000000 -2000.000000 -2000.000000   \n",
       "max    1070.000000  1048.000000  1088.000000  1136.000000  1072.000000   \n",
       "\n",
       "               5            6            7            8            9    \\\n",
       "count   512.000000   512.000000   512.000000   512.000000   512.000000   \n",
       "mean  -1413.863281 -1360.519531 -1316.566406 -1272.644531 -1228.250000   \n",
       "std    1155.108780  1190.254072  1217.500664  1242.583521  1266.651168   \n",
       "min   -2000.000000 -2000.000000 -2000.000000 -2000.000000 -2000.000000   \n",
       "25%   -2000.000000 -2000.000000 -2000.000000 -2000.000000 -2000.000000   \n",
       "50%   -2000.000000 -2000.000000 -2000.000000 -2000.000000 -2000.000000   \n",
       "75%   -2000.000000 -2000.000000 -2000.000000    51.000000   165.000000   \n",
       "max    1090.000000  1080.000000  1102.000000  1070.000000  1108.000000   \n",
       "\n",
       "          ...               502          503          504          505  \\\n",
       "count     ...        512.000000   512.000000   512.000000   512.000000   \n",
       "mean      ...      -1234.457031 -1277.929688 -1321.339844 -1366.078125   \n",
       "std       ...       1257.511898  1234.274330  1209.383344  1180.197301   \n",
       "min       ...      -2000.000000 -2000.000000 -2000.000000 -2000.000000   \n",
       "25%       ...      -2000.000000 -2000.000000 -2000.000000 -2000.000000   \n",
       "50%       ...      -2000.000000 -2000.000000 -2000.000000 -2000.000000   \n",
       "75%       ...        129.500000    42.000000 -2000.000000 -2000.000000   \n",
       "max       ...       1044.000000  1074.000000  1042.000000  1040.000000   \n",
       "\n",
       "               506          507          508          509          510  \\\n",
       "count   512.000000   512.000000   512.000000   512.000000   512.000000   \n",
       "mean  -1420.300781 -1474.128906 -1528.585938 -1602.785156 -1687.871094   \n",
       "std    1143.005183  1102.343928  1056.282430   987.581466   894.045774   \n",
       "min   -2000.000000 -2000.000000 -2000.000000 -2000.000000 -2000.000000   \n",
       "25%   -2000.000000 -2000.000000 -2000.000000 -2000.000000 -2000.000000   \n",
       "50%   -2000.000000 -2000.000000 -2000.000000 -2000.000000 -2000.000000   \n",
       "75%   -2000.000000 -2000.000000 -2000.000000 -2000.000000 -2000.000000   \n",
       "max    1042.000000  1050.000000  1072.000000  1086.000000  1064.000000   \n",
       "\n",
       "               511  \n",
       "count   512.000000  \n",
       "mean  -1816.843750  \n",
       "std     710.258754  \n",
       "min   -2000.000000  \n",
       "25%   -2000.000000  \n",
       "50%   -2000.000000  \n",
       "75%   -2000.000000  \n",
       "max    1064.000000  \n",
       "\n",
       "[8 rows x 512 columns]"
      ]
     },
     "execution_count": 73,
     "metadata": {},
     "output_type": "execute_result"
    }
   ],
   "source": [
    "pd.DataFrame( image_test[1]).describe()"
   ]
  },
  {
   "cell_type": "code",
   "execution_count": 74,
   "metadata": {},
   "outputs": [
    {
     "data": {
      "text/plain": [
       "134"
      ]
     },
     "execution_count": 74,
     "metadata": {},
     "output_type": "execute_result"
    }
   ],
   "source": [
    "len(image_test == -2000) # set outside-of-scan pixels to 0 "
   ]
  },
  {
   "cell_type": "code",
   "execution_count": 75,
   "metadata": {},
   "outputs": [
    {
     "name": "stdout",
     "output_type": "stream",
     "text": [
      "-2000\n"
     ]
    }
   ],
   "source": [
    "print( image_test.min() )"
   ]
  },
  {
   "cell_type": "markdown",
   "metadata": {},
   "source": [
    "$N_x=512$, so $N_x\\in \\mathbb{Z}^+$      \n",
    "$N_y=512$, so $N_y\\in \\mathbb{Z}^+$   \n",
    "For each patient, $m_{\\text{slice}} \\in \\mathbb{Z}^+$ represents the number of \"slices\", image \"slices\" of the single patient's lung.  \n",
    "\n",
    "So first make, for each patient, $(i_{\\text{slice}}, P_{\\text{arr}}) \\in \\lbrace 0,1,\\dots m_{\\text{slice}}-1  \\rbrace \\times \\mathbb{K}^{N_x \\times N_y } $"
   ]
  },
  {
   "cell_type": "code",
   "execution_count": 37,
   "metadata": {
    "collapsed": true
   },
   "outputs": [],
   "source": [
    "def get_pixels_hu(slices):\n",
    "    \"\"\"\n",
    "    INPUTS/ARGUMENTS\n",
    "    ================\n",
    "    @type slices : Python list of dicom.dataset.FileDataset, \n",
    "    @param slices : each dicom.dataset.FileDataset representing an image \"slice\" of a single patient's lung\n",
    "    \"\"\"\n",
    "    image = np.stack([s.pixel_array for s in slices]) # np.array image.shape (134,512,512)\n",
    "    # Convert to int16 (from sometimes int16),\n",
    "    # should be possible as values should always be low enough (<32k)\n",
    "    image = image.astype(np.int16)\n",
    "    \n",
    "    # Set outside-of-scan pixels to 0\n",
    "    # The intercept is usually -1024, so air is approximately 0\n",
    "    # suggested by Henry Wolf to avoid -2048 values\n",
    "    outside_of_image_val = image.min()\n",
    "    image[image == outside_of_image_val] = 0 \n",
    "    \n",
    "    image[image == -2000] = 0 \n",
    "    \n",
    "    # Convert to Hounsfield units (HU)\n",
    "    for slice_number in range(len(slices)):\n",
    "        \n",
    "        intercept = slices[slice_number].RescaleIntercept\n",
    "        slope = slices[slice_number].RescaleSlope\n",
    "        \n",
    "        if slope != 1:\n",
    "            image[slice_number] = slope * image[slice_number].astype(np.float64)\n",
    "            image[slice_number] = image[slice_number].astype(np.int16)\n",
    "            \n",
    "        image[slice_number] += np.int16(intercept)\n",
    "        \n",
    "    return np.array(image, dtype=np.int16)"
   ]
  },
  {
   "cell_type": "markdown",
   "metadata": {},
   "source": [
    "Let's take a look at 1 of the patients."
   ]
  },
  {
   "cell_type": "code",
   "execution_count": 57,
   "metadata": {},
   "outputs": [
    {
     "data": {
      "text/plain": [
       "'00cba091fa4ad62cc3200a657aeb957e'"
      ]
     },
     "execution_count": 57,
     "metadata": {},
     "output_type": "execute_result"
    }
   ],
   "source": [
    "patients[0]"
   ]
  },
  {
   "cell_type": "code",
   "execution_count": 58,
   "metadata": {},
   "outputs": [],
   "source": [
    "first_patient = load_scan(INPUT_FOLDER + patients[0])"
   ]
  },
  {
   "cell_type": "code",
   "execution_count": 59,
   "metadata": {},
   "outputs": [
    {
     "name": "stdout",
     "output_type": "stream",
     "text": [
      "<type 'list'>\n",
      "134\n",
      "<class 'dicom.dataset.FileDataset'>\n",
      "<type 'numpy.ndarray'>\n",
      "(512, 512)\n"
     ]
    }
   ],
   "source": [
    "print(type(first_patient));print(len(first_patient));print(type(first_patient[0]))\n",
    "print(type(first_patient[0].pixel_array)); print(first_patient[0].pixel_array.shape)"
   ]
  },
  {
   "cell_type": "code",
   "execution_count": 94,
   "metadata": {},
   "outputs": [
    {
     "data": {
      "text/plain": [
       "(0008, 0005) Specific Character Set              CS: 'ISO_IR 100'\n",
       "(0008, 0016) SOP Class UID                       UI: CT Image Storage\n",
       "(0008, 0018) SOP Instance UID                    UI: 1.2.840.113654.2.55.247817952625791837963403492891187883824\n",
       "(0008, 0060) Modality                            CS: 'CT'\n",
       "(0008, 103e) Series Description                  LO: 'Axial'\n",
       "(0010, 0010) Patient's Name                      PN: '00cba091fa4ad62cc3200a657aeb957e'\n",
       "(0010, 0020) Patient ID                          LO: '00cba091fa4ad62cc3200a657aeb957e'\n",
       "(0010, 0030) Patient's Birth Date                DA: '19000101'\n",
       "(0018, 0050) Slice Thickness                     DS: '2.5'\n",
       "(0018, 0060) KVP                                 DS: ''\n",
       "(0020, 000d) Study Instance UID                  UI: 2.25.86208730140539712382771890501772734277950692397709007305473\n",
       "(0020, 000e) Series Instance UID                 UI: 2.25.11575877329635228925808596800269974740893519451784626046614\n",
       "(0020, 0011) Series Number                       IS: '3'\n",
       "(0020, 0012) Acquisition Number                  IS: '1'\n",
       "(0020, 0013) Instance Number                     IS: '134'\n",
       "(0020, 0020) Patient Orientation                 CS: ''\n",
       "(0020, 0032) Image Position (Patient)            DS: ['-145.500000', '-158.199997', '-356.200012']\n",
       "(0020, 0037) Image Orientation (Patient)         DS: ['1.000000', '0.000000', '0.000000', '0.000000', '1.000000', '0.000000']\n",
       "(0020, 0052) Frame of Reference UID              UI: 2.25.83033509634441686385652073462983801840121916678417719669650\n",
       "(0020, 1040) Position Reference Indicator        LO: 'SN'\n",
       "(0020, 1041) Slice Location                      DS: '-356.200012'\n",
       "(0028, 0002) Samples per Pixel                   US: 1\n",
       "(0028, 0004) Photometric Interpretation          CS: 'MONOCHROME2'\n",
       "(0028, 0010) Rows                                US: 512\n",
       "(0028, 0011) Columns                             US: 512\n",
       "(0028, 0030) Pixel Spacing                       DS: ['0.597656', '0.597656']\n",
       "(0028, 0100) Bits Allocated                      US: 16\n",
       "(0028, 0101) Bits Stored                         US: 16\n",
       "(0028, 0102) High Bit                            US: 15\n",
       "(0028, 0103) Pixel Representation                US: 1\n",
       "(0028, 0120) Pixel Padding Value                 US: 63536\n",
       "(0028, 1050) Window Center                       DS: '40'\n",
       "(0028, 1051) Window Width                        DS: '400'\n",
       "(0028, 1052) Rescale Intercept                   DS: '-1024'\n",
       "(0028, 1053) Rescale Slope                       DS: '1'\n",
       "(7fe0, 0010) Pixel Data                          OW: Array of 524288 bytes"
      ]
     },
     "execution_count": 94,
     "metadata": {},
     "output_type": "execute_result"
    }
   ],
   "source": [
    "first_patient[0]"
   ]
  },
  {
   "cell_type": "code",
   "execution_count": 95,
   "metadata": {},
   "outputs": [
    {
     "data": {
      "text/plain": [
       "['AcquisitionNumber',\n",
       " 'BitsAllocated',\n",
       " 'BitsStored',\n",
       " 'Columns',\n",
       " 'FrameOfReferenceUID',\n",
       " 'HighBit',\n",
       " 'ImageOrientationPatient',\n",
       " 'ImagePositionPatient',\n",
       " 'InstanceNumber',\n",
       " 'KVP',\n",
       " 'Modality',\n",
       " 'PatientBirthDate',\n",
       " 'PatientID',\n",
       " 'PatientName',\n",
       " 'PatientOrientation',\n",
       " 'PhotometricInterpretation',\n",
       " 'PixelData',\n",
       " 'PixelPaddingValue',\n",
       " 'PixelRepresentation',\n",
       " 'PixelSpacing',\n",
       " 'PositionReferenceIndicator',\n",
       " 'RescaleIntercept',\n",
       " 'RescaleSlope',\n",
       " 'Rows',\n",
       " 'SOPClassUID',\n",
       " 'SOPInstanceUID',\n",
       " 'SamplesPerPixel',\n",
       " 'SeriesDescription',\n",
       " 'SeriesInstanceUID',\n",
       " 'SeriesNumber',\n",
       " 'SliceLocation',\n",
       " 'SliceThickness',\n",
       " 'SpecificCharacterSet',\n",
       " 'StudyInstanceUID',\n",
       " 'WindowCenter',\n",
       " 'WindowWidth',\n",
       " '__cmp__',\n",
       " '__contains__',\n",
       " '__delattr__',\n",
       " '__delitem__',\n",
       " '__dir__',\n",
       " '__eq__',\n",
       " '__format__',\n",
       " '__ge__',\n",
       " '__getattr__',\n",
       " '__getattribute__',\n",
       " '__getitem__',\n",
       " '__gt__',\n",
       " '__init__',\n",
       " '__iter__',\n",
       " '__le__',\n",
       " '__len__',\n",
       " '__lt__',\n",
       " '__ne__',\n",
       " '__new__',\n",
       " '__reduce__',\n",
       " '__reduce_ex__',\n",
       " '__repr__',\n",
       " '__setattr__',\n",
       " '__setitem__',\n",
       " '__sizeof__',\n",
       " '__str__',\n",
       " '__subclasshook__',\n",
       " '__weakref__',\n",
       " '_character_set',\n",
       " '_get_pixel_array',\n",
       " '_pixel_data_numpy',\n",
       " '_pretty_str',\n",
       " 'add',\n",
       " 'add_new',\n",
       " 'clear',\n",
       " 'copy',\n",
       " 'data_element',\n",
       " 'decode',\n",
       " 'dir',\n",
       " 'formatted_lines',\n",
       " 'fromkeys',\n",
       " 'get',\n",
       " 'get_item',\n",
       " 'group_dataset',\n",
       " 'has_key',\n",
       " 'items',\n",
       " 'iterall',\n",
       " 'iteritems',\n",
       " 'iterkeys',\n",
       " 'itervalues',\n",
       " 'keys',\n",
       " 'pixel_array',\n",
       " 'pop',\n",
       " 'popitem',\n",
       " 'remove_private_tags',\n",
       " 'save_as',\n",
       " 'setdefault',\n",
       " 'top',\n",
       " 'trait_names',\n",
       " 'update',\n",
       " 'values',\n",
       " 'viewitems',\n",
       " 'viewkeys',\n",
       " 'viewvalues',\n",
       " 'walk']"
      ]
     },
     "execution_count": 95,
     "metadata": {},
     "output_type": "execute_result"
    }
   ],
   "source": [
    "dir( first_patient[0] )"
   ]
  },
  {
   "cell_type": "code",
   "execution_count": 59,
   "metadata": {
    "collapsed": true
   },
   "outputs": [],
   "source": [
    "first_patient_pixels = get_pixels_hu(first_patient)"
   ]
  },
  {
   "cell_type": "code",
   "execution_count": 60,
   "metadata": {},
   "outputs": [
    {
     "name": "stdout",
     "output_type": "stream",
     "text": [
      "<type 'numpy.ndarray'>\n",
      "(134, 512, 512)\n"
     ]
    }
   ],
   "source": [
    "print(type(first_patient_pixels));print(first_patient_pixels.shape)"
   ]
  },
  {
   "cell_type": "code",
   "execution_count": 78,
   "metadata": {},
   "outputs": [
    {
     "data": {
      "text/html": [
       "<div>\n",
       "<table border=\"1\" class=\"dataframe\">\n",
       "  <thead>\n",
       "    <tr style=\"text-align: right;\">\n",
       "      <th></th>\n",
       "      <th>0</th>\n",
       "      <th>1</th>\n",
       "      <th>2</th>\n",
       "      <th>3</th>\n",
       "      <th>4</th>\n",
       "      <th>5</th>\n",
       "      <th>6</th>\n",
       "      <th>7</th>\n",
       "      <th>8</th>\n",
       "      <th>9</th>\n",
       "      <th>...</th>\n",
       "      <th>502</th>\n",
       "      <th>503</th>\n",
       "      <th>504</th>\n",
       "      <th>505</th>\n",
       "      <th>506</th>\n",
       "      <th>507</th>\n",
       "      <th>508</th>\n",
       "      <th>509</th>\n",
       "      <th>510</th>\n",
       "      <th>511</th>\n",
       "    </tr>\n",
       "  </thead>\n",
       "  <tbody>\n",
       "    <tr>\n",
       "      <th>count</th>\n",
       "      <td>512.000000</td>\n",
       "      <td>512.000000</td>\n",
       "      <td>512.000000</td>\n",
       "      <td>512.000000</td>\n",
       "      <td>512.000000</td>\n",
       "      <td>512.000000</td>\n",
       "      <td>512.000000</td>\n",
       "      <td>512.000000</td>\n",
       "      <td>512.000000</td>\n",
       "      <td>512.000000</td>\n",
       "      <td>...</td>\n",
       "      <td>512.000000</td>\n",
       "      <td>512.000000</td>\n",
       "      <td>512.000000</td>\n",
       "      <td>512.000000</td>\n",
       "      <td>512.000000</td>\n",
       "      <td>512.000000</td>\n",
       "      <td>512.000000</td>\n",
       "      <td>512.000000</td>\n",
       "      <td>512.000000</td>\n",
       "      <td>512.000000</td>\n",
       "    </tr>\n",
       "    <tr>\n",
       "      <th>mean</th>\n",
       "      <td>-1817.480469</td>\n",
       "      <td>-1687.929688</td>\n",
       "      <td>-1600.953125</td>\n",
       "      <td>-1523.867188</td>\n",
       "      <td>-1467.464844</td>\n",
       "      <td>-1413.097656</td>\n",
       "      <td>-1359.531250</td>\n",
       "      <td>-1316.011719</td>\n",
       "      <td>-1271.882812</td>\n",
       "      <td>-1227.421875</td>\n",
       "      <td>...</td>\n",
       "      <td>-1234.949219</td>\n",
       "      <td>-1278.269531</td>\n",
       "      <td>-1321.933594</td>\n",
       "      <td>-1366.171875</td>\n",
       "      <td>-1419.917969</td>\n",
       "      <td>-1472.910156</td>\n",
       "      <td>-1527.789062</td>\n",
       "      <td>-1602.140625</td>\n",
       "      <td>-1686.277344</td>\n",
       "      <td>-1816.578125</td>\n",
       "    </tr>\n",
       "    <tr>\n",
       "      <th>std</th>\n",
       "      <td>707.955168</td>\n",
       "      <td>893.832547</td>\n",
       "      <td>991.304186</td>\n",
       "      <td>1065.634957</td>\n",
       "      <td>1114.995762</td>\n",
       "      <td>1155.741711</td>\n",
       "      <td>1191.352015</td>\n",
       "      <td>1217.971285</td>\n",
       "      <td>1243.673746</td>\n",
       "      <td>1267.897664</td>\n",
       "      <td>...</td>\n",
       "      <td>1257.301007</td>\n",
       "      <td>1234.392217</td>\n",
       "      <td>1209.006865</td>\n",
       "      <td>1180.214144</td>\n",
       "      <td>1143.906186</td>\n",
       "      <td>1104.989222</td>\n",
       "      <td>1057.894768</td>\n",
       "      <td>988.719528</td>\n",
       "      <td>897.840990</td>\n",
       "      <td>711.176932</td>\n",
       "    </tr>\n",
       "    <tr>\n",
       "      <th>min</th>\n",
       "      <td>-2000.000000</td>\n",
       "      <td>-2000.000000</td>\n",
       "      <td>-2000.000000</td>\n",
       "      <td>-2000.000000</td>\n",
       "      <td>-2000.000000</td>\n",
       "      <td>-2000.000000</td>\n",
       "      <td>-2000.000000</td>\n",
       "      <td>-2000.000000</td>\n",
       "      <td>-2000.000000</td>\n",
       "      <td>-2000.000000</td>\n",
       "      <td>...</td>\n",
       "      <td>-2000.000000</td>\n",
       "      <td>-2000.000000</td>\n",
       "      <td>-2000.000000</td>\n",
       "      <td>-2000.000000</td>\n",
       "      <td>-2000.000000</td>\n",
       "      <td>-2000.000000</td>\n",
       "      <td>-2000.000000</td>\n",
       "      <td>-2000.000000</td>\n",
       "      <td>-2000.000000</td>\n",
       "      <td>-2000.000000</td>\n",
       "    </tr>\n",
       "    <tr>\n",
       "      <th>25%</th>\n",
       "      <td>-2000.000000</td>\n",
       "      <td>-2000.000000</td>\n",
       "      <td>-2000.000000</td>\n",
       "      <td>-2000.000000</td>\n",
       "      <td>-2000.000000</td>\n",
       "      <td>-2000.000000</td>\n",
       "      <td>-2000.000000</td>\n",
       "      <td>-2000.000000</td>\n",
       "      <td>-2000.000000</td>\n",
       "      <td>-2000.000000</td>\n",
       "      <td>...</td>\n",
       "      <td>-2000.000000</td>\n",
       "      <td>-2000.000000</td>\n",
       "      <td>-2000.000000</td>\n",
       "      <td>-2000.000000</td>\n",
       "      <td>-2000.000000</td>\n",
       "      <td>-2000.000000</td>\n",
       "      <td>-2000.000000</td>\n",
       "      <td>-2000.000000</td>\n",
       "      <td>-2000.000000</td>\n",
       "      <td>-2000.000000</td>\n",
       "    </tr>\n",
       "    <tr>\n",
       "      <th>50%</th>\n",
       "      <td>-2000.000000</td>\n",
       "      <td>-2000.000000</td>\n",
       "      <td>-2000.000000</td>\n",
       "      <td>-2000.000000</td>\n",
       "      <td>-2000.000000</td>\n",
       "      <td>-2000.000000</td>\n",
       "      <td>-2000.000000</td>\n",
       "      <td>-2000.000000</td>\n",
       "      <td>-2000.000000</td>\n",
       "      <td>-2000.000000</td>\n",
       "      <td>...</td>\n",
       "      <td>-2000.000000</td>\n",
       "      <td>-2000.000000</td>\n",
       "      <td>-2000.000000</td>\n",
       "      <td>-2000.000000</td>\n",
       "      <td>-2000.000000</td>\n",
       "      <td>-2000.000000</td>\n",
       "      <td>-2000.000000</td>\n",
       "      <td>-2000.000000</td>\n",
       "      <td>-2000.000000</td>\n",
       "      <td>-2000.000000</td>\n",
       "    </tr>\n",
       "    <tr>\n",
       "      <th>75%</th>\n",
       "      <td>-2000.000000</td>\n",
       "      <td>-2000.000000</td>\n",
       "      <td>-2000.000000</td>\n",
       "      <td>-2000.000000</td>\n",
       "      <td>-2000.000000</td>\n",
       "      <td>-2000.000000</td>\n",
       "      <td>-2000.000000</td>\n",
       "      <td>-2000.000000</td>\n",
       "      <td>58.500000</td>\n",
       "      <td>178.000000</td>\n",
       "      <td>...</td>\n",
       "      <td>101.500000</td>\n",
       "      <td>28.500000</td>\n",
       "      <td>-2000.000000</td>\n",
       "      <td>-2000.000000</td>\n",
       "      <td>-2000.000000</td>\n",
       "      <td>-2000.000000</td>\n",
       "      <td>-2000.000000</td>\n",
       "      <td>-2000.000000</td>\n",
       "      <td>-2000.000000</td>\n",
       "      <td>-2000.000000</td>\n",
       "    </tr>\n",
       "    <tr>\n",
       "      <th>max</th>\n",
       "      <td>1062.000000</td>\n",
       "      <td>1090.000000</td>\n",
       "      <td>1068.000000</td>\n",
       "      <td>1076.000000</td>\n",
       "      <td>1076.000000</td>\n",
       "      <td>1084.000000</td>\n",
       "      <td>1118.000000</td>\n",
       "      <td>1110.000000</td>\n",
       "      <td>1118.000000</td>\n",
       "      <td>1070.000000</td>\n",
       "      <td>...</td>\n",
       "      <td>1070.000000</td>\n",
       "      <td>1040.000000</td>\n",
       "      <td>1046.000000</td>\n",
       "      <td>1108.000000</td>\n",
       "      <td>1032.000000</td>\n",
       "      <td>1076.000000</td>\n",
       "      <td>1092.000000</td>\n",
       "      <td>1070.000000</td>\n",
       "      <td>1018.000000</td>\n",
       "      <td>1038.000000</td>\n",
       "    </tr>\n",
       "  </tbody>\n",
       "</table>\n",
       "<p>8 rows × 512 columns</p>\n",
       "</div>"
      ],
      "text/plain": [
       "               0            1            2            3            4    \\\n",
       "count   512.000000   512.000000   512.000000   512.000000   512.000000   \n",
       "mean  -1817.480469 -1687.929688 -1600.953125 -1523.867188 -1467.464844   \n",
       "std     707.955168   893.832547   991.304186  1065.634957  1114.995762   \n",
       "min   -2000.000000 -2000.000000 -2000.000000 -2000.000000 -2000.000000   \n",
       "25%   -2000.000000 -2000.000000 -2000.000000 -2000.000000 -2000.000000   \n",
       "50%   -2000.000000 -2000.000000 -2000.000000 -2000.000000 -2000.000000   \n",
       "75%   -2000.000000 -2000.000000 -2000.000000 -2000.000000 -2000.000000   \n",
       "max    1062.000000  1090.000000  1068.000000  1076.000000  1076.000000   \n",
       "\n",
       "               5            6            7            8            9    \\\n",
       "count   512.000000   512.000000   512.000000   512.000000   512.000000   \n",
       "mean  -1413.097656 -1359.531250 -1316.011719 -1271.882812 -1227.421875   \n",
       "std    1155.741711  1191.352015  1217.971285  1243.673746  1267.897664   \n",
       "min   -2000.000000 -2000.000000 -2000.000000 -2000.000000 -2000.000000   \n",
       "25%   -2000.000000 -2000.000000 -2000.000000 -2000.000000 -2000.000000   \n",
       "50%   -2000.000000 -2000.000000 -2000.000000 -2000.000000 -2000.000000   \n",
       "75%   -2000.000000 -2000.000000 -2000.000000    58.500000   178.000000   \n",
       "max    1084.000000  1118.000000  1110.000000  1118.000000  1070.000000   \n",
       "\n",
       "          ...               502          503          504          505  \\\n",
       "count     ...        512.000000   512.000000   512.000000   512.000000   \n",
       "mean      ...      -1234.949219 -1278.269531 -1321.933594 -1366.171875   \n",
       "std       ...       1257.301007  1234.392217  1209.006865  1180.214144   \n",
       "min       ...      -2000.000000 -2000.000000 -2000.000000 -2000.000000   \n",
       "25%       ...      -2000.000000 -2000.000000 -2000.000000 -2000.000000   \n",
       "50%       ...      -2000.000000 -2000.000000 -2000.000000 -2000.000000   \n",
       "75%       ...        101.500000    28.500000 -2000.000000 -2000.000000   \n",
       "max       ...       1070.000000  1040.000000  1046.000000  1108.000000   \n",
       "\n",
       "               506          507          508          509          510  \\\n",
       "count   512.000000   512.000000   512.000000   512.000000   512.000000   \n",
       "mean  -1419.917969 -1472.910156 -1527.789062 -1602.140625 -1686.277344   \n",
       "std    1143.906186  1104.989222  1057.894768   988.719528   897.840990   \n",
       "min   -2000.000000 -2000.000000 -2000.000000 -2000.000000 -2000.000000   \n",
       "25%   -2000.000000 -2000.000000 -2000.000000 -2000.000000 -2000.000000   \n",
       "50%   -2000.000000 -2000.000000 -2000.000000 -2000.000000 -2000.000000   \n",
       "75%   -2000.000000 -2000.000000 -2000.000000 -2000.000000 -2000.000000   \n",
       "max    1032.000000  1076.000000  1092.000000  1070.000000  1018.000000   \n",
       "\n",
       "               511  \n",
       "count   512.000000  \n",
       "mean  -1816.578125  \n",
       "std     711.176932  \n",
       "min   -2000.000000  \n",
       "25%   -2000.000000  \n",
       "50%   -2000.000000  \n",
       "75%   -2000.000000  \n",
       "max    1038.000000  \n",
       "\n",
       "[8 rows x 512 columns]"
      ]
     },
     "execution_count": 78,
     "metadata": {},
     "output_type": "execute_result"
    }
   ],
   "source": [
    "pd.DataFrame( first_patient[0].pixel_array ).describe()"
   ]
  },
  {
   "cell_type": "code",
   "execution_count": 79,
   "metadata": {},
   "outputs": [
    {
     "data": {
      "text/html": [
       "<div>\n",
       "<table border=\"1\" class=\"dataframe\">\n",
       "  <thead>\n",
       "    <tr style=\"text-align: right;\">\n",
       "      <th></th>\n",
       "      <th>0</th>\n",
       "      <th>1</th>\n",
       "      <th>2</th>\n",
       "      <th>3</th>\n",
       "      <th>4</th>\n",
       "      <th>5</th>\n",
       "      <th>6</th>\n",
       "      <th>7</th>\n",
       "      <th>8</th>\n",
       "      <th>9</th>\n",
       "      <th>...</th>\n",
       "      <th>502</th>\n",
       "      <th>503</th>\n",
       "      <th>504</th>\n",
       "      <th>505</th>\n",
       "      <th>506</th>\n",
       "      <th>507</th>\n",
       "      <th>508</th>\n",
       "      <th>509</th>\n",
       "      <th>510</th>\n",
       "      <th>511</th>\n",
       "    </tr>\n",
       "  </thead>\n",
       "  <tbody>\n",
       "    <tr>\n",
       "      <th>count</th>\n",
       "      <td>512.000000</td>\n",
       "      <td>512.000000</td>\n",
       "      <td>512.000000</td>\n",
       "      <td>512.000000</td>\n",
       "      <td>512.000000</td>\n",
       "      <td>512.000000</td>\n",
       "      <td>512.000000</td>\n",
       "      <td>512.000000</td>\n",
       "      <td>512.000000</td>\n",
       "      <td>512.000000</td>\n",
       "      <td>...</td>\n",
       "      <td>512.000000</td>\n",
       "      <td>512.000000</td>\n",
       "      <td>512.000000</td>\n",
       "      <td>512.000000</td>\n",
       "      <td>512.000000</td>\n",
       "      <td>512.000000</td>\n",
       "      <td>512.000000</td>\n",
       "      <td>512.000000</td>\n",
       "      <td>512.000000</td>\n",
       "      <td>512.000000</td>\n",
       "    </tr>\n",
       "    <tr>\n",
       "      <th>mean</th>\n",
       "      <td>-966.480469</td>\n",
       "      <td>-930.679688</td>\n",
       "      <td>-906.203125</td>\n",
       "      <td>-883.804688</td>\n",
       "      <td>-866.464844</td>\n",
       "      <td>-851.160156</td>\n",
       "      <td>-836.656250</td>\n",
       "      <td>-824.386719</td>\n",
       "      <td>-811.507812</td>\n",
       "      <td>-798.296875</td>\n",
       "      <td>...</td>\n",
       "      <td>-805.824219</td>\n",
       "      <td>-817.894531</td>\n",
       "      <td>-830.308594</td>\n",
       "      <td>-843.296875</td>\n",
       "      <td>-857.980469</td>\n",
       "      <td>-871.910156</td>\n",
       "      <td>-887.726562</td>\n",
       "      <td>-907.390625</td>\n",
       "      <td>-929.027344</td>\n",
       "      <td>-965.578125</td>\n",
       "    </tr>\n",
       "    <tr>\n",
       "      <th>std</th>\n",
       "      <td>224.157330</td>\n",
       "      <td>274.629669</td>\n",
       "      <td>304.335981</td>\n",
       "      <td>328.576139</td>\n",
       "      <td>345.914498</td>\n",
       "      <td>358.437364</td>\n",
       "      <td>369.176445</td>\n",
       "      <td>376.330536</td>\n",
       "      <td>384.415168</td>\n",
       "      <td>392.553492</td>\n",
       "      <td>...</td>\n",
       "      <td>386.340177</td>\n",
       "      <td>379.173388</td>\n",
       "      <td>371.286996</td>\n",
       "      <td>361.194807</td>\n",
       "      <td>350.621332</td>\n",
       "      <td>339.373499</td>\n",
       "      <td>323.425095</td>\n",
       "      <td>302.642898</td>\n",
       "      <td>276.957186</td>\n",
       "      <td>226.777876</td>\n",
       "    </tr>\n",
       "    <tr>\n",
       "      <th>min</th>\n",
       "      <td>-1024.000000</td>\n",
       "      <td>-1024.000000</td>\n",
       "      <td>-1024.000000</td>\n",
       "      <td>-1024.000000</td>\n",
       "      <td>-1024.000000</td>\n",
       "      <td>-1024.000000</td>\n",
       "      <td>-1024.000000</td>\n",
       "      <td>-1024.000000</td>\n",
       "      <td>-1024.000000</td>\n",
       "      <td>-1024.000000</td>\n",
       "      <td>...</td>\n",
       "      <td>-1024.000000</td>\n",
       "      <td>-1024.000000</td>\n",
       "      <td>-1024.000000</td>\n",
       "      <td>-1024.000000</td>\n",
       "      <td>-1024.000000</td>\n",
       "      <td>-1024.000000</td>\n",
       "      <td>-1024.000000</td>\n",
       "      <td>-1024.000000</td>\n",
       "      <td>-1024.000000</td>\n",
       "      <td>-1024.000000</td>\n",
       "    </tr>\n",
       "    <tr>\n",
       "      <th>25%</th>\n",
       "      <td>-1024.000000</td>\n",
       "      <td>-1024.000000</td>\n",
       "      <td>-1024.000000</td>\n",
       "      <td>-1024.000000</td>\n",
       "      <td>-1024.000000</td>\n",
       "      <td>-1024.000000</td>\n",
       "      <td>-1024.000000</td>\n",
       "      <td>-1024.000000</td>\n",
       "      <td>-1024.000000</td>\n",
       "      <td>-1024.000000</td>\n",
       "      <td>...</td>\n",
       "      <td>-1024.000000</td>\n",
       "      <td>-1024.000000</td>\n",
       "      <td>-1024.000000</td>\n",
       "      <td>-1024.000000</td>\n",
       "      <td>-1024.000000</td>\n",
       "      <td>-1024.000000</td>\n",
       "      <td>-1024.000000</td>\n",
       "      <td>-1024.000000</td>\n",
       "      <td>-1024.000000</td>\n",
       "      <td>-1024.000000</td>\n",
       "    </tr>\n",
       "    <tr>\n",
       "      <th>50%</th>\n",
       "      <td>-1024.000000</td>\n",
       "      <td>-1024.000000</td>\n",
       "      <td>-1024.000000</td>\n",
       "      <td>-1024.000000</td>\n",
       "      <td>-1024.000000</td>\n",
       "      <td>-1024.000000</td>\n",
       "      <td>-1024.000000</td>\n",
       "      <td>-1024.000000</td>\n",
       "      <td>-1024.000000</td>\n",
       "      <td>-1024.000000</td>\n",
       "      <td>...</td>\n",
       "      <td>-1024.000000</td>\n",
       "      <td>-1024.000000</td>\n",
       "      <td>-1024.000000</td>\n",
       "      <td>-1024.000000</td>\n",
       "      <td>-1024.000000</td>\n",
       "      <td>-1024.000000</td>\n",
       "      <td>-1024.000000</td>\n",
       "      <td>-1024.000000</td>\n",
       "      <td>-1024.000000</td>\n",
       "      <td>-1024.000000</td>\n",
       "    </tr>\n",
       "    <tr>\n",
       "      <th>75%</th>\n",
       "      <td>-1024.000000</td>\n",
       "      <td>-1024.000000</td>\n",
       "      <td>-1024.000000</td>\n",
       "      <td>-1024.000000</td>\n",
       "      <td>-1024.000000</td>\n",
       "      <td>-1024.000000</td>\n",
       "      <td>-1024.000000</td>\n",
       "      <td>-1024.000000</td>\n",
       "      <td>-965.500000</td>\n",
       "      <td>-846.000000</td>\n",
       "      <td>...</td>\n",
       "      <td>-922.500000</td>\n",
       "      <td>-995.500000</td>\n",
       "      <td>-1024.000000</td>\n",
       "      <td>-1024.000000</td>\n",
       "      <td>-1024.000000</td>\n",
       "      <td>-1024.000000</td>\n",
       "      <td>-1024.000000</td>\n",
       "      <td>-1024.000000</td>\n",
       "      <td>-1024.000000</td>\n",
       "      <td>-1024.000000</td>\n",
       "    </tr>\n",
       "    <tr>\n",
       "      <th>max</th>\n",
       "      <td>38.000000</td>\n",
       "      <td>66.000000</td>\n",
       "      <td>44.000000</td>\n",
       "      <td>52.000000</td>\n",
       "      <td>52.000000</td>\n",
       "      <td>60.000000</td>\n",
       "      <td>94.000000</td>\n",
       "      <td>86.000000</td>\n",
       "      <td>94.000000</td>\n",
       "      <td>46.000000</td>\n",
       "      <td>...</td>\n",
       "      <td>46.000000</td>\n",
       "      <td>16.000000</td>\n",
       "      <td>22.000000</td>\n",
       "      <td>84.000000</td>\n",
       "      <td>8.000000</td>\n",
       "      <td>52.000000</td>\n",
       "      <td>68.000000</td>\n",
       "      <td>46.000000</td>\n",
       "      <td>-6.000000</td>\n",
       "      <td>14.000000</td>\n",
       "    </tr>\n",
       "  </tbody>\n",
       "</table>\n",
       "<p>8 rows × 512 columns</p>\n",
       "</div>"
      ],
      "text/plain": [
       "               0            1            2            3            4    \\\n",
       "count   512.000000   512.000000   512.000000   512.000000   512.000000   \n",
       "mean   -966.480469  -930.679688  -906.203125  -883.804688  -866.464844   \n",
       "std     224.157330   274.629669   304.335981   328.576139   345.914498   \n",
       "min   -1024.000000 -1024.000000 -1024.000000 -1024.000000 -1024.000000   \n",
       "25%   -1024.000000 -1024.000000 -1024.000000 -1024.000000 -1024.000000   \n",
       "50%   -1024.000000 -1024.000000 -1024.000000 -1024.000000 -1024.000000   \n",
       "75%   -1024.000000 -1024.000000 -1024.000000 -1024.000000 -1024.000000   \n",
       "max      38.000000    66.000000    44.000000    52.000000    52.000000   \n",
       "\n",
       "               5            6            7            8            9    \\\n",
       "count   512.000000   512.000000   512.000000   512.000000   512.000000   \n",
       "mean   -851.160156  -836.656250  -824.386719  -811.507812  -798.296875   \n",
       "std     358.437364   369.176445   376.330536   384.415168   392.553492   \n",
       "min   -1024.000000 -1024.000000 -1024.000000 -1024.000000 -1024.000000   \n",
       "25%   -1024.000000 -1024.000000 -1024.000000 -1024.000000 -1024.000000   \n",
       "50%   -1024.000000 -1024.000000 -1024.000000 -1024.000000 -1024.000000   \n",
       "75%   -1024.000000 -1024.000000 -1024.000000  -965.500000  -846.000000   \n",
       "max      60.000000    94.000000    86.000000    94.000000    46.000000   \n",
       "\n",
       "          ...               502          503          504          505  \\\n",
       "count     ...        512.000000   512.000000   512.000000   512.000000   \n",
       "mean      ...       -805.824219  -817.894531  -830.308594  -843.296875   \n",
       "std       ...        386.340177   379.173388   371.286996   361.194807   \n",
       "min       ...      -1024.000000 -1024.000000 -1024.000000 -1024.000000   \n",
       "25%       ...      -1024.000000 -1024.000000 -1024.000000 -1024.000000   \n",
       "50%       ...      -1024.000000 -1024.000000 -1024.000000 -1024.000000   \n",
       "75%       ...       -922.500000  -995.500000 -1024.000000 -1024.000000   \n",
       "max       ...         46.000000    16.000000    22.000000    84.000000   \n",
       "\n",
       "               506          507          508          509          510  \\\n",
       "count   512.000000   512.000000   512.000000   512.000000   512.000000   \n",
       "mean   -857.980469  -871.910156  -887.726562  -907.390625  -929.027344   \n",
       "std     350.621332   339.373499   323.425095   302.642898   276.957186   \n",
       "min   -1024.000000 -1024.000000 -1024.000000 -1024.000000 -1024.000000   \n",
       "25%   -1024.000000 -1024.000000 -1024.000000 -1024.000000 -1024.000000   \n",
       "50%   -1024.000000 -1024.000000 -1024.000000 -1024.000000 -1024.000000   \n",
       "75%   -1024.000000 -1024.000000 -1024.000000 -1024.000000 -1024.000000   \n",
       "max       8.000000    52.000000    68.000000    46.000000    -6.000000   \n",
       "\n",
       "               511  \n",
       "count   512.000000  \n",
       "mean   -965.578125  \n",
       "std     226.777876  \n",
       "min   -1024.000000  \n",
       "25%   -1024.000000  \n",
       "50%   -1024.000000  \n",
       "75%   -1024.000000  \n",
       "max      14.000000  \n",
       "\n",
       "[8 rows x 512 columns]"
      ]
     },
     "execution_count": 79,
     "metadata": {},
     "output_type": "execute_result"
    }
   ],
   "source": [
    "pd.DataFrame( first_patient_pixels[0] ).describe()"
   ]
  },
  {
   "cell_type": "code",
   "execution_count": 61,
   "metadata": {},
   "outputs": [
    {
     "data": {
      "image/png": "[encoded data removed]",
      "text/plain": [
       "<matplotlib.figure.Figure at 0x7f90b7496fd0>"
      ]
     },
     "metadata": {},
     "output_type": "display_data"
    },
    {
     "data": {
      "image/png": "[encoded data removed]",
      "text/plain": [
       "<matplotlib.figure.Figure at 0x7f90561ecc50>"
      ]
     },
     "metadata": {},
     "output_type": "display_data"
    }
   ],
   "source": [
    "plt.hist(first_patient_pixels.flatten(),bins=80,color='c')\n",
    "plt.xlabel(\"Hounsfield Units (HU)\")\n",
    "plt.ylabel(\"Frequency\")\n",
    "plt.show()  \n",
    "\n",
    "# Show some slice in the middle\n",
    "plt.imshow(first_patient_pixels[80],cmap=plt.cm.gray)\n",
    "plt.show()"
   ]
  },
  {
   "cell_type": "code",
   "execution_count": 32,
   "metadata": {},
   "outputs": [
    {
     "name": "stdout",
     "output_type": "stream",
     "text": [
      "<type 'numpy.ndarray'>\n",
      "(134, 512, 512)\n",
      "int16\n"
     ]
    }
   ],
   "source": [
    "print(type(first_patient_pixels));print(first_patient_pixels.shape);print(first_patient_pixels.dtype)"
   ]
  },
  {
   "cell_type": "code",
   "execution_count": 35,
   "metadata": {},
   "outputs": [
    {
     "data": {
      "text/html": [
       "<div>\n",
       "<table border=\"1\" class=\"dataframe\">\n",
       "  <thead>\n",
       "    <tr style=\"text-align: right;\">\n",
       "      <th></th>\n",
       "      <th>0</th>\n",
       "      <th>1</th>\n",
       "      <th>2</th>\n",
       "      <th>3</th>\n",
       "      <th>4</th>\n",
       "      <th>5</th>\n",
       "      <th>6</th>\n",
       "      <th>7</th>\n",
       "      <th>8</th>\n",
       "      <th>9</th>\n",
       "      <th>...</th>\n",
       "      <th>502</th>\n",
       "      <th>503</th>\n",
       "      <th>504</th>\n",
       "      <th>505</th>\n",
       "      <th>506</th>\n",
       "      <th>507</th>\n",
       "      <th>508</th>\n",
       "      <th>509</th>\n",
       "      <th>510</th>\n",
       "      <th>511</th>\n",
       "    </tr>\n",
       "  </thead>\n",
       "  <tbody>\n",
       "    <tr>\n",
       "      <th>count</th>\n",
       "      <td>512.000000</td>\n",
       "      <td>512.000000</td>\n",
       "      <td>512.000000</td>\n",
       "      <td>512.000000</td>\n",
       "      <td>512.000000</td>\n",
       "      <td>512.000000</td>\n",
       "      <td>512.000000</td>\n",
       "      <td>512.000000</td>\n",
       "      <td>512.000000</td>\n",
       "      <td>512.000000</td>\n",
       "      <td>...</td>\n",
       "      <td>512.000000</td>\n",
       "      <td>512.000000</td>\n",
       "      <td>512.000000</td>\n",
       "      <td>512.000000</td>\n",
       "      <td>512.000000</td>\n",
       "      <td>512.000000</td>\n",
       "      <td>512.000000</td>\n",
       "      <td>512.000000</td>\n",
       "      <td>512.000000</td>\n",
       "      <td>512.000000</td>\n",
       "    </tr>\n",
       "    <tr>\n",
       "      <th>mean</th>\n",
       "      <td>-966.480469</td>\n",
       "      <td>-930.679688</td>\n",
       "      <td>-906.203125</td>\n",
       "      <td>-883.804688</td>\n",
       "      <td>-866.464844</td>\n",
       "      <td>-851.160156</td>\n",
       "      <td>-836.656250</td>\n",
       "      <td>-824.386719</td>\n",
       "      <td>-811.507812</td>\n",
       "      <td>-798.296875</td>\n",
       "      <td>...</td>\n",
       "      <td>-805.824219</td>\n",
       "      <td>-817.894531</td>\n",
       "      <td>-830.308594</td>\n",
       "      <td>-843.296875</td>\n",
       "      <td>-857.980469</td>\n",
       "      <td>-871.910156</td>\n",
       "      <td>-887.726562</td>\n",
       "      <td>-907.390625</td>\n",
       "      <td>-929.027344</td>\n",
       "      <td>-965.578125</td>\n",
       "    </tr>\n",
       "    <tr>\n",
       "      <th>std</th>\n",
       "      <td>224.157330</td>\n",
       "      <td>274.629669</td>\n",
       "      <td>304.335981</td>\n",
       "      <td>328.576139</td>\n",
       "      <td>345.914498</td>\n",
       "      <td>358.437364</td>\n",
       "      <td>369.176445</td>\n",
       "      <td>376.330536</td>\n",
       "      <td>384.415168</td>\n",
       "      <td>392.553492</td>\n",
       "      <td>...</td>\n",
       "      <td>386.340177</td>\n",
       "      <td>379.173388</td>\n",
       "      <td>371.286996</td>\n",
       "      <td>361.194807</td>\n",
       "      <td>350.621332</td>\n",
       "      <td>339.373499</td>\n",
       "      <td>323.425095</td>\n",
       "      <td>302.642898</td>\n",
       "      <td>276.957186</td>\n",
       "      <td>226.777876</td>\n",
       "    </tr>\n",
       "    <tr>\n",
       "      <th>min</th>\n",
       "      <td>-1024.000000</td>\n",
       "      <td>-1024.000000</td>\n",
       "      <td>-1024.000000</td>\n",
       "      <td>-1024.000000</td>\n",
       "      <td>-1024.000000</td>\n",
       "      <td>-1024.000000</td>\n",
       "      <td>-1024.000000</td>\n",
       "      <td>-1024.000000</td>\n",
       "      <td>-1024.000000</td>\n",
       "      <td>-1024.000000</td>\n",
       "      <td>...</td>\n",
       "      <td>-1024.000000</td>\n",
       "      <td>-1024.000000</td>\n",
       "      <td>-1024.000000</td>\n",
       "      <td>-1024.000000</td>\n",
       "      <td>-1024.000000</td>\n",
       "      <td>-1024.000000</td>\n",
       "      <td>-1024.000000</td>\n",
       "      <td>-1024.000000</td>\n",
       "      <td>-1024.000000</td>\n",
       "      <td>-1024.000000</td>\n",
       "    </tr>\n",
       "    <tr>\n",
       "      <th>25%</th>\n",
       "      <td>-1024.000000</td>\n",
       "      <td>-1024.000000</td>\n",
       "      <td>-1024.000000</td>\n",
       "      <td>-1024.000000</td>\n",
       "      <td>-1024.000000</td>\n",
       "      <td>-1024.000000</td>\n",
       "      <td>-1024.000000</td>\n",
       "      <td>-1024.000000</td>\n",
       "      <td>-1024.000000</td>\n",
       "      <td>-1024.000000</td>\n",
       "      <td>...</td>\n",
       "      <td>-1024.000000</td>\n",
       "      <td>-1024.000000</td>\n",
       "      <td>-1024.000000</td>\n",
       "      <td>-1024.000000</td>\n",
       "      <td>-1024.000000</td>\n",
       "      <td>-1024.000000</td>\n",
       "      <td>-1024.000000</td>\n",
       "      <td>-1024.000000</td>\n",
       "      <td>-1024.000000</td>\n",
       "      <td>-1024.000000</td>\n",
       "    </tr>\n",
       "    <tr>\n",
       "      <th>50%</th>\n",
       "      <td>-1024.000000</td>\n",
       "      <td>-1024.000000</td>\n",
       "      <td>-1024.000000</td>\n",
       "      <td>-1024.000000</td>\n",
       "      <td>-1024.000000</td>\n",
       "      <td>-1024.000000</td>\n",
       "      <td>-1024.000000</td>\n",
       "      <td>-1024.000000</td>\n",
       "      <td>-1024.000000</td>\n",
       "      <td>-1024.000000</td>\n",
       "      <td>...</td>\n",
       "      <td>-1024.000000</td>\n",
       "      <td>-1024.000000</td>\n",
       "      <td>-1024.000000</td>\n",
       "      <td>-1024.000000</td>\n",
       "      <td>-1024.000000</td>\n",
       "      <td>-1024.000000</td>\n",
       "      <td>-1024.000000</td>\n",
       "      <td>-1024.000000</td>\n",
       "      <td>-1024.000000</td>\n",
       "      <td>-1024.000000</td>\n",
       "    </tr>\n",
       "    <tr>\n",
       "      <th>75%</th>\n",
       "      <td>-1024.000000</td>\n",
       "      <td>-1024.000000</td>\n",
       "      <td>-1024.000000</td>\n",
       "      <td>-1024.000000</td>\n",
       "      <td>-1024.000000</td>\n",
       "      <td>-1024.000000</td>\n",
       "      <td>-1024.000000</td>\n",
       "      <td>-1024.000000</td>\n",
       "      <td>-965.500000</td>\n",
       "      <td>-846.000000</td>\n",
       "      <td>...</td>\n",
       "      <td>-922.500000</td>\n",
       "      <td>-995.500000</td>\n",
       "      <td>-1024.000000</td>\n",
       "      <td>-1024.000000</td>\n",
       "      <td>-1024.000000</td>\n",
       "      <td>-1024.000000</td>\n",
       "      <td>-1024.000000</td>\n",
       "      <td>-1024.000000</td>\n",
       "      <td>-1024.000000</td>\n",
       "      <td>-1024.000000</td>\n",
       "    </tr>\n",
       "    <tr>\n",
       "      <th>max</th>\n",
       "      <td>38.000000</td>\n",
       "      <td>66.000000</td>\n",
       "      <td>44.000000</td>\n",
       "      <td>52.000000</td>\n",
       "      <td>52.000000</td>\n",
       "      <td>60.000000</td>\n",
       "      <td>94.000000</td>\n",
       "      <td>86.000000</td>\n",
       "      <td>94.000000</td>\n",
       "      <td>46.000000</td>\n",
       "      <td>...</td>\n",
       "      <td>46.000000</td>\n",
       "      <td>16.000000</td>\n",
       "      <td>22.000000</td>\n",
       "      <td>84.000000</td>\n",
       "      <td>8.000000</td>\n",
       "      <td>52.000000</td>\n",
       "      <td>68.000000</td>\n",
       "      <td>46.000000</td>\n",
       "      <td>-6.000000</td>\n",
       "      <td>14.000000</td>\n",
       "    </tr>\n",
       "  </tbody>\n",
       "</table>\n",
       "<p>8 rows × 512 columns</p>\n",
       "</div>"
      ],
      "text/plain": [
       "               0            1            2            3            4    \\\n",
       "count   512.000000   512.000000   512.000000   512.000000   512.000000   \n",
       "mean   -966.480469  -930.679688  -906.203125  -883.804688  -866.464844   \n",
       "std     224.157330   274.629669   304.335981   328.576139   345.914498   \n",
       "min   -1024.000000 -1024.000000 -1024.000000 -1024.000000 -1024.000000   \n",
       "25%   -1024.000000 -1024.000000 -1024.000000 -1024.000000 -1024.000000   \n",
       "50%   -1024.000000 -1024.000000 -1024.000000 -1024.000000 -1024.000000   \n",
       "75%   -1024.000000 -1024.000000 -1024.000000 -1024.000000 -1024.000000   \n",
       "max      38.000000    66.000000    44.000000    52.000000    52.000000   \n",
       "\n",
       "               5            6            7            8            9    \\\n",
       "count   512.000000   512.000000   512.000000   512.000000   512.000000   \n",
       "mean   -851.160156  -836.656250  -824.386719  -811.507812  -798.296875   \n",
       "std     358.437364   369.176445   376.330536   384.415168   392.553492   \n",
       "min   -1024.000000 -1024.000000 -1024.000000 -1024.000000 -1024.000000   \n",
       "25%   -1024.000000 -1024.000000 -1024.000000 -1024.000000 -1024.000000   \n",
       "50%   -1024.000000 -1024.000000 -1024.000000 -1024.000000 -1024.000000   \n",
       "75%   -1024.000000 -1024.000000 -1024.000000  -965.500000  -846.000000   \n",
       "max      60.000000    94.000000    86.000000    94.000000    46.000000   \n",
       "\n",
       "          ...               502          503          504          505  \\\n",
       "count     ...        512.000000   512.000000   512.000000   512.000000   \n",
       "mean      ...       -805.824219  -817.894531  -830.308594  -843.296875   \n",
       "std       ...        386.340177   379.173388   371.286996   361.194807   \n",
       "min       ...      -1024.000000 -1024.000000 -1024.000000 -1024.000000   \n",
       "25%       ...      -1024.000000 -1024.000000 -1024.000000 -1024.000000   \n",
       "50%       ...      -1024.000000 -1024.000000 -1024.000000 -1024.000000   \n",
       "75%       ...       -922.500000  -995.500000 -1024.000000 -1024.000000   \n",
       "max       ...         46.000000    16.000000    22.000000    84.000000   \n",
       "\n",
       "               506          507          508          509          510  \\\n",
       "count   512.000000   512.000000   512.000000   512.000000   512.000000   \n",
       "mean   -857.980469  -871.910156  -887.726562  -907.390625  -929.027344   \n",
       "std     350.621332   339.373499   323.425095   302.642898   276.957186   \n",
       "min   -1024.000000 -1024.000000 -1024.000000 -1024.000000 -1024.000000   \n",
       "25%   -1024.000000 -1024.000000 -1024.000000 -1024.000000 -1024.000000   \n",
       "50%   -1024.000000 -1024.000000 -1024.000000 -1024.000000 -1024.000000   \n",
       "75%   -1024.000000 -1024.000000 -1024.000000 -1024.000000 -1024.000000   \n",
       "max       8.000000    52.000000    68.000000    46.000000    -6.000000   \n",
       "\n",
       "               511  \n",
       "count   512.000000  \n",
       "mean   -965.578125  \n",
       "std     226.777876  \n",
       "min   -1024.000000  \n",
       "25%   -1024.000000  \n",
       "50%   -1024.000000  \n",
       "75%   -1024.000000  \n",
       "max      14.000000  \n",
       "\n",
       "[8 rows x 512 columns]"
      ]
     },
     "execution_count": 35,
     "metadata": {},
     "output_type": "execute_result"
    }
   ],
   "source": [
    "pd.DataFrame(first_patient_pixels[0]).describe()"
   ]
  },
  {
   "cell_type": "markdown",
   "metadata": {},
   "source": [
    "# Resampling  \n",
    "\n",
    "A scan may have a pixel spacing of `[2.5, 0.5, 0.5]`, which means that the distance between slices is `2.5` millimeters.  For a different scan this may be `[1.5, 0.725, 0.725]`, this can be problematic for automatic analysis (e.g. using ConvNets)!  "
   ]
  },
  {
   "cell_type": "code",
   "execution_count": 62,
   "metadata": {
    "collapsed": true
   },
   "outputs": [],
   "source": [
    "def resample(image, scan, new_spacing=[1,1,1]):\n",
    "    # Determine current pixel spacing\n",
    "    spacing = np.array([scan[0].SliceThickness] + scan[0].PixelSpacing, dtype=np.float32)\n",
    "    \n",
    "    resize_factor = spacing / new_spacing\n",
    "    new_real_shape = image.shape * resize_factor\n",
    "    new_shape = np.round(new_real_shape)\n",
    "    real_resize_factor = new_shape / image.shape\n",
    "    new_spacing = spacing / real_resize_factor\n",
    "    \n",
    "    image = scipy.ndimage.interpolation.zoom(image, real_resize_factor, mode='nearest')\n",
    "    \n",
    "    return image, new_spacing"
   ]
  },
  {
   "cell_type": "markdown",
   "metadata": {},
   "source": [
    "Let's resample our patient's pixels to an isomorphic resolution of 1 by 1 by 1 mm.  "
   ]
  },
  {
   "cell_type": "code",
   "execution_count": 63,
   "metadata": {
    "collapsed": true
   },
   "outputs": [],
   "source": [
    "pix_resampled, spacing = resample(first_patient_pixels, first_patient, [1,1,1])"
   ]
  },
  {
   "cell_type": "code",
   "execution_count": 64,
   "metadata": {},
   "outputs": [
    {
     "name": "stdout",
     "output_type": "stream",
     "text": [
      "('Shape before resampling\\t', (134, 512, 512))\n",
      "('Shape after resample\\t', (335, 306, 306))\n"
     ]
    }
   ],
   "source": [
    "print(\"Shape before resampling\\t\", first_patient_pixels.shape)\n",
    "print(\"Shape after resample\\t\",pix_resampled.shape)"
   ]
  },
  {
   "cell_type": "code",
   "execution_count": 39,
   "metadata": {},
   "outputs": [
    {
     "name": "stdout",
     "output_type": "stream",
     "text": [
      "2.5\n",
      "['0.597656', '0.597656']\n"
     ]
    }
   ],
   "source": [
    "print(first_patient[0].SliceThickness);print(first_patient[0].PixelSpacing)"
   ]
  },
  {
   "cell_type": "code",
   "execution_count": 40,
   "metadata": {},
   "outputs": [
    {
     "data": {
      "text/plain": [
       "array([ 2.5     ,  0.597656,  0.597656])"
      ]
     },
     "execution_count": 40,
     "metadata": {},
     "output_type": "execute_result"
    }
   ],
   "source": [
    "np.array( [2.5]+first_patient[0].PixelSpacing)/[1,1,1]"
   ]
  },
  {
   "cell_type": "code",
   "execution_count": 42,
   "metadata": {},
   "outputs": [
    {
     "data": {
      "text/plain": [
       "(134, 512, 512)"
      ]
     },
     "execution_count": 42,
     "metadata": {},
     "output_type": "execute_result"
    }
   ],
   "source": [
    "first_patient_pixels.shape"
   ]
  },
  {
   "cell_type": "code",
   "execution_count": 81,
   "metadata": {},
   "outputs": [
    {
     "name": "stdout",
     "output_type": "stream",
     "text": [
      "2.5\n",
      "['0.597656', '0.597656']\n"
     ]
    }
   ],
   "source": [
    "# My stuff, each scan or image \"slice\" is a dicom.dataSet.FileDataSet \n",
    "print(first_patient[0].SliceThickness)\n",
    "print(first_patient[0].PixelSpacing)"
   ]
  },
  {
   "cell_type": "code",
   "execution_count": 83,
   "metadata": {},
   "outputs": [
    {
     "name": "stdout",
     "output_type": "stream",
     "text": [
      "[ 2.5       0.597656  0.597656]\n"
     ]
    }
   ],
   "source": [
    "print( np.array( [first_patient[0].SliceThickness]+first_patient[0].PixelSpacing)/ [1,1,1] )"
   ]
  },
  {
   "cell_type": "code",
   "execution_count": 82,
   "metadata": {},
   "outputs": [
    {
     "data": {
      "text/plain": [
       "(134, 512, 512)"
      ]
     },
     "execution_count": 82,
     "metadata": {},
     "output_type": "execute_result"
    }
   ],
   "source": [
    "first_patient_pixels.shape"
   ]
  },
  {
   "cell_type": "code",
   "execution_count": 100,
   "metadata": {},
   "outputs": [
    {
     "data": {
      "text/plain": [
       "array([ 335.      ,  305.999872,  305.999872])"
      ]
     },
     "execution_count": 100,
     "metadata": {},
     "output_type": "execute_result"
    }
   ],
   "source": [
    "first_patient_pixels.shape * np.array( [first_patient[0].SliceThickness]+first_patient[0].PixelSpacing)/ [1,1,1] "
   ]
  },
  {
   "cell_type": "code",
   "execution_count": 101,
   "metadata": {},
   "outputs": [
    {
     "data": {
      "text/plain": [
       "array([ 335.,  306.,  306.])"
      ]
     },
     "execution_count": 101,
     "metadata": {},
     "output_type": "execute_result"
    }
   ],
   "source": [
    "np.round( first_patient_pixels.shape * np.array( [first_patient[0].SliceThickness]+first_patient[0].PixelSpacing)/ [1,1,1]  )"
   ]
  },
  {
   "cell_type": "code",
   "execution_count": 103,
   "metadata": {},
   "outputs": [
    {
     "data": {
      "text/plain": [
       "array([ 2.5       ,  0.59765625,  0.59765625])"
      ]
     },
     "execution_count": 103,
     "metadata": {},
     "output_type": "execute_result"
    }
   ],
   "source": [
    "np.round( first_patient_pixels.shape * np.array( [first_patient[0].SliceThickness]+first_patient[0].PixelSpacing)/ [1,1,1]  ) / first_patient_pixels.shape"
   ]
  },
  {
   "cell_type": "code",
   "execution_count": 102,
   "metadata": {},
   "outputs": [
    {
     "data": {
      "text/plain": [
       "array([ 2.5       ,  0.59765625,  0.59765625])"
      ]
     },
     "execution_count": 102,
     "metadata": {},
     "output_type": "execute_result"
    }
   ],
   "source": [
    "np.round( first_patient_pixels.shape * np.array( [first_patient[0].SliceThickness]+first_patient[0].PixelSpacing)/ [1,1,1]  ) / first_patient_pixels.shape"
   ]
  },
  {
   "cell_type": "code",
   "execution_count": 86,
   "metadata": {},
   "outputs": [
    {
     "name": "stdout",
     "output_type": "stream",
     "text": [
      "<type 'numpy.ndarray'>\n",
      "<type 'numpy.ndarray'>\n",
      "(335, 306, 306)\n",
      "(3,)\n",
      "[ 1.         0.9999996  0.9999996]\n"
     ]
    }
   ],
   "source": [
    "print(type(pix_resampled));print(type(spacing));print(pix_resampled.shape);print(spacing.shape); print(spacing)"
   ]
  },
  {
   "cell_type": "code",
   "execution_count": 88,
   "metadata": {},
   "outputs": [
    {
     "name": "stdout",
     "output_type": "stream",
     "text": [
      "(512, 512)\n",
      "(512, 512)\n",
      "(512, 512)\n",
      "(512, 512)\n",
      "(512, 512)\n",
      "(512, 512)\n",
      "(512, 512)\n",
      "(512, 512)\n",
      "(512, 512)\n",
      "(512, 512)\n",
      "(512, 512)\n",
      "(512, 512)\n",
      "(512, 512)\n",
      "(512, 512)\n",
      "(512, 512)\n",
      "(512, 512)\n",
      "(512, 512)\n",
      "(512, 512)\n",
      "(512, 512)\n",
      "(512, 512)\n",
      "(512, 512)\n",
      "(512, 512)\n",
      "(512, 512)\n",
      "(512, 512)\n",
      "(512, 512)\n",
      "(512, 512)\n",
      "(512, 512)\n",
      "(512, 512)\n",
      "(512, 512)\n",
      "(512, 512)\n",
      "(512, 512)\n",
      "(512, 512)\n",
      "(512, 512)\n",
      "(512, 512)\n",
      "(512, 512)\n",
      "(512, 512)\n",
      "(512, 512)\n",
      "(512, 512)\n",
      "(512, 512)\n",
      "(512, 512)\n",
      "(512, 512)\n",
      "(512, 512)\n",
      "(512, 512)\n",
      "(512, 512)\n",
      "(512, 512)\n",
      "(512, 512)\n",
      "(512, 512)\n",
      "(512, 512)\n",
      "(512, 512)\n",
      "(512, 512)\n",
      "(512, 512)\n",
      "(512, 512)\n",
      "(512, 512)\n",
      "(512, 512)\n",
      "(512, 512)\n",
      "(512, 512)\n",
      "(512, 512)\n",
      "(512, 512)\n",
      "(512, 512)\n",
      "(512, 512)\n",
      "(512, 512)\n",
      "(512, 512)\n",
      "(512, 512)\n",
      "(512, 512)\n",
      "(512, 512)\n",
      "(512, 512)\n",
      "(512, 512)\n",
      "(512, 512)\n",
      "(512, 512)\n",
      "(512, 512)\n",
      "(512, 512)\n",
      "(512, 512)\n",
      "(512, 512)\n",
      "(512, 512)\n",
      "(512, 512)\n",
      "(512, 512)\n",
      "(512, 512)\n",
      "(512, 512)\n",
      "(512, 512)\n",
      "(512, 512)\n",
      "(512, 512)\n",
      "(512, 512)\n",
      "(512, 512)\n",
      "(512, 512)\n",
      "(512, 512)\n",
      "(512, 512)\n",
      "(512, 512)\n",
      "(512, 512)\n",
      "(512, 512)\n",
      "(512, 512)\n",
      "(512, 512)\n",
      "(512, 512)\n",
      "(512, 512)\n",
      "(512, 512)\n",
      "(512, 512)\n",
      "(512, 512)\n",
      "(512, 512)\n",
      "(512, 512)\n",
      "(512, 512)\n",
      "(512, 512)\n",
      "(512, 512)\n",
      "(512, 512)\n",
      "(512, 512)\n",
      "(512, 512)\n",
      "(512, 512)\n",
      "(512, 512)\n",
      "(512, 512)\n",
      "(512, 512)\n",
      "(512, 512)\n",
      "(512, 512)\n",
      "(512, 512)\n",
      "(512, 512)\n",
      "(512, 512)\n",
      "(512, 512)\n",
      "(512, 512)\n",
      "(512, 512)\n",
      "(512, 512)\n",
      "(512, 512)\n",
      "(512, 512)\n",
      "(512, 512)\n",
      "(512, 512)\n",
      "(512, 512)\n",
      "(512, 512)\n",
      "(512, 512)\n",
      "(512, 512)\n",
      "(512, 512)\n",
      "(512, 512)\n",
      "(512, 512)\n",
      "(512, 512)\n",
      "(512, 512)\n",
      "(512, 512)\n",
      "(512, 512)\n",
      "(512, 512)\n",
      "(512, 512)\n"
     ]
    }
   ],
   "source": [
    "for image_slice in first_patient:\n",
    "    print(image_slice.pixel_array.shape)"
   ]
  },
  {
   "cell_type": "code",
   "execution_count": 107,
   "metadata": {},
   "outputs": [
    {
     "data": {
      "text/plain": [
       "array([ 7.46268657,  3.90625   ,  5.859375  ])"
      ]
     },
     "execution_count": 107,
     "metadata": {},
     "output_type": "execute_result"
    }
   ],
   "source": [
    "[1000,2000,3000]/np.array(first_patient_pixels.shape).astype(\"float32\")"
   ]
  },
  {
   "cell_type": "code",
   "execution_count": 79,
   "metadata": {
    "collapsed": true
   },
   "outputs": [],
   "source": [
    "def resample_given_dims(image, scan, new_shape):\n",
    "    # Determine current pixel spacing\n",
    "    spacing = np.array([scan[0].SliceThickness] + scan[0].PixelSpacing, dtype=np.float32)  # (\\Delta z,\\Delta x,\\Delta y)\n",
    "#    print(spacing)\n",
    "    real_resize_factor=new_shape/np.array(image.shape).astype(\"float32\")  \n",
    "#    print(real_resize_factor)\n",
    "    new_spacing = spacing/real_resize_factor # (\\Delta z',\\Delta x',\\Delta y')\n",
    "    \n",
    "#    real_resize_factor_zoom=np.round(real_resize_factor)  # original\n",
    "    real_resize_factor_zoom = real_resize_factor\n",
    "    print(real_resize_factor_zoom)\n",
    "    image = scipy.ndimage.interpolation.zoom(image, real_resize_factor_zoom, mode='nearest')\n",
    "    \n",
    "    return image, new_spacing"
   ]
  },
  {
   "cell_type": "code",
   "execution_count": 80,
   "metadata": {},
   "outputs": [
    {
     "name": "stdout",
     "output_type": "stream",
     "text": [
      "[ 1.24626866  0.25        0.25      ]\n"
     ]
    }
   ],
   "source": [
    "# pix_resampled, spacing = resample(first_patient_pixels, first_patient, [1,1,1])\n",
    "pix_resampled_given,spacing_given=resample_given_dims( first_patient_pixels, first_patient, [167,128,128])\n"
   ]
  },
  {
   "cell_type": "code",
   "execution_count": 81,
   "metadata": {},
   "outputs": [
    {
     "data": {
      "text/html": [
       "<div>\n",
       "<table border=\"1\" class=\"dataframe\">\n",
       "  <thead>\n",
       "    <tr style=\"text-align: right;\">\n",
       "      <th></th>\n",
       "      <th>0</th>\n",
       "      <th>1</th>\n",
       "      <th>2</th>\n",
       "      <th>3</th>\n",
       "      <th>4</th>\n",
       "      <th>5</th>\n",
       "      <th>6</th>\n",
       "      <th>7</th>\n",
       "      <th>8</th>\n",
       "      <th>9</th>\n",
       "      <th>...</th>\n",
       "      <th>118</th>\n",
       "      <th>119</th>\n",
       "      <th>120</th>\n",
       "      <th>121</th>\n",
       "      <th>122</th>\n",
       "      <th>123</th>\n",
       "      <th>124</th>\n",
       "      <th>125</th>\n",
       "      <th>126</th>\n",
       "      <th>127</th>\n",
       "    </tr>\n",
       "  </thead>\n",
       "  <tbody>\n",
       "    <tr>\n",
       "      <th>count</th>\n",
       "      <td>128.000000</td>\n",
       "      <td>128.000000</td>\n",
       "      <td>128.000000</td>\n",
       "      <td>128.000000</td>\n",
       "      <td>128.000000</td>\n",
       "      <td>128.000000</td>\n",
       "      <td>128.000000</td>\n",
       "      <td>128.000000</td>\n",
       "      <td>128.000000</td>\n",
       "      <td>128.000000</td>\n",
       "      <td>...</td>\n",
       "      <td>128.000000</td>\n",
       "      <td>128.000000</td>\n",
       "      <td>128.000000</td>\n",
       "      <td>128.000000</td>\n",
       "      <td>128.000000</td>\n",
       "      <td>128.000000</td>\n",
       "      <td>128.000000</td>\n",
       "      <td>128.000000</td>\n",
       "      <td>128.000000</td>\n",
       "      <td>128.000000</td>\n",
       "    </tr>\n",
       "    <tr>\n",
       "      <th>mean</th>\n",
       "      <td>-965.992188</td>\n",
       "      <td>-865.835938</td>\n",
       "      <td>-816.781250</td>\n",
       "      <td>-766.789062</td>\n",
       "      <td>-728.289062</td>\n",
       "      <td>-700.179688</td>\n",
       "      <td>-672.375000</td>\n",
       "      <td>-641.742188</td>\n",
       "      <td>-615.875000</td>\n",
       "      <td>-584.078125</td>\n",
       "      <td>...</td>\n",
       "      <td>-598.710938</td>\n",
       "      <td>-624.515625</td>\n",
       "      <td>-652.859375</td>\n",
       "      <td>-673.984375</td>\n",
       "      <td>-706.140625</td>\n",
       "      <td>-731.085938</td>\n",
       "      <td>-773.171875</td>\n",
       "      <td>-818.945312</td>\n",
       "      <td>-871.093750</td>\n",
       "      <td>-965.960938</td>\n",
       "    </tr>\n",
       "    <tr>\n",
       "      <th>std</th>\n",
       "      <td>225.862947</td>\n",
       "      <td>347.119594</td>\n",
       "      <td>379.754499</td>\n",
       "      <td>408.096921</td>\n",
       "      <td>424.471235</td>\n",
       "      <td>436.535383</td>\n",
       "      <td>446.371901</td>\n",
       "      <td>458.378780</td>\n",
       "      <td>462.784894</td>\n",
       "      <td>480.708853</td>\n",
       "      <td>...</td>\n",
       "      <td>482.882147</td>\n",
       "      <td>470.250930</td>\n",
       "      <td>457.787606</td>\n",
       "      <td>447.755100</td>\n",
       "      <td>436.335487</td>\n",
       "      <td>425.987265</td>\n",
       "      <td>405.612458</td>\n",
       "      <td>380.930219</td>\n",
       "      <td>342.545921</td>\n",
       "      <td>224.568261</td>\n",
       "    </tr>\n",
       "    <tr>\n",
       "      <th>min</th>\n",
       "      <td>-1024.000000</td>\n",
       "      <td>-1028.000000</td>\n",
       "      <td>-1029.000000</td>\n",
       "      <td>-1025.000000</td>\n",
       "      <td>-1042.000000</td>\n",
       "      <td>-1024.000000</td>\n",
       "      <td>-1024.000000</td>\n",
       "      <td>-1024.000000</td>\n",
       "      <td>-1024.000000</td>\n",
       "      <td>-1039.000000</td>\n",
       "      <td>...</td>\n",
       "      <td>-1032.000000</td>\n",
       "      <td>-1030.000000</td>\n",
       "      <td>-1028.000000</td>\n",
       "      <td>-1026.000000</td>\n",
       "      <td>-1025.000000</td>\n",
       "      <td>-1043.000000</td>\n",
       "      <td>-1025.000000</td>\n",
       "      <td>-1029.000000</td>\n",
       "      <td>-1028.000000</td>\n",
       "      <td>-1024.000000</td>\n",
       "    </tr>\n",
       "    <tr>\n",
       "      <th>25%</th>\n",
       "      <td>-1024.000000</td>\n",
       "      <td>-1024.000000</td>\n",
       "      <td>-1024.000000</td>\n",
       "      <td>-1024.000000</td>\n",
       "      <td>-1024.000000</td>\n",
       "      <td>-1024.000000</td>\n",
       "      <td>-1024.000000</td>\n",
       "      <td>-1024.000000</td>\n",
       "      <td>-1024.000000</td>\n",
       "      <td>-1024.000000</td>\n",
       "      <td>...</td>\n",
       "      <td>-1024.000000</td>\n",
       "      <td>-1024.000000</td>\n",
       "      <td>-1024.000000</td>\n",
       "      <td>-1024.000000</td>\n",
       "      <td>-1024.000000</td>\n",
       "      <td>-1024.000000</td>\n",
       "      <td>-1024.000000</td>\n",
       "      <td>-1024.000000</td>\n",
       "      <td>-1024.000000</td>\n",
       "      <td>-1024.000000</td>\n",
       "    </tr>\n",
       "    <tr>\n",
       "      <th>50%</th>\n",
       "      <td>-1024.000000</td>\n",
       "      <td>-1024.000000</td>\n",
       "      <td>-1024.000000</td>\n",
       "      <td>-1024.000000</td>\n",
       "      <td>-1024.000000</td>\n",
       "      <td>-1024.000000</td>\n",
       "      <td>-1024.000000</td>\n",
       "      <td>-1024.000000</td>\n",
       "      <td>-1023.000000</td>\n",
       "      <td>-979.000000</td>\n",
       "      <td>...</td>\n",
       "      <td>-990.500000</td>\n",
       "      <td>-1024.000000</td>\n",
       "      <td>-1024.000000</td>\n",
       "      <td>-1024.000000</td>\n",
       "      <td>-1024.000000</td>\n",
       "      <td>-1024.000000</td>\n",
       "      <td>-1024.000000</td>\n",
       "      <td>-1024.000000</td>\n",
       "      <td>-1024.000000</td>\n",
       "      <td>-1024.000000</td>\n",
       "    </tr>\n",
       "    <tr>\n",
       "      <th>75%</th>\n",
       "      <td>-1024.000000</td>\n",
       "      <td>-1024.000000</td>\n",
       "      <td>-949.000000</td>\n",
       "      <td>-164.250000</td>\n",
       "      <td>-151.750000</td>\n",
       "      <td>-123.500000</td>\n",
       "      <td>-128.500000</td>\n",
       "      <td>-100.750000</td>\n",
       "      <td>-95.000000</td>\n",
       "      <td>-79.000000</td>\n",
       "      <td>...</td>\n",
       "      <td>-82.500000</td>\n",
       "      <td>-101.500000</td>\n",
       "      <td>-107.500000</td>\n",
       "      <td>-112.750000</td>\n",
       "      <td>-121.000000</td>\n",
       "      <td>-125.250000</td>\n",
       "      <td>-167.750000</td>\n",
       "      <td>-977.250000</td>\n",
       "      <td>-1024.000000</td>\n",
       "      <td>-1024.000000</td>\n",
       "    </tr>\n",
       "    <tr>\n",
       "      <th>max</th>\n",
       "      <td>2.000000</td>\n",
       "      <td>53.000000</td>\n",
       "      <td>-16.000000</td>\n",
       "      <td>-9.000000</td>\n",
       "      <td>10.000000</td>\n",
       "      <td>-33.000000</td>\n",
       "      <td>16.000000</td>\n",
       "      <td>-4.000000</td>\n",
       "      <td>15.000000</td>\n",
       "      <td>148.000000</td>\n",
       "      <td>...</td>\n",
       "      <td>107.000000</td>\n",
       "      <td>129.000000</td>\n",
       "      <td>57.000000</td>\n",
       "      <td>0.000000</td>\n",
       "      <td>-21.000000</td>\n",
       "      <td>-9.000000</td>\n",
       "      <td>-19.000000</td>\n",
       "      <td>7.000000</td>\n",
       "      <td>50.000000</td>\n",
       "      <td>-55.000000</td>\n",
       "    </tr>\n",
       "  </tbody>\n",
       "</table>\n",
       "<p>8 rows × 128 columns</p>\n",
       "</div>"
      ],
      "text/plain": [
       "               0            1            2            3            4    \\\n",
       "count   128.000000   128.000000   128.000000   128.000000   128.000000   \n",
       "mean   -965.992188  -865.835938  -816.781250  -766.789062  -728.289062   \n",
       "std     225.862947   347.119594   379.754499   408.096921   424.471235   \n",
       "min   -1024.000000 -1028.000000 -1029.000000 -1025.000000 -1042.000000   \n",
       "25%   -1024.000000 -1024.000000 -1024.000000 -1024.000000 -1024.000000   \n",
       "50%   -1024.000000 -1024.000000 -1024.000000 -1024.000000 -1024.000000   \n",
       "75%   -1024.000000 -1024.000000  -949.000000  -164.250000  -151.750000   \n",
       "max       2.000000    53.000000   -16.000000    -9.000000    10.000000   \n",
       "\n",
       "               5            6            7            8            9    \\\n",
       "count   128.000000   128.000000   128.000000   128.000000   128.000000   \n",
       "mean   -700.179688  -672.375000  -641.742188  -615.875000  -584.078125   \n",
       "std     436.535383   446.371901   458.378780   462.784894   480.708853   \n",
       "min   -1024.000000 -1024.000000 -1024.000000 -1024.000000 -1039.000000   \n",
       "25%   -1024.000000 -1024.000000 -1024.000000 -1024.000000 -1024.000000   \n",
       "50%   -1024.000000 -1024.000000 -1024.000000 -1023.000000  -979.000000   \n",
       "75%    -123.500000  -128.500000  -100.750000   -95.000000   -79.000000   \n",
       "max     -33.000000    16.000000    -4.000000    15.000000   148.000000   \n",
       "\n",
       "          ...               118          119          120          121  \\\n",
       "count     ...        128.000000   128.000000   128.000000   128.000000   \n",
       "mean      ...       -598.710938  -624.515625  -652.859375  -673.984375   \n",
       "std       ...        482.882147   470.250930   457.787606   447.755100   \n",
       "min       ...      -1032.000000 -1030.000000 -1028.000000 -1026.000000   \n",
       "25%       ...      -1024.000000 -1024.000000 -1024.000000 -1024.000000   \n",
       "50%       ...       -990.500000 -1024.000000 -1024.000000 -1024.000000   \n",
       "75%       ...        -82.500000  -101.500000  -107.500000  -112.750000   \n",
       "max       ...        107.000000   129.000000    57.000000     0.000000   \n",
       "\n",
       "               122          123          124          125          126  \\\n",
       "count   128.000000   128.000000   128.000000   128.000000   128.000000   \n",
       "mean   -706.140625  -731.085938  -773.171875  -818.945312  -871.093750   \n",
       "std     436.335487   425.987265   405.612458   380.930219   342.545921   \n",
       "min   -1025.000000 -1043.000000 -1025.000000 -1029.000000 -1028.000000   \n",
       "25%   -1024.000000 -1024.000000 -1024.000000 -1024.000000 -1024.000000   \n",
       "50%   -1024.000000 -1024.000000 -1024.000000 -1024.000000 -1024.000000   \n",
       "75%    -121.000000  -125.250000  -167.750000  -977.250000 -1024.000000   \n",
       "max     -21.000000    -9.000000   -19.000000     7.000000    50.000000   \n",
       "\n",
       "               127  \n",
       "count   128.000000  \n",
       "mean   -965.960938  \n",
       "std     224.568261  \n",
       "min   -1024.000000  \n",
       "25%   -1024.000000  \n",
       "50%   -1024.000000  \n",
       "75%   -1024.000000  \n",
       "max     -55.000000  \n",
       "\n",
       "[8 rows x 128 columns]"
      ]
     },
     "execution_count": 81,
     "metadata": {},
     "output_type": "execute_result"
    }
   ],
   "source": [
    "pd.DataFrame(pix_resampled_given[0]).describe()"
   ]
  },
  {
   "cell_type": "code",
   "execution_count": 74,
   "metadata": {},
   "outputs": [
    {
     "data": {
      "text/plain": [
       "array([ 2.00598802,  2.39062405,  2.39062405])"
      ]
     },
     "execution_count": 74,
     "metadata": {},
     "output_type": "execute_result"
    }
   ],
   "source": [
    "spacing_given"
   ]
  },
  {
   "cell_type": "code",
   "execution_count": null,
   "metadata": {
    "collapsed": true
   },
   "outputs": [],
   "source": [
    "#def resample(image, scan, new_spacing=[1,1,1]):"
   ]
  },
  {
   "cell_type": "markdown",
   "metadata": {},
   "source": [
    "## 3D plotting the scan"
   ]
  },
  {
   "cell_type": "markdown",
   "metadata": {},
   "source": [
    "Use marching cubes to create an approximate mesh for our 3D object, and plot this with matplotlib.  Quite slow and ugly, but the best we can do.  "
   ]
  },
  {
   "cell_type": "code",
   "execution_count": 47,
   "metadata": {
    "collapsed": true
   },
   "outputs": [],
   "source": [
    "def plot_3d(image,threshold=-300):\n",
    "    \n",
    "    # Position the scan upright,\n",
    "    # so the head of the patient would be at the top facing the camera\n",
    "    p = image.transpose(2,1,0)\n",
    "    \n",
    "    verts, faces = measure.marching_cubes(p, threshold)\n",
    "    \n",
    "    fig = plt.figure(figsize=(10,10))\n",
    "    ax  = fig.add_subplot(111, projection='3d')\n",
    "    \n",
    "    # Fancy indexing: `verts[faces]` to generate a collection of triangles\n",
    "    mesh = Poly3DCollection(verts[faces], alpha=0.70)\n",
    "    face_color = [0.45, 0.45, 0.75]\n",
    "    mesh.set_facecolor(face_color)\n",
    "    ax.add_collection3d(mesh)\n",
    "    \n",
    "    ax.set_xlim(0, p.shape[0])\n",
    "    ax.set_ylim(0, p.shape[1])\n",
    "    ax.set_zlim(0, p.shape[2])\n",
    "    \n",
    "    plt.show()\n"
   ]
  },
  {
   "cell_type": "markdown",
   "metadata": {},
   "source": [
    "Our plot function tkaes a threshold argument which we can use to plot certain structures, such as all tissue or only the bones.  400 is a good threshold for showing the bones only (see Hounsfield unit table above).  "
   ]
  },
  {
   "cell_type": "code",
   "execution_count": 48,
   "metadata": {},
   "outputs": [
    {
     "data": {
      "image/png": "[encoded data removed]",
      "text/plain": [
       "<matplotlib.figure.Figure at 0x7f90c747f650>"
      ]
     },
     "metadata": {},
     "output_type": "display_data"
    }
   ],
   "source": [
    "plot_3d(pix_resampled,400)"
   ]
  },
  {
   "cell_type": "markdown",
   "metadata": {},
   "source": [
    "# Lung segmentation  \n",
    "In order to reduce the problem space, we can segment the lungs (and usually some tissue around it).  \n",
    "\n",
    "The steps:  \n",
    "* Threshold the image (-320 HU is a good threshold, but it doesn't matter much for this approach)  \n",
    "* Do connected components, determine label of air around person, fill this with 1s in the binary image \n",
    "* Optionally: For every axial slice in the scan, determine the largest solid connected component (the body+air around the person), and set others to 0.  This fills the structures in the lungs in the mask.  \n",
    "* Keep only the largest air pocket (the human body has other pockets of air here and there).  "
   ]
  },
  {
   "cell_type": "code",
   "execution_count": 92,
   "metadata": {},
   "outputs": [
    {
     "name": "stdout",
     "output_type": "stream",
     "text": [
      "Help on function label in module skimage.measure._label:\n",
      "\n",
      "label(input, neighbors=None, background=None, return_num=False, connectivity=None)\n",
      "    Label connected regions of an integer array.\n",
      "    \n",
      "    Two pixels are connected when they are neighbors and have the same value.\n",
      "    In 2D, they can be neighbors either in a 1- or 2-connected sense.\n",
      "    The value refers to the maximum number of orthogonal hops to consider a\n",
      "    pixel/voxel a neighbor::\n",
      "    \n",
      "      1-connectivity      2-connectivity     diagonal connection close-up\n",
      "    \n",
      "           [ ]           [ ]  [ ]  [ ]         [ ]\n",
      "            |               \\  |  /             |  <- hop 2\n",
      "      [ ]--[x]--[ ]      [ ]--[x]--[ ]    [x]--[ ]\n",
      "            |               /  |  \\         hop 1\n",
      "           [ ]           [ ]  [ ]  [ ]\n",
      "    \n",
      "    Parameters\n",
      "    ----------\n",
      "    input : ndarray of dtype int\n",
      "        Image to label.\n",
      "    neighbors : {4, 8}, int, optional\n",
      "        Whether to use 4- or 8-\"connectivity\".\n",
      "        In 3D, 4-\"connectivity\" means connected pixels have to share face,\n",
      "        whereas with 8-\"connectivity\", they have to share only edge or vertex.\n",
      "        **Deprecated, use ``connectivity`` instead.**\n",
      "    background : int, optional\n",
      "        Consider all pixels with this value as background pixels, and label\n",
      "        them as 0. By default, 0-valued pixels are considered as background\n",
      "        pixels.\n",
      "    return_num : bool, optional\n",
      "        Whether to return the number of assigned labels.\n",
      "    connectivity : int, optional\n",
      "        Maximum number of orthogonal hops to consider a pixel/voxel\n",
      "        as a neighbor.\n",
      "        Accepted values are ranging from  1 to input.ndim. If ``None``, a full\n",
      "        connectivity of ``input.ndim`` is used.\n",
      "    \n",
      "    Returns\n",
      "    -------\n",
      "    labels : ndarray of dtype int\n",
      "        Labeled array, where all connected regions are assigned the\n",
      "        same integer value.\n",
      "    num : int, optional\n",
      "        Number of labels, which equals the maximum label index and is only\n",
      "        returned if return_num is `True`.\n",
      "    \n",
      "    Examples\n",
      "    --------\n",
      "    >>> import numpy as np\n",
      "    >>> x = np.eye(3).astype(int)\n",
      "    >>> print(x)\n",
      "    [[1 0 0]\n",
      "     [0 1 0]\n",
      "     [0 0 1]]\n",
      "    >>> from skimage.measure import label\n",
      "    >>> print(label(x, connectivity=1))\n",
      "    [[1 0 0]\n",
      "     [0 2 0]\n",
      "     [0 0 3]]\n",
      "    \n",
      "    >>> print(label(x, connectivity=2))\n",
      "    [[1 0 0]\n",
      "     [0 1 0]\n",
      "     [0 0 1]]\n",
      "    \n",
      "    >>> print(label(x, background=-1))\n",
      "    [[1 2 2]\n",
      "     [2 1 2]\n",
      "     [2 2 1]]\n",
      "    \n",
      "    >>> x = np.array([[1, 0, 0],\n",
      "    ...               [1, 1, 5],\n",
      "    ...               [0, 0, 0]])\n",
      "    \n",
      "    >>> print(label(x))\n",
      "    [[1 0 0]\n",
      "     [1 1 2]\n",
      "     [0 0 0]]\n",
      "\n"
     ]
    }
   ],
   "source": [
    "help(measure.label)"
   ]
  },
  {
   "cell_type": "code",
   "execution_count": 49,
   "metadata": {
    "collapsed": true
   },
   "outputs": [],
   "source": [
    "def largest_label_volume(im, bg=-1):\n",
    "    vals, counts = np.unique(im, return_counts=True)\n",
    "    \n",
    "    counts = counts[vals != bg]\n",
    "    vals = vals[vals != bg]\n",
    "    \n",
    "    if len(counts) > 0:\n",
    "        return vals[np.argmax(counts)]\n",
    "    else:\n",
    "        return None\n",
    "    \n",
    "def segment_lung_mask(image, fill_lung_structures=True):\n",
    "    \n",
    "    # no actually binary, but 1 and 2.\n",
    "    # 0 is treated as background, which we do not want\n",
    "    binary_image = np.array(image > -320, dtype=np.int8)+1\n",
    "    labels=measure.label(binary_image)\n",
    "    \n",
    "    # Pick the pixel in the very corner to determine which label is air.\n",
    "    #   Improvement: Pick multiple background labels from around the patient\n",
    "    #   More resitant to \"trays\" on which the patient lays cutting the air\n",
    "    #   around the person in half\n",
    "    background_label = labels[0,0,0]\n",
    "    \n",
    "    # Fill the air around the person\n",
    "    binary_image[background_label == labels] = 2\n",
    "    \n",
    "    \n",
    "    # Method of filling the lung structures (that is superior to something like \n",
    "    # morphological closing)\n",
    "    if fill_lung_structures:\n",
    "        # For every slice we determine the largest solid structure\n",
    "        for i, axial_slice in enumerate(binary_image):\n",
    "            axial_slice = axial_slice - 1\n",
    "            labeling = measure.label(axial_slice)\n",
    "            l_max = largest_label_volume(labeling, bg=0)\n",
    "            \n",
    "            if l_max is not None: # This slice contains some lung\n",
    "                binary_image[i][labeling != l_max] = 1 \n",
    "                \n",
    "    binary_image -= 1 # Make the image actual binary\n",
    "    binary_image = 1-binary_image # Invert it, lungs are now 1\n",
    "    \n",
    "    # Remove other air pockets insided body\n",
    "    labels = measure.label(binary_image, background=0)\n",
    "    l_max = largest_label_volume(labels, bg=0)\n",
    "    if l_max is not None: # There are air pockets\n",
    "        binary_image[labels != l_max] =0 \n",
    "        \n",
    "    return binary_image"
   ]
  },
  {
   "cell_type": "code",
   "execution_count": null,
   "metadata": {
    "collapsed": true
   },
   "outputs": [],
   "source": [
    "# look at bolek's comment\n",
    "#  l_max = largest_label_volume(labels, bg=-1)"
   ]
  },
  {
   "cell_type": "code",
   "execution_count": null,
   "metadata": {
    "collapsed": true
   },
   "outputs": [],
   "source": [
    "# Gerome Pistre\n",
    "def largest_label_volume(im, bg=-1):\n",
    "    vals, counts = np.unique(im, return_counts=True)\n",
    "    \n",
    "    counts = counts[vals != bg]\n",
    "    vals = vals[vals != bg]\n",
    "    \n",
    "    biggest=vals[np.argmax(counts)]\n",
    "    return biggest"
   ]
  },
  {
   "cell_type": "code",
   "execution_count": null,
   "metadata": {
    "collapsed": true
   },
   "outputs": [],
   "source": [
    "def segment_lung_mask(image, fill_lung_structures=True):\n",
    "    \n",
    "    # no actually binary, but 1 and 2.\n",
    "    # 0 is treated as background, which we do not want\n",
    "    binary_image = np.array(image > -320, dtype=np.int8)+1\n",
    "    labels=measure.label(binary_image)\n",
    "    \n",
    "    # Pick the pixel in the very corner to determine which label is air.\n",
    "    #   Improvement: Pick multiple background labels from around the patient\n",
    "    #   More resitant to \"trays\" on which the patient lays cutting the air\n",
    "    #   around the person in half\n",
    "    background_label = labels[0,0,0]\n",
    "    \n",
    "    # Fill the air around the person\n",
    "    binary_image[background_label == labels] = 2\n",
    "    \n",
    "    \n",
    "    # Method of filling the lung structures (that is superior to something like \n",
    "    # morphological closing)\n",
    "    if fill_lung_structures:\n",
    "        # For every slice we determine the largest solid structure\n",
    "        for i, axial_slice in enumerate(binary_image):\n",
    "            axial_slice = axial_slice - 1\n",
    "            labeling = measure.label(axial_slice)\n",
    "            l_max = largest_label_volume(labeling, bg=0)\n",
    "            \n",
    "            if l_max is not None: # This slice contains some lung\n",
    "                binary_image[i][labeling != l_max] = 1 \n",
    "                \n",
    "    binary_image -= 1 # Make the image actual binary\n",
    "    binary_image = 1-binary_image # Invert it, lungs are now 1\n",
    "    \n",
    "    # Remove other air pockets insided body\n",
    "    labels = measure.label(binary_image, background=0)\n",
    "    l_max = largest_label_volume(labels, bg=0)\n",
    "    if l_max is not None: # There are air pockets\n",
    "        binary_image[labels != l_max] =0 \n",
    "        \n",
    "    return binary_image"
   ]
  },
  {
   "cell_type": "code",
   "execution_count": 50,
   "metadata": {
    "collapsed": true
   },
   "outputs": [],
   "source": [
    "segmented_lungs = segment_lung_mask(pix_resampled, False)\n",
    "segmented_lungs_fill = segment_lung_mask(pix_resampled, True)"
   ]
  },
  {
   "cell_type": "code",
   "execution_count": 51,
   "metadata": {},
   "outputs": [
    {
     "data": {
      "image/png": "[encoded data removed]",
      "text/plain": [
       "<matplotlib.figure.Figure at 0x7f9094dd6790>"
      ]
     },
     "metadata": {},
     "output_type": "display_data"
    }
   ],
   "source": [
    "plot_3d(segmented_lungs,0)"
   ]
  },
  {
   "cell_type": "code",
   "execution_count": 52,
   "metadata": {},
   "outputs": [
    {
     "data": {
      "image/png": "[encoded data removed]",
      "text/plain": [
       "<matplotlib.figure.Figure at 0x7f90c731cc10>"
      ]
     },
     "metadata": {},
     "output_type": "display_data"
    }
   ],
   "source": [
    "plot_3d(segmented_lungs_fill,0)"
   ]
  },
  {
   "cell_type": "code",
   "execution_count": 53,
   "metadata": {},
   "outputs": [
    {
     "data": {
      "image/png": "[encoded data removed]",
      "text/plain": [
       "<matplotlib.figure.Figure at 0x7f9054e6ab90>"
      ]
     },
     "metadata": {},
     "output_type": "display_data"
    }
   ],
   "source": [
    "plot_3d(segmented_lungs_fill - segmented_lungs,0)"
   ]
  },
  {
   "cell_type": "code",
   "execution_count": 91,
   "metadata": {},
   "outputs": [
    {
     "ename": "KeyboardInterrupt",
     "evalue": "",
     "output_type": "error",
     "traceback": [
      "\u001b[1;31m---------------------------------------------------------------------------\u001b[0m",
      "\u001b[1;31mKeyboardInterrupt\u001b[0m                         Traceback (most recent call last)",
      "\u001b[1;32m<ipython-input-91-8314a2fbf8b5>\u001b[0m in \u001b[0;36m<module>\u001b[1;34m()\u001b[0m\n\u001b[1;32m----> 1\u001b[1;33m \u001b[0mplot_3d\u001b[0m\u001b[1;33m(\u001b[0m\u001b[0mpix_resampled\u001b[0m\u001b[1;33m,\u001b[0m\u001b[1;36m0\u001b[0m\u001b[1;33m)\u001b[0m\u001b[1;33m\u001b[0m\u001b[0m\n\u001b[0m",
      "\u001b[1;32m<ipython-input-47-22dee27382f2>\u001b[0m in \u001b[0;36mplot_3d\u001b[1;34m(image, threshold)\u001b[0m\n\u001b[0;32m     20\u001b[0m     \u001b[0max\u001b[0m\u001b[1;33m.\u001b[0m\u001b[0mset_zlim\u001b[0m\u001b[1;33m(\u001b[0m\u001b[1;36m0\u001b[0m\u001b[1;33m,\u001b[0m \u001b[0mp\u001b[0m\u001b[1;33m.\u001b[0m\u001b[0mshape\u001b[0m\u001b[1;33m[\u001b[0m\u001b[1;36m2\u001b[0m\u001b[1;33m]\u001b[0m\u001b[1;33m)\u001b[0m\u001b[1;33m\u001b[0m\u001b[0m\n\u001b[0;32m     21\u001b[0m \u001b[1;33m\u001b[0m\u001b[0m\n\u001b[1;32m---> 22\u001b[1;33m     \u001b[0mplt\u001b[0m\u001b[1;33m.\u001b[0m\u001b[0mshow\u001b[0m\u001b[1;33m(\u001b[0m\u001b[1;33m)\u001b[0m\u001b[1;33m\u001b[0m\u001b[0m\n\u001b[0m",
      "\u001b[1;32m/home/topolo/Public/anaconda2/lib/python2.7/site-packages/matplotlib/pyplot.pyc\u001b[0m in \u001b[0;36mshow\u001b[1;34m(*args, **kw)\u001b[0m\n\u001b[0;32m    251\u001b[0m     \"\"\"\n\u001b[0;32m    252\u001b[0m     \u001b[1;32mglobal\u001b[0m \u001b[0m_show\u001b[0m\u001b[1;33m\u001b[0m\u001b[0m\n\u001b[1;32m--> 253\u001b[1;33m     \u001b[1;32mreturn\u001b[0m \u001b[0m_show\u001b[0m\u001b[1;33m(\u001b[0m\u001b[1;33m*\u001b[0m\u001b[0margs\u001b[0m\u001b[1;33m,\u001b[0m \u001b[1;33m**\u001b[0m\u001b[0mkw\u001b[0m\u001b[1;33m)\u001b[0m\u001b[1;33m\u001b[0m\u001b[0m\n\u001b[0m\u001b[0;32m    254\u001b[0m \u001b[1;33m\u001b[0m\u001b[0m\n\u001b[0;32m    255\u001b[0m \u001b[1;33m\u001b[0m\u001b[0m\n",
      "\u001b[1;32m/home/topolo/Public/anaconda2/lib/python2.7/site-packages/ipykernel/pylab/backend_inline.pyc\u001b[0m in \u001b[0;36mshow\u001b[1;34m(close, block)\u001b[0m\n\u001b[0;32m     34\u001b[0m     \u001b[1;32mtry\u001b[0m\u001b[1;33m:\u001b[0m\u001b[1;33m\u001b[0m\u001b[0m\n\u001b[0;32m     35\u001b[0m         \u001b[1;32mfor\u001b[0m \u001b[0mfigure_manager\u001b[0m \u001b[1;32min\u001b[0m \u001b[0mGcf\u001b[0m\u001b[1;33m.\u001b[0m\u001b[0mget_all_fig_managers\u001b[0m\u001b[1;33m(\u001b[0m\u001b[1;33m)\u001b[0m\u001b[1;33m:\u001b[0m\u001b[1;33m\u001b[0m\u001b[0m\n\u001b[1;32m---> 36\u001b[1;33m             \u001b[0mdisplay\u001b[0m\u001b[1;33m(\u001b[0m\u001b[0mfigure_manager\u001b[0m\u001b[1;33m.\u001b[0m\u001b[0mcanvas\u001b[0m\u001b[1;33m.\u001b[0m\u001b[0mfigure\u001b[0m\u001b[1;33m)\u001b[0m\u001b[1;33m\u001b[0m\u001b[0m\n\u001b[0m\u001b[0;32m     37\u001b[0m     \u001b[1;32mfinally\u001b[0m\u001b[1;33m:\u001b[0m\u001b[1;33m\u001b[0m\u001b[0m\n\u001b[0;32m     38\u001b[0m         \u001b[0mshow\u001b[0m\u001b[1;33m.\u001b[0m\u001b[0m_to_draw\u001b[0m \u001b[1;33m=\u001b[0m \u001b[1;33m[\u001b[0m\u001b[1;33m]\u001b[0m\u001b[1;33m\u001b[0m\u001b[0m\n",
      "\u001b[1;32m/home/topolo/Public/anaconda2/lib/python2.7/site-packages/IPython/core/display.pyc\u001b[0m in \u001b[0;36mdisplay\u001b[1;34m(*objs, **kwargs)\u001b[0m\n\u001b[0;32m    156\u001b[0m             \u001b[0mpublish_display_data\u001b[0m\u001b[1;33m(\u001b[0m\u001b[0mdata\u001b[0m\u001b[1;33m=\u001b[0m\u001b[0mobj\u001b[0m\u001b[1;33m,\u001b[0m \u001b[0mmetadata\u001b[0m\u001b[1;33m=\u001b[0m\u001b[0mmetadata\u001b[0m\u001b[1;33m)\u001b[0m\u001b[1;33m\u001b[0m\u001b[0m\n\u001b[0;32m    157\u001b[0m         \u001b[1;32melse\u001b[0m\u001b[1;33m:\u001b[0m\u001b[1;33m\u001b[0m\u001b[0m\n\u001b[1;32m--> 158\u001b[1;33m             \u001b[0mformat_dict\u001b[0m\u001b[1;33m,\u001b[0m \u001b[0mmd_dict\u001b[0m \u001b[1;33m=\u001b[0m \u001b[0mformat\u001b[0m\u001b[1;33m(\u001b[0m\u001b[0mobj\u001b[0m\u001b[1;33m,\u001b[0m \u001b[0minclude\u001b[0m\u001b[1;33m=\u001b[0m\u001b[0minclude\u001b[0m\u001b[1;33m,\u001b[0m \u001b[0mexclude\u001b[0m\u001b[1;33m=\u001b[0m\u001b[0mexclude\u001b[0m\u001b[1;33m)\u001b[0m\u001b[1;33m\u001b[0m\u001b[0m\n\u001b[0m\u001b[0;32m    159\u001b[0m             \u001b[1;32mif\u001b[0m \u001b[1;32mnot\u001b[0m \u001b[0mformat_dict\u001b[0m\u001b[1;33m:\u001b[0m\u001b[1;33m\u001b[0m\u001b[0m\n\u001b[0;32m    160\u001b[0m                 \u001b[1;31m# nothing to display (e.g. _ipython_display_ took over)\u001b[0m\u001b[1;33m\u001b[0m\u001b[1;33m\u001b[0m\u001b[0m\n",
      "\u001b[1;32m/home/topolo/Public/anaconda2/lib/python2.7/site-packages/IPython/core/formatters.pyc\u001b[0m in \u001b[0;36mformat\u001b[1;34m(self, obj, include, exclude)\u001b[0m\n\u001b[0;32m    175\u001b[0m             \u001b[0mmd\u001b[0m \u001b[1;33m=\u001b[0m \u001b[0mNone\u001b[0m\u001b[1;33m\u001b[0m\u001b[0m\n\u001b[0;32m    176\u001b[0m             \u001b[1;32mtry\u001b[0m\u001b[1;33m:\u001b[0m\u001b[1;33m\u001b[0m\u001b[0m\n\u001b[1;32m--> 177\u001b[1;33m                 \u001b[0mdata\u001b[0m \u001b[1;33m=\u001b[0m \u001b[0mformatter\u001b[0m\u001b[1;33m(\u001b[0m\u001b[0mobj\u001b[0m\u001b[1;33m)\u001b[0m\u001b[1;33m\u001b[0m\u001b[0m\n\u001b[0m\u001b[0;32m    178\u001b[0m             \u001b[1;32mexcept\u001b[0m\u001b[1;33m:\u001b[0m\u001b[1;33m\u001b[0m\u001b[0m\n\u001b[0;32m    179\u001b[0m                 \u001b[1;31m# FIXME: log the exception\u001b[0m\u001b[1;33m\u001b[0m\u001b[1;33m\u001b[0m\u001b[0m\n",
      "\u001b[1;32m<decorator-gen-9>\u001b[0m in \u001b[0;36m__call__\u001b[1;34m(self, obj)\u001b[0m\n",
      "\u001b[1;32m/home/topolo/Public/anaconda2/lib/python2.7/site-packages/IPython/core/formatters.pyc\u001b[0m in \u001b[0;36mcatch_format_error\u001b[1;34m(method, self, *args, **kwargs)\u001b[0m\n\u001b[0;32m    220\u001b[0m     \u001b[1;34m\"\"\"show traceback on failed format call\"\"\"\u001b[0m\u001b[1;33m\u001b[0m\u001b[0m\n\u001b[0;32m    221\u001b[0m     \u001b[1;32mtry\u001b[0m\u001b[1;33m:\u001b[0m\u001b[1;33m\u001b[0m\u001b[0m\n\u001b[1;32m--> 222\u001b[1;33m         \u001b[0mr\u001b[0m \u001b[1;33m=\u001b[0m \u001b[0mmethod\u001b[0m\u001b[1;33m(\u001b[0m\u001b[0mself\u001b[0m\u001b[1;33m,\u001b[0m \u001b[1;33m*\u001b[0m\u001b[0margs\u001b[0m\u001b[1;33m,\u001b[0m \u001b[1;33m**\u001b[0m\u001b[0mkwargs\u001b[0m\u001b[1;33m)\u001b[0m\u001b[1;33m\u001b[0m\u001b[0m\n\u001b[0m\u001b[0;32m    223\u001b[0m     \u001b[1;32mexcept\u001b[0m \u001b[0mNotImplementedError\u001b[0m\u001b[1;33m:\u001b[0m\u001b[1;33m\u001b[0m\u001b[0m\n\u001b[0;32m    224\u001b[0m         \u001b[1;31m# don't warn on NotImplementedErrors\u001b[0m\u001b[1;33m\u001b[0m\u001b[1;33m\u001b[0m\u001b[0m\n",
      "\u001b[1;32m/home/topolo/Public/anaconda2/lib/python2.7/site-packages/IPython/core/formatters.pyc\u001b[0m in \u001b[0;36m__call__\u001b[1;34m(self, obj)\u001b[0m\n\u001b[0;32m    337\u001b[0m                 \u001b[1;32mpass\u001b[0m\u001b[1;33m\u001b[0m\u001b[0m\n\u001b[0;32m    338\u001b[0m             \u001b[1;32melse\u001b[0m\u001b[1;33m:\u001b[0m\u001b[1;33m\u001b[0m\u001b[0m\n\u001b[1;32m--> 339\u001b[1;33m                 \u001b[1;32mreturn\u001b[0m \u001b[0mprinter\u001b[0m\u001b[1;33m(\u001b[0m\u001b[0mobj\u001b[0m\u001b[1;33m)\u001b[0m\u001b[1;33m\u001b[0m\u001b[0m\n\u001b[0m\u001b[0;32m    340\u001b[0m             \u001b[1;31m# Finally look for special method names\u001b[0m\u001b[1;33m\u001b[0m\u001b[1;33m\u001b[0m\u001b[0m\n\u001b[0;32m    341\u001b[0m             \u001b[0mmethod\u001b[0m \u001b[1;33m=\u001b[0m \u001b[0m_safe_get_formatter_method\u001b[0m\u001b[1;33m(\u001b[0m\u001b[0mobj\u001b[0m\u001b[1;33m,\u001b[0m \u001b[0mself\u001b[0m\u001b[1;33m.\u001b[0m\u001b[0mprint_method\u001b[0m\u001b[1;33m)\u001b[0m\u001b[1;33m\u001b[0m\u001b[0m\n",
      "\u001b[1;32m/home/topolo/Public/anaconda2/lib/python2.7/site-packages/IPython/core/pylabtools.pyc\u001b[0m in \u001b[0;36m<lambda>\u001b[1;34m(fig)\u001b[0m\n\u001b[0;32m    224\u001b[0m \u001b[1;33m\u001b[0m\u001b[0m\n\u001b[0;32m    225\u001b[0m     \u001b[1;32mif\u001b[0m \u001b[1;34m'png'\u001b[0m \u001b[1;32min\u001b[0m \u001b[0mformats\u001b[0m\u001b[1;33m:\u001b[0m\u001b[1;33m\u001b[0m\u001b[0m\n\u001b[1;32m--> 226\u001b[1;33m         \u001b[0mpng_formatter\u001b[0m\u001b[1;33m.\u001b[0m\u001b[0mfor_type\u001b[0m\u001b[1;33m(\u001b[0m\u001b[0mFigure\u001b[0m\u001b[1;33m,\u001b[0m \u001b[1;32mlambda\u001b[0m \u001b[0mfig\u001b[0m\u001b[1;33m:\u001b[0m \u001b[0mprint_figure\u001b[0m\u001b[1;33m(\u001b[0m\u001b[0mfig\u001b[0m\u001b[1;33m,\u001b[0m \u001b[1;34m'png'\u001b[0m\u001b[1;33m,\u001b[0m \u001b[1;33m**\u001b[0m\u001b[0mkwargs\u001b[0m\u001b[1;33m)\u001b[0m\u001b[1;33m)\u001b[0m\u001b[1;33m\u001b[0m\u001b[0m\n\u001b[0m\u001b[0;32m    227\u001b[0m     \u001b[1;32mif\u001b[0m \u001b[1;34m'retina'\u001b[0m \u001b[1;32min\u001b[0m \u001b[0mformats\u001b[0m \u001b[1;32mor\u001b[0m \u001b[1;34m'png2x'\u001b[0m \u001b[1;32min\u001b[0m \u001b[0mformats\u001b[0m\u001b[1;33m:\u001b[0m\u001b[1;33m\u001b[0m\u001b[0m\n\u001b[0;32m    228\u001b[0m         \u001b[0mpng_formatter\u001b[0m\u001b[1;33m.\u001b[0m\u001b[0mfor_type\u001b[0m\u001b[1;33m(\u001b[0m\u001b[0mFigure\u001b[0m\u001b[1;33m,\u001b[0m \u001b[1;32mlambda\u001b[0m \u001b[0mfig\u001b[0m\u001b[1;33m:\u001b[0m \u001b[0mretina_figure\u001b[0m\u001b[1;33m(\u001b[0m\u001b[0mfig\u001b[0m\u001b[1;33m,\u001b[0m \u001b[1;33m**\u001b[0m\u001b[0mkwargs\u001b[0m\u001b[1;33m)\u001b[0m\u001b[1;33m)\u001b[0m\u001b[1;33m\u001b[0m\u001b[0m\n",
      "\u001b[1;32m/home/topolo/Public/anaconda2/lib/python2.7/site-packages/IPython/core/pylabtools.pyc\u001b[0m in \u001b[0;36mprint_figure\u001b[1;34m(fig, fmt, bbox_inches, **kwargs)\u001b[0m\n\u001b[0;32m    115\u001b[0m \u001b[1;33m\u001b[0m\u001b[0m\n\u001b[0;32m    116\u001b[0m     \u001b[0mbytes_io\u001b[0m \u001b[1;33m=\u001b[0m \u001b[0mBytesIO\u001b[0m\u001b[1;33m(\u001b[0m\u001b[1;33m)\u001b[0m\u001b[1;33m\u001b[0m\u001b[0m\n\u001b[1;32m--> 117\u001b[1;33m     \u001b[0mfig\u001b[0m\u001b[1;33m.\u001b[0m\u001b[0mcanvas\u001b[0m\u001b[1;33m.\u001b[0m\u001b[0mprint_figure\u001b[0m\u001b[1;33m(\u001b[0m\u001b[0mbytes_io\u001b[0m\u001b[1;33m,\u001b[0m \u001b[1;33m**\u001b[0m\u001b[0mkw\u001b[0m\u001b[1;33m)\u001b[0m\u001b[1;33m\u001b[0m\u001b[0m\n\u001b[0m\u001b[0;32m    118\u001b[0m     \u001b[0mdata\u001b[0m \u001b[1;33m=\u001b[0m \u001b[0mbytes_io\u001b[0m\u001b[1;33m.\u001b[0m\u001b[0mgetvalue\u001b[0m\u001b[1;33m(\u001b[0m\u001b[1;33m)\u001b[0m\u001b[1;33m\u001b[0m\u001b[0m\n\u001b[0;32m    119\u001b[0m     \u001b[1;32mif\u001b[0m \u001b[0mfmt\u001b[0m \u001b[1;33m==\u001b[0m \u001b[1;34m'svg'\u001b[0m\u001b[1;33m:\u001b[0m\u001b[1;33m\u001b[0m\u001b[0m\n",
      "\u001b[1;32m/home/topolo/Public/anaconda2/lib/python2.7/site-packages/matplotlib/backend_bases.pyc\u001b[0m in \u001b[0;36mprint_figure\u001b[1;34m(self, filename, dpi, facecolor, edgecolor, orientation, format, **kwargs)\u001b[0m\n\u001b[0;32m   2242\u001b[0m                 \u001b[0morientation\u001b[0m\u001b[1;33m=\u001b[0m\u001b[0morientation\u001b[0m\u001b[1;33m,\u001b[0m\u001b[1;33m\u001b[0m\u001b[0m\n\u001b[0;32m   2243\u001b[0m                 \u001b[0mbbox_inches_restore\u001b[0m\u001b[1;33m=\u001b[0m\u001b[0m_bbox_inches_restore\u001b[0m\u001b[1;33m,\u001b[0m\u001b[1;33m\u001b[0m\u001b[0m\n\u001b[1;32m-> 2244\u001b[1;33m                 **kwargs)\n\u001b[0m\u001b[0;32m   2245\u001b[0m         \u001b[1;32mfinally\u001b[0m\u001b[1;33m:\u001b[0m\u001b[1;33m\u001b[0m\u001b[0m\n\u001b[0;32m   2246\u001b[0m             \u001b[1;32mif\u001b[0m \u001b[0mbbox_inches\u001b[0m \u001b[1;32mand\u001b[0m \u001b[0mrestore_bbox\u001b[0m\u001b[1;33m:\u001b[0m\u001b[1;33m\u001b[0m\u001b[0m\n",
      "\u001b[1;32m/home/topolo/Public/anaconda2/lib/python2.7/site-packages/matplotlib/backends/backend_agg.pyc\u001b[0m in \u001b[0;36mprint_png\u001b[1;34m(self, filename_or_obj, *args, **kwargs)\u001b[0m\n\u001b[0;32m    543\u001b[0m \u001b[1;33m\u001b[0m\u001b[0m\n\u001b[0;32m    544\u001b[0m     \u001b[1;32mdef\u001b[0m \u001b[0mprint_png\u001b[0m\u001b[1;33m(\u001b[0m\u001b[0mself\u001b[0m\u001b[1;33m,\u001b[0m \u001b[0mfilename_or_obj\u001b[0m\u001b[1;33m,\u001b[0m \u001b[1;33m*\u001b[0m\u001b[0margs\u001b[0m\u001b[1;33m,\u001b[0m \u001b[1;33m**\u001b[0m\u001b[0mkwargs\u001b[0m\u001b[1;33m)\u001b[0m\u001b[1;33m:\u001b[0m\u001b[1;33m\u001b[0m\u001b[0m\n\u001b[1;32m--> 545\u001b[1;33m         \u001b[0mFigureCanvasAgg\u001b[0m\u001b[1;33m.\u001b[0m\u001b[0mdraw\u001b[0m\u001b[1;33m(\u001b[0m\u001b[0mself\u001b[0m\u001b[1;33m)\u001b[0m\u001b[1;33m\u001b[0m\u001b[0m\n\u001b[0m\u001b[0;32m    546\u001b[0m         \u001b[0mrenderer\u001b[0m \u001b[1;33m=\u001b[0m \u001b[0mself\u001b[0m\u001b[1;33m.\u001b[0m\u001b[0mget_renderer\u001b[0m\u001b[1;33m(\u001b[0m\u001b[1;33m)\u001b[0m\u001b[1;33m\u001b[0m\u001b[0m\n\u001b[0;32m    547\u001b[0m         \u001b[0moriginal_dpi\u001b[0m \u001b[1;33m=\u001b[0m \u001b[0mrenderer\u001b[0m\u001b[1;33m.\u001b[0m\u001b[0mdpi\u001b[0m\u001b[1;33m\u001b[0m\u001b[0m\n",
      "\u001b[1;32m/home/topolo/Public/anaconda2/lib/python2.7/site-packages/matplotlib/backends/backend_agg.pyc\u001b[0m in \u001b[0;36mdraw\u001b[1;34m(self)\u001b[0m\n\u001b[0;32m    462\u001b[0m \u001b[1;33m\u001b[0m\u001b[0m\n\u001b[0;32m    463\u001b[0m         \u001b[1;32mtry\u001b[0m\u001b[1;33m:\u001b[0m\u001b[1;33m\u001b[0m\u001b[0m\n\u001b[1;32m--> 464\u001b[1;33m             \u001b[0mself\u001b[0m\u001b[1;33m.\u001b[0m\u001b[0mfigure\u001b[0m\u001b[1;33m.\u001b[0m\u001b[0mdraw\u001b[0m\u001b[1;33m(\u001b[0m\u001b[0mself\u001b[0m\u001b[1;33m.\u001b[0m\u001b[0mrenderer\u001b[0m\u001b[1;33m)\u001b[0m\u001b[1;33m\u001b[0m\u001b[0m\n\u001b[0m\u001b[0;32m    465\u001b[0m         \u001b[1;32mfinally\u001b[0m\u001b[1;33m:\u001b[0m\u001b[1;33m\u001b[0m\u001b[0m\n\u001b[0;32m    466\u001b[0m             \u001b[0mRendererAgg\u001b[0m\u001b[1;33m.\u001b[0m\u001b[0mlock\u001b[0m\u001b[1;33m.\u001b[0m\u001b[0mrelease\u001b[0m\u001b[1;33m(\u001b[0m\u001b[1;33m)\u001b[0m\u001b[1;33m\u001b[0m\u001b[0m\n",
      "\u001b[1;32m/home/topolo/Public/anaconda2/lib/python2.7/site-packages/matplotlib/artist.pyc\u001b[0m in \u001b[0;36mdraw_wrapper\u001b[1;34m(artist, renderer, *args, **kwargs)\u001b[0m\n\u001b[0;32m     61\u001b[0m     \u001b[1;32mdef\u001b[0m \u001b[0mdraw_wrapper\u001b[0m\u001b[1;33m(\u001b[0m\u001b[0martist\u001b[0m\u001b[1;33m,\u001b[0m \u001b[0mrenderer\u001b[0m\u001b[1;33m,\u001b[0m \u001b[1;33m*\u001b[0m\u001b[0margs\u001b[0m\u001b[1;33m,\u001b[0m \u001b[1;33m**\u001b[0m\u001b[0mkwargs\u001b[0m\u001b[1;33m)\u001b[0m\u001b[1;33m:\u001b[0m\u001b[1;33m\u001b[0m\u001b[0m\n\u001b[0;32m     62\u001b[0m         \u001b[0mbefore\u001b[0m\u001b[1;33m(\u001b[0m\u001b[0martist\u001b[0m\u001b[1;33m,\u001b[0m \u001b[0mrenderer\u001b[0m\u001b[1;33m)\u001b[0m\u001b[1;33m\u001b[0m\u001b[0m\n\u001b[1;32m---> 63\u001b[1;33m         \u001b[0mdraw\u001b[0m\u001b[1;33m(\u001b[0m\u001b[0martist\u001b[0m\u001b[1;33m,\u001b[0m \u001b[0mrenderer\u001b[0m\u001b[1;33m,\u001b[0m \u001b[1;33m*\u001b[0m\u001b[0margs\u001b[0m\u001b[1;33m,\u001b[0m \u001b[1;33m**\u001b[0m\u001b[0mkwargs\u001b[0m\u001b[1;33m)\u001b[0m\u001b[1;33m\u001b[0m\u001b[0m\n\u001b[0m\u001b[0;32m     64\u001b[0m         \u001b[0mafter\u001b[0m\u001b[1;33m(\u001b[0m\u001b[0martist\u001b[0m\u001b[1;33m,\u001b[0m \u001b[0mrenderer\u001b[0m\u001b[1;33m)\u001b[0m\u001b[1;33m\u001b[0m\u001b[0m\n\u001b[0;32m     65\u001b[0m \u001b[1;33m\u001b[0m\u001b[0m\n",
      "\u001b[1;32m/home/topolo/Public/anaconda2/lib/python2.7/site-packages/matplotlib/figure.pyc\u001b[0m in \u001b[0;36mdraw\u001b[1;34m(self, renderer)\u001b[0m\n\u001b[0;32m   1141\u001b[0m \u001b[1;33m\u001b[0m\u001b[0m\n\u001b[0;32m   1142\u001b[0m             mimage._draw_list_compositing_images(\n\u001b[1;32m-> 1143\u001b[1;33m                 renderer, self, dsu, self.suppressComposite)\n\u001b[0m\u001b[0;32m   1144\u001b[0m \u001b[1;33m\u001b[0m\u001b[0m\n\u001b[0;32m   1145\u001b[0m             \u001b[0mrenderer\u001b[0m\u001b[1;33m.\u001b[0m\u001b[0mclose_group\u001b[0m\u001b[1;33m(\u001b[0m\u001b[1;34m'figure'\u001b[0m\u001b[1;33m)\u001b[0m\u001b[1;33m\u001b[0m\u001b[0m\n",
      "\u001b[1;32m/home/topolo/Public/anaconda2/lib/python2.7/site-packages/matplotlib/image.pyc\u001b[0m in \u001b[0;36m_draw_list_compositing_images\u001b[1;34m(renderer, parent, dsu, suppress_composite)\u001b[0m\n\u001b[0;32m    137\u001b[0m     \u001b[1;32mif\u001b[0m \u001b[0mnot_composite\u001b[0m \u001b[1;32mor\u001b[0m \u001b[1;32mnot\u001b[0m \u001b[0mhas_images\u001b[0m\u001b[1;33m:\u001b[0m\u001b[1;33m\u001b[0m\u001b[0m\n\u001b[0;32m    138\u001b[0m         \u001b[1;32mfor\u001b[0m \u001b[0mzorder\u001b[0m\u001b[1;33m,\u001b[0m \u001b[0ma\u001b[0m \u001b[1;32min\u001b[0m \u001b[0mdsu\u001b[0m\u001b[1;33m:\u001b[0m\u001b[1;33m\u001b[0m\u001b[0m\n\u001b[1;32m--> 139\u001b[1;33m             \u001b[0ma\u001b[0m\u001b[1;33m.\u001b[0m\u001b[0mdraw\u001b[0m\u001b[1;33m(\u001b[0m\u001b[0mrenderer\u001b[0m\u001b[1;33m)\u001b[0m\u001b[1;33m\u001b[0m\u001b[0m\n\u001b[0m\u001b[0;32m    140\u001b[0m     \u001b[1;32melse\u001b[0m\u001b[1;33m:\u001b[0m\u001b[1;33m\u001b[0m\u001b[0m\n\u001b[0;32m    141\u001b[0m         \u001b[1;31m# Composite any adjacent images together\u001b[0m\u001b[1;33m\u001b[0m\u001b[1;33m\u001b[0m\u001b[0m\n",
      "\u001b[1;32m/home/topolo/Public/anaconda2/lib/python2.7/site-packages/mpl_toolkits/mplot3d/axes3d.pyc\u001b[0m in \u001b[0;36mdraw\u001b[1;34m(self, renderer)\u001b[0m\n\u001b[0;32m    269\u001b[0m         \u001b[1;31m# Calculate projection of collections and zorder them\u001b[0m\u001b[1;33m\u001b[0m\u001b[1;33m\u001b[0m\u001b[0m\n\u001b[0;32m    270\u001b[0m         zlist = [(col.do_3d_projection(renderer), col) \\\n\u001b[1;32m--> 271\u001b[1;33m                  for col in self.collections]\n\u001b[0m\u001b[0;32m    272\u001b[0m         \u001b[0mzlist\u001b[0m\u001b[1;33m.\u001b[0m\u001b[0msort\u001b[0m\u001b[1;33m(\u001b[0m\u001b[0mkey\u001b[0m\u001b[1;33m=\u001b[0m\u001b[0mitemgetter\u001b[0m\u001b[1;33m(\u001b[0m\u001b[1;36m0\u001b[0m\u001b[1;33m)\u001b[0m\u001b[1;33m,\u001b[0m \u001b[0mreverse\u001b[0m\u001b[1;33m=\u001b[0m\u001b[0mTrue\u001b[0m\u001b[1;33m)\u001b[0m\u001b[1;33m\u001b[0m\u001b[0m\n\u001b[0;32m    273\u001b[0m         \u001b[1;32mfor\u001b[0m \u001b[0mi\u001b[0m\u001b[1;33m,\u001b[0m \u001b[1;33m(\u001b[0m\u001b[0mz\u001b[0m\u001b[1;33m,\u001b[0m \u001b[0mcol\u001b[0m\u001b[1;33m)\u001b[0m \u001b[1;32min\u001b[0m \u001b[0menumerate\u001b[0m\u001b[1;33m(\u001b[0m\u001b[0mzlist\u001b[0m\u001b[1;33m)\u001b[0m\u001b[1;33m:\u001b[0m\u001b[1;33m\u001b[0m\u001b[0m\n",
      "\u001b[1;32m/home/topolo/Public/anaconda2/lib/python2.7/site-packages/mpl_toolkits/mplot3d/art3d.pyc\u001b[0m in \u001b[0;36mdo_3d_projection\u001b[1;34m(self, renderer)\u001b[0m\n\u001b[0;32m    640\u001b[0m             \u001b[0mPolyCollection\u001b[0m\u001b[1;33m.\u001b[0m\u001b[0mset_verts_and_codes\u001b[0m\u001b[1;33m(\u001b[0m\u001b[0mself\u001b[0m\u001b[1;33m,\u001b[0m \u001b[0msegments_2d\u001b[0m\u001b[1;33m,\u001b[0m \u001b[0mcodes\u001b[0m\u001b[1;33m)\u001b[0m\u001b[1;33m\u001b[0m\u001b[0m\n\u001b[0;32m    641\u001b[0m         \u001b[1;32melse\u001b[0m\u001b[1;33m:\u001b[0m\u001b[1;33m\u001b[0m\u001b[0m\n\u001b[1;32m--> 642\u001b[1;33m             \u001b[0mPolyCollection\u001b[0m\u001b[1;33m.\u001b[0m\u001b[0mset_verts\u001b[0m\u001b[1;33m(\u001b[0m\u001b[0mself\u001b[0m\u001b[1;33m,\u001b[0m \u001b[0msegments_2d\u001b[0m\u001b[1;33m)\u001b[0m\u001b[1;33m\u001b[0m\u001b[0m\n\u001b[0m\u001b[0;32m    643\u001b[0m \u001b[1;33m\u001b[0m\u001b[0m\n\u001b[0;32m    644\u001b[0m         \u001b[0mself\u001b[0m\u001b[1;33m.\u001b[0m\u001b[0m_facecolors2d\u001b[0m \u001b[1;33m=\u001b[0m \u001b[1;33m[\u001b[0m\u001b[0mfc\u001b[0m \u001b[1;32mfor\u001b[0m \u001b[0mz\u001b[0m\u001b[1;33m,\u001b[0m \u001b[0ms\u001b[0m\u001b[1;33m,\u001b[0m \u001b[0mfc\u001b[0m\u001b[1;33m,\u001b[0m \u001b[0mec\u001b[0m\u001b[1;33m,\u001b[0m \u001b[0midx\u001b[0m \u001b[1;32min\u001b[0m \u001b[0mz_segments_2d\u001b[0m\u001b[1;33m]\u001b[0m\u001b[1;33m\u001b[0m\u001b[0m\n",
      "\u001b[1;32m/home/topolo/Public/anaconda2/lib/python2.7/site-packages/matplotlib/collections.pyc\u001b[0m in \u001b[0;36mset_verts\u001b[1;34m(self, verts, closed)\u001b[0m\n\u001b[0;32m    939\u001b[0m                         \u001b[0mxy\u001b[0m \u001b[1;33m=\u001b[0m \u001b[0mnp\u001b[0m\u001b[1;33m.\u001b[0m\u001b[0mma\u001b[0m\u001b[1;33m.\u001b[0m\u001b[0mconcatenate\u001b[0m\u001b[1;33m(\u001b[0m\u001b[1;33m[\u001b[0m\u001b[0mxy\u001b[0m\u001b[1;33m,\u001b[0m \u001b[0mxy\u001b[0m\u001b[1;33m[\u001b[0m\u001b[1;36m0\u001b[0m\u001b[1;33m:\u001b[0m\u001b[1;36m1\u001b[0m\u001b[1;33m]\u001b[0m\u001b[1;33m]\u001b[0m\u001b[1;33m)\u001b[0m\u001b[1;33m\u001b[0m\u001b[0m\n\u001b[0;32m    940\u001b[0m                     \u001b[1;32melse\u001b[0m\u001b[1;33m:\u001b[0m\u001b[1;33m\u001b[0m\u001b[0m\n\u001b[1;32m--> 941\u001b[1;33m                         \u001b[0mxy\u001b[0m \u001b[1;33m=\u001b[0m \u001b[0mnp\u001b[0m\u001b[1;33m.\u001b[0m\u001b[0masarray\u001b[0m\u001b[1;33m(\u001b[0m\u001b[0mxy\u001b[0m\u001b[1;33m)\u001b[0m\u001b[1;33m\u001b[0m\u001b[0m\n\u001b[0m\u001b[0;32m    942\u001b[0m                         \u001b[0mxy\u001b[0m \u001b[1;33m=\u001b[0m \u001b[0mnp\u001b[0m\u001b[1;33m.\u001b[0m\u001b[0mconcatenate\u001b[0m\u001b[1;33m(\u001b[0m\u001b[1;33m[\u001b[0m\u001b[0mxy\u001b[0m\u001b[1;33m,\u001b[0m \u001b[0mxy\u001b[0m\u001b[1;33m[\u001b[0m\u001b[1;36m0\u001b[0m\u001b[1;33m:\u001b[0m\u001b[1;36m1\u001b[0m\u001b[1;33m]\u001b[0m\u001b[1;33m]\u001b[0m\u001b[1;33m)\u001b[0m\u001b[1;33m\u001b[0m\u001b[0m\n\u001b[0;32m    943\u001b[0m                     \u001b[0mcodes\u001b[0m \u001b[1;33m=\u001b[0m \u001b[0mnp\u001b[0m\u001b[1;33m.\u001b[0m\u001b[0mempty\u001b[0m\u001b[1;33m(\u001b[0m\u001b[0mxy\u001b[0m\u001b[1;33m.\u001b[0m\u001b[0mshape\u001b[0m\u001b[1;33m[\u001b[0m\u001b[1;36m0\u001b[0m\u001b[1;33m]\u001b[0m\u001b[1;33m,\u001b[0m \u001b[0mdtype\u001b[0m\u001b[1;33m=\u001b[0m\u001b[0mmpath\u001b[0m\u001b[1;33m.\u001b[0m\u001b[0mPath\u001b[0m\u001b[1;33m.\u001b[0m\u001b[0mcode_type\u001b[0m\u001b[1;33m)\u001b[0m\u001b[1;33m\u001b[0m\u001b[0m\n",
      "\u001b[1;32m/home/topolo/Public/anaconda2/lib/python2.7/site-packages/numpy/core/numeric.pyc\u001b[0m in \u001b[0;36masarray\u001b[1;34m(a, dtype, order)\u001b[0m\n\u001b[0;32m    480\u001b[0m \u001b[1;33m\u001b[0m\u001b[0m\n\u001b[0;32m    481\u001b[0m     \"\"\"\n\u001b[1;32m--> 482\u001b[1;33m     \u001b[1;32mreturn\u001b[0m \u001b[0marray\u001b[0m\u001b[1;33m(\u001b[0m\u001b[0ma\u001b[0m\u001b[1;33m,\u001b[0m \u001b[0mdtype\u001b[0m\u001b[1;33m,\u001b[0m \u001b[0mcopy\u001b[0m\u001b[1;33m=\u001b[0m\u001b[0mFalse\u001b[0m\u001b[1;33m,\u001b[0m \u001b[0morder\u001b[0m\u001b[1;33m=\u001b[0m\u001b[0morder\u001b[0m\u001b[1;33m)\u001b[0m\u001b[1;33m\u001b[0m\u001b[0m\n\u001b[0m\u001b[0;32m    483\u001b[0m \u001b[1;33m\u001b[0m\u001b[0m\n\u001b[0;32m    484\u001b[0m \u001b[1;32mdef\u001b[0m \u001b[0masanyarray\u001b[0m\u001b[1;33m(\u001b[0m\u001b[0ma\u001b[0m\u001b[1;33m,\u001b[0m \u001b[0mdtype\u001b[0m\u001b[1;33m=\u001b[0m\u001b[0mNone\u001b[0m\u001b[1;33m,\u001b[0m \u001b[0morder\u001b[0m\u001b[1;33m=\u001b[0m\u001b[0mNone\u001b[0m\u001b[1;33m)\u001b[0m\u001b[1;33m:\u001b[0m\u001b[1;33m\u001b[0m\u001b[0m\n",
      "\u001b[1;31mKeyboardInterrupt\u001b[0m: "
     ]
    }
   ],
   "source": [
    "plot_3d(pix_resampled,0)"
   ]
  },
  {
   "cell_type": "code",
   "execution_count": 90,
   "metadata": {},
   "outputs": [
    {
     "name": "stdout",
     "output_type": "stream",
     "text": [
      "<type 'numpy.ndarray'>\n",
      "<type 'numpy.ndarray'>\n",
      "(335, 306, 306)\n",
      "(335, 306, 306)\n"
     ]
    }
   ],
   "source": [
    "print(type(segmented_lungs));print(type(segmented_lungs_fill));\n",
    "print(segmented_lungs.shape);print(segmented_lungs_fill.shape)"
   ]
  },
  {
   "cell_type": "markdown",
   "metadata": {},
   "source": [
    "# Normalization \n",
    "Our values currently range from -1024 to around 2000.  Anything above 400 is not interesting to us, as these are simply bones with different radiodensity.  Here's some code you can use:"
   ]
  },
  {
   "cell_type": "code",
   "execution_count": 54,
   "metadata": {
    "collapsed": true
   },
   "outputs": [],
   "source": [
    "# MANUALLY change MIN_BOUND, MAX_BOUND\n",
    "MIN_BOUND=-1000.0  \n",
    "MAX_BOUND=400.0\n",
    "\n",
    "def normalize(image):\n",
    "    image = (image - MIN_BOUND)/(MAX_BOUND-MIN_BOUND)\n",
    "    image[image>1]=1.\n",
    "    image[image<0]=0.\n",
    "    return image"
   ]
  },
  {
   "cell_type": "markdown",
   "metadata": {},
   "source": [
    "# Zero centering  \n",
    "As a final preprocessing step, it's advisory to 0 center your data so that your mean value is 0.  To do this you simply subtract the mean pixel value from all pixels.  \n",
    "\n",
    "To determine this mean you simply average all images in the whole dataset.  If that sounds like a lot of work, we found this to be around 0.25 in the LUNA16 competition.  \n",
    "\n",
    "**Warning: Do not zero center with the mean per image (like is done in some kernels on here).  The CT scanners are calibrated to return accurate HU measurements.  There is no such thing as an image with lower contrast or brightness like in normal pictures.**\n"
   ]
  },
  {
   "cell_type": "code",
   "execution_count": 55,
   "metadata": {
    "collapsed": true
   },
   "outputs": [],
   "source": [
    "PIXEL_MEAN = 0.25\n",
    "\n",
    "def zero_center(image):\n",
    "    image = image - PIXEL_MEAN\n",
    "    return image"
   ]
  },
  {
   "cell_type": "code",
   "execution_count": null,
   "metadata": {
    "collapsed": true
   },
   "outputs": [],
   "source": [
    "# from rolanddog\n",
    "# https://www.kaggle.com/gzuidhof/data-science-bowl-2017/full-preprocessing-tutorial\n",
    "# zero-center, and preserve compressibility\n",
    "\n",
    "MIN_BOUND = -1000.0\n",
    "MAX_BOUND = 400.0\n",
    "PIXEL_MEAN = 0.25\n",
    "PIXEL_CORR = int((MAX_BOUND -MIN_BOUND)*PIXEL_MEAN) # in this case, 350\n",
    "\n",
    "def zero_center_w_compress(image):\n",
    "    image = image - PIXEL_CORR\n",
    "    return image"
   ]
  },
  {
   "cell_type": "code",
   "execution_count": null,
   "metadata": {
    "collapsed": true
   },
   "outputs": [],
   "source": [
    "def normalize(image):\n",
    "    image = (image - MIN_BOUND)/(MAX_BOUND-MIN_BOUND)\n",
    "    image[image>(1-PIXEL_MEAN)]=1.\n",
    "    image[image<(0-PIXEL_MEAN)]=0.\n",
    "    return image"
   ]
  },
  {
   "cell_type": "code",
   "execution_count": 159,
   "metadata": {
    "collapsed": true
   },
   "outputs": [],
   "source": [
    "def normalize_to_bounds(image,MIN_BOUND,MAX_BOUND,PIXEL_MEAN=0.25):\n",
    "    image = (image - MIN_BOUND)/(MAX_BOUND-MIN_BOUND)\n",
    "    image[image>(1-PIXEL_MEAN)]=1.\n",
    "    image[image<(0-PIXEL_MEAN)]=0.\n",
    "    return image    "
   ]
  },
  {
   "cell_type": "code",
   "execution_count": 44,
   "metadata": {
    "collapsed": true
   },
   "outputs": [],
   "source": [
    "def normalize(image,MIN_BOUND,MAX_BOUND):\n",
    "    image = (image - MIN_BOUND)/(MAX_BOUND-MIN_BOUND)\n",
    "    image[image>1]=1.\n",
    "    image[image<0]=0.\n",
    "    return image   "
   ]
  },
  {
   "cell_type": "code",
   "execution_count": 160,
   "metadata": {
    "collapsed": true
   },
   "outputs": [],
   "source": [
    "def zero_center_w_compress_to_bounds(image,MIN_BOUND,MAX_BOUND,PIXEL_MEAN=0.25):\n",
    "    PIXEL_CORR = int((MAX_BOUND -MIN_BOUND)*PIXEL_MEAN)\n",
    "    image = image - PIXEL_CORR\n",
    "    return image"
   ]
  },
  {
   "cell_type": "code",
   "execution_count": 45,
   "metadata": {
    "collapsed": true
   },
   "outputs": [],
   "source": [
    "def zero_center(image, PIXEL_MEAN):\n",
    "    image = image - PIXEL_MEAN\n",
    "    return image"
   ]
  },
  {
   "cell_type": "code",
   "execution_count": 65,
   "metadata": {
    "collapsed": true
   },
   "outputs": [],
   "source": [
    "import skimage"
   ]
  },
  {
   "cell_type": "code",
   "execution_count": 66,
   "metadata": {},
   "outputs": [
    {
     "data": {
      "text/plain": [
       "<function skimage.morphology.binary.binary_dilation>"
      ]
     },
     "execution_count": 66,
     "metadata": {},
     "output_type": "execute_result"
    }
   ],
   "source": [
    "skimage.morphology.binary_dilation"
   ]
  },
  {
   "cell_type": "markdown",
   "metadata": {},
   "source": [
    "General advice from Guido Zuidhof: http://pubs.rsna.org/doi/pdf/10.1148/radiol.11091710"
   ]
  },
  {
   "cell_type": "code",
   "execution_count": null,
   "metadata": {
    "collapsed": true
   },
   "outputs": [],
   "source": []
  },
  {
   "cell_type": "code",
   "execution_count": 104,
   "metadata": {},
   "outputs": [
    {
     "data": {
      "text/plain": [
       "134"
      ]
     },
     "execution_count": 104,
     "metadata": {},
     "output_type": "execute_result"
    }
   ],
   "source": [
    "len(first_patient)"
   ]
  },
  {
   "cell_type": "code",
   "execution_count": 105,
   "metadata": {
    "collapsed": true
   },
   "outputs": [],
   "source": [
    "%time patients_lst = [load_scan(INPUT_FOLDER+samplepatient) for samplepatient in patients]"
   ]
  },
  {
   "cell_type": "code",
   "execution_count": 112,
   "metadata": {},
   "outputs": [
    {
     "data": {
      "text/html": [
       "<div>\n",
       "<table border=\"1\" class=\"dataframe\">\n",
       "  <thead>\n",
       "    <tr style=\"text-align: right;\">\n",
       "      <th></th>\n",
       "      <th>0</th>\n",
       "    </tr>\n",
       "  </thead>\n",
       "  <tbody>\n",
       "    <tr>\n",
       "      <th>count</th>\n",
       "      <td>20.00000</td>\n",
       "    </tr>\n",
       "    <tr>\n",
       "      <th>mean</th>\n",
       "      <td>180.20000</td>\n",
       "    </tr>\n",
       "    <tr>\n",
       "      <th>std</th>\n",
       "      <td>75.23619</td>\n",
       "    </tr>\n",
       "    <tr>\n",
       "      <th>min</th>\n",
       "      <td>110.00000</td>\n",
       "    </tr>\n",
       "    <tr>\n",
       "      <th>25%</th>\n",
       "      <td>131.75000</td>\n",
       "    </tr>\n",
       "    <tr>\n",
       "      <th>50%</th>\n",
       "      <td>167.50000</td>\n",
       "    </tr>\n",
       "    <tr>\n",
       "      <th>75%</th>\n",
       "      <td>197.75000</td>\n",
       "    </tr>\n",
       "    <tr>\n",
       "      <th>max</th>\n",
       "      <td>435.00000</td>\n",
       "    </tr>\n",
       "  </tbody>\n",
       "</table>\n",
       "</div>"
      ],
      "text/plain": [
       "               0\n",
       "count   20.00000\n",
       "mean   180.20000\n",
       "std     75.23619\n",
       "min    110.00000\n",
       "25%    131.75000\n",
       "50%    167.50000\n",
       "75%    197.75000\n",
       "max    435.00000"
      ]
     },
     "execution_count": 112,
     "metadata": {},
     "output_type": "execute_result"
    }
   ],
   "source": [
    "pd.DataFrame( [len(patient) for patient in patients_lst] ).describe()"
   ]
  },
  {
   "cell_type": "code",
   "execution_count": 116,
   "metadata": {},
   "outputs": [
    {
     "name": "stdout",
     "output_type": "stream",
     "text": [
      "0    180.2\n",
      "dtype: float64\n",
      "0    167.5\n",
      "dtype: float64\n"
     ]
    }
   ],
   "source": [
    "print( pd.DataFrame( [len(patient) for patient in patients_lst]).mean() )\n",
    "print( pd.DataFrame( [len(patient) for patient in patients_lst]).median() )"
   ]
  },
  {
   "cell_type": "code",
   "execution_count": 117,
   "metadata": {},
   "outputs": [
    {
     "data": {
      "text/plain": [
       "'./2017datascibowl/sample_images/00cba091fa4ad62cc3200a657aeb957e'"
      ]
     },
     "execution_count": 117,
     "metadata": {},
     "output_type": "execute_result"
    }
   ],
   "source": [
    "INPUT_FOLDER+patients[0]"
   ]
  },
  {
   "cell_type": "code",
   "execution_count": 119,
   "metadata": {},
   "outputs": [
    {
     "data": {
      "text/plain": [
       "134"
      ]
     },
     "execution_count": 119,
     "metadata": {},
     "output_type": "execute_result"
    }
   ],
   "source": [
    "len( os.listdir(INPUT_FOLDER+patients[0]) )"
   ]
  },
  {
   "cell_type": "code",
   "execution_count": 120,
   "metadata": {},
   "outputs": [
    {
     "data": {
      "text/plain": [
       "134"
      ]
     },
     "execution_count": 120,
     "metadata": {},
     "output_type": "execute_result"
    }
   ],
   "source": [
    "len(patients_lst[0])"
   ]
  },
  {
   "cell_type": "code",
   "execution_count": 30,
   "metadata": {
    "collapsed": true
   },
   "outputs": [],
   "source": [
    "def slices_per_patient(input_folder_path):\n",
    "    \"\"\" slices_per_patient\n",
    "    @type input_folder_path : Python string \n",
    "    \"\"\"\n",
    "    patients = os.listdir(input_folder_path)\n",
    "    patients.sort()\n",
    "    \n",
    "    patient_slices_lst = []\n",
    "    \n",
    "    for patient in patients:\n",
    "        Nz = len( os.listdir(input_folder_path + patient))\n",
    "        patient_slices_lst.append(Nz)\n",
    "        \n",
    "    return patient_slices_lst"
   ]
  },
  {
   "cell_type": "code",
   "execution_count": 122,
   "metadata": {
    "collapsed": true
   },
   "outputs": [],
   "source": [
    "slices_per_patient_sample = slices_per_patient( INPUT_FOLDER)"
   ]
  },
  {
   "cell_type": "code",
   "execution_count": 125,
   "metadata": {},
   "outputs": [
    {
     "name": "stdout",
     "output_type": "stream",
     "text": [
      "20\n"
     ]
    },
    {
     "data": {
      "text/html": [
       "<div>\n",
       "<table border=\"1\" class=\"dataframe\">\n",
       "  <thead>\n",
       "    <tr style=\"text-align: right;\">\n",
       "      <th></th>\n",
       "      <th>0</th>\n",
       "    </tr>\n",
       "  </thead>\n",
       "  <tbody>\n",
       "    <tr>\n",
       "      <th>count</th>\n",
       "      <td>20.00000</td>\n",
       "    </tr>\n",
       "    <tr>\n",
       "      <th>mean</th>\n",
       "      <td>180.20000</td>\n",
       "    </tr>\n",
       "    <tr>\n",
       "      <th>std</th>\n",
       "      <td>75.23619</td>\n",
       "    </tr>\n",
       "    <tr>\n",
       "      <th>min</th>\n",
       "      <td>110.00000</td>\n",
       "    </tr>\n",
       "    <tr>\n",
       "      <th>25%</th>\n",
       "      <td>131.75000</td>\n",
       "    </tr>\n",
       "    <tr>\n",
       "      <th>50%</th>\n",
       "      <td>167.50000</td>\n",
       "    </tr>\n",
       "    <tr>\n",
       "      <th>75%</th>\n",
       "      <td>197.75000</td>\n",
       "    </tr>\n",
       "    <tr>\n",
       "      <th>max</th>\n",
       "      <td>435.00000</td>\n",
       "    </tr>\n",
       "  </tbody>\n",
       "</table>\n",
       "</div>"
      ],
      "text/plain": [
       "               0\n",
       "count   20.00000\n",
       "mean   180.20000\n",
       "std     75.23619\n",
       "min    110.00000\n",
       "25%    131.75000\n",
       "50%    167.50000\n",
       "75%    197.75000\n",
       "max    435.00000"
      ]
     },
     "execution_count": 125,
     "metadata": {},
     "output_type": "execute_result"
    }
   ],
   "source": [
    "print(len(slices_per_patient_sample))\n",
    "pd.DataFrame( slices_per_patient_sample).describe()"
   ]
  },
  {
   "cell_type": "code",
   "execution_count": null,
   "metadata": {
    "collapsed": true
   },
   "outputs": [],
   "source": [
    "# Load the scans in given folder path\n",
    "def load_scan(path):\n",
    "    \"\"\"\n",
    "    INPUTS/ARGUMENTS \n",
    "    ================\n",
    "    @type path : Python string\n",
    "    \n",
    "    @type slices : Python list (for each file in a folder/directory of dicom.dataset.FileDataset  \n",
    "    each is a slice of the single patient's lung\n",
    "    \"\"\"\n",
    "    slices = [dicom.read_file(path + '/' + s) for s in os.listdir(path)]\n",
    "    slices.sort(key = lambda x: float(x.ImagePositionPatient[2]))\n",
    "    try:\n",
    "        slice_thickness = np.abs(slices[0].ImagePositionPatient[2] - slices[1].ImagePositionPatient[2])\n",
    "    except:\n",
    "        slice_thickness = np.abs(slices[0].SliceLocation - slices[1].SliceLocation)\n",
    "        \n",
    "    for s in slices:\n",
    "        s.SliceThickness = slice_thickness\n",
    "        \n",
    "    return slices"
   ]
  },
  {
   "cell_type": "code",
   "execution_count": 158,
   "metadata": {},
   "outputs": [
    {
     "name": "stdout",
     "output_type": "stream",
     "text": [
      "<type 'list'>\n",
      "20\n",
      "<type 'numpy.ndarray'>\n",
      "(167, 128, 128)\n",
      "(167, 128, 128)\n"
     ]
    }
   ],
   "source": [
    "print(type(patients_resampled));print(len(patients_resampled));\n",
    "print(type(patients_resampled[0]));print(patients_resampled[0].shape);print(patients_resampled[7].shape)"
   ]
  },
  {
   "cell_type": "code",
   "execution_count": 93,
   "metadata": {},
   "outputs": [
    {
     "data": {
      "text/plain": [
       "['0d2fcf787026fece4e57be167d079383',\n",
       " '0a0c32c9e08cc2ea76a71649de56be6d',\n",
       " '0de72529c30fe642bc60dcb75c87f6bd',\n",
       " '0b20184e0cd497028bdd155d9fb42dc9',\n",
       " '00cba091fa4ad62cc3200a657aeb957e',\n",
       " '0acbebb8d463b4b9ca88cf38431aac69',\n",
       " '0c0de3749d4fe175b7a5098b060982a1',\n",
       " '0ca943d821204ceb089510f836a367fd',\n",
       " '0d19f1c627df49eb223771c28548350e',\n",
       " '0ddeb08e9c97227853422bd71a2a695e',\n",
       " '0c98fcb55e3f36d0c2b6507f62f4c5f1',\n",
       " '0a38e7597ca26f9374f8ea2770ba870d',\n",
       " '0a099f2549429d29b32f349e95fb2244',\n",
       " '0c59313f52304e25d5a7dcf9877633b1',\n",
       " '0c9d8314f9c69840e25febabb1229fa4',\n",
       " '0c37613214faddf8701ca41e6d43f56e',\n",
       " '0d941a3ad6c889ac451caf89c46cb92a',\n",
       " '0d06d764d3c07572074d468b4cff954f',\n",
       " '0bd0e3056cbf23a1cb7f0f0b18446068',\n",
       " '0c60f4b87afcb3e2dfa65abbbf3ef2f9']"
      ]
     },
     "execution_count": 93,
     "metadata": {},
     "output_type": "execute_result"
    }
   ],
   "source": [
    "os.listdir( os.getcwd() + \"/2017datascibowl/sample_images/\") "
   ]
  },
  {
   "cell_type": "code",
   "execution_count": 97,
   "metadata": {
    "collapsed": true
   },
   "outputs": [],
   "source": [
    "# Some constants\n",
    "INPUT_FOLDER = './2017datascibowl/sample_images/'\n",
    "patients=os.listdir(INPUT_FOLDER)\n",
    "patients.sort()"
   ]
  },
  {
   "cell_type": "code",
   "execution_count": 98,
   "metadata": {
    "collapsed": true
   },
   "outputs": [],
   "source": [
    "first_patient = load_scan(INPUT_FOLDER + patients[0])"
   ]
  },
  {
   "cell_type": "code",
   "execution_count": 99,
   "metadata": {
    "collapsed": true
   },
   "outputs": [],
   "source": [
    "# from Python list of 2-dim. numpy array/matrix to 3-dim. numpy array/matrix\n",
    "first_patient_pixels = get_pixels_hu(first_patient)"
   ]
  },
  {
   "cell_type": "code",
   "execution_count": 163,
   "metadata": {},
   "outputs": [
    {
     "data": {
      "text/plain": [
       "(128, 128)"
      ]
     },
     "execution_count": 163,
     "metadata": {},
     "output_type": "execute_result"
    }
   ],
   "source": [
    "patients_resampled[0][0].shape"
   ]
  },
  {
   "cell_type": "code",
   "execution_count": 165,
   "metadata": {},
   "outputs": [
    {
     "ename": "AttributeError",
     "evalue": "Dataset does not have attribute 'shape'.",
     "output_type": "error",
     "traceback": [
      "\u001b[1;31m---------------------------------------------------------------------------\u001b[0m",
      "\u001b[1;31mAttributeError\u001b[0m                            Traceback (most recent call last)",
      "\u001b[1;32m<ipython-input-165-fcda05cde827>\u001b[0m in \u001b[0;36m<module>\u001b[1;34m()\u001b[0m\n\u001b[1;32m----> 1\u001b[1;33m \u001b[0mpatients_lst\u001b[0m\u001b[1;33m[\u001b[0m\u001b[1;36m0\u001b[0m\u001b[1;33m]\u001b[0m\u001b[1;33m[\u001b[0m\u001b[1;36m0\u001b[0m\u001b[1;33m]\u001b[0m\u001b[1;33m.\u001b[0m\u001b[0mshape\u001b[0m\u001b[1;33m\u001b[0m\u001b[0m\n\u001b[0m",
      "\u001b[1;32m/home/topolo/.local/lib/python2.7/site-packages/dicom/dataset.pyc\u001b[0m in \u001b[0;36m__getattr__\u001b[1;34m(self, name)\u001b[0m\n\u001b[0;32m    250\u001b[0m         \u001b[1;32mif\u001b[0m \u001b[0mtag\u001b[0m \u001b[1;32mis\u001b[0m \u001b[0mNone\u001b[0m\u001b[1;33m:\u001b[0m\u001b[1;33m\u001b[0m\u001b[0m\n\u001b[0;32m    251\u001b[0m             raise AttributeError(\"Dataset does not have attribute \"\n\u001b[1;32m--> 252\u001b[1;33m                                  \"'{0:s}'.\".format(name))\n\u001b[0m\u001b[0;32m    253\u001b[0m         \u001b[0mtag\u001b[0m \u001b[1;33m=\u001b[0m \u001b[0mTag\u001b[0m\u001b[1;33m(\u001b[0m\u001b[0mtag\u001b[0m\u001b[1;33m)\u001b[0m\u001b[1;33m\u001b[0m\u001b[0m\n\u001b[0;32m    254\u001b[0m         \u001b[1;32mif\u001b[0m \u001b[0mtag\u001b[0m \u001b[1;32mnot\u001b[0m \u001b[1;32min\u001b[0m \u001b[0mself\u001b[0m\u001b[1;33m:\u001b[0m\u001b[1;33m\u001b[0m\u001b[0m\n",
      "\u001b[1;31mAttributeError\u001b[0m: Dataset does not have attribute 'shape'."
     ]
    }
   ],
   "source": [
    "patients_lst[0][0].shape"
   ]
  },
  {
   "cell_type": "code",
   "execution_count": 167,
   "metadata": {},
   "outputs": [
    {
     "name": "stdout",
     "output_type": "stream",
     "text": [
      "<type 'tuple'>\n"
     ]
    }
   ],
   "source": [
    "print(type(patients_resampled[0].shape))\n",
    "def norm_zero_images(patient_image,MIN_BOUND,MAX_BOUND,PIXEL_MEAN=0.25):\n",
    "    \"\"\" norm_zero_images - due normalization and zero center on a 3-dim. numpy array/matrix that \n",
    "    represents all (total) 2-dim. image slices for a single patient\"\"\"\n",
    "    Nz = patient_image.shape[0]\n",
    "    new_patient_image = []\n",
    "    for z_idx in range(Nz):\n",
    "        patient_normed=normalize_to_bounds(patient_image[z_idx],MIN_BOUND,MAX_BOUND,PIXEL_MEAN)\n",
    "        patient_normed=zero_center_w_compress_to_bounds(patient_normed,MIN_BOUND,MAX_BOUND,PIXEL_MEAN)\n",
    "        new_patient_image.append( patient_normed)\n",
    "    new_patient_image=np.array(new_patient_image)\n",
    "    return new_patient_image\n",
    "    "
   ]
  },
  {
   "cell_type": "code",
   "execution_count": 176,
   "metadata": {
    "collapsed": true
   },
   "outputs": [],
   "source": [
    "def norm_zero_images(patient_image,MIN_BOUND,MAX_BOUND,PIXEL_MEAN=0.25):\n",
    "    \"\"\" norm_zero_images - due normalization and zero center on a 3-dim. numpy array/matrix that \n",
    "    represents all (total) 2-dim. image slices for a single patient\"\"\"\n",
    "    Nz = patient_image.shape[0]\n",
    "    new_patient_image = []\n",
    "    for z_idx in range(Nz):\n",
    "        patient_normed=normalize_to_bounds(patient_image[z_idx],MIN_BOUND,MAX_BOUND,PIXEL_MEAN)\n",
    "        new_patient_image.append( patient_normed)\n",
    "    new_patient_image=np.array(new_patient_image)\n",
    "    return new_patient_image\n",
    "    "
   ]
  },
  {
   "cell_type": "code",
   "execution_count": 42,
   "metadata": {
    "collapsed": true
   },
   "outputs": [],
   "source": [
    "def norm_zero_images(patient_image,MIN_BOUND,MAX_BOUND,PIXEL_MEAN=0.25):\n",
    "    \"\"\" norm_zero_images - due normalization and zero center on a 3-dim. numpy array/matrix that \n",
    "    represents all (total) 2-dim. image slices for a single patient\"\"\"\n",
    "    Nz = patient_image.shape[0]\n",
    "    new_patient_image = []\n",
    "    for z_idx in range(Nz):\n",
    "        patient_normed=normalize(patient_image[z_idx],MIN_BOUND,MAX_BOUND)\n",
    "        patient_normed=zero_center(patient_normed,PIXEL_MEAN)\n",
    "        new_patient_image.append( patient_normed)\n",
    "    new_patient_image=np.array(new_patient_image)\n",
    "    return new_patient_image\n",
    "    "
   ]
  },
  {
   "cell_type": "code",
   "execution_count": 169,
   "metadata": {},
   "outputs": [
    {
     "name": "stdout",
     "output_type": "stream",
     "text": [
      "<type 'list'>\n"
     ]
    }
   ],
   "source": [
    "print(type(patients_resampled))"
   ]
  },
  {
   "cell_type": "code",
   "execution_count": 185,
   "metadata": {},
   "outputs": [
    {
     "name": "stdout",
     "output_type": "stream",
     "text": [
      "20\n",
      "              0           1           2           3           4           5    \\\n",
      "count  128.000000  128.000000  128.000000  128.000000  128.000000  128.000000   \n",
      "mean    -0.212516   -0.147667   -0.116010   -0.083693   -0.058500   -0.040557   \n",
      "std      0.146754    0.225505    0.246671    0.265201    0.275713    0.283895   \n",
      "min     -0.250000   -0.250000   -0.250000   -0.250000   -0.250000   -0.250000   \n",
      "25%     -0.250000   -0.250000   -0.250000   -0.250000   -0.250000   -0.250000   \n",
      "50%     -0.250000   -0.250000   -0.250000   -0.250000   -0.250000   -0.250000   \n",
      "75%     -0.250000   -0.250000   -0.216000    0.307167    0.315500    0.334333   \n",
      "max      0.418000    0.452000    0.406000    0.410667    0.423333    0.394667   \n",
      "\n",
      "              6           7           8           9       ...             118  \\\n",
      "count  128.000000  128.000000  128.000000  128.000000     ...      128.000000   \n",
      "mean    -0.022510   -0.002526    0.014297    0.035125     ...        0.025484   \n",
      "std      0.290399    0.298349    0.301242    0.313253     ...        0.314878   \n",
      "min     -0.250000   -0.250000   -0.250000   -0.250000     ...       -0.250000   \n",
      "25%     -0.250000   -0.250000   -0.250000   -0.250000     ...       -0.250000   \n",
      "50%     -0.250000   -0.250000   -0.250000   -0.236000     ...       -0.243667   \n",
      "75%      0.331000    0.349500    0.353333    0.364000     ...        0.361667   \n",
      "max      0.427333    0.414000    0.426667    0.515333     ...        0.488000   \n",
      "\n",
      "              119         120         121         122         123         124  \\\n",
      "count  128.000000  128.000000  128.000000  128.000000  128.000000  128.000000   \n",
      "mean     0.008688   -0.009792   -0.023198   -0.044302   -0.060365   -0.087927   \n",
      "std      0.306360    0.298038    0.291064    0.283720    0.276820    0.263664   \n",
      "min     -0.250000   -0.250000   -0.250000   -0.250000   -0.250000   -0.250000   \n",
      "25%     -0.250000   -0.250000   -0.250000   -0.250000   -0.250000   -0.250000   \n",
      "50%     -0.250000   -0.250000   -0.250000   -0.250000   -0.250000   -0.250000   \n",
      "75%      0.349000    0.345000    0.341500    0.336000    0.333167    0.304833   \n",
      "max      0.502667    0.454667    0.416667    0.402667    0.410667    0.404000   \n",
      "\n",
      "              125         126         127  \n",
      "count  128.000000  128.000000  128.000000  \n",
      "mean    -0.117469   -0.151094   -0.212516  \n",
      "std      0.247553    0.222542    0.145872  \n",
      "min     -0.250000   -0.250000   -0.250000  \n",
      "25%     -0.250000   -0.250000   -0.250000  \n",
      "50%     -0.250000   -0.250000   -0.250000  \n",
      "75%     -0.234833   -0.250000   -0.250000  \n",
      "max      0.421333    0.450000    0.380000  \n",
      "\n",
      "[8 rows x 128 columns]\n"
     ]
    },
    {
     "data": {
      "text/html": [
       "<div>\n",
       "<table border=\"1\" class=\"dataframe\">\n",
       "  <thead>\n",
       "    <tr style=\"text-align: right;\">\n",
       "      <th></th>\n",
       "      <th>0</th>\n",
       "      <th>1</th>\n",
       "      <th>2</th>\n",
       "      <th>3</th>\n",
       "      <th>4</th>\n",
       "      <th>5</th>\n",
       "      <th>6</th>\n",
       "      <th>7</th>\n",
       "      <th>8</th>\n",
       "      <th>9</th>\n",
       "      <th>...</th>\n",
       "      <th>118</th>\n",
       "      <th>119</th>\n",
       "      <th>120</th>\n",
       "      <th>121</th>\n",
       "      <th>122</th>\n",
       "      <th>123</th>\n",
       "      <th>124</th>\n",
       "      <th>125</th>\n",
       "      <th>126</th>\n",
       "      <th>127</th>\n",
       "    </tr>\n",
       "  </thead>\n",
       "  <tbody>\n",
       "    <tr>\n",
       "      <th>count</th>\n",
       "      <td>128.000000</td>\n",
       "      <td>128.000000</td>\n",
       "      <td>128.000000</td>\n",
       "      <td>128.000000</td>\n",
       "      <td>128.000000</td>\n",
       "      <td>128.000000</td>\n",
       "      <td>128.000000</td>\n",
       "      <td>128.000000</td>\n",
       "      <td>128.000000</td>\n",
       "      <td>128.000000</td>\n",
       "      <td>...</td>\n",
       "      <td>128.000000</td>\n",
       "      <td>128.000000</td>\n",
       "      <td>128.000000</td>\n",
       "      <td>128.000000</td>\n",
       "      <td>128.000000</td>\n",
       "      <td>128.000000</td>\n",
       "      <td>128.000000</td>\n",
       "      <td>128.000000</td>\n",
       "      <td>128.000000</td>\n",
       "      <td>128.000000</td>\n",
       "    </tr>\n",
       "    <tr>\n",
       "      <th>mean</th>\n",
       "      <td>-0.230599</td>\n",
       "      <td>-0.230245</td>\n",
       "      <td>-0.231547</td>\n",
       "      <td>-0.231187</td>\n",
       "      <td>-0.230729</td>\n",
       "      <td>-0.230807</td>\n",
       "      <td>-0.175568</td>\n",
       "      <td>-0.144021</td>\n",
       "      <td>-0.118594</td>\n",
       "      <td>-0.097125</td>\n",
       "      <td>...</td>\n",
       "      <td>0.000677</td>\n",
       "      <td>-0.021240</td>\n",
       "      <td>-0.039714</td>\n",
       "      <td>-0.066349</td>\n",
       "      <td>-0.096964</td>\n",
       "      <td>-0.125469</td>\n",
       "      <td>-0.170786</td>\n",
       "      <td>-0.214474</td>\n",
       "      <td>-0.233083</td>\n",
       "      <td>-0.232932</td>\n",
       "    </tr>\n",
       "    <tr>\n",
       "      <th>std</th>\n",
       "      <td>0.053464</td>\n",
       "      <td>0.062904</td>\n",
       "      <td>0.060050</td>\n",
       "      <td>0.059088</td>\n",
       "      <td>0.064771</td>\n",
       "      <td>0.050273</td>\n",
       "      <td>0.182362</td>\n",
       "      <td>0.213400</td>\n",
       "      <td>0.237917</td>\n",
       "      <td>0.251674</td>\n",
       "      <td>...</td>\n",
       "      <td>0.300971</td>\n",
       "      <td>0.289309</td>\n",
       "      <td>0.275276</td>\n",
       "      <td>0.259251</td>\n",
       "      <td>0.248110</td>\n",
       "      <td>0.229557</td>\n",
       "      <td>0.171742</td>\n",
       "      <td>0.076303</td>\n",
       "      <td>0.062620</td>\n",
       "      <td>0.052833</td>\n",
       "    </tr>\n",
       "    <tr>\n",
       "      <th>min</th>\n",
       "      <td>-0.250000</td>\n",
       "      <td>-0.250000</td>\n",
       "      <td>-0.250000</td>\n",
       "      <td>-0.250000</td>\n",
       "      <td>-0.250000</td>\n",
       "      <td>-0.250000</td>\n",
       "      <td>-0.250000</td>\n",
       "      <td>-0.250000</td>\n",
       "      <td>-0.250000</td>\n",
       "      <td>-0.250000</td>\n",
       "      <td>...</td>\n",
       "      <td>-0.250000</td>\n",
       "      <td>-0.250000</td>\n",
       "      <td>-0.250000</td>\n",
       "      <td>-0.250000</td>\n",
       "      <td>-0.250000</td>\n",
       "      <td>-0.250000</td>\n",
       "      <td>-0.250000</td>\n",
       "      <td>-0.250000</td>\n",
       "      <td>-0.250000</td>\n",
       "      <td>-0.250000</td>\n",
       "    </tr>\n",
       "    <tr>\n",
       "      <th>25%</th>\n",
       "      <td>-0.250000</td>\n",
       "      <td>-0.250000</td>\n",
       "      <td>-0.250000</td>\n",
       "      <td>-0.250000</td>\n",
       "      <td>-0.250000</td>\n",
       "      <td>-0.250000</td>\n",
       "      <td>-0.250000</td>\n",
       "      <td>-0.250000</td>\n",
       "      <td>-0.250000</td>\n",
       "      <td>-0.250000</td>\n",
       "      <td>...</td>\n",
       "      <td>-0.249500</td>\n",
       "      <td>-0.249333</td>\n",
       "      <td>-0.250000</td>\n",
       "      <td>-0.250000</td>\n",
       "      <td>-0.250000</td>\n",
       "      <td>-0.250000</td>\n",
       "      <td>-0.250000</td>\n",
       "      <td>-0.250000</td>\n",
       "      <td>-0.250000</td>\n",
       "      <td>-0.250000</td>\n",
       "    </tr>\n",
       "    <tr>\n",
       "      <th>50%</th>\n",
       "      <td>-0.248000</td>\n",
       "      <td>-0.246667</td>\n",
       "      <td>-0.248000</td>\n",
       "      <td>-0.247333</td>\n",
       "      <td>-0.247000</td>\n",
       "      <td>-0.247667</td>\n",
       "      <td>-0.243667</td>\n",
       "      <td>-0.243000</td>\n",
       "      <td>-0.243333</td>\n",
       "      <td>-0.241667</td>\n",
       "      <td>...</td>\n",
       "      <td>-0.220333</td>\n",
       "      <td>-0.221000</td>\n",
       "      <td>-0.224667</td>\n",
       "      <td>-0.231000</td>\n",
       "      <td>-0.238000</td>\n",
       "      <td>-0.243667</td>\n",
       "      <td>-0.247000</td>\n",
       "      <td>-0.245000</td>\n",
       "      <td>-0.249000</td>\n",
       "      <td>-0.249000</td>\n",
       "    </tr>\n",
       "    <tr>\n",
       "      <th>75%</th>\n",
       "      <td>-0.234500</td>\n",
       "      <td>-0.232333</td>\n",
       "      <td>-0.235667</td>\n",
       "      <td>-0.236167</td>\n",
       "      <td>-0.236333</td>\n",
       "      <td>-0.231833</td>\n",
       "      <td>-0.209500</td>\n",
       "      <td>-0.196500</td>\n",
       "      <td>-0.187667</td>\n",
       "      <td>-0.177833</td>\n",
       "      <td>...</td>\n",
       "      <td>0.360833</td>\n",
       "      <td>0.350167</td>\n",
       "      <td>0.336333</td>\n",
       "      <td>0.150333</td>\n",
       "      <td>-0.075000</td>\n",
       "      <td>-0.174167</td>\n",
       "      <td>-0.208167</td>\n",
       "      <td>-0.218667</td>\n",
       "      <td>-0.237333</td>\n",
       "      <td>-0.237333</td>\n",
       "    </tr>\n",
       "    <tr>\n",
       "      <th>max</th>\n",
       "      <td>0.214667</td>\n",
       "      <td>0.423333</td>\n",
       "      <td>0.372667</td>\n",
       "      <td>0.354000</td>\n",
       "      <td>0.448667</td>\n",
       "      <td>0.194000</td>\n",
       "      <td>0.483333</td>\n",
       "      <td>0.444667</td>\n",
       "      <td>0.447333</td>\n",
       "      <td>0.461333</td>\n",
       "      <td>...</td>\n",
       "      <td>0.508667</td>\n",
       "      <td>0.451333</td>\n",
       "      <td>0.463333</td>\n",
       "      <td>0.450667</td>\n",
       "      <td>0.445333</td>\n",
       "      <td>0.444667</td>\n",
       "      <td>0.424000</td>\n",
       "      <td>0.403333</td>\n",
       "      <td>0.427333</td>\n",
       "      <td>0.165333</td>\n",
       "    </tr>\n",
       "  </tbody>\n",
       "</table>\n",
       "<p>8 rows × 128 columns</p>\n",
       "</div>"
      ],
      "text/plain": [
       "              0           1           2           3           4           5    \\\n",
       "count  128.000000  128.000000  128.000000  128.000000  128.000000  128.000000   \n",
       "mean    -0.230599   -0.230245   -0.231547   -0.231187   -0.230729   -0.230807   \n",
       "std      0.053464    0.062904    0.060050    0.059088    0.064771    0.050273   \n",
       "min     -0.250000   -0.250000   -0.250000   -0.250000   -0.250000   -0.250000   \n",
       "25%     -0.250000   -0.250000   -0.250000   -0.250000   -0.250000   -0.250000   \n",
       "50%     -0.248000   -0.246667   -0.248000   -0.247333   -0.247000   -0.247667   \n",
       "75%     -0.234500   -0.232333   -0.235667   -0.236167   -0.236333   -0.231833   \n",
       "max      0.214667    0.423333    0.372667    0.354000    0.448667    0.194000   \n",
       "\n",
       "              6           7           8           9       ...             118  \\\n",
       "count  128.000000  128.000000  128.000000  128.000000     ...      128.000000   \n",
       "mean    -0.175568   -0.144021   -0.118594   -0.097125     ...        0.000677   \n",
       "std      0.182362    0.213400    0.237917    0.251674     ...        0.300971   \n",
       "min     -0.250000   -0.250000   -0.250000   -0.250000     ...       -0.250000   \n",
       "25%     -0.250000   -0.250000   -0.250000   -0.250000     ...       -0.249500   \n",
       "50%     -0.243667   -0.243000   -0.243333   -0.241667     ...       -0.220333   \n",
       "75%     -0.209500   -0.196500   -0.187667   -0.177833     ...        0.360833   \n",
       "max      0.483333    0.444667    0.447333    0.461333     ...        0.508667   \n",
       "\n",
       "              119         120         121         122         123         124  \\\n",
       "count  128.000000  128.000000  128.000000  128.000000  128.000000  128.000000   \n",
       "mean    -0.021240   -0.039714   -0.066349   -0.096964   -0.125469   -0.170786   \n",
       "std      0.289309    0.275276    0.259251    0.248110    0.229557    0.171742   \n",
       "min     -0.250000   -0.250000   -0.250000   -0.250000   -0.250000   -0.250000   \n",
       "25%     -0.249333   -0.250000   -0.250000   -0.250000   -0.250000   -0.250000   \n",
       "50%     -0.221000   -0.224667   -0.231000   -0.238000   -0.243667   -0.247000   \n",
       "75%      0.350167    0.336333    0.150333   -0.075000   -0.174167   -0.208167   \n",
       "max      0.451333    0.463333    0.450667    0.445333    0.444667    0.424000   \n",
       "\n",
       "              125         126         127  \n",
       "count  128.000000  128.000000  128.000000  \n",
       "mean    -0.214474   -0.233083   -0.232932  \n",
       "std      0.076303    0.062620    0.052833  \n",
       "min     -0.250000   -0.250000   -0.250000  \n",
       "25%     -0.250000   -0.250000   -0.250000  \n",
       "50%     -0.245000   -0.249000   -0.249000  \n",
       "75%     -0.218667   -0.237333   -0.237333  \n",
       "max      0.403333    0.427333    0.165333  \n",
       "\n",
       "[8 rows x 128 columns]"
      ]
     },
     "execution_count": 185,
     "metadata": {},
     "output_type": "execute_result"
    }
   ],
   "source": [
    "print(len( patients_resampled_normed ))\n",
    "print(pd.DataFrame(patients_resampled_normed[0][0]).describe())\n",
    "pd.DataFrame(patients_resampled_normed[4][6]).describe()"
   ]
  },
  {
   "cell_type": "code",
   "execution_count": 186,
   "metadata": {},
   "outputs": [
    {
     "data": {
      "text/plain": [
       "['stage1_sample_submission.csv',\n",
       " 'stage1_sample_submission.csv.zip',\n",
       " 'stage1_labels.csv',\n",
       " 'stage1_labels.csv.zip',\n",
       " 'sample_images']"
      ]
     },
     "execution_count": 186,
     "metadata": {},
     "output_type": "execute_result"
    }
   ],
   "source": [
    "os.listdir('./2017datascibowl/')"
   ]
  },
  {
   "cell_type": "code",
   "execution_count": 192,
   "metadata": {
    "collapsed": true
   },
   "outputs": [],
   "source": [
    "yhat_ids = pd.read_csv('./2017datascibowl/stage1_labels.csv')"
   ]
  },
  {
   "cell_type": "code",
   "execution_count": 193,
   "metadata": {},
   "outputs": [
    {
     "data": {
      "text/html": [
       "<div>\n",
       "<table border=\"1\" class=\"dataframe\">\n",
       "  <thead>\n",
       "    <tr style=\"text-align: right;\">\n",
       "      <th></th>\n",
       "      <th>id</th>\n",
       "      <th>cancer</th>\n",
       "    </tr>\n",
       "  </thead>\n",
       "  <tbody>\n",
       "    <tr>\n",
       "      <th>0</th>\n",
       "      <td>0015ceb851d7251b8f399e39779d1e7d</td>\n",
       "      <td>1</td>\n",
       "    </tr>\n",
       "    <tr>\n",
       "      <th>1</th>\n",
       "      <td>0030a160d58723ff36d73f41b170ec21</td>\n",
       "      <td>0</td>\n",
       "    </tr>\n",
       "    <tr>\n",
       "      <th>2</th>\n",
       "      <td>003f41c78e6acfa92430a057ac0b306e</td>\n",
       "      <td>0</td>\n",
       "    </tr>\n",
       "    <tr>\n",
       "      <th>3</th>\n",
       "      <td>006b96310a37b36cccb2ab48d10b49a3</td>\n",
       "      <td>1</td>\n",
       "    </tr>\n",
       "    <tr>\n",
       "      <th>4</th>\n",
       "      <td>008464bb8521d09a42985dd8add3d0d2</td>\n",
       "      <td>1</td>\n",
       "    </tr>\n",
       "  </tbody>\n",
       "</table>\n",
       "</div>"
      ],
      "text/plain": [
       "                                 id  cancer\n",
       "0  0015ceb851d7251b8f399e39779d1e7d       1\n",
       "1  0030a160d58723ff36d73f41b170ec21       0\n",
       "2  003f41c78e6acfa92430a057ac0b306e       0\n",
       "3  006b96310a37b36cccb2ab48d10b49a3       1\n",
       "4  008464bb8521d09a42985dd8add3d0d2       1"
      ]
     },
     "execution_count": 193,
     "metadata": {},
     "output_type": "execute_result"
    }
   ],
   "source": [
    "yhat_ids.head()"
   ]
  },
  {
   "cell_type": "code",
   "execution_count": 201,
   "metadata": {},
   "outputs": [],
   "source": [
    "yhat_ids_found = yhat_ids.loc[yhat_ids['id'].isin(patients)]"
   ]
  },
  {
   "cell_type": "code",
   "execution_count": 209,
   "metadata": {},
   "outputs": [],
   "source": [
    "yhat_ids_found;"
   ]
  },
  {
   "cell_type": "code",
   "execution_count": 212,
   "metadata": {},
   "outputs": [],
   "source": [
    "#yhat_ids_found['id']-pd.DataFrame(patients) "
   ]
  },
  {
   "cell_type": "code",
   "execution_count": 218,
   "metadata": {},
   "outputs": [
    {
     "data": {
      "text/plain": [
       "Set(['0b20184e0cd497028bdd155d9fb42dc9'])"
      ]
     },
     "execution_count": 218,
     "metadata": {},
     "output_type": "execute_result"
    }
   ],
   "source": [
    "Set( yhat_ids_found['id']).symmetric_difference(patients)"
   ]
  },
  {
   "cell_type": "code",
   "execution_count": 225,
   "metadata": {},
   "outputs": [],
   "source": [
    "yhat_ids['id'].iloc[:70];"
   ]
  },
  {
   "cell_type": "code",
   "execution_count": 231,
   "metadata": {},
   "outputs": [
    {
     "data": {
      "text/html": [
       "<div>\n",
       "<table border=\"1\" class=\"dataframe\">\n",
       "  <thead>\n",
       "    <tr style=\"text-align: right;\">\n",
       "      <th></th>\n",
       "      <th>0</th>\n",
       "    </tr>\n",
       "  </thead>\n",
       "  <tbody>\n",
       "    <tr>\n",
       "      <th>0</th>\n",
       "      <td>00cba091fa4ad62cc3200a657aeb957e</td>\n",
       "    </tr>\n",
       "    <tr>\n",
       "      <th>1</th>\n",
       "      <td>0a099f2549429d29b32f349e95fb2244</td>\n",
       "    </tr>\n",
       "    <tr>\n",
       "      <th>2</th>\n",
       "      <td>0a0c32c9e08cc2ea76a71649de56be6d</td>\n",
       "    </tr>\n",
       "    <tr>\n",
       "      <th>3</th>\n",
       "      <td>0a38e7597ca26f9374f8ea2770ba870d</td>\n",
       "    </tr>\n",
       "    <tr>\n",
       "      <th>4</th>\n",
       "      <td>0acbebb8d463b4b9ca88cf38431aac69</td>\n",
       "    </tr>\n",
       "    <tr>\n",
       "      <th>5</th>\n",
       "      <td>0b20184e0cd497028bdd155d9fb42dc9</td>\n",
       "    </tr>\n",
       "    <tr>\n",
       "      <th>6</th>\n",
       "      <td>0bd0e3056cbf23a1cb7f0f0b18446068</td>\n",
       "    </tr>\n",
       "    <tr>\n",
       "      <th>7</th>\n",
       "      <td>0c0de3749d4fe175b7a5098b060982a1</td>\n",
       "    </tr>\n",
       "    <tr>\n",
       "      <th>8</th>\n",
       "      <td>0c37613214faddf8701ca41e6d43f56e</td>\n",
       "    </tr>\n",
       "    <tr>\n",
       "      <th>9</th>\n",
       "      <td>0c59313f52304e25d5a7dcf9877633b1</td>\n",
       "    </tr>\n",
       "    <tr>\n",
       "      <th>10</th>\n",
       "      <td>0c60f4b87afcb3e2dfa65abbbf3ef2f9</td>\n",
       "    </tr>\n",
       "    <tr>\n",
       "      <th>11</th>\n",
       "      <td>0c98fcb55e3f36d0c2b6507f62f4c5f1</td>\n",
       "    </tr>\n",
       "    <tr>\n",
       "      <th>12</th>\n",
       "      <td>0c9d8314f9c69840e25febabb1229fa4</td>\n",
       "    </tr>\n",
       "    <tr>\n",
       "      <th>13</th>\n",
       "      <td>0ca943d821204ceb089510f836a367fd</td>\n",
       "    </tr>\n",
       "    <tr>\n",
       "      <th>14</th>\n",
       "      <td>0d06d764d3c07572074d468b4cff954f</td>\n",
       "    </tr>\n",
       "    <tr>\n",
       "      <th>15</th>\n",
       "      <td>0d19f1c627df49eb223771c28548350e</td>\n",
       "    </tr>\n",
       "    <tr>\n",
       "      <th>16</th>\n",
       "      <td>0d2fcf787026fece4e57be167d079383</td>\n",
       "    </tr>\n",
       "    <tr>\n",
       "      <th>17</th>\n",
       "      <td>0d941a3ad6c889ac451caf89c46cb92a</td>\n",
       "    </tr>\n",
       "    <tr>\n",
       "      <th>18</th>\n",
       "      <td>0ddeb08e9c97227853422bd71a2a695e</td>\n",
       "    </tr>\n",
       "    <tr>\n",
       "      <th>19</th>\n",
       "      <td>0de72529c30fe642bc60dcb75c87f6bd</td>\n",
       "    </tr>\n",
       "  </tbody>\n",
       "</table>\n",
       "</div>"
      ],
      "text/plain": [
       "                                   0\n",
       "0   00cba091fa4ad62cc3200a657aeb957e\n",
       "1   0a099f2549429d29b32f349e95fb2244\n",
       "2   0a0c32c9e08cc2ea76a71649de56be6d\n",
       "3   0a38e7597ca26f9374f8ea2770ba870d\n",
       "4   0acbebb8d463b4b9ca88cf38431aac69\n",
       "5   0b20184e0cd497028bdd155d9fb42dc9\n",
       "6   0bd0e3056cbf23a1cb7f0f0b18446068\n",
       "7   0c0de3749d4fe175b7a5098b060982a1\n",
       "8   0c37613214faddf8701ca41e6d43f56e\n",
       "9   0c59313f52304e25d5a7dcf9877633b1\n",
       "10  0c60f4b87afcb3e2dfa65abbbf3ef2f9\n",
       "11  0c98fcb55e3f36d0c2b6507f62f4c5f1\n",
       "12  0c9d8314f9c69840e25febabb1229fa4\n",
       "13  0ca943d821204ceb089510f836a367fd\n",
       "14  0d06d764d3c07572074d468b4cff954f\n",
       "15  0d19f1c627df49eb223771c28548350e\n",
       "16  0d2fcf787026fece4e57be167d079383\n",
       "17  0d941a3ad6c889ac451caf89c46cb92a\n",
       "18  0ddeb08e9c97227853422bd71a2a695e\n",
       "19  0de72529c30fe642bc60dcb75c87f6bd"
      ]
     },
     "execution_count": 231,
     "metadata": {},
     "output_type": "execute_result"
    }
   ],
   "source": [
    "pd.DataFrame(patients)"
   ]
  },
  {
   "cell_type": "code",
   "execution_count": 245,
   "metadata": {},
   "outputs": [
    {
     "data": {
      "text/plain": [
       "True"
      ]
     },
     "execution_count": 245,
     "metadata": {},
     "output_type": "execute_result"
    }
   ],
   "source": [
    "# pd.concat([pd.DataFrame(patients), yhat_ids_found['id']],join=\"inner\",ignore_index=True)\n",
    "patients[0] in yhat_ids_found['id'].as_matrix()"
   ]
  },
  {
   "cell_type": "code",
   "execution_count": 256,
   "metadata": {},
   "outputs": [],
   "source": [
    "m = len(patients)\n",
    "found_indices =[]\n",
    "for i in range(m):\n",
    "    if patients[i] in yhat_ids_found['id'].as_matrix():\n",
    "        found_indices.append(i)"
   ]
  },
  {
   "cell_type": "code",
   "execution_count": 257,
   "metadata": {
    "collapsed": true
   },
   "outputs": [],
   "source": [
    "patients_resampled_found = [patients[i] for i in found_indices]"
   ]
  },
  {
   "cell_type": "code",
   "execution_count": 263,
   "metadata": {},
   "outputs": [
    {
     "name": "stdout",
     "output_type": "stream",
     "text": [
      "True\n",
      "True\n",
      "True\n",
      "True\n",
      "True\n",
      "True\n",
      "True\n",
      "True\n",
      "True\n",
      "True\n",
      "True\n",
      "True\n",
      "True\n",
      "True\n",
      "True\n",
      "True\n",
      "True\n",
      "True\n",
      "True\n"
     ]
    }
   ],
   "source": [
    "for i in range(len(found_indices)):\n",
    "    print(patients_resampled_found[i] in yhat_ids_found['id'].as_matrix())"
   ]
  },
  {
   "cell_type": "code",
   "execution_count": 264,
   "metadata": {},
   "outputs": [],
   "source": [
    "y_found=[]\n",
    "for i in range(len(found_indices)):\n",
    "    if (patients_resampled_found[i] in yhat_ids_found['id'].as_matrix()):\n",
    "        y_found.append( yhat_ids_found['cancer'] )"
   ]
  },
  {
   "cell_type": "code",
   "execution_count": 294,
   "metadata": {},
   "outputs": [
    {
     "data": {
      "text/plain": [
       "['2017datascibowl',\n",
       " 'data_password.txt.zip',\n",
       " 'data_password.txt',\n",
       " 'stage1.7z',\n",
       " 'LSTM_model201702271930.save',\n",
       " 'cleaning_dueSigmaFin.pyc',\n",
       " 'LSTM_model201702280608.save',\n",
       " '.ipynb_checkpoints',\n",
       " 'dueSigmaFinancial_kaggle.py',\n",
       " 'LSTM_model.save',\n",
       " 'LSTM_model201703012346.save',\n",
       " 'glass-classification.zip',\n",
       " 'DatSciBow2017_FullPreprocessTutorial.ipynb',\n",
       " 'sample_images.7z',\n",
       " 'LSTM_model201702282350.save',\n",
       " 'GRU_model201703022010.save',\n",
       " 'DueSigmaFin_runs.ipynb',\n",
       " 'ImagePreprocessing.ipynb',\n",
       " 'dueSigmaFinancial_local.ipynb',\n",
       " 'GRU_model201703012348.save',\n",
       " 'GRU_model201703050709.save',\n",
       " 'GRU_model201703021741.save',\n",
       " 'kaggle.ipynb',\n",
       " 'glass.csv',\n",
       " 'train.h5.zip',\n",
       " '__init__.py',\n",
       " 'train.h5',\n",
       " 'stage1.torrent',\n",
       " 'dueSigmaFinancial_local_GRUs.ipynb',\n",
       " 'cleaning_dueSigmaFin.py']"
      ]
     },
     "execution_count": 294,
     "metadata": {},
     "output_type": "execute_result"
    }
   ],
   "source": [
    "os.listdir(os.getcwd())"
   ]
  },
  {
   "cell_type": "markdown",
   "metadata": {},
   "source": [
    "# Summary"
   ]
  },
  {
   "cell_type": "code",
   "execution_count": 126,
   "metadata": {
    "collapsed": true
   },
   "outputs": [],
   "source": [
    "# Some constants\n",
    "INPUT_FOLDER = './2017datascibowl/sample_images/'\n",
    "patients=os.listdir(INPUT_FOLDER)\n",
    "patients.sort()"
   ]
  },
  {
   "cell_type": "code",
   "execution_count": 133,
   "metadata": {},
   "outputs": [],
   "source": [
    "Nz_lst = slices_per_patient(INPUT_FOLDER)\n",
    "Nz_tot= int( pd.DataFrame(Nz_lst).median() )"
   ]
  },
  {
   "cell_type": "code",
   "execution_count": 134,
   "metadata": {},
   "outputs": [
    {
     "data": {
      "text/plain": [
       "167"
      ]
     },
     "execution_count": 134,
     "metadata": {},
     "output_type": "execute_result"
    }
   ],
   "source": [
    "%time patients_lst = [load_scan(INPUT_FOLDER+samplepatient) for samplepatient in patients]"
   ]
  },
  {
   "cell_type": "code",
   "execution_count": 136,
   "metadata": {},
   "outputs": [
    {
     "name": "stdout",
     "output_type": "stream",
     "text": [
      "CPU times: user 4.23 s, sys: 450 ms, total: 4.68 s\n",
      "Wall time: 5.94 s\n"
     ]
    }
   ],
   "source": [
    "%time patients_pixels = [get_pixels_hu(patient) for patient in patients_lst]"
   ]
  },
  {
   "cell_type": "code",
   "execution_count": 140,
   "metadata": {
    "collapsed": true
   },
   "outputs": [],
   "source": [
    "pixels_and_patients=zip(patients_pixels,patients_lst)"
   ]
  },
  {
   "cell_type": "code",
   "execution_count": 152,
   "metadata": {},
   "outputs": [
    {
     "name": "stdout",
     "output_type": "stream",
     "text": [
      "CPU times: user 1min 9s, sys: 4.83 s, total: 1min 14s\n",
      "Wall time: 1min 14s\n"
     ]
    }
   ],
   "source": [
    "Nx=128\n",
    "Ny=128\n",
    "# pix_resampled_given,spacing_given=resample_given_dims( first_patient_pixels, first_patient, [167,128,128])\n",
    "%time patients_resampled,spacings_new=map(list, \\\n",
    "                                          zip(*[resample_given_dims(patient_pixels,\\\n",
    "                                                                    patient,\\\n",
    "                                                                  [Nz_tot,Nx,Ny]) for patient_pixels,patient in pixels_and_patients])) \n"
   ]
  },
  {
   "cell_type": "code",
   "execution_count": 168,
   "metadata": {
    "collapsed": true
   },
   "outputs": [],
   "source": [
    "MIN_BOUND=-1000.0\n",
    "MAX_BOUND=500.0\n",
    "PIXEL_MEAN=0.25\n"
   ]
  },
  {
   "cell_type": "code",
   "execution_count": 182,
   "metadata": {
    "collapsed": true
   },
   "outputs": [],
   "source": [
    "patients_resampled_normed = [norm_zero_images(patient_image,\\\n",
    "                  MIN_BOUND,\\\n",
    "                  MAX_BOUND,\\\n",
    "                  PIXEL_MEAN) for patient_image in patients_resampled]"
   ]
  },
  {
   "cell_type": "code",
   "execution_count": 292,
   "metadata": {},
   "outputs": [
    {
     "data": {
      "text/plain": [
       "array([0, 0, 0, 0, 1, 0, 1, 1, 0, 1, 0, 0, 0, 1, 0, 0, 0, 0, 0])"
      ]
     },
     "execution_count": 292,
     "metadata": {},
     "output_type": "execute_result"
    }
   ],
   "source": [
    "y_found"
   ]
  },
  {
   "cell_type": "code",
   "execution_count": 290,
   "metadata": {},
   "outputs": [
    {
     "name": "stdout",
     "output_type": "stream",
     "text": [
      "19\n"
     ]
    }
   ],
   "source": [
    "print(len(patients_resampled_normed_found))"
   ]
  },
  {
   "cell_type": "markdown",
   "metadata": {},
   "source": [
    "### Get the y value (outcomes), by matching patient IDs"
   ]
  },
  {
   "cell_type": "code",
   "execution_count": 265,
   "metadata": {
    "collapsed": true
   },
   "outputs": [],
   "source": [
    "os.listdir('./2017datascibowl/');\n",
    "y_ids = pd.read_csv('./2017datascibowl/stage1_labels.csv')"
   ]
  },
  {
   "cell_type": "code",
   "execution_count": 266,
   "metadata": {},
   "outputs": [],
   "source": [
    "y_ids_found=y_ids.loc[yhat_ids['id'].isin(patients)]"
   ]
  },
  {
   "cell_type": "code",
   "execution_count": 267,
   "metadata": {
    "collapsed": true
   },
   "outputs": [],
   "source": [
    "m = len(patients)\n",
    "found_indices =[]\n",
    "for i in range(m):\n",
    "    if patients[i] in y_ids_found['id'].as_matrix():\n",
    "        found_indices.append(i)"
   ]
  },
  {
   "cell_type": "code",
   "execution_count": 268,
   "metadata": {},
   "outputs": [],
   "source": [
    "patients_resampled_found = [patients[i] for i in found_indices]"
   ]
  },
  {
   "cell_type": "code",
   "execution_count": 282,
   "metadata": {},
   "outputs": [],
   "source": [
    "y_found=[]\n",
    "for i in range(len(found_indices)):\n",
    "    if (patients_resampled_found[i] in yhat_ids_found['id'].as_matrix()):\n",
    "        cancer_val = y_ids_found.loc[y_ids_found['id']==patients_resampled_found[i]]['cancer'].as_matrix()\n",
    "        y_found.append( cancer_val )"
   ]
  },
  {
   "cell_type": "code",
   "execution_count": 288,
   "metadata": {},
   "outputs": [],
   "source": [
    "y_found=np.array(y_found).flatten()"
   ]
  },
  {
   "cell_type": "code",
   "execution_count": 289,
   "metadata": {},
   "outputs": [],
   "source": [
    "patients_resampled_normed_found=[patients_resampled_normed[idx] for idx in found_indices]"
   ]
  },
  {
   "cell_type": "code",
   "execution_count": 275,
   "metadata": {},
   "outputs": [
    {
     "data": {
      "text/plain": [
       "'0a0c32c9e08cc2ea76a71649de56be6d'"
      ]
     },
     "execution_count": 275,
     "metadata": {},
     "output_type": "execute_result"
    }
   ],
   "source": [
    "patients_resampled_found[2]"
   ]
  },
  {
   "cell_type": "code",
   "execution_count": 287,
   "metadata": {},
   "outputs": [
    {
     "data": {
      "text/plain": [
       "array([0, 0, 0, 0, 1, 0, 1, 1, 0, 1, 0, 0, 0, 1, 0, 0, 0, 0, 0])"
      ]
     },
     "execution_count": 287,
     "metadata": {},
     "output_type": "execute_result"
    }
   ],
   "source": [
    "np.array(y_found).flatten()"
   ]
  },
  {
   "cell_type": "markdown",
   "metadata": {
    "collapsed": true
   },
   "source": [
    "# Process Whole "
   ]
  },
  {
   "cell_type": "code",
   "execution_count": 2,
   "metadata": {},
   "outputs": [
    {
     "data": {
      "text/plain": [
       "['stage1_sample_submission.csv',\n",
       " 'stage1_sample_submission.csv.zip',\n",
       " 'stage1_labels.csv',\n",
       " 'stage1_labels.csv.zip',\n",
       " 'stage1',\n",
       " 'sample_images']"
      ]
     },
     "execution_count": 2,
     "metadata": {},
     "output_type": "execute_result"
    }
   ],
   "source": [
    "os.listdir('./2017datascibowl/')"
   ]
  },
  {
   "cell_type": "code",
   "execution_count": 4,
   "metadata": {
    "collapsed": true
   },
   "outputs": [],
   "source": [
    "stage1_labels_csv = pd.read_csv(\"./2017datascibowl/stage1_labels.csv\")"
   ]
  },
  {
   "cell_type": "code",
   "execution_count": 7,
   "metadata": {},
   "outputs": [
    {
     "data": {
      "text/html": [
       "<div>\n",
       "<table border=\"1\" class=\"dataframe\">\n",
       "  <thead>\n",
       "    <tr style=\"text-align: right;\">\n",
       "      <th></th>\n",
       "      <th>id</th>\n",
       "      <th>cancer</th>\n",
       "    </tr>\n",
       "  </thead>\n",
       "  <tbody>\n",
       "    <tr>\n",
       "      <th>0</th>\n",
       "      <td>0015ceb851d7251b8f399e39779d1e7d</td>\n",
       "      <td>1</td>\n",
       "    </tr>\n",
       "    <tr>\n",
       "      <th>1</th>\n",
       "      <td>0030a160d58723ff36d73f41b170ec21</td>\n",
       "      <td>0</td>\n",
       "    </tr>\n",
       "    <tr>\n",
       "      <th>2</th>\n",
       "      <td>003f41c78e6acfa92430a057ac0b306e</td>\n",
       "      <td>0</td>\n",
       "    </tr>\n",
       "    <tr>\n",
       "      <th>3</th>\n",
       "      <td>006b96310a37b36cccb2ab48d10b49a3</td>\n",
       "      <td>1</td>\n",
       "    </tr>\n",
       "    <tr>\n",
       "      <th>4</th>\n",
       "      <td>008464bb8521d09a42985dd8add3d0d2</td>\n",
       "      <td>1</td>\n",
       "    </tr>\n",
       "  </tbody>\n",
       "</table>\n",
       "</div>"
      ],
      "text/plain": [
       "                                 id  cancer\n",
       "0  0015ceb851d7251b8f399e39779d1e7d       1\n",
       "1  0030a160d58723ff36d73f41b170ec21       0\n",
       "2  003f41c78e6acfa92430a057ac0b306e       0\n",
       "3  006b96310a37b36cccb2ab48d10b49a3       1\n",
       "4  008464bb8521d09a42985dd8add3d0d2       1"
      ]
     },
     "execution_count": 7,
     "metadata": {},
     "output_type": "execute_result"
    }
   ],
   "source": [
    "stage1_labels_csv.head()"
   ]
  },
  {
   "cell_type": "code",
   "execution_count": 8,
   "metadata": {},
   "outputs": [
    {
     "data": {
      "text/html": [
       "<div>\n",
       "<table border=\"1\" class=\"dataframe\">\n",
       "  <thead>\n",
       "    <tr style=\"text-align: right;\">\n",
       "      <th></th>\n",
       "      <th>cancer</th>\n",
       "    </tr>\n",
       "  </thead>\n",
       "  <tbody>\n",
       "    <tr>\n",
       "      <th>count</th>\n",
       "      <td>1397.000000</td>\n",
       "    </tr>\n",
       "    <tr>\n",
       "      <th>mean</th>\n",
       "      <td>0.259127</td>\n",
       "    </tr>\n",
       "    <tr>\n",
       "      <th>std</th>\n",
       "      <td>0.438312</td>\n",
       "    </tr>\n",
       "    <tr>\n",
       "      <th>min</th>\n",
       "      <td>0.000000</td>\n",
       "    </tr>\n",
       "    <tr>\n",
       "      <th>25%</th>\n",
       "      <td>0.000000</td>\n",
       "    </tr>\n",
       "    <tr>\n",
       "      <th>50%</th>\n",
       "      <td>0.000000</td>\n",
       "    </tr>\n",
       "    <tr>\n",
       "      <th>75%</th>\n",
       "      <td>1.000000</td>\n",
       "    </tr>\n",
       "    <tr>\n",
       "      <th>max</th>\n",
       "      <td>1.000000</td>\n",
       "    </tr>\n",
       "  </tbody>\n",
       "</table>\n",
       "</div>"
      ],
      "text/plain": [
       "            cancer\n",
       "count  1397.000000\n",
       "mean      0.259127\n",
       "std       0.438312\n",
       "min       0.000000\n",
       "25%       0.000000\n",
       "50%       0.000000\n",
       "75%       1.000000\n",
       "max       1.000000"
      ]
     },
     "execution_count": 8,
     "metadata": {},
     "output_type": "execute_result"
    }
   ],
   "source": [
    "stage1_labels_csv.describe()"
   ]
  },
  {
   "cell_type": "code",
   "execution_count": 12,
   "metadata": {},
   "outputs": [
    {
     "data": {
      "text/plain": [
       "(1397, 2)"
      ]
     },
     "execution_count": 12,
     "metadata": {},
     "output_type": "execute_result"
    }
   ],
   "source": [
    "stage1_labels_csv.as_matrix().shape"
   ]
  },
  {
   "cell_type": "code",
   "execution_count": 9,
   "metadata": {
    "collapsed": true
   },
   "outputs": [],
   "source": [
    "stage1_sample_submission_csv = pd.read_csv(\"./2017datascibowl/stage1_sample_submission.csv\")"
   ]
  },
  {
   "cell_type": "code",
   "execution_count": 10,
   "metadata": {},
   "outputs": [
    {
     "data": {
      "text/html": [
       "<div>\n",
       "<table border=\"1\" class=\"dataframe\">\n",
       "  <thead>\n",
       "    <tr style=\"text-align: right;\">\n",
       "      <th></th>\n",
       "      <th>id</th>\n",
       "      <th>cancer</th>\n",
       "    </tr>\n",
       "  </thead>\n",
       "  <tbody>\n",
       "    <tr>\n",
       "      <th>0</th>\n",
       "      <td>026470d51482c93efc18b9803159c960</td>\n",
       "      <td>0.5</td>\n",
       "    </tr>\n",
       "    <tr>\n",
       "      <th>1</th>\n",
       "      <td>031b7ec4fe96a3b035a8196264a8c8c3</td>\n",
       "      <td>0.5</td>\n",
       "    </tr>\n",
       "    <tr>\n",
       "      <th>2</th>\n",
       "      <td>03bd22ed5858039af223c04993e9eb22</td>\n",
       "      <td>0.5</td>\n",
       "    </tr>\n",
       "    <tr>\n",
       "      <th>3</th>\n",
       "      <td>06a90409e4fcea3e634748b967993531</td>\n",
       "      <td>0.5</td>\n",
       "    </tr>\n",
       "    <tr>\n",
       "      <th>4</th>\n",
       "      <td>07b1defcfae5873ee1f03c90255eb170</td>\n",
       "      <td>0.5</td>\n",
       "    </tr>\n",
       "  </tbody>\n",
       "</table>\n",
       "</div>"
      ],
      "text/plain": [
       "                                 id  cancer\n",
       "0  026470d51482c93efc18b9803159c960     0.5\n",
       "1  031b7ec4fe96a3b035a8196264a8c8c3     0.5\n",
       "2  03bd22ed5858039af223c04993e9eb22     0.5\n",
       "3  06a90409e4fcea3e634748b967993531     0.5\n",
       "4  07b1defcfae5873ee1f03c90255eb170     0.5"
      ]
     },
     "execution_count": 10,
     "metadata": {},
     "output_type": "execute_result"
    }
   ],
   "source": [
    "stage1_sample_submission_csv.head()"
   ]
  },
  {
   "cell_type": "code",
   "execution_count": 11,
   "metadata": {},
   "outputs": [
    {
     "data": {
      "text/html": [
       "<div>\n",
       "<table border=\"1\" class=\"dataframe\">\n",
       "  <thead>\n",
       "    <tr style=\"text-align: right;\">\n",
       "      <th></th>\n",
       "      <th>cancer</th>\n",
       "    </tr>\n",
       "  </thead>\n",
       "  <tbody>\n",
       "    <tr>\n",
       "      <th>count</th>\n",
       "      <td>198.0</td>\n",
       "    </tr>\n",
       "    <tr>\n",
       "      <th>mean</th>\n",
       "      <td>0.5</td>\n",
       "    </tr>\n",
       "    <tr>\n",
       "      <th>std</th>\n",
       "      <td>0.0</td>\n",
       "    </tr>\n",
       "    <tr>\n",
       "      <th>min</th>\n",
       "      <td>0.5</td>\n",
       "    </tr>\n",
       "    <tr>\n",
       "      <th>25%</th>\n",
       "      <td>0.5</td>\n",
       "    </tr>\n",
       "    <tr>\n",
       "      <th>50%</th>\n",
       "      <td>0.5</td>\n",
       "    </tr>\n",
       "    <tr>\n",
       "      <th>75%</th>\n",
       "      <td>0.5</td>\n",
       "    </tr>\n",
       "    <tr>\n",
       "      <th>max</th>\n",
       "      <td>0.5</td>\n",
       "    </tr>\n",
       "  </tbody>\n",
       "</table>\n",
       "</div>"
      ],
      "text/plain": [
       "       cancer\n",
       "count   198.0\n",
       "mean      0.5\n",
       "std       0.0\n",
       "min       0.5\n",
       "25%       0.5\n",
       "50%       0.5\n",
       "75%       0.5\n",
       "max       0.5"
      ]
     },
     "execution_count": 11,
     "metadata": {},
     "output_type": "execute_result"
    }
   ],
   "source": [
    "stage1_sample_submission_csv.describe()"
   ]
  },
  {
   "cell_type": "code",
   "execution_count": 13,
   "metadata": {},
   "outputs": [
    {
     "data": {
      "text/plain": [
       "(198, 2)"
      ]
     },
     "execution_count": 13,
     "metadata": {},
     "output_type": "execute_result"
    }
   ],
   "source": [
    "stage1_sample_submission_csv.as_matrix().shape"
   ]
  },
  {
   "cell_type": "code",
   "execution_count": 14,
   "metadata": {},
   "outputs": [
    {
     "data": {
      "text/plain": [
       "0.0"
      ]
     },
     "execution_count": 14,
     "metadata": {},
     "output_type": "execute_result"
    }
   ],
   "source": [
    "stage1_labels_csv.cancer.median()"
   ]
  },
  {
   "cell_type": "code",
   "execution_count": 15,
   "metadata": {},
   "outputs": [
    {
     "data": {
      "text/plain": [
       "0      0.5\n",
       "1      0.5\n",
       "2      0.5\n",
       "3      0.5\n",
       "4      0.5\n",
       "5      0.5\n",
       "6      0.5\n",
       "7      0.5\n",
       "8      0.5\n",
       "9      0.5\n",
       "10     0.5\n",
       "11     0.5\n",
       "12     0.5\n",
       "13     0.5\n",
       "14     0.5\n",
       "15     0.5\n",
       "16     0.5\n",
       "17     0.5\n",
       "18     0.5\n",
       "19     0.5\n",
       "20     0.5\n",
       "21     0.5\n",
       "22     0.5\n",
       "23     0.5\n",
       "24     0.5\n",
       "25     0.5\n",
       "26     0.5\n",
       "27     0.5\n",
       "28     0.5\n",
       "29     0.5\n",
       "      ... \n",
       "168    0.5\n",
       "169    0.5\n",
       "170    0.5\n",
       "171    0.5\n",
       "172    0.5\n",
       "173    0.5\n",
       "174    0.5\n",
       "175    0.5\n",
       "176    0.5\n",
       "177    0.5\n",
       "178    0.5\n",
       "179    0.5\n",
       "180    0.5\n",
       "181    0.5\n",
       "182    0.5\n",
       "183    0.5\n",
       "184    0.5\n",
       "185    0.5\n",
       "186    0.5\n",
       "187    0.5\n",
       "188    0.5\n",
       "189    0.5\n",
       "190    0.5\n",
       "191    0.5\n",
       "192    0.5\n",
       "193    0.5\n",
       "194    0.5\n",
       "195    0.5\n",
       "196    0.5\n",
       "197    0.5\n",
       "Name: cancer, dtype: float64"
      ]
     },
     "execution_count": 15,
     "metadata": {},
     "output_type": "execute_result"
    }
   ],
   "source": [
    "stage1_sample_submission_csv[\"cancer\"]"
   ]
  },
  {
   "cell_type": "markdown",
   "metadata": {},
   "source": [
    "### Stage 1 File I/O"
   ]
  },
  {
   "cell_type": "code",
   "execution_count": 17,
   "metadata": {},
   "outputs": [],
   "source": [
    "patients_stage1 = os.listdir('./2017datascibowl/stage1')"
   ]
  },
  {
   "cell_type": "code",
   "execution_count": 18,
   "metadata": {},
   "outputs": [
    {
     "name": "stdout",
     "output_type": "stream",
     "text": [
      "1595\n"
     ]
    }
   ],
   "source": [
    "print(len(patients_stage1))"
   ]
  },
  {
   "cell_type": "markdown",
   "metadata": {},
   "source": [
    "#### Stage 1 labels"
   ]
  },
  {
   "cell_type": "code",
   "execution_count": 19,
   "metadata": {},
   "outputs": [
    {
     "data": {
      "text/plain": [
       "count                                 1397\n",
       "unique                                1397\n",
       "top       733205c5d0bbf19f5c761e0c023bf9a0\n",
       "freq                                     1\n",
       "Name: id, dtype: object"
      ]
     },
     "execution_count": 19,
     "metadata": {},
     "output_type": "execute_result"
    }
   ],
   "source": [
    "stage1_labels_csv[\"id\"].describe()"
   ]
  },
  {
   "cell_type": "code",
   "execution_count": 21,
   "metadata": {},
   "outputs": [
    {
     "data": {
      "text/plain": [
       "array(['0015ceb851d7251b8f399e39779d1e7d',\n",
       "       '0030a160d58723ff36d73f41b170ec21',\n",
       "       '003f41c78e6acfa92430a057ac0b306e', ...,\n",
       "       'fe5c37e82b412833b8ad0abb57978377',\n",
       "       'ff5d8e90500cf324e7b04a2f07cf0399',\n",
       "       'ffe02fe7d2223743f7fb455dfaff3842'], dtype=object)"
      ]
     },
     "execution_count": 21,
     "metadata": {},
     "output_type": "execute_result"
    }
   ],
   "source": [
    "stage1_labels_csv[\"id\"].as_matrix()"
   ]
  },
  {
   "cell_type": "code",
   "execution_count": 23,
   "metadata": {},
   "outputs": [
    {
     "data": {
      "text/plain": [
       "198"
      ]
     },
     "execution_count": 23,
     "metadata": {},
     "output_type": "execute_result"
    }
   ],
   "source": [
    "len( set(patients_stage1).difference(set(stage1_labels_csv[\"id\"].as_matrix())) )"
   ]
  },
  {
   "cell_type": "code",
   "execution_count": 24,
   "metadata": {},
   "outputs": [
    {
     "data": {
      "text/plain": [
       "set()"
      ]
     },
     "execution_count": 24,
     "metadata": {},
     "output_type": "execute_result"
    }
   ],
   "source": [
    "set(stage1_labels_csv[\"id\"].as_matrix()).difference( set(patients_stage1))"
   ]
  },
  {
   "cell_type": "code",
   "execution_count": 26,
   "metadata": {},
   "outputs": [
    {
     "data": {
      "text/plain": [
       "198"
      ]
     },
     "execution_count": 26,
     "metadata": {},
     "output_type": "execute_result"
    }
   ],
   "source": [
    "len( set(patients_stage1).symmetric_difference(set(stage1_labels_csv[\"id\"].as_matrix()))  )"
   ]
  },
  {
   "cell_type": "code",
   "execution_count": 28,
   "metadata": {},
   "outputs": [
    {
     "data": {
      "text/plain": [
       "1595"
      ]
     },
     "execution_count": 28,
     "metadata": {},
     "output_type": "execute_result"
    }
   ],
   "source": [
    "len(patients_stage1)"
   ]
  },
  {
   "cell_type": "code",
   "execution_count": 31,
   "metadata": {},
   "outputs": [],
   "source": [
    "Nz_lst = slices_per_patient('./2017datascibowl/stage1/')\n",
    "Nz_tot= int( pd.DataFrame(Nz_lst).median() )"
   ]
  },
  {
   "cell_type": "code",
   "execution_count": 35,
   "metadata": {},
   "outputs": [],
   "source": [
    "patient_0 = load_scan('./2017datascibowl/stage1/'+patients_stage1[0])"
   ]
  },
  {
   "cell_type": "code",
   "execution_count": 38,
   "metadata": {},
   "outputs": [],
   "source": [
    "patient_pixels_0 = get_pixels_hu(patient_0)"
   ]
  },
  {
   "cell_type": "code",
   "execution_count": 41,
   "metadata": {},
   "outputs": [
    {
     "name": "stdout",
     "output_type": "stream",
     "text": [
      "CPU times: user 2.64 s, sys: 0 ns, total: 2.64 s\n",
      "Wall time: 2.53 s\n"
     ]
    }
   ],
   "source": [
    "Nx=128\n",
    "Ny=128\n",
    "# pix_resampled_given,spacing_given=resample_given_dims( first_patient_pixels, first_patient, [167,128,128])\n",
    "%time patient_resampled_0,spacing_new_0=resample_given_dims(patient_pixels_0,\\\n",
    "                                                                    patient_0,\\\n",
    "                                                                  [Nz_tot,Nx,Ny]) "
   ]
  },
  {
   "cell_type": "code",
   "execution_count": 47,
   "metadata": {},
   "outputs": [],
   "source": [
    "MIN_BOUND=-1000.0\n",
    "MAX_BOUND=500.0\n",
    "PIXEL_MEAN=0.25\n",
    "\n",
    "patient_resampled_norm_0=norm_zero_images(patient_resampled_0,\\\n",
    "                  MIN_BOUND,\\\n",
    "                  MAX_BOUND,\\\n",
    "                  PIXEL_MEAN)"
   ]
  },
  {
   "cell_type": "code",
   "execution_count": 51,
   "metadata": {},
   "outputs": [
    {
     "data": {
      "text/plain": [
       "(2621440,)"
      ]
     },
     "execution_count": 51,
     "metadata": {},
     "output_type": "execute_result"
    }
   ],
   "source": [
    "patient_resampled_norm_0.flatten().shape"
   ]
  },
  {
   "cell_type": "code",
   "execution_count": 50,
   "metadata": {},
   "outputs": [
    {
     "data": {
      "text/plain": [
       "array([ 1.75      ,  3.20312405,  3.20312405])"
      ]
     },
     "execution_count": 50,
     "metadata": {},
     "output_type": "execute_result"
    }
   ],
   "source": [
    "spacing_new_0"
   ]
  },
  {
   "cell_type": "code",
   "execution_count": 65,
   "metadata": {},
   "outputs": [
    {
     "name": "stdout",
     "output_type": "stream",
     "text": [
      "['-202.899994', '-238.300003', '-294.119995']\n",
      "['1.000000', '0.000000', '0.000000', '0.000000', '1.000000', '0.000000']\n",
      "['-202.899994', '-238.300003', '-291.619995']\n",
      "['1.000000', '0.000000', '0.000000', '0.000000', '1.000000', '0.000000']\n",
      "['-202.899994', '-238.300003', '-289.119995']\n",
      "['1.000000', '0.000000', '0.000000', '0.000000', '1.000000', '0.000000']\n"
     ]
    }
   ],
   "source": [
    "print( patient_0[0].ImagePositionPatient )\n",
    "print( patient_0[0].ImageOrientationPatient )\n",
    "print( patient_0[1].ImagePositionPatient )\n",
    "print( patient_0[1].ImageOrientationPatient )\n",
    "print( patient_0[2].ImagePositionPatient )\n",
    "print( patient_0[2].ImageOrientationPatient )\n"
   ]
  },
  {
   "cell_type": "code",
   "execution_count": 66,
   "metadata": {},
   "outputs": [
    {
     "data": {
      "text/plain": [
       "['1.000000', '0.000000', '0.000000', '0.000000', '1.000000', '0.000000']"
      ]
     },
     "execution_count": 66,
     "metadata": {},
     "output_type": "execute_result"
    }
   ],
   "source": [
    "patient_0[0].ImageOrientationPatient"
   ]
  },
  {
   "cell_type": "code",
   "execution_count": 54,
   "metadata": {},
   "outputs": [
    {
     "data": {
      "text/plain": [
       "(0008, 0005) Specific Character Set              CS: 'ISO_IR 100'\n",
       "(0008, 0016) SOP Class UID                       UI: CT Image Storage\n",
       "(0008, 0018) SOP Instance UID                    UI: 1.2.840.113654.2.55.300863971221291381526736132231562757912\n",
       "(0008, 0060) Modality                            CS: 'CT'\n",
       "(0008, 103e) Series Description                  LO: 'Axial'\n",
       "(0010, 0010) Patient's Name                      PN: '29883252ce0ce3e052ce8cf4932623af'\n",
       "(0010, 0020) Patient ID                          LO: '29883252ce0ce3e052ce8cf4932623af'\n",
       "(0010, 0030) Patient's Birth Date                DA: '19000101'\n",
       "(0018, 0050) Slice Thickness                     DS: '2.5'\n",
       "(0018, 0060) KVP                                 DS: ''\n",
       "(0020, 000d) Study Instance UID                  UI: 2.25.51329352781293882739991701446693132102457555138147446375828\n",
       "(0020, 000e) Series Instance UID                 UI: 2.25.41601713747120404656977043488053459221091478746332764467723\n",
       "(0020, 0011) Series Number                       IS: '2'\n",
       "(0020, 0012) Acquisition Number                  IS: '1'\n",
       "(0020, 0013) Instance Number                     IS: '111'\n",
       "(0020, 0020) Patient Orientation                 CS: ''\n",
       "(0020, 0032) Image Position (Patient)            DS: ['-202.899994', '-238.300003', '-291.619995']\n",
       "(0020, 0037) Image Orientation (Patient)         DS: ['1.000000', '0.000000', '0.000000', '0.000000', '1.000000', '0.000000']\n",
       "(0020, 0052) Frame of Reference UID              UI: 2.25.89782087814212394559238020497773895608588481827041446535689\n",
       "(0020, 1040) Position Reference Indicator        LO: 'SN'\n",
       "(0020, 1041) Slice Location                      DS: '-291.619995'\n",
       "(0028, 0002) Samples per Pixel                   US: 1\n",
       "(0028, 0004) Photometric Interpretation          CS: 'MONOCHROME2'\n",
       "(0028, 0010) Rows                                US: 512\n",
       "(0028, 0011) Columns                             US: 512\n",
       "(0028, 0030) Pixel Spacing                       DS: ['0.800781', '0.800781']\n",
       "(0028, 0100) Bits Allocated                      US: 16\n",
       "(0028, 0101) Bits Stored                         US: 16\n",
       "(0028, 0102) High Bit                            US: 15\n",
       "(0028, 0103) Pixel Representation                US: 1\n",
       "(0028, 0120) Pixel Padding Value                 US: 63536\n",
       "(0028, 1050) Window Center                       DS: '40'\n",
       "(0028, 1051) Window Width                        DS: '400'\n",
       "(0028, 1052) Rescale Intercept                   DS: '-1024'\n",
       "(0028, 1053) Rescale Slope                       DS: '1'\n",
       "(7fe0, 0010) Pixel Data                          OW: Array of 524288 bytes"
      ]
     },
     "execution_count": 54,
     "metadata": {},
     "output_type": "execute_result"
    }
   ],
   "source": [
    "patient_0[1]"
   ]
  },
  {
   "cell_type": "code",
   "execution_count": 61,
   "metadata": {},
   "outputs": [
    {
     "name": "stdout",
     "output_type": "stream",
     "text": [
      "['-202.899994', '-238.300003', '-294.119995']\n",
      "2.5\n",
      "['0.800781', '0.800781']\n"
     ]
    }
   ],
   "source": [
    "print(patient_0[0].ImagePositionPatient)\n",
    "print(patient_0[0].SliceThickness)\n",
    "print(patient_0[0].PixelSpacing)\n",
    "dir(patient_0[0]);"
   ]
  },
  {
   "cell_type": "code",
   "execution_count": 62,
   "metadata": {},
   "outputs": [
    {
     "name": "stdout",
     "output_type": "stream",
     "text": [
      "['1.000000', '0.000000', '0.000000', '0.000000', '1.000000', '0.000000']\n"
     ]
    }
   ],
   "source": [
    "print(patient_0[0].ImageOrientationPatient)"
   ]
  },
  {
   "cell_type": "code",
   "execution_count": 63,
   "metadata": {},
   "outputs": [
    {
     "data": {
      "text/plain": [
       "(0008, 0005) Specific Character Set              CS: 'ISO_IR 100'\n",
       "(0008, 0016) SOP Class UID                       UI: CT Image Storage\n",
       "(0008, 0018) SOP Instance UID                    UI: 1.2.840.113654.2.55.158257041710393617309832979737744229653\n",
       "(0008, 0060) Modality                            CS: 'CT'\n",
       "(0008, 103e) Series Description                  LO: 'Axial'\n",
       "(0010, 0010) Patient's Name                      PN: '29883252ce0ce3e052ce8cf4932623af'\n",
       "(0010, 0020) Patient ID                          LO: '29883252ce0ce3e052ce8cf4932623af'\n",
       "(0010, 0030) Patient's Birth Date                DA: '19000101'\n",
       "(0018, 0050) Slice Thickness                     DS: '2.5'\n",
       "(0018, 0060) KVP                                 DS: ''\n",
       "(0020, 000d) Study Instance UID                  UI: 2.25.51329352781293882739991701446693132102457555138147446375828\n",
       "(0020, 000e) Series Instance UID                 UI: 2.25.41601713747120404656977043488053459221091478746332764467723\n",
       "(0020, 0011) Series Number                       IS: '2'\n",
       "(0020, 0012) Acquisition Number                  IS: '1'\n",
       "(0020, 0013) Instance Number                     IS: '112'\n",
       "(0020, 0020) Patient Orientation                 CS: ''\n",
       "(0020, 0032) Image Position (Patient)            DS: ['-202.899994', '-238.300003', '-294.119995']\n",
       "(0020, 0037) Image Orientation (Patient)         DS: ['1.000000', '0.000000', '0.000000', '0.000000', '1.000000', '0.000000']\n",
       "(0020, 0052) Frame of Reference UID              UI: 2.25.89782087814212394559238020497773895608588481827041446535689\n",
       "(0020, 1040) Position Reference Indicator        LO: 'SN'\n",
       "(0020, 1041) Slice Location                      DS: '-294.119995'\n",
       "(0028, 0002) Samples per Pixel                   US: 1\n",
       "(0028, 0004) Photometric Interpretation          CS: 'MONOCHROME2'\n",
       "(0028, 0010) Rows                                US: 512\n",
       "(0028, 0011) Columns                             US: 512\n",
       "(0028, 0030) Pixel Spacing                       DS: ['0.800781', '0.800781']\n",
       "(0028, 0100) Bits Allocated                      US: 16\n",
       "(0028, 0101) Bits Stored                         US: 16\n",
       "(0028, 0102) High Bit                            US: 15\n",
       "(0028, 0103) Pixel Representation                US: 1\n",
       "(0028, 0120) Pixel Padding Value                 US: 63536\n",
       "(0028, 1050) Window Center                       DS: '40'\n",
       "(0028, 1051) Window Width                        DS: '400'\n",
       "(0028, 1052) Rescale Intercept                   DS: '-1024'\n",
       "(0028, 1053) Rescale Slope                       DS: '1'\n",
       "(7fe0, 0010) Pixel Data                          OW: Array of 524288 bytes"
      ]
     },
     "execution_count": 63,
     "metadata": {},
     "output_type": "execute_result"
    }
   ],
   "source": [
    "patient_0[0]"
   ]
  },
  {
   "cell_type": "code",
   "execution_count": 68,
   "metadata": {},
   "outputs": [
    {
     "data": {
      "text/plain": [
       "array([-202.899994, -238.300003])"
      ]
     },
     "execution_count": 68,
     "metadata": {},
     "output_type": "execute_result"
    }
   ],
   "source": [
    "np.array(patient_0[0].ImagePositionPatient[:2])"
   ]
  },
  {
   "cell_type": "code",
   "execution_count": 67,
   "metadata": {},
   "outputs": [
    {
     "data": {
      "text/plain": [
       "array([ 1.,  0.,  0.,  0.,  1.,  0.])"
      ]
     },
     "execution_count": 67,
     "metadata": {},
     "output_type": "execute_result"
    }
   ],
   "source": [
    "np.array(patient_0[0].ImageOrientationPatient)"
   ]
  },
  {
   "cell_type": "code",
   "execution_count": 71,
   "metadata": {},
   "outputs": [
    {
     "data": {
      "text/plain": [
       "array([-0.25, -0.25, -0.25, ..., -0.25, -0.25, -0.25])"
      ]
     },
     "execution_count": 71,
     "metadata": {},
     "output_type": "execute_result"
    }
   ],
   "source": [
    "patient_resampled_norm_0.flatten()"
   ]
  },
  {
   "cell_type": "code",
   "execution_count": 70,
   "metadata": {},
   "outputs": [
    {
     "data": {
      "text/plain": [
       "(2621448,)"
      ]
     },
     "execution_count": 70,
     "metadata": {},
     "output_type": "execute_result"
    }
   ],
   "source": [
    "np.concatenate([patient_resampled_norm_0.flatten(),\n",
    "                np.array(patient_0[0].ImagePositionPatient[:2]),\n",
    "                np.array( patient_0[0].ImageOrientationPatient) ] ).shape"
   ]
  },
  {
   "cell_type": "code",
   "execution_count": 54,
   "metadata": {
    "collapsed": true
   },
   "outputs": [],
   "source": [
    "def process_patient(patientname,    \n",
    "                                MIN_BOUND=-1000.0,\n",
    "                                MAX_BOUND=500.0,\n",
    "                                PIXEL_MEAN=0.25,\n",
    "                                INPUT_FOLDER='./2017datascibowl/stage1/',\n",
    "                                N_x=128,N_y=128,):\n",
    "    \"\"\" process_patient - process single patient \"\"\"\n",
    "    patient = load_scan(INPUT_FOLDER +patientname)\n",
    "    \n",
    "    Nz_lst = slices_per_patient( INPUT_FOLDER )\n",
    "    print( \"Nz_lst: %d\" % len(Nz_lst))\n",
    "    Nz_tot= int( pd.DataFrame(Nz_lst).median() )\n",
    "    print( \"\\n Nz_tot : %d\" % Nz_tot)\n",
    "    patient_pixels = get_pixels_hu(patient)\n",
    "    print( patient_pixels.shape)\n",
    "    \n",
    "    patient_resampled,spacing_new=resample_given_dims(patient_pixels,patient,[Nz_tot,N_x,N_y]) \n",
    "    print(patient_resampled.shape)\n",
    "    patient_resampled_norm=norm_zero_images(patient_resampled,MIN_BOUND,MAX_BOUND,PIXEL_MEAN)\n",
    "    \n",
    "    patient_feature_vec = np.concatenate([patient_resampled_norm.flatten(),\n",
    "                                            np.array(patient[0].ImagePositionPatient[:2]),\n",
    "                                            np.array( patient[0].ImageOrientationPatient) ] )\n",
    "    return patient_feature_vec"
   ]
  },
  {
   "cell_type": "code",
   "execution_count": 41,
   "metadata": {},
   "outputs": [],
   "source": [
    "def save_feat_vec(patient_feature_vec,patientname,sub_name=\"stage1_feat\"):\n",
    "#def save_feat_vec(patient_feature_vec,patientname): original\n",
    "    #    f=file( \"./2017datascibowl/stage1_feat/\"+patientname + \"feat_vec\" ,\"wb\")\n",
    "    f=file( \"./2017datascibowl/\"+sub_name+\"/\"+patientname + \"feat_vec\" ,\"wb\")\n",
    "    np.save(f,patient_feature_vec)\n",
    "    f.close()\n",
    "    "
   ]
  },
  {
   "cell_type": "code",
   "execution_count": 55,
   "metadata": {},
   "outputs": [
    {
     "name": "stdout",
     "output_type": "stream",
     "text": [
      "Nz_lst: 1595\n",
      "\n",
      " Nz_tot : 160\n",
      "(112, 512, 512)\n",
      "(112, 0, 0)\n"
     ]
    }
   ],
   "source": [
    "patient0_feature_vec = process_patient(patients_stage1[0])"
   ]
  },
  {
   "cell_type": "code",
   "execution_count": 43,
   "metadata": {},
   "outputs": [],
   "source": [
    "save_feat_vec( patient0_feature_vec, patients_stage1[0])"
   ]
  },
  {
   "cell_type": "code",
   "execution_count": 90,
   "metadata": {},
   "outputs": [
    {
     "data": {
      "text/plain": [
       "'/home/topolo/PropD/MLgrabbag/kaggle'"
      ]
     },
     "execution_count": 90,
     "metadata": {},
     "output_type": "execute_result"
    }
   ],
   "source": [
    "os.getcwd()"
   ]
  },
  {
   "cell_type": "code",
   "execution_count": 44,
   "metadata": {},
   "outputs": [
    {
     "data": {
      "text/plain": [
       "array([-202.899994, -238.300003,    1.      ,    0.      ,    0.      ,\n",
       "          0.      ,    1.      ,    0.      ])"
      ]
     },
     "execution_count": 44,
     "metadata": {},
     "output_type": "execute_result"
    }
   ],
   "source": [
    "patient0_feature_vec"
   ]
  },
  {
   "cell_type": "code",
   "execution_count": 93,
   "metadata": {
    "collapsed": true
   },
   "outputs": [],
   "source": [
    "test_patient0_feat_vec=np.load(\"./2017datascibowl/stage1_feat/\"+patients_stage1[0]+\"feat_vec\")"
   ]
  },
  {
   "cell_type": "code",
   "execution_count": 94,
   "metadata": {},
   "outputs": [
    {
     "data": {
      "text/plain": [
       "array([-0.25, -0.25, -0.25, ...,  0.  ,  1.  ,  0.  ])"
      ]
     },
     "execution_count": 94,
     "metadata": {},
     "output_type": "execute_result"
    }
   ],
   "source": [
    "test_patient0_feat_vec"
   ]
  },
  {
   "cell_type": "code",
   "execution_count": 95,
   "metadata": {},
   "outputs": [
    {
     "data": {
      "text/plain": [
       "(2621448,)"
      ]
     },
     "execution_count": 95,
     "metadata": {},
     "output_type": "execute_result"
    }
   ],
   "source": [
    "test_patient0_feat_vec.shape"
   ]
  },
  {
   "cell_type": "code",
   "execution_count": 96,
   "metadata": {},
   "outputs": [
    {
     "name": "stderr",
     "output_type": "stream",
     "text": [
      "/home/topolo/Public/anaconda2/lib/python2.7/site-packages/scipy/ndimage/interpolation.py:568: UserWarning: From scipy 0.13.0, the output shape of zoom() is calculated with round() instead of int() - for these inputs the size of the returned array has changed.\n",
      "  \"the returned array has changed.\", UserWarning)\n"
     ]
    }
   ],
   "source": [
    "for patient_name in patients_stage1:\n",
    "    patient_feature_vec = process_patient(patient_name)\n",
    "    save_feat_vec( patient_feature_vec, patient_name)\n",
    "    "
   ]
  },
  {
   "cell_type": "code",
   "execution_count": 97,
   "metadata": {},
   "outputs": [
    {
     "data": {
      "text/plain": [
       "1595"
      ]
     },
     "execution_count": 97,
     "metadata": {},
     "output_type": "execute_result"
    }
   ],
   "source": [
    "len(patients_stage1)"
   ]
  },
  {
   "cell_type": "code",
   "execution_count": 98,
   "metadata": {},
   "outputs": [
    {
     "name": "stdout",
     "output_type": "stream",
     "text": [
      "1595\n"
     ]
    }
   ],
   "source": [
    "patients_stage1_feat = os.listdir('./2017datascibowl/stage1_feat')\n",
    "print(len(patients_stage1_feat))"
   ]
  },
  {
   "cell_type": "markdown",
   "metadata": {
    "collapsed": true
   },
   "source": [
    "# Stage 1 Low-Res Preprocess"
   ]
  },
  {
   "cell_type": "code",
   "execution_count": 2,
   "metadata": {
    "collapsed": true
   },
   "outputs": [],
   "source": [
    "# Load the scans in given folder path\n",
    "def load_scan(path):\n",
    "    \"\"\"\n",
    "    INPUTS/ARGUMENTS \n",
    "    ================\n",
    "    @type path : Python string\n",
    "    \n",
    "    @type slices : Python list (for each file in a folder/directory of dicom.dataset.FileDataset  \n",
    "    each is a slice of the single patient's lung\n",
    "    \"\"\"\n",
    "    slices = [dicom.read_file(path + '/' + s) for s in os.listdir(path)]\n",
    "    slices.sort(key = lambda x: float(x.ImagePositionPatient[2]))\n",
    "    try:\n",
    "        slice_thickness = np.abs(slices[0].ImagePositionPatient[2] - slices[1].ImagePositionPatient[2])\n",
    "    except:\n",
    "        slice_thickness = np.abs(slices[0].SliceLocation - slices[1].SliceLocation)\n",
    "        \n",
    "    for s in slices:\n",
    "        s.SliceThickness = slice_thickness\n",
    "        \n",
    "    return slices"
   ]
  },
  {
   "cell_type": "code",
   "execution_count": 3,
   "metadata": {
    "collapsed": true
   },
   "outputs": [],
   "source": [
    "def slices_per_patient(input_folder_path):\n",
    "    \"\"\" slices_per_patient\n",
    "    @type input_folder_path : Python string \n",
    "    \"\"\"\n",
    "    patients = os.listdir(input_folder_path)\n",
    "    patients.sort()\n",
    "    \n",
    "    patient_slices_lst = []\n",
    "    \n",
    "    for patient in patients:\n",
    "        Nz = len( os.listdir(input_folder_path + patient))\n",
    "        patient_slices_lst.append(Nz)\n",
    "        \n",
    "    return patient_slices_lst"
   ]
  },
  {
   "cell_type": "code",
   "execution_count": 4,
   "metadata": {
    "collapsed": true
   },
   "outputs": [],
   "source": [
    "def get_pixels_hu(slices):\n",
    "    \"\"\"\n",
    "    INPUTS/ARGUMENTS\n",
    "    ================\n",
    "    @type slices : Python list of dicom.dataset.FileDataset, \n",
    "    @param slices : each dicom.dataset.FileDataset representing an image \"slice\" of a single patient's lung\n",
    "    \"\"\"\n",
    "    image = np.stack([s.pixel_array for s in slices]) # np.array image.shape (134,512,512)\n",
    "    # Convert to int16 (from sometimes int16),\n",
    "    # should be possible as values should always be low enough (<32k)\n",
    "    image = image.astype(np.int16)\n",
    "    \n",
    "    # Set outside-of-scan pixels to 0\n",
    "    # The intercept is usually -1024, so air is approximately 0\n",
    "    # suggested by Henry Wolf to avoid -2048 values\n",
    "    outside_of_image_val = image.min()\n",
    "    image[image == outside_of_image_val] = 0 \n",
    "    \n",
    "    image[image == -2000] = 0 \n",
    "    \n",
    "    # Convert to Hounsfield units (HU)\n",
    "    for slice_number in range(len(slices)):\n",
    "        \n",
    "        intercept = slices[slice_number].RescaleIntercept\n",
    "        slope = slices[slice_number].RescaleSlope\n",
    "        \n",
    "        if slope != 1:\n",
    "            image[slice_number] = slope * image[slice_number].astype(np.float64)\n",
    "            image[slice_number] = image[slice_number].astype(np.int16)\n",
    "            \n",
    "        image[slice_number] += np.int16(intercept)\n",
    "        \n",
    "    return np.array(image, dtype=np.int16)"
   ]
  },
  {
   "cell_type": "code",
   "execution_count": 5,
   "metadata": {
    "collapsed": true
   },
   "outputs": [],
   "source": [
    "def resample_given_dims(image, scan, new_shape):\n",
    "    # Determine current pixel spacing\n",
    "    spacing = np.array([scan[0].SliceThickness] + scan[0].PixelSpacing, dtype=np.float32)  # (\\Delta z,\\Delta x,\\Delta y)\n",
    "    \n",
    "    real_resize_factor=new_shape/np.array(image.shape).astype(\"float32\")  \n",
    "    \n",
    "    new_spacing = spacing/real_resize_factor # (\\Delta z',\\Delta x',\\Delta y')\n",
    "        \n",
    "    image = scipy.ndimage.interpolation.zoom(image, real_resize_factor, mode='nearest')\n",
    "    \n",
    "    return image, new_spacing"
   ]
  },
  {
   "cell_type": "code",
   "execution_count": 6,
   "metadata": {
    "collapsed": true
   },
   "outputs": [],
   "source": [
    "def norm_zero_images(patient_image,MIN_BOUND,MAX_BOUND,PIXEL_MEAN=0.25):\n",
    "    \"\"\" norm_zero_images - due normalization and zero center on a 3-dim. numpy array/matrix that \n",
    "    represents all (total) 2-dim. image slices for a single patient\"\"\"\n",
    "    Nz = patient_image.shape[0]\n",
    "    new_patient_image = []\n",
    "    for z_idx in range(Nz):\n",
    "        patient_normed=normalize(patient_image[z_idx],MIN_BOUND,MAX_BOUND)\n",
    "        patient_normed=zero_center(patient_normed,PIXEL_MEAN)\n",
    "        new_patient_image.append( patient_normed)\n",
    "    new_patient_image=np.array(new_patient_image)\n",
    "    return new_patient_image\n",
    "    "
   ]
  },
  {
   "cell_type": "code",
   "execution_count": 7,
   "metadata": {
    "collapsed": true
   },
   "outputs": [],
   "source": [
    "def normalize(image,MIN_BOUND,MAX_BOUND):\n",
    "    image = (image - MIN_BOUND)/(MAX_BOUND-MIN_BOUND)\n",
    "    image[image>1]=1.\n",
    "    image[image<0]=0.\n",
    "    return image   "
   ]
  },
  {
   "cell_type": "code",
   "execution_count": 8,
   "metadata": {
    "collapsed": true
   },
   "outputs": [],
   "source": [
    "def zero_center(image, PIXEL_MEAN):\n",
    "    image = image - PIXEL_MEAN\n",
    "    return image"
   ]
  },
  {
   "cell_type": "code",
   "execution_count": 9,
   "metadata": {
    "collapsed": true
   },
   "outputs": [],
   "source": [
    "def process_patient(patientname,    \n",
    "                                MIN_BOUND=-1000.0,\n",
    "                                MAX_BOUND=500.0,\n",
    "                                PIXEL_MEAN=0.25,\n",
    "                                INPUT_FOLDER='./2017datascibowl/stage1/',\n",
    "                                N_x=128,N_y=128,):\n",
    "    \"\"\" process_patient - process single patient \"\"\"\n",
    "    patient = load_scan(INPUT_FOLDER +patientname)\n",
    "    \n",
    "    Nz_lst = slices_per_patient( INPUT_FOLDER )\n",
    "    Nz_tot= int( pd.DataFrame(Nz_lst).median() )\n",
    "    patient_pixels = get_pixels_hu(patient)\n",
    "    \n",
    "    patient_resampled,spacing_new=resample_given_dims(patient_pixels,patient,[Nz_tot,N_x,N_y]) \n",
    "    patient_resampled_norm=norm_zero_images(patient_resampled,MIN_BOUND,MAX_BOUND,PIXEL_MEAN)\n",
    "    \n",
    "    patient_feature_vec = np.concatenate([patient_resampled_norm.flatten(),\n",
    "                                            np.array(patient[0].ImagePositionPatient[:2]),\n",
    "                                            np.array( patient[0].ImageOrientationPatient) ] )\n",
    "    return patient_feature_vec"
   ]
  },
  {
   "cell_type": "code",
   "execution_count": 10,
   "metadata": {
    "collapsed": true
   },
   "outputs": [],
   "source": [
    "def save_feat_vec(patient_feature_vec,patientname,sub_name=\"stage1_feat\"):\n",
    "#def save_feat_vec(patient_feature_vec,patientname): original\n",
    "    #    f=file( \"./2017datascibowl/stage1_feat/\"+patientname + \"feat_vec\" ,\"wb\")\n",
    "    f=file( \"./2017datascibowl/\"+sub_name+\"/\"+patientname + \"feat_vec\" ,\"wb\")\n",
    "    np.save(f,patient_feature_vec)\n",
    "    f.close()"
   ]
  },
  {
   "cell_type": "code",
   "execution_count": 11,
   "metadata": {},
   "outputs": [
    {
     "data": {
      "text/plain": [
       "['2017datascibowl',\n",
       " 'data_password.txt',\n",
       " 'LSTM_model201702271930.save',\n",
       " 'cleaning_dueSigmaFin.pyc',\n",
       " 'LSTM_model201702280608.save',\n",
       " '.ipynb_checkpoints',\n",
       " 'dueSigmaFinancial_kaggle.py',\n",
       " 'LSTM_model.save',\n",
       " 'LSTM_model201703012346.save',\n",
       " 'DatSciBow2017_FullPreprocessTutorial.ipynb',\n",
       " 'LSTM_model201702282350.save',\n",
       " 'GRU_model201703022010.save',\n",
       " 'DueSigmaFin_runs.ipynb',\n",
       " 'ImagePreprocessing.ipynb',\n",
       " 'dueSigmaFinancial_local.ipynb',\n",
       " 'GRU_model201703012348.save',\n",
       " 'GRU_model201703050709.save',\n",
       " 'GRU_model201703021741.save',\n",
       " 'kaggle.ipynb',\n",
       " 'glass.csv',\n",
       " 'DatSciBow2017_SVM.ipynb',\n",
       " '__init__.py',\n",
       " 'train.h5',\n",
       " 'dueSigmaFinancial_local_GRUs.ipynb',\n",
       " 'cleaning_dueSigmaFin.py']"
      ]
     },
     "execution_count": 11,
     "metadata": {},
     "output_type": "execute_result"
    }
   ],
   "source": [
    "import os, sys\n",
    "os.getcwd()\n",
    "os.listdir( os.getcwd() ) "
   ]
  },
  {
   "cell_type": "code",
   "execution_count": 12,
   "metadata": {
    "collapsed": true
   },
   "outputs": [],
   "source": [
    "import numpy as np # linear algebra\n",
    "import pandas as pd # data processing, CSV file I/O (e.g. pd.read_csv)\n",
    "import dicom\n",
    "import os\n",
    "import scipy.ndimage\n",
    "import matplotlib.pyplot as plt"
   ]
  },
  {
   "cell_type": "code",
   "execution_count": 13,
   "metadata": {},
   "outputs": [
    {
     "name": "stdout",
     "output_type": "stream",
     "text": [
      "1595\n"
     ]
    }
   ],
   "source": [
    "patients_stage1 = os.listdir('./2017datascibowl/stage1')\n",
    "print(len(patients_stage1))"
   ]
  },
  {
   "cell_type": "code",
   "execution_count": 14,
   "metadata": {},
   "outputs": [],
   "source": [
    "N_x=32\n",
    "N_y=32"
   ]
  },
  {
   "cell_type": "code",
   "execution_count": 15,
   "metadata": {},
   "outputs": [
    {
     "name": "stdout",
     "output_type": "stream",
     "text": [
      "CPU times: user 5 µs, sys: 1 µs, total: 6 µs\n",
      "Wall time: 11.2 µs\n"
     ]
    },
    {
     "name": "stderr",
     "output_type": "stream",
     "text": [
      "/home/topolo/Public/anaconda2/lib/python2.7/site-packages/scipy/ndimage/interpolation.py:568: UserWarning: From scipy 0.13.0, the output shape of zoom() is calculated with round() instead of int() - for these inputs the size of the returned array has changed.\n",
      "  \"the returned array has changed.\", UserWarning)\n"
     ]
    }
   ],
   "source": [
    "%time \n",
    "for patient_name in patients_stage1:\n",
    "    patient_feature_vec = process_patient(patient_name,N_x=N_x,N_y=N_y)\n",
    "    save_feat_vec( patient_feature_vec, patient_name,sub_name=\"stage1_feat_lowres32\")"
   ]
  },
  {
   "cell_type": "code",
   "execution_count": 117,
   "metadata": {},
   "outputs": [
    {
     "name": "stdout",
     "output_type": "stream",
     "text": [
      "CPU times: user 12 µs, sys: 1 µs, total: 13 µs\n",
      "Wall time: 13.8 µs\n"
     ]
    },
    {
     "name": "stderr",
     "output_type": "stream",
     "text": [
      "/home/topolo/Public/anaconda2/lib/python2.7/site-packages/scipy/ndimage/interpolation.py:568: UserWarning: From scipy 0.13.0, the output shape of zoom() is calculated with round() instead of int() - for these inputs the size of the returned array has changed.\n",
      "  \"the returned array has changed.\", UserWarning)\n"
     ]
    }
   ],
   "source": [
    "%time \n",
    "for patient_name in patients_stage1:\n",
    "    patient_feature_vec = process_patient(patient_name,N_x=N_x,N_y=N_y)\n",
    "    save_feat_vec( patient_feature_vec, patient_name,sub_name=\"stage1_feat_lowres32\")"
   ]
  },
  {
   "cell_type": "code",
   "execution_count": 16,
   "metadata": {
    "collapsed": true
   },
   "outputs": [],
   "source": [
    "import time"
   ]
  },
  {
   "cell_type": "code",
   "execution_count": 17,
   "metadata": {},
   "outputs": [
    {
     "name": "stderr",
     "output_type": "stream",
     "text": [
      "/home/topolo/Public/anaconda2/lib/python2.7/site-packages/scipy/ndimage/interpolation.py:568: UserWarning: From scipy 0.13.0, the output shape of zoom() is calculated with round() instead of int() - for these inputs the size of the returned array has changed.\n",
      "  \"the returned array has changed.\", UserWarning)\n"
     ]
    },
    {
     "name": "stdout",
     "output_type": "stream",
     "text": [
      "8353555423.97\n"
     ]
    }
   ],
   "source": [
    "N_x=64\n",
    "N_y=64\n",
    "t1 = time.time()\n",
    "for patient_name in patients_stage1:\n",
    "    patient_feature_vec = process_patient(patient_name,N_x=N_x,N_y=N_y)\n",
    "    save_feat_vec( patient_feature_vec, patient_name,sub_name=\"stage1_feat_lowres\"+str(N_x))\n",
    "t2=time.time()\n",
    "print((t2-t1)*1000*1000.) # in seconds"
   ]
  },
  {
   "cell_type": "code",
   "execution_count": 115,
   "metadata": {
    "collapsed": true
   },
   "outputs": [],
   "source": [
    "patient_feature_vec_test = process_patient(patients_stage1[0],N_x=N_x,N_y=N_y)"
   ]
  },
  {
   "cell_type": "code",
   "execution_count": 116,
   "metadata": {},
   "outputs": [
    {
     "data": {
      "text/plain": [
       "(40968,)"
      ]
     },
     "execution_count": 116,
     "metadata": {},
     "output_type": "execute_result"
    }
   ],
   "source": [
    "patient_feature_vec_test.shape"
   ]
  },
  {
   "cell_type": "code",
   "execution_count": null,
   "metadata": {
    "collapsed": true
   },
   "outputs": [],
   "source": []
  }
 ],
 "metadata": {
  "kernelspec": {
   "display_name": "Python 2",
   "language": "python",
   "name": "python2"
  },
  "language_info": {
   "codemirror_mode": {
    "name": "ipython",
    "version": 2
   },
   "file_extension": ".py",
   "mimetype": "text/x-python",
   "name": "python",
   "nbconvert_exporter": "python",
   "pygments_lexer": "ipython2",
   "version": "2.7.13"
  }
 },
 "nbformat": 4,
 "nbformat_minor": 1
}
