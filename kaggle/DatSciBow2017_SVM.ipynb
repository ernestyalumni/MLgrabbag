{
 "cells": [
  {
   "cell_type": "code",
   "execution_count": 1,
   "metadata": {
    "collapsed": true
   },
   "outputs": [],
   "source": [
    "%matplotlib inline"
   ]
  },
  {
   "cell_type": "code",
   "execution_count": 2,
   "metadata": {},
   "outputs": [
    {
     "name": "stderr",
     "output_type": "stream",
     "text": [
      "WARNING (theano.sandbox.cuda): The cuda backend is deprecated and will be removed in the next release (v0.10).  Please switch to the gpuarray backend. You can get more information about how to switch at this URL:\n",
      " https://github.com/Theano/Theano/wiki/Converting-to-the-new-gpu-back-end%28gpuarray%29\n",
      "\n",
      "Using gpu device 0: GeForce GTX 980 Ti (CNMeM is enabled with initial size: 80.0% of memory, cuDNN 5105)\n"
     ]
    }
   ],
   "source": [
    "import theano"
   ]
  },
  {
   "cell_type": "code",
   "execution_count": 3,
   "metadata": {
    "collapsed": true
   },
   "outputs": [],
   "source": [
    "from theano import function, config, sandbox, shared \n",
    "import theano.tensor as T"
   ]
  },
  {
   "cell_type": "code",
   "execution_count": 4,
   "metadata": {},
   "outputs": [
    {
     "name": "stdout",
     "output_type": "stream",
     "text": [
      "gpu\n",
      "0.8\n",
      "True\n"
     ]
    }
   ],
   "source": [
    "print( theano.config.device )\n",
    "print( theano.config.lib.cnmem)  # cf. http://deeplearning.net/software/theano/library/config.html\n",
    "print( theano.config.print_active_device)# Print active device at when the GPU device is initialized."
   ]
  },
  {
   "cell_type": "code",
   "execution_count": 5,
   "metadata": {},
   "outputs": [
    {
     "name": "stdout",
     "output_type": "stream",
     "text": [
      "False\n",
      "\n"
     ]
    }
   ],
   "source": [
    "print(theano.config.allow_gc)\n",
    "print(theano.config.optimizer_excluding)"
   ]
  },
  {
   "cell_type": "code",
   "execution_count": 6,
   "metadata": {
    "collapsed": true
   },
   "outputs": [],
   "source": [
    "import sys\n",
    "sys.path.append( '../ML' )"
   ]
  },
  {
   "cell_type": "code",
   "execution_count": 7,
   "metadata": {},
   "outputs": [],
   "source": [
    "from SVM import SVM, SVM_serial, SVM_parallel"
   ]
  },
  {
   "cell_type": "code",
   "execution_count": 8,
   "metadata": {
    "collapsed": true
   },
   "outputs": [],
   "source": [
    "import numpy as np\n",
    "import pandas as pd"
   ]
  },
  {
   "cell_type": "code",
   "execution_count": 9,
   "metadata": {},
   "outputs": [
    {
     "data": {
      "text/plain": [
       "['2017datascibowl',\n",
       " 'data_password.txt',\n",
       " 'LSTM_model201702271930.save',\n",
       " 'cleaning_dueSigmaFin.pyc',\n",
       " 'LSTM_model201702280608.save',\n",
       " '.ipynb_checkpoints',\n",
       " 'dueSigmaFinancial_kaggle.py',\n",
       " 'LSTM_model.save',\n",
       " 'LSTM_model201703012346.save',\n",
       " 'DatSciBow2017_FullPreprocessTutorial.ipynb',\n",
       " 'LSTM_model201702282350.save',\n",
       " 'GRU_model201703022010.save',\n",
       " 'DueSigmaFin_runs.ipynb',\n",
       " 'ImagePreprocessing.ipynb',\n",
       " 'dueSigmaFinancial_local.ipynb',\n",
       " 'GRU_model201703012348.save',\n",
       " 'GRU_model201703050709.save',\n",
       " 'GRU_model201703021741.save',\n",
       " 'kaggle.ipynb',\n",
       " 'glass.csv',\n",
       " 'DatSciBow2017_SVM.ipynb',\n",
       " '__init__.py',\n",
       " 'train.h5',\n",
       " 'dueSigmaFinancial_local_GRUs.ipynb',\n",
       " 'cleaning_dueSigmaFin.py']"
      ]
     },
     "execution_count": 9,
     "metadata": {},
     "output_type": "execute_result"
    }
   ],
   "source": [
    "import os\n",
    "os.getcwd()\n",
    "os.listdir( os.getcwd() ) "
   ]
  },
  {
   "cell_type": "code",
   "execution_count": 9,
   "metadata": {},
   "outputs": [
    {
     "name": "stdout",
     "output_type": "stream",
     "text": [
      "1595\n"
     ]
    }
   ],
   "source": [
    "patients_stage1_feat = os.listdir('./2017datascibowl/stage1_feat')\n",
    "print(len(patients_stage1_feat))"
   ]
  },
  {
   "cell_type": "code",
   "execution_count": 10,
   "metadata": {
    "collapsed": true
   },
   "outputs": [],
   "source": [
    "patients_stage1_feat = [patientname.replace(\"feat_vec\",\"\") for patientname in patients_stage1_feat]"
   ]
  },
  {
   "cell_type": "markdown",
   "metadata": {},
   "source": [
    "### low-resolution case "
   ]
  },
  {
   "cell_type": "code",
   "execution_count": 10,
   "metadata": {},
   "outputs": [
    {
     "name": "stdout",
     "output_type": "stream",
     "text": [
      "1595\n"
     ]
    }
   ],
   "source": [
    "patients_stage1_feat_lowres = os.listdir('./2017datascibowl/stage1_feat_lowres')\n",
    "print(len(patients_stage1_feat_lowres))"
   ]
  },
  {
   "cell_type": "code",
   "execution_count": 11,
   "metadata": {
    "collapsed": true
   },
   "outputs": [],
   "source": [
    "patients_stage1_feat_lowres = [id.replace(\"feat_vec\",\"\") for id in patients_stage1_feat_lowres]"
   ]
  },
  {
   "cell_type": "markdown",
   "metadata": {},
   "source": [
    "# Get the $y$ value (outcomes), the label for the class that each example belongs to, by matching patient IDs"
   ]
  },
  {
   "cell_type": "code",
   "execution_count": 12,
   "metadata": {},
   "outputs": [
    {
     "name": "stdout",
     "output_type": "stream",
     "text": [
      "1397\n"
     ]
    }
   ],
   "source": [
    "y_ids = pd.read_csv('./2017datascibowl/stage1_labels.csv')\n",
    "print(len(y_ids))"
   ]
  },
  {
   "cell_type": "code",
   "execution_count": 13,
   "metadata": {},
   "outputs": [
    {
     "ename": "NameError",
     "evalue": "name 'patients_stage1_feat' is not defined",
     "output_type": "error",
     "traceback": [
      "\u001b[1;31m---------------------------------------------------------------------------\u001b[0m",
      "\u001b[1;31mNameError\u001b[0m                                 Traceback (most recent call last)",
      "\u001b[1;32m<ipython-input-13-de1b06632ffa>\u001b[0m in \u001b[0;36m<module>\u001b[1;34m()\u001b[0m\n\u001b[1;32m----> 1\u001b[1;33m \u001b[0my_ids_found\u001b[0m\u001b[1;33m=\u001b[0m\u001b[0my_ids\u001b[0m\u001b[1;33m.\u001b[0m\u001b[0mloc\u001b[0m\u001b[1;33m[\u001b[0m\u001b[0my_ids\u001b[0m\u001b[1;33m[\u001b[0m\u001b[1;34m'id'\u001b[0m\u001b[1;33m]\u001b[0m\u001b[1;33m.\u001b[0m\u001b[0misin\u001b[0m\u001b[1;33m(\u001b[0m\u001b[0mpatients_stage1_feat\u001b[0m\u001b[1;33m)\u001b[0m\u001b[1;33m]\u001b[0m\u001b[1;33m\u001b[0m\u001b[0m\n\u001b[0m\u001b[0;32m      2\u001b[0m \u001b[1;32mprint\u001b[0m\u001b[1;33m(\u001b[0m\u001b[0mlen\u001b[0m\u001b[1;33m(\u001b[0m\u001b[0my_ids_found\u001b[0m\u001b[1;33m)\u001b[0m\u001b[1;33m)\u001b[0m\u001b[1;33m\u001b[0m\u001b[0m\n",
      "\u001b[1;31mNameError\u001b[0m: name 'patients_stage1_feat' is not defined"
     ]
    }
   ],
   "source": [
    "y_ids_found=y_ids.loc[y_ids['id'].isin(patients_stage1_feat)]\n",
    "print(len(y_ids_found))"
   ]
  },
  {
   "cell_type": "code",
   "execution_count": 14,
   "metadata": {},
   "outputs": [
    {
     "name": "stdout",
     "output_type": "stream",
     "text": [
      "1397\n"
     ]
    }
   ],
   "source": [
    "y_ids_found=y_ids.loc[y_ids['id'].isin(patients_stage1_feat_lowres)]\n",
    "print(len(y_ids_found))"
   ]
  },
  {
   "cell_type": "code",
   "execution_count": 15,
   "metadata": {},
   "outputs": [
    {
     "name": "stdout",
     "output_type": "stream",
     "text": [
      "1397\n"
     ]
    }
   ],
   "source": [
    "m = len(patients_stage1_feat)\n",
    "found_indices =[]\n",
    "for i in range(m):\n",
    "    if patients_stage1_feat[i] in y_ids_found['id'].as_matrix():\n",
    "        found_indices.append(i)\n",
    "\n",
    "patients_stage1_feat_found = [patients_stage1_feat[i] for i in found_indices]\n",
    "print(len(patients_stage1_feat_found))"
   ]
  },
  {
   "cell_type": "code",
   "execution_count": 15,
   "metadata": {},
   "outputs": [
    {
     "name": "stdout",
     "output_type": "stream",
     "text": [
      "1397\n"
     ]
    }
   ],
   "source": [
    "m = len(patients_stage1_feat_lowres)\n",
    "found_indices =[]\n",
    "for i in range(m):\n",
    "    if patients_stage1_feat_lowres[i] in y_ids_found['id'].as_matrix():\n",
    "        found_indices.append(i)\n",
    "\n",
    "patients_stage1_lowres_found = [patients_stage1_feat_lowres[i] for i in found_indices]\n",
    "print(len(patients_stage1_lowres_found))"
   ]
  },
  {
   "cell_type": "code",
   "execution_count": 16,
   "metadata": {
    "collapsed": true
   },
   "outputs": [],
   "source": [
    "y_found=[]\n",
    "for i in range(len(patients_stage1_feat_found)):\n",
    "    if (patients_stage1_feat_found[i] in y_ids_found['id'].as_matrix()):\n",
    "        cancer_val = y_ids_found.loc[y_ids_found['id']==patients_stage1_feat_found[i]]['cancer'].as_matrix()\n",
    "        y_found.append( cancer_val )\n",
    "y_found=np.array(y_found).flatten()"
   ]
  },
  {
   "cell_type": "code",
   "execution_count": 16,
   "metadata": {
    "collapsed": true
   },
   "outputs": [],
   "source": [
    "y_found=[]\n",
    "for i in range(len(patients_stage1_lowres_found)):\n",
    "    if (patients_stage1_lowres_found[i] in y_ids_found['id'].as_matrix()):\n",
    "        cancer_val = y_ids_found.loc[y_ids_found['id']==patients_stage1_lowres_found[i]]['cancer'].as_matrix()\n",
    "        y_found.append( cancer_val )\n",
    "y_found=np.array(y_found).flatten()"
   ]
  },
  {
   "cell_type": "code",
   "execution_count": 17,
   "metadata": {},
   "outputs": [
    {
     "data": {
      "text/plain": [
       "True"
      ]
     },
     "execution_count": 17,
     "metadata": {},
     "output_type": "execute_result"
    }
   ],
   "source": [
    "# it should be this condition, as the indices for each now correspond to each other \n",
    "len(y_found)==len(patients_stage1_feat_found)"
   ]
  },
  {
   "cell_type": "code",
   "execution_count": 17,
   "metadata": {},
   "outputs": [
    {
     "data": {
      "text/plain": [
       "True"
      ]
     },
     "execution_count": 17,
     "metadata": {},
     "output_type": "execute_result"
    }
   ],
   "source": [
    "len(y_found)==len(patients_stage1_lowres_found)"
   ]
  },
  {
   "cell_type": "code",
   "execution_count": 38,
   "metadata": {},
   "outputs": [],
   "source": [
    "patients_stage1_feat_found;"
   ]
  },
  {
   "cell_type": "markdown",
   "metadata": {},
   "source": [
    "### low-resolution case  "
   ]
  },
  {
   "cell_type": "code",
   "execution_count": 18,
   "metadata": {
    "collapsed": true
   },
   "outputs": [],
   "source": [
    "patients_stage1_feat_found = patients_stage1_lowres_found"
   ]
  },
  {
   "cell_type": "markdown",
   "metadata": {},
   "source": [
    "# Training, (Cross-)Validation, Test Set randomization and processing "
   ]
  },
  {
   "cell_type": "code",
   "execution_count": 43,
   "metadata": {},
   "outputs": [
    {
     "name": "stdout",
     "output_type": "stream",
     "text": [
      "1397\n",
      "895\n",
      "279\n",
      "223\n"
     ]
    }
   ],
   "source": [
    "ratio_of_train_to_total = 0.2\n",
    "ratio_valid_to_rest = 0.2\n",
    "numberofexamples = len(patients_stage1_feat_found)\n",
    "numberoftrainingexamples = int(numberofexamples*ratio_of_train_to_total)\n",
    "numbertovalidate = int((numberofexamples - numberoftrainingexamples)*ratio_valid_to_rest)\n",
    "numbertotest= numberofexamples - numberoftrainingexamples - numbertovalidate\n",
    "print(numberofexamples);print(numbertotest);print(numberoftrainingexamples);print(numbertovalidate)"
   ]
  },
  {
   "cell_type": "code",
   "execution_count": 44,
   "metadata": {
    "collapsed": true
   },
   "outputs": [],
   "source": [
    "shuffledindices = np.random.permutation( numberofexamples)"
   ]
  },
  {
   "cell_type": "code",
   "execution_count": 45,
   "metadata": {},
   "outputs": [],
   "source": [
    "#patients_train = patients_stage1_feat[shuffledindices[:numberoftrainingexamples]] \n",
    "#patients_valid = patients_stage1_feat[shuffledindices[numberoftrainingexamples:numberoftrainingexamples+numbertovalidate]]\n",
    "#patients_test  = patients_stage1_feat[shuffledindices[numberoftrainingexamples+numbertovalidate:]]\n",
    "#patients_train = [patients_stage1_feat[id] for id in shuffledindices[:numberoftrainingexamples]]\n",
    "#patients_valid = [patients_stage1_feat[id] for id in shuffledindices[numberoftrainingexamples:numberoftrainingexamples+numbertovalidate]]\n",
    "#patients_test  = [patients_stage1_feat[id] for id in shuffledindices[numberoftrainingexamples+numbertovalidate:]]\n",
    "patients_train = [patients_stage1_feat_found[id] for id in shuffledindices[:numberoftrainingexamples]]\n",
    "patients_valid = [patients_stage1_feat_found[id] for id in shuffledindices[numberoftrainingexamples:numberoftrainingexamples+numbertovalidate]]\n",
    "patients_test  = [patients_stage1_feat_found[id] for id in shuffledindices[numberoftrainingexamples+numbertovalidate:]]\n",
    "\n",
    "y_train = y_found[shuffledindices[:numberoftrainingexamples]]\n",
    "y_valid = y_found[shuffledindices[numberoftrainingexamples:numberoftrainingexamples+numbertovalidate]]\n",
    "y_test  = y_found[shuffledindices[numberoftrainingexamples+numbertovalidate:]]\n"
   ]
  },
  {
   "cell_type": "markdown",
   "metadata": {},
   "source": [
    "Indeed"
   ]
  },
  {
   "cell_type": "code",
   "execution_count": 46,
   "metadata": {},
   "outputs": [
    {
     "data": {
      "text/html": [
       "<div>\n",
       "<table border=\"1\" class=\"dataframe\">\n",
       "  <thead>\n",
       "    <tr style=\"text-align: right;\">\n",
       "      <th></th>\n",
       "      <th>id</th>\n",
       "      <th>cancer</th>\n",
       "    </tr>\n",
       "  </thead>\n",
       "  <tbody>\n",
       "    <tr>\n",
       "      <th>1272</th>\n",
       "      <td>e8be143b9f5e352f71043b24f79f5a17</td>\n",
       "      <td>0</td>\n",
       "    </tr>\n",
       "  </tbody>\n",
       "</table>\n",
       "</div>"
      ],
      "text/plain": [
       "                                    id  cancer\n",
       "1272  e8be143b9f5e352f71043b24f79f5a17       0"
      ]
     },
     "execution_count": 46,
     "metadata": {},
     "output_type": "execute_result"
    }
   ],
   "source": [
    "# sanity check\n",
    "y_ids.loc[y_ids['id']== patients_train[2]]"
   ]
  },
  {
   "cell_type": "code",
   "execution_count": 47,
   "metadata": {},
   "outputs": [
    {
     "data": {
      "text/plain": [
       "0"
      ]
     },
     "execution_count": 47,
     "metadata": {},
     "output_type": "execute_result"
    }
   ],
   "source": [
    "# sanity check\n",
    "y_train[2]"
   ]
  },
  {
   "cell_type": "code",
   "execution_count": 48,
   "metadata": {},
   "outputs": [
    {
     "name": "stdout",
     "output_type": "stream",
     "text": [
      "[ True]\n",
      "[ True]\n",
      "[ True]\n",
      "[ True]\n",
      "[ True]\n",
      "[ True]\n",
      "[ True]\n",
      "[ True]\n",
      "[ True]\n",
      "[ True]\n"
     ]
    }
   ],
   "source": [
    "#sanity check\n",
    "for i in range(10,20):\n",
    "    print(y_ids.loc[y_ids['id']== patients_train[i]]['cancer'].as_matrix().flatten() == y_train[i])"
   ]
  },
  {
   "cell_type": "code",
   "execution_count": 25,
   "metadata": {
    "collapsed": true
   },
   "outputs": [],
   "source": [
    "def load_feat_vec(patientid):\n",
    "    f=file(\"./2017datascibowl/stage1_feat/\"+patientid+\"feat_vec\",\"rb\")\n",
    "    arr = np.load(f)\n",
    "    f.close()\n",
    "    return arr "
   ]
  },
  {
   "cell_type": "code",
   "execution_count": 25,
   "metadata": {},
   "outputs": [
    {
     "name": "stdout",
     "output_type": "stream",
     "text": [
      "CPU times: user 136 ms, sys: 1.57 s, total: 1.7 s\n",
      "Wall time: 9.23 s\n",
      "(69, 2621448)\n"
     ]
    }
   ],
   "source": [
    "%time patients_train_vecs = [load_feat_vec(id) for id in patients_train]\n",
    "patients_train_vecs = np.array(patients_train_vecs)\n",
    "print(patients_train_vecs.shape)"
   ]
  },
  {
   "cell_type": "code",
   "execution_count": 52,
   "metadata": {},
   "outputs": [
    {
     "name": "stdout",
     "output_type": "stream",
     "text": [
      "CPU times: user 110 ms, sys: 1.65 s, total: 1.76 s\n",
      "Wall time: 9.78 s\n",
      "(66, 2621448)\n"
     ]
    }
   ],
   "source": [
    "%time patients_valid_vecs = [load_feat_vec(id) for id in patients_valid]\n",
    "patients_valid_vecs = np.array(patients_valid_vecs)\n",
    "print(patients_valid_vecs.shape)"
   ]
  },
  {
   "cell_type": "code",
   "execution_count": 26,
   "metadata": {
    "collapsed": true
   },
   "outputs": [],
   "source": [
    "def load_feat_vec(patientid,sub_name=\"stage1_feat\"):\n",
    "    f=file(\"./2017datascibowl/\"+sub_name+\"/\"+patientid+\"feat_vec\",\"rb\")\n",
    "    arr = np.load(f)\n",
    "    f.close()\n",
    "    return arr "
   ]
  },
  {
   "cell_type": "code",
   "execution_count": 49,
   "metadata": {},
   "outputs": [
    {
     "name": "stdout",
     "output_type": "stream",
     "text": [
      "CPU times: user 144 ms, sys: 117 ms, total: 261 ms\n",
      "Wall time: 2.4 s\n",
      "(279, 40968)\n"
     ]
    }
   ],
   "source": [
    "%time patients_train_vecs = [load_feat_vec(id,\"stage1_feat_lowres\") for id in patients_train]\n",
    "patients_train_vecs = np.array(patients_train_vecs)\n",
    "print(patients_train_vecs.shape)"
   ]
  },
  {
   "cell_type": "code",
   "execution_count": 50,
   "metadata": {},
   "outputs": [
    {
     "name": "stdout",
     "output_type": "stream",
     "text": [
      "CPU times: user 112 ms, sys: 71.2 ms, total: 183 ms\n",
      "Wall time: 2.08 s\n",
      "(223, 40968)\n"
     ]
    }
   ],
   "source": [
    "%time patients_valid_vecs = [load_feat_vec(id,\"stage1_feat_lowres\") for id in patients_valid]\n",
    "patients_valid_vecs = np.array(patients_valid_vecs)\n",
    "print(patients_valid_vecs.shape)"
   ]
  },
  {
   "cell_type": "markdown",
   "metadata": {},
   "source": [
    "### Preprocess y labels to be in the -1,1 representation for the binary classes, *NOT* the 0,1 representation"
   ]
  },
  {
   "cell_type": "code",
   "execution_count": 54,
   "metadata": {},
   "outputs": [],
   "source": [
    "y_train;"
   ]
  },
  {
   "cell_type": "code",
   "execution_count": 52,
   "metadata": {},
   "outputs": [],
   "source": [
    "y_train_rep2 = np.copy(y_train)  # 2nd representation\n",
    "y_train_rep2[y_train_rep2<=0]=-1"
   ]
  },
  {
   "cell_type": "code",
   "execution_count": 55,
   "metadata": {},
   "outputs": [],
   "source": [
    "y_train_rep2;"
   ]
  },
  {
   "cell_type": "code",
   "execution_count": 56,
   "metadata": {},
   "outputs": [],
   "source": [
    "y_train;"
   ]
  },
  {
   "cell_type": "code",
   "execution_count": 57,
   "metadata": {
    "collapsed": true
   },
   "outputs": [],
   "source": [
    "y_valid_rep2 = np.copy(y_valid)  # 2nd representation\n",
    "y_valid_rep2[y_valid_rep2<=0]=-1"
   ]
  },
  {
   "cell_type": "code",
   "execution_count": 58,
   "metadata": {},
   "outputs": [],
   "source": [
    "SVM_stage1 = SVM_parallel(patients_train_vecs,y_train_rep2,len(y_train_rep2),1.0,1.0,0.001)  # C=1.0,sigma=1.0, alpha=0.001"
   ]
  },
  {
   "cell_type": "code",
   "execution_count": 59,
   "metadata": {},
   "outputs": [],
   "source": [
    "SVM_stage1.build_W();\n",
    "SVM_stage1.build_update();"
   ]
  },
  {
   "cell_type": "code",
   "execution_count": 60,
   "metadata": {},
   "outputs": [
    {
     "name": "stdout",
     "output_type": "stream",
     "text": [
      "CPU times: user 10min 1s, sys: 16min 54s, total: 26min 56s\n",
      "Wall time: 26min 54s\n"
     ]
    },
    {
     "data": {
      "text/plain": [
       "array([ -91.00325012,  -78.68531036,  -78.06800079,  -78.55661774,\n",
       "        -79.26457214,  -79.97239685,  -80.6671524 ,  -81.34812927,\n",
       "        -82.01557922,  -82.66971588,  -83.30926514,  -83.93421173,\n",
       "        -84.54647827,  -85.14653778,  -85.73464966,  -86.31061554,\n",
       "        -86.87378693,  -87.42567444,  -87.96500397,  -88.49226379,\n",
       "        -89.00816345,  -89.51264191,  -90.0063324 ,  -90.4901123 ,\n",
       "        -90.96418762,  -91.42666626,  -91.87518311,  -92.31246948,\n",
       "        -92.73873901,  -93.15627289,  -93.56546021,  -93.96653748,\n",
       "        -94.35960388,  -94.74481964,  -95.12241364,  -95.49246216,\n",
       "        -95.8536911 ,  -96.20722961,  -96.55370331,  -96.89065552,\n",
       "        -97.21958923,  -97.54145813,  -97.85430908,  -98.15711212,\n",
       "        -98.45239258,  -98.74053955,  -99.0219574 ,  -99.29771423,\n",
       "        -99.56790161,  -99.8325119 , -100.09016418, -100.34063721,\n",
       "       -100.58366394, -100.81987   , -101.05105591, -101.27754211,\n",
       "       -101.49958801, -101.71712494, -101.92977905, -102.13681793,\n",
       "       -102.3394928 , -102.5381546 , -102.7322998 , -102.92115784,\n",
       "       -103.10598755, -103.28557587, -103.45835876, -103.62210083,\n",
       "       -103.7815094 , -103.93566895, -104.08392334, -104.22496033,\n",
       "       -104.36073303, -104.49319458, -104.62014008, -104.73869324,\n",
       "       -104.85159302, -104.95965576, -105.06283569, -105.15847778,\n",
       "       -105.24778748, -105.33259583, -105.41456604, -105.49463654,\n",
       "       -105.57310486, -105.64996338, -105.72370148, -105.79509735,\n",
       "       -105.86325836, -105.92457581, -105.97979736, -106.02992249,\n",
       "       -106.07594299, -106.11862183, -106.15917969, -106.19702148,\n",
       "       -106.23287964, -106.26145172, -106.28283691, -106.3019104 ])"
      ]
     },
     "execution_count": 60,
     "metadata": {},
     "output_type": "execute_result"
    }
   ],
   "source": [
    "%time SVM_stage1.train_model_full(100) # training iterations 100->user 10min 1s, sys: 16min 54s, total: 26min 56s"
   ]
  },
  {
   "cell_type": "code",
   "execution_count": 62,
   "metadata": {},
   "outputs": [
    {
     "data": {
      "text/plain": [
       "(Elemwise{mul,no_inplace}.0, OrderedUpdates())"
      ]
     },
     "execution_count": 62,
     "metadata": {},
     "output_type": "execute_result"
    }
   ],
   "source": [
    "SVM_stage1.build_b()"
   ]
  },
  {
   "cell_type": "code",
   "execution_count": 63,
   "metadata": {},
   "outputs": [
    {
     "name": "stdout",
     "output_type": "stream",
     "text": [
      "CPU times: user 4.58 s, sys: 5.98 s, total: 10.6 s\n",
      "Wall time: 10.5 s\n"
     ]
    }
   ],
   "source": [
    "%time yhat_valid = SVM_stage1.make_predictions_parallel( patients_valid_vecs)"
   ]
  },
  {
   "cell_type": "code",
   "execution_count": 64,
   "metadata": {},
   "outputs": [
    {
     "name": "stdout",
     "output_type": "stream",
     "text": [
      "(223,)\n"
     ]
    },
    {
     "data": {
      "text/plain": [
       "array([-1., -1., -1., -1., -1., -1., -1., -1., -1., -1., -1., -1., -1.,\n",
       "       -1., -1., -1., -1., -1., -1., -1., -1., -1., -1., -1., -1., -1.,\n",
       "       -1., -1., -1., -1., -1., -1., -1., -1., -1., -1., -1., -1., -1.,\n",
       "       -1., -1., -1., -1., -1., -1., -1., -1., -1., -1., -1., -1., -1.,\n",
       "       -1., -1., -1., -1., -1., -1., -1., -1., -1., -1., -1., -1., -1.,\n",
       "       -1., -1., -1., -1., -1., -1., -1., -1., -1., -1., -1., -1., -1.,\n",
       "       -1., -1., -1., -1., -1., -1., -1., -1., -1., -1., -1., -1., -1.,\n",
       "       -1., -1., -1., -1., -1., -1., -1., -1., -1., -1., -1., -1., -1.,\n",
       "       -1., -1., -1., -1., -1., -1., -1., -1., -1., -1., -1., -1., -1.,\n",
       "       -1., -1., -1., -1., -1., -1., -1., -1., -1., -1., -1., -1., -1.,\n",
       "       -1., -1., -1., -1., -1., -1., -1., -1., -1., -1., -1., -1., -1.,\n",
       "       -1., -1., -1., -1., -1., -1., -1., -1., -1., -1., -1., -1., -1.,\n",
       "       -1., -1., -1., -1., -1., -1., -1., -1., -1., -1., -1., -1., -1.,\n",
       "       -1., -1., -1., -1., -1., -1., -1., -1., -1., -1., -1., -1., -1.,\n",
       "       -1., -1., -1., -1., -1., -1., -1., -1., -1., -1., -1., -1., -1.,\n",
       "       -1., -1., -1., -1., -1., -1., -1., -1., -1., -1., -1., -1., -1.,\n",
       "       -1., -1., -1., -1., -1., -1., -1., -1., -1., -1., -1., -1., -1.,\n",
       "       -1., -1.], dtype=float32)"
      ]
     },
     "execution_count": 64,
     "metadata": {},
     "output_type": "execute_result"
    }
   ],
   "source": [
    "print(np.sign(yhat_valid[0]).shape)\n",
    "np.sign(yhat_valid[0])\n"
   ]
  },
  {
   "cell_type": "code",
   "execution_count": 41,
   "metadata": {},
   "outputs": [
    {
     "data": {
      "text/plain": [
       "array([-1, -1,  1, -1, -1,  1, -1, -1, -1,  1, -1, -1,  1, -1, -1,  1, -1,\n",
       "       -1,  1, -1,  1, -1,  1, -1, -1, -1,  1, -1, -1, -1, -1,  1,  1, -1,\n",
       "        1, -1, -1,  1, -1, -1,  1, -1, -1, -1, -1, -1, -1, -1,  1, -1, -1,\n",
       "        1,  1, -1,  1, -1, -1, -1, -1, -1, -1, -1,  1,  1, -1,  1])"
      ]
     },
     "execution_count": 41,
     "metadata": {},
     "output_type": "execute_result"
    }
   ],
   "source": [
    "print(y_valid_rep2.shape)\n",
    "y_valid_rep2"
   ]
  },
  {
   "cell_type": "code",
   "execution_count": 65,
   "metadata": {},
   "outputs": [
    {
     "data": {
      "text/plain": [
       "0.73542600896860988"
      ]
     },
     "execution_count": 65,
     "metadata": {},
     "output_type": "execute_result"
    }
   ],
   "source": [
    "(np.sign(yhat_valid[0]) == y_valid_rep2).sum()/float(len(y_valid_rep2))"
   ]
  },
  {
   "cell_type": "code",
   "execution_count": 59,
   "metadata": {},
   "outputs": [
    {
     "ename": "MemoryError",
     "evalue": "Error allocating 723519648 bytes of device memory (CNMEM_STATUS_OUT_OF_MEMORY).\nApply node that caused the error: GpuElemwise{Composite{sqr((i0 - i1))},no_inplace}(<CudaNdarrayType(float32, matrix)>, GpuDimShuffle{x,0}.0)\nToposort index: 4\nInputs types: [CudaNdarrayType(float32, matrix), CudaNdarrayType(float32, row)]\nInputs shapes: [(69, 2621448), (1, 2621448)]\nInputs strides: [(2621448, 1), (0, 1)]\nInputs values: ['not shown', 'not shown']\nOutputs clients: [[for{gpu,scan_fn}(Elemwise{maximum,no_inplace}.0, GpuElemwise{mul,no_inplace}.0, GpuElemwise{Composite{sqr((i0 - i1))},no_inplace}.0, GpuSubtensor{:int64:}.0)]]\n\nHINT: Re-running with most Theano optimization disabled could give you a back-trace of when this node was created. This can be done with by setting the Theano flag 'optimizer=fast_compile'. If that does not work, Theano optimizations can be disabled with 'optimizer=None'.\nHINT: Use the Theano flag 'exception_verbosity=high' for a debugprint and storage map footprint of this apply node.\nApply node that caused the error: forall_inplace,gpu,scan_fn}(Elemwise{maximum,no_inplace}.0, GpuSubtensor{int64:int64:int8}.0, GpuIncSubtensor{InplaceSet;:int64:}.0, Elemwise{Composite{minimum(minimum(i0, i1), i2)}}.0, GpuSubtensor{int64:int64:int8}.0, GpuSubtensor{int64:int64:int8}.0, GpuSubtensor{int64:int64:int8}.0, GpuIncSubtensor{Set;:int64:}.0)\nToposort index: 58\nInputs types: [TensorType(int64, scalar), CudaNdarrayType(float32, matrix), CudaNdarrayType(float32, vector), TensorType(int64, scalar), CudaNdarrayType(float32, vector), CudaNdarrayType(float32, vector), CudaNdarrayType(float32, matrix), CudaNdarrayType(float32, vector)]\nInputs shapes: [(), (69, 2621448), (2,), (), (69,), (69,), (69, 2621448), (70,)]\nInputs strides: [(), (2621448, 1), (1,), (), (1,), (1,), (2621448, 1), (1,)]\nInputs values: [array(69), 'not shown', CudaNdarray([ 0.   -0.25]), array(69), 'not shown', 'not shown', 'not shown', 'not shown']\nOutputs clients: [[GpuSubtensor{int64}(forall_inplace,gpu,scan_fn}.0, ScalarFromTensor.0)]]\n\nHINT: Re-running with most Theano optimization disabled could give you a back-trace of when this node was created. This can be done with by setting the Theano flag 'optimizer=fast_compile'. If that does not work, Theano optimizations can be disabled with 'optimizer=None'.\nHINT: Use the Theano flag 'exception_verbosity=high' for a debugprint and storage map footprint of this apply node.",
     "output_type": "error",
     "traceback": [
      "\u001b[1;31m---------------------------------------------------------------------------\u001b[0m",
      "\u001b[1;31mMemoryError\u001b[0m                               Traceback (most recent call last)",
      "\u001b[1;32m<ipython-input-59-75ee5a149093>\u001b[0m in \u001b[0;36m<module>\u001b[1;34m()\u001b[0m\n\u001b[1;32m----> 1\u001b[1;33m \u001b[0mget_ipython\u001b[0m\u001b[1;33m(\u001b[0m\u001b[1;33m)\u001b[0m\u001b[1;33m.\u001b[0m\u001b[0mmagic\u001b[0m\u001b[1;33m(\u001b[0m\u001b[1;34mu'time yhat_valid = SVM_stage1.make_predictions_parallel( patients_valid_vecs[0:2])'\u001b[0m\u001b[1;33m)\u001b[0m\u001b[1;33m\u001b[0m\u001b[0m\n\u001b[0m",
      "\u001b[1;32m/home/topolo/Public/anaconda2/lib/python2.7/site-packages/IPython/core/interactiveshell.pyc\u001b[0m in \u001b[0;36mmagic\u001b[1;34m(self, arg_s)\u001b[0m\n\u001b[0;32m   2161\u001b[0m         \u001b[0mmagic_name\u001b[0m\u001b[1;33m,\u001b[0m \u001b[0m_\u001b[0m\u001b[1;33m,\u001b[0m \u001b[0mmagic_arg_s\u001b[0m \u001b[1;33m=\u001b[0m \u001b[0marg_s\u001b[0m\u001b[1;33m.\u001b[0m\u001b[0mpartition\u001b[0m\u001b[1;33m(\u001b[0m\u001b[1;34m' '\u001b[0m\u001b[1;33m)\u001b[0m\u001b[1;33m\u001b[0m\u001b[0m\n\u001b[0;32m   2162\u001b[0m         \u001b[0mmagic_name\u001b[0m \u001b[1;33m=\u001b[0m \u001b[0mmagic_name\u001b[0m\u001b[1;33m.\u001b[0m\u001b[0mlstrip\u001b[0m\u001b[1;33m(\u001b[0m\u001b[0mprefilter\u001b[0m\u001b[1;33m.\u001b[0m\u001b[0mESC_MAGIC\u001b[0m\u001b[1;33m)\u001b[0m\u001b[1;33m\u001b[0m\u001b[0m\n\u001b[1;32m-> 2163\u001b[1;33m         \u001b[1;32mreturn\u001b[0m \u001b[0mself\u001b[0m\u001b[1;33m.\u001b[0m\u001b[0mrun_line_magic\u001b[0m\u001b[1;33m(\u001b[0m\u001b[0mmagic_name\u001b[0m\u001b[1;33m,\u001b[0m \u001b[0mmagic_arg_s\u001b[0m\u001b[1;33m)\u001b[0m\u001b[1;33m\u001b[0m\u001b[0m\n\u001b[0m\u001b[0;32m   2164\u001b[0m \u001b[1;33m\u001b[0m\u001b[0m\n\u001b[0;32m   2165\u001b[0m     \u001b[1;31m#-------------------------------------------------------------------------\u001b[0m\u001b[1;33m\u001b[0m\u001b[1;33m\u001b[0m\u001b[0m\n",
      "\u001b[1;32m/home/topolo/Public/anaconda2/lib/python2.7/site-packages/IPython/core/interactiveshell.pyc\u001b[0m in \u001b[0;36mrun_line_magic\u001b[1;34m(self, magic_name, line)\u001b[0m\n\u001b[0;32m   2082\u001b[0m                 \u001b[0mkwargs\u001b[0m\u001b[1;33m[\u001b[0m\u001b[1;34m'local_ns'\u001b[0m\u001b[1;33m]\u001b[0m \u001b[1;33m=\u001b[0m \u001b[0msys\u001b[0m\u001b[1;33m.\u001b[0m\u001b[0m_getframe\u001b[0m\u001b[1;33m(\u001b[0m\u001b[0mstack_depth\u001b[0m\u001b[1;33m)\u001b[0m\u001b[1;33m.\u001b[0m\u001b[0mf_locals\u001b[0m\u001b[1;33m\u001b[0m\u001b[0m\n\u001b[0;32m   2083\u001b[0m             \u001b[1;32mwith\u001b[0m \u001b[0mself\u001b[0m\u001b[1;33m.\u001b[0m\u001b[0mbuiltin_trap\u001b[0m\u001b[1;33m:\u001b[0m\u001b[1;33m\u001b[0m\u001b[0m\n\u001b[1;32m-> 2084\u001b[1;33m                 \u001b[0mresult\u001b[0m \u001b[1;33m=\u001b[0m \u001b[0mfn\u001b[0m\u001b[1;33m(\u001b[0m\u001b[1;33m*\u001b[0m\u001b[0margs\u001b[0m\u001b[1;33m,\u001b[0m\u001b[1;33m**\u001b[0m\u001b[0mkwargs\u001b[0m\u001b[1;33m)\u001b[0m\u001b[1;33m\u001b[0m\u001b[0m\n\u001b[0m\u001b[0;32m   2085\u001b[0m             \u001b[1;32mreturn\u001b[0m \u001b[0mresult\u001b[0m\u001b[1;33m\u001b[0m\u001b[0m\n\u001b[0;32m   2086\u001b[0m \u001b[1;33m\u001b[0m\u001b[0m\n",
      "\u001b[1;32m<decorator-gen-60>\u001b[0m in \u001b[0;36mtime\u001b[1;34m(self, line, cell, local_ns)\u001b[0m\n",
      "\u001b[1;32m/home/topolo/Public/anaconda2/lib/python2.7/site-packages/IPython/core/magic.pyc\u001b[0m in \u001b[0;36m<lambda>\u001b[1;34m(f, *a, **k)\u001b[0m\n\u001b[0;32m    191\u001b[0m     \u001b[1;31m# but it's overkill for just that one bit of state.\u001b[0m\u001b[1;33m\u001b[0m\u001b[1;33m\u001b[0m\u001b[0m\n\u001b[0;32m    192\u001b[0m     \u001b[1;32mdef\u001b[0m \u001b[0mmagic_deco\u001b[0m\u001b[1;33m(\u001b[0m\u001b[0marg\u001b[0m\u001b[1;33m)\u001b[0m\u001b[1;33m:\u001b[0m\u001b[1;33m\u001b[0m\u001b[0m\n\u001b[1;32m--> 193\u001b[1;33m         \u001b[0mcall\u001b[0m \u001b[1;33m=\u001b[0m \u001b[1;32mlambda\u001b[0m \u001b[0mf\u001b[0m\u001b[1;33m,\u001b[0m \u001b[1;33m*\u001b[0m\u001b[0ma\u001b[0m\u001b[1;33m,\u001b[0m \u001b[1;33m**\u001b[0m\u001b[0mk\u001b[0m\u001b[1;33m:\u001b[0m \u001b[0mf\u001b[0m\u001b[1;33m(\u001b[0m\u001b[1;33m*\u001b[0m\u001b[0ma\u001b[0m\u001b[1;33m,\u001b[0m \u001b[1;33m**\u001b[0m\u001b[0mk\u001b[0m\u001b[1;33m)\u001b[0m\u001b[1;33m\u001b[0m\u001b[0m\n\u001b[0m\u001b[0;32m    194\u001b[0m \u001b[1;33m\u001b[0m\u001b[0m\n\u001b[0;32m    195\u001b[0m         \u001b[1;32mif\u001b[0m \u001b[0mcallable\u001b[0m\u001b[1;33m(\u001b[0m\u001b[0marg\u001b[0m\u001b[1;33m)\u001b[0m\u001b[1;33m:\u001b[0m\u001b[1;33m\u001b[0m\u001b[0m\n",
      "\u001b[1;32m/home/topolo/Public/anaconda2/lib/python2.7/site-packages/IPython/core/magics/execution.pyc\u001b[0m in \u001b[0;36mtime\u001b[1;34m(self, line, cell, local_ns)\u001b[0m\n\u001b[0;32m   1175\u001b[0m         \u001b[1;32melse\u001b[0m\u001b[1;33m:\u001b[0m\u001b[1;33m\u001b[0m\u001b[0m\n\u001b[0;32m   1176\u001b[0m             \u001b[0mst\u001b[0m \u001b[1;33m=\u001b[0m \u001b[0mclock2\u001b[0m\u001b[1;33m(\u001b[0m\u001b[1;33m)\u001b[0m\u001b[1;33m\u001b[0m\u001b[0m\n\u001b[1;32m-> 1177\u001b[1;33m             \u001b[1;32mexec\u001b[0m\u001b[1;33m(\u001b[0m\u001b[0mcode\u001b[0m\u001b[1;33m,\u001b[0m \u001b[0mglob\u001b[0m\u001b[1;33m,\u001b[0m \u001b[0mlocal_ns\u001b[0m\u001b[1;33m)\u001b[0m\u001b[1;33m\u001b[0m\u001b[0m\n\u001b[0m\u001b[0;32m   1178\u001b[0m             \u001b[0mend\u001b[0m \u001b[1;33m=\u001b[0m \u001b[0mclock2\u001b[0m\u001b[1;33m(\u001b[0m\u001b[1;33m)\u001b[0m\u001b[1;33m\u001b[0m\u001b[0m\n\u001b[0;32m   1179\u001b[0m             \u001b[0mout\u001b[0m \u001b[1;33m=\u001b[0m \u001b[0mNone\u001b[0m\u001b[1;33m\u001b[0m\u001b[0m\n",
      "\u001b[1;32m<timed exec>\u001b[0m in \u001b[0;36m<module>\u001b[1;34m()\u001b[0m\n",
      "\u001b[1;32m/home/topolo/PropD/MLgrabbag/ML/SVM.pyc\u001b[0m in \u001b[0;36mmake_predictions_parallel\u001b[1;34m(self, X_pred_vals)\u001b[0m\n\u001b[0;32m    708\u001b[0m \u001b[1;33m\u001b[0m\u001b[0m\n\u001b[0;32m    709\u001b[0m                 \u001b[0mpredictions_function\u001b[0m \u001b[1;33m=\u001b[0m \u001b[0mtheano\u001b[0m\u001b[1;33m.\u001b[0m\u001b[0mfunction\u001b[0m\u001b[1;33m(\u001b[0m\u001b[0minputs\u001b[0m\u001b[1;33m=\u001b[0m\u001b[1;33m[\u001b[0m\u001b[1;33m]\u001b[0m\u001b[1;33m,\u001b[0m\u001b[0moutputs\u001b[0m\u001b[1;33m=\u001b[0m\u001b[0moutput\u001b[0m\u001b[1;33m)\u001b[0m\u001b[1;33m\u001b[0m\u001b[0m\n\u001b[1;32m--> 710\u001b[1;33m                 \u001b[0mpredictions_vals\u001b[0m \u001b[1;33m=\u001b[0m \u001b[0mpredictions_function\u001b[0m\u001b[1;33m(\u001b[0m\u001b[1;33m)\u001b[0m\u001b[1;33m\u001b[0m\u001b[0m\n\u001b[0m\u001b[0;32m    711\u001b[0m                 \u001b[0mself\u001b[0m\u001b[1;33m.\u001b[0m\u001b[0m_yhat\u001b[0m \u001b[1;33m=\u001b[0m \u001b[0mtheano\u001b[0m\u001b[1;33m.\u001b[0m\u001b[0mshared\u001b[0m\u001b[1;33m(\u001b[0m \u001b[0mpredictions_vals\u001b[0m \u001b[1;33m)\u001b[0m \u001b[1;31m# added this line later\u001b[0m\u001b[1;33m\u001b[0m\u001b[0m\n\u001b[0;32m    712\u001b[0m \u001b[1;33m\u001b[0m\u001b[0m\n",
      "\u001b[1;32m/home/topolo/PropD/Theano/theano/compile/function_module.pyc\u001b[0m in \u001b[0;36m__call__\u001b[1;34m(self, *args, **kwargs)\u001b[0m\n\u001b[0;32m    896\u001b[0m                     \u001b[0mnode\u001b[0m\u001b[1;33m=\u001b[0m\u001b[0mself\u001b[0m\u001b[1;33m.\u001b[0m\u001b[0mfn\u001b[0m\u001b[1;33m.\u001b[0m\u001b[0mnodes\u001b[0m\u001b[1;33m[\u001b[0m\u001b[0mself\u001b[0m\u001b[1;33m.\u001b[0m\u001b[0mfn\u001b[0m\u001b[1;33m.\u001b[0m\u001b[0mposition_of_error\u001b[0m\u001b[1;33m]\u001b[0m\u001b[1;33m,\u001b[0m\u001b[1;33m\u001b[0m\u001b[0m\n\u001b[0;32m    897\u001b[0m                     \u001b[0mthunk\u001b[0m\u001b[1;33m=\u001b[0m\u001b[0mthunk\u001b[0m\u001b[1;33m,\u001b[0m\u001b[1;33m\u001b[0m\u001b[0m\n\u001b[1;32m--> 898\u001b[1;33m                     storage_map=getattr(self.fn, 'storage_map', None))\n\u001b[0m\u001b[0;32m    899\u001b[0m             \u001b[1;32melse\u001b[0m\u001b[1;33m:\u001b[0m\u001b[1;33m\u001b[0m\u001b[0m\n\u001b[0;32m    900\u001b[0m                 \u001b[1;31m# old-style linkers raise their own exceptions\u001b[0m\u001b[1;33m\u001b[0m\u001b[1;33m\u001b[0m\u001b[0m\n",
      "\u001b[1;32m/home/topolo/PropD/Theano/theano/gof/link.pyc\u001b[0m in \u001b[0;36mraise_with_op\u001b[1;34m(node, thunk, exc_info, storage_map)\u001b[0m\n\u001b[0;32m    323\u001b[0m         \u001b[1;31m# extra long error message in that case.\u001b[0m\u001b[1;33m\u001b[0m\u001b[1;33m\u001b[0m\u001b[0m\n\u001b[0;32m    324\u001b[0m         \u001b[1;32mpass\u001b[0m\u001b[1;33m\u001b[0m\u001b[0m\n\u001b[1;32m--> 325\u001b[1;33m     \u001b[0mreraise\u001b[0m\u001b[1;33m(\u001b[0m\u001b[0mexc_type\u001b[0m\u001b[1;33m,\u001b[0m \u001b[0mexc_value\u001b[0m\u001b[1;33m,\u001b[0m \u001b[0mexc_trace\u001b[0m\u001b[1;33m)\u001b[0m\u001b[1;33m\u001b[0m\u001b[0m\n\u001b[0m\u001b[0;32m    326\u001b[0m \u001b[1;33m\u001b[0m\u001b[0m\n\u001b[0;32m    327\u001b[0m \u001b[1;33m\u001b[0m\u001b[0m\n",
      "\u001b[1;32m/home/topolo/PropD/Theano/theano/compile/function_module.pyc\u001b[0m in \u001b[0;36m__call__\u001b[1;34m(self, *args, **kwargs)\u001b[0m\n\u001b[0;32m    882\u001b[0m         \u001b[1;32mtry\u001b[0m\u001b[1;33m:\u001b[0m\u001b[1;33m\u001b[0m\u001b[0m\n\u001b[0;32m    883\u001b[0m             \u001b[0moutputs\u001b[0m \u001b[1;33m=\u001b[0m\u001b[0;31m\\\u001b[0m\u001b[1;33m\u001b[0m\u001b[0m\n\u001b[1;32m--> 884\u001b[1;33m                 \u001b[0mself\u001b[0m\u001b[1;33m.\u001b[0m\u001b[0mfn\u001b[0m\u001b[1;33m(\u001b[0m\u001b[1;33m)\u001b[0m \u001b[1;32mif\u001b[0m \u001b[0moutput_subset\u001b[0m \u001b[1;32mis\u001b[0m \u001b[0mNone\u001b[0m \u001b[1;32melse\u001b[0m\u001b[0;31m\\\u001b[0m\u001b[1;33m\u001b[0m\u001b[0m\n\u001b[0m\u001b[0;32m    885\u001b[0m                 \u001b[0mself\u001b[0m\u001b[1;33m.\u001b[0m\u001b[0mfn\u001b[0m\u001b[1;33m(\u001b[0m\u001b[0moutput_subset\u001b[0m\u001b[1;33m=\u001b[0m\u001b[0moutput_subset\u001b[0m\u001b[1;33m)\u001b[0m\u001b[1;33m\u001b[0m\u001b[0m\n\u001b[0;32m    886\u001b[0m         \u001b[1;32mexcept\u001b[0m \u001b[0mException\u001b[0m\u001b[1;33m:\u001b[0m\u001b[1;33m\u001b[0m\u001b[0m\n",
      "\u001b[1;32m/home/topolo/PropD/Theano/theano/scan_module/scan_op.pyc\u001b[0m in \u001b[0;36mrval\u001b[1;34m(p, i, o, n, allow_gc)\u001b[0m\n\u001b[0;32m    987\u001b[0m         def rval(p=p, i=node_input_storage, o=node_output_storage, n=node,\n\u001b[0;32m    988\u001b[0m                  allow_gc=allow_gc):\n\u001b[1;32m--> 989\u001b[1;33m             \u001b[0mr\u001b[0m \u001b[1;33m=\u001b[0m \u001b[0mp\u001b[0m\u001b[1;33m(\u001b[0m\u001b[0mn\u001b[0m\u001b[1;33m,\u001b[0m \u001b[1;33m[\u001b[0m\u001b[0mx\u001b[0m\u001b[1;33m[\u001b[0m\u001b[1;36m0\u001b[0m\u001b[1;33m]\u001b[0m \u001b[1;32mfor\u001b[0m \u001b[0mx\u001b[0m \u001b[1;32min\u001b[0m \u001b[0mi\u001b[0m\u001b[1;33m]\u001b[0m\u001b[1;33m,\u001b[0m \u001b[0mo\u001b[0m\u001b[1;33m)\u001b[0m\u001b[1;33m\u001b[0m\u001b[0m\n\u001b[0m\u001b[0;32m    990\u001b[0m             \u001b[1;32mfor\u001b[0m \u001b[0mo\u001b[0m \u001b[1;32min\u001b[0m \u001b[0mnode\u001b[0m\u001b[1;33m.\u001b[0m\u001b[0moutputs\u001b[0m\u001b[1;33m:\u001b[0m\u001b[1;33m\u001b[0m\u001b[0m\n\u001b[0;32m    991\u001b[0m                 \u001b[0mcompute_map\u001b[0m\u001b[1;33m[\u001b[0m\u001b[0mo\u001b[0m\u001b[1;33m]\u001b[0m\u001b[1;33m[\u001b[0m\u001b[1;36m0\u001b[0m\u001b[1;33m]\u001b[0m \u001b[1;33m=\u001b[0m \u001b[0mTrue\u001b[0m\u001b[1;33m\u001b[0m\u001b[0m\n",
      "\u001b[1;32m/home/topolo/PropD/Theano/theano/scan_module/scan_op.pyc\u001b[0m in \u001b[0;36mp\u001b[1;34m(node, args, outs)\u001b[0m\n\u001b[0;32m    976\u001b[0m                                                 \u001b[0margs\u001b[0m\u001b[1;33m,\u001b[0m\u001b[1;33m\u001b[0m\u001b[0m\n\u001b[0;32m    977\u001b[0m                                                 \u001b[0mouts\u001b[0m\u001b[1;33m,\u001b[0m\u001b[1;33m\u001b[0m\u001b[0m\n\u001b[1;32m--> 978\u001b[1;33m                                                 self, node)\n\u001b[0m\u001b[0;32m    979\u001b[0m         \u001b[1;32mexcept\u001b[0m \u001b[1;33m(\u001b[0m\u001b[0mImportError\u001b[0m\u001b[1;33m,\u001b[0m \u001b[0mtheano\u001b[0m\u001b[1;33m.\u001b[0m\u001b[0mgof\u001b[0m\u001b[1;33m.\u001b[0m\u001b[0mcmodule\u001b[0m\u001b[1;33m.\u001b[0m\u001b[0mMissingGXX\u001b[0m\u001b[1;33m)\u001b[0m\u001b[1;33m:\u001b[0m\u001b[1;33m\u001b[0m\u001b[0m\n\u001b[0;32m    980\u001b[0m             \u001b[0mp\u001b[0m \u001b[1;33m=\u001b[0m \u001b[0mself\u001b[0m\u001b[1;33m.\u001b[0m\u001b[0mexecute\u001b[0m\u001b[1;33m\u001b[0m\u001b[0m\n",
      "\u001b[1;32m/home/topolo/PropD/Theano/theano/scan_module/scan_perform.pyx\u001b[0m in \u001b[0;36mtheano.scan_module.scan_perform.perform (/home/topolo/.theano/compiledir_Linux-4.2-fc23.x86_64-x86_64-with-fedora-23-Twenty_Three-x86_64-2.7.11-64/scan_perform/mod.cpp:4606)\u001b[1;34m()\u001b[0m\n\u001b[0;32m    403\u001b[0m                 \u001b[1;32mif\u001b[0m \u001b[0mhasattr\u001b[0m\u001b[1;33m(\u001b[0m\u001b[0mfn\u001b[0m\u001b[1;33m,\u001b[0m \u001b[1;34m'thunks'\u001b[0m\u001b[1;33m)\u001b[0m\u001b[1;33m:\u001b[0m\u001b[1;33m\u001b[0m\u001b[0m\n\u001b[0;32m    404\u001b[0m                     \u001b[1;31m# For the CVM\u001b[0m\u001b[1;33m\u001b[0m\u001b[1;33m\u001b[0m\u001b[0m\n\u001b[1;32m--> 405\u001b[1;33m                     gof.link.raise_with_op(fn.nodes[fn.position_of_error],\n\u001b[0m\u001b[0;32m    406\u001b[0m                                            fn.thunks[fn.position_of_error])\n\u001b[0;32m    407\u001b[0m                 \u001b[1;32melse\u001b[0m\u001b[1;33m:\u001b[0m\u001b[1;33m\u001b[0m\u001b[0m\n",
      "\u001b[1;32m/home/topolo/PropD/Theano/theano/gof/link.pyc\u001b[0m in \u001b[0;36mraise_with_op\u001b[1;34m(node, thunk, exc_info, storage_map)\u001b[0m\n\u001b[0;32m    323\u001b[0m         \u001b[1;31m# extra long error message in that case.\u001b[0m\u001b[1;33m\u001b[0m\u001b[1;33m\u001b[0m\u001b[0m\n\u001b[0;32m    324\u001b[0m         \u001b[1;32mpass\u001b[0m\u001b[1;33m\u001b[0m\u001b[0m\n\u001b[1;32m--> 325\u001b[1;33m     \u001b[0mreraise\u001b[0m\u001b[1;33m(\u001b[0m\u001b[0mexc_type\u001b[0m\u001b[1;33m,\u001b[0m \u001b[0mexc_value\u001b[0m\u001b[1;33m,\u001b[0m \u001b[0mexc_trace\u001b[0m\u001b[1;33m)\u001b[0m\u001b[1;33m\u001b[0m\u001b[0m\n\u001b[0m\u001b[0;32m    326\u001b[0m \u001b[1;33m\u001b[0m\u001b[0m\n\u001b[0;32m    327\u001b[0m \u001b[1;33m\u001b[0m\u001b[0m\n",
      "\u001b[1;32m/home/topolo/PropD/Theano/theano/scan_module/scan_perform.pyx\u001b[0m in \u001b[0;36mtheano.scan_module.scan_perform.perform (/home/topolo/.theano/compiledir_Linux-4.2-fc23.x86_64-x86_64-with-fedora-23-Twenty_Three-x86_64-2.7.11-64/scan_perform/mod.cpp:4490)\u001b[1;34m()\u001b[0m\n\u001b[0;32m    395\u001b[0m \u001b[1;33m\u001b[0m\u001b[0m\n\u001b[0;32m    396\u001b[0m         \u001b[1;32mtry\u001b[0m\u001b[1;33m:\u001b[0m\u001b[1;33m\u001b[0m\u001b[0m\n\u001b[1;32m--> 397\u001b[1;33m             \u001b[0mfn\u001b[0m\u001b[1;33m(\u001b[0m\u001b[1;33m)\u001b[0m\u001b[1;33m\u001b[0m\u001b[0m\n\u001b[0m\u001b[0;32m    398\u001b[0m         \u001b[1;32mexcept\u001b[0m \u001b[0mException\u001b[0m\u001b[1;33m:\u001b[0m\u001b[1;33m\u001b[0m\u001b[0m\n\u001b[0;32m    399\u001b[0m             \u001b[1;32mif\u001b[0m \u001b[0mhasattr\u001b[0m\u001b[1;33m(\u001b[0m\u001b[0mfn\u001b[0m\u001b[1;33m,\u001b[0m \u001b[1;34m'position_of_error'\u001b[0m\u001b[1;33m)\u001b[0m\u001b[1;33m:\u001b[0m\u001b[1;33m\u001b[0m\u001b[0m\n",
      "\u001b[1;31mMemoryError\u001b[0m: Error allocating 723519648 bytes of device memory (CNMEM_STATUS_OUT_OF_MEMORY).\nApply node that caused the error: GpuElemwise{Composite{sqr((i0 - i1))},no_inplace}(<CudaNdarrayType(float32, matrix)>, GpuDimShuffle{x,0}.0)\nToposort index: 4\nInputs types: [CudaNdarrayType(float32, matrix), CudaNdarrayType(float32, row)]\nInputs shapes: [(69, 2621448), (1, 2621448)]\nInputs strides: [(2621448, 1), (0, 1)]\nInputs values: ['not shown', 'not shown']\nOutputs clients: [[for{gpu,scan_fn}(Elemwise{maximum,no_inplace}.0, GpuElemwise{mul,no_inplace}.0, GpuElemwise{Composite{sqr((i0 - i1))},no_inplace}.0, GpuSubtensor{:int64:}.0)]]\n\nHINT: Re-running with most Theano optimization disabled could give you a back-trace of when this node was created. This can be done with by setting the Theano flag 'optimizer=fast_compile'. If that does not work, Theano optimizations can be disabled with 'optimizer=None'.\nHINT: Use the Theano flag 'exception_verbosity=high' for a debugprint and storage map footprint of this apply node.\nApply node that caused the error: forall_inplace,gpu,scan_fn}(Elemwise{maximum,no_inplace}.0, GpuSubtensor{int64:int64:int8}.0, GpuIncSubtensor{InplaceSet;:int64:}.0, Elemwise{Composite{minimum(minimum(i0, i1), i2)}}.0, GpuSubtensor{int64:int64:int8}.0, GpuSubtensor{int64:int64:int8}.0, GpuSubtensor{int64:int64:int8}.0, GpuIncSubtensor{Set;:int64:}.0)\nToposort index: 58\nInputs types: [TensorType(int64, scalar), CudaNdarrayType(float32, matrix), CudaNdarrayType(float32, vector), TensorType(int64, scalar), CudaNdarrayType(float32, vector), CudaNdarrayType(float32, vector), CudaNdarrayType(float32, matrix), CudaNdarrayType(float32, vector)]\nInputs shapes: [(), (69, 2621448), (2,), (), (69,), (69,), (69, 2621448), (70,)]\nInputs strides: [(), (2621448, 1), (1,), (), (1,), (1,), (2621448, 1), (1,)]\nInputs values: [array(69), 'not shown', CudaNdarray([ 0.   -0.25]), array(69), 'not shown', 'not shown', 'not shown', 'not shown']\nOutputs clients: [[GpuSubtensor{int64}(forall_inplace,gpu,scan_fn}.0, ScalarFromTensor.0)]]\n\nHINT: Re-running with most Theano optimization disabled could give you a back-trace of when this node was created. This can be done with by setting the Theano flag 'optimizer=fast_compile'. If that does not work, Theano optimizations can be disabled with 'optimizer=None'.\nHINT: Use the Theano flag 'exception_verbosity=high' for a debugprint and storage map footprint of this apply node."
     ]
    }
   ],
   "source": [
    "%time yhat_valid = SVM_stage1.make_predictions_parallel( patients_valid_vecs[0:2])"
   ]
  },
  {
   "cell_type": "markdown",
   "metadata": {
    "collapsed": true
   },
   "source": [
    "## Model selection; varying $C$ and $\\sigma$"
   ]
  },
  {
   "cell_type": "code",
   "execution_count": 66,
   "metadata": {
    "collapsed": true
   },
   "outputs": [],
   "source": [
    "C_trial = np.array([0.01,0.05,0.1,0.5,1.,5.,10.,50.,100,500])\n",
    "sigma_trial=np.array([0.1,0.5,1.,5.,10.])"
   ]
  },
  {
   "cell_type": "code",
   "execution_count": 67,
   "metadata": {
    "collapsed": true
   },
   "outputs": [],
   "source": [
    "Csigma_mesh = np.meshgrid(C_trial,sigma_trial)"
   ]
  },
  {
   "cell_type": "code",
   "execution_count": 73,
   "metadata": {},
   "outputs": [],
   "source": [
    "C_trial = np.array([0.01,0.1,1.,10.,100,500])\n",
    "sigma_trial=np.array([0.1,1.,10.])"
   ]
  },
  {
   "cell_type": "code",
   "execution_count": 74,
   "metadata": {
    "collapsed": true
   },
   "outputs": [],
   "source": [
    "Csigma_mesh = np.meshgrid(C_trial,sigma_trial)"
   ]
  },
  {
   "cell_type": "code",
   "execution_count": 75,
   "metadata": {
    "collapsed": true
   },
   "outputs": [],
   "source": [
    "accuracy_score = np.zeros(Csigma_mesh[0].shape)"
   ]
  },
  {
   "cell_type": "code",
   "execution_count": 78,
   "metadata": {},
   "outputs": [
    {
     "name": "stdout",
     "output_type": "stream",
     "text": [
      "(0.01, 0.10000000000000001, 0.73542600896860988)\n",
      "(0.10000000000000001, 0.10000000000000001, 0.73542600896860988)\n",
      "(1.0, 0.10000000000000001, 0.73542600896860988)\n",
      "(10.0, 0.10000000000000001, 0.73542600896860988)\n",
      "(100.0, 0.10000000000000001, 0.73542600896860988)\n",
      "(500.0, 0.10000000000000001, 0.73542600896860988)\n",
      "(0.01, 1.0, 0.73542600896860988)\n",
      "(0.10000000000000001, 1.0, 0.73542600896860988)\n",
      "(1.0, 1.0, 0.73542600896860988)\n",
      "(10.0, 1.0, 0.73542600896860988)\n",
      "(100.0, 1.0, 0.73542600896860988)\n"
     ]
    },
    {
     "ename": "KeyboardInterrupt",
     "evalue": "",
     "output_type": "error",
     "traceback": [
      "\u001b[1;31m---------------------------------------------------------------------------\u001b[0m",
      "\u001b[1;31mKeyboardInterrupt\u001b[0m                         Traceback (most recent call last)",
      "\u001b[1;32m<ipython-input-78-8001980da83f>\u001b[0m in \u001b[0;36m<module>\u001b[1;34m()\u001b[0m\n\u001b[0;32m      6\u001b[0m         \u001b[0mSVM_stage1\u001b[0m\u001b[1;33m.\u001b[0m\u001b[0mbuild_W\u001b[0m\u001b[1;33m(\u001b[0m\u001b[1;33m)\u001b[0m\u001b[1;33m;\u001b[0m\u001b[1;33m\u001b[0m\u001b[0m\n\u001b[0;32m      7\u001b[0m         \u001b[0mSVM_stage1\u001b[0m\u001b[1;33m.\u001b[0m\u001b[0mbuild_update\u001b[0m\u001b[1;33m(\u001b[0m\u001b[1;33m)\u001b[0m\u001b[1;33m;\u001b[0m\u001b[1;33m\u001b[0m\u001b[0m\n\u001b[1;32m----> 8\u001b[1;33m         \u001b[0mSVM_stage1\u001b[0m\u001b[1;33m.\u001b[0m\u001b[0mtrain_model_full\u001b[0m\u001b[1;33m(\u001b[0m\u001b[1;36m50\u001b[0m\u001b[1;33m)\u001b[0m\u001b[1;33m\u001b[0m\u001b[0m\n\u001b[0m\u001b[0;32m      9\u001b[0m         \u001b[0mSVM_stage1\u001b[0m\u001b[1;33m.\u001b[0m\u001b[0mbuild_b\u001b[0m\u001b[1;33m(\u001b[0m\u001b[1;33m)\u001b[0m\u001b[1;33m\u001b[0m\u001b[0m\n\u001b[0;32m     10\u001b[0m         \u001b[0myhat_valid\u001b[0m \u001b[1;33m=\u001b[0m \u001b[0mSVM_stage1\u001b[0m\u001b[1;33m.\u001b[0m\u001b[0mmake_predictions_parallel\u001b[0m\u001b[1;33m(\u001b[0m \u001b[0mpatients_valid_vecs\u001b[0m\u001b[1;33m)\u001b[0m\u001b[1;33m\u001b[0m\u001b[0m\n",
      "\u001b[1;32m/home/topolo/PropD/MLgrabbag/ML/SVM.pyc\u001b[0m in \u001b[0;36mtrain_model_full\u001b[1;34m(self, max_iters)\u001b[0m\n\u001b[0;32m    541\u001b[0m                         \u001b[0merror\u001b[0m \u001b[1;33m=\u001b[0m \u001b[1;36m0.\u001b[0m\u001b[1;33m\u001b[0m\u001b[0m\n\u001b[0;32m    542\u001b[0m \u001b[1;33m\u001b[0m\u001b[0m\n\u001b[1;32m--> 543\u001b[1;33m                         \u001b[0mW_train\u001b[0m \u001b[1;33m=\u001b[0m \u001b[0mupdate_function\u001b[0m\u001b[1;33m(\u001b[0m\u001b[1;33m)\u001b[0m\u001b[1;33m\u001b[0m\u001b[0m\n\u001b[0m\u001b[0;32m    544\u001b[0m \u001b[1;33m\u001b[0m\u001b[0m\n\u001b[0;32m    545\u001b[0m                         \u001b[1;32mif\u001b[0m \u001b[0mnp\u001b[0m\u001b[1;33m.\u001b[0m\u001b[0misnan\u001b[0m\u001b[1;33m(\u001b[0m \u001b[0mW_train\u001b[0m \u001b[1;33m)\u001b[0m \u001b[1;32mor\u001b[0m \u001b[0mnp\u001b[0m\u001b[1;33m.\u001b[0m\u001b[0misinf\u001b[0m\u001b[1;33m(\u001b[0m \u001b[0mW_train\u001b[0m\u001b[1;33m)\u001b[0m\u001b[1;33m:\u001b[0m\u001b[1;33m\u001b[0m\u001b[0m\n",
      "\u001b[1;32m/home/topolo/PropD/Theano/theano/compile/function_module.pyc\u001b[0m in \u001b[0;36m__call__\u001b[1;34m(self, *args, **kwargs)\u001b[0m\n\u001b[0;32m    882\u001b[0m         \u001b[1;32mtry\u001b[0m\u001b[1;33m:\u001b[0m\u001b[1;33m\u001b[0m\u001b[0m\n\u001b[0;32m    883\u001b[0m             \u001b[0moutputs\u001b[0m \u001b[1;33m=\u001b[0m\u001b[0;31m\\\u001b[0m\u001b[1;33m\u001b[0m\u001b[0m\n\u001b[1;32m--> 884\u001b[1;33m                 \u001b[0mself\u001b[0m\u001b[1;33m.\u001b[0m\u001b[0mfn\u001b[0m\u001b[1;33m(\u001b[0m\u001b[1;33m)\u001b[0m \u001b[1;32mif\u001b[0m \u001b[0moutput_subset\u001b[0m \u001b[1;32mis\u001b[0m \u001b[0mNone\u001b[0m \u001b[1;32melse\u001b[0m\u001b[0;31m\\\u001b[0m\u001b[1;33m\u001b[0m\u001b[0m\n\u001b[0m\u001b[0;32m    885\u001b[0m                 \u001b[0mself\u001b[0m\u001b[1;33m.\u001b[0m\u001b[0mfn\u001b[0m\u001b[1;33m(\u001b[0m\u001b[0moutput_subset\u001b[0m\u001b[1;33m=\u001b[0m\u001b[0moutput_subset\u001b[0m\u001b[1;33m)\u001b[0m\u001b[1;33m\u001b[0m\u001b[0m\n\u001b[0;32m    886\u001b[0m         \u001b[1;32mexcept\u001b[0m \u001b[0mException\u001b[0m\u001b[1;33m:\u001b[0m\u001b[1;33m\u001b[0m\u001b[0m\n",
      "\u001b[1;32m/home/topolo/PropD/Theano/theano/scan_module/scan_op.pyc\u001b[0m in \u001b[0;36mrval\u001b[1;34m(p, i, o, n, allow_gc)\u001b[0m\n\u001b[0;32m    987\u001b[0m         def rval(p=p, i=node_input_storage, o=node_output_storage, n=node,\n\u001b[0;32m    988\u001b[0m                  allow_gc=allow_gc):\n\u001b[1;32m--> 989\u001b[1;33m             \u001b[0mr\u001b[0m \u001b[1;33m=\u001b[0m \u001b[0mp\u001b[0m\u001b[1;33m(\u001b[0m\u001b[0mn\u001b[0m\u001b[1;33m,\u001b[0m \u001b[1;33m[\u001b[0m\u001b[0mx\u001b[0m\u001b[1;33m[\u001b[0m\u001b[1;36m0\u001b[0m\u001b[1;33m]\u001b[0m \u001b[1;32mfor\u001b[0m \u001b[0mx\u001b[0m \u001b[1;32min\u001b[0m \u001b[0mi\u001b[0m\u001b[1;33m]\u001b[0m\u001b[1;33m,\u001b[0m \u001b[0mo\u001b[0m\u001b[1;33m)\u001b[0m\u001b[1;33m\u001b[0m\u001b[0m\n\u001b[0m\u001b[0;32m    990\u001b[0m             \u001b[1;32mfor\u001b[0m \u001b[0mo\u001b[0m \u001b[1;32min\u001b[0m \u001b[0mnode\u001b[0m\u001b[1;33m.\u001b[0m\u001b[0moutputs\u001b[0m\u001b[1;33m:\u001b[0m\u001b[1;33m\u001b[0m\u001b[0m\n\u001b[0;32m    991\u001b[0m                 \u001b[0mcompute_map\u001b[0m\u001b[1;33m[\u001b[0m\u001b[0mo\u001b[0m\u001b[1;33m]\u001b[0m\u001b[1;33m[\u001b[0m\u001b[1;36m0\u001b[0m\u001b[1;33m]\u001b[0m \u001b[1;33m=\u001b[0m \u001b[0mTrue\u001b[0m\u001b[1;33m\u001b[0m\u001b[0m\n",
      "\u001b[1;32m/home/topolo/PropD/Theano/theano/scan_module/scan_op.pyc\u001b[0m in \u001b[0;36mp\u001b[1;34m(node, args, outs)\u001b[0m\n\u001b[0;32m    976\u001b[0m                                                 \u001b[0margs\u001b[0m\u001b[1;33m,\u001b[0m\u001b[1;33m\u001b[0m\u001b[0m\n\u001b[0;32m    977\u001b[0m                                                 \u001b[0mouts\u001b[0m\u001b[1;33m,\u001b[0m\u001b[1;33m\u001b[0m\u001b[0m\n\u001b[1;32m--> 978\u001b[1;33m                                                 self, node)\n\u001b[0m\u001b[0;32m    979\u001b[0m         \u001b[1;32mexcept\u001b[0m \u001b[1;33m(\u001b[0m\u001b[0mImportError\u001b[0m\u001b[1;33m,\u001b[0m \u001b[0mtheano\u001b[0m\u001b[1;33m.\u001b[0m\u001b[0mgof\u001b[0m\u001b[1;33m.\u001b[0m\u001b[0mcmodule\u001b[0m\u001b[1;33m.\u001b[0m\u001b[0mMissingGXX\u001b[0m\u001b[1;33m)\u001b[0m\u001b[1;33m:\u001b[0m\u001b[1;33m\u001b[0m\u001b[0m\n\u001b[0;32m    980\u001b[0m             \u001b[0mp\u001b[0m \u001b[1;33m=\u001b[0m \u001b[0mself\u001b[0m\u001b[1;33m.\u001b[0m\u001b[0mexecute\u001b[0m\u001b[1;33m\u001b[0m\u001b[0m\n",
      "\u001b[1;32m/home/topolo/PropD/Theano/theano/scan_module/scan_perform.pyx\u001b[0m in \u001b[0;36mtheano.scan_module.scan_perform.perform (/home/topolo/.theano/compiledir_Linux-4.2-fc23.x86_64-x86_64-with-fedora-23-Twenty_Three-x86_64-2.7.11-64/scan_perform/mod.cpp:4490)\u001b[1;34m()\u001b[0m\n\u001b[0;32m    395\u001b[0m \u001b[1;33m\u001b[0m\u001b[0m\n\u001b[0;32m    396\u001b[0m         \u001b[1;32mtry\u001b[0m\u001b[1;33m:\u001b[0m\u001b[1;33m\u001b[0m\u001b[0m\n\u001b[1;32m--> 397\u001b[1;33m             \u001b[0mfn\u001b[0m\u001b[1;33m(\u001b[0m\u001b[1;33m)\u001b[0m\u001b[1;33m\u001b[0m\u001b[0m\n\u001b[0m\u001b[0;32m    398\u001b[0m         \u001b[1;32mexcept\u001b[0m \u001b[0mException\u001b[0m\u001b[1;33m:\u001b[0m\u001b[1;33m\u001b[0m\u001b[0m\n\u001b[0;32m    399\u001b[0m             \u001b[1;32mif\u001b[0m \u001b[0mhasattr\u001b[0m\u001b[1;33m(\u001b[0m\u001b[0mfn\u001b[0m\u001b[1;33m,\u001b[0m \u001b[1;34m'position_of_error'\u001b[0m\u001b[1;33m)\u001b[0m\u001b[1;33m:\u001b[0m\u001b[1;33m\u001b[0m\u001b[0m\n",
      "\u001b[1;32m/home/topolo/PropD/Theano/theano/scan_module/scan_op.pyc\u001b[0m in \u001b[0;36mrval\u001b[1;34m(p, i, o, n, allow_gc)\u001b[0m\n\u001b[0;32m    987\u001b[0m         def rval(p=p, i=node_input_storage, o=node_output_storage, n=node,\n\u001b[0;32m    988\u001b[0m                  allow_gc=allow_gc):\n\u001b[1;32m--> 989\u001b[1;33m             \u001b[0mr\u001b[0m \u001b[1;33m=\u001b[0m \u001b[0mp\u001b[0m\u001b[1;33m(\u001b[0m\u001b[0mn\u001b[0m\u001b[1;33m,\u001b[0m \u001b[1;33m[\u001b[0m\u001b[0mx\u001b[0m\u001b[1;33m[\u001b[0m\u001b[1;36m0\u001b[0m\u001b[1;33m]\u001b[0m \u001b[1;32mfor\u001b[0m \u001b[0mx\u001b[0m \u001b[1;32min\u001b[0m \u001b[0mi\u001b[0m\u001b[1;33m]\u001b[0m\u001b[1;33m,\u001b[0m \u001b[0mo\u001b[0m\u001b[1;33m)\u001b[0m\u001b[1;33m\u001b[0m\u001b[0m\n\u001b[0m\u001b[0;32m    990\u001b[0m             \u001b[1;32mfor\u001b[0m \u001b[0mo\u001b[0m \u001b[1;32min\u001b[0m \u001b[0mnode\u001b[0m\u001b[1;33m.\u001b[0m\u001b[0moutputs\u001b[0m\u001b[1;33m:\u001b[0m\u001b[1;33m\u001b[0m\u001b[0m\n\u001b[0;32m    991\u001b[0m                 \u001b[0mcompute_map\u001b[0m\u001b[1;33m[\u001b[0m\u001b[0mo\u001b[0m\u001b[1;33m]\u001b[0m\u001b[1;33m[\u001b[0m\u001b[1;36m0\u001b[0m\u001b[1;33m]\u001b[0m \u001b[1;33m=\u001b[0m \u001b[0mTrue\u001b[0m\u001b[1;33m\u001b[0m\u001b[0m\n",
      "\u001b[1;32m/home/topolo/PropD/Theano/theano/scan_module/scan_op.pyc\u001b[0m in \u001b[0;36mp\u001b[1;34m(node, args, outs)\u001b[0m\n\u001b[0;32m    976\u001b[0m                                                 \u001b[0margs\u001b[0m\u001b[1;33m,\u001b[0m\u001b[1;33m\u001b[0m\u001b[0m\n\u001b[0;32m    977\u001b[0m                                                 \u001b[0mouts\u001b[0m\u001b[1;33m,\u001b[0m\u001b[1;33m\u001b[0m\u001b[0m\n\u001b[1;32m--> 978\u001b[1;33m                                                 self, node)\n\u001b[0m\u001b[0;32m    979\u001b[0m         \u001b[1;32mexcept\u001b[0m \u001b[1;33m(\u001b[0m\u001b[0mImportError\u001b[0m\u001b[1;33m,\u001b[0m \u001b[0mtheano\u001b[0m\u001b[1;33m.\u001b[0m\u001b[0mgof\u001b[0m\u001b[1;33m.\u001b[0m\u001b[0mcmodule\u001b[0m\u001b[1;33m.\u001b[0m\u001b[0mMissingGXX\u001b[0m\u001b[1;33m)\u001b[0m\u001b[1;33m:\u001b[0m\u001b[1;33m\u001b[0m\u001b[0m\n\u001b[0;32m    980\u001b[0m             \u001b[0mp\u001b[0m \u001b[1;33m=\u001b[0m \u001b[0mself\u001b[0m\u001b[1;33m.\u001b[0m\u001b[0mexecute\u001b[0m\u001b[1;33m\u001b[0m\u001b[0m\n",
      "\u001b[1;31mKeyboardInterrupt\u001b[0m: "
     ]
    }
   ],
   "source": [
    "for i in range(len(sigma_trial)):\n",
    "    for j in range(len(C_trial)):\n",
    "        C_temp = Csigma_mesh[0][i][j]\n",
    "        sigma_temp = Csigma_mesh[1][i][j]\n",
    "        SVM_stage1 = SVM_parallel(patients_train_vecs,y_train_rep2,len(y_train_rep2),C_temp,sigma_temp,0.001)  \n",
    "        SVM_stage1.build_W();\n",
    "        SVM_stage1.build_update();\n",
    "        SVM_stage1.train_model_full(50)\n",
    "        SVM_stage1.build_b()\n",
    "        yhat_valid = SVM_stage1.make_predictions_parallel( patients_valid_vecs)\n",
    "        accuracy_score_temp=(np.sign(yhat_valid[0]) == y_valid_rep2).sum()/float(len(y_valid_rep2))\n",
    "        print(C_temp,sigma_temp,accuracy_score_temp)\n",
    "        accuracy_score[i][j] = accuracy_score_temp"
   ]
  },
  {
   "cell_type": "markdown",
   "metadata": {},
   "source": [
    "# low-resolution 64x64 case "
   ]
  },
  {
   "cell_type": "code",
   "execution_count": 11,
   "metadata": {
    "collapsed": true
   },
   "outputs": [],
   "source": [
    "def load_feat_vec(patientid,sub_name=\"stage1_feat\"):\n",
    "    f=file(\"./2017datascibowl/\"+sub_name+\"/\"+patientid+\"feat_vec\",\"rb\")\n",
    "    arr = np.load(f)\n",
    "    f.close()\n",
    "    return arr "
   ]
  },
  {
   "cell_type": "code",
   "execution_count": 12,
   "metadata": {},
   "outputs": [],
   "source": [
    "def prepare_inputX(sub_name=\"stage1_feat_lowres64\", ratio_of_train_to_total = 0.4,\n",
    "                                                    ratio_valid_to_rest = 0.2):\n",
    "    patients_stage1_feat = os.listdir('./2017datascibowl/'+sub_name)\n",
    "\n",
    "    patients_stage1_feat = [id.replace(\"feat_vec\",\"\") for id in patients_stage1_feat]  # remove the suffix \"feat_vec\"\n",
    "    \n",
    "    # get y labels\n",
    "    y_ids = pd.read_csv('./2017datascibowl/stage1_labels.csv')\n",
    "    \n",
    "    y_ids_found=y_ids.loc[y_ids['id'].isin(patients_stage1_feat)]\n",
    "    \n",
    "    m = len(patients_stage1_feat)\n",
    "    found_indices =[]\n",
    "    for i in range(m):\n",
    "        if patients_stage1_feat[i] in y_ids_found['id'].as_matrix():\n",
    "            found_indices.append(i)\n",
    "\n",
    "    patients_stage1_feat_found = [patients_stage1_feat[i] for i in found_indices]\n",
    "    \n",
    "    y_found=[]\n",
    "    for i in range(len(patients_stage1_feat_found)):\n",
    "        if (patients_stage1_feat_found[i] in y_ids_found['id'].as_matrix()):\n",
    "            cancer_val = y_ids_found.loc[y_ids_found['id']==patients_stage1_feat_found[i]]['cancer'].as_matrix()\n",
    "            y_found.append( cancer_val )\n",
    "    y_found=np.array(y_found).flatten()\n",
    "    \n",
    "    assert (len(y_found)==len(patients_stage1_feat_found))\n",
    "\n",
    "\n",
    "    numberofexamples = len(patients_stage1_feat_found)\n",
    "    numberoftrainingexamples = int(numberofexamples*ratio_of_train_to_total)\n",
    "    numbertovalidate = int((numberofexamples - numberoftrainingexamples)*ratio_valid_to_rest)\n",
    "    numbertotest= numberofexamples - numberoftrainingexamples - numbertovalidate\n",
    "    \n",
    "    shuffledindices = np.random.permutation( numberofexamples)\n",
    "    \n",
    "    patients_train = [patients_stage1_feat_found[id] for id in shuffledindices[:numberoftrainingexamples]]\n",
    "    patients_valid = [patients_stage1_feat_found[id] for id in shuffledindices[numberoftrainingexamples:numberoftrainingexamples+numbertovalidate]]\n",
    "    patients_test  = [patients_stage1_feat_found[id] for id in shuffledindices[numberoftrainingexamples+numbertovalidate:]]\n",
    "\n",
    "    y_train = y_found[shuffledindices[:numberoftrainingexamples]]\n",
    "    y_valid = y_found[shuffledindices[numberoftrainingexamples:numberoftrainingexamples+numbertovalidate]]\n",
    "    y_test  = y_found[shuffledindices[numberoftrainingexamples+numbertovalidate:]]\n",
    "    \n",
    "    patients_train_vecs = [load_feat_vec(id,sub_name) for id in patients_train]\n",
    "    patients_train_vecs = np.array(patients_train_vecs)\n",
    "    \n",
    "    patients_valid_vecs = [load_feat_vec(id,sub_name) for id in patients_valid]\n",
    "    patients_valid_vecs = np.array(patients_valid_vecs)\n",
    "    \n",
    "    patients_test_vecs = [load_feat_vec(id,sub_name) for id in patients_test]\n",
    "    patients_test_vecs = np.array(patients_test_vecs)\n",
    "\n",
    "    patient_ids = {\"train\":patients_train,\"valid\":patients_valid,\"test\":patients_test}\n",
    "    ys = {\"train\":y_train,\"valid\":y_valid,\"test\":y_test}\n",
    "    Xs = {\"train\":patients_train_vecs,\"valid\":patients_valid_vecs,\"test\":patients_test_vecs}\n",
    "    \n",
    "    return patient_ids, ys, Xs    "
   ]
  },
  {
   "cell_type": "code",
   "execution_count": 98,
   "metadata": {},
   "outputs": [],
   "source": [
    "patient_ids64, ys64,Xs64=prepare_inputX(\"stage1_feat_lowres64\",0.2,0.2)"
   ]
  },
  {
   "cell_type": "code",
   "execution_count": 99,
   "metadata": {},
   "outputs": [],
   "source": [
    "y_train_rep2 = np.copy(ys64[\"train\"])  # 2nd representation\n",
    "y_train_rep2[y_train_rep2<=0]=-1\n",
    "\n",
    "y_valid_rep2 = np.copy(ys64[\"valid\"])  # 2nd representation\n",
    "y_valid_rep2[y_valid_rep2<=0]=-1\n",
    "\n",
    "y_test_rep2 = np.copy(ys64[\"test\"])  # 2nd representation\n",
    "y_test_rep2[y_test_rep2<=0]=-1"
   ]
  },
  {
   "cell_type": "code",
   "execution_count": 100,
   "metadata": {
    "collapsed": true
   },
   "outputs": [],
   "source": [
    "C_trial=[0.1,1.0,10.]\n",
    "sigma_trial=[0.1,1.0,10.]"
   ]
  },
  {
   "cell_type": "code",
   "execution_count": 101,
   "metadata": {
    "collapsed": true
   },
   "outputs": [],
   "source": [
    "SVM_stage1 = SVM_parallel(Xs64[\"train\"],y_train_rep2,len(y_train_rep2),\n",
    "                          C_trial[1],sigma_trial[1],0.0005)  # C=1.0,sigma=1.0, alpha=0.001\n",
    "\n",
    "SVM_stage1.build_W();\n",
    "SVM_stage1.build_update();"
   ]
  },
  {
   "cell_type": "code",
   "execution_count": 102,
   "metadata": {},
   "outputs": [
    {
     "ename": "RuntimeError",
     "evalue": "Cuda error: GpuElemwise node_f36d4d896685d79bc0957e19896d6464_0 Mul: out of memory.\n    n_blocks=9 threads_per_block=32\n   Call: kernel_Mul_node_f36d4d896685d79bc0957e19896d6464_0_Ccontiguous<<<n_blocks, threads_per_block>>>(numEls, i0_data, i1_data, o0_data)\n\nApply node that caused the error: GpuElemwise{mul,no_inplace}(GpuSubtensor{int64:int64:int8}.0, GpuSubtensor{int64:int64:int8}.0)\nToposort index: 176\nInputs types: [CudaNdarrayType(float32, vector), CudaNdarrayType(float32, vector)]\nInputs shapes: [(279,), (279,)]\nInputs strides: [(1,), (1,)]\nInputs values: ['not shown', 'not shown']\nOutputs clients: [[forall_inplace,gpu,scan_fn&grad_of_scan_fn}(Elemwise{Composite{minimum(minimum(i0, i1), i2)}}.0, GpuElemwise{mul,no_inplace}.0, GpuSubtensor{int64:int64:int8}.0, GpuElemwise{mul,no_inplace}.0, GpuSubtensor{int64:int64:int64}.0, GpuSubtensor{int64:int64:int64}.0, GpuSubtensor{int64:int64:int64}.0, GpuFromHost.0, GpuIncSubtensor{InplaceSet;:int64:}.0, GpuAlloc{memset_0=True}.0, Elemwise{Composite{minimum(minimum(i0, i1), i2)}}.0, Elemwise{Composite{minimum(minimum(i0, i1), i2)}}.0, GpuSubtensor{int64:int64:int8}.0, GpuSubtensor{int64:int64:int8}.0, GpuSubtensor{int64:int64:int8}.0, GpuIncSubtensor{InplaceSet;:int64:}.0, GpuAlloc{memset_0=True}.0, GpuAlloc{memset_0=True}.0, GpuAlloc{memset_0=True}.0, ScalarFromTensor.0, GpuSubtensor{int64:int64:int64}.0, GpuSubtensor{int64:int64:int64}.0, GpuSubtensor{int64:int64:int64}.0)]]\n\nHINT: Re-running with most Theano optimization disabled could give you a back-trace of when this node was created. This can be done with by setting the Theano flag 'optimizer=fast_compile'. If that does not work, Theano optimizations can be disabled with 'optimizer=None'.\nHINT: Use the Theano flag 'exception_verbosity=high' for a debugprint and storage map footprint of this apply node.",
     "output_type": "error",
     "traceback": [
      "\u001b[1;31m---------------------------------------------------------------------------\u001b[0m",
      "\u001b[1;31mRuntimeError\u001b[0m                              Traceback (most recent call last)",
      "\u001b[1;32m<ipython-input-102-e9bda6d66b45>\u001b[0m in \u001b[0;36m<module>\u001b[1;34m()\u001b[0m\n\u001b[1;32m----> 1\u001b[1;33m \u001b[0mget_ipython\u001b[0m\u001b[1;33m(\u001b[0m\u001b[1;33m)\u001b[0m\u001b[1;33m.\u001b[0m\u001b[0mmagic\u001b[0m\u001b[1;33m(\u001b[0m\u001b[1;34mu'time SVM_stage1.train_model_full(3) # training iterations 100->user 10min 1s, sys: 16min 54s, total: 26min 56s'\u001b[0m\u001b[1;33m)\u001b[0m\u001b[1;33m\u001b[0m\u001b[0m\n\u001b[0m",
      "\u001b[1;32m/home/topolo/Public/anaconda2/lib/python2.7/site-packages/IPython/core/interactiveshell.pyc\u001b[0m in \u001b[0;36mmagic\u001b[1;34m(self, arg_s)\u001b[0m\n\u001b[0;32m   2161\u001b[0m         \u001b[0mmagic_name\u001b[0m\u001b[1;33m,\u001b[0m \u001b[0m_\u001b[0m\u001b[1;33m,\u001b[0m \u001b[0mmagic_arg_s\u001b[0m \u001b[1;33m=\u001b[0m \u001b[0marg_s\u001b[0m\u001b[1;33m.\u001b[0m\u001b[0mpartition\u001b[0m\u001b[1;33m(\u001b[0m\u001b[1;34m' '\u001b[0m\u001b[1;33m)\u001b[0m\u001b[1;33m\u001b[0m\u001b[0m\n\u001b[0;32m   2162\u001b[0m         \u001b[0mmagic_name\u001b[0m \u001b[1;33m=\u001b[0m \u001b[0mmagic_name\u001b[0m\u001b[1;33m.\u001b[0m\u001b[0mlstrip\u001b[0m\u001b[1;33m(\u001b[0m\u001b[0mprefilter\u001b[0m\u001b[1;33m.\u001b[0m\u001b[0mESC_MAGIC\u001b[0m\u001b[1;33m)\u001b[0m\u001b[1;33m\u001b[0m\u001b[0m\n\u001b[1;32m-> 2163\u001b[1;33m         \u001b[1;32mreturn\u001b[0m \u001b[0mself\u001b[0m\u001b[1;33m.\u001b[0m\u001b[0mrun_line_magic\u001b[0m\u001b[1;33m(\u001b[0m\u001b[0mmagic_name\u001b[0m\u001b[1;33m,\u001b[0m \u001b[0mmagic_arg_s\u001b[0m\u001b[1;33m)\u001b[0m\u001b[1;33m\u001b[0m\u001b[0m\n\u001b[0m\u001b[0;32m   2164\u001b[0m \u001b[1;33m\u001b[0m\u001b[0m\n\u001b[0;32m   2165\u001b[0m     \u001b[1;31m#-------------------------------------------------------------------------\u001b[0m\u001b[1;33m\u001b[0m\u001b[1;33m\u001b[0m\u001b[0m\n",
      "\u001b[1;32m/home/topolo/Public/anaconda2/lib/python2.7/site-packages/IPython/core/interactiveshell.pyc\u001b[0m in \u001b[0;36mrun_line_magic\u001b[1;34m(self, magic_name, line)\u001b[0m\n\u001b[0;32m   2082\u001b[0m                 \u001b[0mkwargs\u001b[0m\u001b[1;33m[\u001b[0m\u001b[1;34m'local_ns'\u001b[0m\u001b[1;33m]\u001b[0m \u001b[1;33m=\u001b[0m \u001b[0msys\u001b[0m\u001b[1;33m.\u001b[0m\u001b[0m_getframe\u001b[0m\u001b[1;33m(\u001b[0m\u001b[0mstack_depth\u001b[0m\u001b[1;33m)\u001b[0m\u001b[1;33m.\u001b[0m\u001b[0mf_locals\u001b[0m\u001b[1;33m\u001b[0m\u001b[0m\n\u001b[0;32m   2083\u001b[0m             \u001b[1;32mwith\u001b[0m \u001b[0mself\u001b[0m\u001b[1;33m.\u001b[0m\u001b[0mbuiltin_trap\u001b[0m\u001b[1;33m:\u001b[0m\u001b[1;33m\u001b[0m\u001b[0m\n\u001b[1;32m-> 2084\u001b[1;33m                 \u001b[0mresult\u001b[0m \u001b[1;33m=\u001b[0m \u001b[0mfn\u001b[0m\u001b[1;33m(\u001b[0m\u001b[1;33m*\u001b[0m\u001b[0margs\u001b[0m\u001b[1;33m,\u001b[0m\u001b[1;33m**\u001b[0m\u001b[0mkwargs\u001b[0m\u001b[1;33m)\u001b[0m\u001b[1;33m\u001b[0m\u001b[0m\n\u001b[0m\u001b[0;32m   2085\u001b[0m             \u001b[1;32mreturn\u001b[0m \u001b[0mresult\u001b[0m\u001b[1;33m\u001b[0m\u001b[0m\n\u001b[0;32m   2086\u001b[0m \u001b[1;33m\u001b[0m\u001b[0m\n",
      "\u001b[1;32m<decorator-gen-60>\u001b[0m in \u001b[0;36mtime\u001b[1;34m(self, line, cell, local_ns)\u001b[0m\n",
      "\u001b[1;32m/home/topolo/Public/anaconda2/lib/python2.7/site-packages/IPython/core/magic.pyc\u001b[0m in \u001b[0;36m<lambda>\u001b[1;34m(f, *a, **k)\u001b[0m\n\u001b[0;32m    191\u001b[0m     \u001b[1;31m# but it's overkill for just that one bit of state.\u001b[0m\u001b[1;33m\u001b[0m\u001b[1;33m\u001b[0m\u001b[0m\n\u001b[0;32m    192\u001b[0m     \u001b[1;32mdef\u001b[0m \u001b[0mmagic_deco\u001b[0m\u001b[1;33m(\u001b[0m\u001b[0marg\u001b[0m\u001b[1;33m)\u001b[0m\u001b[1;33m:\u001b[0m\u001b[1;33m\u001b[0m\u001b[0m\n\u001b[1;32m--> 193\u001b[1;33m         \u001b[0mcall\u001b[0m \u001b[1;33m=\u001b[0m \u001b[1;32mlambda\u001b[0m \u001b[0mf\u001b[0m\u001b[1;33m,\u001b[0m \u001b[1;33m*\u001b[0m\u001b[0ma\u001b[0m\u001b[1;33m,\u001b[0m \u001b[1;33m**\u001b[0m\u001b[0mk\u001b[0m\u001b[1;33m:\u001b[0m \u001b[0mf\u001b[0m\u001b[1;33m(\u001b[0m\u001b[1;33m*\u001b[0m\u001b[0ma\u001b[0m\u001b[1;33m,\u001b[0m \u001b[1;33m**\u001b[0m\u001b[0mk\u001b[0m\u001b[1;33m)\u001b[0m\u001b[1;33m\u001b[0m\u001b[0m\n\u001b[0m\u001b[0;32m    194\u001b[0m \u001b[1;33m\u001b[0m\u001b[0m\n\u001b[0;32m    195\u001b[0m         \u001b[1;32mif\u001b[0m \u001b[0mcallable\u001b[0m\u001b[1;33m(\u001b[0m\u001b[0marg\u001b[0m\u001b[1;33m)\u001b[0m\u001b[1;33m:\u001b[0m\u001b[1;33m\u001b[0m\u001b[0m\n",
      "\u001b[1;32m/home/topolo/Public/anaconda2/lib/python2.7/site-packages/IPython/core/magics/execution.pyc\u001b[0m in \u001b[0;36mtime\u001b[1;34m(self, line, cell, local_ns)\u001b[0m\n\u001b[0;32m   1171\u001b[0m         \u001b[1;32mif\u001b[0m \u001b[0mmode\u001b[0m\u001b[1;33m==\u001b[0m\u001b[1;34m'eval'\u001b[0m\u001b[1;33m:\u001b[0m\u001b[1;33m\u001b[0m\u001b[0m\n\u001b[0;32m   1172\u001b[0m             \u001b[0mst\u001b[0m \u001b[1;33m=\u001b[0m \u001b[0mclock2\u001b[0m\u001b[1;33m(\u001b[0m\u001b[1;33m)\u001b[0m\u001b[1;33m\u001b[0m\u001b[0m\n\u001b[1;32m-> 1173\u001b[1;33m             \u001b[0mout\u001b[0m \u001b[1;33m=\u001b[0m \u001b[0meval\u001b[0m\u001b[1;33m(\u001b[0m\u001b[0mcode\u001b[0m\u001b[1;33m,\u001b[0m \u001b[0mglob\u001b[0m\u001b[1;33m,\u001b[0m \u001b[0mlocal_ns\u001b[0m\u001b[1;33m)\u001b[0m\u001b[1;33m\u001b[0m\u001b[0m\n\u001b[0m\u001b[0;32m   1174\u001b[0m             \u001b[0mend\u001b[0m \u001b[1;33m=\u001b[0m \u001b[0mclock2\u001b[0m\u001b[1;33m(\u001b[0m\u001b[1;33m)\u001b[0m\u001b[1;33m\u001b[0m\u001b[0m\n\u001b[0;32m   1175\u001b[0m         \u001b[1;32melse\u001b[0m\u001b[1;33m:\u001b[0m\u001b[1;33m\u001b[0m\u001b[0m\n",
      "\u001b[1;32m<timed eval>\u001b[0m in \u001b[0;36m<module>\u001b[1;34m()\u001b[0m\n",
      "\u001b[1;32m/home/topolo/PropD/MLgrabbag/ML/SVM.pyc\u001b[0m in \u001b[0;36mtrain_model_full\u001b[1;34m(self, max_iters)\u001b[0m\n\u001b[0;32m    541\u001b[0m                         \u001b[0merror\u001b[0m \u001b[1;33m=\u001b[0m \u001b[1;36m0.\u001b[0m\u001b[1;33m\u001b[0m\u001b[0m\n\u001b[0;32m    542\u001b[0m \u001b[1;33m\u001b[0m\u001b[0m\n\u001b[1;32m--> 543\u001b[1;33m                         \u001b[0mW_train\u001b[0m \u001b[1;33m=\u001b[0m \u001b[0mupdate_function\u001b[0m\u001b[1;33m(\u001b[0m\u001b[1;33m)\u001b[0m\u001b[1;33m\u001b[0m\u001b[0m\n\u001b[0m\u001b[0;32m    544\u001b[0m \u001b[1;33m\u001b[0m\u001b[0m\n\u001b[0;32m    545\u001b[0m                         \u001b[1;32mif\u001b[0m \u001b[0mnp\u001b[0m\u001b[1;33m.\u001b[0m\u001b[0misnan\u001b[0m\u001b[1;33m(\u001b[0m \u001b[0mW_train\u001b[0m \u001b[1;33m)\u001b[0m \u001b[1;32mor\u001b[0m \u001b[0mnp\u001b[0m\u001b[1;33m.\u001b[0m\u001b[0misinf\u001b[0m\u001b[1;33m(\u001b[0m \u001b[0mW_train\u001b[0m\u001b[1;33m)\u001b[0m\u001b[1;33m:\u001b[0m\u001b[1;33m\u001b[0m\u001b[0m\n",
      "\u001b[1;32m/home/topolo/PropD/Theano/theano/compile/function_module.pyc\u001b[0m in \u001b[0;36m__call__\u001b[1;34m(self, *args, **kwargs)\u001b[0m\n\u001b[0;32m    896\u001b[0m                     \u001b[0mnode\u001b[0m\u001b[1;33m=\u001b[0m\u001b[0mself\u001b[0m\u001b[1;33m.\u001b[0m\u001b[0mfn\u001b[0m\u001b[1;33m.\u001b[0m\u001b[0mnodes\u001b[0m\u001b[1;33m[\u001b[0m\u001b[0mself\u001b[0m\u001b[1;33m.\u001b[0m\u001b[0mfn\u001b[0m\u001b[1;33m.\u001b[0m\u001b[0mposition_of_error\u001b[0m\u001b[1;33m]\u001b[0m\u001b[1;33m,\u001b[0m\u001b[1;33m\u001b[0m\u001b[0m\n\u001b[0;32m    897\u001b[0m                     \u001b[0mthunk\u001b[0m\u001b[1;33m=\u001b[0m\u001b[0mthunk\u001b[0m\u001b[1;33m,\u001b[0m\u001b[1;33m\u001b[0m\u001b[0m\n\u001b[1;32m--> 898\u001b[1;33m                     storage_map=getattr(self.fn, 'storage_map', None))\n\u001b[0m\u001b[0;32m    899\u001b[0m             \u001b[1;32melse\u001b[0m\u001b[1;33m:\u001b[0m\u001b[1;33m\u001b[0m\u001b[0m\n\u001b[0;32m    900\u001b[0m                 \u001b[1;31m# old-style linkers raise their own exceptions\u001b[0m\u001b[1;33m\u001b[0m\u001b[1;33m\u001b[0m\u001b[0m\n",
      "\u001b[1;32m/home/topolo/PropD/Theano/theano/gof/link.pyc\u001b[0m in \u001b[0;36mraise_with_op\u001b[1;34m(node, thunk, exc_info, storage_map)\u001b[0m\n\u001b[0;32m    323\u001b[0m         \u001b[1;31m# extra long error message in that case.\u001b[0m\u001b[1;33m\u001b[0m\u001b[1;33m\u001b[0m\u001b[0m\n\u001b[0;32m    324\u001b[0m         \u001b[1;32mpass\u001b[0m\u001b[1;33m\u001b[0m\u001b[0m\n\u001b[1;32m--> 325\u001b[1;33m     \u001b[0mreraise\u001b[0m\u001b[1;33m(\u001b[0m\u001b[0mexc_type\u001b[0m\u001b[1;33m,\u001b[0m \u001b[0mexc_value\u001b[0m\u001b[1;33m,\u001b[0m \u001b[0mexc_trace\u001b[0m\u001b[1;33m)\u001b[0m\u001b[1;33m\u001b[0m\u001b[0m\n\u001b[0m\u001b[0;32m    326\u001b[0m \u001b[1;33m\u001b[0m\u001b[0m\n\u001b[0;32m    327\u001b[0m \u001b[1;33m\u001b[0m\u001b[0m\n",
      "\u001b[1;32m/home/topolo/PropD/Theano/theano/compile/function_module.pyc\u001b[0m in \u001b[0;36m__call__\u001b[1;34m(self, *args, **kwargs)\u001b[0m\n\u001b[0;32m    882\u001b[0m         \u001b[1;32mtry\u001b[0m\u001b[1;33m:\u001b[0m\u001b[1;33m\u001b[0m\u001b[0m\n\u001b[0;32m    883\u001b[0m             \u001b[0moutputs\u001b[0m \u001b[1;33m=\u001b[0m\u001b[0;31m\\\u001b[0m\u001b[1;33m\u001b[0m\u001b[0m\n\u001b[1;32m--> 884\u001b[1;33m                 \u001b[0mself\u001b[0m\u001b[1;33m.\u001b[0m\u001b[0mfn\u001b[0m\u001b[1;33m(\u001b[0m\u001b[1;33m)\u001b[0m \u001b[1;32mif\u001b[0m \u001b[0moutput_subset\u001b[0m \u001b[1;32mis\u001b[0m \u001b[0mNone\u001b[0m \u001b[1;32melse\u001b[0m\u001b[0;31m\\\u001b[0m\u001b[1;33m\u001b[0m\u001b[0m\n\u001b[0m\u001b[0;32m    885\u001b[0m                 \u001b[0mself\u001b[0m\u001b[1;33m.\u001b[0m\u001b[0mfn\u001b[0m\u001b[1;33m(\u001b[0m\u001b[0moutput_subset\u001b[0m\u001b[1;33m=\u001b[0m\u001b[0moutput_subset\u001b[0m\u001b[1;33m)\u001b[0m\u001b[1;33m\u001b[0m\u001b[0m\n\u001b[0;32m    886\u001b[0m         \u001b[1;32mexcept\u001b[0m \u001b[0mException\u001b[0m\u001b[1;33m:\u001b[0m\u001b[1;33m\u001b[0m\u001b[0m\n",
      "\u001b[1;31mRuntimeError\u001b[0m: Cuda error: GpuElemwise node_f36d4d896685d79bc0957e19896d6464_0 Mul: out of memory.\n    n_blocks=9 threads_per_block=32\n   Call: kernel_Mul_node_f36d4d896685d79bc0957e19896d6464_0_Ccontiguous<<<n_blocks, threads_per_block>>>(numEls, i0_data, i1_data, o0_data)\n\nApply node that caused the error: GpuElemwise{mul,no_inplace}(GpuSubtensor{int64:int64:int8}.0, GpuSubtensor{int64:int64:int8}.0)\nToposort index: 176\nInputs types: [CudaNdarrayType(float32, vector), CudaNdarrayType(float32, vector)]\nInputs shapes: [(279,), (279,)]\nInputs strides: [(1,), (1,)]\nInputs values: ['not shown', 'not shown']\nOutputs clients: [[forall_inplace,gpu,scan_fn&grad_of_scan_fn}(Elemwise{Composite{minimum(minimum(i0, i1), i2)}}.0, GpuElemwise{mul,no_inplace}.0, GpuSubtensor{int64:int64:int8}.0, GpuElemwise{mul,no_inplace}.0, GpuSubtensor{int64:int64:int64}.0, GpuSubtensor{int64:int64:int64}.0, GpuSubtensor{int64:int64:int64}.0, GpuFromHost.0, GpuIncSubtensor{InplaceSet;:int64:}.0, GpuAlloc{memset_0=True}.0, Elemwise{Composite{minimum(minimum(i0, i1), i2)}}.0, Elemwise{Composite{minimum(minimum(i0, i1), i2)}}.0, GpuSubtensor{int64:int64:int8}.0, GpuSubtensor{int64:int64:int8}.0, GpuSubtensor{int64:int64:int8}.0, GpuIncSubtensor{InplaceSet;:int64:}.0, GpuAlloc{memset_0=True}.0, GpuAlloc{memset_0=True}.0, GpuAlloc{memset_0=True}.0, ScalarFromTensor.0, GpuSubtensor{int64:int64:int64}.0, GpuSubtensor{int64:int64:int64}.0, GpuSubtensor{int64:int64:int64}.0)]]\n\nHINT: Re-running with most Theano optimization disabled could give you a back-trace of when this node was created. This can be done with by setting the Theano flag 'optimizer=fast_compile'. If that does not work, Theano optimizations can be disabled with 'optimizer=None'.\nHINT: Use the Theano flag 'exception_verbosity=high' for a debugprint and storage map footprint of this apply node."
     ]
    }
   ],
   "source": [
    "%time SVM_stage1.train_model_full(3) # training iterations 100->user 10min 1s, sys: 16min 54s, total: 26min 56s"
   ]
  },
  {
   "cell_type": "markdown",
   "metadata": {},
   "source": [
    "### low-resolution case (16x16)"
   ]
  },
  {
   "cell_type": "code",
   "execution_count": 361,
   "metadata": {
    "collapsed": true
   },
   "outputs": [],
   "source": [
    "patient_ids16, ys16,Xs16=prepare_inputX(\"stage1_feat_lowres\",0.55,0.3)"
   ]
  },
  {
   "cell_type": "code",
   "execution_count": 104,
   "metadata": {
    "collapsed": true
   },
   "outputs": [],
   "source": [
    "y_train_rep2 = np.copy(ys16[\"train\"])  # 2nd representation\n",
    "y_train_rep2[y_train_rep2<=0]=-1\n",
    "\n",
    "y_valid_rep2 = np.copy(ys16[\"valid\"])  # 2nd representation\n",
    "y_valid_rep2[y_valid_rep2<=0]=-1\n",
    "\n",
    "y_test_rep2 = np.copy(ys16[\"test\"])  # 2nd representation\n",
    "y_test_rep2[y_test_rep2<=0]=-1"
   ]
  },
  {
   "cell_type": "code",
   "execution_count": 105,
   "metadata": {
    "collapsed": true
   },
   "outputs": [],
   "source": [
    "C_trial=[0.1,1.0,10.]\n",
    "sigma_trial=[0.1,1.0,10.]"
   ]
  },
  {
   "cell_type": "code",
   "execution_count": 116,
   "metadata": {
    "collapsed": true
   },
   "outputs": [],
   "source": [
    "accuracy_scores=np.zeros((len(C_trial),len(sigma_trial)) )"
   ]
  },
  {
   "cell_type": "code",
   "execution_count": 106,
   "metadata": {
    "collapsed": true
   },
   "outputs": [],
   "source": [
    "SVM_stage1 = SVM_parallel(Xs16[\"train\"],y_train_rep2,len(y_train_rep2),\n",
    "                          C_trial[1],sigma_trial[1],0.0005)  # C=1.0,sigma=1.0, alpha=0.001\n",
    "\n",
    "SVM_stage1.build_W();\n",
    "SVM_stage1.build_update();"
   ]
  },
  {
   "cell_type": "code",
   "execution_count": 112,
   "metadata": {},
   "outputs": [
    {
     "name": "stdout",
     "output_type": "stream",
     "text": [
      "CPU times: user 3h 59min 7s, sys: 2h 46min 6s, total: 6h 45min 14s\n",
      "Wall time: 6h 44min 57s\n"
     ]
    },
    {
     "data": {
      "text/plain": [
       "array([-200.83131409, -202.55712891, -204.33587646, -206.08123779,\n",
       "       -207.7901001 , -209.45532227, -211.08381653, -212.67712402,\n",
       "       -214.23626709, -215.76069641, -217.24943542, -218.70394897,\n",
       "       -220.12663269, -221.52130127, -222.88653564, -224.22303772,\n",
       "       -225.5309906 , -226.809021  , -228.05993652, -229.28213501,\n",
       "       -230.47427368, -231.64016724, -232.77420044, -233.8817749 ,\n",
       "       -234.96562195, -236.02755737, -237.06628418, -238.08067322,\n",
       "       -239.07070923, -240.03775024, -240.98564148, -241.91238403,\n",
       "       -242.81768799, -243.69985962, -244.56072998, -245.39962769,\n",
       "       -246.21714783, -247.0166626 , -247.79553223, -248.55636597,\n",
       "       -249.2930603 , -250.00802612, -250.70266724, -251.37922668,\n",
       "       -252.04145813, -252.6869812 , -253.31645203, -253.93121338,\n",
       "       -254.53184509, -255.11587524, -255.68267822, -256.22912598,\n",
       "       -256.75299072, -257.25146484, -257.72674561, -258.18280029,\n",
       "       -258.62084961, -259.04241943, -259.44540405, -259.83544922,\n",
       "       -260.21270752, -260.56716919, -260.90518188, -261.22686768,\n",
       "       -261.53460693, -261.83227539, -262.11776733, -262.38827515,\n",
       "       -262.64398193, -262.88275146, -263.09793091, -263.29821777,\n",
       "       -263.4864502 , -263.65771484, -263.81768799, -263.9666748 ,\n",
       "       -264.09890747, -264.21740723, -264.32885742, -264.42810059,\n",
       "       -264.51879883, -264.5965271 , -264.66400146, -264.72744751,\n",
       "       -264.78866577, -264.84820557, -264.90667725, -264.96395874,\n",
       "       -265.02001953, -265.07522583, -265.12902832, -265.1819458 ,\n",
       "       -265.23364258, -265.28430176, -265.33435059, -265.38296509,\n",
       "       -265.43078613, -265.47763062, -265.5234375 , -265.568573  ,\n",
       "       -265.6126709 , -265.65612793, -265.69830322, -265.73983765,\n",
       "       -265.78070068, -265.82034302, -265.85934448, -265.89813232,\n",
       "       -265.93530273, -265.97241211, -266.00817871, -266.04336548,\n",
       "       -266.07836914, -266.11212158, -266.14562988, -266.17828369,\n",
       "       -266.21017456, -266.24133301, -266.2723999 , -266.30255127,\n",
       "       -266.33163452, -266.36083984, -266.38909912, -266.41702271,\n",
       "       -266.44393921, -266.47064209, -266.49713135, -266.52258301,\n",
       "       -266.54785156, -266.57214355, -266.59625244, -266.62023926,\n",
       "       -266.64318848, -266.66607666, -266.68841553, -266.71020508,\n",
       "       -266.73144531, -266.75241089, -266.77307129, -266.79315186,\n",
       "       -266.81295776, -266.83227539, -266.85095215, -266.86972046,\n",
       "       -266.88806152, -266.90594482, -266.92321777, -266.9402771 ,\n",
       "       -266.95733643, -266.97387695, -266.99002075, -267.0057373 ,\n",
       "       -267.02105713, -267.03643799, -267.05114746, -267.0657959 ,\n",
       "       -267.08013916, -267.09448242, -267.10797119, -267.12173462,\n",
       "       -267.13458252, -267.14758301, -267.16009521, -267.17285156,\n",
       "       -267.18481445, -267.19696045, -267.2086792 , -267.22021484,\n",
       "       -267.23132324, -267.24230957, -267.25332642, -267.2635498 ,\n",
       "       -267.2741394 , -267.28424072, -267.29418945, -267.30377197,\n",
       "       -267.3137207 , -267.32315063, -267.33215332, -267.34103394,\n",
       "       -267.34991455, -267.3588562 , -267.36724854, -267.37567139,\n",
       "       -267.38348389, -267.39151001, -267.39941406, -267.40686035,\n",
       "       -267.41485596, -267.42202759, -267.42932129, -267.43618774,\n",
       "       -267.44311523, -267.44989014, -267.45648193, -267.46334839,\n",
       "       -267.46966553, -267.47601318, -267.48187256, -267.48797607])"
      ]
     },
     "execution_count": 112,
     "metadata": {},
     "output_type": "execute_result"
    }
   ],
   "source": [
    "%time SVM_stage1.train_model_full(200)  # training iterations=3 PU times: user 3min 33s, sys: 2min 34s, total: 6min 8s"
   ]
  },
  {
   "cell_type": "code",
   "execution_count": 113,
   "metadata": {},
   "outputs": [
    {
     "data": {
      "text/plain": [
       "(Elemwise{mul,no_inplace}.0, OrderedUpdates())"
      ]
     },
     "execution_count": 113,
     "metadata": {},
     "output_type": "execute_result"
    }
   ],
   "source": [
    "SVM_stage1.build_b()"
   ]
  },
  {
   "cell_type": "code",
   "execution_count": 114,
   "metadata": {
    "collapsed": true
   },
   "outputs": [],
   "source": [
    "yhat_valid = SVM_stage1.make_predictions_parallel( Xs16[\"valid\"] )"
   ]
  },
  {
   "cell_type": "code",
   "execution_count": 115,
   "metadata": {},
   "outputs": [
    {
     "name": "stdout",
     "output_type": "stream",
     "text": [
      "0.712765957447\n"
     ]
    }
   ],
   "source": [
    "accuracy_score_temp=(np.sign(yhat_valid[0]) == y_valid_rep2).sum()/float(len(y_valid_rep2))\n",
    "print(accuracy_score_temp)"
   ]
  },
  {
   "cell_type": "code",
   "execution_count": 118,
   "metadata": {
    "collapsed": true
   },
   "outputs": [],
   "source": [
    "accuracy_scores[1][1]=accuracy_score_temp"
   ]
  },
  {
   "cell_type": "code",
   "execution_count": 119,
   "metadata": {},
   "outputs": [
    {
     "name": "stdout",
     "output_type": "stream",
     "text": [
      "CPU times: user 30.6 s, sys: 33.6 s, total: 1min 4s\n",
      "Wall time: 1min 4s\n"
     ]
    }
   ],
   "source": [
    "%time yhat_test = SVM_stage1.make_predictions_parallel( Xs16[\"test\"] )"
   ]
  },
  {
   "cell_type": "code",
   "execution_count": 120,
   "metadata": {},
   "outputs": [
    {
     "name": "stdout",
     "output_type": "stream",
     "text": [
      "441\n",
      "0.759637188209\n"
     ]
    }
   ],
   "source": [
    "accuracy_score_temp_test=(np.sign(yhat_test[0]) == y_test_rep2).sum()/float(len(y_test_rep2))\n",
    "print(len(y_test_rep2))\n",
    "print(accuracy_score_temp_test)"
   ]
  },
  {
   "cell_type": "markdown",
   "metadata": {},
   "source": [
    "## low-resolution 32x32 case"
   ]
  },
  {
   "cell_type": "code",
   "execution_count": 307,
   "metadata": {},
   "outputs": [
    {
     "data": {
      "text/plain": [
       "(163848,)"
      ]
     },
     "execution_count": 307,
     "metadata": {},
     "output_type": "execute_result"
    }
   ],
   "source": [
    "Xs32[\"train\"][0].shape"
   ]
  },
  {
   "cell_type": "code",
   "execution_count": 13,
   "metadata": {},
   "outputs": [],
   "source": [
    "patient_ids32, ys32,Xs32=prepare_inputX(\"stage1_feat_lowres32\",0.275,0.25)  #0.275,0.25 works,0.30,0.25 works"
   ]
  },
  {
   "cell_type": "code",
   "execution_count": 14,
   "metadata": {},
   "outputs": [],
   "source": [
    "y32_train_rep2 = np.copy(ys32[\"train\"])  # 2nd representation\n",
    "y32_train_rep2[y32_train_rep2<=0]=-1\n",
    "\n",
    "y32_valid_rep2 = np.copy(ys32[\"valid\"])  # 2nd representation\n",
    "y32_valid_rep2[y32_valid_rep2<=0]=-1\n",
    "\n",
    "y32_test_rep2 = np.copy(ys32[\"test\"])  # 2nd representation\n",
    "y32_test_rep2[y32_test_rep2<=0]=-1"
   ]
  },
  {
   "cell_type": "code",
   "execution_count": 15,
   "metadata": {
    "collapsed": true
   },
   "outputs": [],
   "source": [
    "C32_trial=[0.1,1.0,10.,200.]\n",
    "sigma32_trial=[0.1,1.0,10.]"
   ]
  },
  {
   "cell_type": "code",
   "execution_count": 16,
   "metadata": {},
   "outputs": [
    {
     "data": {
      "text/plain": [
       "200.0"
      ]
     },
     "execution_count": 16,
     "metadata": {},
     "output_type": "execute_result"
    }
   ],
   "source": [
    "C32_trial[3]"
   ]
  },
  {
   "cell_type": "code",
   "execution_count": 17,
   "metadata": {
    "collapsed": true
   },
   "outputs": [],
   "source": [
    "accuracy_scores32=np.zeros((len(C32_trial),len(sigma32_trial)) )"
   ]
  },
  {
   "cell_type": "code",
   "execution_count": 18,
   "metadata": {},
   "outputs": [],
   "source": [
    "SVM_stage1_32 = SVM_parallel(Xs32[\"train\"],y32_train_rep2,len(y32_train_rep2),\n",
    "                          C32_trial[3],sigma32_trial[1],0.0005)  \n",
    "\n",
    "SVM_stage1_32.build_W();\n",
    "SVM_stage1_32.build_update();"
   ]
  },
  {
   "cell_type": "code",
   "execution_count": null,
   "metadata": {},
   "outputs": [],
   "source": [
    "%time SVM_stage1_32.train_model_full(20) # training_iterations=2,CPU times: user 1min 54s, sys: 2min 34s, total: 4min 29s"
   ]
  },
  {
   "cell_type": "markdown",
   "metadata": {},
   "source": [
    "# To go out to the competition; over the full data set"
   ]
  },
  {
   "cell_type": "code",
   "execution_count": 126,
   "metadata": {},
   "outputs": [
    {
     "name": "stdout",
     "output_type": "stream",
     "text": [
      "1595\n"
     ]
    }
   ],
   "source": [
    "patients_stage1_ids = os.listdir('./2017datascibowl/stage1_feat_lowres')\n",
    "patients_stage1_ids = [id.replace(\"feat_vec\",\"\") for id in patients_stage1_ids]  # remove the suffix \"feat_vec\"\n",
    "\n",
    "print(len(patients_stage1_ids))"
   ]
  },
  {
   "cell_type": "code",
   "execution_count": 128,
   "metadata": {
    "collapsed": true
   },
   "outputs": [],
   "source": [
    "patients_vecs = [load_feat_vec(id,\"stage1_feat_lowres\") for id in patients_stage1_ids]\n",
    "patients_vecs = np.array(patients_vecs)"
   ]
  },
  {
   "cell_type": "code",
   "execution_count": 154,
   "metadata": {},
   "outputs": [
    {
     "name": "stdout",
     "output_type": "stream",
     "text": [
      "CPU times: user 57.1 s, sys: 1min 5s, total: 2min 2s\n",
      "Wall time: 2min 2s\n"
     ]
    }
   ],
   "source": [
    "%time yhat = SVM_stage1.make_predictions_parallel( patients_vecs )"
   ]
  },
  {
   "cell_type": "code",
   "execution_count": 155,
   "metadata": {},
   "outputs": [],
   "source": [
    "yhat_rep2 = np.copy(yhat[0])  # representation 2, {-1,1}, not representation of binary classes as {0,1}\n",
    "yhat_rep2 = np.sign( yhat_rep2);  # representation 1, {0,1}, not representation of binary classes as {-1,1}\n",
    "yhat_rep1 = np.copy(yhat_rep2)\n",
    "np.place(yhat_rep1,yhat_rep1<0.,0.)"
   ]
  },
  {
   "cell_type": "code",
   "execution_count": 158,
   "metadata": {},
   "outputs": [
    {
     "data": {
      "text/html": [
       "<div>\n",
       "<table border=\"1\" class=\"dataframe\">\n",
       "  <thead>\n",
       "    <tr style=\"text-align: right;\">\n",
       "      <th></th>\n",
       "      <th>0</th>\n",
       "    </tr>\n",
       "  </thead>\n",
       "  <tbody>\n",
       "    <tr>\n",
       "      <th>count</th>\n",
       "      <td>1595.000000</td>\n",
       "    </tr>\n",
       "    <tr>\n",
       "      <th>mean</th>\n",
       "      <td>0.126646</td>\n",
       "    </tr>\n",
       "    <tr>\n",
       "      <th>std</th>\n",
       "      <td>0.332678</td>\n",
       "    </tr>\n",
       "    <tr>\n",
       "      <th>min</th>\n",
       "      <td>0.000000</td>\n",
       "    </tr>\n",
       "    <tr>\n",
       "      <th>25%</th>\n",
       "      <td>0.000000</td>\n",
       "    </tr>\n",
       "    <tr>\n",
       "      <th>50%</th>\n",
       "      <td>0.000000</td>\n",
       "    </tr>\n",
       "    <tr>\n",
       "      <th>75%</th>\n",
       "      <td>0.000000</td>\n",
       "    </tr>\n",
       "    <tr>\n",
       "      <th>max</th>\n",
       "      <td>1.000000</td>\n",
       "    </tr>\n",
       "  </tbody>\n",
       "</table>\n",
       "</div>"
      ],
      "text/plain": [
       "                 0\n",
       "count  1595.000000\n",
       "mean      0.126646\n",
       "std       0.332678\n",
       "min       0.000000\n",
       "25%       0.000000\n",
       "50%       0.000000\n",
       "75%       0.000000\n",
       "max       1.000000"
      ]
     },
     "execution_count": 158,
     "metadata": {},
     "output_type": "execute_result"
    }
   ],
   "source": [
    "pd.DataFrame(yhat_rep1).describe();"
   ]
  },
  {
   "cell_type": "code",
   "execution_count": 206,
   "metadata": {},
   "outputs": [],
   "source": [
    "Prattscaling_results = SVM_stage1.make_prob_Pratt(yhat_rep1)"
   ]
  },
  {
   "cell_type": "code",
   "execution_count": 207,
   "metadata": {},
   "outputs": [
    {
     "data": {
      "text/html": [
       "<div>\n",
       "<table border=\"1\" class=\"dataframe\">\n",
       "  <thead>\n",
       "    <tr style=\"text-align: right;\">\n",
       "      <th></th>\n",
       "      <th>0</th>\n",
       "    </tr>\n",
       "  </thead>\n",
       "  <tbody>\n",
       "    <tr>\n",
       "      <th>count</th>\n",
       "      <td>1595.000000</td>\n",
       "    </tr>\n",
       "    <tr>\n",
       "      <th>mean</th>\n",
       "      <td>0.125520</td>\n",
       "    </tr>\n",
       "    <tr>\n",
       "      <th>std</th>\n",
       "      <td>0.271362</td>\n",
       "    </tr>\n",
       "    <tr>\n",
       "      <th>min</th>\n",
       "      <td>0.004191</td>\n",
       "    </tr>\n",
       "    <tr>\n",
       "      <th>25%</th>\n",
       "      <td>0.006749</td>\n",
       "    </tr>\n",
       "    <tr>\n",
       "      <th>50%</th>\n",
       "      <td>0.033630</td>\n",
       "    </tr>\n",
       "    <tr>\n",
       "      <th>75%</th>\n",
       "      <td>0.033630</td>\n",
       "    </tr>\n",
       "    <tr>\n",
       "      <th>max</th>\n",
       "      <td>0.837107</td>\n",
       "    </tr>\n",
       "  </tbody>\n",
       "</table>\n",
       "</div>"
      ],
      "text/plain": [
       "                 0\n",
       "count  1595.000000\n",
       "mean      0.125520\n",
       "std       0.271362\n",
       "min       0.004191\n",
       "25%       0.006749\n",
       "50%       0.033630\n",
       "75%       0.033630\n",
       "max       0.837107"
      ]
     },
     "execution_count": 207,
     "metadata": {},
     "output_type": "execute_result"
    }
   ],
   "source": [
    "pd.DataFrame(Prattscaling_results[0]).describe()"
   ]
  },
  {
   "cell_type": "code",
   "execution_count": 214,
   "metadata": {},
   "outputs": [
    {
     "data": {
      "text/plain": [
       "1595"
      ]
     },
     "execution_count": 214,
     "metadata": {},
     "output_type": "execute_result"
    }
   ],
   "source": [
    "((Prattscaling_results[0]>0.1).astype(\"float32\")==yhat_rep1).sum()"
   ]
  },
  {
   "cell_type": "code",
   "execution_count": 213,
   "metadata": {},
   "outputs": [
    {
     "name": "stdout",
     "output_type": "stream",
     "text": [
      "1595\n",
      "1595\n",
      "float32\n"
     ]
    }
   ],
   "source": [
    "print(len(Prattscaling_results[0]))\n",
    "print(len(yhat_rep1));print(yhat_rep1.dtype)"
   ]
  },
  {
   "cell_type": "code",
   "execution_count": 143,
   "metadata": {},
   "outputs": [
    {
     "name": "stdout",
     "output_type": "stream",
     "text": [
      "CPU times: user 315 ms, sys: 203 ms, total: 518 ms\n",
      "Wall time: 516 ms\n"
     ]
    }
   ],
   "source": [
    "%time patients_found_vecs = [load_feat_vec(id,\"stage1_feat_lowres\") for id in patients_stage1_lowres_found]\n",
    "patients_found_vecs = np.array(patients_found_vecs)"
   ]
  },
  {
   "cell_type": "code",
   "execution_count": 144,
   "metadata": {},
   "outputs": [
    {
     "data": {
      "text/plain": [
       "(1397, 40968)"
      ]
     },
     "execution_count": 144,
     "metadata": {},
     "output_type": "execute_result"
    }
   ],
   "source": [
    "patients_found_vecs.shape"
   ]
  },
  {
   "cell_type": "code",
   "execution_count": 148,
   "metadata": {},
   "outputs": [],
   "source": [
    "y_found_rep2 = np.copy(y_found)\n",
    "y_found_rep2[y_found_rep2<=0]=-1"
   ]
  },
  {
   "cell_type": "code",
   "execution_count": 151,
   "metadata": {},
   "outputs": [
    {
     "name": "stdout",
     "output_type": "stream",
     "text": [
      "CPU times: user 52.9 s, sys: 1min, total: 1min 53s\n",
      "Wall time: 1min 53s\n"
     ]
    }
   ],
   "source": [
    "%time yhat_found = SVM_stage1.make_predictions_parallel( patients_found_vecs )"
   ]
  },
  {
   "cell_type": "code",
   "execution_count": 152,
   "metadata": {},
   "outputs": [
    {
     "name": "stdout",
     "output_type": "stream",
     "text": [
      "0.885468861847\n"
     ]
    }
   ],
   "source": [
    "accuracy_score_temp_found=(np.sign(yhat_found[0]) == y_found_rep2).sum()/float(len(y_found_rep2))\n",
    "print(accuracy_score_temp_found)"
   ]
  },
  {
   "cell_type": "code",
   "execution_count": 216,
   "metadata": {},
   "outputs": [
    {
     "data": {
      "text/plain": [
       "array([ 0.,  1.], dtype=float32)"
      ]
     },
     "execution_count": 216,
     "metadata": {},
     "output_type": "execute_result"
    }
   ],
   "source": [
    "np.unique(yhat_rep1)"
   ]
  },
  {
   "cell_type": "code",
   "execution_count": 217,
   "metadata": {},
   "outputs": [
    {
     "data": {
      "text/plain": [
       "array([0, 1])"
      ]
     },
     "execution_count": 217,
     "metadata": {},
     "output_type": "execute_result"
    }
   ],
   "source": [
    "np.unique(y_found)"
   ]
  },
  {
   "cell_type": "code",
   "execution_count": 218,
   "metadata": {},
   "outputs": [
    {
     "data": {
      "text/plain": [
       "362"
      ]
     },
     "execution_count": 218,
     "metadata": {},
     "output_type": "execute_result"
    }
   ],
   "source": [
    "np.count_nonzero(y_found)"
   ]
  },
  {
   "cell_type": "code",
   "execution_count": 219,
   "metadata": {},
   "outputs": [
    {
     "data": {
      "text/plain": [
       "202"
      ]
     },
     "execution_count": 219,
     "metadata": {},
     "output_type": "execute_result"
    }
   ],
   "source": [
    "np.count_nonzero(yhat_rep1)"
   ]
  },
  {
   "cell_type": "code",
   "execution_count": 223,
   "metadata": {},
   "outputs": [
    {
     "data": {
      "text/plain": [
       "array([ 0.00676017,  0.03362985,  0.0066766 ,  0.00684445,  0.00445424,\n",
       "        0.03362985,  0.03362985,  0.00494832,  0.00491834,  0.03362985,\n",
       "        0.00515345,  0.00684445,  0.03362985,  0.03362985,  0.03362985,\n",
       "        0.03362985,  0.03362985,  0.00475647,  0.03362985,  0.03362985,\n",
       "        0.00570897,  0.83710682,  0.00640817,  0.00506418,  0.03362985,\n",
       "        0.00559623,  0.03362985,  0.03362985,  0.83710682,  0.03362985,\n",
       "        0.83710682,  0.83710682,  0.83710682,  0.03362985,  0.00684445,\n",
       "        0.03362985,  0.03362985,  0.83710682,  0.00573395,  0.00571569,\n",
       "        0.03362985,  0.004754  ,  0.03362985,  0.00468638,  0.03362985,\n",
       "        0.03362985,  0.00556879,  0.83710682,  0.00557399,  0.03362985,\n",
       "        0.00553154,  0.00537084,  0.83710682,  0.03362985,  0.03362985,\n",
       "        0.00582898,  0.03362985,  0.03362985,  0.03362985,  0.03362985,\n",
       "        0.005304  ,  0.03362985,  0.03362985,  0.83710682,  0.83710682,\n",
       "        0.00684445,  0.00636829,  0.03362985,  0.00427081,  0.00435718,\n",
       "        0.03362985,  0.83710682,  0.83710682,  0.00684445,  0.03362985,\n",
       "        0.00424011,  0.03362985,  0.00684445,  0.83710682,  0.00473127,\n",
       "        0.03362985,  0.03362985,  0.03362985,  0.00505903,  0.03362985,\n",
       "        0.03362985,  0.00623662,  0.03362985,  0.00512414,  0.03362985,\n",
       "        0.00596082,  0.03362985,  0.006568  ,  0.03362985,  0.03362985,\n",
       "        0.83710682,  0.00523753,  0.03362985,  0.03362985,  0.03362985], dtype=float32)"
      ]
     },
     "execution_count": 223,
     "metadata": {},
     "output_type": "execute_result"
    }
   ],
   "source": [
    "Prattscaling_results[0][:100]"
   ]
  },
  {
   "cell_type": "markdown",
   "metadata": {},
   "source": [
    "# Submissions"
   ]
  },
  {
   "cell_type": "code",
   "execution_count": 224,
   "metadata": {
    "collapsed": true
   },
   "outputs": [],
   "source": [
    "stage1_sample_submission_csv = pd.read_csv(\"./2017datascibowl/stage1_sample_submission.csv\")"
   ]
  },
  {
   "cell_type": "code",
   "execution_count": 226,
   "metadata": {},
   "outputs": [
    {
     "data": {
      "text/html": [
       "<div>\n",
       "<table border=\"1\" class=\"dataframe\">\n",
       "  <thead>\n",
       "    <tr style=\"text-align: right;\">\n",
       "      <th></th>\n",
       "      <th>cancer</th>\n",
       "    </tr>\n",
       "  </thead>\n",
       "  <tbody>\n",
       "    <tr>\n",
       "      <th>count</th>\n",
       "      <td>198.0</td>\n",
       "    </tr>\n",
       "    <tr>\n",
       "      <th>mean</th>\n",
       "      <td>0.5</td>\n",
       "    </tr>\n",
       "    <tr>\n",
       "      <th>std</th>\n",
       "      <td>0.0</td>\n",
       "    </tr>\n",
       "    <tr>\n",
       "      <th>min</th>\n",
       "      <td>0.5</td>\n",
       "    </tr>\n",
       "    <tr>\n",
       "      <th>25%</th>\n",
       "      <td>0.5</td>\n",
       "    </tr>\n",
       "    <tr>\n",
       "      <th>50%</th>\n",
       "      <td>0.5</td>\n",
       "    </tr>\n",
       "    <tr>\n",
       "      <th>75%</th>\n",
       "      <td>0.5</td>\n",
       "    </tr>\n",
       "    <tr>\n",
       "      <th>max</th>\n",
       "      <td>0.5</td>\n",
       "    </tr>\n",
       "  </tbody>\n",
       "</table>\n",
       "</div>"
      ],
      "text/plain": [
       "       cancer\n",
       "count   198.0\n",
       "mean      0.5\n",
       "std       0.0\n",
       "min       0.5\n",
       "25%       0.5\n",
       "50%       0.5\n",
       "75%       0.5\n",
       "max       0.5"
      ]
     },
     "execution_count": 226,
     "metadata": {},
     "output_type": "execute_result"
    }
   ],
   "source": [
    "stage1_sample_submission_csv.describe()"
   ]
  },
  {
   "cell_type": "code",
   "execution_count": 228,
   "metadata": {},
   "outputs": [
    {
     "data": {
      "text/html": [
       "<div>\n",
       "<table border=\"1\" class=\"dataframe\">\n",
       "  <thead>\n",
       "    <tr style=\"text-align: right;\">\n",
       "      <th></th>\n",
       "      <th>id</th>\n",
       "      <th>cancer</th>\n",
       "    </tr>\n",
       "  </thead>\n",
       "  <tbody>\n",
       "    <tr>\n",
       "      <th>0</th>\n",
       "      <td>026470d51482c93efc18b9803159c960</td>\n",
       "      <td>0.5</td>\n",
       "    </tr>\n",
       "    <tr>\n",
       "      <th>1</th>\n",
       "      <td>031b7ec4fe96a3b035a8196264a8c8c3</td>\n",
       "      <td>0.5</td>\n",
       "    </tr>\n",
       "    <tr>\n",
       "      <th>2</th>\n",
       "      <td>03bd22ed5858039af223c04993e9eb22</td>\n",
       "      <td>0.5</td>\n",
       "    </tr>\n",
       "    <tr>\n",
       "      <th>3</th>\n",
       "      <td>06a90409e4fcea3e634748b967993531</td>\n",
       "      <td>0.5</td>\n",
       "    </tr>\n",
       "    <tr>\n",
       "      <th>4</th>\n",
       "      <td>07b1defcfae5873ee1f03c90255eb170</td>\n",
       "      <td>0.5</td>\n",
       "    </tr>\n",
       "  </tbody>\n",
       "</table>\n",
       "</div>"
      ],
      "text/plain": [
       "                                 id  cancer\n",
       "0  026470d51482c93efc18b9803159c960     0.5\n",
       "1  031b7ec4fe96a3b035a8196264a8c8c3     0.5\n",
       "2  03bd22ed5858039af223c04993e9eb22     0.5\n",
       "3  06a90409e4fcea3e634748b967993531     0.5\n",
       "4  07b1defcfae5873ee1f03c90255eb170     0.5"
      ]
     },
     "execution_count": 228,
     "metadata": {},
     "output_type": "execute_result"
    }
   ],
   "source": [
    "stage1_sample_submission_csv.head()"
   ]
  },
  {
   "cell_type": "markdown",
   "metadata": {},
   "source": [
    "We need to match up these ids with what we have.  "
   ]
  },
  {
   "cell_type": "code",
   "execution_count": 236,
   "metadata": {},
   "outputs": [
    {
     "name": "stdout",
     "output_type": "stream",
     "text": [
      "198\n"
     ]
    }
   ],
   "source": [
    "m = len(patients_stage1_ids)\n",
    "m_sample = len(stage1_sample_submission_csv['id'].as_matrix())\n",
    "sample_indices =[]\n",
    "for j in range(m_sample):\n",
    "    for i in range(m):\n",
    "    #if patients_stage1_ids[i] in stage1_sample_submission_csv['id'].as_matrix():\n",
    "        condition = (stage1_sample_submission_csv['id'].as_matrix()[j] == patients_stage1_ids[i])\n",
    "        if condition:\n",
    "            sample_indices.append(i)\n",
    "\n",
    "patients_sample_ids = [patients_stage1_ids[i] for i in sample_indices]\n",
    "print(len(patients_sample_ids))"
   ]
  },
  {
   "cell_type": "code",
   "execution_count": 237,
   "metadata": {},
   "outputs": [
    {
     "data": {
      "text/plain": [
       "True"
      ]
     },
     "execution_count": 237,
     "metadata": {},
     "output_type": "execute_result"
    }
   ],
   "source": [
    "set(stage1_sample_submission_csv['id'].as_matrix()) == set(np.array(patients_sample_ids))"
   ]
  },
  {
   "cell_type": "code",
   "execution_count": 240,
   "metadata": {},
   "outputs": [],
   "source": [
    "sample_yhat_prob = np.array( [Prattscaling_results[0][idx] for idx in sample_indices] )"
   ]
  },
  {
   "cell_type": "code",
   "execution_count": 246,
   "metadata": {},
   "outputs": [
    {
     "data": {
      "text/html": [
       "<div>\n",
       "<table border=\"1\" class=\"dataframe\">\n",
       "  <thead>\n",
       "    <tr style=\"text-align: right;\">\n",
       "      <th></th>\n",
       "      <th>0</th>\n",
       "    </tr>\n",
       "  </thead>\n",
       "  <tbody>\n",
       "    <tr>\n",
       "      <th>count</th>\n",
       "      <td>1595.000000</td>\n",
       "    </tr>\n",
       "    <tr>\n",
       "      <th>mean</th>\n",
       "      <td>0.125520</td>\n",
       "    </tr>\n",
       "    <tr>\n",
       "      <th>std</th>\n",
       "      <td>0.271362</td>\n",
       "    </tr>\n",
       "    <tr>\n",
       "      <th>min</th>\n",
       "      <td>0.004191</td>\n",
       "    </tr>\n",
       "    <tr>\n",
       "      <th>25%</th>\n",
       "      <td>0.006749</td>\n",
       "    </tr>\n",
       "    <tr>\n",
       "      <th>50%</th>\n",
       "      <td>0.033630</td>\n",
       "    </tr>\n",
       "    <tr>\n",
       "      <th>75%</th>\n",
       "      <td>0.033630</td>\n",
       "    </tr>\n",
       "    <tr>\n",
       "      <th>max</th>\n",
       "      <td>0.837107</td>\n",
       "    </tr>\n",
       "  </tbody>\n",
       "</table>\n",
       "</div>"
      ],
      "text/plain": [
       "                 0\n",
       "count  1595.000000\n",
       "mean      0.125520\n",
       "std       0.271362\n",
       "min       0.004191\n",
       "25%       0.006749\n",
       "50%       0.033630\n",
       "75%       0.033630\n",
       "max       0.837107"
      ]
     },
     "execution_count": 246,
     "metadata": {},
     "output_type": "execute_result"
    }
   ],
   "source": [
    "pd.DataFrame(Prattscaling_results[0]).describe()"
   ]
  },
  {
   "cell_type": "code",
   "execution_count": 247,
   "metadata": {},
   "outputs": [
    {
     "data": {
      "text/plain": [
       "array([ 0.00676017,  0.03362985,  0.0066766 , ...,  0.00669918,\n",
       "        0.0060775 ,  0.03362985], dtype=float32)"
      ]
     },
     "execution_count": 247,
     "metadata": {},
     "output_type": "execute_result"
    }
   ],
   "source": [
    "Prattscaling_results[0]"
   ]
  },
  {
   "cell_type": "code",
   "execution_count": 232,
   "metadata": {},
   "outputs": [
    {
     "data": {
      "text/plain": [
       "'026470d51482c93efc18b9803159c960'"
      ]
     },
     "execution_count": 232,
     "metadata": {},
     "output_type": "execute_result"
    }
   ],
   "source": [
    "stage1_sample_submission_csv['id'].as_matrix()[0]"
   ]
  },
  {
   "cell_type": "code",
   "execution_count": 250,
   "metadata": {},
   "outputs": [],
   "source": [
    "sample_out = pd.DataFrame(zip(patients_sample_ids,sample_yhat_prob))\n",
    "sample_out.columns=[\"id\",\"cancer\"]"
   ]
  },
  {
   "cell_type": "code",
   "execution_count": 278,
   "metadata": {},
   "outputs": [
    {
     "data": {
      "text/html": [
       "<div>\n",
       "<table border=\"1\" class=\"dataframe\">\n",
       "  <thead>\n",
       "    <tr style=\"text-align: right;\">\n",
       "      <th></th>\n",
       "      <th>id</th>\n",
       "      <th>cancer</th>\n",
       "    </tr>\n",
       "  </thead>\n",
       "  <tbody>\n",
       "    <tr>\n",
       "      <th>0</th>\n",
       "      <td>026470d51482c93efc18b9803159c960</td>\n",
       "      <td>0.03363</td>\n",
       "    </tr>\n",
       "    <tr>\n",
       "      <th>1</th>\n",
       "      <td>031b7ec4fe96a3b035a8196264a8c8c3</td>\n",
       "      <td>0.03363</td>\n",
       "    </tr>\n",
       "    <tr>\n",
       "      <th>2</th>\n",
       "      <td>03bd22ed5858039af223c04993e9eb22</td>\n",
       "      <td>0.03363</td>\n",
       "    </tr>\n",
       "    <tr>\n",
       "      <th>3</th>\n",
       "      <td>06a90409e4fcea3e634748b967993531</td>\n",
       "      <td>0.03363</td>\n",
       "    </tr>\n",
       "    <tr>\n",
       "      <th>4</th>\n",
       "      <td>07b1defcfae5873ee1f03c90255eb170</td>\n",
       "      <td>0.03363</td>\n",
       "    </tr>\n",
       "  </tbody>\n",
       "</table>\n",
       "</div>"
      ],
      "text/plain": [
       "                                 id   cancer\n",
       "0  026470d51482c93efc18b9803159c960  0.03363\n",
       "1  031b7ec4fe96a3b035a8196264a8c8c3  0.03363\n",
       "2  03bd22ed5858039af223c04993e9eb22  0.03363\n",
       "3  06a90409e4fcea3e634748b967993531  0.03363\n",
       "4  07b1defcfae5873ee1f03c90255eb170  0.03363"
      ]
     },
     "execution_count": 278,
     "metadata": {},
     "output_type": "execute_result"
    }
   ],
   "source": [
    "sample_out.head()"
   ]
  },
  {
   "cell_type": "code",
   "execution_count": 279,
   "metadata": {},
   "outputs": [],
   "source": [
    "sample_out.to_csv(\"./2017datascibowl/samplesubmit00.csv\",index=False)"
   ]
  },
  {
   "cell_type": "code",
   "execution_count": 265,
   "metadata": {},
   "outputs": [],
   "source": [
    "import time"
   ]
  },
  {
   "cell_type": "code",
   "execution_count": 276,
   "metadata": {},
   "outputs": [
    {
     "data": {
      "text/plain": [
       "'time.struct_time(tm_year=2017, tm_mon=4, tm_mday=7, tm_hour=11, tm_min=50, tm_sec=35, tm_wday=4, tm_yday=97, tm_isdst=0)'"
      ]
     },
     "execution_count": 276,
     "metadata": {},
     "output_type": "execute_result"
    }
   ],
   "source": [
    "#time.gmtime().__str__()"
   ]
  },
  {
   "cell_type": "code",
   "execution_count": 281,
   "metadata": {},
   "outputs": [],
   "source": [
    "yhat_rep1\n",
    "sample_yhat_cls = np.array( [yhat_rep1[idx] for idx in sample_indices] )"
   ]
  },
  {
   "cell_type": "code",
   "execution_count": 282,
   "metadata": {},
   "outputs": [
    {
     "data": {
      "text/plain": [
       "array([ 0.,  0.,  0.,  0.,  0.,  0.,  0.,  0.,  0.,  0.,  0.,  0.,  0.,\n",
       "        0.,  0.,  0.,  0.,  0.,  0.,  0.,  0.,  0.,  0.,  0.,  0.,  0.,\n",
       "        0.,  0.,  0.,  0.,  0.,  0.,  0.,  0.,  0.,  0.,  0.,  0.,  0.,\n",
       "        0.,  0.,  0.,  0.,  0.,  0.,  0.,  0.,  0.,  0.,  0.,  0.,  0.,\n",
       "        0.,  0.,  0.,  0.,  0.,  0.,  0.,  0.,  0.,  0.,  0.,  0.,  0.,\n",
       "        0.,  0.,  0.,  0.,  0.,  0.,  0.,  0.,  0.,  0.,  0.,  0.,  0.,\n",
       "        0.,  0.,  0.,  0.,  0.,  0.,  0.,  0.,  0.,  0.,  0.,  0.,  0.,\n",
       "        0.,  0.,  0.,  0.,  0.,  0.,  0.,  0.,  0.,  0.,  0.,  0.,  0.,\n",
       "        0.,  0.,  0.,  0.,  0.,  0.,  0.,  0.,  0.,  0.,  0.,  0.,  0.,\n",
       "        0.,  0.,  0.,  0.,  0.,  0.,  0.,  0.,  0.,  0.,  0.,  0.,  0.,\n",
       "        0.,  0.,  0.,  0.,  0.,  0.,  0.,  0.,  0.,  0.,  0.,  0.,  0.,\n",
       "        0.,  0.,  0.,  0.,  0.,  0.,  0.,  0.,  0.,  0.,  0.,  0.,  0.,\n",
       "        0.,  0.,  0.,  0.,  0.,  0.,  0.,  0.,  0.,  0.,  0.,  0.,  0.,\n",
       "        0.,  0.,  0.,  0.,  0.,  0.,  0.,  0.,  0.,  0.,  0.,  0.,  0.,\n",
       "        0.,  0.,  0.,  0.,  0.,  0.,  0.,  0.,  0.,  0.,  0.,  0.,  0.,\n",
       "        0.,  0.,  0.], dtype=float32)"
      ]
     },
     "execution_count": 282,
     "metadata": {},
     "output_type": "execute_result"
    }
   ],
   "source": [
    "sample_yhat_cls"
   ]
  },
  {
   "cell_type": "markdown",
   "metadata": {},
   "source": [
    "#  To go out to competition, for only the sample  "
   ]
  },
  {
   "cell_type": "code",
   "execution_count": 284,
   "metadata": {
    "collapsed": true
   },
   "outputs": [],
   "source": [
    "stage1_sample_submission_csv = pd.read_csv(\"./2017datascibowl/stage1_sample_submission.csv\")"
   ]
  },
  {
   "cell_type": "code",
   "execution_count": 287,
   "metadata": {
    "collapsed": true
   },
   "outputs": [],
   "source": [
    "sub_name=\"stage1_feat_lowres\"\n",
    "patients_sample_vecs = np.array( [load_feat_vec(id,sub_name) for id in stage1_sample_submission_csv['id'].as_matrix()] )"
   ]
  },
  {
   "cell_type": "code",
   "execution_count": 289,
   "metadata": {},
   "outputs": [
    {
     "name": "stdout",
     "output_type": "stream",
     "text": [
      "CPU times: user 24.7 s, sys: 27.5 s, total: 52.2 s\n",
      "Wall time: 52.1 s\n"
     ]
    }
   ],
   "source": [
    "%time yhat_sample = SVM_stage1.make_predictions_parallel( patients_sample_vecs )"
   ]
  },
  {
   "cell_type": "code",
   "execution_count": 290,
   "metadata": {
    "collapsed": true
   },
   "outputs": [],
   "source": [
    "yhat_sample_rep2 = np.copy(yhat_sample[0])  # representation 2, {-1,1}, not representation of binary classes as {0,1}\n",
    "yhat_sample_rep2 = np.sign( yhat_sample_rep2);  # representation 1, {0,1}, not representation of binary classes as {-1,1}\n",
    "yhat_sample_rep1 = np.copy(yhat_sample_rep2)\n",
    "np.place(yhat_sample_rep1,yhat_sample_rep1<0.,0.)"
   ]
  },
  {
   "cell_type": "code",
   "execution_count": 293,
   "metadata": {},
   "outputs": [
    {
     "data": {
      "text/plain": [
       "CudaNdarray([-0.47227284 -0.47227284 -0.47227284 -0.47227284 -0.47227284 -0.47227284\n",
       " -0.47227284 -0.47227284 -0.47227284 -0.47227284 -0.47227284 -0.47227284\n",
       " -0.47227284 -0.47227284 -0.47227284 -0.47227284 -0.47227284 -0.47227284\n",
       " -0.47227284 -0.47227284 -0.47227284 -0.47227284 -0.47227284 -0.47227284\n",
       " -0.47227284 -0.47227284 -0.47227284 -0.47227284 -0.47227284 -0.47227284\n",
       " -0.47227284 -0.47227284 -0.47227284 -0.47227284 -0.47227284 -0.47227284\n",
       " -0.47227284 -0.47227284 -0.47227284 -0.47227284 -0.47227284 -0.47227284\n",
       " -0.47227284 -0.47227284 -0.47227284 -0.47227284 -0.47227284 -0.47227284\n",
       " -0.47227284 -0.47227284 -0.47227284 -0.47227284 -0.47227284 -0.47227284\n",
       " -0.47227284 -0.47227284 -0.47227284 -0.47227284 -0.47227284 -0.47227284\n",
       " -0.47227284 -0.47227284 -0.47227284 -0.47227284 -0.47227284 -0.47227284\n",
       " -0.47227284 -0.47227284 -0.47227284 -0.47227284 -0.47227284 -0.47227284\n",
       " -0.47227284 -0.47227284 -0.47227284 -0.47227284 -0.47227284 -0.47227284\n",
       " -0.47227284 -0.47227284 -0.47227284 -0.47227284 -0.47227284 -0.47227284\n",
       " -0.47227284 -0.47227284 -0.47227284 -0.47227284 -0.47227284 -0.47227284\n",
       " -0.47227284 -0.47227284 -0.47227284 -0.47227284 -0.47227284 -0.47227284\n",
       " -0.47227284 -0.47227284 -0.47227284 -0.47227284 -0.47227284 -0.47227284\n",
       " -0.47227284 -0.47227284 -0.47227284 -0.47227284 -0.47227284 -0.47227284\n",
       " -0.47227284 -0.47227284 -0.47227284 -0.47227284 -0.47227284 -0.47227284\n",
       " -0.47227284 -0.47227284 -0.47227284 -0.47227284 -0.47227284 -0.47227284\n",
       " -0.47227284 -0.47227284 -0.47227284 -0.47227284 -0.47227284 -0.47227284\n",
       " -0.47227284 -0.47227284 -0.47227284 -0.47227284 -0.47227284 -0.47227284\n",
       " -0.47227284 -0.47227284 -0.47227284 -0.47227284 -0.47227284 -0.47227284\n",
       " -0.47227284 -0.47227284 -0.47227284 -0.47227284 -0.47227284 -0.47227284\n",
       " -0.47227284 -0.47227284 -0.47227284 -0.47227284 -0.47227284 -0.47227284\n",
       " -0.47227284 -0.47227284 -0.47227284 -0.47227284 -0.47227284 -0.47227284\n",
       " -0.47227284 -0.47227284 -0.47227284 -0.47227284 -0.47227284 -0.47227284\n",
       " -0.47227284 -0.47227284 -0.47227284 -0.47227284 -0.47227284 -0.47227284\n",
       " -0.47227284 -0.47227284 -0.47227284 -0.47227284 -0.47227284 -0.47227284\n",
       " -0.47227284 -0.47227284 -0.47227284 -0.47227284 -0.47227284 -0.47227284\n",
       " -0.47227284 -0.47227284 -0.47227284 -0.47227284 -0.47227284 -0.47227284\n",
       " -0.47227284 -0.47227284 -0.47227284 -0.47227284 -0.47227284 -0.47227284\n",
       " -0.47227284 -0.47227284 -0.47227284 -0.47227284 -0.47227284 -0.47227284])"
      ]
     },
     "execution_count": 293,
     "metadata": {},
     "output_type": "execute_result"
    }
   ],
   "source": [
    "yhat_sample[0]"
   ]
  },
  {
   "cell_type": "code",
   "execution_count": null,
   "metadata": {
    "collapsed": true
   },
   "outputs": [],
   "source": []
  }
 ],
 "metadata": {
  "kernelspec": {
   "display_name": "Python 2",
   "language": "python",
   "name": "python2"
  },
  "language_info": {
   "codemirror_mode": {
    "name": "ipython",
    "version": 2
   },
   "file_extension": ".py",
   "mimetype": "text/x-python",
   "name": "python",
   "nbconvert_exporter": "python",
   "pygments_lexer": "ipython2",
   "version": "2.7.13"
  }
 },
 "nbformat": 4,
 "nbformat_minor": 1
}
