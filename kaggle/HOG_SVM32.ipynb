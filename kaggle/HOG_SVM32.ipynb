{
 "cells": [
  {
   "cell_type": "code",
   "execution_count": 1,
   "metadata": {
    "collapsed": true
   },
   "outputs": [],
   "source": [
    "%matplotlib inline"
   ]
  },
  {
   "cell_type": "code",
   "execution_count": 2,
   "metadata": {},
   "outputs": [
    {
     "name": "stderr",
     "output_type": "stream",
     "text": [
      "WARNING (theano.sandbox.cuda): The cuda backend is deprecated and will be removed in the next release (v0.10).  Please switch to the gpuarray backend. You can get more information about how to switch at this URL:\n",
      " https://github.com/Theano/Theano/wiki/Converting-to-the-new-gpu-back-end%28gpuarray%29\n",
      "\n",
      "Using gpu device 0: GeForce GTX 980 Ti (CNMeM is enabled with initial size: 80.0% of memory, cuDNN 5105)\n"
     ]
    }
   ],
   "source": [
    "import theano"
   ]
  },
  {
   "cell_type": "code",
   "execution_count": 3,
   "metadata": {
    "collapsed": true
   },
   "outputs": [],
   "source": [
    "from theano import function, config, sandbox, shared \n",
    "import theano.tensor as T"
   ]
  },
  {
   "cell_type": "code",
   "execution_count": 4,
   "metadata": {},
   "outputs": [
    {
     "name": "stdout",
     "output_type": "stream",
     "text": [
      "gpu\n",
      "0.8\n",
      "True\n"
     ]
    }
   ],
   "source": [
    "print( theano.config.device )\n",
    "print( theano.config.lib.cnmem)  # cf. http://deeplearning.net/software/theano/library/config.html\n",
    "print( theano.config.print_active_device)# Print active device at when the GPU device is initialized."
   ]
  },
  {
   "cell_type": "code",
   "execution_count": 5,
   "metadata": {},
   "outputs": [
    {
     "name": "stdout",
     "output_type": "stream",
     "text": [
      "False\n",
      "\n"
     ]
    }
   ],
   "source": [
    "print(theano.config.allow_gc)\n",
    "print(theano.config.optimizer_excluding)"
   ]
  },
  {
   "cell_type": "code",
   "execution_count": 6,
   "metadata": {
    "collapsed": true
   },
   "outputs": [],
   "source": [
    "import sys\n",
    "sys.path.append( '../ML' )"
   ]
  },
  {
   "cell_type": "code",
   "execution_count": 7,
   "metadata": {
    "collapsed": true
   },
   "outputs": [],
   "source": [
    "from SVM import SVM, SVM_serial, SVM_parallel"
   ]
  },
  {
   "cell_type": "code",
   "execution_count": 8,
   "metadata": {
    "collapsed": true
   },
   "outputs": [],
   "source": [
    "import numpy as np\n",
    "import pandas as pd"
   ]
  },
  {
   "cell_type": "code",
   "execution_count": 9,
   "metadata": {},
   "outputs": [
    {
     "data": {
      "text/plain": [
       "['2017datascibowl',\n",
       " 'HOG_SVM32.ipynb',\n",
       " 'HOG_process_322.ipynb',\n",
       " 'data_password.txt',\n",
       " 'LSTM_model201702271930.save',\n",
       " 'cleaning_dueSigmaFin.pyc',\n",
       " 'LSTM_model201702280608.save',\n",
       " 'DatSciBow2017_DNN.ipynb',\n",
       " '.ipynb_checkpoints',\n",
       " 'dueSigmaFinancial_kaggle.py',\n",
       " 'HOG_process.ipynb',\n",
       " 'LSTM_model.save',\n",
       " 'LSTM_model201703012346.save',\n",
       " 'DatSciBow2017_FullPreprocessTutorial.ipynb',\n",
       " 'LSTM_model201702282350.save',\n",
       " 'HOG_process_32.ipynb',\n",
       " 'GRU_model201703022010.save',\n",
       " 'DueSigmaFin_runs.ipynb',\n",
       " 'ImagePreprocessing.ipynb',\n",
       " 'dueSigmaFinancial_local.ipynb',\n",
       " 'GRU_model201703012348.save',\n",
       " 'GRU_model201703050709.save',\n",
       " 'GRU_model201703021741.save',\n",
       " 'kaggle.ipynb',\n",
       " 'glass.csv',\n",
       " 'DatSciBow2017_SVM.ipynb',\n",
       " '__init__.py',\n",
       " 'train.h5',\n",
       " 'HOG_process2.ipynb',\n",
       " 'dueSigmaFinancial_local_GRUs.ipynb',\n",
       " 'cleaning_dueSigmaFin.py']"
      ]
     },
     "execution_count": 9,
     "metadata": {},
     "output_type": "execute_result"
    }
   ],
   "source": [
    "import os\n",
    "os.getcwd()\n",
    "os.listdir( os.getcwd() ) "
   ]
  },
  {
   "cell_type": "code",
   "execution_count": 10,
   "metadata": {},
   "outputs": [
    {
     "name": "stdout",
     "output_type": "stream",
     "text": [
      "1595\n"
     ]
    }
   ],
   "source": [
    "patients_stage1_HOG32 = os.listdir('./2017datascibowl/stage1_HOG32')\n",
    "print(len(patients_stage1_HOG32))"
   ]
  },
  {
   "cell_type": "code",
   "execution_count": 11,
   "metadata": {
    "collapsed": true
   },
   "outputs": [],
   "source": [
    "patients_stage1_HOG32 = [patientname.replace(\"feat_vec\",\"\") for patientname in patients_stage1_HOG32]"
   ]
  },
  {
   "cell_type": "markdown",
   "metadata": {},
   "source": [
    "# Training, (Cross-)Validation, Test Set randomization and processing "
   ]
  },
  {
   "cell_type": "code",
   "execution_count": 12,
   "metadata": {
    "collapsed": true
   },
   "outputs": [],
   "source": [
    "def load_feat_vec(patientid,sub_name=\"stage1_feat\"):\n",
    "    f=file(\"./2017datascibowl/\"+sub_name+\"/\"+patientid+\"feat_vec\",\"rb\")\n",
    "    arr = np.load(f)\n",
    "    f.close()\n",
    "    return arr "
   ]
  },
  {
   "cell_type": "code",
   "execution_count": 13,
   "metadata": {
    "collapsed": true
   },
   "outputs": [],
   "source": [
    "def prepare_inputX(sub_name=\"stage1_feat_lowres64\", ratio_of_train_to_total = 0.4,\n",
    "                                                    ratio_valid_to_rest = 0.2):\n",
    "    patients_stage1_feat = os.listdir('./2017datascibowl/'+sub_name)\n",
    "\n",
    "    patients_stage1_feat = [id.replace(\"feat_vec\",\"\") for id in patients_stage1_feat]  # remove the suffix \"feat_vec\"\n",
    "    \n",
    "    # get y labels\n",
    "    y_ids = pd.read_csv('./2017datascibowl/stage1_labels.csv')\n",
    "    \n",
    "    y_ids_found=y_ids.loc[y_ids['id'].isin(patients_stage1_feat)]\n",
    "    \n",
    "    m = len(patients_stage1_feat)\n",
    "    found_indices =[]\n",
    "    for i in range(m):\n",
    "        if patients_stage1_feat[i] in y_ids_found['id'].as_matrix():\n",
    "            found_indices.append(i)\n",
    "\n",
    "    patients_stage1_feat_found = [patients_stage1_feat[i] for i in found_indices]\n",
    "    \n",
    "    y_found=[]\n",
    "    for i in range(len(patients_stage1_feat_found)):\n",
    "        if (patients_stage1_feat_found[i] in y_ids_found['id'].as_matrix()):\n",
    "            cancer_val = y_ids_found.loc[y_ids_found['id']==patients_stage1_feat_found[i]]['cancer'].as_matrix()\n",
    "            y_found.append( cancer_val )\n",
    "    y_found=np.array(y_found).flatten()\n",
    "    \n",
    "    assert (len(y_found)==len(patients_stage1_feat_found))\n",
    "\n",
    "\n",
    "    numberofexamples = len(patients_stage1_feat_found)\n",
    "    numberoftrainingexamples = int(numberofexamples*ratio_of_train_to_total)\n",
    "    numbertovalidate = int((numberofexamples - numberoftrainingexamples)*ratio_valid_to_rest)\n",
    "    numbertotest= numberofexamples - numberoftrainingexamples - numbertovalidate\n",
    "    \n",
    "    shuffledindices = np.random.permutation( numberofexamples)\n",
    "    \n",
    "    patients_train = [patients_stage1_feat_found[id] for id in shuffledindices[:numberoftrainingexamples]]\n",
    "    patients_valid = [patients_stage1_feat_found[id] for id in shuffledindices[numberoftrainingexamples:numberoftrainingexamples+numbertovalidate]]\n",
    "    patients_test  = [patients_stage1_feat_found[id] for id in shuffledindices[numberoftrainingexamples+numbertovalidate:]]\n",
    "\n",
    "    y_train = y_found[shuffledindices[:numberoftrainingexamples]]\n",
    "    y_valid = y_found[shuffledindices[numberoftrainingexamples:numberoftrainingexamples+numbertovalidate]]\n",
    "    y_test  = y_found[shuffledindices[numberoftrainingexamples+numbertovalidate:]]\n",
    "    \n",
    "    patients_train_vecs = [load_feat_vec(id,sub_name) for id in patients_train]\n",
    "    patients_train_vecs = np.array(patients_train_vecs)\n",
    "    \n",
    "    patients_valid_vecs = [load_feat_vec(id,sub_name) for id in patients_valid]\n",
    "    patients_valid_vecs = np.array(patients_valid_vecs)\n",
    "    \n",
    "    patients_test_vecs = [load_feat_vec(id,sub_name) for id in patients_test]\n",
    "    patients_test_vecs = np.array(patients_test_vecs)\n",
    "\n",
    "    patient_ids = {\"train\":patients_train,\"valid\":patients_valid,\"test\":patients_test}\n",
    "    ys = {\"train\":y_train,\"valid\":y_valid,\"test\":y_test}\n",
    "    Xs = {\"train\":patients_train_vecs,\"valid\":patients_valid_vecs,\"test\":patients_test_vecs}\n",
    "    \n",
    "    return patient_ids, ys, Xs    "
   ]
  },
  {
   "cell_type": "code",
   "execution_count": 14,
   "metadata": {
    "collapsed": true
   },
   "outputs": [],
   "source": [
    "patient_ids32, ys32,Xs32=prepare_inputX(\"stage1_HOG32\",0.275,0.2)"
   ]
  },
  {
   "cell_type": "code",
   "execution_count": 15,
   "metadata": {
    "collapsed": true
   },
   "outputs": [],
   "source": [
    "y_train_rep2 = np.copy(ys32[\"train\"])  # 2nd representation\n",
    "y_train_rep2[y_train_rep2<=0]=-1\n",
    "\n",
    "y_valid_rep2 = np.copy(ys32[\"valid\"])  # 2nd representation\n",
    "y_valid_rep2[y_valid_rep2<=0]=-1\n",
    "\n",
    "y_test_rep2 = np.copy(ys32[\"test\"])  # 2nd representation\n",
    "y_test_rep2[y_test_rep2<=0]=-1"
   ]
  },
  {
   "cell_type": "code",
   "execution_count": 16,
   "metadata": {
    "collapsed": true
   },
   "outputs": [],
   "source": [
    "C_trial=[0.1,1.0,10.,100.]\n",
    "sigma_trial=[0.1,1.0,10.]"
   ]
  },
  {
   "cell_type": "code",
   "execution_count": 17,
   "metadata": {},
   "outputs": [
    {
     "data": {
      "text/plain": [
       "100.0"
      ]
     },
     "execution_count": 17,
     "metadata": {},
     "output_type": "execute_result"
    }
   ],
   "source": [
    "C_trial[3]"
   ]
  },
  {
   "cell_type": "code",
   "execution_count": 18,
   "metadata": {
    "collapsed": true
   },
   "outputs": [],
   "source": [
    "SVM_stage1 = SVM_parallel(Xs32[\"train\"],y_train_rep2,len(y_train_rep2),\n",
    "                          C_trial[3],sigma_trial[1],0.005 )  # C=100.,sigma=1.0, alpha=0.001\n",
    "\n",
    "SVM_stage1.build_W();\n",
    "SVM_stage1.build_update();"
   ]
  },
  {
   "cell_type": "code",
   "execution_count": 35,
   "metadata": {},
   "outputs": [
    {
     "name": "stdout",
     "output_type": "stream",
     "text": [
      "CPU times: user 3min 50s, sys: 7min 19s, total: 11min 9s\n",
      "Wall time: 11min 9s\n"
     ]
    },
    {
     "data": {
      "text/plain": [
       "array([-125.46400452, -105.90122986, -104.37313843])"
      ]
     },
     "execution_count": 35,
     "metadata": {},
     "output_type": "execute_result"
    }
   ],
   "source": [
    "%time SVM_stage1.train_model_full(3) # iterations=3,CPU times: user 3min 50s, sys: 7min 19s, total: 11min 9s"
   ]
  },
  {
   "cell_type": "code",
   "execution_count": 36,
   "metadata": {},
   "outputs": [
    {
     "name": "stdout",
     "output_type": "stream",
     "text": [
      "CPU times: user 2h 10min 7s, sys: 4h 2min, total: 6h 12min 8s\n",
      "Wall time: 6h 11min 58s\n"
     ]
    },
    {
     "data": {
      "text/plain": [
       "array([-104.77923584, -105.69400024, -106.59057617, -107.46916199,\n",
       "       -108.33040619, -109.17446899, -110.00161743, -110.81251526,\n",
       "       -111.60710144, -112.38591003, -113.14927673, -113.89740753,\n",
       "       -114.63069153, -115.34938049, -116.05379486, -116.74415588,\n",
       "       -117.42070007, -118.08388519, -118.73379517, -119.37085724,\n",
       "       -119.99517059, -120.60704803, -121.20681763, -121.79460144,\n",
       "       -122.3706665 , -122.93541718, -123.48885345, -124.03118896,\n",
       "       -124.56280518, -125.0838089 , -125.59445953, -126.09502411,\n",
       "       -126.58554077, -127.06625366, -127.53747559, -127.99925232,\n",
       "       -128.45196533, -128.89555359, -129.3303833 , -129.75650024,\n",
       "       -130.17419434, -130.58351135, -130.98468018, -131.37805176,\n",
       "       -131.76333618, -132.14105225, -132.51130676, -132.87409973,\n",
       "       -133.22972107, -133.57829285, -133.92001343, -134.25466919,\n",
       "       -134.58291626, -134.90447998, -135.21975708, -135.52871704,\n",
       "       -135.8314209 , -136.12820435, -136.41918945, -136.70426941,\n",
       "       -136.98361206, -137.25753784, -137.52590942, -137.78881836,\n",
       "       -138.04675293, -138.29940796, -138.54702759, -138.78985596,\n",
       "       -139.02780151, -139.26086426, -139.48944092, -139.71348572,\n",
       "       -139.93292236, -140.14805603, -140.35900879, -140.56561279,\n",
       "       -140.76821899, -140.96679688, -141.16139221, -141.3520813 ,\n",
       "       -141.53897095, -141.7220459 , -141.9016571 , -142.07775879,\n",
       "       -142.25018311, -142.41915894, -142.58491516, -142.74729919,\n",
       "       -142.90647888, -143.06234741, -143.21533203, -143.3651123 ,\n",
       "       -143.51199341, -143.65596008, -143.79693604, -143.93530273,\n",
       "       -144.07070923, -144.20352173, -144.33361816, -144.46125793])"
      ]
     },
     "execution_count": 36,
     "metadata": {},
     "output_type": "execute_result"
    }
   ],
   "source": [
    "%time SVM_stage1.train_model_full(100)"
   ]
  },
  {
   "cell_type": "code",
   "execution_count": 37,
   "metadata": {},
   "outputs": [
    {
     "data": {
      "text/plain": [
       "(Elemwise{mul,no_inplace}.0, OrderedUpdates())"
      ]
     },
     "execution_count": 37,
     "metadata": {},
     "output_type": "execute_result"
    }
   ],
   "source": [
    "SVM_stage1.build_b()"
   ]
  },
  {
   "cell_type": "code",
   "execution_count": 39,
   "metadata": {},
   "outputs": [],
   "source": [
    "yhat32_valid = SVM_stage1.make_predictions_parallel( Xs32[\"valid\"] )"
   ]
  },
  {
   "cell_type": "code",
   "execution_count": 40,
   "metadata": {},
   "outputs": [
    {
     "name": "stdout",
     "output_type": "stream",
     "text": [
      "0.732673267327\n"
     ]
    }
   ],
   "source": [
    "accuracy_score_temp=(np.sign(yhat32_valid[0]) == y_valid_rep2).sum()/float(len(y_valid_rep2))\n",
    "print(accuracy_score_temp)"
   ]
  },
  {
   "cell_type": "code",
   "execution_count": 42,
   "metadata": {},
   "outputs": [
    {
     "data": {
      "text/plain": [
       "array([-1, -1, -1,  1, -1, -1, -1, -1, -1, -1, -1, -1,  1, -1, -1, -1,  1,\n",
       "        1, -1, -1, -1, -1, -1, -1, -1, -1, -1, -1,  1, -1,  1,  1, -1, -1,\n",
       "       -1, -1, -1,  1,  1, -1,  1, -1, -1, -1, -1,  1, -1,  1,  1, -1, -1,\n",
       "       -1,  1,  1, -1, -1, -1, -1, -1, -1, -1, -1,  1, -1,  1, -1, -1, -1,\n",
       "       -1, -1,  1, -1,  1,  1,  1, -1, -1,  1,  1, -1, -1, -1, -1,  1, -1,\n",
       "       -1, -1,  1, -1, -1, -1, -1, -1, -1, -1, -1, -1, -1, -1, -1, -1, -1,\n",
       "       -1, -1, -1, -1, -1, -1,  1, -1,  1, -1, -1, -1, -1, -1, -1, -1, -1,\n",
       "       -1, -1, -1, -1,  1,  1,  1,  1, -1,  1, -1, -1, -1, -1, -1, -1, -1,\n",
       "       -1, -1, -1, -1, -1, -1,  1, -1, -1, -1,  1, -1, -1, -1,  1, -1, -1,\n",
       "       -1, -1, -1, -1,  1, -1, -1,  1,  1,  1, -1, -1,  1, -1,  1, -1, -1,\n",
       "       -1,  1, -1, -1, -1,  1,  1,  1, -1,  1,  1,  1,  1, -1, -1, -1, -1,\n",
       "       -1,  1,  1, -1, -1, -1, -1, -1, -1, -1, -1,  1,  1, -1,  1])"
      ]
     },
     "execution_count": 42,
     "metadata": {},
     "output_type": "execute_result"
    }
   ],
   "source": [
    "y_valid_rep2"
   ]
  },
  {
   "cell_type": "markdown",
   "metadata": {},
   "source": [
    "# Predictions"
   ]
  },
  {
   "cell_type": "markdown",
   "metadata": {},
   "source": [
    "## Predictions on valid set"
   ]
  },
  {
   "cell_type": "markdown",
   "metadata": {},
   "source": [
    "## To go out to competition, over sample only "
   ]
  },
  {
   "cell_type": "code",
   "execution_count": 32,
   "metadata": {
    "collapsed": true
   },
   "outputs": [],
   "source": [
    "stage1_sample_submission_csv = pd.read_csv(\"./2017datascibowl/stage1_sample_submission.csv\")"
   ]
  },
  {
   "cell_type": "code",
   "execution_count": 33,
   "metadata": {},
   "outputs": [],
   "source": [
    "sub_name=\"stage1_HOG32\"\n",
    "patients_sample_vecs = np.array( [load_feat_vec(id,sub_name) for id in stage1_sample_submission_csv['id'].as_matrix()] )"
   ]
  },
  {
   "cell_type": "code",
   "execution_count": 34,
   "metadata": {},
   "outputs": [
    {
     "name": "stdout",
     "output_type": "stream",
     "text": [
      "198\n"
     ]
    }
   ],
   "source": [
    "print(len(patients_sample_vecs))"
   ]
  },
  {
   "cell_type": "code",
   "execution_count": 51,
   "metadata": {},
   "outputs": [
    {
     "ename": "RuntimeError",
     "evalue": "Cuda error: kernel_reduce_ccontig_node_544270fe7a21a748315f83abfe0913cc_0: out of memory. (grid: 1 x 1; block: 256 x 1 x 1)\n\nApply node that caused the error: GpuCAReduce{add}{1}(<CudaNdarrayType(float32, vector)>)\nToposort index: 3\nInputs types: [CudaNdarrayType(float32, vector)]\nInputs shapes: [(384,)]\nInputs strides: [(1,)]\nInputs values: ['not shown']\nOutputs clients: [[GpuElemwise{Composite{(i0 * (i1 - i2))}}[(0, 1)](CudaNdarrayConstant{0.00260416674428}, GpuCAReduce{add}{1}.0, GpuSubtensor{int64}.0)]]\n\nHINT: Re-running with most Theano optimization disabled could give you a back-trace of when this node was created. This can be done with by setting the Theano flag 'optimizer=fast_compile'. If that does not work, Theano optimizations can be disabled with 'optimizer=None'.\nHINT: Use the Theano flag 'exception_verbosity=high' for a debugprint and storage map footprint of this apply node.",
     "output_type": "error",
     "traceback": [
      "\u001b[1;31m---------------------------------------------------------------------------\u001b[0m",
      "\u001b[1;31mRuntimeError\u001b[0m                              Traceback (most recent call last)",
      "\u001b[1;32m<ipython-input-51-2e04cd2f12c4>\u001b[0m in \u001b[0;36m<module>\u001b[1;34m()\u001b[0m\n\u001b[1;32m----> 1\u001b[1;33m \u001b[0mget_ipython\u001b[0m\u001b[1;33m(\u001b[0m\u001b[1;33m)\u001b[0m\u001b[1;33m.\u001b[0m\u001b[0mmagic\u001b[0m\u001b[1;33m(\u001b[0m\u001b[1;34mu'time yhat_sample = SVM_stage1.make_predictions_parallel( patients_sample_vecs[:2] )'\u001b[0m\u001b[1;33m)\u001b[0m\u001b[1;33m\u001b[0m\u001b[0m\n\u001b[0m",
      "\u001b[1;32m/home/topolo/Public/anaconda2/lib/python2.7/site-packages/IPython/core/interactiveshell.pyc\u001b[0m in \u001b[0;36mmagic\u001b[1;34m(self, arg_s)\u001b[0m\n\u001b[0;32m   2161\u001b[0m         \u001b[0mmagic_name\u001b[0m\u001b[1;33m,\u001b[0m \u001b[0m_\u001b[0m\u001b[1;33m,\u001b[0m \u001b[0mmagic_arg_s\u001b[0m \u001b[1;33m=\u001b[0m \u001b[0marg_s\u001b[0m\u001b[1;33m.\u001b[0m\u001b[0mpartition\u001b[0m\u001b[1;33m(\u001b[0m\u001b[1;34m' '\u001b[0m\u001b[1;33m)\u001b[0m\u001b[1;33m\u001b[0m\u001b[0m\n\u001b[0;32m   2162\u001b[0m         \u001b[0mmagic_name\u001b[0m \u001b[1;33m=\u001b[0m \u001b[0mmagic_name\u001b[0m\u001b[1;33m.\u001b[0m\u001b[0mlstrip\u001b[0m\u001b[1;33m(\u001b[0m\u001b[0mprefilter\u001b[0m\u001b[1;33m.\u001b[0m\u001b[0mESC_MAGIC\u001b[0m\u001b[1;33m)\u001b[0m\u001b[1;33m\u001b[0m\u001b[0m\n\u001b[1;32m-> 2163\u001b[1;33m         \u001b[1;32mreturn\u001b[0m \u001b[0mself\u001b[0m\u001b[1;33m.\u001b[0m\u001b[0mrun_line_magic\u001b[0m\u001b[1;33m(\u001b[0m\u001b[0mmagic_name\u001b[0m\u001b[1;33m,\u001b[0m \u001b[0mmagic_arg_s\u001b[0m\u001b[1;33m)\u001b[0m\u001b[1;33m\u001b[0m\u001b[0m\n\u001b[0m\u001b[0;32m   2164\u001b[0m \u001b[1;33m\u001b[0m\u001b[0m\n\u001b[0;32m   2165\u001b[0m     \u001b[1;31m#-------------------------------------------------------------------------\u001b[0m\u001b[1;33m\u001b[0m\u001b[1;33m\u001b[0m\u001b[0m\n",
      "\u001b[1;32m/home/topolo/Public/anaconda2/lib/python2.7/site-packages/IPython/core/interactiveshell.pyc\u001b[0m in \u001b[0;36mrun_line_magic\u001b[1;34m(self, magic_name, line)\u001b[0m\n\u001b[0;32m   2082\u001b[0m                 \u001b[0mkwargs\u001b[0m\u001b[1;33m[\u001b[0m\u001b[1;34m'local_ns'\u001b[0m\u001b[1;33m]\u001b[0m \u001b[1;33m=\u001b[0m \u001b[0msys\u001b[0m\u001b[1;33m.\u001b[0m\u001b[0m_getframe\u001b[0m\u001b[1;33m(\u001b[0m\u001b[0mstack_depth\u001b[0m\u001b[1;33m)\u001b[0m\u001b[1;33m.\u001b[0m\u001b[0mf_locals\u001b[0m\u001b[1;33m\u001b[0m\u001b[0m\n\u001b[0;32m   2083\u001b[0m             \u001b[1;32mwith\u001b[0m \u001b[0mself\u001b[0m\u001b[1;33m.\u001b[0m\u001b[0mbuiltin_trap\u001b[0m\u001b[1;33m:\u001b[0m\u001b[1;33m\u001b[0m\u001b[0m\n\u001b[1;32m-> 2084\u001b[1;33m                 \u001b[0mresult\u001b[0m \u001b[1;33m=\u001b[0m \u001b[0mfn\u001b[0m\u001b[1;33m(\u001b[0m\u001b[1;33m*\u001b[0m\u001b[0margs\u001b[0m\u001b[1;33m,\u001b[0m\u001b[1;33m**\u001b[0m\u001b[0mkwargs\u001b[0m\u001b[1;33m)\u001b[0m\u001b[1;33m\u001b[0m\u001b[0m\n\u001b[0m\u001b[0;32m   2085\u001b[0m             \u001b[1;32mreturn\u001b[0m \u001b[0mresult\u001b[0m\u001b[1;33m\u001b[0m\u001b[0m\n\u001b[0;32m   2086\u001b[0m \u001b[1;33m\u001b[0m\u001b[0m\n",
      "\u001b[1;32m<decorator-gen-60>\u001b[0m in \u001b[0;36mtime\u001b[1;34m(self, line, cell, local_ns)\u001b[0m\n",
      "\u001b[1;32m/home/topolo/Public/anaconda2/lib/python2.7/site-packages/IPython/core/magic.pyc\u001b[0m in \u001b[0;36m<lambda>\u001b[1;34m(f, *a, **k)\u001b[0m\n\u001b[0;32m    191\u001b[0m     \u001b[1;31m# but it's overkill for just that one bit of state.\u001b[0m\u001b[1;33m\u001b[0m\u001b[1;33m\u001b[0m\u001b[0m\n\u001b[0;32m    192\u001b[0m     \u001b[1;32mdef\u001b[0m \u001b[0mmagic_deco\u001b[0m\u001b[1;33m(\u001b[0m\u001b[0marg\u001b[0m\u001b[1;33m)\u001b[0m\u001b[1;33m:\u001b[0m\u001b[1;33m\u001b[0m\u001b[0m\n\u001b[1;32m--> 193\u001b[1;33m         \u001b[0mcall\u001b[0m \u001b[1;33m=\u001b[0m \u001b[1;32mlambda\u001b[0m \u001b[0mf\u001b[0m\u001b[1;33m,\u001b[0m \u001b[1;33m*\u001b[0m\u001b[0ma\u001b[0m\u001b[1;33m,\u001b[0m \u001b[1;33m**\u001b[0m\u001b[0mk\u001b[0m\u001b[1;33m:\u001b[0m \u001b[0mf\u001b[0m\u001b[1;33m(\u001b[0m\u001b[1;33m*\u001b[0m\u001b[0ma\u001b[0m\u001b[1;33m,\u001b[0m \u001b[1;33m**\u001b[0m\u001b[0mk\u001b[0m\u001b[1;33m)\u001b[0m\u001b[1;33m\u001b[0m\u001b[0m\n\u001b[0m\u001b[0;32m    194\u001b[0m \u001b[1;33m\u001b[0m\u001b[0m\n\u001b[0;32m    195\u001b[0m         \u001b[1;32mif\u001b[0m \u001b[0mcallable\u001b[0m\u001b[1;33m(\u001b[0m\u001b[0marg\u001b[0m\u001b[1;33m)\u001b[0m\u001b[1;33m:\u001b[0m\u001b[1;33m\u001b[0m\u001b[0m\n",
      "\u001b[1;32m/home/topolo/Public/anaconda2/lib/python2.7/site-packages/IPython/core/magics/execution.pyc\u001b[0m in \u001b[0;36mtime\u001b[1;34m(self, line, cell, local_ns)\u001b[0m\n\u001b[0;32m   1175\u001b[0m         \u001b[1;32melse\u001b[0m\u001b[1;33m:\u001b[0m\u001b[1;33m\u001b[0m\u001b[0m\n\u001b[0;32m   1176\u001b[0m             \u001b[0mst\u001b[0m \u001b[1;33m=\u001b[0m \u001b[0mclock2\u001b[0m\u001b[1;33m(\u001b[0m\u001b[1;33m)\u001b[0m\u001b[1;33m\u001b[0m\u001b[0m\n\u001b[1;32m-> 1177\u001b[1;33m             \u001b[1;32mexec\u001b[0m\u001b[1;33m(\u001b[0m\u001b[0mcode\u001b[0m\u001b[1;33m,\u001b[0m \u001b[0mglob\u001b[0m\u001b[1;33m,\u001b[0m \u001b[0mlocal_ns\u001b[0m\u001b[1;33m)\u001b[0m\u001b[1;33m\u001b[0m\u001b[0m\n\u001b[0m\u001b[0;32m   1178\u001b[0m             \u001b[0mend\u001b[0m \u001b[1;33m=\u001b[0m \u001b[0mclock2\u001b[0m\u001b[1;33m(\u001b[0m\u001b[1;33m)\u001b[0m\u001b[1;33m\u001b[0m\u001b[0m\n\u001b[0;32m   1179\u001b[0m             \u001b[0mout\u001b[0m \u001b[1;33m=\u001b[0m \u001b[0mNone\u001b[0m\u001b[1;33m\u001b[0m\u001b[0m\n",
      "\u001b[1;32m<timed exec>\u001b[0m in \u001b[0;36m<module>\u001b[1;34m()\u001b[0m\n",
      "\u001b[1;32m/home/topolo/PropD/MLgrabbag/ML/SVM.pyc\u001b[0m in \u001b[0;36mmake_predictions_parallel\u001b[1;34m(self, X_pred_vals)\u001b[0m\n\u001b[0;32m    708\u001b[0m \u001b[1;33m\u001b[0m\u001b[0m\n\u001b[0;32m    709\u001b[0m                 \u001b[0mpredictions_function\u001b[0m \u001b[1;33m=\u001b[0m \u001b[0mtheano\u001b[0m\u001b[1;33m.\u001b[0m\u001b[0mfunction\u001b[0m\u001b[1;33m(\u001b[0m\u001b[0minputs\u001b[0m\u001b[1;33m=\u001b[0m\u001b[1;33m[\u001b[0m\u001b[1;33m]\u001b[0m\u001b[1;33m,\u001b[0m\u001b[0moutputs\u001b[0m\u001b[1;33m=\u001b[0m\u001b[0moutput\u001b[0m\u001b[1;33m)\u001b[0m\u001b[1;33m\u001b[0m\u001b[0m\n\u001b[1;32m--> 710\u001b[1;33m                 \u001b[0mpredictions_vals\u001b[0m \u001b[1;33m=\u001b[0m \u001b[0mpredictions_function\u001b[0m\u001b[1;33m(\u001b[0m\u001b[1;33m)\u001b[0m\u001b[1;33m\u001b[0m\u001b[0m\n\u001b[0m\u001b[0;32m    711\u001b[0m                 \u001b[0mself\u001b[0m\u001b[1;33m.\u001b[0m\u001b[0m_yhat\u001b[0m \u001b[1;33m=\u001b[0m \u001b[0mtheano\u001b[0m\u001b[1;33m.\u001b[0m\u001b[0mshared\u001b[0m\u001b[1;33m(\u001b[0m \u001b[0mpredictions_vals\u001b[0m \u001b[1;33m)\u001b[0m \u001b[1;31m# added this line later\u001b[0m\u001b[1;33m\u001b[0m\u001b[0m\n\u001b[0;32m    712\u001b[0m \u001b[1;33m\u001b[0m\u001b[0m\n",
      "\u001b[1;32m/home/topolo/PropD/Theano/theano/compile/function_module.pyc\u001b[0m in \u001b[0;36m__call__\u001b[1;34m(self, *args, **kwargs)\u001b[0m\n\u001b[0;32m    896\u001b[0m                     \u001b[0mnode\u001b[0m\u001b[1;33m=\u001b[0m\u001b[0mself\u001b[0m\u001b[1;33m.\u001b[0m\u001b[0mfn\u001b[0m\u001b[1;33m.\u001b[0m\u001b[0mnodes\u001b[0m\u001b[1;33m[\u001b[0m\u001b[0mself\u001b[0m\u001b[1;33m.\u001b[0m\u001b[0mfn\u001b[0m\u001b[1;33m.\u001b[0m\u001b[0mposition_of_error\u001b[0m\u001b[1;33m]\u001b[0m\u001b[1;33m,\u001b[0m\u001b[1;33m\u001b[0m\u001b[0m\n\u001b[0;32m    897\u001b[0m                     \u001b[0mthunk\u001b[0m\u001b[1;33m=\u001b[0m\u001b[0mthunk\u001b[0m\u001b[1;33m,\u001b[0m\u001b[1;33m\u001b[0m\u001b[0m\n\u001b[1;32m--> 898\u001b[1;33m                     storage_map=getattr(self.fn, 'storage_map', None))\n\u001b[0m\u001b[0;32m    899\u001b[0m             \u001b[1;32melse\u001b[0m\u001b[1;33m:\u001b[0m\u001b[1;33m\u001b[0m\u001b[0m\n\u001b[0;32m    900\u001b[0m                 \u001b[1;31m# old-style linkers raise their own exceptions\u001b[0m\u001b[1;33m\u001b[0m\u001b[1;33m\u001b[0m\u001b[0m\n",
      "\u001b[1;32m/home/topolo/PropD/Theano/theano/gof/link.pyc\u001b[0m in \u001b[0;36mraise_with_op\u001b[1;34m(node, thunk, exc_info, storage_map)\u001b[0m\n\u001b[0;32m    323\u001b[0m         \u001b[1;31m# extra long error message in that case.\u001b[0m\u001b[1;33m\u001b[0m\u001b[1;33m\u001b[0m\u001b[0m\n\u001b[0;32m    324\u001b[0m         \u001b[1;32mpass\u001b[0m\u001b[1;33m\u001b[0m\u001b[0m\n\u001b[1;32m--> 325\u001b[1;33m     \u001b[0mreraise\u001b[0m\u001b[1;33m(\u001b[0m\u001b[0mexc_type\u001b[0m\u001b[1;33m,\u001b[0m \u001b[0mexc_value\u001b[0m\u001b[1;33m,\u001b[0m \u001b[0mexc_trace\u001b[0m\u001b[1;33m)\u001b[0m\u001b[1;33m\u001b[0m\u001b[0m\n\u001b[0m\u001b[0;32m    326\u001b[0m \u001b[1;33m\u001b[0m\u001b[0m\n\u001b[0;32m    327\u001b[0m \u001b[1;33m\u001b[0m\u001b[0m\n",
      "\u001b[1;32m/home/topolo/PropD/Theano/theano/compile/function_module.pyc\u001b[0m in \u001b[0;36m__call__\u001b[1;34m(self, *args, **kwargs)\u001b[0m\n\u001b[0;32m    882\u001b[0m         \u001b[1;32mtry\u001b[0m\u001b[1;33m:\u001b[0m\u001b[1;33m\u001b[0m\u001b[0m\n\u001b[0;32m    883\u001b[0m             \u001b[0moutputs\u001b[0m \u001b[1;33m=\u001b[0m\u001b[0;31m\\\u001b[0m\u001b[1;33m\u001b[0m\u001b[0m\n\u001b[1;32m--> 884\u001b[1;33m                 \u001b[0mself\u001b[0m\u001b[1;33m.\u001b[0m\u001b[0mfn\u001b[0m\u001b[1;33m(\u001b[0m\u001b[1;33m)\u001b[0m \u001b[1;32mif\u001b[0m \u001b[0moutput_subset\u001b[0m \u001b[1;32mis\u001b[0m \u001b[0mNone\u001b[0m \u001b[1;32melse\u001b[0m\u001b[0;31m\\\u001b[0m\u001b[1;33m\u001b[0m\u001b[0m\n\u001b[0m\u001b[0;32m    885\u001b[0m                 \u001b[0mself\u001b[0m\u001b[1;33m.\u001b[0m\u001b[0mfn\u001b[0m\u001b[1;33m(\u001b[0m\u001b[0moutput_subset\u001b[0m\u001b[1;33m=\u001b[0m\u001b[0moutput_subset\u001b[0m\u001b[1;33m)\u001b[0m\u001b[1;33m\u001b[0m\u001b[0m\n\u001b[0;32m    886\u001b[0m         \u001b[1;32mexcept\u001b[0m \u001b[0mException\u001b[0m\u001b[1;33m:\u001b[0m\u001b[1;33m\u001b[0m\u001b[0m\n",
      "\u001b[1;31mRuntimeError\u001b[0m: Cuda error: kernel_reduce_ccontig_node_544270fe7a21a748315f83abfe0913cc_0: out of memory. (grid: 1 x 1; block: 256 x 1 x 1)\n\nApply node that caused the error: GpuCAReduce{add}{1}(<CudaNdarrayType(float32, vector)>)\nToposort index: 3\nInputs types: [CudaNdarrayType(float32, vector)]\nInputs shapes: [(384,)]\nInputs strides: [(1,)]\nInputs values: ['not shown']\nOutputs clients: [[GpuElemwise{Composite{(i0 * (i1 - i2))}}[(0, 1)](CudaNdarrayConstant{0.00260416674428}, GpuCAReduce{add}{1}.0, GpuSubtensor{int64}.0)]]\n\nHINT: Re-running with most Theano optimization disabled could give you a back-trace of when this node was created. This can be done with by setting the Theano flag 'optimizer=fast_compile'. If that does not work, Theano optimizations can be disabled with 'optimizer=None'.\nHINT: Use the Theano flag 'exception_verbosity=high' for a debugprint and storage map footprint of this apply node."
     ]
    }
   ],
   "source": [
    "%time yhat_sample = SVM_stage1.make_predictions_parallel( patients_sample_vecs[:2] )"
   ]
  },
  {
   "cell_type": "markdown",
   "metadata": {},
   "source": [
    "#### steps towards persisting (saving) SVM models "
   ]
  },
  {
   "cell_type": "code",
   "execution_count": 50,
   "metadata": {
    "collapsed": true
   },
   "outputs": [],
   "source": [
    "f32=open(\"./2017datascibowl/lambda_multHOG32_C100sigma1\",\"wb\")\n",
    "np.save(f32,SVM_stage1.lambda_mult.get_value())\n",
    "f32.close()"
   ]
  },
  {
   "cell_type": "code",
   "execution_count": null,
   "metadata": {
    "collapsed": true
   },
   "outputs": [],
   "source": [
    "yhat_sample_rep2 = np.copy(yhat_sample[0])  # representation 2, {-1,1}, not representation of binary classes as {0,1}\n",
    "yhat_sample_rep2 = np.sign( yhat_sample_rep2);  # representation 1, {0,1}, not representation of binary classes as {-1,1}\n",
    "yhat_sample_rep1 = np.copy(yhat_sample_rep2)\n",
    "np.place(yhat_sample_rep1,yhat_sample_rep1<0.,0.)"
   ]
  },
  {
   "cell_type": "code",
   "execution_count": 19,
   "metadata": {
    "collapsed": true
   },
   "outputs": [],
   "source": [
    "f32load=open(\"./2017datascibowl/lambda_multHOG32_C100sigma1\",\"rb\")\n",
    "testload32=np.load(f32load)\n",
    "f32load.close()"
   ]
  },
  {
   "cell_type": "code",
   "execution_count": 20,
   "metadata": {
    "collapsed": true
   },
   "outputs": [],
   "source": [
    "SVM_stage1_reloaded = SVM_parallel(Xs32[\"train\"],y_train_rep2,len(y_train_rep2),\n",
    "                          C_trial[3],sigma_trial[1],0.005 )  # C=100.,sigma=1.0, alpha=0.001"
   ]
  },
  {
   "cell_type": "code",
   "execution_count": 21,
   "metadata": {},
   "outputs": [
    {
     "data": {
      "text/plain": [
       "array([ 0.19390427,  0.64167058,  0.72906101,  0.38467768,  0.84446287,\n",
       "        0.05001149,  0.6134901 ,  0.32032672,  0.00691326,  0.59485805,\n",
       "        0.14579017,  0.53200012,  0.0235727 ,  0.8490023 ,  0.71107656,\n",
       "        0.40220758,  0.16119316,  0.06592037,  0.20122707,  0.29117793], dtype=float32)"
      ]
     },
     "execution_count": 21,
     "metadata": {},
     "output_type": "execute_result"
    }
   ],
   "source": [
    "SVM_stage1_reloaded.lambda_mult.get_value()[:20]"
   ]
  },
  {
   "cell_type": "code",
   "execution_count": 22,
   "metadata": {},
   "outputs": [
    {
     "data": {
      "text/plain": [
       "array([ 0.60887176,  0.45740411,  0.46938595,  0.44038945,  0.41185132,\n",
       "        0.46100062,  0.34098434,  0.41064668,  0.34098434,  0.47914159,\n",
       "        0.5706324 ,  0.34098434,  0.41076884,  0.48570067,  0.57883215,\n",
       "        1.30358076,  1.06718528,  1.32138276,  0.48879373,  1.31265843], dtype=float32)"
      ]
     },
     "execution_count": 22,
     "metadata": {},
     "output_type": "execute_result"
    }
   ],
   "source": [
    "testload32[:20]"
   ]
  },
  {
   "cell_type": "code",
   "execution_count": 23,
   "metadata": {
    "collapsed": true
   },
   "outputs": [],
   "source": [
    "SVM_stage1_reloaded.lambda_mult.set_value( testload32 )"
   ]
  },
  {
   "cell_type": "code",
   "execution_count": 24,
   "metadata": {},
   "outputs": [
    {
     "data": {
      "text/plain": [
       "array([ 0.60887176,  0.45740411,  0.46938595,  0.44038945,  0.41185132,\n",
       "        0.46100062,  0.34098434,  0.41064668,  0.34098434,  0.47914159,\n",
       "        0.5706324 ,  0.34098434,  0.41076884,  0.48570067,  0.57883215,\n",
       "        1.30358076,  1.06718528,  1.32138276,  0.48879373,  1.31265843], dtype=float32)"
      ]
     },
     "execution_count": 24,
     "metadata": {},
     "output_type": "execute_result"
    }
   ],
   "source": [
    "SVM_stage1_reloaded.lambda_mult.get_value()[:20]"
   ]
  },
  {
   "cell_type": "code",
   "execution_count": 25,
   "metadata": {},
   "outputs": [
    {
     "data": {
      "text/plain": [
       "(Elemwise{mul,no_inplace}.0, OrderedUpdates())"
      ]
     },
     "execution_count": 25,
     "metadata": {},
     "output_type": "execute_result"
    }
   ],
   "source": [
    "SVM_stage1_reloaded.build_b()"
   ]
  },
  {
   "cell_type": "code",
   "execution_count": 37,
   "metadata": {},
   "outputs": [
    {
     "name": "stdout",
     "output_type": "stream",
     "text": [
      "CPU times: user 35.6 s, sys: 1min 16s, total: 1min 52s\n",
      "Wall time: 1min 52s\n"
     ]
    }
   ],
   "source": [
    "%time yhat_sample = SVM_stage1_reloaded.make_predictions_parallel( patients_sample_vecs )"
   ]
  },
  {
   "cell_type": "code",
   "execution_count": 38,
   "metadata": {},
   "outputs": [
    {
     "data": {
      "text/plain": [
       "array([-1., -1., -1., -1., -1., -1., -1., -1., -1., -1., -1., -1., -1.,\n",
       "       -1., -1., -1., -1., -1., -1., -1., -1., -1., -1., -1., -1., -1.,\n",
       "       -1., -1., -1., -1., -1., -1., -1., -1., -1., -1., -1., -1., -1.,\n",
       "       -1., -1., -1., -1., -1., -1., -1., -1., -1., -1., -1., -1., -1.,\n",
       "       -1., -1., -1., -1., -1., -1., -1., -1., -1., -1., -1., -1., -1.,\n",
       "       -1., -1., -1., -1., -1., -1., -1., -1., -1., -1., -1., -1., -1.,\n",
       "       -1., -1., -1., -1., -1., -1., -1., -1., -1., -1., -1., -1., -1.,\n",
       "       -1., -1., -1., -1., -1., -1., -1., -1., -1., -1., -1., -1., -1.,\n",
       "       -1., -1., -1., -1., -1., -1., -1., -1., -1., -1., -1., -1., -1.,\n",
       "       -1., -1., -1., -1., -1., -1., -1., -1., -1., -1., -1., -1., -1.,\n",
       "       -1., -1., -1., -1., -1., -1., -1., -1., -1., -1., -1., -1., -1.,\n",
       "       -1., -1., -1., -1., -1., -1., -1., -1., -1., -1., -1., -1., -1.,\n",
       "       -1., -1., -1., -1., -1., -1., -1., -1., -1., -1., -1., -1., -1.,\n",
       "       -1., -1., -1., -1., -1., -1., -1., -1., -1., -1., -1., -1., -1.,\n",
       "       -1., -1., -1., -1., -1., -1., -1., -1., -1., -1., -1., -1., -1.,\n",
       "       -1., -1., -1.], dtype=float32)"
      ]
     },
     "execution_count": 38,
     "metadata": {},
     "output_type": "execute_result"
    }
   ],
   "source": [
    "np.sign(yhat_sample[0])"
   ]
  },
  {
   "cell_type": "code",
   "execution_count": 39,
   "metadata": {
    "collapsed": true
   },
   "outputs": [],
   "source": [
    "yhat_sample_rep2 = np.copy(yhat_sample[0])  # representation 2, {-1,1}, not representation of binary classes as {0,1}\n",
    "yhat_sample_rep2 = np.sign( yhat_sample_rep2);  # representation 1, {0,1}, not representation of binary classes as {-1,1}\n",
    "yhat_sample_rep1 = np.copy(yhat_sample_rep2)\n",
    "np.place(yhat_sample_rep1,yhat_sample_rep1<0.,0.)"
   ]
  },
  {
   "cell_type": "code",
   "execution_count": 40,
   "metadata": {
    "collapsed": true
   },
   "outputs": [],
   "source": [
    "Prattscaling_results = SVM_stage1_reloaded.make_prob_Pratt(yhat_sample_rep1)"
   ]
  },
  {
   "cell_type": "code",
   "execution_count": 41,
   "metadata": {},
   "outputs": [
    {
     "data": {
      "text/plain": [
       "(array([ 0.00981507,  0.00981507,  0.00981507,  0.00981507,  0.00981507,\n",
       "         0.00981507,  0.00981507,  0.00981507,  0.00981507,  0.00981507,\n",
       "         0.00981507,  0.00981507,  0.00981507,  0.00981507,  0.00981507,\n",
       "         0.00981507,  0.00981507,  0.00981507,  0.00981507,  0.00981507,\n",
       "         0.00981507,  0.00981507,  0.00981507,  0.00981507,  0.00981507,\n",
       "         0.00981507,  0.00981507,  0.00981507,  0.00981507,  0.00981507,\n",
       "         0.00981507,  0.00981507,  0.00981507,  0.00981507,  0.00981507,\n",
       "         0.00981507,  0.00981507,  0.00981507,  0.00981507,  0.00981507,\n",
       "         0.00981507,  0.00981507,  0.00981507,  0.00981507,  0.00981507,\n",
       "         0.00981507,  0.00981507,  0.00981507,  0.00981507,  0.00981507,\n",
       "         0.00981507,  0.00981507,  0.00981507,  0.00981507,  0.00981507,\n",
       "         0.00981507,  0.00981507,  0.00981507,  0.00981507,  0.00981507,\n",
       "         0.00981507,  0.00981507,  0.00981507,  0.00981507,  0.00981507,\n",
       "         0.00981507,  0.00981507,  0.00981507,  0.00981507,  0.00981507,\n",
       "         0.00981507,  0.00981507,  0.00981507,  0.00981507,  0.00981507,\n",
       "         0.00981507,  0.00981507,  0.00981507,  0.00981507,  0.00981507,\n",
       "         0.00981507,  0.00981507,  0.00981507,  0.00981507,  0.00981507,\n",
       "         0.00981507,  0.00981507,  0.00981507,  0.00981507,  0.00981507,\n",
       "         0.00981507,  0.00981507,  0.00981507,  0.00981507,  0.00981507,\n",
       "         0.00981507,  0.00981507,  0.00981507,  0.00981507,  0.00981507,\n",
       "         0.00981507,  0.00981507,  0.00981507,  0.00981507,  0.00981507,\n",
       "         0.00981507,  0.00981507,  0.00981507,  0.00981507,  0.00981507,\n",
       "         0.00981507,  0.00981507,  0.00981507,  0.00981507,  0.00981507,\n",
       "         0.00981507,  0.00981507,  0.00981507,  0.00981507,  0.00981507,\n",
       "         0.00981507,  0.00981507,  0.00981507,  0.00981507,  0.00981507,\n",
       "         0.00981507,  0.00981507,  0.00981507,  0.00981507,  0.00981507,\n",
       "         0.00981507,  0.00981507,  0.00981507,  0.00981507,  0.00981507,\n",
       "         0.00981507,  0.00981507,  0.00981507,  0.00981507,  0.00981507,\n",
       "         0.00981507,  0.00981507,  0.00981507,  0.00981507,  0.00981507,\n",
       "         0.00981507,  0.00981507,  0.00981507,  0.00981507,  0.00981507,\n",
       "         0.00981507,  0.00981507,  0.00981507,  0.00981507,  0.00981507,\n",
       "         0.00981507,  0.00981507,  0.00981507,  0.00981507,  0.00981507,\n",
       "         0.00981507,  0.00981507,  0.00981507,  0.00981507,  0.00981507,\n",
       "         0.00981507,  0.00981507,  0.00981507,  0.00981507,  0.00981507,\n",
       "         0.00981507,  0.00981507,  0.00981507,  0.00981507,  0.00981507,\n",
       "         0.00981507,  0.00981507,  0.00981507,  0.00981507,  0.00981507,\n",
       "         0.00981507,  0.00981507,  0.00981507,  0.00981507,  0.00981507,\n",
       "         0.00981507,  0.00981507,  0.00981507,  0.00981507,  0.00981507,\n",
       "         0.00981507,  0.00981507,  0.00981507,  0.00981507,  0.00981507,\n",
       "         0.00981507,  0.00981507,  0.00981507], dtype=float32),\n",
       " Elemwise{true_div,no_inplace}.0)"
      ]
     },
     "execution_count": 41,
     "metadata": {},
     "output_type": "execute_result"
    }
   ],
   "source": [
    "Prattscaling_results"
   ]
  },
  {
   "cell_type": "markdown",
   "metadata": {},
   "source": [
    "# Submissions 2"
   ]
  },
  {
   "cell_type": "code",
   "execution_count": 26,
   "metadata": {
    "collapsed": true
   },
   "outputs": [],
   "source": [
    "stage2_sample_submission_csv = pd.read_csv(\"./2017datascibowl/stage2_sample_submission.csv\")"
   ]
  },
  {
   "cell_type": "code",
   "execution_count": 27,
   "metadata": {
    "collapsed": true
   },
   "outputs": [],
   "source": [
    "sub_name=\"stage2_HOG32\"\n",
    "patients_sample2_vecs = np.array( [load_feat_vec(id,sub_name) for id in stage2_sample_submission_csv['id'].as_matrix()] )"
   ]
  },
  {
   "cell_type": "code",
   "execution_count": 28,
   "metadata": {},
   "outputs": [
    {
     "name": "stdout",
     "output_type": "stream",
     "text": [
      "506\n"
     ]
    }
   ],
   "source": [
    "print(len(patients_sample2_vecs))"
   ]
  },
  {
   "cell_type": "code",
   "execution_count": 30,
   "metadata": {},
   "outputs": [
    {
     "name": "stdout",
     "output_type": "stream",
     "text": [
      "CPU times: user 54.5 s, sys: 2min 12s, total: 3min 6s\n",
      "Wall time: 3min 6s\n"
     ]
    }
   ],
   "source": [
    "%time yhat_sample2 = SVM_stage1_reloaded.make_predictions_parallel( patients_sample2_vecs )"
   ]
  },
  {
   "cell_type": "code",
   "execution_count": 31,
   "metadata": {},
   "outputs": [
    {
     "data": {
      "text/plain": [
       "(506, 327688)"
      ]
     },
     "execution_count": 31,
     "metadata": {},
     "output_type": "execute_result"
    }
   ],
   "source": [
    "patients_sample2_vecs.shape"
   ]
  },
  {
   "cell_type": "code",
   "execution_count": 47,
   "metadata": {},
   "outputs": [
    {
     "data": {
      "text/plain": [
       "(384, 327688)"
      ]
     },
     "execution_count": 47,
     "metadata": {},
     "output_type": "execute_result"
    }
   ],
   "source": [
    "Xs32[\"train\"].shape"
   ]
  },
  {
   "cell_type": "code",
   "execution_count": 32,
   "metadata": {},
   "outputs": [
    {
     "data": {
      "text/plain": [
       "array([-1., -1., -1., -1., -1., -1., -1., -1., -1., -1., -1., -1., -1.,\n",
       "       -1., -1., -1., -1., -1., -1., -1., -1., -1., -1., -1., -1., -1.,\n",
       "       -1., -1., -1., -1., -1., -1., -1., -1., -1., -1., -1., -1., -1.,\n",
       "       -1., -1., -1., -1., -1., -1., -1., -1., -1., -1., -1., -1., -1.,\n",
       "       -1., -1., -1., -1., -1., -1., -1., -1., -1., -1., -1., -1., -1.,\n",
       "       -1., -1., -1., -1., -1., -1., -1., -1., -1., -1., -1., -1., -1.,\n",
       "       -1., -1., -1., -1., -1., -1., -1., -1., -1., -1., -1., -1., -1.,\n",
       "       -1., -1., -1., -1., -1., -1., -1., -1., -1., -1., -1., -1., -1.,\n",
       "       -1., -1., -1., -1., -1., -1., -1., -1., -1., -1., -1., -1., -1.,\n",
       "       -1., -1., -1., -1., -1., -1., -1., -1., -1., -1., -1., -1., -1.,\n",
       "       -1., -1., -1., -1., -1., -1., -1., -1., -1., -1., -1., -1., -1.,\n",
       "       -1., -1., -1., -1., -1., -1., -1., -1., -1., -1., -1., -1., -1.,\n",
       "       -1., -1., -1., -1., -1., -1., -1., -1., -1., -1., -1., -1., -1.,\n",
       "       -1., -1., -1., -1., -1., -1., -1., -1., -1., -1., -1., -1., -1.,\n",
       "       -1., -1., -1., -1., -1., -1., -1., -1., -1., -1., -1., -1., -1.,\n",
       "       -1., -1., -1., -1., -1., -1., -1., -1., -1., -1., -1., -1., -1.,\n",
       "       -1., -1., -1., -1., -1., -1., -1., -1., -1., -1., -1., -1., -1.,\n",
       "       -1., -1., -1., -1., -1., -1., -1., -1., -1., -1., -1., -1., -1.,\n",
       "       -1., -1., -1., -1., -1., -1., -1., -1., -1., -1., -1., -1., -1.,\n",
       "       -1., -1., -1., -1., -1., -1., -1., -1., -1., -1., -1., -1., -1.,\n",
       "       -1., -1., -1., -1., -1., -1., -1., -1., -1., -1., -1., -1., -1.,\n",
       "       -1., -1., -1., -1., -1., -1., -1., -1., -1., -1., -1., -1., -1.,\n",
       "       -1., -1., -1., -1., -1., -1., -1., -1., -1., -1., -1., -1., -1.,\n",
       "       -1., -1., -1., -1., -1., -1., -1., -1., -1., -1., -1., -1., -1.,\n",
       "       -1., -1., -1., -1., -1., -1., -1., -1., -1., -1., -1., -1., -1.,\n",
       "       -1., -1., -1., -1., -1., -1., -1., -1., -1., -1., -1., -1., -1.,\n",
       "       -1., -1., -1., -1., -1., -1., -1., -1., -1., -1., -1., -1., -1.,\n",
       "       -1., -1., -1., -1., -1., -1., -1., -1., -1., -1., -1., -1., -1.,\n",
       "       -1., -1., -1., -1., -1., -1., -1., -1., -1., -1., -1., -1., -1.,\n",
       "       -1., -1., -1., -1., -1., -1., -1., -1., -1., -1., -1., -1., -1.,\n",
       "       -1., -1., -1., -1., -1., -1., -1., -1., -1., -1., -1., -1., -1.,\n",
       "       -1., -1., -1., -1., -1., -1., -1., -1., -1., -1., -1., -1., -1.,\n",
       "       -1., -1., -1., -1., -1., -1., -1., -1., -1., -1., -1., -1., -1.,\n",
       "       -1., -1., -1., -1., -1., -1., -1., -1., -1., -1., -1., -1., -1.,\n",
       "       -1., -1., -1., -1., -1., -1., -1., -1., -1., -1., -1., -1., -1.,\n",
       "       -1., -1., -1., -1., -1., -1., -1., -1., -1., -1., -1., -1., -1.,\n",
       "       -1., -1., -1., -1., -1., -1., -1., -1., -1., -1., -1., -1., -1.,\n",
       "       -1., -1., -1., -1., -1., -1., -1., -1., -1., -1., -1., -1., -1.,\n",
       "       -1., -1., -1., -1., -1., -1., -1., -1., -1., -1., -1., -1.], dtype=float32)"
      ]
     },
     "execution_count": 32,
     "metadata": {},
     "output_type": "execute_result"
    }
   ],
   "source": [
    "np.sign(yhat_sample2[0])"
   ]
  },
  {
   "cell_type": "code",
   "execution_count": 33,
   "metadata": {
    "collapsed": true
   },
   "outputs": [],
   "source": [
    "yhat_sample2_rep2 = np.copy(yhat_sample2[0])  # representation 2, {-1,1}, not representation of binary classes as {0,1}\n",
    "yhat_sample2_rep2 = np.sign( yhat_sample2_rep2);  # representation 1, {0,1}, not representation of binary classes as {-1,1}\n",
    "yhat_sample2_rep1 = np.copy(yhat_sample2_rep2)\n",
    "np.place(yhat_sample2_rep1,yhat_sample2_rep1<0.,0.)"
   ]
  },
  {
   "cell_type": "code",
   "execution_count": 34,
   "metadata": {
    "collapsed": true
   },
   "outputs": [],
   "source": [
    "Prattscaling_results2 = SVM_stage1_reloaded.make_prob_Pratt(yhat_sample2_rep1)"
   ]
  },
  {
   "cell_type": "code",
   "execution_count": 35,
   "metadata": {},
   "outputs": [
    {
     "data": {
      "text/plain": [
       "(array([ 0.00983909,  0.00983909,  0.00983909,  0.00983909,  0.00983909,\n",
       "         0.00983909,  0.00983909,  0.00983909,  0.00983909,  0.00983909,\n",
       "         0.00983909,  0.00983909,  0.00983909,  0.00983909,  0.00983909,\n",
       "         0.00983909,  0.00983909,  0.00983909,  0.00983909,  0.00983909,\n",
       "         0.00983909,  0.00983909,  0.00983909,  0.00983909,  0.00983909,\n",
       "         0.00983909,  0.00983909,  0.00983909,  0.00983909,  0.00983909,\n",
       "         0.00983909,  0.00983909,  0.00983909,  0.00983909,  0.00983909,\n",
       "         0.00983909,  0.00983909,  0.00983909,  0.00983909,  0.00983909,\n",
       "         0.00983909,  0.00983909,  0.00983909,  0.00983909,  0.00983909,\n",
       "         0.00983909,  0.00983909,  0.00983909,  0.00983909,  0.00983909,\n",
       "         0.00983909,  0.00983909,  0.00983909,  0.00983909,  0.00983909,\n",
       "         0.00983909,  0.00983909,  0.00983909,  0.00983909,  0.00983909,\n",
       "         0.00983909,  0.00983909,  0.00983909,  0.00983909,  0.00983909,\n",
       "         0.00983909,  0.00983909,  0.00983909,  0.00983909,  0.00983909,\n",
       "         0.00983909,  0.00983909,  0.00983909,  0.00983909,  0.00983909,\n",
       "         0.00983909,  0.00983909,  0.00983909,  0.00983909,  0.00983909,\n",
       "         0.00983909,  0.00983909,  0.00983909,  0.00983909,  0.00983909,\n",
       "         0.00983909,  0.00983909,  0.00983909,  0.00983909,  0.00983909,\n",
       "         0.00983909,  0.00983909,  0.00983909,  0.00983909,  0.00983909,\n",
       "         0.00983909,  0.00983909,  0.00983909,  0.00983909,  0.00983909,\n",
       "         0.00983909,  0.00983909,  0.00983909,  0.00983909,  0.00983909,\n",
       "         0.00983909,  0.00983909,  0.00983909,  0.00983909,  0.00983909,\n",
       "         0.00983909,  0.00983909,  0.00983909,  0.00983909,  0.00983909,\n",
       "         0.00983909,  0.00983909,  0.00983909,  0.00983909,  0.00983909,\n",
       "         0.00983909,  0.00983909,  0.00983909,  0.00983909,  0.00983909,\n",
       "         0.00983909,  0.00983909,  0.00983909,  0.00983909,  0.00983909,\n",
       "         0.00983909,  0.00983909,  0.00983909,  0.00983909,  0.00983909,\n",
       "         0.00983909,  0.00983909,  0.00983909,  0.00983909,  0.00983909,\n",
       "         0.00983909,  0.00983909,  0.00983909,  0.00983909,  0.00983909,\n",
       "         0.00983909,  0.00983909,  0.00983909,  0.00983909,  0.00983909,\n",
       "         0.00983909,  0.00983909,  0.00983909,  0.00983909,  0.00983909,\n",
       "         0.00983909,  0.00983909,  0.00983909,  0.00983909,  0.00983909,\n",
       "         0.00983909,  0.00983909,  0.00983909,  0.00983909,  0.00983909,\n",
       "         0.00983909,  0.00983909,  0.00983909,  0.00983909,  0.00983909,\n",
       "         0.00983909,  0.00983909,  0.00983909,  0.00983909,  0.00983909,\n",
       "         0.00983909,  0.00983909,  0.00983909,  0.00983909,  0.00983909,\n",
       "         0.00983909,  0.00983909,  0.00983909,  0.00983909,  0.00983909,\n",
       "         0.00983909,  0.00983909,  0.00983909,  0.00983909,  0.00983909,\n",
       "         0.00983909,  0.00983909,  0.00983909,  0.00983909,  0.00983909,\n",
       "         0.00983909,  0.00983909,  0.00983909,  0.00983909,  0.00983909,\n",
       "         0.00983909,  0.00983909,  0.00983909,  0.00983909,  0.00983909,\n",
       "         0.00983909,  0.00983909,  0.00983909,  0.00983909,  0.00983909,\n",
       "         0.00983909,  0.00983909,  0.00983909,  0.00983909,  0.00983909,\n",
       "         0.00983909,  0.00983909,  0.00983909,  0.00983909,  0.00983909,\n",
       "         0.00983909,  0.00983909,  0.00983909,  0.00983909,  0.00983909,\n",
       "         0.00983909,  0.00983909,  0.00983909,  0.00983909,  0.00983909,\n",
       "         0.00983909,  0.00983909,  0.00983909,  0.00983909,  0.00983909,\n",
       "         0.00983909,  0.00983909,  0.00983909,  0.00983909,  0.00983909,\n",
       "         0.00983909,  0.00983909,  0.00983909,  0.00983909,  0.00983909,\n",
       "         0.00983909,  0.00983909,  0.00983909,  0.00983909,  0.00983909,\n",
       "         0.00983909,  0.00983909,  0.00983909,  0.00983909,  0.00983909,\n",
       "         0.00983909,  0.00983909,  0.00983909,  0.00983909,  0.00983909,\n",
       "         0.00983909,  0.00983909,  0.00983909,  0.00983909,  0.00983909,\n",
       "         0.00983909,  0.00983909,  0.00983909,  0.00983909,  0.00983909,\n",
       "         0.00983909,  0.00983909,  0.00983909,  0.00983909,  0.00983909,\n",
       "         0.00983909,  0.00983909,  0.00983909,  0.00983909,  0.00983909,\n",
       "         0.00983909,  0.00983909,  0.00983909,  0.00983909,  0.00983909,\n",
       "         0.00983909,  0.00983909,  0.00983909,  0.00983909,  0.00983909,\n",
       "         0.00983909,  0.00983909,  0.00983909,  0.00983909,  0.00983909,\n",
       "         0.00983909,  0.00983909,  0.00983909,  0.00983909,  0.00983909,\n",
       "         0.00983909,  0.00983909,  0.00983909,  0.00983909,  0.00983909,\n",
       "         0.00983909,  0.00983909,  0.00983909,  0.00983909,  0.00983909,\n",
       "         0.00983909,  0.00983909,  0.00983909,  0.00983909,  0.00983909,\n",
       "         0.00983909,  0.00983909,  0.00983909,  0.00983909,  0.00983909,\n",
       "         0.00983909,  0.00983909,  0.00983909,  0.00983909,  0.00983909,\n",
       "         0.00983909,  0.00983909,  0.00983909,  0.00983909,  0.00983909,\n",
       "         0.00983909,  0.00983909,  0.00983909,  0.00983909,  0.00983909,\n",
       "         0.00983909,  0.00983909,  0.00983909,  0.00983909,  0.00983909,\n",
       "         0.00983909,  0.00983909,  0.00983909,  0.00983909,  0.00983909,\n",
       "         0.00983909,  0.00983909,  0.00983909,  0.00983909,  0.00983909,\n",
       "         0.00983909,  0.00983909,  0.00983909,  0.00983909,  0.00983909,\n",
       "         0.00983909,  0.00983909,  0.00983909,  0.00983909,  0.00983909,\n",
       "         0.00983909,  0.00983909,  0.00983909,  0.00983909,  0.00983909,\n",
       "         0.00983909,  0.00983909,  0.00983909,  0.00983909,  0.00983909,\n",
       "         0.00983909,  0.00983909,  0.00983909,  0.00983909,  0.00983909,\n",
       "         0.00983909,  0.00983909,  0.00983909,  0.00983909,  0.00983909,\n",
       "         0.00983909,  0.00983909,  0.00983909,  0.00983909,  0.00983909,\n",
       "         0.00983909,  0.00983909,  0.00983909,  0.00983909,  0.00983909,\n",
       "         0.00983909,  0.00983909,  0.00983909,  0.00983909,  0.00983909,\n",
       "         0.00983909,  0.00983909,  0.00983909,  0.00983909,  0.00983909,\n",
       "         0.00983909,  0.00983909,  0.00983909,  0.00983909,  0.00983909,\n",
       "         0.00983909,  0.00983909,  0.00983909,  0.00983909,  0.00983909,\n",
       "         0.00983909,  0.00983909,  0.00983909,  0.00983909,  0.00983909,\n",
       "         0.00983909,  0.00983909,  0.00983909,  0.00983909,  0.00983909,\n",
       "         0.00983909,  0.00983909,  0.00983909,  0.00983909,  0.00983909,\n",
       "         0.00983909,  0.00983909,  0.00983909,  0.00983909,  0.00983909,\n",
       "         0.00983909,  0.00983909,  0.00983909,  0.00983909,  0.00983909,\n",
       "         0.00983909,  0.00983909,  0.00983909,  0.00983909,  0.00983909,\n",
       "         0.00983909,  0.00983909,  0.00983909,  0.00983909,  0.00983909,\n",
       "         0.00983909,  0.00983909,  0.00983909,  0.00983909,  0.00983909,\n",
       "         0.00983909,  0.00983909,  0.00983909,  0.00983909,  0.00983909,\n",
       "         0.00983909,  0.00983909,  0.00983909,  0.00983909,  0.00983909,\n",
       "         0.00983909,  0.00983909,  0.00983909,  0.00983909,  0.00983909,\n",
       "         0.00983909,  0.00983909,  0.00983909,  0.00983909,  0.00983909,\n",
       "         0.00983909,  0.00983909,  0.00983909,  0.00983909,  0.00983909,\n",
       "         0.00983909,  0.00983909,  0.00983909,  0.00983909,  0.00983909,\n",
       "         0.00983909,  0.00983909,  0.00983909,  0.00983909,  0.00983909,\n",
       "         0.00983909,  0.00983909,  0.00983909,  0.00983909,  0.00983909,\n",
       "         0.00983909,  0.00983909,  0.00983909,  0.00983909,  0.00983909,\n",
       "         0.00983909,  0.00983909,  0.00983909,  0.00983909,  0.00983909,\n",
       "         0.00983909,  0.00983909,  0.00983909,  0.00983909,  0.00983909,\n",
       "         0.00983909], dtype=float32), Elemwise{true_div,no_inplace}.0)"
      ]
     },
     "execution_count": 35,
     "metadata": {},
     "output_type": "execute_result"
    }
   ],
   "source": [
    "Prattscaling_results2"
   ]
  },
  {
   "cell_type": "code",
   "execution_count": 37,
   "metadata": {},
   "outputs": [],
   "source": [
    "sample2_out = pd.DataFrame(zip(stage2_sample_submission_csv['id'].as_matrix(),Prattscaling_results2[0]))\n",
    "sample2_out.columns=[\"id\",\"cancer\"]\n",
    "sample2_out.to_csv(\"./2017datascibowl/sample2submit00.csv\",index=False)"
   ]
  },
  {
   "cell_type": "code",
   "execution_count": null,
   "metadata": {
    "collapsed": true
   },
   "outputs": [],
   "source": []
  }
 ],
 "metadata": {
  "kernelspec": {
   "display_name": "Python 2",
   "language": "python",
   "name": "python2"
  },
  "language_info": {
   "codemirror_mode": {
    "name": "ipython",
    "version": 2
   },
   "file_extension": ".py",
   "mimetype": "text/x-python",
   "name": "python",
   "nbconvert_exporter": "python",
   "pygments_lexer": "ipython2",
   "version": "2.7.13"
  }
 },
 "nbformat": 4,
 "nbformat_minor": 1
}
