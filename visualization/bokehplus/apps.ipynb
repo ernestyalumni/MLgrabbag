{
 "cells": [
  {
   "cell_type": "markdown",
   "metadata": {},
   "source": [
    "# `create_hdf5.py`"
   ]
  },
  {
   "cell_type": "code",
   "execution_count": 5,
   "metadata": {},
   "outputs": [],
   "source": [
    "from app.create_hdf5 import generate_data"
   ]
  },
  {
   "cell_type": "code",
   "execution_count": 6,
   "metadata": {},
   "outputs": [],
   "source": [
    "import h5py\n",
    "import numpy as np\n",
    "import scipy.stats as ss"
   ]
  },
  {
   "cell_type": "code",
   "execution_count": 7,
   "metadata": {},
   "outputs": [],
   "source": [
    "from os.path import join"
   ]
  },
  {
   "cell_type": "code",
   "execution_count": 8,
   "metadata": {},
   "outputs": [],
   "source": [
    "distributions = {'Gaussian': {'options': dict(loc=0, scale=0.1),\n",
    "                                'name': 'norm'},\n",
    "                    'Exponential': {'options': dict(loc=-0.5, scale=1),\n",
    "                                    'name': 'expon'},\n",
    "                    'Chi Square': {'options': dict(loc=0.5, df=1),\n",
    "                                    'name': 'chi2'},\n",
    "                    'Alpha': {'options': dict(a=3, loc=-0.5),\n",
    "                              'name': 'alpha'},\n",
    "                    'Beta': {'options': dict(a=3, b=2, loc=-0.5),\n",
    "                              'name': 'beta'}\n",
    "                  }"
   ]
  },
  {
   "cell_type": "code",
   "execution_count": 11,
   "metadata": {},
   "outputs": [
    {
     "name": "stdout",
     "output_type": "stream",
     "text": [
      "<class 'dict'>\n",
      "Gaussian {'options': {'loc': 0, 'scale': 0.1}, 'name': 'norm'}\n",
      "Exponential {'options': {'loc': -0.5, 'scale': 1}, 'name': 'expon'}\n",
      "Chi Square {'options': {'loc': 0.5, 'df': 1}, 'name': 'chi2'}\n",
      "Alpha {'options': {'a': 3, 'loc': -0.5}, 'name': 'alpha'}\n",
      "Beta {'options': {'a': 3, 'b': 2, 'loc': -0.5}, 'name': 'beta'}\n"
     ]
    }
   ],
   "source": [
    "print(type(distributions))\n",
    "# Python3 uses items: \n",
    "# cf. https://stackoverflow.com/questions/10458437/what-is-the-difference-between-dict-items-and-dict-iteritems\n",
    "for key, value in distributions.items(): print(key, value)"
   ]
  },
  {
   "cell_type": "code",
   "execution_count": null,
   "metadata": {},
   "outputs": [],
   "source": [
    "# Return true if the object argument is an instance of the classinfo argument,\n",
    "# or of a (direct, indirect or virtual) subclass thereof.\n",
    "# cf. https://docs.python.org/2/library/functions.html#isinstance"
   ]
  },
  {
   "cell_type": "code",
   "execution_count": 16,
   "metadata": {},
   "outputs": [],
   "source": [
    "def print_dict(dictionary, ident = '', braces=1):\n",
    "    \"\"\" Recursively prints nested dictionaries.\n",
    "    @url http://code.activestate.com/recipes/578094-recursively-print-nested-dictionaries/\n",
    "    \"\"\"\n",
    "    for key, value in dictionary.items(): # Python 3\n",
    "        if isinstance(value, dict):\n",
    "            print('%s%s%s%s' %(ident, braces * '[', key, braces * ']')) \n",
    "            print_dict(value, ident + '  ', braces + 1)\n",
    "        else:\n",
    "            print(ident + '%s = %s' %(key, value))"
   ]
  },
  {
   "cell_type": "code",
   "execution_count": 17,
   "metadata": {},
   "outputs": [
    {
     "name": "stdout",
     "output_type": "stream",
     "text": [
      "[Gaussian]\n",
      "  [[options]]\n",
      "    loc = 0\n",
      "    scale = 0.1\n",
      "  name = norm\n",
      "[Exponential]\n",
      "  [[options]]\n",
      "    loc = -0.5\n",
      "    scale = 1\n",
      "  name = expon\n",
      "[Chi Square]\n",
      "  [[options]]\n",
      "    loc = 0.5\n",
      "    df = 1\n",
      "  name = chi2\n",
      "[Alpha]\n",
      "  [[options]]\n",
      "    a = 3\n",
      "    loc = -0.5\n",
      "  name = alpha\n",
      "[Beta]\n",
      "  [[options]]\n",
      "    a = 3\n",
      "    b = 2\n",
      "    loc = -0.5\n",
      "  name = beta\n"
     ]
    }
   ],
   "source": [
    "print_dict(distributions)"
   ]
  },
  {
   "cell_type": "code",
   "execution_count": 21,
   "metadata": {},
   "outputs": [
    {
     "name": "stdout",
     "output_type": "stream",
     "text": [
      "(1000,)\n",
      "<class 'numpy.ndarray'>\n",
      "[-1.         -0.997998   -0.995996   -0.99399399 -0.99199199 -0.98998999\n",
      " -0.98798799 -0.98598599 -0.98398398 -0.98198198]\n"
     ]
    }
   ],
   "source": [
    "x = np.linspace(-1, 1, num = 1000)\n",
    "print(x.shape)\n",
    "print(type(x))\n",
    "print(x[:10])"
   ]
  },
  {
   "cell_type": "code",
   "execution_count": 22,
   "metadata": {},
   "outputs": [
    {
     "name": "stdout",
     "output_type": "stream",
     "text": [
      "some path/demo_data.hdf5\n"
     ]
    }
   ],
   "source": [
    "print(join(\"some path\", 'demo_data.hdf5'))"
   ]
  },
  {
   "cell_type": "code",
   "execution_count": 25,
   "metadata": {},
   "outputs": [
    {
     "name": "stdout",
     "output_type": "stream",
     "text": [
      "norm\n",
      "<class 'scipy.stats._continuous_distns.norm_gen'>\n"
     ]
    }
   ],
   "source": [
    "#  getattr(object, name[, default])\n",
    "#    Return the value of the named attribute of object. name must be a string. \n",
    "# cf. https://docs.python.org/3/library/functions.html#getattr\n",
    "print(distributions[\"Gaussian\"]['name'])\n",
    "Gaussian_attribute = getattr(ss, distributions[\"Gaussian\"]['name'])\n",
    "print(type(Gaussian_attribute))"
   ]
  },
  {
   "cell_type": "code",
   "execution_count": 29,
   "metadata": {},
   "outputs": [
    {
     "name": "stdout",
     "output_type": "stream",
     "text": [
      "{'loc': 0, 'scale': 0.1}\n",
      "<class 'dict'>\n"
     ]
    }
   ],
   "source": [
    "print(distributions[\"Gaussian\"][\"options\"])\n",
    "print(type(distributions[\"Gaussian\"][\"options\"]))"
   ]
  },
  {
   "cell_type": "code",
   "execution_count": 32,
   "metadata": {},
   "outputs": [
    {
     "data": {
      "text/plain": [
       "dict_keys(['loc', 'scale'])"
      ]
     },
     "execution_count": 32,
     "metadata": {},
     "output_type": "execute_result"
    }
   ],
   "source": [
    "distributions[\"Gaussian\"][\"options\"].keys()"
   ]
  },
  {
   "cell_type": "code",
   "execution_count": 36,
   "metadata": {},
   "outputs": [
    {
     "name": "stdout",
     "output_type": "stream",
     "text": [
      "<class 'scipy.stats._distn_infrastructure.rv_frozen'>\n"
     ]
    }
   ],
   "source": [
    "# Asterisks for unpacking into function call\n",
    "\n",
    "# When calling a function, the * operator can be used to unpack an iterable into the arguments in the function call:\n",
    "\n",
    "# The ** operator does something similar, but with keyword arguments. \n",
    "# The ** operator allows us to take a dictionary of key-value pairs and unpack it into keyword arguments\n",
    "# in a function call.\n",
    "# cf. https://treyhunner.com/2018/10/asterisks-in-python-what-they-are-and-how-to-use-them/\n",
    "Gaussian_distribution = Gaussian_attribute(**distributions['Gaussian']['options'])\n",
    "print(type(Gaussian_attribute(**distributions['Gaussian']['options'])))"
   ]
  },
  {
   "cell_type": "code",
   "execution_count": 42,
   "metadata": {},
   "outputs": [
    {
     "name": "stdout",
     "output_type": "stream",
     "text": [
      "['__class__', '__delattr__', '__dict__', '__dir__', '__doc__', '__eq__', '__format__', '__ge__', '__getattribute__', '__gt__', '__hash__', '__init__', '__init_subclass__', '__le__', '__lt__', '__module__', '__ne__', '__new__', '__reduce__', '__reduce_ex__', '__repr__', '__setattr__', '__sizeof__', '__str__', '__subclasshook__', '__weakref__', 'a', 'args', 'b', 'cdf', 'dist', 'entropy', 'expect', 'interval', 'isf', 'kwds', 'logcdf', 'logpdf', 'logpmf', 'logsf', 'mean', 'median', 'moment', 'pdf', 'pmf', 'ppf', 'random_state', 'rvs', 'sf', 'stats', 'std', 'var']\n",
      "<class 'numpy.ndarray'>\n",
      "(1000,)\n"
     ]
    }
   ],
   "source": [
    "print(dir(Gaussian_distribution))\n",
    "print(type(Gaussian_distribution.pdf(x)))\n",
    "print(Gaussian_distribution.pdf(x).shape)"
   ]
  },
  {
   "cell_type": "code",
   "execution_count": 44,
   "metadata": {},
   "outputs": [],
   "source": [
    "import os"
   ]
  },
  {
   "cell_type": "code",
   "execution_count": 45,
   "metadata": {},
   "outputs": [
    {
     "data": {
      "text/plain": [
       "'some path'"
      ]
     },
     "execution_count": 45,
     "metadata": {},
     "output_type": "execute_result"
    }
   ],
   "source": [
    "# os.path.dirname(path)\n",
    "#    Return the directory name of pathname path. \n",
    "# This is the first element of the pair returned by passing path to the function split().\n",
    "os.path.dirname(join(\"some path\", 'demo_data.hdf5'))"
   ]
  },
  {
   "cell_type": "code",
   "execution_count": 46,
   "metadata": {},
   "outputs": [],
   "source": [
    "# @url https://bokeh.pydata.org/en/latest/docs/reference/io.html\n",
    "# curdoc()[source]¶\n",
    "#    Return the document for the current default state.\n",
    "#    Returns:\tthe current default document object.\n",
    "#    Return type:\tDocument\n",
    "#\n",
    "#  class Document(**kwargs)[source]¶\n",
    "#    The basic unit of serialization for Bokeh.\n",
    "#    Document instances collect Bokeh models (e.g. plots, layouts, widgets, etc.) \n",
    "# so that they may be reflected into the BokehJS client runtime. Because models may refer to other models \n",
    "# (e.g., a plot has a list of renderers), it is not generally useful or meaningful to convert individual models to JSON. \n",
    "# Accordingly, the Document is thus the smallest unit of serialization for Bokeh.\n",
    "# In computer science, in the context of data storage, serialization (or serialisation) is \n",
    "# the process of translating data structures or object state into a format that can be stored \n",
    "# (for example, in a file or memory buffer) or transmitted (for example, across a network connection link) and \n",
    "# reconstructed later (possibly in a different computer environment).\n",
    "#\n",
    "# @url https://bokeh.pydata.org/en/latest/docs/reference/document.html#bokeh.document.document.Document\n",
    "#\n",
    "#  add_root(model, setter=None)[source]¶\n",
    "#    Add a model as a root of this Document.\n",
    "#    Any changes to this model (including to other models referred to by it) will \n",
    "# trigger on_change callbacks registered on this document.\n",
    "#    Parameters:\t\n",
    "#\n",
    "#        model (Model) – The model to add as a root of this document.\n",
    "#        setter (ClientSession or ServerSession or None, optional) – \n",
    "#\n",
    "#  title¶\n",
    "#    A title for this document.\n",
    "#\n",
    "from bokeh.io import curdoc"
   ]
  },
  {
   "cell_type": "code",
   "execution_count": 48,
   "metadata": {},
   "outputs": [],
   "source": [
    "# bokeh.layouts¶\n",
    "# cf. https://bokeh.pydata.org/en/latest/docs/reference/layouts.html\n",
    "# Functions for arranging bokeh Layout objects.\n",
    "#  row(*args, **kwargs)[source]¶\n",
    "#    Create a row of Bokeh Layout objects. \n",
    "#    Forces all objects to have the same sizing_mode, which is required for complex layouts to work.\n",
    "from bokeh.layouts import row"
   ]
  },
  {
   "cell_type": "code",
   "execution_count": 49,
   "metadata": {},
   "outputs": [],
   "source": [
    "# @url https://bokeh.pydata.org/en/latest/docs/reference/models/sources.html\n",
    "#  class ColumnDataSource(*args, **kw)[source]¶\n",
    "#    Bases: bokeh.models.sources.ColumnarDataSource\n",
    "#    Maps names of columns to sequences or arrays.\n",
    "#    The ColumnDataSource is a fundamental data structure of Bokeh. \n",
    "# Most plots, data tables, etc. will be driven by a ColumnDataSource.\n",
    "#    If the ColumnDataSource initializer is called with a single argument that can be any of the following:\n",
    "#        A Python dict that maps string names to sequences of values, e.g. lists, arrays, etc.\n",
    "# A Pandas DataFrame object\n",
    "# A Pandas GroupBy object\n",
    "from bokeh.models import ColumnDataSource"
   ]
  },
  {
   "cell_type": "code",
   "execution_count": 50,
   "metadata": {},
   "outputs": [],
   "source": [
    "# class Select(**kwargs)[source]¶\n",
    "#    Bases: bokeh.models.widgets.inputs.InputWidget\n",
    "#    Single-select widget. \n",
    "# @url https://bokeh.pydata.org/en/latest/docs/reference/models/widgets.inputs.html\n",
    "from bokeh.models.widgets import Select"
   ]
  },
  {
   "cell_type": "code",
   "execution_count": 51,
   "metadata": {},
   "outputs": [],
   "source": [
    "# @url https://bokeh.pydata.org/en/latest/docs/reference/plotting.html\n",
    "#  figure(**kwargs)[source]¶\n",
    "#    Create a new Figure for plotting.\n",
    "#    A subclass of Plot that simplifies plot creation with default axes, grids, tools, etc.\n",
    "#    Figure objects have many glyph methods that can be used to draw vectorized graphical glyphs:\n",
    "from bokeh.plotting import figure"
   ]
  },
  {
   "cell_type": "code",
   "execution_count": 53,
   "metadata": {},
   "outputs": [
    {
     "ename": "NameError",
     "evalue": "name '__file__' is not defined",
     "output_type": "error",
     "traceback": [
      "\u001b[0;31m---------------------------------------------------------------------------\u001b[0m",
      "\u001b[0;31mNameError\u001b[0m                                 Traceback (most recent call last)",
      "\u001b[0;32m<ipython-input-53-4fd5c34ee0c2>\u001b[0m in \u001b[0;36m<module>\u001b[0;34m\u001b[0m\n\u001b[1;32m      2\u001b[0m \u001b[0;31m# When a module is loaded in Python, __file__ is set to its name.\u001b[0m\u001b[0;34m\u001b[0m\u001b[0;34m\u001b[0m\u001b[0m\n\u001b[1;32m      3\u001b[0m \u001b[0;31m# You can then use that with other functions to find the directory that the file is located in.\u001b[0m\u001b[0;34m\u001b[0m\u001b[0;34m\u001b[0m\u001b[0m\n\u001b[0;32m----> 4\u001b[0;31m \u001b[0m__file__\u001b[0m\u001b[0;34m\u001b[0m\u001b[0m\n\u001b[0m",
      "\u001b[0;31mNameError\u001b[0m: name '__file__' is not defined"
     ]
    }
   ],
   "source": [
    "# @url https://stackoverflow.com/questions/9271464/what-does-the-file-variable-mean-do/9271617\n",
    "# When a module is loaded in Python, __file__ is set to its name. \n",
    "# You can then use that with other functions to find the directory that the file is located in.\n",
    "__file__"
   ]
  },
  {
   "cell_type": "code",
   "execution_count": 57,
   "metadata": {},
   "outputs": [
    {
     "name": "stdout",
     "output_type": "stream",
     "text": [
      "['Gaussian', 'Exponential', 'Chi Square', 'Alpha', 'Beta']\n"
     ]
    }
   ],
   "source": [
    "options = ['Gaussian', 'Exponential', 'Chi Square', 'Alpha', 'Beta']\n",
    "print(options)"
   ]
  },
  {
   "cell_type": "code",
   "execution_count": 58,
   "metadata": {},
   "outputs": [
    {
     "name": "stdout",
     "output_type": "stream",
     "text": [
      "<class 'bokeh.models.widgets.inputs.Select'>\n"
     ]
    }
   ],
   "source": [
    "data_select = Select(title=\"Distribution:\", value=options[0], options=options)\n",
    "print(type(Select(title=\"Distribution:\", value=options[0], options=options)))"
   ]
  },
  {
   "cell_type": "markdown",
   "metadata": {},
   "source": [
    "**https://www.programcreek.com/python/example/99320/bokeh.models.widgets.Select**\n"
   ]
  },
  {
   "cell_type": "code",
   "execution_count": 60,
   "metadata": {},
   "outputs": [],
   "source": [
    "# @url https://bokeh.pydata.org/en/latest/docs/reference/models/widgets.inputs.html\n",
    "# options¶\n",
    "\n",
    "#    property type: Either ( List ( Either ( String , Tuple ( Either ( Int , String ), String ) ) ), \n",
    "# Dict ( String , List ( Either ( String , Tuple ( Either ( Int , String ), String ) ) ) ) )\n",
    "#    Available selection options. Options may be provided either as a list of possible string values, \n",
    "# or as a list of tuples, each of the form (value, label). \n",
    "# In the latter case, the visible widget text for each value will be corresponding given label. \n",
    "# Option groupings can be provided by supplying a dictionary object whose values are in the aforementioned list format\n",
    "#\n",
    "# value¶\n",
    "#    property type: String\n",
    "#\n",
    "#    Initial or selected value."
   ]
  },
  {
   "cell_type": "code",
   "execution_count": 61,
   "metadata": {},
   "outputs": [],
   "source": [
    "# @url https://bokeh.pydata.org/en/latest/docs/reference/models/sources.html\n",
    "# data¶\n",
    "#    property type: ColumnData ( String , Seq ( Any ) )\n",
    "#    Mapping of column names to sequences of data. The data can be, e.g, Python lists or tuples, NumPy arrays, etc.\n",
    "# ColumnData(keys_type, values_type, default={}, help=None)[source]¶\n",
    "#\n",
    "#    Accept a Python dictionary suitable as the data attribute of a ColumnDataSource.\n",
    "#\n",
    "#    This class is a specialization of Dict that handles efficiently encoding columns that are NumPy arrays.\n",
    "#"
   ]
  },
  {
   "cell_type": "code",
   "execution_count": null,
   "metadata": {},
   "outputs": [],
   "source": [
    "# @url https://bokeh.pydata.org/en/latest/docs/user_guide/interaction/widgets.html\n",
    "# All widgets have an .on_change method that takes an attribute name and one or more event handlers as parameters. \n",
    "# These handlers are expected to have the function signature, (attr, old, new), \n",
    "# where attr refers to the changed attribute’s name, and old and new refer to the previous and updated values of the \n",
    "# attribute. .on_change must be used when you need the previous value of an attribute."
   ]
  }
 ],
 "metadata": {
  "kernelspec": {
   "display_name": "Python 3",
   "language": "python",
   "name": "python3"
  },
  "language_info": {
   "codemirror_mode": {
    "name": "ipython",
    "version": 3
   },
   "file_extension": ".py",
   "mimetype": "text/x-python",
   "name": "python",
   "nbconvert_exporter": "python",
   "pygments_lexer": "ipython3",
   "version": "3.6.6"
  }
 },
 "nbformat": 4,
 "nbformat_minor": 2
}
