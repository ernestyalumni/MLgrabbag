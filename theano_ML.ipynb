{
 "cells": [
  {
   "cell_type": "code",
   "execution_count": 71,
   "metadata": {
    "collapsed": true
   },
   "outputs": [],
   "source": [
    "%matplotlib inline"
   ]
  },
  {
   "cell_type": "code",
   "execution_count": 1,
   "metadata": {
    "collapsed": true
   },
   "outputs": [],
   "source": [
    "import matplotlib.pyplot as plt\n",
    "import sklearn\n",
    "from sklearn import datasets"
   ]
  },
  {
   "cell_type": "code",
   "execution_count": 2,
   "metadata": {
    "collapsed": true
   },
   "outputs": [],
   "source": [
    "import pandas as pd"
   ]
  },
  {
   "cell_type": "code",
   "execution_count": 3,
   "metadata": {},
   "outputs": [],
   "source": [
    "import theano"
   ]
  },
  {
   "cell_type": "markdown",
   "metadata": {},
   "source": [
    "I accomplished the above by running this command at the command prompt:   \n",
    "\n",
    "```    \n",
    "THEANO_FLAGS='mode=FAST_RUN,device=gpu,floatX=float32' jupyter notebook   \n",
    "```\n"
   ]
  },
  {
   "cell_type": "code",
   "execution_count": 4,
   "metadata": {},
   "outputs": [],
   "source": [
    "#import theano\n",
    "from theano import function, config, sandbox, shared \n",
    "import theano.tensor as T\n",
    "import numpy as np\n",
    "import scipy\n",
    "import time"
   ]
  },
  {
   "cell_type": "markdown",
   "metadata": {},
   "source": [
    "## More `theano` setup in `jupyter` notebook boilerplate"
   ]
  },
  {
   "cell_type": "code",
   "execution_count": 6,
   "metadata": {},
   "outputs": [
    {
     "name": "stdout",
     "output_type": "stream",
     "text": [
      "gpu0\n",
      "0.7\n",
      "True\n"
     ]
    }
   ],
   "source": [
    "print( theano.config.device )\n",
    "print( theano.config.lib.cnmem)  # cf. http://deeplearning.net/software/theano/library/config.html\n",
    "print( theano.config.print_active_device)# Print active device at when the GPU device is initialized."
   ]
  },
  {
   "cell_type": "code",
   "execution_count": 7,
   "metadata": {},
   "outputs": [
    {
     "data": {
      "text/plain": [
       "['LogReg-sklearn.ipynb',\n",
       " 'Linear Algebra Shootout: NumPy vs. Theano vs. TensorFlow_files',\n",
       " 'LICENSE',\n",
       " 'theano.pdf',\n",
       " 'deeplearning.pdf',\n",
       " 'sklearn_ML.ipynb',\n",
       " 'LaTeXandpdfs',\n",
       " 'supervised-theano.ipynb',\n",
       " 'sanity_check_theano_uses_gpu.ipynb',\n",
       " '.git',\n",
       " 'README.md',\n",
       " 'Linear Algebra Shootout: NumPy vs. Theano vs. TensorFlow.html',\n",
       " '.ipynb_checkpoints',\n",
       " 'theano_ML.ipynb',\n",
       " 'deep-learning--ud730',\n",
       " 'tf_sanitycheck.ipynb',\n",
       " 'saved_models',\n",
       " 'FedoraNVidiaInstallTips',\n",
       " 'tf',\n",
       " 'kaggle',\n",
       " 'sampleinputdataX.ipynb',\n",
       " 'ML',\n",
       " 'Data',\n",
       " 'simple_logreg.py',\n",
       " 'Speeding up your Neural Network with Theano and the GPU \\xe2\\x80\\x93 WildML_files',\n",
       " 'coursera_Ng',\n",
       " 'MorseTheory.ipynb',\n",
       " 'tutorial_theano.ipynb',\n",
       " 'best_model.pkl',\n",
       " 'gpu_test.py',\n",
       " 'Speeding up your Neural Network with Theano and the GPU \\xe2\\x80\\x93 WildML.html']"
      ]
     },
     "execution_count": 7,
     "metadata": {},
     "output_type": "execute_result"
    }
   ],
   "source": [
    "import os, sys\n",
    "os.getcwd()\n",
    "os.listdir( os.getcwd() ) "
   ]
  },
  {
   "cell_type": "code",
   "execution_count": null,
   "metadata": {
    "collapsed": true
   },
   "outputs": [],
   "source": []
  },
  {
   "cell_type": "code",
   "execution_count": 8,
   "metadata": {},
   "outputs": [
    {
     "name": "stdout",
     "output_type": "stream",
     "text": [
      "[GpuElemwise{exp,no_inplace}(<CudaNdarrayType(float32, vector)>), HostFromGpu(GpuElemwise{exp,no_inplace}.0)]\n",
      "Looping 1000 times took 0.211632 seconds\n",
      "Result is [ 1.23178029  1.61879349  1.52278066 ...,  2.20771813  2.29967761\n",
      "  1.62323296]\n",
      "Used the gpu\n"
     ]
    }
   ],
   "source": [
    "%run gpu_test.py THEANO_FLAGS='mode=FAST_RUN,device=gpu,floatX=float32,lib.cnmem=0.85' # note lib.cnmem option for CnMem"
   ]
  },
  {
   "cell_type": "code",
   "execution_count": null,
   "metadata": {
    "collapsed": true
   },
   "outputs": [],
   "source": []
  },
  {
   "cell_type": "markdown",
   "metadata": {},
   "source": [
    "# sample data boilerplate"
   ]
  },
  {
   "cell_type": "code",
   "execution_count": 9,
   "metadata": {},
   "outputs": [],
   "source": [
    "# Load the diabetes dataset\n",
    "diabetes = sklearn.datasets.load_diabetes()"
   ]
  },
  {
   "cell_type": "code",
   "execution_count": 10,
   "metadata": {
    "collapsed": true
   },
   "outputs": [],
   "source": [
    "diabetes_X = diabetes.data\n",
    "diabetes_Y = diabetes.target"
   ]
  },
  {
   "cell_type": "code",
   "execution_count": 11,
   "metadata": {},
   "outputs": [],
   "source": [
    "#diabetes_X1 = diabetes_X[:,np.newaxis,2]\n",
    "diabetes_X1 = diabetes_X[:,np.newaxis, 2].astype(theano.config.floatX)\n",
    "#diabetes_Y  = diabetes_Y.reshape( diabetes_Y.shape[0], 1)\n",
    "diabetes_Y = diabetes_Y.astype(theano.config.floatX)"
   ]
  },
  {
   "cell_type": "markdown",
   "metadata": {},
   "source": [
    "# Linear regression"
   ]
  },
  {
   "cell_type": "markdown",
   "metadata": {
    "collapsed": true
   },
   "source": [
    "cf. [Linear Regression In Theano](https://roshansanthosh.wordpress.com/2015/02/22/linear-regression-in-theano/)\n",
    "\n",
    "[`1_linear_regression.py` from `github` Newmu/Theano-Tutorials](https://github.com/Newmu/Theano-Tutorials/blob/master/1_linear_regression.py)"
   ]
  },
  {
   "cell_type": "markdown",
   "metadata": {},
   "source": [
    "Train on $m$ number of input data points"
   ]
  },
  {
   "cell_type": "code",
   "execution_count": 12,
   "metadata": {},
   "outputs": [],
   "source": [
    "m_lin = diabetes_X1.shape[0]"
   ]
  },
  {
   "cell_type": "markdown",
   "metadata": {},
   "source": [
    "### input, output variables $x$, $y$ for Theano"
   ]
  },
  {
   "cell_type": "code",
   "execution_count": 28,
   "metadata": {},
   "outputs": [],
   "source": [
    "#x1 = T.vector('x1')  # X1, input data, with only 1 feature, i.e. X \\in \\mathbb{R}^N, d=1 \n",
    "#ylin = T.vector('ylin') # target variable for linear regression, so that Y \\in \\mathbb{R}\n",
    "\n",
    "x1 = T.scalar('x1')  # X1, input data, with only 1 feature, i.e. X \\in \\mathbb{R}^N, d=1 \n",
    "ylin = T.scalar('ylin') # target variable for linear regression, so that Y \\in \\mathbb{R}"
   ]
  },
  {
   "cell_type": "markdown",
   "metadata": {},
   "source": [
    "### Parameters (for a linear slope)  \n",
    "\n",
    "$$    \n",
    "(\\theta^0, \\theta^1) \\in \\mathbb{R}^2   \n",
    "$$"
   ]
  },
  {
   "cell_type": "code",
   "execution_count": 29,
   "metadata": {},
   "outputs": [],
   "source": [
    "thet0_init_val = np.random.randn()\n",
    "thet1_init_val = np.random.randn()"
   ]
  },
  {
   "cell_type": "code",
   "execution_count": 30,
   "metadata": {},
   "outputs": [],
   "source": [
    "thet0 = theano.shared( value=thet0_init_val, name='thet0', borrow=True)  # \\theta^0\n",
    "thet1 = theano.shared( thet1_init_val, name='thet1', borrow=True)   # \\theta^1\n"
   ]
  },
  {
   "cell_type": "markdown",
   "metadata": {},
   "source": [
    "### hypothesis function $h_{\\theta}$\n",
    "\n",
    "$$   \n",
    "h_{\\theta}(x) = \\theta_1 x + \\theta_0\n",
    "$$"
   ]
  },
  {
   "cell_type": "code",
   "execution_count": 31,
   "metadata": {},
   "outputs": [],
   "source": [
    "#h_thet = T.dot( thet1, x1) + thet0\n",
    "# whereas, Newmu uses\n",
    "h_thet = thet1 * x1 + thet0"
   ]
  },
  {
   "cell_type": "markdown",
   "metadata": {},
   "source": [
    "### Cost function $J(\\theta)$"
   ]
  },
  {
   "cell_type": "code",
   "execution_count": 32,
   "metadata": {},
   "outputs": [],
   "source": [
    "# roshansanthosh uses \n",
    "#Jthet = T.sum( T.pow(h_thet-ylin,2))/(2*m_lin)\n",
    "\n",
    "# whereas, Newmu uses\n",
    "# Jthet = T.mean( T.sqr( thet_1*x1 + thet_0 - ylin ))\n",
    "\n",
    "Jthet = T.mean( T.pow( h_thet-ylin,2))/2\n",
    "#Jthet = sandbox.cuda.basic_ops.gpu_from_host( T.mean( \n",
    "#        sandbox.cuda.basic_ops.gpu_from_host( T.pow( h_thet-ylin,2))))/2"
   ]
  },
  {
   "cell_type": "markdown",
   "metadata": {},
   "source": [
    "$$\n",
    "\\text{grad}_{\\theta}J(\\theta) = ( \\text{grad}_{\\theta^0} J , \\text{grad}_{\\theta^1} J )   \n",
    "$$"
   ]
  },
  {
   "cell_type": "code",
   "execution_count": 33,
   "metadata": {},
   "outputs": [],
   "source": [
    "grad_thet0 = T.grad(Jthet, thet0)\n",
    "grad_thet1 = T.grad(Jthet, thet1)\n"
   ]
  },
  {
   "cell_type": "code",
   "execution_count": 19,
   "metadata": {
    "collapsed": true
   },
   "outputs": [],
   "source": [
    "# so-called \"learning rate\"\n",
    "gamma = 0.01"
   ]
  },
  {
   "cell_type": "markdown",
   "metadata": {},
   "source": [
    "Note that \"**updates** (iterable over pairs (shared_variable, new_expression) List, tuple or dict.) – expressions for new SharedVariable values\" cf. [Theano doc](http://deeplearning.net/software/theano/library/compile/function.html)"
   ]
  },
  {
   "cell_type": "code",
   "execution_count": 34,
   "metadata": {},
   "outputs": [],
   "source": [
    "train_lin = theano.function(inputs = [x1,ylin], outputs=Jthet, \n",
    "                        updates=[[thet1,thet1-gamma*grad_thet1],[thet0,thet0-gamma*grad_thet0]])\n",
    "\n"
   ]
  },
  {
   "cell_type": "code",
   "execution_count": 35,
   "metadata": {
    "collapsed": true
   },
   "outputs": [],
   "source": [
    "test_lin = theano.function([x1],h_thet)"
   ]
  },
  {
   "cell_type": "code",
   "execution_count": 100,
   "metadata": {
    "collapsed": true
   },
   "outputs": [],
   "source": [
    "#X1_lin_in = shared( diabetes_X1 ,'float32')\n",
    "#Y_lin_out = shared( diabetes_Y, 'float32')"
   ]
  },
  {
   "cell_type": "code",
   "execution_count": 23,
   "metadata": {
    "collapsed": true
   },
   "outputs": [],
   "source": [
    "training_steps = 1000 # 10000"
   ]
  },
  {
   "cell_type": "code",
   "execution_count": 36,
   "metadata": {},
   "outputs": [],
   "source": [
    "sh_diabetes_X1 = shared( diabetes_X1 , borrow=True)\n",
    "sh_diabetes_Y  = shared( diabetes_Y, borrow=True)"
   ]
  },
  {
   "cell_type": "code",
   "execution_count": 37,
   "metadata": {},
   "outputs": [
    {
     "ename": "TypeError",
     "evalue": "('Bad input argument to theano function with name \"<ipython-input-34-92f3da11396a>:2\"  at index 0(0-based)', 'Expected an array-like object, but found a Variable: maybe you are trying to call a function on a (possibly shared) variable instead of a numeric array?')",
     "output_type": "error",
     "traceback": [
      "\u001b[1;31m---------------------------------------------------------------------------\u001b[0m",
      "\u001b[1;31mTypeError\u001b[0m                                 Traceback (most recent call last)",
      "\u001b[1;32m<ipython-input-37-b6192b29b89d>\u001b[0m in \u001b[0;36m<module>\u001b[1;34m()\u001b[0m\n\u001b[0;32m      8\u001b[0m \u001b[1;31m#    for x,y in zip( sh_diabetes_X1, sh_diabetes_Y) :\u001b[0m\u001b[1;33m\u001b[0m\u001b[1;33m\u001b[0m\u001b[0m\n\u001b[0;32m      9\u001b[0m \u001b[1;31m#        Jthet_val = train_lin( x,y)\u001b[0m\u001b[1;33m\u001b[0m\u001b[1;33m\u001b[0m\u001b[0m\n\u001b[1;32m---> 10\u001b[1;33m     \u001b[0mJthet_val\u001b[0m \u001b[1;33m=\u001b[0m \u001b[0mtrain_lin\u001b[0m\u001b[1;33m(\u001b[0m \u001b[0msh_diabetes_X1\u001b[0m\u001b[1;33m,\u001b[0m \u001b[0msh_diabetes_Y\u001b[0m\u001b[1;33m)\u001b[0m\u001b[1;33m\u001b[0m\u001b[0m\n\u001b[0m",
      "\u001b[1;32m/home/topolo/Public/anaconda2/lib/python2.7/site-packages/theano/compile/function_module.pyc\u001b[0m in \u001b[0;36m__call__\u001b[1;34m(self, *args, **kwargs)\u001b[0m\n\u001b[0;32m    784\u001b[0m                         s.storage[0] = s.type.filter(\n\u001b[0;32m    785\u001b[0m                             \u001b[0marg\u001b[0m\u001b[1;33m,\u001b[0m \u001b[0mstrict\u001b[0m\u001b[1;33m=\u001b[0m\u001b[0ms\u001b[0m\u001b[1;33m.\u001b[0m\u001b[0mstrict\u001b[0m\u001b[1;33m,\u001b[0m\u001b[1;33m\u001b[0m\u001b[0m\n\u001b[1;32m--> 786\u001b[1;33m                             allow_downcast=s.allow_downcast)\n\u001b[0m\u001b[0;32m    787\u001b[0m \u001b[1;33m\u001b[0m\u001b[0m\n\u001b[0;32m    788\u001b[0m                     \u001b[1;32mexcept\u001b[0m \u001b[0mException\u001b[0m \u001b[1;32mas\u001b[0m \u001b[0me\u001b[0m\u001b[1;33m:\u001b[0m\u001b[1;33m\u001b[0m\u001b[0m\n",
      "\u001b[1;32m/home/topolo/Public/anaconda2/lib/python2.7/site-packages/theano/tensor/type.pyc\u001b[0m in \u001b[0;36mfilter\u001b[1;34m(self, data, strict, allow_downcast)\u001b[0m\n\u001b[0;32m     84\u001b[0m         \u001b[1;32mif\u001b[0m \u001b[0misinstance\u001b[0m\u001b[1;33m(\u001b[0m\u001b[0mdata\u001b[0m\u001b[1;33m,\u001b[0m \u001b[0mVariable\u001b[0m\u001b[1;33m)\u001b[0m\u001b[1;33m:\u001b[0m\u001b[1;33m\u001b[0m\u001b[0m\n\u001b[0;32m     85\u001b[0m             raise TypeError(\n\u001b[1;32m---> 86\u001b[1;33m                 \u001b[1;34m'Expected an array-like object, but found a Variable: '\u001b[0m\u001b[1;33m\u001b[0m\u001b[0m\n\u001b[0m\u001b[0;32m     87\u001b[0m                 \u001b[1;34m'maybe you are trying to call a function on a (possibly '\u001b[0m\u001b[1;33m\u001b[0m\u001b[0m\n\u001b[0;32m     88\u001b[0m                 'shared) variable instead of a numeric array?')\n",
      "\u001b[1;31mTypeError\u001b[0m: ('Bad input argument to theano function with name \"<ipython-input-34-92f3da11396a>:2\"  at index 0(0-based)', 'Expected an array-like object, but found a Variable: maybe you are trying to call a function on a (possibly shared) variable instead of a numeric array?')"
     ]
    }
   ],
   "source": [
    "\"\"\"\n",
    "for i in range(training_steps):\n",
    "    for x,y in zip( diabetes_X1, diabetes_Y):\n",
    "        Jthet_val = train_lin( x, y )\n",
    "        \"\"\"\n",
    "\n",
    "for i in range(training_steps):\n",
    "#    for x,y in zip( sh_diabetes_X1, sh_diabetes_Y) :\n",
    "#        Jthet_val = train_lin( x,y)\n",
    "    Jthet_val = train_lin( sh_diabetes_X1, sh_diabetes_Y)"
   ]
  },
  {
   "cell_type": "code",
   "execution_count": 27,
   "metadata": {},
   "outputs": [
    {
     "ename": "NameError",
     "evalue": "name 'Jthet_val' is not defined",
     "output_type": "error",
     "traceback": [
      "\u001b[1;31m---------------------------------------------------------------------------\u001b[0m",
      "\u001b[1;31mNameError\u001b[0m                                 Traceback (most recent call last)",
      "\u001b[1;32m<ipython-input-27-49f3322b82c4>\u001b[0m in \u001b[0;36m<module>\u001b[1;34m()\u001b[0m\n\u001b[1;32m----> 1\u001b[1;33m \u001b[1;32mprint\u001b[0m\u001b[1;33m(\u001b[0m\u001b[0mJthet_val\u001b[0m\u001b[1;33m)\u001b[0m\u001b[1;33m\u001b[0m\u001b[0m\n\u001b[0m",
      "\u001b[1;31mNameError\u001b[0m: name 'Jthet_val' is not defined"
     ]
    }
   ],
   "source": [
    "print(Jthet_val)"
   ]
  },
  {
   "cell_type": "code",
   "execution_count": 129,
   "metadata": {},
   "outputs": [
    {
     "name": "stdout",
     "output_type": "stream",
     "text": [
      "151.746080721\n",
      "942.701275851\n"
     ]
    }
   ],
   "source": [
    "print( thet0.get_value() ); print( thet1.get_value() )\n",
    "\n"
   ]
  },
  {
   "cell_type": "code",
   "execution_count": 134,
   "metadata": {},
   "outputs": [],
   "source": [
    "test_lin_out = np.array( [ test_lin( x ) for x in diabetes_X1 ] ) "
   ]
  },
  {
   "cell_type": "code",
   "execution_count": 137,
   "metadata": {},
   "outputs": [
    {
     "data": {
      "text/plain": [
       "[<matplotlib.lines.Line2D at 0x7f4037fd3790>]"
      ]
     },
     "execution_count": 137,
     "metadata": {},
     "output_type": "execute_result"
    },
    {
     "data": {
      "image/png": "[encoded data removed]",
      "text/plain": [
       "<matplotlib.figure.Figure at 0x7f403e5b60d0>"
      ]
     },
     "metadata": {},
     "output_type": "display_data"
    }
   ],
   "source": [
    "plt.plot(diabetes_X1,diabetes_Y,'ro')\n",
    "plt.plot(diabetes_X1,test_lin_out)"
   ]
  },
  {
   "cell_type": "code",
   "execution_count": 38,
   "metadata": {},
   "outputs": [
    {
     "name": "stdout",
     "output_type": "stream",
     "text": [
      "[Elemwise{Composite{(((i0 * i1) + i2) - i3)}}(thet1, x1, thet0, ylin), Elemwise{Composite{(i0 - (i1 * i2))}}[(0, 0)](thet0, TensorConstant{0.00999999977648}, Elemwise{Composite{(((i0 * i1) + i2) - i3)}}.0), Elemwise{Composite{(i0 - (i1 * i2 * i3))}}[(0, 0)](thet1, TensorConstant{0.00999999977648}, Elemwise{Composite{(((i0 * i1) + i2) - i3)}}.0, x1), Elemwise{Composite{(i0 * sqr(i1))}}[(0, 1)](TensorConstant{0.5}, Elemwise{Composite{(((i0 * i1) + i2) - i3)}}.0)]\n"
     ]
    }
   ],
   "source": [
    "if any([x.op.__class__.__name__ in ['GpuGemm','GpuGemv'] for x in train_lin.maker.fgraph.toposort()]):\n",
    "    print(\"Used the gpu\")\n",
    "else:\n",
    "    print(train_lin.maker.fgraph.toposort())"
   ]
  },
  {
   "cell_type": "code",
   "execution_count": 39,
   "metadata": {},
   "outputs": [
    {
     "name": "stdout",
     "output_type": "stream",
     "text": [
      "Used the cpu\n"
     ]
    }
   ],
   "source": [
    "if np.any([isinstance(x.op,T.Elemwise) for x in train_lin.maker.fgraph.toposort()]):\n",
    "    print(\"Used the cpu\")"
   ]
  },
  {
   "cell_type": "code",
   "execution_count": null,
   "metadata": {
    "collapsed": true
   },
   "outputs": [],
   "source": []
  },
  {
   "cell_type": "markdown",
   "metadata": {},
   "source": [
    "## Linear Algebra and `theano`\n",
    "\n",
    "cf. [Week 1, Linear Algebra Review, Coursera, Machine Learning with Ng](https://www.coursera.org/learn/machine-learning/lecture/38jIT/matrices-and-vectors)\n",
    "\n",
    "I'll take this opportunity to provide a dictionary between the syntax of linear algebra math and `numpy`.   \n",
    "\n",
    "Essentially, what I did was take Coursera's [Week 1, Linear Algebra Review](https://www.coursera.org/learn/machine-learning/lecture/dpF1j/matrix-matrix-multiplication) and then translated the math into **`theano`**, and in particular, running theano on the **GPU**.\n",
    "\n",
    "Other reference that I used was \n",
    "\n",
    "https://simplyml.com/linear-algebra-shootout-numpy-vs-theano-vs-tensorflow-2/\n",
    "\n",
    "[Linear Algebra Shootout: NumPy vs. Theano vs. TensorFlow by Charanpal Dhanjal - 14/07/16 ](https://simplyml.com/linear-algebra-shootout-numpy-vs-theano-vs-tensorflow-2/)"
   ]
  },
  {
   "cell_type": "markdown",
   "metadata": {},
   "source": [
    "#### Matrix addition\n",
    "\n",
    "cf. [Coursera, Intro. to Machine Learning, Linear Algebra Review, Addition and Scalar Multiplication](https://www.coursera.org/learn/machine-learning/lecture/R4hiJ/addition-and-scalar-multiplication)"
   ]
  },
  {
   "cell_type": "code",
   "execution_count": 69,
   "metadata": {
    "collapsed": true
   },
   "outputs": [],
   "source": [
    "A = T.matrix('A')\n",
    "B = T.matrix('B')\n",
    "#matadd = function([A,B], A+B)\n",
    "#matadd = function([A,B],sandbox.cuda.basic_ops.gpu_from_host(A+B) )\n",
    "# Note: we are just defining the expressions, nothing is evaluated here!  \n",
    "C = sandbox.cuda.basic_ops.gpu_from_host(A+B)\n",
    "matadd = function([A,B], C)"
   ]
  },
  {
   "cell_type": "code",
   "execution_count": 121,
   "metadata": {
    "collapsed": true
   },
   "outputs": [],
   "source": [
    "#A = T.dmatrix('A')\n",
    "#B = T.dmatrix('B')\n",
    "\n",
    "A = T.matrix('A')\n",
    "B = T.matrix('B')\n",
    "\n",
    "C_out = A + B\n",
    "matadd_CPU = function([A,B], C_out)"
   ]
  },
  {
   "cell_type": "code",
   "execution_count": 73,
   "metadata": {
    "collapsed": true
   },
   "outputs": [],
   "source": [
    "A_eg = shared( np.array([[8,6,9],[10,1,10]]), 'float32')\n",
    "B_eg = shared( np.array([[3,10,2],[6,1,-1]]), 'float32')\n"
   ]
  },
  {
   "cell_type": "code",
   "execution_count": 85,
   "metadata": {},
   "outputs": [],
   "source": [
    "A_eg_CPU = np.array([[8,6,9],[10,1,10]])\n",
    "B_eg_CPU = np.array([[3,10,2],[6,1,-1]])"
   ]
  },
  {
   "cell_type": "code",
   "execution_count": 96,
   "metadata": {},
   "outputs": [
    {
     "name": "stdout",
     "output_type": "stream",
     "text": [
      "[[ 8  6  9]\n",
      " [10  1 10]]\n",
      "<type 'numpy.ndarray'>\n",
      "(2, 3)\n",
      "(2, 3)\n"
     ]
    }
   ],
   "source": [
    "print(A_eg_CPU)\n",
    "print( type( A_eg_CPU ))\n",
    "print( A_eg_CPU.shape)\n",
    "print( B_eg_CPU.shape)"
   ]
  },
  {
   "cell_type": "code",
   "execution_count": 70,
   "metadata": {},
   "outputs": [
    {
     "name": "stdout",
     "output_type": "stream",
     "text": [
      "[GpuFromHost(B), GpuFromHost(A), GpuElemwise{Add}[(0, 0)](GpuFromHost.0, GpuFromHost.0)]\n"
     ]
    }
   ],
   "source": [
    "print( matadd.maker.fgraph.toposort() )"
   ]
  },
  {
   "cell_type": "code",
   "execution_count": 122,
   "metadata": {},
   "outputs": [
    {
     "name": "stdout",
     "output_type": "stream",
     "text": [
      "[GpuFromHost(B), GpuFromHost(A), GpuElemwise{Add}[(0, 0)](GpuFromHost.0, GpuFromHost.0), HostFromGpu(GpuElemwise{Add}[(0, 0)].0)]\n"
     ]
    }
   ],
   "source": [
    "print( matadd_CPU.maker.fgraph.toposort() )"
   ]
  },
  {
   "cell_type": "code",
   "execution_count": 71,
   "metadata": {},
   "outputs": [
    {
     "ename": "TypeError",
     "evalue": "('Bad input argument to theano function with name \"<ipython-input-69-40293d053d65>:7\"  at index 0(0-based)', 'Expected an array-like object, but found a Variable: maybe you are trying to call a function on a (possibly shared) variable instead of a numeric array?')",
     "output_type": "error",
     "traceback": [
      "\u001b[1;31m---------------------------------------------------------------------------\u001b[0m",
      "\u001b[1;31mTypeError\u001b[0m                                 Traceback (most recent call last)",
      "\u001b[1;32m<ipython-input-71-dd6866f5ad02>\u001b[0m in \u001b[0;36m<module>\u001b[1;34m()\u001b[0m\n\u001b[1;32m----> 1\u001b[1;33m \u001b[0mmatadd\u001b[0m\u001b[1;33m(\u001b[0m \u001b[0mA_eg\u001b[0m\u001b[1;33m,\u001b[0m \u001b[0mB_eg\u001b[0m\u001b[1;33m)\u001b[0m\u001b[1;33m\u001b[0m\u001b[0m\n\u001b[0m",
      "\u001b[1;32m/home/topolo/Public/anaconda2/lib/python2.7/site-packages/theano/compile/function_module.pyc\u001b[0m in \u001b[0;36m__call__\u001b[1;34m(self, *args, **kwargs)\u001b[0m\n\u001b[0;32m    784\u001b[0m                         s.storage[0] = s.type.filter(\n\u001b[0;32m    785\u001b[0m                             \u001b[0marg\u001b[0m\u001b[1;33m,\u001b[0m \u001b[0mstrict\u001b[0m\u001b[1;33m=\u001b[0m\u001b[0ms\u001b[0m\u001b[1;33m.\u001b[0m\u001b[0mstrict\u001b[0m\u001b[1;33m,\u001b[0m\u001b[1;33m\u001b[0m\u001b[0m\n\u001b[1;32m--> 786\u001b[1;33m                             allow_downcast=s.allow_downcast)\n\u001b[0m\u001b[0;32m    787\u001b[0m \u001b[1;33m\u001b[0m\u001b[0m\n\u001b[0;32m    788\u001b[0m                     \u001b[1;32mexcept\u001b[0m \u001b[0mException\u001b[0m \u001b[1;32mas\u001b[0m \u001b[0me\u001b[0m\u001b[1;33m:\u001b[0m\u001b[1;33m\u001b[0m\u001b[0m\n",
      "\u001b[1;32m/home/topolo/Public/anaconda2/lib/python2.7/site-packages/theano/tensor/type.pyc\u001b[0m in \u001b[0;36mfilter\u001b[1;34m(self, data, strict, allow_downcast)\u001b[0m\n\u001b[0;32m     84\u001b[0m         \u001b[1;32mif\u001b[0m \u001b[0misinstance\u001b[0m\u001b[1;33m(\u001b[0m\u001b[0mdata\u001b[0m\u001b[1;33m,\u001b[0m \u001b[0mVariable\u001b[0m\u001b[1;33m)\u001b[0m\u001b[1;33m:\u001b[0m\u001b[1;33m\u001b[0m\u001b[0m\n\u001b[0;32m     85\u001b[0m             raise TypeError(\n\u001b[1;32m---> 86\u001b[1;33m                 \u001b[1;34m'Expected an array-like object, but found a Variable: '\u001b[0m\u001b[1;33m\u001b[0m\u001b[0m\n\u001b[0m\u001b[0;32m     87\u001b[0m                 \u001b[1;34m'maybe you are trying to call a function on a (possibly '\u001b[0m\u001b[1;33m\u001b[0m\u001b[0m\n\u001b[0;32m     88\u001b[0m                 'shared) variable instead of a numeric array?')\n",
      "\u001b[1;31mTypeError\u001b[0m: ('Bad input argument to theano function with name \"<ipython-input-69-40293d053d65>:7\"  at index 0(0-based)', 'Expected an array-like object, but found a Variable: maybe you are trying to call a function on a (possibly shared) variable instead of a numeric array?')"
     ]
    }
   ],
   "source": [
    "matadd( A_eg, B_eg)"
   ]
  },
  {
   "cell_type": "markdown",
   "metadata": {},
   "source": [
    "The way to do it, to \"force\" on the GPU, is like this (cf. [Speeding up your Neural Network with Theano and the GPU - Wild ML](http://www.wildml.com/2015/09/speeding-up-your-neural-network-with-theano-and-the-gpu/)):"
   ]
  },
  {
   "cell_type": "code",
   "execution_count": 76,
   "metadata": {},
   "outputs": [
    {
     "data": {
      "text/plain": [
       "array([[ 1.01645633,  0.49394088, -0.22904526],\n",
       "       [-0.44323914, -0.27948502,  0.335645  ]])"
      ]
     },
     "execution_count": 76,
     "metadata": {},
     "output_type": "execute_result"
    }
   ],
   "source": [
    "np.random.randn( *A_eg_CPU.shape )"
   ]
  },
  {
   "cell_type": "code",
   "execution_count": 78,
   "metadata": {},
   "outputs": [],
   "source": [
    "C_out = theano.shared( np.random.randn( *A_eg_CPU.shape).astype('float32') )"
   ]
  },
  {
   "cell_type": "code",
   "execution_count": 80,
   "metadata": {},
   "outputs": [
    {
     "data": {
      "text/plain": [
       "<CudaNdarrayType(float32, matrix)>"
      ]
     },
     "execution_count": 80,
     "metadata": {},
     "output_type": "execute_result"
    }
   ],
   "source": [
    "C_out.type()"
   ]
  },
  {
   "cell_type": "code",
   "execution_count": 110,
   "metadata": {},
   "outputs": [],
   "source": [
    "#A_in = shared( A_eg_CPU, \"float32\")\n",
    "#A_in = shared( A_eg_CPU, \"float32\")\n",
    "\n",
    "A_in = shared( A_eg_CPU.astype(\"float32\"), \"float32\")\n",
    "B_in = shared( B_eg_CPU.astype(\"float32\"), \"float32\")\n",
    "#C_out_GPU = A_in + B_in\n",
    "C_out_GPU = sandbox.cuda.basic_ops.gpu_from_host(A_in+B_in)\n"
   ]
  },
  {
   "cell_type": "code",
   "execution_count": 111,
   "metadata": {},
   "outputs": [],
   "source": [
    "matadd_GPU = theano.function( [], C_out_GPU)"
   ]
  },
  {
   "cell_type": "code",
   "execution_count": 112,
   "metadata": {
    "collapsed": true
   },
   "outputs": [],
   "source": [
    "C_out_GPU_result = matadd_GPU()"
   ]
  },
  {
   "cell_type": "code",
   "execution_count": 113,
   "metadata": {},
   "outputs": [
    {
     "data": {
      "text/plain": [
       "CudaNdarray([[ 11.  16.  11.]\n",
       " [ 16.   2.   9.]])"
      ]
     },
     "execution_count": 113,
     "metadata": {},
     "output_type": "execute_result"
    }
   ],
   "source": [
    "C_out_GPU_result"
   ]
  },
  {
   "cell_type": "markdown",
   "metadata": {},
   "source": [
    "Notice how **DIFFERENT** this setup or syntax is: we have to set up tensor or matrix *shared variables* `A_n`, `B_in`, which are then used to define the theano function, `theano.function`.  \"By using shared variables we ensure that they are present in the GPU memory\".  cf. [Linear Algebra Shootout: NumPy vs. Theano vs. TensorFlow](https://simplyml.com/linear-algebra-shootout-numpy-vs-theano-vs-tensorflow-2/)"
   ]
  },
  {
   "cell_type": "code",
   "execution_count": 114,
   "metadata": {},
   "outputs": [
    {
     "name": "stdout",
     "output_type": "stream",
     "text": [
      "[GpuElemwise{add,no_inplace}(float32, float32)]\n"
     ]
    }
   ],
   "source": [
    "print( matadd_GPU.maker.fgraph.toposort() )"
   ]
  },
  {
   "cell_type": "code",
   "execution_count": 128,
   "metadata": {},
   "outputs": [
    {
     "ename": "AttributeError",
     "evalue": "'CudaNdarrayVariable' object has no attribute 'op'",
     "output_type": "error",
     "traceback": [
      "\u001b[1;31m---------------------------------------------------------------------------\u001b[0m",
      "\u001b[1;31mAttributeError\u001b[0m                            Traceback (most recent call last)",
      "\u001b[1;32m<ipython-input-128-eedabe693a3f>\u001b[0m in \u001b[0;36m<module>\u001b[1;34m()\u001b[0m\n\u001b[0;32m      1\u001b[0m \u001b[1;31m#if np.any([isinstance(C_out_GPU.op, tensor.Elemwise ) and\u001b[0m\u001b[1;33m\u001b[0m\u001b[1;33m\u001b[0m\u001b[0m\n\u001b[0;32m      2\u001b[0m if np.any([isinstance( C_out_GPU.op, T.Elemwise ) and \n\u001b[1;32m----> 3\u001b[1;33m            ('Gpu' not in type( C_out_GPU.op).__name__) for x in matadd_GPU.maker.fgraph.toposort()]) :\n\u001b[0m\u001b[0;32m      4\u001b[0m     \u001b[1;32mprint\u001b[0m\u001b[1;33m(\u001b[0m\u001b[1;34m'Used the cpu'\u001b[0m\u001b[1;33m)\u001b[0m\u001b[1;33m\u001b[0m\u001b[0m\n\u001b[0;32m      5\u001b[0m \u001b[1;32melse\u001b[0m\u001b[1;33m:\u001b[0m\u001b[1;33m\u001b[0m\u001b[0m\n",
      "\u001b[1;31mAttributeError\u001b[0m: 'CudaNdarrayVariable' object has no attribute 'op'"
     ]
    }
   ],
   "source": [
    "#if np.any([isinstance(C_out_GPU.op, tensor.Elemwise ) and \n",
    "if np.any([isinstance( C_out_GPU.op, T.Elemwise ) and \n",
    "           ('Gpu' not in type( C_out_GPU.op).__name__) for x in matadd_GPU.maker.fgraph.toposort()]) :\n",
    "    print('Used the cpu')\n",
    "else:\n",
    "    print('Used the gpu')"
   ]
  },
  {
   "cell_type": "code",
   "execution_count": null,
   "metadata": {
    "collapsed": true
   },
   "outputs": [],
   "source": []
  },
  {
   "cell_type": "code",
   "execution_count": 124,
   "metadata": {},
   "outputs": [
    {
     "data": {
      "text/plain": [
       "array([[ 11.,  16.,  11.],\n",
       "       [ 16.,   2.,   9.]], dtype=float32)"
      ]
     },
     "execution_count": 124,
     "metadata": {},
     "output_type": "execute_result"
    }
   ],
   "source": [
    "matadd_CPU( A_eg_CPU.astype(\"float32\"), B_eg_CPU.astype(\"float32\") )"
   ]
  },
  {
   "cell_type": "code",
   "execution_count": 55,
   "metadata": {},
   "outputs": [
    {
     "data": {
      "text/plain": [
       "theano.tensor.sharedvar.TensorSharedVariable"
      ]
     },
     "execution_count": 55,
     "metadata": {},
     "output_type": "execute_result"
    }
   ],
   "source": [
    "type(A_eg)"
   ]
  },
  {
   "cell_type": "code",
   "execution_count": 59,
   "metadata": {},
   "outputs": [
    {
     "name": "stdout",
     "output_type": "stream",
     "text": [
      "<type 'numpy.ndarray'>\n"
     ]
    },
    {
     "data": {
      "text/plain": [
       "(2000,)"
      ]
     },
     "execution_count": 59,
     "metadata": {},
     "output_type": "execute_result"
    }
   ],
   "source": [
    "print( type( numpy.asarray(rng.rand(2000)) ) )\n",
    "numpy.asarray(rng.rand(2000)).shape"
   ]
  },
  {
   "cell_type": "markdown",
   "metadata": {},
   "source": [
    "**Bottom Line:** there are **2** ways of doing linear algebra *on the GPU*"
   ]
  },
  {
   "cell_type": "markdown",
   "metadata": {},
   "source": [
    "1. symbolic computation with the usual arguments    \n",
    "\n",
    "$$\n",
    "A + B = C \\in \\text{Mat}_{\\mathbb{R}}(M,N)   \n",
    "$$   \n",
    "\n",
    "$ \\forall \\, A, B \\in \\text{Mat}_{\\mathbb{R}}(M,N)$"
   ]
  },
  {
   "cell_type": "code",
   "execution_count": 132,
   "metadata": {
    "collapsed": true
   },
   "outputs": [],
   "source": [
    "A = T.matrix('A')\n",
    "B = T.matrix('B')\n",
    "\n",
    "C = sandbox.cuda.basic_ops.gpu_from_host( A + B ) # vs. \n",
    "# C = A + B  # this will result in an output array on the host, as opposed to CudaNdarray on device\n",
    "matadd = function([A,B], C)"
   ]
  },
  {
   "cell_type": "code",
   "execution_count": 133,
   "metadata": {},
   "outputs": [
    {
     "name": "stdout",
     "output_type": "stream",
     "text": [
      "[GpuFromHost(B), GpuFromHost(A), GpuElemwise{Add}[(0, 0)](GpuFromHost.0, GpuFromHost.0)]\n"
     ]
    }
   ],
   "source": [
    "print( matadd.maker.fgraph.toposort() )"
   ]
  },
  {
   "cell_type": "code",
   "execution_count": 134,
   "metadata": {},
   "outputs": [
    {
     "data": {
      "text/plain": [
       "CudaNdarray([[ 11.  16.  11.]\n",
       " [ 16.   2.   9.]])"
      ]
     },
     "execution_count": 134,
     "metadata": {},
     "output_type": "execute_result"
    }
   ],
   "source": [
    "matadd( A_eg_CPU.astype(\"float32\"), B_eg_CPU.astype(\"float32\") )"
   ]
  },
  {
   "cell_type": "markdown",
   "metadata": {},
   "source": [
    "2. with *shared variables*"
   ]
  },
  {
   "cell_type": "code",
   "execution_count": 140,
   "metadata": {
    "collapsed": true
   },
   "outputs": [],
   "source": [
    "A_in = shared( A_eg_CPU.astype(\"float32\"), \"float32\")  # initialize with the input values, A_eg_CPU, anyway\n",
    "B_in = shared( B_eg_CPU.astype(\"float32\"), \"float32\")  # initialize with the input values B_eg_CPU, anyway\n",
    "\n",
    "# C_out = A_in + B_in # this version will output to the host as a numpy.ndarray\n",
    "# indeed, reading the graph,\n",
    "\"\"\"\n",
    "[GpuElemwise{add,no_inplace}(float32, float32), HostFromGpu(GpuElemwise{add,no_inplace}.0)]\n",
    "\"\"\"\n",
    "# this version immediately below, in 1 line, will result in a CudaNdarray on device\n",
    "C_out = sandbox.cuda.basic_ops.gpu_from_host(A_in+B_in)\n",
    "\n",
    "matadd_GPU = theano.function( [], C_out)"
   ]
  },
  {
   "cell_type": "code",
   "execution_count": 141,
   "metadata": {},
   "outputs": [
    {
     "name": "stdout",
     "output_type": "stream",
     "text": [
      "[GpuElemwise{add,no_inplace}(float32, float32)]\n"
     ]
    }
   ],
   "source": [
    "print( matadd_GPU.maker.fgraph.toposort() )"
   ]
  },
  {
   "cell_type": "code",
   "execution_count": 142,
   "metadata": {
    "collapsed": true
   },
   "outputs": [],
   "source": [
    "C_out_result = matadd_GPU()"
   ]
  },
  {
   "cell_type": "code",
   "execution_count": 143,
   "metadata": {},
   "outputs": [
    {
     "data": {
      "text/plain": [
       "CudaNdarray([[ 11.  16.  11.]\n",
       " [ 16.   2.   9.]])"
      ]
     },
     "execution_count": 143,
     "metadata": {},
     "output_type": "execute_result"
    }
   ],
   "source": [
    "C_out_result"
   ]
  },
  {
   "cell_type": "markdown",
   "metadata": {},
   "source": [
    "### Scalar Multiplication (on the GPU)\n",
    "\n",
    "cf. [Scalar Multiplication of Linear Algebra Review, coursera, Machine Learning Intro by Ng](https://www.coursera.org/learn/machine-learning/lecture/R4hiJ/addition-and-scalar-multiplication)"
   ]
  },
  {
   "cell_type": "code",
   "execution_count": 149,
   "metadata": {},
   "outputs": [],
   "source": [
    "A_2 = np.array( [[4,5],[1,7] ])"
   ]
  },
  {
   "cell_type": "code",
   "execution_count": 145,
   "metadata": {
    "collapsed": true
   },
   "outputs": [],
   "source": [
    "a = T.scalar('a')\n",
    "\n",
    "F = sandbox.cuda.basic_ops.gpu_from_host( a*A )\n",
    "scalarmul = theano.function([a,A],F)"
   ]
  },
  {
   "cell_type": "code",
   "execution_count": 146,
   "metadata": {},
   "outputs": [
    {
     "name": "stdout",
     "output_type": "stream",
     "text": [
      "[GpuFromHost(A), GpuFromHost(a), GpuDimShuffle{x,x}(GpuFromHost.0), GpuElemwise{Mul}[(0, 1)](GpuDimShuffle{x,x}.0, GpuFromHost.0)]\n"
     ]
    }
   ],
   "source": [
    "print( scalarmul.maker.fgraph.toposort() )"
   ]
  },
  {
   "cell_type": "code",
   "execution_count": 150,
   "metadata": {},
   "outputs": [
    {
     "data": {
      "text/plain": [
       "CudaNdarray([[  8.  10.]\n",
       " [  2.  14.]])"
      ]
     },
     "execution_count": 150,
     "metadata": {},
     "output_type": "execute_result"
    }
   ],
   "source": [
    "scalarmul( np.float32( 2.), A_2.astype(\"float32\"))"
   ]
  },
  {
   "cell_type": "markdown",
   "metadata": {},
   "source": [
    "# Composition; Confirming that you can do composition of scalar multiplication on a matrix (or ring) addition\n",
    "\n",
    "Being able to do composition is *very important* in math"
   ]
  },
  {
   "cell_type": "code",
   "execution_count": 152,
   "metadata": {},
   "outputs": [
    {
     "data": {
      "text/plain": [
       "CudaNdarray([[ 22.  32.  22.]\n",
       " [ 32.   4.  18.]])"
      ]
     },
     "execution_count": 152,
     "metadata": {},
     "output_type": "execute_result"
    }
   ],
   "source": [
    "scalarmul( np.float32(2.), matadd( A_eg_CPU.astype(\"float32\"), B_eg_CPU.astype(\"float32\") ) )"
   ]
  },
  {
   "cell_type": "code",
   "execution_count": 156,
   "metadata": {},
   "outputs": [],
   "source": [
    "u = T.vector('u')\n",
    "v = T.vector('v')\n",
    "\n",
    "w = sandbox.cuda.basic_ops.gpu_from_host( u + v)\n",
    "vecadd = theano.function( [u,v],w)\n",
    "\n",
    "t = sandbox.cuda.basic_ops.gpu_from_host( a * u)\n",
    "scalarmul_vec = theano.function([a,u], t)\n"
   ]
  },
  {
   "cell_type": "code",
   "execution_count": 157,
   "metadata": {},
   "outputs": [
    {
     "name": "stdout",
     "output_type": "stream",
     "text": [
      "[GpuFromHost(v), GpuFromHost(u), GpuElemwise{Add}[(0, 0)](GpuFromHost.0, GpuFromHost.0)]\n",
      "[GpuFromHost(u), GpuFromHost(a), GpuDimShuffle{x}(GpuFromHost.0), GpuElemwise{Mul}[(0, 1)](GpuDimShuffle{x}.0, GpuFromHost.0)]\n"
     ]
    }
   ],
   "source": [
    "print(vecadd.maker.fgraph.toposort())  \n",
    "print(scalarmul_vec.maker.fgraph.toposort())  \n"
   ]
  },
  {
   "cell_type": "code",
   "execution_count": 162,
   "metadata": {},
   "outputs": [
    {
     "name": "stdout",
     "output_type": "stream",
     "text": [
      "(3,)\n"
     ]
    }
   ],
   "source": [
    "u_eg = np.array( [4,6,7], dtype=\"float32\")\n",
    "v_eg = np.array( [2,1,0], dtype=\"float32\")\n",
    "\n",
    "print( u_eg.shape)"
   ]
  },
  {
   "cell_type": "code",
   "execution_count": 161,
   "metadata": {},
   "outputs": [
    {
     "data": {
      "text/plain": [
       "CudaNdarray([ 2.   3.   3.5])"
      ]
     },
     "execution_count": 161,
     "metadata": {},
     "output_type": "execute_result"
    }
   ],
   "source": [
    "scalarmul_vec( np.float32(0.5), u_eg )"
   ]
  },
  {
   "cell_type": "code",
   "execution_count": 163,
   "metadata": {},
   "outputs": [
    {
     "data": {
      "text/plain": [
       "CudaNdarray([-4.   0.   3.5])"
      ]
     },
     "execution_count": 163,
     "metadata": {},
     "output_type": "execute_result"
    }
   ],
   "source": [
    "vecadd( scalarmul_vec( np.float32(0.5), u_eg ) , scalarmul_vec( np.float32(-3.), v_eg )  )"
   ]
  },
  {
   "cell_type": "markdown",
   "metadata": {},
   "source": [
    "This was the computer equivalent to mathematical expression:  \n",
    "\n",
    "$$   \n",
    "\\left[ \\begin{matrix} 4 \\\\ 6 \\\\ 7 \\end{matrix} \\right] /2 - 3 * \\left[ \\begin{matrix} 2 \\\\ 1 \\\\ 0 \\end{matrix} \\right]\n",
    "$$   \n"
   ]
  },
  {
   "cell_type": "markdown",
   "metadata": {},
   "source": [
    "### sAxy or A-V multiplication or so-called \"Gemv\", or Matrix Multiplication on a vector, or linear transformation on a R-module, or vector space   \n",
    "\n",
    "i.e.   \n",
    "\n",
    "$$\n",
    "Av = B   \n",
    "$$"
   ]
  },
  {
   "cell_type": "code",
   "execution_count": 164,
   "metadata": {},
   "outputs": [
    {
     "name": "stdout",
     "output_type": "stream",
     "text": [
      "[GpuFromHost(v), GpuFromHost(A), Shape_i{0}(A), GpuAllocEmpty(Shape_i{0}.0), GpuGemv{inplace}(GpuAllocEmpty.0, TensorConstant{1.0}, GpuFromHost.0, GpuFromHost.0, TensorConstant{0.0})]\n"
     ]
    }
   ],
   "source": [
    "B_out = sandbox.cuda.basic_ops.gpu_from_host( T.dot(A,v))\n",
    "AVmul = theano.function([A,v], B_out)\n",
    "print(AVmul.maker.fgraph.toposort())"
   ]
  },
  {
   "cell_type": "code",
   "execution_count": 165,
   "metadata": {},
   "outputs": [
    {
     "data": {
      "text/plain": [
       "CudaNdarray([  7.  18.  13.])"
      ]
     },
     "execution_count": 165,
     "metadata": {},
     "output_type": "execute_result"
    }
   ],
   "source": [
    "AVmul( np.array([[1,0,3],[2,1,5],[3,1,2]]).astype(\"float32\"), np.array([1,6,2]).astype(\"float32\"))"
   ]
  },
  {
   "cell_type": "code",
   "execution_count": 168,
   "metadata": {},
   "outputs": [
    {
     "data": {
      "text/plain": [
       "CudaNdarray([ 1.  6.  2.])"
      ]
     },
     "execution_count": 168,
     "metadata": {},
     "output_type": "execute_result"
    }
   ],
   "source": [
    "AVmul( np.array([[1,0,0],[0,1,0],[0,0,1]]).astype(\"float32\"), np.array([1,6,2]).astype(\"float32\"))"
   ]
  },
  {
   "cell_type": "markdown",
   "metadata": {},
   "source": [
    "### AB or Gemm or Matrix Multiplication, i.e. Ring multiplication   \n",
    "\n",
    "i.e.   \n",
    "$$  \n",
    "A*B = C  \n",
    "$$"
   ]
  },
  {
   "cell_type": "code",
   "execution_count": 166,
   "metadata": {},
   "outputs": [
    {
     "name": "stdout",
     "output_type": "stream",
     "text": [
      "[GpuFromHost(B), GpuFromHost(A), GpuDot22(GpuFromHost.0, GpuFromHost.0)]\n"
     ]
    }
   ],
   "source": [
    "C_f = sandbox.cuda.basic_ops.gpu_from_host( T.dot(A,B)) \n",
    "matmul = theano.function([A,B], C_f)\n",
    "print( matmul.maker.fgraph.toposort())"
   ]
  },
  {
   "cell_type": "code",
   "execution_count": 167,
   "metadata": {},
   "outputs": [
    {
     "data": {
      "text/plain": [
       "CudaNdarray([[  7.   9.]\n",
       " [ 10.  12.]\n",
       " [ 10.  15.]])"
      ]
     },
     "execution_count": 167,
     "metadata": {},
     "output_type": "execute_result"
    }
   ],
   "source": [
    "matmul( np.array( [[1,3],[2,4],[0,5]]  ).astype(\"float32\"), np.array([[1,0],[2,3]]).astype(\"float32\")  )"
   ]
  },
  {
   "cell_type": "markdown",
   "metadata": {},
   "source": [
    "### Inverse and Transpose   \n",
    "\n",
    "cf. [Inverse and Transpose](https://www.coursera.org/learn/machine-learning/lecture/FuSWY/inverse-and-transpose)"
   ]
  },
  {
   "cell_type": "code",
   "execution_count": 170,
   "metadata": {},
   "outputs": [
    {
     "name": "stdout",
     "output_type": "stream",
     "text": [
      "[GpuFromHost(A), GpuElemwise{Inv}[(0, 0)](GpuFromHost.0)]\n"
     ]
    }
   ],
   "source": [
    "Ainverse = sandbox.cuda.basic_ops.gpu_from_host( T.inv(A))\n",
    "Ainv = theano.function([A], Ainverse)\n",
    "print(Ainv.maker.fgraph.toposort())"
   ]
  },
  {
   "cell_type": "code",
   "execution_count": 172,
   "metadata": {},
   "outputs": [
    {
     "name": "stdout",
     "output_type": "stream",
     "text": [
      "[GpuFromHost(A), GpuDimShuffle{1,0}(GpuFromHost.0)]\n"
     ]
    }
   ],
   "source": [
    "Atranspose = sandbox.cuda.basic_ops.gpu_from_host( A.T)\n",
    "AT = theano.function([A],Atranspose)\n",
    "print(AT.maker.fgraph.toposort())"
   ]
  },
  {
   "cell_type": "code",
   "execution_count": null,
   "metadata": {
    "collapsed": true
   },
   "outputs": [],
   "source": []
  },
  {
   "cell_type": "code",
   "execution_count": null,
   "metadata": {
    "collapsed": true
   },
   "outputs": [],
   "source": []
  },
  {
   "cell_type": "markdown",
   "metadata": {},
   "source": [
    "### Summation, sum, mean, scan"
   ]
  },
  {
   "cell_type": "code",
   "execution_count": null,
   "metadata": {
    "collapsed": true
   },
   "outputs": [],
   "source": []
  },
  {
   "cell_type": "markdown",
   "metadata": {},
   "source": [
    "# Linear Regression (again), via Coursera's Machine Learning Intro by Ng, Programming Exercise 1 for Week 2"
   ]
  },
  {
   "cell_type": "markdown",
   "metadata": {},
   "source": [
    "### Boilerplate, load sample data"
   ]
  },
  {
   "cell_type": "code",
   "execution_count": 9,
   "metadata": {},
   "outputs": [],
   "source": [
    "linregdata = pd.read_csv('./coursera_Ng/machine-learning-ex1/ex1/ex1data1.txt', header=None)"
   ]
  },
  {
   "cell_type": "code",
   "execution_count": 11,
   "metadata": {},
   "outputs": [
    {
     "name": "stdout",
     "output_type": "stream",
     "text": [
      "((97, 1), <type 'numpy.ndarray'>)\n",
      "((97, 1), <type 'numpy.ndarray'>)\n",
      "97\n"
     ]
    }
   ],
   "source": [
    "X_linreg_training = linregdata.as_matrix([0])  # pandas.DataFrame.as_matrix convert frame to its numpy-array representation\n",
    "y_linreg_training = linregdata.as_matrix([1])\n",
    "m_linreg_training = len(y_linreg_training)  # number of training examples  \n",
    "print( X_linreg_training.shape, type(X_linreg_training)) \n",
    "print( y_linreg_training.shape, type(y_linreg_training)) \n",
    "print m_linreg_training"
   ]
  },
  {
   "cell_type": "markdown",
   "metadata": {},
   "source": [
    "Try representing $\\theta$, parameters or \"weights\", of size $|\\theta|$ which should be equal to the number of features $n$ (or $d$).  "
   ]
  },
  {
   "cell_type": "code",
   "execution_count": 109,
   "metadata": {},
   "outputs": [],
   "source": [
    "# theta_linreg = T.vector('theta_linreg')\n",
    "d = X_linreg_training.shape[1] # d = features\n",
    "\n",
    "# Declare Theano symbolic variables\n",
    "X = T.matrix('x')\n",
    "y = T.vector('y')"
   ]
  },
  {
   "cell_type": "markdown",
   "metadata": {},
   "source": [
    "Preprocess training data (due to numpy's treatment of arrays) (note, this is not needed, if you use pandas to choose which column(s) you want to make into a numpy array)"
   ]
  },
  {
   "cell_type": "code",
   "execution_count": 188,
   "metadata": {},
   "outputs": [],
   "source": [
    "#X_linreg_training = X_linreg_training.reshape( m_linreg_training,1)\n",
    "#y_linreg_training = y_linreg_training.reshape( m_linreg_training,1)"
   ]
  },
  {
   "cell_type": "code",
   "execution_count": 12,
   "metadata": {},
   "outputs": [],
   "source": [
    "# Instead, the training data X and test data values y are going to be represented by Theano symbolic variable above\n",
    "#X_linreg = theano.shared(X_linreg_training.astype(\"float32\"),\"float32\")\n",
    "#y_linreg = theano.shared(y_linreg_training.astype(\"float32\"),\"float32\")"
   ]
  },
  {
   "cell_type": "code",
   "execution_count": 110,
   "metadata": {},
   "outputs": [
    {
     "name": "stdout",
     "output_type": "stream",
     "text": [
      "[ 0.  0.]\n"
     ]
    }
   ],
   "source": [
    "#theta_0 = np.zeros( ( d+1,1)); print(theta_0)\n",
    "theta_0 = np.zeros(  d+1); print(theta_0)"
   ]
  },
  {
   "cell_type": "code",
   "execution_count": 111,
   "metadata": {},
   "outputs": [],
   "source": [
    "theta = theano.shared( theta_0.astype(\"float32\"), \"theta\")"
   ]
  },
  {
   "cell_type": "code",
   "execution_count": 89,
   "metadata": {
    "collapsed": true
   },
   "outputs": [],
   "source": [
    "alpha = np.float32(0.01) # learning rate gamma or alpha"
   ]
  },
  {
   "cell_type": "code",
   "execution_count": 112,
   "metadata": {
    "collapsed": true
   },
   "outputs": [],
   "source": [
    "# Construct Theano \"expression graph\"\n",
    "\n",
    "predicted_vals = sandbox.cuda.basic_ops.gpu_from_host( T.dot(X,theta) )  # h_{\\theta}\n",
    "m = np.float32( y_linreg_training.shape[0] ) \n",
    "J_theta = sandbox.cuda.basic_ops.gpu_from_host( \n",
    "    T.dot( (T.dot(X,theta) - y).T, T.dot(X,theta) - y)  * np.float32( 0.5 ) * np.float32( 1./ m )   \n",
    "    ) # cost function\n",
    "\n"
   ]
  },
  {
   "cell_type": "code",
   "execution_count": 113,
   "metadata": {},
   "outputs": [],
   "source": [
    "update_theta = sandbox.cuda.basic_ops.gpu_from_host( \n",
    "        theta - alpha * T.grad( J_theta, theta) )\n"
   ]
  },
  {
   "cell_type": "code",
   "execution_count": 114,
   "metadata": {},
   "outputs": [],
   "source": [
    "gradientDescent = theano.function( \n",
    "                            inputs=[X,y],\n",
    "                            outputs=[predicted_vals,J_theta],  \n",
    "                            updates=[(theta, update_theta)], \n",
    "                            name = \"gradientDescent\")\n"
   ]
  },
  {
   "cell_type": "code",
   "execution_count": 115,
   "metadata": {},
   "outputs": [
    {
     "name": "stdout",
     "output_type": "stream",
     "text": [
      "[GpuFromHost(x), Shape_i{0}(x), GpuFromHost(y), GpuAllocEmpty(TensorConstant{1}), GpuDimShuffle{1,0}(GpuFromHost.0), GpuAllocEmpty(Shape_i{0}.0), GpuGemv{inplace}(GpuAllocEmpty.0, TensorConstant{1.0}, GpuFromHost.0, theta, TensorConstant{0.0}), GpuElemwise{Sub}[(0, 1)](GpuGemv{inplace}.0, GpuFromHost.0), GpuDimShuffle{0}(GpuElemwise{Sub}[(0, 1)].0), GpuDimShuffle{x,0}(GpuElemwise{Sub}[(0, 1)].0), GpuGemv{inplace}(GpuAllocEmpty.0, TensorConstant{1.0}, GpuDimShuffle{x,0}.0, GpuDimShuffle{0}.0, TensorConstant{0.0}), GpuElemwise{Mul}[(0, 1)](CudaNdarrayConstant{[ 0.00515464]}, GpuElemwise{Sub}[(0, 1)].0), GpuDimShuffle{}(GpuGemv{inplace}.0), GpuGemv{inplace}(theta, TensorConstant{-0.019999999553}, GpuDimShuffle{1,0}.0, GpuElemwise{Mul}[(0, 1)].0, TensorConstant{1.0}), GpuElemwise{Mul}[(0, 1)](CudaNdarrayConstant{0.00515463901684}, GpuDimShuffle{}.0)]\n"
     ]
    }
   ],
   "source": [
    "print( gradientDescent.maker.fgraph.toposort() )"
   ]
  },
  {
   "cell_type": "code",
   "execution_count": 116,
   "metadata": {
    "collapsed": true
   },
   "outputs": [],
   "source": [
    "num_iters = 1500\n",
    "J_History = []"
   ]
  },
  {
   "cell_type": "markdown",
   "metadata": {},
   "source": [
    "Preprocess X to *include intercepts*"
   ]
  },
  {
   "cell_type": "code",
   "execution_count": 95,
   "metadata": {
    "collapsed": true
   },
   "outputs": [],
   "source": [
    "input_X_linreg = np.hstack( ( np.ones((m_linreg_training,1)), X_linreg_training ) ).astype(\"float32\")"
   ]
  },
  {
   "cell_type": "code",
   "execution_count": 96,
   "metadata": {
    "collapsed": true
   },
   "outputs": [],
   "source": [
    "y_linreg_training_processed = y_linreg_training.reshape( m_linreg_training,).astype(\"float32\")"
   ]
  },
  {
   "cell_type": "code",
   "execution_count": 117,
   "metadata": {},
   "outputs": [],
   "source": [
    "J_History = [0 for iter in range(num_iters)]\n",
    "for iter in range(num_iters):\n",
    "    predicted_vals_out, J_out = \\\n",
    "        gradientDescent(input_X_linreg.astype(\"float32\"), y_linreg_training_processed.astype(\"float32\") ) \n",
    "    J_History[iter] = J_out"
   ]
  },
  {
   "cell_type": "code",
   "execution_count": 45,
   "metadata": {
    "collapsed": true
   },
   "outputs": [],
   "source": [
    "Deg = (np.random.randn(40,10).astype(\"float32\"), np.random.randint(size=40,low=0,high=2).astype(\"float32\") )"
   ]
  },
  {
   "cell_type": "code",
   "execution_count": 46,
   "metadata": {},
   "outputs": [
    {
     "data": {
      "text/plain": [
       "(40, 10)"
      ]
     },
     "execution_count": 46,
     "metadata": {},
     "output_type": "execute_result"
    }
   ],
   "source": [
    "Deg[0].shape"
   ]
  },
  {
   "cell_type": "code",
   "execution_count": 47,
   "metadata": {},
   "outputs": [
    {
     "data": {
      "text/plain": [
       "(40,)"
      ]
     },
     "execution_count": 47,
     "metadata": {},
     "output_type": "execute_result"
    }
   ],
   "source": [
    "Deg[1].shape"
   ]
  },
  {
   "cell_type": "code",
   "execution_count": 118,
   "metadata": {},
   "outputs": [
    {
     "data": {
      "text/plain": [
       "array([-3.63029242,  1.1663624 ], dtype=float32)"
      ]
     },
     "execution_count": 118,
     "metadata": {},
     "output_type": "execute_result"
    }
   ],
   "source": [
    "theta.get_value()"
   ]
  },
  {
   "cell_type": "code",
   "execution_count": 101,
   "metadata": {},
   "outputs": [
    {
     "data": {
      "text/plain": [
       "['__add__',\n",
       " '__array__',\n",
       " '__class__',\n",
       " '__copy__',\n",
       " '__deepcopy__',\n",
       " '__delattr__',\n",
       " '__delitem__',\n",
       " '__doc__',\n",
       " '__format__',\n",
       " '__getattribute__',\n",
       " '__getitem__',\n",
       " '__hash__',\n",
       " '__iadd__',\n",
       " '__idiv__',\n",
       " '__init__',\n",
       " '__len__',\n",
       " '__new__',\n",
       " '__radd__',\n",
       " '__reduce__',\n",
       " '__reduce_ex__',\n",
       " '__repr__',\n",
       " '__setattr__',\n",
       " '__setitem__',\n",
       " '__sizeof__',\n",
       " '__str__',\n",
       " '__subclasshook__',\n",
       " '_dev_data',\n",
       " '_set_shape_i',\n",
       " '_set_stride',\n",
       " '_strides',\n",
       " 'base',\n",
       " 'copy',\n",
       " 'dtype',\n",
       " 'exp',\n",
       " 'gpudata',\n",
       " 'is_c_contiguous',\n",
       " 'mem_size',\n",
       " 'ndim',\n",
       " 'reduce_sum',\n",
       " 'reshape',\n",
       " 'shape',\n",
       " 'size',\n",
       " 'strides',\n",
       " 'take',\n",
       " 'view',\n",
       " 'zeros']"
      ]
     },
     "execution_count": 101,
     "metadata": {},
     "output_type": "execute_result"
    }
   ],
   "source": [
    "dir( J_History[0] )"
   ]
  },
  {
   "cell_type": "code",
   "execution_count": 121,
   "metadata": {},
   "outputs": [
    {
     "data": {
      "text/plain": [
       "47407335424"
      ]
     },
     "execution_count": 121,
     "metadata": {},
     "output_type": "execute_result"
    }
   ],
   "source": [
    "J_History[-5].gpudata"
   ]
  },
  {
   "cell_type": "code",
   "execution_count": 120,
   "metadata": {},
   "outputs": [
    {
     "data": {
      "text/plain": [
       "[<matplotlib.lines.Line2D at 0x7ffa1c17a7d0>]"
      ]
     },
     "execution_count": 120,
     "metadata": {},
     "output_type": "execute_result"
    },
    {
     "data": {
      "image/png": "[encoded data removed]",
      "text/plain": [
       "<matplotlib.figure.Figure at 0x7ffa1c5d6410>"
      ]
     },
     "metadata": {},
     "output_type": "display_data"
    }
   ],
   "source": [
    "plt.plot( [ele.gpudata for ele in J_History])"
   ]
  },
  {
   "cell_type": "markdown",
   "metadata": {},
   "source": [
    "Denny Britz's way:  \n",
    "\n",
    "http://www.wildml.com/2015/09/speeding-up-your-neural-network-with-theano-and-the-gpu/\n",
    "\n",
    "[Speeding up your Neural Network with Theano and the GPU](http://www.wildml.com/2015/09/speeding-up-your-neural-network-with-theano-and-the-gpu/)\n",
    "\n",
    "and his jupyter notebook\n",
    "\n",
    "https://github.com/dennybritz/nn-theano/blob/master/nn-theano-gpu.ipynb\n",
    "\n",
    "[ `nn-theano/nn-theano-gpu.ipynb`](https://github.com/dennybritz/nn-theano/blob/master/nn-theano-gpu.ipynb)\n",
    "\n",
    "\n"
   ]
  },
  {
   "cell_type": "code",
   "execution_count": 73,
   "metadata": {},
   "outputs": [
    {
     "data": {
      "text/plain": [
       "(97, 2)"
      ]
     },
     "execution_count": 73,
     "metadata": {},
     "output_type": "execute_result"
    }
   ],
   "source": [
    "input_X_linreg.shape"
   ]
  },
  {
   "cell_type": "code",
   "execution_count": 122,
   "metadata": {
    "collapsed": true
   },
   "outputs": [],
   "source": [
    "# GPU NOTE: Conversion to float32 to store them on the GPU!\n",
    "X = theano.shared( input_X_linreg.astype('float32'), name='X' )\n",
    "y = theano.shared( y_linreg_training.astype('float32'), name='y')"
   ]
  },
  {
   "cell_type": "code",
   "execution_count": 123,
   "metadata": {},
   "outputs": [],
   "source": [
    "# GPU NOTE: Conversion to float32 to store them on the GPU!  \n",
    "theta = theano.shared( np.vstack(theta_0).astype(\"float32\"), name='theta')"
   ]
  },
  {
   "cell_type": "code",
   "execution_count": 136,
   "metadata": {},
   "outputs": [],
   "source": [
    "# Construct Theano \"expression graph\"\n",
    "\n",
    "predicted_vals = sandbox.cuda.basic_ops.gpu_from_host( \n",
    "    T.dot(X,theta) )  # h_{\\theta}\n",
    "m = np.float32( y_linreg_training.shape[0] )\n",
    "# cost function J_theta, J_{\\theta}\n",
    "J_theta = sandbox.cuda.basic_ops.gpu_from_host( \n",
    "    (\n",
    "        T.dot( (T.dot(X,theta) - y).T, T.dot(X,theta) - y) * np.float32(0.5) * np.float32( 1./m)  \n",
    "    ).reshape([]) )   # cost function  # reshape is to force \"broadcast\" into 0-dim. scalar for cost function\n",
    "    \n"
   ]
  },
  {
   "cell_type": "code",
   "execution_count": 137,
   "metadata": {},
   "outputs": [],
   "source": [
    "update_theta = sandbox.cuda.basic_ops.gpu_from_host( \n",
    "        theta - alpha * T.grad( J_theta, theta) )"
   ]
  },
  {
   "cell_type": "code",
   "execution_count": 138,
   "metadata": {
    "collapsed": true
   },
   "outputs": [],
   "source": [
    "# Note that we removed the input values because we will always use the same shared variable\n",
    "# GPU Note: Removed the input values to avoid copying data to the GPU.\n",
    "gradientDescent = theano.function( \n",
    "                            inputs=[],\n",
    "#                            outputs=[predicted_vals,J_theta],  \n",
    "                            updates=[(theta, update_theta)], \n",
    "                            name = \"gradientDescent\")\n"
   ]
  },
  {
   "cell_type": "code",
   "execution_count": 139,
   "metadata": {},
   "outputs": [
    {
     "name": "stdout",
     "output_type": "stream",
     "text": [
      "[Shape_i{1}(theta), GpuDimShuffle{1,0}(X), GpuGemm{no_inplace}(y, TensorConstant{1.0}, X, theta, TensorConstant{-1.0}), MakeVector{dtype='int64'}(Shape_i{1}.0, Shape_i{1}.0), GpuReshape{2}(CudaNdarrayConstant{1.0}, MakeVector{dtype='int64'}.0), GpuElemwise{mul,no_inplace}(CudaNdarrayConstant{[[ 0.00515464]]}, GpuReshape{2}.0), GpuDot22(GpuGemm{no_inplace}.0, GpuElemwise{mul,no_inplace}.0), GpuDimShuffle{1,0}(GpuElemwise{mul,no_inplace}.0), GpuDot22(GpuGemm{no_inplace}.0, GpuDimShuffle{1,0}.0), GpuGemm{inplace}(theta, TensorConstant{-0.00999999977648}, GpuDimShuffle{1,0}.0, GpuDot22.0, TensorConstant{1.0}), GpuGemm{inplace}(GpuGemm{inplace}.0, TensorConstant{-0.00999999977648}, GpuDimShuffle{1,0}.0, GpuDot22.0, TensorConstant{1.0})]\n"
     ]
    }
   ],
   "source": [
    "print( gradientDescent.maker.fgraph.toposort() )"
   ]
  },
  {
   "cell_type": "code",
   "execution_count": 141,
   "metadata": {},
   "outputs": [],
   "source": [
    "#J_History = [0 for iter in range(num_iters)]\n",
    "for iter in range(num_iters):\n",
    "    gradientDescent( ) \n",
    "    "
   ]
  },
  {
   "cell_type": "code",
   "execution_count": 78,
   "metadata": {},
   "outputs": [
    {
     "name": "stdout",
     "output_type": "stream",
     "text": [
      "(2, 1)\n",
      "(97, 1)\n"
     ]
    }
   ],
   "source": [
    "print( np.vstack( theta_0).shape )\n",
    "print( y_linreg_training.shape )"
   ]
  },
  {
   "cell_type": "code",
   "execution_count": 149,
   "metadata": {},
   "outputs": [
    {
     "data": {
      "text/plain": [
       "array([[-3.63076854],\n",
       "       [ 1.16641033]], dtype=float32)"
      ]
     },
     "execution_count": 149,
     "metadata": {},
     "output_type": "execute_result"
    }
   ],
   "source": [
    "theta.get_value()"
   ]
  },
  {
   "cell_type": "code",
   "execution_count": 152,
   "metadata": {},
   "outputs": [
    {
     "name": "stdout",
     "output_type": "stream",
     "text": [
      "False\n",
      "False\n"
     ]
    }
   ],
   "source": [
    "# Profiling\n",
    "print( theano.config.profile )  # Do the vm/cvm linkers profile the execution time of Theano functions?\n",
    "print( theano.config.profile_memory ) # Do the vm/cvm linkers profile the memory usage of Theano functions? It only works when profile=True."
   ]
  },
  {
   "cell_type": "code",
   "execution_count": 154,
   "metadata": {},
   "outputs": [
    {
     "name": "stdout",
     "output_type": "stream",
     "text": [
      "GpuGemm{inplace} [id A] ''   10\n",
      " |GpuGemm{inplace} [id B] ''   9\n",
      " | |theta [id C]\n",
      " | |TensorConstant{-0.00999999977648} [id D]\n",
      " | |GpuDimShuffle{1,0} [id E] ''   1\n",
      " | | |X [id F]\n",
      " | |GpuDot22 [id G] ''   8\n",
      " | | |GpuGemm{no_inplace} [id H] ''   2\n",
      " | | | |y [id I]\n",
      " | | | |TensorConstant{1.0} [id J]\n",
      " | | | |X [id F]\n",
      " | | | |theta [id C]\n",
      " | | | |TensorConstant{-1.0} [id K]\n",
      " | | |GpuDimShuffle{1,0} [id L] ''   7\n",
      " | |   |GpuElemwise{mul,no_inplace} [id M] ''   5\n",
      " | |     |CudaNdarrayConstant{[[ 0.00515464]]} [id N]\n",
      " | |     |GpuReshape{2} [id O] ''   4\n",
      " | |       |CudaNdarrayConstant{1.0} [id P]\n",
      " | |       |MakeVector{dtype='int64'} [id Q] ''   3\n",
      " | |         |Shape_i{1} [id R] ''   0\n",
      " | |         | |theta [id C]\n",
      " | |         |Shape_i{1} [id R] ''   0\n",
      " | |TensorConstant{1.0} [id J]\n",
      " |TensorConstant{-0.00999999977648} [id D]\n",
      " |GpuDimShuffle{1,0} [id E] ''   1\n",
      " |GpuDot22 [id S] ''   6\n",
      " | |GpuGemm{no_inplace} [id H] ''   2\n",
      " | |GpuElemwise{mul,no_inplace} [id M] ''   5\n",
      " |TensorConstant{1.0} [id J]\n"
     ]
    }
   ],
   "source": [
    "theano.printing.debugprint(gradientDescent)"
   ]
  },
  {
   "cell_type": "code",
   "execution_count": 157,
   "metadata": {},
   "outputs": [
    {
     "data": {
      "text/plain": [
       "['__class__',\n",
       " '__delattr__',\n",
       " '__doc__',\n",
       " '__format__',\n",
       " '__getattribute__',\n",
       " '__hash__',\n",
       " '__init__',\n",
       " '__new__',\n",
       " '__reduce__',\n",
       " '__reduce_ex__',\n",
       " '__repr__',\n",
       " '__setattr__',\n",
       " '__sizeof__',\n",
       " '__str__',\n",
       " '__subclasshook__']"
      ]
     },
     "execution_count": 157,
     "metadata": {},
     "output_type": "execute_result"
    }
   ],
   "source": [
    "#print( gradientDescent.profile.print_summary() )\n",
    "dir( gradientDescent.profile)"
   ]
  },
  {
   "cell_type": "markdown",
   "metadata": {},
   "source": [
    "## Testing the Linear Regression with (Batch) Gradient Descent classes in `./ML/`"
   ]
  },
  {
   "cell_type": "code",
   "execution_count": 9,
   "metadata": {
    "collapsed": true
   },
   "outputs": [],
   "source": [
    "import sys\n",
    "import os"
   ]
  },
  {
   "cell_type": "code",
   "execution_count": 10,
   "metadata": {},
   "outputs": [],
   "source": [
    "#sys.path.append( os.getcwd() + '/ML')\n",
    "sys.path.append( os.getcwd() + '/ML' )"
   ]
  },
  {
   "cell_type": "code",
   "execution_count": 10,
   "metadata": {},
   "outputs": [],
   "source": [
    "from linreg_gradDes import LinearReg, LinearReg_loaded\n",
    "#from ML import LinearReg, LinearReg_loaded"
   ]
  },
  {
   "cell_type": "markdown",
   "metadata": {},
   "source": [
    "**Boilerplate** for sample input data"
   ]
  },
  {
   "cell_type": "code",
   "execution_count": 11,
   "metadata": {},
   "outputs": [
    {
     "data": {
      "text/plain": [
       "(97, 1)"
      ]
     },
     "execution_count": 11,
     "metadata": {},
     "output_type": "execute_result"
    }
   ],
   "source": [
    "linregdata1 = pd.read_csv('./coursera_Ng/machine-learning-ex1/ex1/ex1data1.txt', header=None)\n",
    "linregdata1.as_matrix([0]).shape\n",
    "linregdata1.as_matrix([1]).shape"
   ]
  },
  {
   "cell_type": "code",
   "execution_count": 12,
   "metadata": {},
   "outputs": [],
   "source": [
    "features = linregdata1.as_matrix([0]).shape[1]\n",
    "numberoftraining = linregdata1.as_matrix([0]).shape[0]\n",
    "LinReg_housing = LinearReg( features, numberoftraining , 0.01)"
   ]
  },
  {
   "cell_type": "code",
   "execution_count": 13,
   "metadata": {},
   "outputs": [],
   "source": [
    "Xin   = LinReg_housing.preprocess_X( linregdata1.as_matrix([0]))\n",
    "ytest = linregdata1.as_matrix([1]).flatten()"
   ]
  },
  {
   "cell_type": "code",
   "execution_count": 14,
   "metadata": {},
   "outputs": [
    {
     "name": "stdout",
     "output_type": "stream",
     "text": [
      "CPU times: user 171 ms, sys: 28.9 ms, total: 200 ms\n",
      "Wall time: 198 ms\n"
     ]
    },
    {
     "data": {
      "text/plain": [
       "array([-3.63029242,  1.1663624 ], dtype=float32)"
      ]
     },
     "execution_count": 14,
     "metadata": {},
     "output_type": "execute_result"
    }
   ],
   "source": [
    "%time LinReg_housing.build_model( Xin, ytest )"
   ]
  },
  {
   "cell_type": "code",
   "execution_count": 19,
   "metadata": {},
   "outputs": [],
   "source": [
    "LinRegloaded_housing = LinearReg_loaded( linregdata1.as_matrix([0]), linregdata1.as_matrix([1]), \n",
    "                                        features, numberoftraining )"
   ]
  },
  {
   "cell_type": "code",
   "execution_count": 20,
   "metadata": {},
   "outputs": [
    {
     "name": "stdout",
     "output_type": "stream",
     "text": [
      "CPU times: user 136 ms, sys: 16.4 ms, total: 152 ms\n",
      "Wall time: 132 ms\n"
     ]
    },
    {
     "data": {
      "text/plain": [
       "array([[-3.63028979],\n",
       "       [ 1.16636217]], dtype=float32)"
      ]
     },
     "execution_count": 20,
     "metadata": {},
     "output_type": "execute_result"
    }
   ],
   "source": [
    "%time LinRegloaded_housing.build_model()"
   ]
  },
  {
   "cell_type": "code",
   "execution_count": 53,
   "metadata": {},
   "outputs": [
    {
     "name": "stdout",
     "output_type": "stream",
     "text": [
      "[GpuFromHost(X), Shape_i{0}(X), GpuFromHost(y), GpuAllocEmpty(TensorConstant{1}), GpuDimShuffle{1,0}(GpuFromHost.0), GpuAllocEmpty(Shape_i{0}.0), GpuGemv{inplace}(GpuAllocEmpty.0, TensorConstant{1.0}, GpuFromHost.0, theta, TensorConstant{0.0}), GpuElemwise{Sub}[(0, 1)](GpuGemv{inplace}.0, GpuFromHost.0), GpuDimShuffle{0}(GpuElemwise{Sub}[(0, 1)].0), GpuDimShuffle{x,0}(GpuElemwise{Sub}[(0, 1)].0), GpuGemv{inplace}(GpuAllocEmpty.0, TensorConstant{1.0}, GpuDimShuffle{x,0}.0, GpuDimShuffle{0}.0, TensorConstant{0.0}), GpuElemwise{Mul}[(0, 1)](CudaNdarrayConstant{[ 0.00515464]}, GpuElemwise{Sub}[(0, 1)].0), GpuDimShuffle{}(GpuGemv{inplace}.0), GpuGemv{inplace}(theta, TensorConstant{-0.019999999553}, GpuDimShuffle{1,0}.0, GpuElemwise{Mul}[(0, 1)].0, TensorConstant{1.0}), GpuElemwise{Mul}[(0, 1)](CudaNdarrayConstant{0.00515463901684}, GpuDimShuffle{}.0)]\n",
      "[Shape_i{1}(theta), GpuDimShuffle{1,0}(X), GpuGemm{no_inplace}(y, TensorConstant{1.0}, X, theta, TensorConstant{-1.0}), MakeVector{dtype='int64'}(Shape_i{1}.0, Shape_i{1}.0), GpuReshape{2}(CudaNdarrayConstant{1.0}, MakeVector{dtype='int64'}.0), GpuElemwise{mul,no_inplace}(CudaNdarrayConstant{[[ 0.00515464]]}, GpuReshape{2}.0), GpuDot22(GpuGemm{no_inplace}.0, GpuElemwise{mul,no_inplace}.0), GpuDimShuffle{1,0}(GpuElemwise{mul,no_inplace}.0), GpuDot22(GpuGemm{no_inplace}.0, GpuDimShuffle{1,0}.0), GpuGemm{inplace}(theta, TensorConstant{-0.00999999977648}, GpuDimShuffle{1,0}.0, GpuDot22.0, TensorConstant{1.0}), GpuGemm{inplace}(GpuGemm{inplace}.0, TensorConstant{-0.00999999977648}, GpuDimShuffle{1,0}.0, GpuDot22.0, TensorConstant{1.0})]\n"
     ]
    }
   ],
   "source": [
    "print( LinReg_housing.gradientDescent.maker.fgraph.toposort() )\n",
    "print( LinRegloaded_housing.gradientDescent.maker.fgraph.toposort() )\n"
   ]
  },
  {
   "cell_type": "markdown",
   "metadata": {},
   "source": [
    "#### Other (sample) datasets"
   ]
  },
  {
   "cell_type": "markdown",
   "metadata": {},
   "source": [
    "Consider *feature normalization*"
   ]
  },
  {
   "cell_type": "code",
   "execution_count": 40,
   "metadata": {
    "collapsed": true
   },
   "outputs": [],
   "source": [
    "def featureNormalize(X):\n",
    "    \"\"\"\n",
    "    FEATURENORMALIZE Normalizes the features in X  \n",
    "    FEATURENORMALIZE(X) returns a normalized version of X where  \n",
    "    the mean value of each feature is 0 and the standard deviation  \n",
    "    is 1.  This is often a good preprocessing step to do when \n",
    "    working with learning algorithms.\n",
    "    \n",
    "    \"\"\"\n",
    "    # You need to set these values correctly  \n",
    "    X_norm = (X-X.mean(axis=0))/X.std(axis=0)\n",
    "    mu = X.mean(axis=0)\n",
    "    sigma = X.std(axis=0)\n",
    "    \n",
    "    return [X_norm, mu, sigma]"
   ]
  },
  {
   "cell_type": "code",
   "execution_count": 41,
   "metadata": {
    "collapsed": true
   },
   "outputs": [],
   "source": [
    "linregdata2 = pd.read_csv('./coursera_Ng/machine-learning-ex1/ex1/ex1data2.txt', header=None)\n"
   ]
  },
  {
   "cell_type": "code",
   "execution_count": 42,
   "metadata": {},
   "outputs": [],
   "source": [
    "features = linregdata2.as_matrix().shape[1] - 1\n",
    "numberoftraining = linregdata2.as_matrix().shape[0]\n",
    "Xdat  = linregdata2.as_matrix( range(features) )\n",
    "ytest = linregdata2.as_matrix( [features])"
   ]
  },
  {
   "cell_type": "code",
   "execution_count": 46,
   "metadata": {
    "collapsed": true
   },
   "outputs": [],
   "source": [
    "[Xnorm, mus,sigmas] = featureNormalize(Xdat)"
   ]
  },
  {
   "cell_type": "code",
   "execution_count": 48,
   "metadata": {},
   "outputs": [],
   "source": [
    "LinReg_housing2 = LinearReg( features, numberoftraining, 0.01)\n",
    "processed_X = LinReg_housing2.preprocess_X( Xnorm )"
   ]
  },
  {
   "cell_type": "code",
   "execution_count": 49,
   "metadata": {},
   "outputs": [
    {
     "name": "stdout",
     "output_type": "stream",
     "text": [
      "CPU times: user 59.1 ms, sys: 8.88 ms, total: 67.9 ms\n",
      "Wall time: 66.2 ms\n"
     ]
    },
    {
     "data": {
      "text/plain": [
       "array([ 334302.125    ,   99411.4609375,    3267.0065918], dtype=float32)"
      ]
     },
     "execution_count": 49,
     "metadata": {},
     "output_type": "execute_result"
    }
   ],
   "source": [
    "%time LinReg_housing2.build_model( processed_X, ytest.flatten(), 400)"
   ]
  },
  {
   "cell_type": "code",
   "execution_count": 50,
   "metadata": {},
   "outputs": [],
   "source": [
    "LinRegloaded_housing2 = LinearReg_loaded( Xnorm, ytest, \n",
    "                                        features, numberoftraining )"
   ]
  },
  {
   "cell_type": "code",
   "execution_count": 51,
   "metadata": {},
   "outputs": [
    {
     "name": "stdout",
     "output_type": "stream",
     "text": [
      "CPU times: user 48.9 ms, sys: 2.49 ms, total: 51.3 ms\n",
      "Wall time: 45.4 ms\n"
     ]
    },
    {
     "data": {
      "text/plain": [
       "array([[ 334302.21875   ],\n",
       "       [  99411.453125  ],\n",
       "       [   3267.00976562]], dtype=float32)"
      ]
     },
     "execution_count": 51,
     "metadata": {},
     "output_type": "execute_result"
    }
   ],
   "source": [
    "%time LinRegloaded_housing2.build_model(  400)"
   ]
  },
  {
   "cell_type": "markdown",
   "metadata": {},
   "source": [
    "##### Diabetes data from `sklearn`, sci-kit learn"
   ]
  },
  {
   "cell_type": "code",
   "execution_count": null,
   "metadata": {
    "collapsed": true
   },
   "outputs": [],
   "source": []
  },
  {
   "cell_type": "code",
   "execution_count": 54,
   "metadata": {},
   "outputs": [],
   "source": [
    "# Load the diabetes dataset\n",
    "diabetes = sklearn.datasets.load_diabetes()"
   ]
  },
  {
   "cell_type": "code",
   "execution_count": 55,
   "metadata": {
    "collapsed": true
   },
   "outputs": [],
   "source": [
    "diabetes_X = diabetes.data\n",
    "diabetes_Y = diabetes.target"
   ]
  },
  {
   "cell_type": "code",
   "execution_count": 61,
   "metadata": {},
   "outputs": [],
   "source": [
    "#diabetes_X1 = diabetes_X[:,np.newaxis,2]\n",
    "diabetes_X1 = diabetes_X[:,np.newaxis, 2].astype(theano.config.floatX)\n",
    "#diabetes_Y  = diabetes_Y.reshape( diabetes_Y.shape[0], 1)\n",
    "diabetes_Y = np.vstack( diabetes_Y.astype(theano.config.floatX) )"
   ]
  },
  {
   "cell_type": "code",
   "execution_count": 63,
   "metadata": {},
   "outputs": [],
   "source": [
    "features1 = 1 \n",
    "numberoftraining = diabetes_Y.shape[0]"
   ]
  },
  {
   "cell_type": "code",
   "execution_count": 67,
   "metadata": {},
   "outputs": [],
   "source": [
    "LinReg_diabetes = LinearReg( features1, numberoftraining, 0.01)\n"
   ]
  },
  {
   "cell_type": "code",
   "execution_count": 70,
   "metadata": {},
   "outputs": [],
   "source": [
    "processed_X = LinReg_diabetes.preprocess_X( diabetes_X1 )"
   ]
  },
  {
   "cell_type": "code",
   "execution_count": 71,
   "metadata": {},
   "outputs": [
    {
     "name": "stdout",
     "output_type": "stream",
     "text": [
      "CPU times: user 753 ms, sys: 118 ms, total: 871 ms\n",
      "Wall time: 867 ms\n"
     ]
    },
    {
     "data": {
      "text/plain": [
       "array([ 152.13273621,  192.24055481], dtype=float32)"
      ]
     },
     "execution_count": 71,
     "metadata": {},
     "output_type": "execute_result"
    }
   ],
   "source": [
    "%time LinReg_diabetes.build_model( processed_X, diabetes_Y.flatten(), 10000)"
   ]
  },
  {
   "cell_type": "code",
   "execution_count": 74,
   "metadata": {
    "collapsed": true
   },
   "outputs": [],
   "source": [
    "LinRegloaded_diabetes = LinearReg_loaded( diabetes_X1, diabetes_Y, \n",
    "                                        features1, numberoftraining )"
   ]
  },
  {
   "cell_type": "code",
   "execution_count": 75,
   "metadata": {},
   "outputs": [
    {
     "name": "stdout",
     "output_type": "stream",
     "text": [
      "CPU times: user 707 ms, sys: 45.2 ms, total: 752 ms\n",
      "Wall time: 718 ms\n"
     ]
    },
    {
     "data": {
      "text/plain": [
       "array([[ 152.13198853],\n",
       "       [ 192.2406311 ]], dtype=float32)"
      ]
     },
     "execution_count": 75,
     "metadata": {},
     "output_type": "execute_result"
    }
   ],
   "source": [
    "%time LinRegloaded_diabetes.build_model(  10000)"
   ]
  },
  {
   "cell_type": "markdown",
   "metadata": {},
   "source": [
    "Multiple number of features case:"
   ]
  },
  {
   "cell_type": "code",
   "execution_count": 76,
   "metadata": {
    "collapsed": true
   },
   "outputs": [],
   "source": [
    "features = diabetes_X.shape[1]\n"
   ]
  },
  {
   "cell_type": "code",
   "execution_count": 77,
   "metadata": {
    "collapsed": true
   },
   "outputs": [],
   "source": [
    "LinReg_diabetes = LinearReg( features, numberoftraining, 0.01)\n",
    "processed_X = LinReg_diabetes.preprocess_X( diabetes_X )"
   ]
  },
  {
   "cell_type": "code",
   "execution_count": 78,
   "metadata": {},
   "outputs": [
    {
     "name": "stdout",
     "output_type": "stream",
     "text": [
      "CPU times: user 855 ms, sys: 113 ms, total: 968 ms\n",
      "Wall time: 964 ms\n"
     ]
    },
    {
     "data": {
      "text/plain": [
       "array([ 152.13273621,   40.02508163,   -5.81352949,  162.25823975,\n",
       "        117.35097504,   38.3995285 ,   24.88706589, -100.40937042,\n",
       "         99.55418396,  149.29826355,   92.1962738 ], dtype=float32)"
      ]
     },
     "execution_count": 78,
     "metadata": {},
     "output_type": "execute_result"
    }
   ],
   "source": [
    "%time LinReg_diabetes.build_model( processed_X, diabetes_Y.flatten(), 10000)"
   ]
  },
  {
   "cell_type": "code",
   "execution_count": 79,
   "metadata": {
    "collapsed": true
   },
   "outputs": [],
   "source": [
    "LinRegloaded_diabetes = LinearReg_loaded( diabetes_X, diabetes_Y, \n",
    "                                        features, numberoftraining )"
   ]
  },
  {
   "cell_type": "code",
   "execution_count": 80,
   "metadata": {},
   "outputs": [
    {
     "name": "stdout",
     "output_type": "stream",
     "text": [
      "CPU times: user 702 ms, sys: 64.4 ms, total: 766 ms\n",
      "Wall time: 728 ms\n"
     ]
    },
    {
     "data": {
      "text/plain": [
       "array([[ 152.13198853],\n",
       "       [  40.02506256],\n",
       "       [  -5.81354237],\n",
       "       [ 162.25799561],\n",
       "       [ 117.35108948],\n",
       "       [  38.39954376],\n",
       "       [  24.88703156],\n",
       "       [-100.40942383],\n",
       "       [  99.55430603],\n",
       "       [ 149.29826355],\n",
       "       [  92.1962738 ]], dtype=float32)"
      ]
     },
     "execution_count": 80,
     "metadata": {},
     "output_type": "execute_result"
    }
   ],
   "source": [
    "%time LinRegloaded_diabetes.build_model(  10000)"
   ]
  },
  {
   "cell_type": "markdown",
   "metadata": {
    "collapsed": true
   },
   "source": [
    "## `ex2` Linear Regression, on d=2 features"
   ]
  },
  {
   "cell_type": "code",
   "execution_count": 5,
   "metadata": {},
   "outputs": [
    {
     "name": "stdout",
     "output_type": "stream",
     "text": [
      "<type 'numpy.ndarray'>\n",
      "<type 'numpy.ndarray'>\n",
      "(47, 2)\n",
      "(47, 1)\n",
      "47\n",
      "[[  2.10400000e+03   3.00000000e+00]\n",
      " [  1.60000000e+03   3.00000000e+00]\n",
      " [  2.40000000e+03   3.00000000e+00]\n",
      " [  1.41600000e+03   2.00000000e+00]\n",
      " [  3.00000000e+03   4.00000000e+00]]\n",
      "[[ 399900.]\n",
      " [ 329900.]\n",
      " [ 369000.]\n",
      " [ 232000.]\n",
      " [ 539900.]]\n"
     ]
    }
   ],
   "source": [
    "data_ex1data2 = pd.read_csv('./coursera_Ng/machine-learning-ex1/ex1/ex1data2.txt', header=None)\n",
    "X_ex1data2 = data_ex1data2.iloc[:,0:2]\n",
    "y_ex1data2 = data_ex1data2.iloc[:,2]\n",
    "m_ex1data2 = y_ex1data2.shape[0]\n",
    "X_ex1data2=X_ex1data2.values.astype(np.float32)\n",
    "y_ex1data2=y_ex1data2.values.reshape((m_ex1data2,1)).astype(np.float32)\n",
    "print(type(X_ex1data2))\n",
    "print(type(y_ex1data2))\n",
    "print(X_ex1data2.shape)\n",
    "print(y_ex1data2.shape)\n",
    "print(m_ex1data2)\n",
    "print(X_ex1data2[:5])\n",
    "print(y_ex1data2[:5])"
   ]
  },
  {
   "cell_type": "code",
   "execution_count": 46,
   "metadata": {},
   "outputs": [
    {
     "data": {
      "text/plain": [
       "0.99999988"
      ]
     },
     "execution_count": 46,
     "metadata": {},
     "output_type": "execute_result"
    }
   ],
   "source": [
    "((X_ex1data2[:,1] - X_ex1data2[:,1].mean())/( X_ex1data2[:,1].std()) ).std()"
   ]
  },
  {
   "cell_type": "code",
   "execution_count": 49,
   "metadata": {},
   "outputs": [
    {
     "name": "stdout",
     "output_type": "stream",
     "text": [
      "-7.10183e-08\n",
      "1.0\n",
      "2.69489e-08\n",
      "1.0\n"
     ]
    }
   ],
   "source": [
    "# feature Normalize\n",
    "#X_ex1data2_norm = sklearn.preprocessing.Normalizer.transform(X_ex1data2 )\n",
    "X_ex1data2_norm = (X_ex1data2  - np.mean(X_ex1data2, axis=0)) / np.std(X_ex1data2, axis=0)\n",
    "print(X_ex1data2_norm[:,0].mean())\n",
    "print(X_ex1data2_norm[:,0].std())\n",
    "print(X_ex1data2_norm[:,1].mean())\n",
    "print(X_ex1data2_norm[:,1].std())"
   ]
  },
  {
   "cell_type": "code",
   "execution_count": 51,
   "metadata": {},
   "outputs": [],
   "source": [
    "# X_ex1data2_norm[:5];"
   ]
  },
  {
   "cell_type": "code",
   "execution_count": 61,
   "metadata": {},
   "outputs": [],
   "source": [
    "X=T.matrix(dtype=theano.config.floatX)\n",
    "y=T.matrix(dtype=theano.config.floatX)\n",
    "\n",
    "Theta=theano.shared(np.zeros((2,1)).astype(theano.config.floatX))\n",
    "b = theano.shared(np.zeros(1).astype(theano.config.floatX))"
   ]
  },
  {
   "cell_type": "code",
   "execution_count": 16,
   "metadata": {},
   "outputs": [
    {
     "name": "stdout",
     "output_type": "stream",
     "text": [
      "(1,)\n"
     ]
    }
   ],
   "source": [
    "print(b.get_value().shape)"
   ]
  },
  {
   "cell_type": "code",
   "execution_count": 62,
   "metadata": {
    "collapsed": true
   },
   "outputs": [],
   "source": [
    "yhat = T.dot( X, Theta) + b"
   ]
  },
  {
   "cell_type": "code",
   "execution_count": 63,
   "metadata": {},
   "outputs": [],
   "source": [
    "# L2 norm\n",
    "J = np.cast[theano.config.floatX](0.5)*T.mean( T.sqr( yhat-y))"
   ]
  },
  {
   "cell_type": "code",
   "execution_count": 64,
   "metadata": {},
   "outputs": [],
   "source": [
    "alpha=0.01  # learning rate\n",
    "# sandbox.cuda.basic_ops.gpu_from_host\n",
    "updateThetab = [ Theta-np.float32(alpha)*T.grad(J,Theta), b-np.float32(alpha)*T.grad(J,b)]\n",
    "gradientDescent_step = theano.function(inputs=[X,y], \n",
    "                                          outputs=J,\n",
    "                                          updates = zip([Theta,b],updateThetab) )\n"
   ]
  },
  {
   "cell_type": "code",
   "execution_count": 66,
   "metadata": {},
   "outputs": [],
   "source": [
    "num_iters =400\n",
    "JList=[]\n",
    "for iter in range(num_iters):\n",
    "    err = gradientDescent_step(X_ex1data2_norm,y_ex1data2)\n",
    "    JList.append(err)"
   ]
  },
  {
   "cell_type": "code",
   "execution_count": 67,
   "metadata": {},
   "outputs": [
    {
     "name": "stdout",
     "output_type": "stream",
     "text": [
      "[[ 99411.44601356]\n",
      " [  3267.01771421]]\n",
      "[ 334302.0699632]\n"
     ]
    }
   ],
   "source": [
    "# Final mode:\n",
    "print(Theta.get_value())\n",
    "print(b.get_value())"
   ]
  },
  {
   "cell_type": "code",
   "execution_count": 72,
   "metadata": {},
   "outputs": [
    {
     "data": {
      "image/png": "[encoded data removed]",
      "text/plain": [
       "<matplotlib.figure.Figure at 0x7fea546723d0>"
      ]
     },
     "metadata": {},
     "output_type": "display_data"
    }
   ],
   "source": [
    "# JList[-10:]\n",
    "plt.plot(JList)\n",
    "plt.show()"
   ]
  },
  {
   "cell_type": "markdown",
   "metadata": {},
   "source": [
    "# Multi-class Classification "
   ]
  },
  {
   "cell_type": "markdown",
   "metadata": {},
   "source": [
    "cf. `ex3`, Programming Exercise 3: Multi-class Classification and Neural Networks, Machine Learning"
   ]
  },
  {
   "cell_type": "markdown",
   "metadata": {},
   "source": [
    "## 1 Multi-class Classification"
   ]
  },
  {
   "cell_type": "code",
   "execution_count": 83,
   "metadata": {},
   "outputs": [
    {
     "data": {
      "text/plain": [
       "'/home/topolo/PropD/MLgrabbag'"
      ]
     },
     "execution_count": 83,
     "metadata": {},
     "output_type": "execute_result"
    }
   ],
   "source": [
    "os.getcwd()"
   ]
  },
  {
   "cell_type": "code",
   "execution_count": 86,
   "metadata": {},
   "outputs": [
    {
     "data": {
      "text/plain": [
       "['ex3.pdf', 'ex3']"
      ]
     },
     "execution_count": 86,
     "metadata": {},
     "output_type": "execute_result"
    }
   ],
   "source": [
    "os.listdir( './coursera_Ng/machine-learning-ex3/' )"
   ]
  },
  {
   "cell_type": "code",
   "execution_count": 87,
   "metadata": {},
   "outputs": [
    {
     "data": {
      "text/plain": [
       "['ex3data1.mat',\n",
       " 'submit.m',\n",
       " 'sigmoid.m',\n",
       " 'lrCostFunction.m',\n",
       " 'predictOneVsAll.m',\n",
       " 'oneVsAll.m',\n",
       " 'predict.m',\n",
       " 'ex3.m',\n",
       " 'lib',\n",
       " 'displayData.m',\n",
       " 'ex3_nn.m',\n",
       " 'fmincg.m',\n",
       " 'ex3weights.mat']"
      ]
     },
     "execution_count": 87,
     "metadata": {},
     "output_type": "execute_result"
    }
   ],
   "source": [
    "os.listdir( './coursera_Ng/machine-learning-ex3/ex3' )"
   ]
  },
  {
   "cell_type": "code",
   "execution_count": 90,
   "metadata": {},
   "outputs": [],
   "source": [
    "# Load saved matrices from file \n",
    "multiclscls_data = scipy.io.loadmat('./coursera_Ng/machine-learning-ex3/ex3/ex3data1.mat')"
   ]
  },
  {
   "cell_type": "markdown",
   "metadata": {},
   "source": [
    "import the classes from `ML`\n"
   ]
  },
  {
   "cell_type": "code",
   "execution_count": 9,
   "metadata": {
    "collapsed": true
   },
   "outputs": [],
   "source": [
    "import sys\n",
    "import os"
   ]
  },
  {
   "cell_type": "code",
   "execution_count": 9,
   "metadata": {},
   "outputs": [
    {
     "data": {
      "text/plain": [
       "'/home/topolo/PropD/MLgrabbag'"
      ]
     },
     "execution_count": 9,
     "metadata": {},
     "output_type": "execute_result"
    }
   ],
   "source": [
    "os.getcwd()"
   ]
  },
  {
   "cell_type": "code",
   "execution_count": 10,
   "metadata": {},
   "outputs": [],
   "source": [
    "#sys.path.append( os.getcwd() + '/ML')\n",
    "sys.path.append( os.getcwd() + '/ML' )"
   ]
  },
  {
   "cell_type": "code",
   "execution_count": 11,
   "metadata": {},
   "outputs": [],
   "source": [
    "from gradDes import LogReg"
   ]
  },
  {
   "cell_type": "code",
   "execution_count": 12,
   "metadata": {
    "collapsed": true
   },
   "outputs": [],
   "source": [
    "# Test case for Cost function J_{\\theta} with regularization\n",
    "\n",
    "theta_t = np.vstack( np.array( [-2, -1, 1, 2]) )\n",
    "X_t = np.array( [i/10. for i in range(1,16)]).reshape((3,5)).T\n",
    "#X_t = np.hstack( ( np.ones((5,1)), X_t) ) # no need to preprocess the input data X with column of 1's\n",
    "y_t = np.vstack( np.array( [1,0,1,0,1]))\n"
   ]
  },
  {
   "cell_type": "code",
   "execution_count": 13,
   "metadata": {},
   "outputs": [],
   "source": [
    "MulClsCls_digits = LogReg( X_t, y_t, 3,5,0.01, 3.  )"
   ]
  },
  {
   "cell_type": "code",
   "execution_count": 14,
   "metadata": {},
   "outputs": [
    {
     "data": {
      "text/plain": [
       "CudaNdarray(0.125)"
      ]
     },
     "execution_count": 14,
     "metadata": {},
     "output_type": "execute_result"
    }
   ],
   "source": [
    "MulClsCls_digits.calculate_cost()"
   ]
  },
  {
   "cell_type": "code",
   "execution_count": 19,
   "metadata": {},
   "outputs": [
    {
     "ename": "AttributeError",
     "evalue": "'CudaNdarrayVariable' object has no attribute 'get_value'",
     "output_type": "error",
     "traceback": [
      "\u001b[1;31m---------------------------------------------------------------------------\u001b[0m",
      "\u001b[1;31mAttributeError\u001b[0m                            Traceback (most recent call last)",
      "\u001b[1;32m<ipython-input-19-f79030e398ab>\u001b[0m in \u001b[0;36m<module>\u001b[1;34m()\u001b[0m\n\u001b[1;32m----> 1\u001b[1;33m \u001b[0mMulClsCls_digits\u001b[0m\u001b[1;33m.\u001b[0m\u001b[0mz\u001b[0m\u001b[1;33m.\u001b[0m\u001b[0mget_value\u001b[0m\u001b[1;33m(\u001b[0m\u001b[1;33m)\u001b[0m\u001b[1;33m\u001b[0m\u001b[0m\n\u001b[0m",
      "\u001b[1;31mAttributeError\u001b[0m: 'CudaNdarrayVariable' object has no attribute 'get_value'"
     ]
    }
   ],
   "source": [
    "MulClsCls_digits.z.get_value()"
   ]
  },
  {
   "cell_type": "code",
   "execution_count": 21,
   "metadata": {},
   "outputs": [
    {
     "name": "stdout",
     "output_type": "stream",
     "text": [
      "[[ 1.          0.1         0.60000002  1.10000002]\n",
      " [ 1.          0.2         0.69999999  1.20000005]\n",
      " [ 1.          0.30000001  0.80000001  1.29999995]\n",
      " [ 1.          0.40000001  0.89999998  1.39999998]\n",
      " [ 1.          0.5         1.          1.5       ]]\n"
     ]
    },
    {
     "data": {
      "text/plain": [
       "array([[ 1.],\n",
       "       [ 0.],\n",
       "       [ 1.],\n",
       "       [ 0.],\n",
       "       [ 1.]], dtype=float32)"
      ]
     },
     "execution_count": 21,
     "metadata": {},
     "output_type": "execute_result"
    }
   ],
   "source": [
    "print( MulClsCls_digits.X.get_value() )\n",
    "MulClsCls_digits.y.get_value()"
   ]
  },
  {
   "cell_type": "code",
   "execution_count": 23,
   "metadata": {},
   "outputs": [],
   "source": [
    "calc_z_test = theano.function([], MulClsCls_digits.z)"
   ]
  },
  {
   "cell_type": "code",
   "execution_count": 24,
   "metadata": {},
   "outputs": [
    {
     "data": {
      "text/plain": [
       "CudaNdarray([[ 0.]\n",
       " [ 0.]\n",
       " [ 0.]\n",
       " [ 0.]\n",
       " [ 0.]])"
      ]
     },
     "execution_count": 24,
     "metadata": {},
     "output_type": "execute_result"
    }
   ],
   "source": [
    "calc_z_test()"
   ]
  },
  {
   "cell_type": "code",
   "execution_count": 25,
   "metadata": {
    "collapsed": true
   },
   "outputs": [],
   "source": [
    "MulClsCls_digits.theta.set_value( theta_t.astype('float32') )"
   ]
  },
  {
   "cell_type": "code",
   "execution_count": 27,
   "metadata": {},
   "outputs": [
    {
     "data": {
      "text/plain": [
       "CudaNdarray([[ 0.70000017]\n",
       " [ 0.9000001 ]\n",
       " [ 1.0999999 ]\n",
       " [ 1.29999983]\n",
       " [ 1.5       ]])"
      ]
     },
     "execution_count": 27,
     "metadata": {},
     "output_type": "execute_result"
    }
   ],
   "source": [
    "calc_z_test()"
   ]
  },
  {
   "cell_type": "code",
   "execution_count": 35,
   "metadata": {},
   "outputs": [
    {
     "data": {
      "text/plain": [
       "CudaNdarray(1.93287348747)"
      ]
     },
     "execution_count": 35,
     "metadata": {},
     "output_type": "execute_result"
    }
   ],
   "source": [
    "MulClsCls_digits.calculate_cost()"
   ]
  },
  {
   "cell_type": "code",
   "execution_count": 43,
   "metadata": {},
   "outputs": [
    {
     "name": "stdout",
     "output_type": "stream",
     "text": [
      "[[ 0.66818777]\n",
      " [ 0.7109495 ]\n",
      " [ 0.75026011]\n",
      " [ 0.78583498]\n",
      " [ 0.81757448]]\n",
      "[[ 0.13287343]]\n"
     ]
    },
    {
     "data": {
      "text/plain": [
       "array([[ 1.8]])"
      ]
     },
     "execution_count": 43,
     "metadata": {},
     "output_type": "execute_result"
    }
   ],
   "source": [
    "print( 1/(1+np.exp( np.dot( -np.hstack( ( np.ones((5,1)), X_t) ), theta_t) ) )  )\n",
    "h_test = 1/(1+np.exp( np.dot( -np.hstack( ( np.ones((5,1)), X_t) ), theta_t) ) ) \n",
    "print( np.dot( (h_test - y_t).T, h_test- y_t) * 0.5/5 ) # non-regularized J_theta cost term\n",
    "np.dot( theta_t[1:].T, theta_t[1:]) * 3 / (2.* 5)\n"
   ]
  },
  {
   "cell_type": "code",
   "execution_count": 33,
   "metadata": {},
   "outputs": [
    {
     "data": {
      "text/plain": [
       "array([[ 0.66818786],\n",
       "       [ 0.71094954],\n",
       "       [ 0.75026011],\n",
       "       [ 0.78583503],\n",
       "       [ 0.81757444]], dtype=float32)"
      ]
     },
     "execution_count": 33,
     "metadata": {},
     "output_type": "execute_result"
    }
   ],
   "source": [
    "MulClsCls_digits.predict()"
   ]
  },
  {
   "cell_type": "code",
   "execution_count": null,
   "metadata": {
    "collapsed": true
   },
   "outputs": [],
   "source": [
    "MulClsCls_digit"
   ]
  },
  {
   "cell_type": "code",
   "execution_count": 44,
   "metadata": {},
   "outputs": [
    {
     "data": {
      "text/plain": [
       "'float32'"
      ]
     },
     "execution_count": 44,
     "metadata": {},
     "output_type": "execute_result"
    }
   ],
   "source": [
    "theano.config.floatX"
   ]
  },
  {
   "cell_type": "code",
   "execution_count": null,
   "metadata": {
    "collapsed": true
   },
   "outputs": [],
   "source": []
  },
  {
   "cell_type": "code",
   "execution_count": null,
   "metadata": {
    "collapsed": true
   },
   "outputs": [],
   "source": []
  },
  {
   "cell_type": "markdown",
   "metadata": {},
   "source": [
    "# Neural Networks"
   ]
  },
  {
   "cell_type": "markdown",
   "metadata": {},
   "source": [
    "## Model representation"
   ]
  },
  {
   "cell_type": "markdown",
   "metadata": {},
   "source": [
    "cf. 2 Neural Networks, 2.1 Model representation, `ex3.pdf`"
   ]
  },
  {
   "cell_type": "code",
   "execution_count": 45,
   "metadata": {},
   "outputs": [
    {
     "data": {
      "text/plain": [
       "'/home/topolo/PropD/MLgrabbag'"
      ]
     },
     "execution_count": 45,
     "metadata": {},
     "output_type": "execute_result"
    }
   ],
   "source": [
    "os.getcwd()"
   ]
  },
  {
   "cell_type": "code",
   "execution_count": 46,
   "metadata": {},
   "outputs": [
    {
     "data": {
      "text/plain": [
       "['ex3.pdf', 'ex3']"
      ]
     },
     "execution_count": 46,
     "metadata": {},
     "output_type": "execute_result"
    }
   ],
   "source": [
    "os.listdir( './coursera_Ng/machine-learning-ex3/' )"
   ]
  },
  {
   "cell_type": "code",
   "execution_count": 47,
   "metadata": {},
   "outputs": [
    {
     "data": {
      "text/plain": [
       "['ex3data1.mat',\n",
       " 'submit.m',\n",
       " 'sigmoid.m',\n",
       " 'token.mat',\n",
       " 'lrCostFunction.m',\n",
       " 'predictOneVsAll.m',\n",
       " 'oneVsAll.m',\n",
       " 'predict.m',\n",
       " 'ex3.m',\n",
       " 'lib',\n",
       " 'displayData.m',\n",
       " 'ex3_nn.m',\n",
       " 'fmincg.m',\n",
       " 'ex3weights.mat']"
      ]
     },
     "execution_count": 47,
     "metadata": {},
     "output_type": "execute_result"
    }
   ],
   "source": [
    "os.listdir( './coursera_Ng/machine-learning-ex3/ex3/' )"
   ]
  },
  {
   "cell_type": "markdown",
   "metadata": {},
   "source": [
    "$ \\Theta_1, \\Theta_2 $"
   ]
  },
  {
   "cell_type": "code",
   "execution_count": 48,
   "metadata": {
    "collapsed": true
   },
   "outputs": [],
   "source": [
    "# Load saved matrices from file \n",
    "nn3_data = scipy.io.loadmat('./coursera_Ng/machine-learning-ex3/ex3/ex3weights.mat')"
   ]
  },
  {
   "cell_type": "code",
   "execution_count": 53,
   "metadata": {},
   "outputs": [
    {
     "name": "stdout",
     "output_type": "stream",
     "text": [
      "['Theta2', '__version__', '__header__', 'Theta1', '__globals__']\n",
      "<type 'numpy.ndarray'>\n",
      "<type 'numpy.ndarray'>\n",
      "(25, 401)\n",
      "(10, 26)\n"
     ]
    }
   ],
   "source": [
    "print( nn3_data.keys() )\n",
    "print( type( nn3_data['Theta1']) )\n",
    "print( type( nn3_data['Theta2']) )\n",
    "print( nn3_data['Theta1'].shape )\n",
    "print( nn3_data['Theta2'].shape )"
   ]
  },
  {
   "cell_type": "code",
   "execution_count": 54,
   "metadata": {},
   "outputs": [
    {
     "ename": "NameError",
     "evalue": "name 'Theta1' is not defined",
     "output_type": "error",
     "traceback": [
      "\u001b[1;31m---------------------------------------------------------------------------\u001b[0m",
      "\u001b[1;31mNameError\u001b[0m                                 Traceback (most recent call last)",
      "\u001b[1;32m<ipython-input-54-ff0b751d0b88>\u001b[0m in \u001b[0;36m<module>\u001b[1;34m()\u001b[0m\n\u001b[1;32m----> 1\u001b[1;33m \u001b[0mTheta1\u001b[0m\u001b[1;33m[\u001b[0m\u001b[1;36m0\u001b[0m\u001b[1;33m]\u001b[0m\u001b[1;33m\u001b[0m\u001b[0m\n\u001b[0m",
      "\u001b[1;31mNameError\u001b[0m: name 'Theta1' is not defined"
     ]
    }
   ],
   "source": [
    "Theta1[0]"
   ]
  },
  {
   "cell_type": "markdown",
   "metadata": {},
   "source": [
    "## Feedforward"
   ]
  },
  {
   "cell_type": "code",
   "execution_count": 61,
   "metadata": {},
   "outputs": [
    {
     "ename": "ImportError",
     "evalue": "No module named tikzmagic",
     "output_type": "error",
     "traceback": [
      "\u001b[1;31m---------------------------------------------------------------------------\u001b[0m",
      "\u001b[1;31mImportError\u001b[0m                               Traceback (most recent call last)",
      "\u001b[1;32m<ipython-input-61-445a5d6380b0>\u001b[0m in \u001b[0;36m<module>\u001b[1;34m()\u001b[0m\n\u001b[1;32m----> 1\u001b[1;33m \u001b[0mget_ipython\u001b[0m\u001b[1;33m(\u001b[0m\u001b[1;33m)\u001b[0m\u001b[1;33m.\u001b[0m\u001b[0mmagic\u001b[0m\u001b[1;33m(\u001b[0m\u001b[1;34mu'load_ext tikzmagic'\u001b[0m\u001b[1;33m)\u001b[0m\u001b[1;33m\u001b[0m\u001b[0m\n\u001b[0m",
      "\u001b[1;32m/home/topolo/Public/anaconda2/lib/python2.7/site-packages/IPython/core/interactiveshell.pyc\u001b[0m in \u001b[0;36mmagic\u001b[1;34m(self, arg_s)\u001b[0m\n\u001b[0;32m   2161\u001b[0m         \u001b[0mmagic_name\u001b[0m\u001b[1;33m,\u001b[0m \u001b[0m_\u001b[0m\u001b[1;33m,\u001b[0m \u001b[0mmagic_arg_s\u001b[0m \u001b[1;33m=\u001b[0m \u001b[0marg_s\u001b[0m\u001b[1;33m.\u001b[0m\u001b[0mpartition\u001b[0m\u001b[1;33m(\u001b[0m\u001b[1;34m' '\u001b[0m\u001b[1;33m)\u001b[0m\u001b[1;33m\u001b[0m\u001b[0m\n\u001b[0;32m   2162\u001b[0m         \u001b[0mmagic_name\u001b[0m \u001b[1;33m=\u001b[0m \u001b[0mmagic_name\u001b[0m\u001b[1;33m.\u001b[0m\u001b[0mlstrip\u001b[0m\u001b[1;33m(\u001b[0m\u001b[0mprefilter\u001b[0m\u001b[1;33m.\u001b[0m\u001b[0mESC_MAGIC\u001b[0m\u001b[1;33m)\u001b[0m\u001b[1;33m\u001b[0m\u001b[0m\n\u001b[1;32m-> 2163\u001b[1;33m         \u001b[1;32mreturn\u001b[0m \u001b[0mself\u001b[0m\u001b[1;33m.\u001b[0m\u001b[0mrun_line_magic\u001b[0m\u001b[1;33m(\u001b[0m\u001b[0mmagic_name\u001b[0m\u001b[1;33m,\u001b[0m \u001b[0mmagic_arg_s\u001b[0m\u001b[1;33m)\u001b[0m\u001b[1;33m\u001b[0m\u001b[0m\n\u001b[0m\u001b[0;32m   2164\u001b[0m \u001b[1;33m\u001b[0m\u001b[0m\n\u001b[0;32m   2165\u001b[0m     \u001b[1;31m#-------------------------------------------------------------------------\u001b[0m\u001b[1;33m\u001b[0m\u001b[1;33m\u001b[0m\u001b[0m\n",
      "\u001b[1;32m/home/topolo/Public/anaconda2/lib/python2.7/site-packages/IPython/core/interactiveshell.pyc\u001b[0m in \u001b[0;36mrun_line_magic\u001b[1;34m(self, magic_name, line)\u001b[0m\n\u001b[0;32m   2082\u001b[0m                 \u001b[0mkwargs\u001b[0m\u001b[1;33m[\u001b[0m\u001b[1;34m'local_ns'\u001b[0m\u001b[1;33m]\u001b[0m \u001b[1;33m=\u001b[0m \u001b[0msys\u001b[0m\u001b[1;33m.\u001b[0m\u001b[0m_getframe\u001b[0m\u001b[1;33m(\u001b[0m\u001b[0mstack_depth\u001b[0m\u001b[1;33m)\u001b[0m\u001b[1;33m.\u001b[0m\u001b[0mf_locals\u001b[0m\u001b[1;33m\u001b[0m\u001b[0m\n\u001b[0;32m   2083\u001b[0m             \u001b[1;32mwith\u001b[0m \u001b[0mself\u001b[0m\u001b[1;33m.\u001b[0m\u001b[0mbuiltin_trap\u001b[0m\u001b[1;33m:\u001b[0m\u001b[1;33m\u001b[0m\u001b[0m\n\u001b[1;32m-> 2084\u001b[1;33m                 \u001b[0mresult\u001b[0m \u001b[1;33m=\u001b[0m \u001b[0mfn\u001b[0m\u001b[1;33m(\u001b[0m\u001b[1;33m*\u001b[0m\u001b[0margs\u001b[0m\u001b[1;33m,\u001b[0m\u001b[1;33m**\u001b[0m\u001b[0mkwargs\u001b[0m\u001b[1;33m)\u001b[0m\u001b[1;33m\u001b[0m\u001b[0m\n\u001b[0m\u001b[0;32m   2085\u001b[0m             \u001b[1;32mreturn\u001b[0m \u001b[0mresult\u001b[0m\u001b[1;33m\u001b[0m\u001b[0m\n\u001b[0;32m   2086\u001b[0m \u001b[1;33m\u001b[0m\u001b[0m\n",
      "\u001b[1;32m<decorator-gen-64>\u001b[0m in \u001b[0;36mload_ext\u001b[1;34m(self, module_str)\u001b[0m\n",
      "\u001b[1;32m/home/topolo/Public/anaconda2/lib/python2.7/site-packages/IPython/core/magic.pyc\u001b[0m in \u001b[0;36m<lambda>\u001b[1;34m(f, *a, **k)\u001b[0m\n\u001b[0;32m    191\u001b[0m     \u001b[1;31m# but it's overkill for just that one bit of state.\u001b[0m\u001b[1;33m\u001b[0m\u001b[1;33m\u001b[0m\u001b[0m\n\u001b[0;32m    192\u001b[0m     \u001b[1;32mdef\u001b[0m \u001b[0mmagic_deco\u001b[0m\u001b[1;33m(\u001b[0m\u001b[0marg\u001b[0m\u001b[1;33m)\u001b[0m\u001b[1;33m:\u001b[0m\u001b[1;33m\u001b[0m\u001b[0m\n\u001b[1;32m--> 193\u001b[1;33m         \u001b[0mcall\u001b[0m \u001b[1;33m=\u001b[0m \u001b[1;32mlambda\u001b[0m \u001b[0mf\u001b[0m\u001b[1;33m,\u001b[0m \u001b[1;33m*\u001b[0m\u001b[0ma\u001b[0m\u001b[1;33m,\u001b[0m \u001b[1;33m**\u001b[0m\u001b[0mk\u001b[0m\u001b[1;33m:\u001b[0m \u001b[0mf\u001b[0m\u001b[1;33m(\u001b[0m\u001b[1;33m*\u001b[0m\u001b[0ma\u001b[0m\u001b[1;33m,\u001b[0m \u001b[1;33m**\u001b[0m\u001b[0mk\u001b[0m\u001b[1;33m)\u001b[0m\u001b[1;33m\u001b[0m\u001b[0m\n\u001b[0m\u001b[0;32m    194\u001b[0m \u001b[1;33m\u001b[0m\u001b[0m\n\u001b[0;32m    195\u001b[0m         \u001b[1;32mif\u001b[0m \u001b[0mcallable\u001b[0m\u001b[1;33m(\u001b[0m\u001b[0marg\u001b[0m\u001b[1;33m)\u001b[0m\u001b[1;33m:\u001b[0m\u001b[1;33m\u001b[0m\u001b[0m\n",
      "\u001b[1;32m/home/topolo/Public/anaconda2/lib/python2.7/site-packages/IPython/core/magics/extension.pyc\u001b[0m in \u001b[0;36mload_ext\u001b[1;34m(self, module_str)\u001b[0m\n\u001b[0;32m     64\u001b[0m         \u001b[1;32mif\u001b[0m \u001b[1;32mnot\u001b[0m \u001b[0mmodule_str\u001b[0m\u001b[1;33m:\u001b[0m\u001b[1;33m\u001b[0m\u001b[0m\n\u001b[0;32m     65\u001b[0m             \u001b[1;32mraise\u001b[0m \u001b[0mUsageError\u001b[0m\u001b[1;33m(\u001b[0m\u001b[1;34m'Missing module name.'\u001b[0m\u001b[1;33m)\u001b[0m\u001b[1;33m\u001b[0m\u001b[0m\n\u001b[1;32m---> 66\u001b[1;33m         \u001b[0mres\u001b[0m \u001b[1;33m=\u001b[0m \u001b[0mself\u001b[0m\u001b[1;33m.\u001b[0m\u001b[0mshell\u001b[0m\u001b[1;33m.\u001b[0m\u001b[0mextension_manager\u001b[0m\u001b[1;33m.\u001b[0m\u001b[0mload_extension\u001b[0m\u001b[1;33m(\u001b[0m\u001b[0mmodule_str\u001b[0m\u001b[1;33m)\u001b[0m\u001b[1;33m\u001b[0m\u001b[0m\n\u001b[0m\u001b[0;32m     67\u001b[0m \u001b[1;33m\u001b[0m\u001b[0m\n\u001b[0;32m     68\u001b[0m         \u001b[1;32mif\u001b[0m \u001b[0mres\u001b[0m \u001b[1;33m==\u001b[0m \u001b[1;34m'already loaded'\u001b[0m\u001b[1;33m:\u001b[0m\u001b[1;33m\u001b[0m\u001b[0m\n",
      "\u001b[1;32m/home/topolo/Public/anaconda2/lib/python2.7/site-packages/IPython/core/extensions.pyc\u001b[0m in \u001b[0;36mload_extension\u001b[1;34m(self, module_str)\u001b[0m\n\u001b[0;32m     82\u001b[0m             \u001b[1;32mif\u001b[0m \u001b[0mmodule_str\u001b[0m \u001b[1;32mnot\u001b[0m \u001b[1;32min\u001b[0m \u001b[0msys\u001b[0m\u001b[1;33m.\u001b[0m\u001b[0mmodules\u001b[0m\u001b[1;33m:\u001b[0m\u001b[1;33m\u001b[0m\u001b[0m\n\u001b[0;32m     83\u001b[0m                 \u001b[1;32mwith\u001b[0m \u001b[0mprepended_to_syspath\u001b[0m\u001b[1;33m(\u001b[0m\u001b[0mself\u001b[0m\u001b[1;33m.\u001b[0m\u001b[0mipython_extension_dir\u001b[0m\u001b[1;33m)\u001b[0m\u001b[1;33m:\u001b[0m\u001b[1;33m\u001b[0m\u001b[0m\n\u001b[1;32m---> 84\u001b[1;33m                     \u001b[0m__import__\u001b[0m\u001b[1;33m(\u001b[0m\u001b[0mmodule_str\u001b[0m\u001b[1;33m)\u001b[0m\u001b[1;33m\u001b[0m\u001b[0m\n\u001b[0m\u001b[0;32m     85\u001b[0m             \u001b[0mmod\u001b[0m \u001b[1;33m=\u001b[0m \u001b[0msys\u001b[0m\u001b[1;33m.\u001b[0m\u001b[0mmodules\u001b[0m\u001b[1;33m[\u001b[0m\u001b[0mmodule_str\u001b[0m\u001b[1;33m]\u001b[0m\u001b[1;33m\u001b[0m\u001b[0m\n\u001b[0;32m     86\u001b[0m             \u001b[1;32mif\u001b[0m \u001b[0mself\u001b[0m\u001b[1;33m.\u001b[0m\u001b[0m_call_load_ipython_extension\u001b[0m\u001b[1;33m(\u001b[0m\u001b[0mmod\u001b[0m\u001b[1;33m)\u001b[0m\u001b[1;33m:\u001b[0m\u001b[1;33m\u001b[0m\u001b[0m\n",
      "\u001b[1;31mImportError\u001b[0m: No module named tikzmagic"
     ]
    }
   ],
   "source": [
    "%load_ext tikzmagic"
   ]
  },
  {
   "cell_type": "markdown",
   "metadata": {},
   "source": [
    "$$  \n",
    "\\begin{tikzpicture}\n",
    "  \\matrix (m) [matrix of math nodes, row sep=3em, column sep=4em, minimum width=2em]\n",
    "  {\n",
    "    \\mathbb{R}^{s_l}  &  \\mathbb{R}^{ s_l +1 }   & \\mathbb{R}^{s_{l+1} } & \\mathbb{R}^{s_{l+1} }  \\\\\n",
    "a^{(l)} & (a_0^{(l)} = 1, a^{(l)} ) & z^{(l+1)} & g(z^{(l+1)}) = a^{(l+1)} \\\\\n",
    "  };\n",
    "  \\path[->]\n",
    "  (m-1-1) edge node [above] {$a_0^{(l)}=1$} (m-1-2)\n",
    "  (m-1-2) edge node [above] {$\\Theta^{(l)}$} (m-1-3)\n",
    "  (m-1-3) edge node [above] {$g$} (m-1-4) \n",
    "  ;\n",
    "  \\path[|->]\n",
    "  (m-2-1) edge node [above] {$a_0^{(l)}=1$} (m-2-2)\n",
    "  (m-2-2) edge node [above] {$\\Theta^{(l)}$} (m-2-3)\n",
    "  (m-2-3) edge node [above] {$g$} (m-2-4) \n",
    "  ;\n",
    "\\end{tikzpicture}  \n",
    "$$"
   ]
  },
  {
   "cell_type": "code",
   "execution_count": null,
   "metadata": {
    "collapsed": true
   },
   "outputs": [],
   "source": []
  },
  {
   "cell_type": "code",
   "execution_count": 66,
   "metadata": {},
   "outputs": [
    {
     "ename": "RuntimeError",
     "evalue": "Cuda error 'unspecified launch failure' while copying %lli data element to device memory",
     "output_type": "error",
     "traceback": [
      "\u001b[1;31m---------------------------------------------------------------------------\u001b[0m",
      "\u001b[1;31mRuntimeError\u001b[0m                              Traceback (most recent call last)",
      "\u001b[1;32m<ipython-input-66-ca1c7934296c>\u001b[0m in \u001b[0;36m<module>\u001b[1;34m()\u001b[0m\n\u001b[0;32m      2\u001b[0m \u001b[0ms_l\u001b[0m \u001b[1;33m=\u001b[0m \u001b[1;36m400\u001b[0m \u001b[1;31m# (layer) size of layer l, i.e. number of nodes, units in layer l\u001b[0m\u001b[1;33m\u001b[0m\u001b[0m\n\u001b[0;32m      3\u001b[0m \u001b[0ms_lp1\u001b[0m \u001b[1;33m=\u001b[0m \u001b[1;36m25\u001b[0m\u001b[1;33m\u001b[0m\u001b[0m\n\u001b[1;32m----> 4\u001b[1;33m \u001b[0mal\u001b[0m \u001b[1;33m=\u001b[0m \u001b[0mtheano\u001b[0m\u001b[1;33m.\u001b[0m\u001b[0mshared\u001b[0m\u001b[1;33m(\u001b[0m \u001b[0mnp\u001b[0m\u001b[1;33m.\u001b[0m\u001b[0mrandom\u001b[0m\u001b[1;33m.\u001b[0m\u001b[0mrandn\u001b[0m\u001b[1;33m(\u001b[0m\u001b[0ms_l\u001b[0m\u001b[1;33m+\u001b[0m\u001b[1;36m1\u001b[0m\u001b[1;33m,\u001b[0m\u001b[1;36m1\u001b[0m\u001b[1;33m)\u001b[0m\u001b[1;33m.\u001b[0m\u001b[0mastype\u001b[0m\u001b[1;33m(\u001b[0m\u001b[1;34m'float32'\u001b[0m\u001b[1;33m)\u001b[0m\u001b[1;33m,\u001b[0m \u001b[0mname\u001b[0m\u001b[1;33m=\u001b[0m\u001b[1;34m\"al\"\u001b[0m\u001b[1;33m)\u001b[0m\u001b[1;33m\u001b[0m\u001b[0m\n\u001b[0m\u001b[0;32m      5\u001b[0m \u001b[1;31m#alp1 = theano.shared( np.random.randn(s_lp1,1).astype('float32'), name=\"al\")\u001b[0m\u001b[1;33m\u001b[0m\u001b[1;33m\u001b[0m\u001b[0m\n\u001b[0;32m      6\u001b[0m \u001b[1;31m#Thetal = theano.shared( np.random.randn( s_lp1,s_l+1).astype('float32') , name=\"Thetal\")\u001b[0m\u001b[1;33m\u001b[0m\u001b[1;33m\u001b[0m\u001b[0m\n",
      "\u001b[1;32m/home/topolo/Public/anaconda2/lib/python2.7/site-packages/theano/compile/sharedvalue.pyc\u001b[0m in \u001b[0;36mshared\u001b[1;34m(value, name, strict, allow_downcast, **kwargs)\u001b[0m\n\u001b[0;32m    245\u001b[0m             \u001b[1;32mtry\u001b[0m\u001b[1;33m:\u001b[0m\u001b[1;33m\u001b[0m\u001b[0m\n\u001b[0;32m    246\u001b[0m                 var = ctor(value, name=name, strict=strict,\n\u001b[1;32m--> 247\u001b[1;33m                            allow_downcast=allow_downcast, **kwargs)\n\u001b[0m\u001b[0;32m    248\u001b[0m                 \u001b[0mutils\u001b[0m\u001b[1;33m.\u001b[0m\u001b[0madd_tag_trace\u001b[0m\u001b[1;33m(\u001b[0m\u001b[0mvar\u001b[0m\u001b[1;33m)\u001b[0m\u001b[1;33m\u001b[0m\u001b[0m\n\u001b[0;32m    249\u001b[0m                 \u001b[1;32mreturn\u001b[0m \u001b[0mvar\u001b[0m\u001b[1;33m\u001b[0m\u001b[0m\n",
      "\u001b[1;32m/home/topolo/Public/anaconda2/lib/python2.7/site-packages/theano/sandbox/cuda/var.pyc\u001b[0m in \u001b[0;36mfloat32_shared_constructor\u001b[1;34m(value, name, strict, allow_downcast, borrow, broadcastable, target)\u001b[0m\n\u001b[0;32m    238\u001b[0m         \u001b[1;31m# type.broadcastable is guaranteed to be a tuple, which this next\u001b[0m\u001b[1;33m\u001b[0m\u001b[1;33m\u001b[0m\u001b[0m\n\u001b[0;32m    239\u001b[0m         \u001b[1;31m# function requires\u001b[0m\u001b[1;33m\u001b[0m\u001b[1;33m\u001b[0m\u001b[0m\n\u001b[1;32m--> 240\u001b[1;33m         \u001b[0mdeviceval\u001b[0m \u001b[1;33m=\u001b[0m \u001b[0mtype_support_filter\u001b[0m\u001b[1;33m(\u001b[0m\u001b[0mvalue\u001b[0m\u001b[1;33m,\u001b[0m \u001b[0mtype\u001b[0m\u001b[1;33m.\u001b[0m\u001b[0mbroadcastable\u001b[0m\u001b[1;33m,\u001b[0m \u001b[0mFalse\u001b[0m\u001b[1;33m,\u001b[0m \u001b[0mNone\u001b[0m\u001b[1;33m)\u001b[0m\u001b[1;33m\u001b[0m\u001b[0m\n\u001b[0m\u001b[0;32m    241\u001b[0m \u001b[1;33m\u001b[0m\u001b[0m\n\u001b[0;32m    242\u001b[0m     \u001b[1;32mtry\u001b[0m\u001b[1;33m:\u001b[0m\u001b[1;33m\u001b[0m\u001b[0m\n",
      "\u001b[1;31mRuntimeError\u001b[0m: Cuda error 'unspecified launch failure' while copying %lli data element to device memory"
     ]
    }
   ],
   "source": [
    "np.random.seed(0)\n",
    "s_l = 400 # (layer) size of layer l, i.e. number of nodes, units in layer l\n",
    "s_lp1 = 25\n",
    "al = theano.shared( np.random.randn(s_l+1,1).astype('float32'), name=\"al\")\n",
    "#alp1 = theano.shared( np.random.randn(s_lp1,1).astype('float32'), name=\"al\")\n",
    "#Thetal = theano.shared( np.random.randn( s_lp1,s_l+1).astype('float32') , name=\"Thetal\")\n",
    "\n",
    "# Feedforward, forward propagation\n",
    "#z = T.dot( Thetal, al)\n",
    "#g = T.nnet.sigmoid( z)\n"
   ]
  },
  {
   "cell_type": "code",
   "execution_count": 8,
   "metadata": {
    "collapsed": true
   },
   "outputs": [],
   "source": [
    "s_l = 25\n",
    "s_lp1 = 10\n",
    "\n",
    "\n"
   ]
  },
  {
   "cell_type": "code",
   "execution_count": 19,
   "metadata": {},
   "outputs": [
    {
     "name": "stdout",
     "output_type": "stream",
     "text": [
      "(10, 26)\n",
      "float32\n",
      "float32\n"
     ]
    },
    {
     "data": {
      "text/plain": [
       "(10, 26)"
      ]
     },
     "execution_count": 19,
     "metadata": {},
     "output_type": "execute_result"
    }
   ],
   "source": [
    "rng = np.random.RandomState(99)\n",
    "Theta_values = np.asarray( rng.uniform( \n",
    "    low=-np.sqrt( 6. / (s_l+ s_lp1)), \n",
    "    high=np.sqrt( 6./(s_l + s_lp1)), size=(s_lp1,s_l+1)), dtype=theano.config.floatX )\n",
    "print( Theta_values.shape )\n",
    "print( Theta_values.dtype )\n",
    "#Theta_values *= np.float32(4)\n",
    "Theta_values *= 4.\n",
    "\n",
    "print( Theta_values.dtype)\n",
    "Theta_values.shape"
   ]
  },
  {
   "cell_type": "code",
   "execution_count": 14,
   "metadata": {},
   "outputs": [
    {
     "data": {
      "text/plain": [
       "(10, 26)"
      ]
     },
     "execution_count": 14,
     "metadata": {},
     "output_type": "execute_result"
    }
   ],
   "source": [
    "np.float32( 4)"
   ]
  },
  {
   "cell_type": "markdown",
   "metadata": {},
   "source": [
    "#### From Deep Learning Tutorials of LISA lab of University of Montreal; `logistic_sgd.py`, `mlp.py`"
   ]
  },
  {
   "cell_type": "code",
   "execution_count": 8,
   "metadata": {},
   "outputs": [
    {
     "data": {
      "text/plain": [
       "{'BASH_FUNC_module()': '() {  eval `/usr/bin/modulecmd bash $*`\\n}',\n",
       " 'BASH_FUNC_scl()': '() {  local CMD=$1;\\n if [ \"$CMD\" = \"load\" -o \"$CMD\" = \"unload\" ]; then\\n eval \"module $@\";\\n else\\n /usr/bin/scl \"$@\";\\n fi\\n}',\n",
       " 'CLICOLOR': '1',\n",
       " 'CVS_RSH': 'ssh',\n",
       " 'DBUS_SESSION_BUS_ADDRESS': 'unix:abstract=/tmp/dbus-N7ppIfAX8e,guid=e833f00fdfe69074bad66b6a58a4c651',\n",
       " 'DESKTOP_SESSION': 'gnome',\n",
       " 'DISPLAY': ':1',\n",
       " 'GDMSESSION': 'gnome',\n",
       " 'GDM_LANG': 'en_US.UTF-8',\n",
       " 'GIT_PAGER': 'cat',\n",
       " 'GJS_DEBUG_OUTPUT': 'stderr',\n",
       " 'GJS_DEBUG_TOPICS': 'JS ERROR;JS LOG',\n",
       " 'GNOME_DESKTOP_SESSION_ID': 'this-is-deprecated',\n",
       " 'HISTCONTROL': 'ignoredups',\n",
       " 'HISTSIZE': '1000',\n",
       " 'HOME': '/home/topolo',\n",
       " 'HOSTNAME': 'localhost.localdomain',\n",
       " 'JPY_PARENT_PID': '3902',\n",
       " 'LANG': 'en_US.UTF-8',\n",
       " 'LD_LIBRARY_PATH': '/usr/local/lib:/usr/local/lib::/usr/local/cuda/lib64:/usr/local/lib64:/usr/local/cuda/lib64:/usr/local/lib64',\n",
       " 'LESSOPEN': '||/usr/bin/lesspipe.sh %s',\n",
       " 'LOADEDMODULES': '',\n",
       " 'LOGNAME': 'topolo',\n",
       " 'LS_COLORS': 'rs=0:di=38;5;33:ln=38;5;51:mh=00:pi=40;38;5;11:so=38;5;13:do=38;5;5:bd=48;5;232;38;5;11:cd=48;5;232;38;5;3:or=48;5;232;38;5;9:mi=01;05;37;41:su=48;5;196;38;5;15:sg=48;5;11;38;5;16:ca=48;5;196;38;5;226:tw=48;5;10;38;5;16:ow=48;5;10;38;5;21:st=48;5;21;38;5;15:ex=38;5;40:*.tar=38;5;9:*.tgz=38;5;9:*.arc=38;5;9:*.arj=38;5;9:*.taz=38;5;9:*.lha=38;5;9:*.lz4=38;5;9:*.lzh=38;5;9:*.lzma=38;5;9:*.tlz=38;5;9:*.txz=38;5;9:*.tzo=38;5;9:*.t7z=38;5;9:*.zip=38;5;9:*.z=38;5;9:*.Z=38;5;9:*.dz=38;5;9:*.gz=38;5;9:*.lrz=38;5;9:*.lz=38;5;9:*.lzo=38;5;9:*.xz=38;5;9:*.bz2=38;5;9:*.bz=38;5;9:*.tbz=38;5;9:*.tbz2=38;5;9:*.tz=38;5;9:*.deb=38;5;9:*.rpm=38;5;9:*.jar=38;5;9:*.war=38;5;9:*.ear=38;5;9:*.sar=38;5;9:*.rar=38;5;9:*.alz=38;5;9:*.ace=38;5;9:*.zoo=38;5;9:*.cpio=38;5;9:*.7z=38;5;9:*.rz=38;5;9:*.cab=38;5;9:*.jpg=38;5;13:*.jpeg=38;5;13:*.gif=38;5;13:*.bmp=38;5;13:*.pbm=38;5;13:*.pgm=38;5;13:*.ppm=38;5;13:*.tga=38;5;13:*.xbm=38;5;13:*.xpm=38;5;13:*.tif=38;5;13:*.tiff=38;5;13:*.png=38;5;13:*.svg=38;5;13:*.svgz=38;5;13:*.mng=38;5;13:*.pcx=38;5;13:*.mov=38;5;13:*.mpg=38;5;13:*.mpeg=38;5;13:*.m2v=38;5;13:*.mkv=38;5;13:*.webm=38;5;13:*.ogm=38;5;13:*.mp4=38;5;13:*.m4v=38;5;13:*.mp4v=38;5;13:*.vob=38;5;13:*.qt=38;5;13:*.nuv=38;5;13:*.wmv=38;5;13:*.asf=38;5;13:*.rm=38;5;13:*.rmvb=38;5;13:*.flc=38;5;13:*.avi=38;5;13:*.fli=38;5;13:*.flv=38;5;13:*.gl=38;5;13:*.dl=38;5;13:*.xcf=38;5;13:*.xwd=38;5;13:*.yuv=38;5;13:*.cgm=38;5;13:*.emf=38;5;13:*.ogv=38;5;13:*.ogx=38;5;13:*.aac=38;5;45:*.au=38;5;45:*.flac=38;5;45:*.m4a=38;5;45:*.mid=38;5;45:*.midi=38;5;45:*.mka=38;5;45:*.mp3=38;5;45:*.mpc=38;5;45:*.ogg=38;5;45:*.ra=38;5;45:*.wav=38;5;45:*.oga=38;5;45:*.opus=38;5;45:*.spx=38;5;45:*.xspf=38;5;45:',\n",
       " 'MAIL': '/var/spool/mail/topolo',\n",
       " 'MODULEPATH': '/etc/scl/modulefiles:/etc/scl/modulefiles:/usr/share/Modules/modulefiles:/etc/modulefiles:/usr/share/modulefiles',\n",
       " 'MODULESHOME': '/usr/share/Modules',\n",
       " 'OLDPWD': '/',\n",
       " 'PAGER': 'cat',\n",
       " 'PATH': '/usr/local/cuda-7.5/bin:/home/topolo/Public/anaconda2/bin:/usr/local/cuda-7.5/bin:/home/topolo/Public/anaconda2/bin:/usr/local/bin:/usr/local/sbin:/usr/bin:/usr/sbin:/home/topolo/.local/bin:/home/topolo/bin',\n",
       " 'PWD': '/home/topolo',\n",
       " 'QT_IM_MODULE': 'ibus',\n",
       " 'SESSION_MANAGER': 'local/unix:@/tmp/.ICE-unix/2593,unix/unix:/tmp/.ICE-unix/2593',\n",
       " 'SHELL': '/bin/bash',\n",
       " 'SHLVL': '2',\n",
       " 'SSH_ASKPASS': '/usr/libexec/openssh/gnome-ssh-askpass',\n",
       " 'SSH_AUTH_SOCK': '/run/user/1001/keyring/ssh',\n",
       " 'TERM': 'xterm-color',\n",
       " 'THEANO_FLAGS': 'mode=FAST_RUN,floatX=float32,device=gpu0,lib.cnmem=0.80',\n",
       " 'USER': 'topolo',\n",
       " 'USERNAME': 'topolo',\n",
       " 'VTE_VERSION': '4205',\n",
       " 'WINDOWID': '29360134',\n",
       " 'WINDOWPATH': '2',\n",
       " 'XAUTHORITY': '/run/user/1001/gdm/Xauthority',\n",
       " 'XDG_CURRENT_DESKTOP': 'GNOME',\n",
       " 'XDG_MENU_PREFIX': 'gnome-',\n",
       " 'XDG_RUNTIME_DIR': '/run/user/1001',\n",
       " 'XDG_SEAT': 'seat0',\n",
       " 'XDG_SESSION_DESKTOP': 'gnome',\n",
       " 'XDG_SESSION_ID': '1',\n",
       " 'XDG_SESSION_TYPE': 'x11',\n",
       " 'XDG_VTNR': '2',\n",
       " 'XMODIFIERS': '@im=ibus',\n",
       " '_': '/home/topolo/Public/anaconda2/bin/jupyter'}"
      ]
     },
     "execution_count": 8,
     "metadata": {},
     "output_type": "execute_result"
    }
   ],
   "source": [
    "%env"
   ]
  },
  {
   "cell_type": "code",
   "execution_count": 10,
   "metadata": {},
   "outputs": [
    {
     "data": {
      "text/plain": [
       "'/home/topolo/PropD/MLgrabbag'"
      ]
     },
     "execution_count": 10,
     "metadata": {},
     "output_type": "execute_result"
    }
   ],
   "source": [
    "os.getcwd()"
   ]
  },
  {
   "cell_type": "code",
   "execution_count": 11,
   "metadata": {},
   "outputs": [
    {
     "name": "stdout",
     "output_type": "stream",
     "text": [
      "['', '/home/topolo/Public/anaconda2/lib/python2.7/site-packages/thermopy-0.5.4-py2.7.egg', '/home/topolo/Public/anaconda2/lib/python2.7/site-packages/pytools-2016.2.6-py2.7.egg', '/home/topolo/Public/anaconda2/lib/python2.7/site-packages/appdirs-1.4.0-py2.7.egg', '/home/topolo/Public/anaconda2/lib/python27.zip', '/home/topolo/Public/anaconda2/lib/python2.7', '/home/topolo/Public/anaconda2/lib/python2.7/plat-linux2', '/home/topolo/Public/anaconda2/lib/python2.7/lib-tk', '/home/topolo/Public/anaconda2/lib/python2.7/lib-old', '/home/topolo/Public/anaconda2/lib/python2.7/lib-dynload', '/home/topolo/Public/anaconda2/lib/python2.7/site-packages/PyDispatcher-2.0.5-py2.7.egg', '/home/topolo/Public/anaconda2/lib/python2.7/site-packages/Sphinx-1.3.5-py2.7.egg', '/home/topolo/Public/anaconda2/lib/python2.7/site-packages/characteristic-14.3.0-py2.7.egg', '/home/topolo/Public/anaconda2/lib/python2.7/site-packages/cssselect-0.9.1-py2.7.egg', '/home/topolo/Public/anaconda2/lib/python2.7/site-packages/pyasn1_modules-0.0.5-py2.7.egg', '/home/topolo/Public/anaconda2/lib/python2.7/site-packages/service_identity-14.0.0-py2.7.egg', '/home/topolo/Public/anaconda2/lib/python2.7/site-packages/setuptools-20.3-py2.7.egg', '/home/topolo/Public/anaconda2/lib/python2.7/site-packages', '/home/topolo/Public/anaconda2/lib/python2.7/site-packages/IPython/extensions', '/home/topolo/.ipython']\n"
     ]
    }
   ],
   "source": [
    "print( sys.path )"
   ]
  },
  {
   "cell_type": "code",
   "execution_count": 12,
   "metadata": {
    "collapsed": true
   },
   "outputs": [],
   "source": [
    "#sys.path.append( os.getcwd() + '/ML')\n",
    "sys.path.append( '../DeepLearningTutorials/code/' )"
   ]
  },
  {
   "cell_type": "code",
   "execution_count": 14,
   "metadata": {
    "collapsed": true
   },
   "outputs": [],
   "source": [
    "#from logistic_sgd import LogisticRegression, load_data, sgd_optimization_mnist, predict\n",
    "import logistic_sgd "
   ]
  },
  {
   "cell_type": "code",
   "execution_count": 10,
   "metadata": {},
   "outputs": [
    {
     "ename": "NameError",
     "evalue": "name 'logistic_sgd' is not defined",
     "output_type": "error",
     "traceback": [
      "\u001b[1;31m---------------------------------------------------------------------------\u001b[0m",
      "\u001b[1;31mNameError\u001b[0m                                 Traceback (most recent call last)",
      "\u001b[1;32m<ipython-input-10-1526aa8fd8a5>\u001b[0m in \u001b[0;36m<module>\u001b[1;34m()\u001b[0m\n\u001b[1;32m----> 1\u001b[1;33m \u001b[0mMNIST_MTLdat\u001b[0m \u001b[1;33m=\u001b[0m \u001b[0mlogistic_sgd\u001b[0m\u001b[1;33m.\u001b[0m\u001b[0mload_data\u001b[0m\u001b[1;33m(\u001b[0m\u001b[1;34m\"../DeepLearningTutorials/data/mnist.pkl.gz\"\u001b[0m\u001b[1;33m)\u001b[0m \u001b[1;31m# list of training data\u001b[0m\u001b[1;33m\u001b[0m\u001b[0m\n\u001b[0m",
      "\u001b[1;31mNameError\u001b[0m: name 'logistic_sgd' is not defined"
     ]
    }
   ],
   "source": [
    "MNIST_MTLdat = logistic_sgd.load_data(\"../DeepLearningTutorials/data/mnist.pkl.gz\") # list of training data"
   ]
  },
  {
   "cell_type": "code",
   "execution_count": 36,
   "metadata": {},
   "outputs": [
    {
     "name": "stdout",
     "output_type": "stream",
     "text": [
      "3\n",
      "<type 'list'>\n",
      "<type 'tuple'> 2\n",
      "<type 'tuple'> 2\n",
      "<type 'tuple'> 2\n"
     ]
    }
   ],
   "source": [
    "print(len(MNIST_MTLdat))\n",
    "print(type(MNIST_MTLdat))\n",
    "for ele in MNIST_MTLdat: print type(ele), len(ele) # test_set_x, test_set_y, valid_set_x, valid_set_y, train_set_x, "
   ]
  },
  {
   "cell_type": "code",
   "execution_count": 37,
   "metadata": {},
   "outputs": [
    {
     "name": "stdout",
     "output_type": "stream",
     "text": [
      "(50000, 784)\n",
      "<class 'theano.tensor.var.TensorVariable'>\n",
      "<bound method TensorVariable.get_scalar_constant_value of Elemwise{Cast{int32}}.0>\n"
     ]
    }
   ],
   "source": [
    "print( MNIST_MTLdat[0][0].get_value().shape)\n",
    "print( type(MNIST_MTLdat[0][1]))\n",
    "print( MNIST_MTLdat[0][1].get_scalar_constant_value )"
   ]
  },
  {
   "cell_type": "code",
   "execution_count": 38,
   "metadata": {},
   "outputs": [
    {
     "name": "stdout",
     "output_type": "stream",
     "text": [
      "<class 'theano.tensor.var.TensorVariable'>\n"
     ]
    },
    {
     "data": {
      "text/plain": [
       "Shape.0"
      ]
     },
     "execution_count": 38,
     "metadata": {},
     "output_type": "execute_result"
    }
   ],
   "source": [
    "print( type( MNIST_MTLdat[1][1] ) )\n",
    "MNIST_MTLdat[1][1].shape"
   ]
  },
  {
   "cell_type": "code",
   "execution_count": 39,
   "metadata": {},
   "outputs": [],
   "source": [
    "dir(MNIST_MTLdat[0][1]) ;"
   ]
  },
  {
   "cell_type": "code",
   "execution_count": 25,
   "metadata": {},
   "outputs": [],
   "source": [
    "import gzip\n",
    "import six.moves.cPickle as pickle\n",
    "with gzip.open(\"../DeepLearningTutorials/data/mnist.pkl.gz\", 'rb') as f:\n",
    "    try:\n",
    "        train_set, valid_set, test_set = pickle.load(f, encoding='latin1')\n",
    "    except:\n",
    "        train_set, valid_set, test_set = pickle.load(f)"
   ]
  },
  {
   "cell_type": "code",
   "execution_count": 26,
   "metadata": {},
   "outputs": [
    {
     "name": "stdout",
     "output_type": "stream",
     "text": [
      "<type 'numpy.ndarray'>\n",
      "(50000, 784)\n",
      "<type 'numpy.ndarray'>\n",
      "(50000,)\n",
      "<type 'numpy.ndarray'>\n",
      "(10000, 784)\n",
      "<type 'numpy.ndarray'>\n",
      "(10000,)\n",
      "<type 'numpy.ndarray'>\n",
      "(10000, 784)\n",
      "<type 'numpy.ndarray'>\n",
      "(10000,)\n"
     ]
    }
   ],
   "source": [
    "print( type( train_set[0] ))\n",
    "print( train_set[0].shape )\n",
    "print( type( train_set[1]))\n",
    "print( train_set[1].shape )\n",
    "print( type( valid_set[0] ))\n",
    "print( valid_set[0].shape )\n",
    "print( type( valid_set[1]))\n",
    "print( valid_set[1].shape )\n",
    "print( type( test_set[0] ))\n",
    "print( test_set[0].shape )\n",
    "print( type( test_set[1]))\n",
    "print( test_set[1].shape )\n"
   ]
  },
  {
   "cell_type": "code",
   "execution_count": 15,
   "metadata": {},
   "outputs": [],
   "source": [
    "X = train_set[0].T"
   ]
  },
  {
   "cell_type": "code",
   "execution_count": 17,
   "metadata": {},
   "outputs": [
    {
     "data": {
      "text/html": [
       "<div>\n",
       "<table border=\"1\" class=\"dataframe\">\n",
       "  <thead>\n",
       "    <tr style=\"text-align: right;\">\n",
       "      <th></th>\n",
       "      <th>0</th>\n",
       "      <th>1</th>\n",
       "      <th>2</th>\n",
       "      <th>3</th>\n",
       "      <th>4</th>\n",
       "      <th>5</th>\n",
       "      <th>6</th>\n",
       "      <th>7</th>\n",
       "      <th>8</th>\n",
       "      <th>9</th>\n",
       "      <th>...</th>\n",
       "      <th>774</th>\n",
       "      <th>775</th>\n",
       "      <th>776</th>\n",
       "      <th>777</th>\n",
       "      <th>778</th>\n",
       "      <th>779</th>\n",
       "      <th>780</th>\n",
       "      <th>781</th>\n",
       "      <th>782</th>\n",
       "      <th>783</th>\n",
       "    </tr>\n",
       "  </thead>\n",
       "  <tbody>\n",
       "    <tr>\n",
       "      <th>count</th>\n",
       "      <td>50000.0</td>\n",
       "      <td>50000.0</td>\n",
       "      <td>50000.0</td>\n",
       "      <td>50000.0</td>\n",
       "      <td>50000.0</td>\n",
       "      <td>50000.0</td>\n",
       "      <td>50000.0</td>\n",
       "      <td>50000.0</td>\n",
       "      <td>50000.0</td>\n",
       "      <td>50000.0</td>\n",
       "      <td>...</td>\n",
       "      <td>50000.000000</td>\n",
       "      <td>50000.000000</td>\n",
       "      <td>50000.000000</td>\n",
       "      <td>50000.000000</td>\n",
       "      <td>50000.000000</td>\n",
       "      <td>50000.000000</td>\n",
       "      <td>50000.0</td>\n",
       "      <td>50000.0</td>\n",
       "      <td>50000.0</td>\n",
       "      <td>50000.0</td>\n",
       "    </tr>\n",
       "    <tr>\n",
       "      <th>mean</th>\n",
       "      <td>0.0</td>\n",
       "      <td>0.0</td>\n",
       "      <td>0.0</td>\n",
       "      <td>0.0</td>\n",
       "      <td>0.0</td>\n",
       "      <td>0.0</td>\n",
       "      <td>0.0</td>\n",
       "      <td>0.0</td>\n",
       "      <td>0.0</td>\n",
       "      <td>0.0</td>\n",
       "      <td>...</td>\n",
       "      <td>0.000739</td>\n",
       "      <td>0.000354</td>\n",
       "      <td>0.000204</td>\n",
       "      <td>0.000090</td>\n",
       "      <td>0.000071</td>\n",
       "      <td>0.000009</td>\n",
       "      <td>0.0</td>\n",
       "      <td>0.0</td>\n",
       "      <td>0.0</td>\n",
       "      <td>0.0</td>\n",
       "    </tr>\n",
       "    <tr>\n",
       "      <th>std</th>\n",
       "      <td>0.0</td>\n",
       "      <td>0.0</td>\n",
       "      <td>0.0</td>\n",
       "      <td>0.0</td>\n",
       "      <td>0.0</td>\n",
       "      <td>0.0</td>\n",
       "      <td>0.0</td>\n",
       "      <td>0.0</td>\n",
       "      <td>0.0</td>\n",
       "      <td>0.0</td>\n",
       "      <td>...</td>\n",
       "      <td>0.022778</td>\n",
       "      <td>0.015422</td>\n",
       "      <td>0.012079</td>\n",
       "      <td>0.007217</td>\n",
       "      <td>0.007181</td>\n",
       "      <td>0.001483</td>\n",
       "      <td>0.0</td>\n",
       "      <td>0.0</td>\n",
       "      <td>0.0</td>\n",
       "      <td>0.0</td>\n",
       "    </tr>\n",
       "    <tr>\n",
       "      <th>min</th>\n",
       "      <td>0.0</td>\n",
       "      <td>0.0</td>\n",
       "      <td>0.0</td>\n",
       "      <td>0.0</td>\n",
       "      <td>0.0</td>\n",
       "      <td>0.0</td>\n",
       "      <td>0.0</td>\n",
       "      <td>0.0</td>\n",
       "      <td>0.0</td>\n",
       "      <td>0.0</td>\n",
       "      <td>...</td>\n",
       "      <td>0.000000</td>\n",
       "      <td>0.000000</td>\n",
       "      <td>0.000000</td>\n",
       "      <td>0.000000</td>\n",
       "      <td>0.000000</td>\n",
       "      <td>0.000000</td>\n",
       "      <td>0.0</td>\n",
       "      <td>0.0</td>\n",
       "      <td>0.0</td>\n",
       "      <td>0.0</td>\n",
       "    </tr>\n",
       "    <tr>\n",
       "      <th>25%</th>\n",
       "      <td>0.0</td>\n",
       "      <td>0.0</td>\n",
       "      <td>0.0</td>\n",
       "      <td>0.0</td>\n",
       "      <td>0.0</td>\n",
       "      <td>0.0</td>\n",
       "      <td>0.0</td>\n",
       "      <td>0.0</td>\n",
       "      <td>0.0</td>\n",
       "      <td>0.0</td>\n",
       "      <td>...</td>\n",
       "      <td>0.000000</td>\n",
       "      <td>0.000000</td>\n",
       "      <td>0.000000</td>\n",
       "      <td>0.000000</td>\n",
       "      <td>0.000000</td>\n",
       "      <td>0.000000</td>\n",
       "      <td>0.0</td>\n",
       "      <td>0.0</td>\n",
       "      <td>0.0</td>\n",
       "      <td>0.0</td>\n",
       "    </tr>\n",
       "    <tr>\n",
       "      <th>50%</th>\n",
       "      <td>0.0</td>\n",
       "      <td>0.0</td>\n",
       "      <td>0.0</td>\n",
       "      <td>0.0</td>\n",
       "      <td>0.0</td>\n",
       "      <td>0.0</td>\n",
       "      <td>0.0</td>\n",
       "      <td>0.0</td>\n",
       "      <td>0.0</td>\n",
       "      <td>0.0</td>\n",
       "      <td>...</td>\n",
       "      <td>0.000000</td>\n",
       "      <td>0.000000</td>\n",
       "      <td>0.000000</td>\n",
       "      <td>0.000000</td>\n",
       "      <td>0.000000</td>\n",
       "      <td>0.000000</td>\n",
       "      <td>0.0</td>\n",
       "      <td>0.0</td>\n",
       "      <td>0.0</td>\n",
       "      <td>0.0</td>\n",
       "    </tr>\n",
       "    <tr>\n",
       "      <th>75%</th>\n",
       "      <td>0.0</td>\n",
       "      <td>0.0</td>\n",
       "      <td>0.0</td>\n",
       "      <td>0.0</td>\n",
       "      <td>0.0</td>\n",
       "      <td>0.0</td>\n",
       "      <td>0.0</td>\n",
       "      <td>0.0</td>\n",
       "      <td>0.0</td>\n",
       "      <td>0.0</td>\n",
       "      <td>...</td>\n",
       "      <td>0.000000</td>\n",
       "      <td>0.000000</td>\n",
       "      <td>0.000000</td>\n",
       "      <td>0.000000</td>\n",
       "      <td>0.000000</td>\n",
       "      <td>0.000000</td>\n",
       "      <td>0.0</td>\n",
       "      <td>0.0</td>\n",
       "      <td>0.0</td>\n",
       "      <td>0.0</td>\n",
       "    </tr>\n",
       "    <tr>\n",
       "      <th>max</th>\n",
       "      <td>0.0</td>\n",
       "      <td>0.0</td>\n",
       "      <td>0.0</td>\n",
       "      <td>0.0</td>\n",
       "      <td>0.0</td>\n",
       "      <td>0.0</td>\n",
       "      <td>0.0</td>\n",
       "      <td>0.0</td>\n",
       "      <td>0.0</td>\n",
       "      <td>0.0</td>\n",
       "      <td>...</td>\n",
       "      <td>0.992188</td>\n",
       "      <td>0.992188</td>\n",
       "      <td>0.988281</td>\n",
       "      <td>0.988281</td>\n",
       "      <td>0.992188</td>\n",
       "      <td>0.242188</td>\n",
       "      <td>0.0</td>\n",
       "      <td>0.0</td>\n",
       "      <td>0.0</td>\n",
       "      <td>0.0</td>\n",
       "    </tr>\n",
       "  </tbody>\n",
       "</table>\n",
       "<p>8 rows × 784 columns</p>\n",
       "</div>"
      ],
      "text/plain": [
       "           0        1        2        3        4        5        6        7    \\\n",
       "count  50000.0  50000.0  50000.0  50000.0  50000.0  50000.0  50000.0  50000.0   \n",
       "mean       0.0      0.0      0.0      0.0      0.0      0.0      0.0      0.0   \n",
       "std        0.0      0.0      0.0      0.0      0.0      0.0      0.0      0.0   \n",
       "min        0.0      0.0      0.0      0.0      0.0      0.0      0.0      0.0   \n",
       "25%        0.0      0.0      0.0      0.0      0.0      0.0      0.0      0.0   \n",
       "50%        0.0      0.0      0.0      0.0      0.0      0.0      0.0      0.0   \n",
       "75%        0.0      0.0      0.0      0.0      0.0      0.0      0.0      0.0   \n",
       "max        0.0      0.0      0.0      0.0      0.0      0.0      0.0      0.0   \n",
       "\n",
       "           8        9     ...              774           775           776  \\\n",
       "count  50000.0  50000.0   ...     50000.000000  50000.000000  50000.000000   \n",
       "mean       0.0      0.0   ...         0.000739      0.000354      0.000204   \n",
       "std        0.0      0.0   ...         0.022778      0.015422      0.012079   \n",
       "min        0.0      0.0   ...         0.000000      0.000000      0.000000   \n",
       "25%        0.0      0.0   ...         0.000000      0.000000      0.000000   \n",
       "50%        0.0      0.0   ...         0.000000      0.000000      0.000000   \n",
       "75%        0.0      0.0   ...         0.000000      0.000000      0.000000   \n",
       "max        0.0      0.0   ...         0.992188      0.992188      0.988281   \n",
       "\n",
       "                777           778           779      780      781      782  \\\n",
       "count  50000.000000  50000.000000  50000.000000  50000.0  50000.0  50000.0   \n",
       "mean       0.000090      0.000071      0.000009      0.0      0.0      0.0   \n",
       "std        0.007217      0.007181      0.001483      0.0      0.0      0.0   \n",
       "min        0.000000      0.000000      0.000000      0.0      0.0      0.0   \n",
       "25%        0.000000      0.000000      0.000000      0.0      0.0      0.0   \n",
       "50%        0.000000      0.000000      0.000000      0.0      0.0      0.0   \n",
       "75%        0.000000      0.000000      0.000000      0.0      0.0      0.0   \n",
       "max        0.988281      0.992188      0.242188      0.0      0.0      0.0   \n",
       "\n",
       "           783  \n",
       "count  50000.0  \n",
       "mean       0.0  \n",
       "std        0.0  \n",
       "min        0.0  \n",
       "25%        0.0  \n",
       "50%        0.0  \n",
       "75%        0.0  \n",
       "max        0.0  \n",
       "\n",
       "[8 rows x 784 columns]"
      ]
     },
     "execution_count": 17,
     "metadata": {},
     "output_type": "execute_result"
    }
   ],
   "source": [
    "pd.DataFrame(X.T).describe()"
   ]
  },
  {
   "cell_type": "code",
   "execution_count": 18,
   "metadata": {},
   "outputs": [
    {
     "data": {
      "text/plain": [
       "784"
      ]
     },
     "execution_count": 18,
     "metadata": {},
     "output_type": "execute_result"
    }
   ],
   "source": [
    "28*28"
   ]
  },
  {
   "cell_type": "code",
   "execution_count": 94,
   "metadata": {
    "collapsed": true
   },
   "outputs": [],
   "source": [
    "X_i = theano.shared( X.astype(\"float32\"))"
   ]
  },
  {
   "cell_type": "code",
   "execution_count": 95,
   "metadata": {},
   "outputs": [],
   "source": [
    "m = X_i.get_value().shape[1]"
   ]
  },
  {
   "cell_type": "code",
   "execution_count": 45,
   "metadata": {},
   "outputs": [],
   "source": [
    "a1 = T.stack( [ theano.shared( np.ones((1,m)).astype(\"float32\") ) , X_i ] , axis=1 )"
   ]
  },
  {
   "cell_type": "code",
   "execution_count": 41,
   "metadata": {},
   "outputs": [
    {
     "name": "stdout",
     "output_type": "stream",
     "text": [
      "<class 'theano.tensor.var.TensorVariable'>\n"
     ]
    },
    {
     "data": {
      "text/plain": [
       "[Join(TensorConstant{2}, DimShuffle{0,1,x}.0, DimShuffle{0,1,x}.0)]"
      ]
     },
     "execution_count": 41,
     "metadata": {},
     "output_type": "execute_result"
    }
   ],
   "source": [
    "print( type(a1) )\n",
    "#print( a1.get_scalar_constant_value() )\n",
    "dir(a1)\n",
    "a1.get_parents()"
   ]
  },
  {
   "cell_type": "code",
   "execution_count": 46,
   "metadata": {},
   "outputs": [
    {
     "data": {
      "text/plain": [
       "3"
      ]
     },
     "execution_count": 46,
     "metadata": {},
     "output_type": "execute_result"
    }
   ],
   "source": [
    "a1.ndim"
   ]
  },
  {
   "cell_type": "code",
   "execution_count": 96,
   "metadata": {
    "collapsed": true
   },
   "outputs": [],
   "source": [
    "a1_0 = theano.shared( np.ones((1,m)).astype(\"float32\"),name='a1_0')\n"
   ]
  },
  {
   "cell_type": "code",
   "execution_count": 97,
   "metadata": {},
   "outputs": [],
   "source": [
    "a1 = T.stack( [a1_0,X_i], axis=0)"
   ]
  },
  {
   "cell_type": "code",
   "execution_count": 98,
   "metadata": {},
   "outputs": [],
   "source": [
    "d = X_i.get_value().shape[0]\n",
    "s_2 = d/2\n",
    "rng1 = np.random.RandomState(1234)\n",
    "Theta1_values = np.asarray( rng1.uniform( low=-np.sqrt(6./(d+s_2)),high=np.sqrt(6./(d+s_2)),size=(s_2,d+1)),\n",
    "                           dtype=theano.config.floatX)\n",
    "Theta1 = theano.shared(value=Theta1_values, name=\"Theta\",borrow=True)"
   ]
  },
  {
   "cell_type": "code",
   "execution_count": 99,
   "metadata": {},
   "outputs": [],
   "source": [
    "#rng1.uniform( low=-np.sqrt(6./(d+s_2)),high=np.sqrt(6./(d+s_2)),size=(s_2,d+1))\n",
    "z1 = T.dot( Theta1, a1)\n",
    "a2 = T.tanh(z1)"
   ]
  },
  {
   "cell_type": "code",
   "execution_count": 100,
   "metadata": {},
   "outputs": [],
   "source": [
    "passthru1 = theano.function( [], a2)"
   ]
  },
  {
   "cell_type": "code",
   "execution_count": 101,
   "metadata": {
    "scrolled": false
   },
   "outputs": [
    {
     "name": "stdout",
     "output_type": "stream",
     "text": [
      "784\n"
     ]
    },
    {
     "ename": "ValueError",
     "evalue": "GpuJoin: Wrong inputs for input 0 related to inputs 0.!\nApply node that caused the error: GpuJoin(TensorConstant{2}, GpuDimShuffle{0,1,x}.0, GpuDimShuffle{0,1,x}.0)\nToposort index: 9\nInputs types: [TensorType(int8, scalar), CudaNdarrayType(float32, (False, False, True)), CudaNdarrayType(float32, (False, False, True))]\nInputs shapes: [(), (1, 50000, 1), (784, 50000, 1)]\nInputs strides: [(), (0, 1, 0), (50000, 1, 0)]\nInputs values: [array(2, dtype=int8), 'not shown', 'not shown']\nOutputs clients: [[GpuDimShuffle{1,0,2}(GpuJoin.0)]]\n\nHINT: Re-running with most Theano optimization disabled could give you a back-trace of when this node was created. This can be done with by setting the Theano flag 'optimizer=fast_compile'. If that does not work, Theano optimizations can be disabled with 'optimizer=None'.\nHINT: Use the Theano flag 'exception_verbosity=high' for a debugprint and storage map footprint of this apply node.",
     "output_type": "error",
     "traceback": [
      "\u001b[1;31m---------------------------------------------------------------------------\u001b[0m",
      "\u001b[1;31mValueError\u001b[0m                                Traceback (most recent call last)",
      "\u001b[1;32m<ipython-input-101-eaf6b97a7ef3>\u001b[0m in \u001b[0;36m<module>\u001b[1;34m()\u001b[0m\n\u001b[0;32m      1\u001b[0m \u001b[1;32mprint\u001b[0m\u001b[1;33m(\u001b[0m\u001b[0md\u001b[0m\u001b[1;33m)\u001b[0m\u001b[1;33m\u001b[0m\u001b[0m\n\u001b[1;32m----> 2\u001b[1;33m \u001b[0mpassthru1\u001b[0m\u001b[1;33m(\u001b[0m\u001b[1;33m)\u001b[0m\u001b[1;33m\u001b[0m\u001b[0m\n\u001b[0m",
      "\u001b[1;32m/home/topolo/Public/anaconda2/lib/python2.7/site-packages/theano/compile/function_module.pyc\u001b[0m in \u001b[0;36m__call__\u001b[1;34m(self, *args, **kwargs)\u001b[0m\n\u001b[0;32m    869\u001b[0m                     \u001b[0mnode\u001b[0m\u001b[1;33m=\u001b[0m\u001b[0mself\u001b[0m\u001b[1;33m.\u001b[0m\u001b[0mfn\u001b[0m\u001b[1;33m.\u001b[0m\u001b[0mnodes\u001b[0m\u001b[1;33m[\u001b[0m\u001b[0mself\u001b[0m\u001b[1;33m.\u001b[0m\u001b[0mfn\u001b[0m\u001b[1;33m.\u001b[0m\u001b[0mposition_of_error\u001b[0m\u001b[1;33m]\u001b[0m\u001b[1;33m,\u001b[0m\u001b[1;33m\u001b[0m\u001b[0m\n\u001b[0;32m    870\u001b[0m                     \u001b[0mthunk\u001b[0m\u001b[1;33m=\u001b[0m\u001b[0mthunk\u001b[0m\u001b[1;33m,\u001b[0m\u001b[1;33m\u001b[0m\u001b[0m\n\u001b[1;32m--> 871\u001b[1;33m                     storage_map=getattr(self.fn, 'storage_map', None))\n\u001b[0m\u001b[0;32m    872\u001b[0m             \u001b[1;32melse\u001b[0m\u001b[1;33m:\u001b[0m\u001b[1;33m\u001b[0m\u001b[0m\n\u001b[0;32m    873\u001b[0m                 \u001b[1;31m# old-style linkers raise their own exceptions\u001b[0m\u001b[1;33m\u001b[0m\u001b[1;33m\u001b[0m\u001b[0m\n",
      "\u001b[1;32m/home/topolo/Public/anaconda2/lib/python2.7/site-packages/theano/gof/link.pyc\u001b[0m in \u001b[0;36mraise_with_op\u001b[1;34m(node, thunk, exc_info, storage_map)\u001b[0m\n\u001b[0;32m    312\u001b[0m         \u001b[1;31m# extra long error message in that case.\u001b[0m\u001b[1;33m\u001b[0m\u001b[1;33m\u001b[0m\u001b[0m\n\u001b[0;32m    313\u001b[0m         \u001b[1;32mpass\u001b[0m\u001b[1;33m\u001b[0m\u001b[0m\n\u001b[1;32m--> 314\u001b[1;33m     \u001b[0mreraise\u001b[0m\u001b[1;33m(\u001b[0m\u001b[0mexc_type\u001b[0m\u001b[1;33m,\u001b[0m \u001b[0mexc_value\u001b[0m\u001b[1;33m,\u001b[0m \u001b[0mexc_trace\u001b[0m\u001b[1;33m)\u001b[0m\u001b[1;33m\u001b[0m\u001b[0m\n\u001b[0m\u001b[0;32m    315\u001b[0m \u001b[1;33m\u001b[0m\u001b[0m\n\u001b[0;32m    316\u001b[0m \u001b[1;33m\u001b[0m\u001b[0m\n",
      "\u001b[1;32m/home/topolo/Public/anaconda2/lib/python2.7/site-packages/theano/compile/function_module.pyc\u001b[0m in \u001b[0;36m__call__\u001b[1;34m(self, *args, **kwargs)\u001b[0m\n\u001b[0;32m    857\u001b[0m         \u001b[0mt0_fn\u001b[0m \u001b[1;33m=\u001b[0m \u001b[0mtime\u001b[0m\u001b[1;33m.\u001b[0m\u001b[0mtime\u001b[0m\u001b[1;33m(\u001b[0m\u001b[1;33m)\u001b[0m\u001b[1;33m\u001b[0m\u001b[0m\n\u001b[0;32m    858\u001b[0m         \u001b[1;32mtry\u001b[0m\u001b[1;33m:\u001b[0m\u001b[1;33m\u001b[0m\u001b[0m\n\u001b[1;32m--> 859\u001b[1;33m             \u001b[0moutputs\u001b[0m \u001b[1;33m=\u001b[0m \u001b[0mself\u001b[0m\u001b[1;33m.\u001b[0m\u001b[0mfn\u001b[0m\u001b[1;33m(\u001b[0m\u001b[1;33m)\u001b[0m\u001b[1;33m\u001b[0m\u001b[0m\n\u001b[0m\u001b[0;32m    860\u001b[0m         \u001b[1;32mexcept\u001b[0m \u001b[0mException\u001b[0m\u001b[1;33m:\u001b[0m\u001b[1;33m\u001b[0m\u001b[0m\n\u001b[0;32m    861\u001b[0m             \u001b[1;32mif\u001b[0m \u001b[0mhasattr\u001b[0m\u001b[1;33m(\u001b[0m\u001b[0mself\u001b[0m\u001b[1;33m.\u001b[0m\u001b[0mfn\u001b[0m\u001b[1;33m,\u001b[0m \u001b[1;34m'position_of_error'\u001b[0m\u001b[1;33m)\u001b[0m\u001b[1;33m:\u001b[0m\u001b[1;33m\u001b[0m\u001b[0m\n",
      "\u001b[1;31mValueError\u001b[0m: GpuJoin: Wrong inputs for input 0 related to inputs 0.!\nApply node that caused the error: GpuJoin(TensorConstant{2}, GpuDimShuffle{0,1,x}.0, GpuDimShuffle{0,1,x}.0)\nToposort index: 9\nInputs types: [TensorType(int8, scalar), CudaNdarrayType(float32, (False, False, True)), CudaNdarrayType(float32, (False, False, True))]\nInputs shapes: [(), (1, 50000, 1), (784, 50000, 1)]\nInputs strides: [(), (0, 1, 0), (50000, 1, 0)]\nInputs values: [array(2, dtype=int8), 'not shown', 'not shown']\nOutputs clients: [[GpuDimShuffle{1,0,2}(GpuJoin.0)]]\n\nHINT: Re-running with most Theano optimization disabled could give you a back-trace of when this node was created. This can be done with by setting the Theano flag 'optimizer=fast_compile'. If that does not work, Theano optimizations can be disabled with 'optimizer=None'.\nHINT: Use the Theano flag 'exception_verbosity=high' for a debugprint and storage map footprint of this apply node."
     ]
    }
   ],
   "source": [
    "print(d)\n",
    "passthru1()"
   ]
  },
  {
   "cell_type": "code",
   "execution_count": 108,
   "metadata": {},
   "outputs": [
    {
     "name": "stdout",
     "output_type": "stream",
     "text": [
      "(784, 50000)\n",
      "50000\n",
      "(1, 50000)\n"
     ]
    }
   ],
   "source": [
    "print(X.shape)\n",
    "X_i = theano.shared( X.astype(\"float32\"))\n",
    "#m = X_i.get_value().shape[1]\n",
    "m = X.shape[1]\n",
    "print(m)\n",
    "a1_0 = theano.shared( np.ones((1,m)).astype(\"float32\"),name='a1_0')\n",
    "print(a1_0.get_value().shape)\n",
    "a1 = T.stack( [a1_0,X_i], axis=0)\n",
    "addintercept = theano.function([],a1)"
   ]
  },
  {
   "cell_type": "code",
   "execution_count": 109,
   "metadata": {},
   "outputs": [
    {
     "ename": "ValueError",
     "evalue": "GpuJoin: Wrong inputs for input 1 related to inputs 0.!\nApply node that caused the error: GpuJoin(TensorConstant{0}, GpuDimShuffle{x,0,1}.0, GpuDimShuffle{x,0,1}.0)\nToposort index: 2\nInputs types: [TensorType(int8, scalar), CudaNdarrayType(float32, (True, False, False)), CudaNdarrayType(float32, (True, False, False))]\nInputs shapes: [(), (1, 1, 50000), (1, 784, 50000)]\nInputs strides: [(), (0, 0, 1), (0, 50000, 1)]\nInputs values: [array(0, dtype=int8), 'not shown', 'not shown']\nOutputs clients: [[HostFromGpu(GpuJoin.0)]]\n\nHINT: Re-running with most Theano optimization disabled could give you a back-trace of when this node was created. This can be done with by setting the Theano flag 'optimizer=fast_compile'. If that does not work, Theano optimizations can be disabled with 'optimizer=None'.\nHINT: Use the Theano flag 'exception_verbosity=high' for a debugprint and storage map footprint of this apply node.",
     "output_type": "error",
     "traceback": [
      "\u001b[1;31m---------------------------------------------------------------------------\u001b[0m",
      "\u001b[1;31mValueError\u001b[0m                                Traceback (most recent call last)",
      "\u001b[1;32m<ipython-input-109-f3e06b86efb8>\u001b[0m in \u001b[0;36m<module>\u001b[1;34m()\u001b[0m\n\u001b[1;32m----> 1\u001b[1;33m \u001b[0maddintercept\u001b[0m\u001b[1;33m(\u001b[0m\u001b[1;33m)\u001b[0m\u001b[1;33m\u001b[0m\u001b[0m\n\u001b[0m",
      "\u001b[1;32m/home/topolo/Public/anaconda2/lib/python2.7/site-packages/theano/compile/function_module.pyc\u001b[0m in \u001b[0;36m__call__\u001b[1;34m(self, *args, **kwargs)\u001b[0m\n\u001b[0;32m    869\u001b[0m                     \u001b[0mnode\u001b[0m\u001b[1;33m=\u001b[0m\u001b[0mself\u001b[0m\u001b[1;33m.\u001b[0m\u001b[0mfn\u001b[0m\u001b[1;33m.\u001b[0m\u001b[0mnodes\u001b[0m\u001b[1;33m[\u001b[0m\u001b[0mself\u001b[0m\u001b[1;33m.\u001b[0m\u001b[0mfn\u001b[0m\u001b[1;33m.\u001b[0m\u001b[0mposition_of_error\u001b[0m\u001b[1;33m]\u001b[0m\u001b[1;33m,\u001b[0m\u001b[1;33m\u001b[0m\u001b[0m\n\u001b[0;32m    870\u001b[0m                     \u001b[0mthunk\u001b[0m\u001b[1;33m=\u001b[0m\u001b[0mthunk\u001b[0m\u001b[1;33m,\u001b[0m\u001b[1;33m\u001b[0m\u001b[0m\n\u001b[1;32m--> 871\u001b[1;33m                     storage_map=getattr(self.fn, 'storage_map', None))\n\u001b[0m\u001b[0;32m    872\u001b[0m             \u001b[1;32melse\u001b[0m\u001b[1;33m:\u001b[0m\u001b[1;33m\u001b[0m\u001b[0m\n\u001b[0;32m    873\u001b[0m                 \u001b[1;31m# old-style linkers raise their own exceptions\u001b[0m\u001b[1;33m\u001b[0m\u001b[1;33m\u001b[0m\u001b[0m\n",
      "\u001b[1;32m/home/topolo/Public/anaconda2/lib/python2.7/site-packages/theano/gof/link.pyc\u001b[0m in \u001b[0;36mraise_with_op\u001b[1;34m(node, thunk, exc_info, storage_map)\u001b[0m\n\u001b[0;32m    312\u001b[0m         \u001b[1;31m# extra long error message in that case.\u001b[0m\u001b[1;33m\u001b[0m\u001b[1;33m\u001b[0m\u001b[0m\n\u001b[0;32m    313\u001b[0m         \u001b[1;32mpass\u001b[0m\u001b[1;33m\u001b[0m\u001b[0m\n\u001b[1;32m--> 314\u001b[1;33m     \u001b[0mreraise\u001b[0m\u001b[1;33m(\u001b[0m\u001b[0mexc_type\u001b[0m\u001b[1;33m,\u001b[0m \u001b[0mexc_value\u001b[0m\u001b[1;33m,\u001b[0m \u001b[0mexc_trace\u001b[0m\u001b[1;33m)\u001b[0m\u001b[1;33m\u001b[0m\u001b[0m\n\u001b[0m\u001b[0;32m    315\u001b[0m \u001b[1;33m\u001b[0m\u001b[0m\n\u001b[0;32m    316\u001b[0m \u001b[1;33m\u001b[0m\u001b[0m\n",
      "\u001b[1;32m/home/topolo/Public/anaconda2/lib/python2.7/site-packages/theano/compile/function_module.pyc\u001b[0m in \u001b[0;36m__call__\u001b[1;34m(self, *args, **kwargs)\u001b[0m\n\u001b[0;32m    857\u001b[0m         \u001b[0mt0_fn\u001b[0m \u001b[1;33m=\u001b[0m \u001b[0mtime\u001b[0m\u001b[1;33m.\u001b[0m\u001b[0mtime\u001b[0m\u001b[1;33m(\u001b[0m\u001b[1;33m)\u001b[0m\u001b[1;33m\u001b[0m\u001b[0m\n\u001b[0;32m    858\u001b[0m         \u001b[1;32mtry\u001b[0m\u001b[1;33m:\u001b[0m\u001b[1;33m\u001b[0m\u001b[0m\n\u001b[1;32m--> 859\u001b[1;33m             \u001b[0moutputs\u001b[0m \u001b[1;33m=\u001b[0m \u001b[0mself\u001b[0m\u001b[1;33m.\u001b[0m\u001b[0mfn\u001b[0m\u001b[1;33m(\u001b[0m\u001b[1;33m)\u001b[0m\u001b[1;33m\u001b[0m\u001b[0m\n\u001b[0m\u001b[0;32m    860\u001b[0m         \u001b[1;32mexcept\u001b[0m \u001b[0mException\u001b[0m\u001b[1;33m:\u001b[0m\u001b[1;33m\u001b[0m\u001b[0m\n\u001b[0;32m    861\u001b[0m             \u001b[1;32mif\u001b[0m \u001b[0mhasattr\u001b[0m\u001b[1;33m(\u001b[0m\u001b[0mself\u001b[0m\u001b[1;33m.\u001b[0m\u001b[0mfn\u001b[0m\u001b[1;33m,\u001b[0m \u001b[1;34m'position_of_error'\u001b[0m\u001b[1;33m)\u001b[0m\u001b[1;33m:\u001b[0m\u001b[1;33m\u001b[0m\u001b[0m\n",
      "\u001b[1;31mValueError\u001b[0m: GpuJoin: Wrong inputs for input 1 related to inputs 0.!\nApply node that caused the error: GpuJoin(TensorConstant{0}, GpuDimShuffle{x,0,1}.0, GpuDimShuffle{x,0,1}.0)\nToposort index: 2\nInputs types: [TensorType(int8, scalar), CudaNdarrayType(float32, (True, False, False)), CudaNdarrayType(float32, (True, False, False))]\nInputs shapes: [(), (1, 1, 50000), (1, 784, 50000)]\nInputs strides: [(), (0, 0, 1), (0, 50000, 1)]\nInputs values: [array(0, dtype=int8), 'not shown', 'not shown']\nOutputs clients: [[HostFromGpu(GpuJoin.0)]]\n\nHINT: Re-running with most Theano optimization disabled could give you a back-trace of when this node was created. This can be done with by setting the Theano flag 'optimizer=fast_compile'. If that does not work, Theano optimizations can be disabled with 'optimizer=None'.\nHINT: Use the Theano flag 'exception_verbosity=high' for a debugprint and storage map footprint of this apply node."
     ]
    }
   ],
   "source": [
    "addintercept()"
   ]
  },
  {
   "cell_type": "code",
   "execution_count": 131,
   "metadata": {},
   "outputs": [
    {
     "name": "stdout",
     "output_type": "stream",
     "text": [
      "784\n",
      "392\n"
     ]
    }
   ],
   "source": [
    "d = X_i.get_value().shape[0]\n",
    "print(d)\n",
    "s_2 = d/2\n",
    "print(s_2)\n",
    "rng1 = np.random.RandomState(1234)\n",
    "Theta1_values = np.asarray( rng1.uniform( low=-np.sqrt(6./(d+s_2)),high=np.sqrt(6./(d+s_2)),size=(s_2,d)),\n",
    "                           dtype=theano.config.floatX)\n",
    "Theta1 = theano.shared(value=Theta1_values, name=\"Theta1\",borrow=True)\n",
    "b_values = np.vstack( np.zeros(s_2) ).astype(theano.config.floatX)\n",
    "b1 = theano.shared(value=b_values, name='b1',borrow=True)\n",
    "a1_values=np.array( np.zeros( (d,m)), dtype=theano.config.floatX)\n",
    "a1 = theano.shared(value=a1_values, name='a1', borrow=True)\n",
    "lin_z2 = T.dot( Theta1, a1) + T.tile(b1,(1,m))\n",
    "#lin_z2 = T.dot( Theta1, a1)"
   ]
  },
  {
   "cell_type": "code",
   "execution_count": 132,
   "metadata": {},
   "outputs": [
    {
     "name": "stdout",
     "output_type": "stream",
     "text": [
      "<type 'numpy.ndarray'>\n"
     ]
    },
    {
     "data": {
      "text/plain": [
       "dtype('float32')"
      ]
     },
     "execution_count": 132,
     "metadata": {},
     "output_type": "execute_result"
    }
   ],
   "source": [
    "test_mult = theano.function([],lin_z2)\n",
    "\n",
    "print( type(b_values))\n",
    "b_values.dtype\n"
   ]
  },
  {
   "cell_type": "code",
   "execution_count": 133,
   "metadata": {},
   "outputs": [
    {
     "data": {
      "text/plain": [
       "array([[ 0.,  0.,  0., ...,  0.,  0.,  0.],\n",
       "       [ 0.,  0.,  0., ...,  0.,  0.,  0.],\n",
       "       [ 0.,  0.,  0., ...,  0.,  0.,  0.],\n",
       "       ..., \n",
       "       [ 0.,  0.,  0., ...,  0.,  0.,  0.],\n",
       "       [ 0.,  0.,  0., ...,  0.,  0.,  0.],\n",
       "       [ 0.,  0.,  0., ...,  0.,  0.,  0.]], dtype=float32)"
      ]
     },
     "execution_count": 133,
     "metadata": {},
     "output_type": "execute_result"
    }
   ],
   "source": [
    "test_mult()"
   ]
  },
  {
   "cell_type": "code",
   "execution_count": 126,
   "metadata": {},
   "outputs": [
    {
     "name": "stdout",
     "output_type": "stream",
     "text": [
      "(392, 1)\n"
     ]
    },
    {
     "data": {
      "text/plain": [
       "Reshape{2}.0"
      ]
     },
     "execution_count": 126,
     "metadata": {},
     "output_type": "execute_result"
    }
   ],
   "source": [
    "print( b1.get_value().shape )\n",
    "T.tile( b1, (0,m))"
   ]
  },
  {
   "cell_type": "markdown",
   "metadata": {
    "collapsed": true
   },
   "source": [
    "### `NN.py`, load `NN.py` for `Layer` class for Neural Net for Multiple Layers"
   ]
  },
  {
   "cell_type": "code",
   "execution_count": 13,
   "metadata": {
    "collapsed": true
   },
   "outputs": [],
   "source": [
    "import sys\n",
    "import os"
   ]
  },
  {
   "cell_type": "code",
   "execution_count": 14,
   "metadata": {},
   "outputs": [],
   "source": [
    "#sys.path.append( os.getcwd() + '/ML')\n",
    "sys.path.append( os.getcwd() + '/ML' )"
   ]
  },
  {
   "cell_type": "code",
   "execution_count": 11,
   "metadata": {},
   "outputs": [],
   "source": [
    "from NN import Layer, cost_functional, cost_functional_noreg, gradientDescent_step\n"
   ]
  },
  {
   "cell_type": "markdown",
   "metadata": {},
   "source": [
    "Boilerplate sample data, from Coursera's *Machine Learning Introduction*"
   ]
  },
  {
   "cell_type": "code",
   "execution_count": 12,
   "metadata": {},
   "outputs": [
    {
     "name": "stdout",
     "output_type": "stream",
     "text": [
      "Loading and Visualizing Data ... \n",
      "\n"
     ]
    }
   ],
   "source": [
    "# Load Training Data\n",
    "print(\"Loading and Visualizing Data ... \\n\")\n",
    "ex4data1 = scipy.io.loadmat('./coursera_Ng/machine-learning-ex4/ex4/ex4data1.mat')"
   ]
  },
  {
   "cell_type": "code",
   "execution_count": 14,
   "metadata": {},
   "outputs": [
    {
     "data": {
      "text/plain": [
       "['y', 'X', '__version__', '__header__', '__globals__']"
      ]
     },
     "execution_count": 14,
     "metadata": {},
     "output_type": "execute_result"
    }
   ],
   "source": [
    "ex4data1.keys()"
   ]
  },
  {
   "cell_type": "code",
   "execution_count": 16,
   "metadata": {},
   "outputs": [
    {
     "name": "stdout",
     "output_type": "stream",
     "text": [
      "(5000, 400)\n",
      "(5000, 1)\n"
     ]
    }
   ],
   "source": [
    "print( ex4data1['X'].shape )\n",
    "print( ex4data1['y'].shape )"
   ]
  },
  {
   "cell_type": "code",
   "execution_count": 13,
   "metadata": {
    "collapsed": true
   },
   "outputs": [],
   "source": [
    "test_rng = np.random.RandomState(1234)\n",
    "#Theta1 = Layer( test_rng, 1, 400,25, 5000)"
   ]
  },
  {
   "cell_type": "code",
   "execution_count": 29,
   "metadata": {},
   "outputs": [],
   "source": [
    "#help(Theta1.al.set_value); # Beginning with Theano 0.3.1, set_value will work in-place on the GPU, if ... source on CPU\n",
    "Theta1.al.set_value( ex4data1['X'].T.astype(theano.config.floatX))"
   ]
  },
  {
   "cell_type": "code",
   "execution_count": 21,
   "metadata": {},
   "outputs": [
    {
     "data": {
      "text/plain": [
       "Elemwise{tanh,no_inplace}.0"
      ]
     },
     "execution_count": 21,
     "metadata": {},
     "output_type": "execute_result"
    }
   ],
   "source": [
    "Theta1.alp1"
   ]
  },
  {
   "cell_type": "code",
   "execution_count": 30,
   "metadata": {},
   "outputs": [
    {
     "name": "stdout",
     "output_type": "stream",
     "text": [
      "<class 'theano.tensor.var.TensorVariable'>\n"
     ]
    }
   ],
   "source": [
    "print( type( Theta1.alp1 ) )\n",
    "Theta2 = Layer( test_rng, 2, 25,10,5000, al=Theta1.alp1 )"
   ]
  },
  {
   "cell_type": "code",
   "execution_count": 24,
   "metadata": {},
   "outputs": [
    {
     "data": {
      "text/plain": [
       "Elemwise{tanh,no_inplace}.0"
      ]
     },
     "execution_count": 24,
     "metadata": {},
     "output_type": "execute_result"
    }
   ],
   "source": [
    "Theta2.alp1"
   ]
  },
  {
   "cell_type": "code",
   "execution_count": 35,
   "metadata": {},
   "outputs": [],
   "source": [
    "predicted = theano.function([],sandbox.cuda.basic_ops.gpu_from_host( Theta2.alp1 ) )"
   ]
  },
  {
   "cell_type": "code",
   "execution_count": 37,
   "metadata": {},
   "outputs": [
    {
     "data": {
      "text/plain": [
       "(10, 5000)"
      ]
     },
     "execution_count": 37,
     "metadata": {},
     "output_type": "execute_result"
    }
   ],
   "source": [
    "predicted().shape"
   ]
  },
  {
   "cell_type": "code",
   "execution_count": 39,
   "metadata": {},
   "outputs": [
    {
     "name": "stdout",
     "output_type": "stream",
     "text": [
      "(5000, 1)\n"
     ]
    },
    {
     "data": {
      "text/html": [
       "<div>\n",
       "<table border=\"1\" class=\"dataframe\">\n",
       "  <thead>\n",
       "    <tr style=\"text-align: right;\">\n",
       "      <th></th>\n",
       "      <th>0</th>\n",
       "    </tr>\n",
       "  </thead>\n",
       "  <tbody>\n",
       "    <tr>\n",
       "      <th>count</th>\n",
       "      <td>5000.000000</td>\n",
       "    </tr>\n",
       "    <tr>\n",
       "      <th>mean</th>\n",
       "      <td>5.500000</td>\n",
       "    </tr>\n",
       "    <tr>\n",
       "      <th>std</th>\n",
       "      <td>2.872569</td>\n",
       "    </tr>\n",
       "    <tr>\n",
       "      <th>min</th>\n",
       "      <td>1.000000</td>\n",
       "    </tr>\n",
       "    <tr>\n",
       "      <th>25%</th>\n",
       "      <td>3.000000</td>\n",
       "    </tr>\n",
       "    <tr>\n",
       "      <th>50%</th>\n",
       "      <td>5.500000</td>\n",
       "    </tr>\n",
       "    <tr>\n",
       "      <th>75%</th>\n",
       "      <td>8.000000</td>\n",
       "    </tr>\n",
       "    <tr>\n",
       "      <th>max</th>\n",
       "      <td>10.000000</td>\n",
       "    </tr>\n",
       "  </tbody>\n",
       "</table>\n",
       "</div>"
      ],
      "text/plain": [
       "                 0\n",
       "count  5000.000000\n",
       "mean      5.500000\n",
       "std       2.872569\n",
       "min       1.000000\n",
       "25%       3.000000\n",
       "50%       5.500000\n",
       "75%       8.000000\n",
       "max      10.000000"
      ]
     },
     "execution_count": 39,
     "metadata": {},
     "output_type": "execute_result"
    }
   ],
   "source": [
    "print( ex4data1['y'].shape )\n",
    "pd.DataFrame( ex4data1['y']).describe()"
   ]
  },
  {
   "cell_type": "code",
   "execution_count": 21,
   "metadata": {},
   "outputs": [
    {
     "name": "stdout",
     "output_type": "stream",
     "text": [
      "(10, 5000)\n"
     ]
    }
   ],
   "source": [
    "# recall that whereas the original labels (in the variable y) were 1, 2, ..., 10, for the purpose of training a \n",
    "# neural network, we need to recode the labels as vectors containing only values 0 or 1\n",
    "K=10\n",
    "m = ex4data1['y'].shape[0]\n",
    "y_prob = [np.zeros(K) for row in ex4data1['y']]  # list of 5000 numpy arrays of size dims. (10,)\n",
    "for i in range( m):\n",
    "        y_prob[i][ ex4data1['y'][i]-1] = 1\n",
    "y_prob = np.array(y_prob).T.astype(theano.config.floatX)  # size dims. (K,m)\n",
    "print(y_prob.shape)"
   ]
  },
  {
   "cell_type": "code",
   "execution_count": 47,
   "metadata": {},
   "outputs": [
    {
     "name": "stdout",
     "output_type": "stream",
     "text": [
      "<type 'numpy.ndarray'>\n"
     ]
    },
    {
     "data": {
      "text/plain": [
       "numpy.ndarray"
      ]
     },
     "execution_count": 47,
     "metadata": {},
     "output_type": "execute_result"
    }
   ],
   "source": [
    "print( type(y_prob) )\n",
    "type( np.asarray( y_prob, dtype=theano.config.floatX) )"
   ]
  },
  {
   "cell_type": "code",
   "execution_count": 48,
   "metadata": {},
   "outputs": [
    {
     "name": "stdout",
     "output_type": "stream",
     "text": [
      "Help on function trace in module theano.tensor.nlinalg:\n",
      "\n",
      "trace(X)\n",
      "    Returns the sum of diagonal elements of matrix X.\n",
      "    \n",
      "    Notes\n",
      "    -----\n",
      "    Works on GPU since 0.6rc4.\n",
      "\n"
     ]
    }
   ],
   "source": [
    "help( T.nlinalg.trace )"
   ]
  },
  {
   "cell_type": "code",
   "execution_count": 49,
   "metadata": {
    "collapsed": true
   },
   "outputs": [],
   "source": [
    "y_sh_var = theano.shared( np.asarray( y_prob,dtype=theano.config.floatX),name='y')"
   ]
  },
  {
   "cell_type": "code",
   "execution_count": 54,
   "metadata": {
    "collapsed": true
   },
   "outputs": [],
   "source": [
    "h_test = Theta2.alp1\n",
    "J = sandbox.cuda.basic_ops.gpu_from_host(\n",
    "        (-T.nlinalg.trace( T.dot( T.log( h_test ), y_sh_var.T)) - T.nlinalg.trace( \n",
    "        T.dot( T.log( np.float32(1.)-h_test),(np.float32(1.)- y_sh_var.T ) )))/np.float32(m)\n",
    "    )"
   ]
  },
  {
   "cell_type": "code",
   "execution_count": 55,
   "metadata": {},
   "outputs": [
    {
     "name": "stdout",
     "output_type": "stream",
     "text": [
      "<class 'theano.sandbox.cuda.var.CudaNdarrayVariable'>\n"
     ]
    }
   ],
   "source": [
    "print(type(J))\n",
    "test_cost_func = theano.function([],J)"
   ]
  },
  {
   "cell_type": "code",
   "execution_count": 56,
   "metadata": {},
   "outputs": [
    {
     "data": {
      "text/plain": [
       "CudaNdarray(nan)"
      ]
     },
     "execution_count": 56,
     "metadata": {},
     "output_type": "execute_result"
    }
   ],
   "source": [
    "test_cost_func()"
   ]
  },
  {
   "cell_type": "code",
   "execution_count": 58,
   "metadata": {},
   "outputs": [],
   "source": [
    "J_test_build = sandbox.cuda.basic_ops.gpu_from_host( -T.nlinalg.trace( T.dot( T.log(h_test),y_sh_var.T) ) )\n",
    "test_cost_build_func = theano.function([], J_test_build)"
   ]
  },
  {
   "cell_type": "code",
   "execution_count": 59,
   "metadata": {},
   "outputs": [
    {
     "data": {
      "text/plain": [
       "CudaNdarray(nan)"
      ]
     },
     "execution_count": 59,
     "metadata": {},
     "output_type": "execute_result"
    }
   ],
   "source": [
    "test_cost_build_func()"
   ]
  },
  {
   "cell_type": "markdown",
   "metadata": {},
   "source": [
    "** Sanity check using `ex4.m`, Exercise 4 or Programming Exercise 4 from Coursera's Machine Learning Introduction by Ng ** "
   ]
  },
  {
   "cell_type": "code",
   "execution_count": 14,
   "metadata": {
    "collapsed": true
   },
   "outputs": [],
   "source": [
    "Theta_testvals = scipy.io.loadmat('./coursera_Ng/machine-learning-ex4/ex4/ex4weights.mat')"
   ]
  },
  {
   "cell_type": "code",
   "execution_count": 16,
   "metadata": {},
   "outputs": [
    {
     "name": "stdout",
     "output_type": "stream",
     "text": [
      "['Theta2', '__version__', '__header__', 'Theta1', '__globals__']\n",
      "(25, 401)\n",
      "(10, 26)\n",
      "(25, 400)\n",
      "(25, 1)\n",
      "(10, 25)\n",
      "(10, 1)\n"
     ]
    }
   ],
   "source": [
    "print( Theta_testvals.keys() )\n",
    "print( Theta_testvals['Theta1'].shape )\n",
    "print( Theta_testvals['Theta2'].shape )\n",
    "Theta1_testval = Theta_testvals['Theta1'][:,1:]\n",
    "b1_testval = Theta_testvals['Theta1'][:,0:1]\n",
    "print( Theta1_testval.shape )\n",
    "print( b1_testval.shape )\n",
    "Theta2_testval = Theta_testvals['Theta2'][:,1:]\n",
    "b2_testval = Theta_testvals['Theta2'][:,0:1]\n",
    "print( Theta2_testval.shape )\n",
    "print( b2_testval.shape )"
   ]
  },
  {
   "cell_type": "code",
   "execution_count": 15,
   "metadata": {},
   "outputs": [],
   "source": [
    "Theta1 = Layer( test_rng, 1, 400,25, 5000, activation=T.nnet.sigmoid)"
   ]
  },
  {
   "cell_type": "code",
   "execution_count": 17,
   "metadata": {},
   "outputs": [],
   "source": [
    "\n",
    "Theta1.Theta.set_value( Theta1_testval.astype(\"float32\"))\n",
    "Theta1.b.set_value( b1_testval.astype('float32') )\n",
    "Theta1.al.set_value( ex4data1['X'].T.astype('float32'))"
   ]
  },
  {
   "cell_type": "markdown",
   "metadata": {},
   "source": [
    "For $\\Theta^{(2)}$, the key to connecting $\\Theta^{(2)}$ with $\\Theta^{(1)}$ is to set the argument in class `Layer` with `al=Theta1.alp1`, "
   ]
  },
  {
   "cell_type": "code",
   "execution_count": 18,
   "metadata": {
    "collapsed": true
   },
   "outputs": [],
   "source": [
    "Theta2 = Layer( test_rng, 2, 25,10,5000, al=Theta1.alp1 , activation=T.nnet.sigmoid)"
   ]
  },
  {
   "cell_type": "code",
   "execution_count": 19,
   "metadata": {
    "collapsed": true
   },
   "outputs": [],
   "source": [
    "Theta2.Theta.set_value( Theta2_testval.astype('float32'))\n",
    "Theta2.b.set_value( b2_testval.astype('float32'))"
   ]
  },
  {
   "cell_type": "code",
   "execution_count": 107,
   "metadata": {
    "collapsed": true
   },
   "outputs": [],
   "source": [
    "h_test = Theta2.alp1\n",
    "J = sandbox.cuda.basic_ops.gpu_from_host(\n",
    "    T.mean( T.sum( \n",
    "        - y_sh_var * T.log( h_test ) - ( np.float32( 1) - y_sh_var) * T.log( np.float32(1) - h_test), axis =0), axis=0)\n",
    "  )\n",
    "#J = sandbox.cuda.basic_ops.gpu_from_host( \n",
    "#    T.log(h_test) * y_sh_var\n",
    "#    )"
   ]
  },
  {
   "cell_type": "code",
   "execution_count": 108,
   "metadata": {
    "collapsed": true
   },
   "outputs": [],
   "source": [
    "test_cost_func = theano.function([],J)"
   ]
  },
  {
   "cell_type": "code",
   "execution_count": 109,
   "metadata": {},
   "outputs": [
    {
     "data": {
      "text/plain": [
       "CudaNdarray(0.287629187107)"
      ]
     },
     "execution_count": 109,
     "metadata": {},
     "output_type": "execute_result"
    }
   ],
   "source": [
    "test_cost_func()"
   ]
  },
  {
   "cell_type": "code",
   "execution_count": 80,
   "metadata": {},
   "outputs": [
    {
     "name": "stdout",
     "output_type": "stream",
     "text": [
      "<class 'theano.sandbox.cuda.var.CudaNdarraySharedVariable'>\n",
      "(10, 5000)\n",
      "<class 'theano.tensor.var.TensorVariable'>\n"
     ]
    }
   ],
   "source": [
    "print(type( y_sh_var) )\n",
    "print( y_sh_var.get_value().shape )\n",
    "print( type( h_test ))"
   ]
  },
  {
   "cell_type": "code",
   "execution_count": 94,
   "metadata": {
    "collapsed": true
   },
   "outputs": [],
   "source": [
    "checklayer2 = theano.function([], sandbox.cuda.basic_ops.gpu_from_host(Theta1.alp1))"
   ]
  },
  {
   "cell_type": "code",
   "execution_count": 102,
   "metadata": {},
   "outputs": [
    {
     "data": {
      "text/plain": [
       "CudaNdarray([[ 0.49435964  0.49435964  0.49435964 ...,  0.49435964  0.49435964\n",
       "   0.49435964]\n",
       " [ 0.47542453  0.47542453  0.47542453 ...,  0.47542453  0.47542453\n",
       "   0.47542453]\n",
       " [ 0.52900642  0.52900642  0.52900642 ...,  0.52900642  0.52900642\n",
       "   0.52900642]\n",
       " ..., \n",
       " [ 0.45432255  0.45432255  0.45432255 ...,  0.45432255  0.45432255\n",
       "   0.45432255]\n",
       " [ 0.33134761  0.33134761  0.33134761 ...,  0.33134761  0.33134761\n",
       "   0.33134761]\n",
       " [ 0.41315612  0.41315612  0.41315612 ...,  0.41315612  0.41315612\n",
       "   0.41315612]])"
      ]
     },
     "execution_count": 102,
     "metadata": {},
     "output_type": "execute_result"
    }
   ],
   "source": [
    "checklayer2() "
   ]
  },
  {
   "cell_type": "code",
   "execution_count": 112,
   "metadata": {},
   "outputs": [],
   "source": [
    "testreg = theano.function([], T.sum( Theta1.Theta * Theta1.Theta ) )"
   ]
  },
  {
   "cell_type": "code",
   "execution_count": 113,
   "metadata": {},
   "outputs": [
    {
     "data": {
      "text/plain": [
       "array(392.58416748046875, dtype=float32)"
      ]
     },
     "execution_count": 113,
     "metadata": {},
     "output_type": "execute_result"
    }
   ],
   "source": [
    "testreg()"
   ]
  },
  {
   "cell_type": "code",
   "execution_count": 114,
   "metadata": {},
   "outputs": [
    {
     "data": {
      "text/plain": [
       "[1, 2]"
      ]
     },
     "execution_count": 114,
     "metadata": {},
     "output_type": "execute_result"
    }
   ],
   "source": [
    "range(1,3)"
   ]
  },
  {
   "cell_type": "code",
   "execution_count": 115,
   "metadata": {
    "collapsed": true
   },
   "outputs": [],
   "source": [
    "Thetas_lst = [ Theta1.Theta, Theta2.Theta ]"
   ]
  },
  {
   "cell_type": "code",
   "execution_count": 118,
   "metadata": {},
   "outputs": [
    {
     "data": {
      "text/plain": [
       "Sum{acc_dtype=float64}.0"
      ]
     },
     "execution_count": 118,
     "metadata": {},
     "output_type": "execute_result"
    }
   ],
   "source": [
    "T.sum( [ T.sum( theta*theta) for theta in Thetas_lst] )"
   ]
  },
  {
   "cell_type": "code",
   "execution_count": 22,
   "metadata": {},
   "outputs": [],
   "source": [
    "cost_func_test = cost_functional(3, 1, y_prob, Theta2.alp1, [Theta1.Theta, Theta2.Theta])"
   ]
  },
  {
   "cell_type": "code",
   "execution_count": 23,
   "metadata": {
    "collapsed": true
   },
   "outputs": [],
   "source": [
    "cost_test = theano.function([], cost_func_test)"
   ]
  },
  {
   "cell_type": "code",
   "execution_count": 24,
   "metadata": {},
   "outputs": [
    {
     "data": {
      "text/plain": [
       "CudaNdarray(0.383769869804)"
      ]
     },
     "execution_count": 24,
     "metadata": {},
     "output_type": "execute_result"
    }
   ],
   "source": [
    "cost_test() # (this value should be about 0.383770)"
   ]
  },
  {
   "cell_type": "code",
   "execution_count": 26,
   "metadata": {},
   "outputs": [],
   "source": [
    "grad_test = T.grad( cost_func_test,[Theta1.Theta, Theta2.Theta])"
   ]
  },
  {
   "cell_type": "code",
   "execution_count": 27,
   "metadata": {
    "collapsed": true
   },
   "outputs": [],
   "source": [
    "grad_test_test = theano.function([], grad_test)"
   ]
  },
  {
   "cell_type": "code",
   "execution_count": 31,
   "metadata": {},
   "outputs": [
    {
     "name": "stdout",
     "output_type": "stream",
     "text": [
      "<type 'list'>\n",
      "2\n",
      "<type 'numpy.ndarray'>\n",
      "(25, 400)\n",
      "(10, 25)\n"
     ]
    }
   ],
   "source": [
    "print( type(grad_test_test() ) )\n",
    "print( len( grad_test_test() ))\n",
    "print( type(grad_test_test()[0] ))\n",
    "print( grad_test_test()[0].shape )\n",
    "print( grad_test_test()[1].shape )"
   ]
  },
  {
   "cell_type": "code",
   "execution_count": 41,
   "metadata": {},
   "outputs": [
    {
     "name": "stdout",
     "output_type": "stream",
     "text": [
      "[0, 1, 2, 3, 4, 5]\n",
      "['E', 'r', 'n', 'e', 's', 't']\n",
      "<type 'list'>\n"
     ]
    }
   ],
   "source": [
    "print( range(6))\n",
    "print( list( \"Ernest\") )\n",
    "zip( range(6), list(\"Ernest\"))\n",
    "print( type(grad_test))"
   ]
  },
  {
   "cell_type": "code",
   "execution_count": 40,
   "metadata": {},
   "outputs": [
    {
     "name": "stdout",
     "output_type": "stream",
     "text": [
      "[Shape_i{1}(b1), Shape_i{0}(b1), GpuDimShuffle{1,0}(al), Shape_i{1}(y), Shape_i{1}(b2), Shape_i{0}(b2), GpuDimShuffle{1,0}(Theta2), GpuElemwise{mul,no_inplace}(CudaNdarrayConstant{[[  9.99999975e-05]]}, Theta2), GpuElemwise{mul,no_inplace}(CudaNdarrayConstant{[[  9.99999975e-05]]}, Theta1), GpuAlloc(b1, TensorConstant{1}, TensorConstant{5000}, Shape_i{0}.0, Shape_i{1}.0), InplaceDimShuffle{x,x}(Shape_i{1}.0), GpuAlloc(b2, TensorConstant{1}, TensorConstant{5000}, Shape_i{0}.0, Shape_i{1}.0), Elemwise{Mul}[(0, 1)](TensorConstant{5000}, Shape_i{1}.0), Elemwise{Mul}[(0, 1)](TensorConstant{5000}, Shape_i{1}.0), GpuDimShuffle{0,2,1,3}(GpuAlloc.0), Elemwise{Cast{float32}}(InplaceDimShuffle{x,x}.0), GpuDimShuffle{0,2,1,3}(GpuAlloc.0), MakeVector{dtype='int64'}(Shape_i{0}.0, Elemwise{Mul}[(0, 1)].0), MakeVector{dtype='int64'}(Shape_i{0}.0, Elemwise{Mul}[(0, 1)].0), GpuFromHost(Elemwise{Cast{float32}}.0), GpuReshape{2}(GpuDimShuffle{0,2,1,3}.0, MakeVector{dtype='int64'}.0), GpuReshape{2}(GpuDimShuffle{0,2,1,3}.0, MakeVector{dtype='int64'}.0), GpuElemwise{true_div,no_inplace}(CudaNdarrayConstant{[[-1.]]}, GpuFromHost.0), GpuGemm{inplace}(GpuReshape{2}.0, TensorConstant{1.0}, Theta1, al, TensorConstant{1.0}), GpuElemwise{ScalarSigmoid}[(0, 0)](GpuGemm{inplace}.0), GpuDimShuffle{1,0}(GpuElemwise{ScalarSigmoid}[(0, 0)].0), GpuGemm{inplace}(GpuReshape{2}.0, TensorConstant{1.0}, Theta2, GpuElemwise{ScalarSigmoid}[(0, 0)].0, TensorConstant{1.0}), GpuElemwise{Composite{(((i0 * i1 * (i2 - scalar_sigmoid(i3))) / i4) - (i5 * (i2 - i1) * scalar_sigmoid(i3)))}}[(0, 3)](CudaNdarrayConstant{[[-1.]]}, y, CudaNdarrayConstant{[[ 1.]]}, GpuGemm{inplace}.0, GpuFromHost.0, GpuElemwise{true_div,no_inplace}.0), GpuGemm{inplace}(GpuElemwise{mul,no_inplace}.0, TensorConstant{1.0}, GpuElemwise{Composite{(((i0 * i1 * (i2 - scalar_sigmoid(i3))) / i4) - (i5 * (i2 - i1) * scalar_sigmoid(i3)))}}[(0, 3)].0, GpuDimShuffle{1,0}.0, TensorConstant{2.0}), GpuDot22(GpuDimShuffle{1,0}.0, GpuElemwise{Composite{(((i0 * i1 * (i2 - scalar_sigmoid(i3))) / i4) - (i5 * (i2 - i1) * scalar_sigmoid(i3)))}}[(0, 3)].0), HostFromGpu(GpuGemm{inplace}.0), GpuElemwise{Composite{((i0 * i1) * (i2 - i1))}}[(0, 0)](GpuDot22.0, GpuElemwise{ScalarSigmoid}[(0, 0)].0, CudaNdarrayConstant{[[ 1.]]}), GpuGemm{inplace}(GpuElemwise{mul,no_inplace}.0, TensorConstant{1.0}, GpuElemwise{Composite{((i0 * i1) * (i2 - i1))}}[(0, 0)].0, GpuDimShuffle{1,0}.0, TensorConstant{2.0}), HostFromGpu(GpuGemm{inplace}.0)]\n"
     ]
    }
   ],
   "source": [
    "print( grad_test_test.maker.fgraph.toposort() )"
   ]
  },
  {
   "cell_type": "code",
   "execution_count": 43,
   "metadata": {},
   "outputs": [
    {
     "ename": "TypeError",
     "evalue": "can't multiply sequence by non-int of type 'float'",
     "output_type": "error",
     "traceback": [
      "\u001b[1;31m---------------------------------------------------------------------------\u001b[0m",
      "\u001b[1;31mTypeError\u001b[0m                                 Traceback (most recent call last)",
      "\u001b[1;32m<ipython-input-43-c3291a50120e>\u001b[0m in \u001b[0;36m<module>\u001b[1;34m()\u001b[0m\n\u001b[1;32m----> 1\u001b[1;33m \u001b[1;36m0.01\u001b[0m \u001b[1;33m*\u001b[0m \u001b[0mgrad_test\u001b[0m\u001b[1;33m\u001b[0m\u001b[0m\n\u001b[0m",
      "\u001b[1;31mTypeError\u001b[0m: can't multiply sequence by non-int of type 'float'"
     ]
    }
   ],
   "source": [
    "0.01 * grad_test"
   ]
  },
  {
   "cell_type": "code",
   "execution_count": 44,
   "metadata": {
    "collapsed": true
   },
   "outputs": [],
   "source": [
    "test_update = [(Theta,sandbox.cuda.basic_ops.gpu_from_host( Theta - np.float32(0.01)*T.grad(cost_func_test, Theta)+0.0001*Theta ) ) for Theta in [Theta1.Theta, Theta2.Theta] ]"
   ]
  },
  {
   "cell_type": "code",
   "execution_count": 46,
   "metadata": {},
   "outputs": [],
   "source": [
    "test_gradDes_step = theano.function( inputs=[], updates= test_update )"
   ]
  },
  {
   "cell_type": "code",
   "execution_count": 47,
   "metadata": {},
   "outputs": [
    {
     "data": {
      "text/plain": [
       "[]"
      ]
     },
     "execution_count": 47,
     "metadata": {},
     "output_type": "execute_result"
    }
   ],
   "source": [
    "test_gradDes_step()"
   ]
  },
  {
   "cell_type": "code",
   "execution_count": 52,
   "metadata": {},
   "outputs": [
    {
     "name": "stdout",
     "output_type": "stream",
     "text": [
      "[[ -1.05634514e-08   2.19436180e-09  -6.92295362e-06 ...,  -1.30543685e-05\n",
      "   -5.04227410e-06   2.80491941e-09]\n",
      " [  7.66243780e-09  -9.75969350e-09   1.04755338e-06 ...,  -5.60192129e-05\n",
      "    2.00961935e-07   3.54457574e-09]\n",
      " [ -8.77740458e-09   8.16117751e-09  -1.47759499e-06 ...,  -1.20964221e-04\n",
      "   -2.33693959e-06  -7.50741602e-09]\n",
      " ..., \n",
      " [ -8.89359164e-09  -9.82064385e-09  -7.78459707e-06 ...,   2.35335647e-05\n",
      "   -3.25518340e-06   9.02587516e-09]\n",
      " [  3.05208303e-10   2.56086108e-09  -2.11960196e-06 ...,  -8.61849287e-04\n",
      "    9.43547930e-05   3.83799614e-09]\n",
      " [  8.85963747e-09  -6.57579602e-10  -8.81727192e-06 ...,  -1.80388656e-06\n",
      "   -8.14549094e-06   8.79540707e-09]]\n",
      "[[-1.21257138 -0.10188229 -2.36874819 -1.0578922  -2.20846629  0.56389523\n",
      "   1.21117842  2.21053886  0.4446061  -1.18257177  1.04299855 -1.60575604\n",
      "   1.30433381  1.37189186  1.74843192 -0.23368138 -1.52030313  1.15336025\n",
      "   0.10369149 -0.37211585 -0.61536551 -0.12569839 -2.27216721 -0.71843761\n",
      "  -1.29703891]\n",
      " [ 0.61565566 -1.26563799  1.85764742 -0.91862833 -0.05503076 -0.38593763\n",
      "   1.2953428  -1.56859624 -0.97036505 -2.18357611 -2.85063267 -2.07754731\n",
      "   1.63180149  0.34905949  1.82808101 -2.44199824 -0.85639215 -0.29828632\n",
      "  -2.07969451 -1.2934581   0.8999148   0.28309527  2.31204581 -2.46469688\n",
      "   1.45671725]\n",
      " [-1.94558346  2.01381588 -3.12348628 -0.23620027  1.38695455  0.9099192\n",
      "  -1.54790509 -0.79839182 -0.65606695  0.73545998 -2.58620143  0.47215798\n",
      "   0.55355227  2.51281595 -2.41699743 -1.63915682  1.20285499 -1.20258307\n",
      "  -1.83465064 -1.88032556 -0.34059626  0.23694935 -1.06149018  1.02769864\n",
      "  -0.47695836]\n",
      " [ 0.46304011  0.58498383 -0.16503577  1.93284273 -0.2296816  -1.84750748\n",
      "   0.49016848  1.07157159 -3.31940198  1.54129529  0.37375814 -0.86493742\n",
      "  -2.583004    0.97072506 -0.51027173 -0.68435007 -1.64730716  0.21155307\n",
      "  -0.27425268  1.72617733  1.32432389 -2.64011979 -0.08056725 -2.03531981\n",
      "  -1.46138978]\n",
      " [-2.04503059  2.05719876  1.95121229  0.17639595 -2.16163683 -0.40398875\n",
      "   1.8017633  -1.56294954 -0.2525554   0.23588987  0.71664256  1.07700384\n",
      "  -0.3546088  -1.67760444 -0.12940609 -0.67495829  1.14078426  1.32445085\n",
      "   3.21191907 -2.15911388 -2.60191083 -3.22298121 -1.89632535 -0.87497073\n",
      "   2.51064777]\n",
      " [ 0.43445611 -0.93170726  0.18392649 -0.36082     0.61964542  0.38628966\n",
      "  -2.65177917  2.29734659 -2.08839846 -1.86401701  1.06068861  0.77570206\n",
      "   2.13490796 -1.14985681 -0.52086854  0.99753791 -1.48324752 -2.31418347\n",
      "   0.29520378 -0.38708907 -2.20630646  0.3070533  -1.17658365 -1.63479984\n",
      "  -0.82476246]\n",
      " [ 1.21576905 -1.50111604 -2.03216481 -1.52382553 -2.43757415 -2.37595034\n",
      "  -1.40001822 -0.88744533 -0.63285488  1.50465775 -1.58092761  0.58605266\n",
      "  -0.77548492  0.942671    2.10941553  0.54484761  0.43778127 -1.28037572\n",
      "  -0.0436146   1.47765326 -1.13288772 -0.72854507  0.04735166  1.65762866\n",
      "   1.68558455]\n",
      " [-0.72256583 -3.15261006  0.36581546  0.19813281 -0.73067629  1.65280986\n",
      "  -2.30059648 -1.87487686  0.98105556 -1.58841705  1.35448146  2.17917943\n",
      "  -1.99260521 -2.00392246 -0.38865316 -2.34017301 -2.91749477  0.99408847\n",
      "  -2.70504951 -1.27153015  1.86110783 -1.20531952 -0.38018176  0.70879132\n",
      "  -2.11035943]\n",
      " [ 0.53607166  1.30320907 -1.03383625 -4.03126812  0.58179194 -2.65745735\n",
      "   0.80388159 -1.09253371  2.49935699  0.36204222  0.66201895 -0.92170537\n",
      "  -0.83132339 -2.0022192  -2.94928217  0.64570653 -1.10126281  0.74517834\n",
      "   0.5851267  -1.99566114  0.62597275  1.80614579 -0.22312002 -1.40457022\n",
      "  -2.13213754]\n",
      " [-1.43959904 -1.2182219   0.71100444  0.45221624 -0.35957071  0.62291443\n",
      "  -0.67012274 -0.7069872   0.06312034 -1.2321192  -1.74663413 -2.71989202\n",
      "  -2.21460128 -1.69325113 -0.90936852  0.87861484  1.18677163 -1.87060738\n",
      "   0.39800486  1.72131801 -1.36948287  0.85815626 -0.24782105  1.2802242\n",
      "  -1.3276583 ]]\n"
     ]
    }
   ],
   "source": [
    "print( Theta1.Theta.get_value() )\n",
    "print( Theta2.Theta.get_value() )"
   ]
  },
  {
   "cell_type": "code",
   "execution_count": 53,
   "metadata": {},
   "outputs": [
    {
     "data": {
      "text/plain": [
       "[]"
      ]
     },
     "execution_count": 53,
     "metadata": {},
     "output_type": "execute_result"
    }
   ],
   "source": [
    "test_gradDes_step()"
   ]
  },
  {
   "cell_type": "code",
   "execution_count": 54,
   "metadata": {},
   "outputs": [
    {
     "name": "stdout",
     "output_type": "stream",
     "text": [
      "[[ -1.05644871e-08   2.19457674e-09  -6.92367394e-06 ...,  -1.30557455e-05\n",
      "   -5.04279706e-06   2.80519430e-09]\n",
      " [  7.66318919e-09  -9.76065007e-09   1.04766264e-06 ...,  -5.60250264e-05\n",
      "    2.00982896e-07   3.54492324e-09]\n",
      " [ -8.77826434e-09   8.16197776e-09  -1.47774847e-06 ...,  -1.20976787e-04\n",
      "   -2.33718265e-06  -7.50815143e-09]\n",
      " ..., \n",
      " [ -8.89446294e-09  -9.82160664e-09  -7.78540652e-06 ...,   2.35360112e-05\n",
      "   -3.25552196e-06   9.02675978e-09]\n",
      " [  3.05238224e-10   2.56111221e-09  -2.11982092e-06 ...,  -8.61938810e-04\n",
      "    9.43645937e-05   3.83837229e-09]\n",
      " [  8.86050611e-09  -6.57644050e-10  -8.81818869e-06 ...,  -1.80411416e-06\n",
      "   -8.14633404e-06   8.79626860e-09]]\n",
      "[[-1.21269774 -0.10189326 -2.36899543 -1.05800319 -2.20869637  0.56395203\n",
      "   1.21130395  2.21076775  0.44465062 -1.18269479  1.04310584 -1.60592437\n",
      "   1.30446815  1.37203324  1.74861288 -0.2337063  -1.52046156  1.15347874\n",
      "   0.10370216 -0.3721545  -0.61543089 -0.12571317 -2.27240396 -0.71851313\n",
      "  -1.29717469]\n",
      " [ 0.61571926 -1.2657696   1.85784066 -0.91872346 -0.05503564 -0.38597718\n",
      "   1.29547703 -1.56875956 -0.9704659  -2.18380332 -2.8509295  -2.07776403\n",
      "   1.63197136  0.34909612  1.82827091 -2.44225264 -0.8564809  -0.29831624\n",
      "  -2.07991028 -1.29359245  0.90000927  0.28312474  2.31228638 -2.46495295\n",
      "   1.45686901]\n",
      " [-1.9457854   2.01402569 -3.12381077 -0.23622425  1.38709962  0.91001403\n",
      "  -1.54806602 -0.79847473 -0.65613556  0.73553669 -2.58646989  0.47220758\n",
      "   0.55360955  2.51307726 -2.41724944 -1.63932729  1.20297968 -1.20270777\n",
      "  -1.83484173 -1.88052094 -0.34063154  0.23697387 -1.06160128  1.02780485\n",
      "  -0.47700837]\n",
      " [ 0.46308801  0.58504438 -0.16505313  1.93304372 -0.22970556 -1.8477\n",
      "   0.49021927  1.07168269 -3.31974745  1.54145551  0.37379676 -0.86502802\n",
      "  -2.58327293  0.97082567 -0.51032478 -0.68442118 -1.64747822  0.21157469\n",
      "  -0.27428094  1.7263571   1.32446122 -2.64039493 -0.08057581 -2.03553128\n",
      "  -1.46154177]\n",
      " [-2.04524326  2.05741334  1.95141554  0.17641492 -2.16186166 -0.40403011\n",
      "   1.80195129 -1.56311166 -0.25258079  0.23591475  0.7167182   1.07711673\n",
      "  -0.35464483 -1.67777836 -0.12941965 -0.6750282   1.14090323  1.32458937\n",
      "   3.21225333 -2.15933871 -2.60218096 -3.22331572 -1.89652169 -0.8750608\n",
      "   2.51090932]\n",
      " [ 0.43450102 -0.93180406  0.18394522 -0.36085787  0.61970943  0.3863298\n",
      "  -2.65205503  2.29758549 -2.08861589 -1.86421084  1.06079876  0.7757827\n",
      "   2.13512993 -1.14997661 -0.52092284  0.99764156 -1.48340154 -2.31442451\n",
      "   0.2952342  -0.3871294  -2.20653629  0.30708465 -1.17670619 -1.63497019\n",
      "  -0.82484829]\n",
      " [ 1.21589518 -1.5012722  -2.03237605 -1.52398372 -2.43782783 -2.37619758\n",
      "  -1.40016377 -0.88753754 -0.63292104  1.50481379 -1.58109224  0.58611315\n",
      "  -0.77556568  0.94276875  2.10963464  0.54490387  0.43782642 -1.28050911\n",
      "  -0.04361925  1.47780681 -1.13300586 -0.72862113  0.04735615  1.65780067\n",
      "   1.68575966]\n",
      " [-0.72264111 -3.1529386   0.3658531   0.19815198 -0.73075318  1.65298057\n",
      "  -2.30083585 -1.87507212  0.98115718 -1.58858275  1.35462141  2.17940545\n",
      "  -1.99281275 -2.00413132 -0.38869336 -2.34041619 -2.917799    0.99419045\n",
      "  -2.70533133 -1.27166259  1.86130106 -1.20544505 -0.38022164  0.70886451\n",
      "  -2.11057878]\n",
      " [ 0.53612489  1.30334234 -1.03394532 -4.03168917  0.58184916 -2.65773559\n",
      "   0.80396318 -1.09264815  2.49961329  0.3620764   0.66208446 -0.92180538\n",
      "  -0.83141011 -2.00242877 -2.94958925  0.64577097 -1.10137868  0.74525356\n",
      "   0.5851863  -1.99586976  0.62603438  1.80633044 -0.2231469  -1.40471911\n",
      "  -2.13235974]\n",
      " [-1.43974864 -1.21834874  0.71107888  0.4522633  -0.35960764  0.62297934\n",
      "  -0.67019254 -0.70706058  0.06312715 -1.23224759 -1.74681592 -2.72017503\n",
      "  -2.21483088 -1.69342732 -0.90946311  0.87870657  1.18689513 -1.87080216\n",
      "   0.39804676  1.7214973  -1.36962521  0.85824573 -0.24784632  1.28035724\n",
      "  -1.32779622]]\n"
     ]
    }
   ],
   "source": [
    "print( Theta1.Theta.get_value() )\n",
    "print( Theta2.Theta.get_value() )"
   ]
  },
  {
   "cell_type": "code",
   "execution_count": 23,
   "metadata": {},
   "outputs": [],
   "source": [
    "gradDes_test_res = gradientDescent_step(cost_func_test, [Theta1.Theta, Theta2.Theta], 0.01, 0.00001 )"
   ]
  },
  {
   "cell_type": "code",
   "execution_count": 25,
   "metadata": {},
   "outputs": [
    {
     "name": "stdout",
     "output_type": "stream",
     "text": [
      "<type 'tuple'>\n"
     ]
    }
   ],
   "source": [
    "print( type(gradDes_test_res) )\n",
    "gradDes_step_test = gradDes_test_res[1]"
   ]
  },
  {
   "cell_type": "code",
   "execution_count": 26,
   "metadata": {},
   "outputs": [
    {
     "data": {
      "text/plain": [
       "[]"
      ]
     },
     "execution_count": 26,
     "metadata": {},
     "output_type": "execute_result"
    }
   ],
   "source": [
    "gradDes_step_test()"
   ]
  },
  {
   "cell_type": "code",
   "execution_count": 27,
   "metadata": {},
   "outputs": [
    {
     "name": "stdout",
     "output_type": "stream",
     "text": [
      "[[ -1.05625011e-08   2.19416441e-09  -6.92233061e-06 ...,  -1.30531944e-05\n",
      "   -5.04182026e-06   2.80466694e-09]\n",
      " [  7.66174768e-09  -9.75881509e-09   1.04745914e-06 ...,  -5.60141707e-05\n",
      "    2.00943859e-07   3.54425689e-09]\n",
      " [ -8.77661499e-09   8.16044299e-09  -1.47746198e-06 ...,  -1.20953329e-04\n",
      "   -2.33672927e-06  -7.50674101e-09]\n",
      " ..., \n",
      " [ -8.89279139e-09  -9.81976012e-09  -7.78389676e-06 ...,   2.35314474e-05\n",
      "   -3.25489032e-06   9.02506336e-09]\n",
      " [  3.05180825e-10   2.56063060e-09  -2.11941119e-06 ...,  -8.61771696e-04\n",
      "    9.43463019e-05   3.83765109e-09]\n",
      " [  8.85883988e-09  -6.57520427e-10  -8.81647793e-06 ...,  -1.80372422e-06\n",
      "   -8.14475789e-06   8.79461570e-09]]\n",
      "[[-1.21246231 -0.10187311 -2.3685348  -1.05779707 -2.20826769  0.5638445\n",
      "   1.21106946  2.21034002  0.44456607 -1.18246531  1.04290473 -1.60561156\n",
      "   1.3042165   1.37176836  1.74827456 -0.23366036 -1.5201664   1.15325642\n",
      "   0.10368215 -0.37208235 -0.61531013 -0.12568706 -2.27196264 -0.718373\n",
      "  -1.29692221]\n",
      " [ 0.61560023 -1.26552403  1.85748029 -0.91854566 -0.05502581 -0.38590291\n",
      "   1.29522622 -1.5684551  -0.97027773 -2.18337965 -2.85037613 -2.07736039\n",
      "   1.63165462  0.34902808  1.8279165  -2.44177866 -0.85631508 -0.29825947\n",
      "  -2.07950735 -1.29334176  0.8998338   0.28306979  2.31183767 -2.46447515\n",
      "   1.45658612]\n",
      " [-1.94540834  2.01363468 -3.12320518 -0.23617902  1.38682961  0.90983731\n",
      "  -1.54776573 -0.79831994 -0.65600789  0.73539382 -2.58596873  0.47211552\n",
      "   0.55350244  2.51258993 -2.41677999 -1.63900936  1.20274675 -1.20247483\n",
      "  -1.83448553 -1.8801564  -0.34056559  0.23692803 -1.06139469  1.02760613\n",
      "  -0.47691542]\n",
      " [ 0.46299845  0.58493114 -0.16502091  1.93266881 -0.22966093 -1.84734118\n",
      "   0.49012437  1.07147515 -3.31910324  1.54115653  0.37372452 -0.86485958\n",
      "  -2.58277154  0.97063768 -0.51022583 -0.6842885  -1.64715886  0.21153402\n",
      "  -0.27422801  1.72602201  1.32420468 -2.63988233 -0.08056    -2.03513646\n",
      "  -1.46125829]\n",
      " [-2.04484653  2.05701351  1.95103669  0.17638008 -2.16144228 -0.40395239\n",
      "   1.80160105 -1.56280887 -0.25253269  0.23586865  0.71657807  1.0769068\n",
      "  -0.35457689 -1.67745352 -0.12939446 -0.67489755  1.14068162  1.32433164\n",
      "   3.21163011 -2.15891957 -2.6016767  -3.22269106 -1.89615464 -0.874892\n",
      "   2.51042175]\n",
      " [ 0.43441701 -0.93162346  0.18390995 -0.36078751  0.61958963  0.38625491\n",
      "  -2.65154052  2.29713964 -2.08821058 -1.86384928  1.06059313  0.77563226\n",
      "   2.1347158  -1.14975333 -0.52082163  0.99744815 -1.48311412 -2.3139751\n",
      "   0.29517719 -0.38705423 -2.20610809  0.30702567 -1.17647779 -1.63465273\n",
      "  -0.82468826]\n",
      " [ 1.21565962 -1.50098097 -2.03198195 -1.52368844 -2.4373548  -2.37573647\n",
      "  -1.39989233 -0.88736546 -0.6327979   1.50452232 -1.58078539  0.58599991\n",
      "  -0.77541512  0.94258612  2.10922575  0.54479861  0.43774188 -1.28026056\n",
      "  -0.04361067  1.47752023 -1.1327858  -0.7284795   0.0473474   1.65747941\n",
      "   1.68543291]\n",
      " [-0.7225008  -3.15232635  0.36578253  0.19811498 -0.73061055  1.65266109\n",
      "  -2.30038953 -1.87470806  0.98096728 -1.588274    1.35435963  2.17898345\n",
      "  -1.9924258  -2.00374198 -0.3886182  -2.33996224 -2.91723228  0.993999\n",
      "  -2.70480609 -1.27141571  1.86094034 -1.20521104 -0.38014755  0.70872754\n",
      "  -2.11016965]\n",
      " [ 0.53602344  1.30309176 -1.03374326 -4.03090572  0.5817396  -2.65721822\n",
      "   0.80380923 -1.09243536  2.49913216  0.36200964  0.66195935 -0.92162246\n",
      "  -0.83124858 -2.00203896 -2.94901681  0.64564842 -1.10116363  0.74511129\n",
      "   0.58507401 -1.99548161  0.62591642  1.8059833  -0.22309995 -1.40444386\n",
      "  -2.13194585]\n",
      " [-1.43946946 -1.21811223  0.71094042  0.45217556 -0.35953835  0.62285841\n",
      "  -0.67006248 -0.7069236   0.06311466 -1.23200822 -1.74647701 -2.71964717\n",
      "  -2.21440196 -1.69309878 -0.90928668  0.87853581  1.18666482 -1.87043905\n",
      "   0.39796904  1.72116315 -1.36935961  0.85807902 -0.24779876  1.28010905\n",
      "  -1.32753885]]\n"
     ]
    }
   ],
   "source": [
    "print( Theta1.Theta.get_value() )\n",
    "print( Theta2.Theta.get_value() )"
   ]
  },
  {
   "cell_type": "code",
   "execution_count": 28,
   "metadata": {},
   "outputs": [
    {
     "data": {
      "text/plain": [
       "[]"
      ]
     },
     "execution_count": 28,
     "metadata": {},
     "output_type": "execute_result"
    }
   ],
   "source": [
    "gradDes_step_test()"
   ]
  },
  {
   "cell_type": "code",
   "execution_count": 29,
   "metadata": {},
   "outputs": [
    {
     "name": "stdout",
     "output_type": "stream",
     "text": [
      "[[ -1.05625855e-08   2.19418195e-09  -6.92242747e-06 ...,  -1.30533963e-05\n",
      "   -5.04188938e-06   2.80468937e-09]\n",
      " [  7.66180897e-09  -9.75889325e-09   1.04747403e-06 ...,  -5.60149419e-05\n",
      "    2.00946744e-07   3.54428531e-09]\n",
      " [ -8.77668516e-09   8.16050871e-09  -1.47748244e-06 ...,  -1.20955003e-04\n",
      "   -2.33676201e-06  -7.50680140e-09]\n",
      " ..., \n",
      " [ -8.89286245e-09  -9.81983916e-09  -7.78400590e-06 ...,   2.35317766e-05\n",
      "   -3.25493579e-06   9.02513619e-09]\n",
      " [  3.05183268e-10   2.56065102e-09  -2.11943939e-06 ...,  -8.61783628e-04\n",
      "    9.43476116e-05   3.83768217e-09]\n",
      " [  8.85891094e-09  -6.57525701e-10  -8.81660071e-06 ...,  -1.80378925e-06\n",
      "   -8.14486793e-06   8.79468587e-09]]\n",
      "[[-1.21247959 -0.10187493 -2.36856866 -1.05781281 -2.20829916  0.56385064\n",
      "   1.21108603  2.21037006  0.44457057 -1.18248188  1.04291832 -1.6056354\n",
      "   1.30423355  1.37178624  1.74829817 -0.23366424 -1.52018797  1.15327108\n",
      "   0.10368349 -0.37208751 -0.61532009 -0.12569052 -2.27199483 -0.71838391\n",
      "  -1.29694128]\n",
      " [ 0.61560839 -1.26554167  1.85750628 -0.91855812 -0.05502573 -0.38590774\n",
      "   1.29524386 -1.56847727 -0.97029126 -2.18341041 -2.85041642 -2.07738996\n",
      "   1.63167763  0.34903327  1.82794189 -2.44181347 -0.85632676 -0.29826254\n",
      "  -2.07953596 -1.29335976  0.89984727  0.28307381  2.3118701  -2.46450949\n",
      "   1.45660675]\n",
      " [-1.94543517  2.01366329 -3.12324858 -0.23618175  1.38684976  0.9098503\n",
      "  -1.54778731 -0.7983309  -0.65601742  0.73540437 -2.5860045   0.47212264\n",
      "   0.55350989  2.51262522 -2.41681457 -1.63903248  1.20276332 -1.20249116\n",
      "  -1.83451152 -1.8801825  -0.34057021  0.23693123 -1.06141019  1.02761996\n",
      "  -0.47692251]\n",
      " [ 0.46300465  0.58493906 -0.16502343  1.93269575 -0.22966421 -1.84736741\n",
      "   0.49013108  1.07148981 -3.31914997  1.54117799  0.37372953 -0.86487234\n",
      "  -2.58280778  0.97065091 -0.51023299 -0.68429804 -1.64718163  0.2115366\n",
      "  -0.27423158  1.72604644  1.3242228  -2.63991976 -0.0805613  -2.03516483\n",
      "  -1.4612788 ]\n",
      " [-2.04487514  2.05704284  1.95106435  0.17638318 -2.16147256 -0.4039574\n",
      "   1.8016268  -1.56283033 -0.25253534  0.23587231  0.71658915  1.07692266\n",
      "  -0.354581   -1.67747641 -0.12939636 -0.67490661  1.14069796  1.32435095\n",
      "   3.21167541 -2.15895009 -2.60171247 -3.2227354  -1.89618027 -0.87490332\n",
      "   2.51045728]\n",
      " [ 0.43442282 -0.93163645  0.18391213 -0.36079288  0.61959785  0.38626033\n",
      "  -2.65157771  2.29717159 -2.08824015 -1.86387539  1.06060791  0.77564305\n",
      "   2.1347456  -1.14976966 -0.52082902  0.99746203 -1.48313475 -2.31400776\n",
      "   0.29518107 -0.38705969 -2.20613933  0.30702943 -1.17649448 -1.63467586\n",
      "  -0.82469988]\n",
      " [ 1.21567631 -1.50100219 -2.03201032 -1.52370954 -2.4373889  -2.37576985\n",
      "  -1.39991188 -0.8873778  -0.63280708  1.50454307 -1.58080781  0.58600765\n",
      "  -0.77542609  0.94259894  2.10925508  0.54480588  0.43774763 -1.2802788\n",
      "  -0.0436114   1.47754073 -1.13280201 -0.72849     0.04734763  1.65750217\n",
      "   1.6854564 ]\n",
      " [-0.72251105 -3.15237093  0.36578727  0.19811635 -0.73062164  1.65268302\n",
      "  -2.30042195 -1.87473452  0.98098069 -1.58829641  1.35437787  2.17901349\n",
      "  -1.99245393 -2.00377035 -0.38862342 -2.33999467 -2.917274    0.99401158\n",
      "  -2.70484447 -1.27143371  1.86096621 -1.20522809 -0.38015315  0.70873696\n",
      "  -2.11019921]\n",
      " [ 0.53602844  1.30310774 -1.03375936 -4.0309639   0.58174449 -2.65725732\n",
      "   0.80381852 -1.09245145  2.49916363  0.36201128  0.66196531 -0.92163956\n",
      "  -0.8312605  -2.00206828 -2.94905853  0.6456548  -1.10118032  0.74511951\n",
      "   0.58508086 -1.9955107   0.62592179  1.8060056  -0.22310673 -1.40446639\n",
      "  -2.13197637]\n",
      " [-1.43948936 -1.2181294   0.71095073  0.45218194 -0.35954288  0.62286729\n",
      "  -0.67007202 -0.70693338  0.06311581 -1.23202562 -1.74650168 -2.71968532\n",
      "  -2.21443224 -1.69312251 -0.90929943  0.8785485   1.18668139 -1.87046552\n",
      "   0.39797512  1.72118759 -1.36937869  0.85809124 -0.24780172  1.28012693\n",
      "  -1.32755733]]\n"
     ]
    }
   ],
   "source": [
    "print( Theta1.Theta.get_value() )\n",
    "print( Theta2.Theta.get_value() )"
   ]
  },
  {
   "cell_type": "code",
   "execution_count": 30,
   "metadata": {},
   "outputs": [
    {
     "data": {
      "text/plain": [
       "(10, 5000)"
      ]
     },
     "execution_count": 30,
     "metadata": {},
     "output_type": "execute_result"
    }
   ],
   "source": [
    "y_prob.shape"
   ]
  },
  {
   "cell_type": "code",
   "execution_count": 31,
   "metadata": {},
   "outputs": [
    {
     "data": {
      "text/plain": [
       "(5000, 1)"
      ]
     },
     "execution_count": 31,
     "metadata": {},
     "output_type": "execute_result"
    }
   ],
   "source": [
    "ex4data1['y'].shape"
   ]
  },
  {
   "cell_type": "code",
   "execution_count": 51,
   "metadata": {},
   "outputs": [
    {
     "data": {
      "text/html": [
       "<div>\n",
       "<table border=\"1\" class=\"dataframe\">\n",
       "  <thead>\n",
       "    <tr style=\"text-align: right;\">\n",
       "      <th></th>\n",
       "      <th>0</th>\n",
       "    </tr>\n",
       "  </thead>\n",
       "  <tbody>\n",
       "    <tr>\n",
       "      <th>count</th>\n",
       "      <td>5000.000000</td>\n",
       "    </tr>\n",
       "    <tr>\n",
       "      <th>mean</th>\n",
       "      <td>5.500000</td>\n",
       "    </tr>\n",
       "    <tr>\n",
       "      <th>std</th>\n",
       "      <td>2.872569</td>\n",
       "    </tr>\n",
       "    <tr>\n",
       "      <th>min</th>\n",
       "      <td>1.000000</td>\n",
       "    </tr>\n",
       "    <tr>\n",
       "      <th>25%</th>\n",
       "      <td>3.000000</td>\n",
       "    </tr>\n",
       "    <tr>\n",
       "      <th>50%</th>\n",
       "      <td>5.500000</td>\n",
       "    </tr>\n",
       "    <tr>\n",
       "      <th>75%</th>\n",
       "      <td>8.000000</td>\n",
       "    </tr>\n",
       "    <tr>\n",
       "      <th>max</th>\n",
       "      <td>10.000000</td>\n",
       "    </tr>\n",
       "  </tbody>\n",
       "</table>\n",
       "</div>"
      ],
      "text/plain": [
       "                 0\n",
       "count  5000.000000\n",
       "mean      5.500000\n",
       "std       2.872569\n",
       "min       1.000000\n",
       "25%       3.000000\n",
       "50%       5.500000\n",
       "75%       8.000000\n",
       "max      10.000000"
      ]
     },
     "execution_count": 51,
     "metadata": {},
     "output_type": "execute_result"
    }
   ],
   "source": [
    "pd.DataFrame( ex4data1['y']).describe()"
   ]
  },
  {
   "cell_type": "code",
   "execution_count": 39,
   "metadata": {},
   "outputs": [
    {
     "name": "stdout",
     "output_type": "stream",
     "text": [
      "Shape.0\n",
      "1\n"
     ]
    }
   ],
   "source": [
    "print( Theta2.alp1.shape )\n",
    "print( Theta2.alp1.shape.ndim )\n",
    "# Theta2.alp1.shape.get_scalar_constant_value()\n",
    "predicted_logreg = theano.function([],Theta2.alp1)"
   ]
  },
  {
   "cell_type": "code",
   "execution_count": 42,
   "metadata": {},
   "outputs": [
    {
     "data": {
      "text/html": [
       "<div>\n",
       "<table border=\"1\" class=\"dataframe\">\n",
       "  <thead>\n",
       "    <tr style=\"text-align: right;\">\n",
       "      <th></th>\n",
       "      <th>0</th>\n",
       "      <th>1</th>\n",
       "      <th>2</th>\n",
       "      <th>3</th>\n",
       "      <th>4</th>\n",
       "      <th>5</th>\n",
       "      <th>6</th>\n",
       "      <th>7</th>\n",
       "      <th>8</th>\n",
       "      <th>9</th>\n",
       "    </tr>\n",
       "  </thead>\n",
       "  <tbody>\n",
       "    <tr>\n",
       "      <th>count</th>\n",
       "      <td>5000.000000</td>\n",
       "      <td>5.000000e+03</td>\n",
       "      <td>5.000000e+03</td>\n",
       "      <td>5.000000e+03</td>\n",
       "      <td>5000.000000</td>\n",
       "      <td>5.000000e+03</td>\n",
       "      <td>5000.000000</td>\n",
       "      <td>5000.000000</td>\n",
       "      <td>5000.000000</td>\n",
       "      <td>5000.000000</td>\n",
       "    </tr>\n",
       "    <tr>\n",
       "      <th>mean</th>\n",
       "      <td>0.100628</td>\n",
       "      <td>1.003652e-01</td>\n",
       "      <td>1.003967e-01</td>\n",
       "      <td>1.004417e-01</td>\n",
       "      <td>0.100253</td>\n",
       "      <td>1.005637e-01</td>\n",
       "      <td>0.100360</td>\n",
       "      <td>0.100543</td>\n",
       "      <td>0.100846</td>\n",
       "      <td>0.100248</td>\n",
       "    </tr>\n",
       "    <tr>\n",
       "      <th>std</th>\n",
       "      <td>0.280952</td>\n",
       "      <td>2.710659e-01</td>\n",
       "      <td>2.669757e-01</td>\n",
       "      <td>2.724109e-01</td>\n",
       "      <td>0.267206</td>\n",
       "      <td>2.798822e-01</td>\n",
       "      <td>0.275913</td>\n",
       "      <td>0.264708</td>\n",
       "      <td>0.264970</td>\n",
       "      <td>0.284639</td>\n",
       "    </tr>\n",
       "    <tr>\n",
       "      <th>min</th>\n",
       "      <td>0.000010</td>\n",
       "      <td>4.299332e-07</td>\n",
       "      <td>9.454787e-07</td>\n",
       "      <td>2.587024e-07</td>\n",
       "      <td>0.000002</td>\n",
       "      <td>7.190226e-07</td>\n",
       "      <td>0.000002</td>\n",
       "      <td>0.000003</td>\n",
       "      <td>0.000008</td>\n",
       "      <td>0.000001</td>\n",
       "    </tr>\n",
       "    <tr>\n",
       "      <th>25%</th>\n",
       "      <td>0.000301</td>\n",
       "      <td>8.055457e-04</td>\n",
       "      <td>7.226729e-04</td>\n",
       "      <td>1.883787e-04</td>\n",
       "      <td>0.000919</td>\n",
       "      <td>2.311849e-04</td>\n",
       "      <td>0.000240</td>\n",
       "      <td>0.001162</td>\n",
       "      <td>0.000871</td>\n",
       "      <td>0.000253</td>\n",
       "    </tr>\n",
       "    <tr>\n",
       "      <th>50%</th>\n",
       "      <td>0.001198</td>\n",
       "      <td>4.066701e-03</td>\n",
       "      <td>4.143638e-03</td>\n",
       "      <td>1.152211e-03</td>\n",
       "      <td>0.003805</td>\n",
       "      <td>1.742870e-03</td>\n",
       "      <td>0.002029</td>\n",
       "      <td>0.004935</td>\n",
       "      <td>0.004056</td>\n",
       "      <td>0.001377</td>\n",
       "    </tr>\n",
       "    <tr>\n",
       "      <th>75%</th>\n",
       "      <td>0.006197</td>\n",
       "      <td>1.748446e-02</td>\n",
       "      <td>1.921718e-02</td>\n",
       "      <td>1.193071e-02</td>\n",
       "      <td>0.017761</td>\n",
       "      <td>9.229897e-03</td>\n",
       "      <td>0.011941</td>\n",
       "      <td>0.020477</td>\n",
       "      <td>0.018032</td>\n",
       "      <td>0.006297</td>\n",
       "    </tr>\n",
       "    <tr>\n",
       "      <th>max</th>\n",
       "      <td>0.993053</td>\n",
       "      <td>9.996013e-01</td>\n",
       "      <td>9.982013e-01</td>\n",
       "      <td>9.986625e-01</td>\n",
       "      <td>0.999188</td>\n",
       "      <td>9.985297e-01</td>\n",
       "      <td>0.999378</td>\n",
       "      <td>0.998737</td>\n",
       "      <td>0.996482</td>\n",
       "      <td>0.998724</td>\n",
       "    </tr>\n",
       "  </tbody>\n",
       "</table>\n",
       "</div>"
      ],
      "text/plain": [
       "                 0             1             2             3            4  \\\n",
       "count  5000.000000  5.000000e+03  5.000000e+03  5.000000e+03  5000.000000   \n",
       "mean      0.100628  1.003652e-01  1.003967e-01  1.004417e-01     0.100253   \n",
       "std       0.280952  2.710659e-01  2.669757e-01  2.724109e-01     0.267206   \n",
       "min       0.000010  4.299332e-07  9.454787e-07  2.587024e-07     0.000002   \n",
       "25%       0.000301  8.055457e-04  7.226729e-04  1.883787e-04     0.000919   \n",
       "50%       0.001198  4.066701e-03  4.143638e-03  1.152211e-03     0.003805   \n",
       "75%       0.006197  1.748446e-02  1.921718e-02  1.193071e-02     0.017761   \n",
       "max       0.993053  9.996013e-01  9.982013e-01  9.986625e-01     0.999188   \n",
       "\n",
       "                  5            6            7            8            9  \n",
       "count  5.000000e+03  5000.000000  5000.000000  5000.000000  5000.000000  \n",
       "mean   1.005637e-01     0.100360     0.100543     0.100846     0.100248  \n",
       "std    2.798822e-01     0.275913     0.264708     0.264970     0.284639  \n",
       "min    7.190226e-07     0.000002     0.000003     0.000008     0.000001  \n",
       "25%    2.311849e-04     0.000240     0.001162     0.000871     0.000253  \n",
       "50%    1.742870e-03     0.002029     0.004935     0.004056     0.001377  \n",
       "75%    9.229897e-03     0.011941     0.020477     0.018032     0.006297  \n",
       "max    9.985297e-01     0.999378     0.998737     0.996482     0.998724  "
      ]
     },
     "execution_count": 42,
     "metadata": {},
     "output_type": "execute_result"
    }
   ],
   "source": [
    "pd.DataFrame( predicted_logreg().T ).describe()"
   ]
  },
  {
   "cell_type": "code",
   "execution_count": 46,
   "metadata": {},
   "outputs": [
    {
     "data": {
      "text/plain": [
       "<matplotlib.axes._subplots.AxesSubplot at 0x7fc5ee56a110>"
      ]
     },
     "execution_count": 46,
     "metadata": {},
     "output_type": "execute_result"
    },
    {
     "data": {
      "image/png": "[encoded data removed]",
      "text/plain": [
       "<matplotlib.figure.Figure at 0x7fc5ee3911d0>"
      ]
     },
     "metadata": {},
     "output_type": "display_data"
    }
   ],
   "source": [
    "pd.DataFrame(predicted_logreg().T).describe().iloc[1:-1,:].plot()"
   ]
  },
  {
   "cell_type": "code",
   "execution_count": 49,
   "metadata": {},
   "outputs": [
    {
     "name": "stdout",
     "output_type": "stream",
     "text": [
      "(5000,)\n"
     ]
    },
    {
     "data": {
      "text/plain": [
       "(5000, 1)"
      ]
     },
     "execution_count": 49,
     "metadata": {},
     "output_type": "execute_result"
    }
   ],
   "source": [
    "print( np.argmax( predicted_logreg(), axis=0).shape )\n",
    "np.vstack( np.argmax( predicted_logreg(),axis=0) ).shape"
   ]
  },
  {
   "cell_type": "code",
   "execution_count": 52,
   "metadata": {},
   "outputs": [
    {
     "data": {
      "text/html": [
       "<div>\n",
       "<table border=\"1\" class=\"dataframe\">\n",
       "  <thead>\n",
       "    <tr style=\"text-align: right;\">\n",
       "      <th></th>\n",
       "      <th>0</th>\n",
       "    </tr>\n",
       "  </thead>\n",
       "  <tbody>\n",
       "    <tr>\n",
       "      <th>count</th>\n",
       "      <td>5000.000000</td>\n",
       "    </tr>\n",
       "    <tr>\n",
       "      <th>mean</th>\n",
       "      <td>5.504000</td>\n",
       "    </tr>\n",
       "    <tr>\n",
       "      <th>std</th>\n",
       "      <td>2.874933</td>\n",
       "    </tr>\n",
       "    <tr>\n",
       "      <th>min</th>\n",
       "      <td>1.000000</td>\n",
       "    </tr>\n",
       "    <tr>\n",
       "      <th>25%</th>\n",
       "      <td>3.000000</td>\n",
       "    </tr>\n",
       "    <tr>\n",
       "      <th>50%</th>\n",
       "      <td>6.000000</td>\n",
       "    </tr>\n",
       "    <tr>\n",
       "      <th>75%</th>\n",
       "      <td>8.000000</td>\n",
       "    </tr>\n",
       "    <tr>\n",
       "      <th>max</th>\n",
       "      <td>10.000000</td>\n",
       "    </tr>\n",
       "  </tbody>\n",
       "</table>\n",
       "</div>"
      ],
      "text/plain": [
       "                 0\n",
       "count  5000.000000\n",
       "mean      5.504000\n",
       "std       2.874933\n",
       "min       1.000000\n",
       "25%       3.000000\n",
       "50%       6.000000\n",
       "75%       8.000000\n",
       "max      10.000000"
      ]
     },
     "execution_count": 52,
     "metadata": {},
     "output_type": "execute_result"
    }
   ],
   "source": [
    "pd.DataFrame( np.vstack( np.argmax(predicted_logreg(),axis=0)) + 1).describe()"
   ]
  },
  {
   "cell_type": "code",
   "execution_count": 55,
   "metadata": {},
   "outputs": [
    {
     "data": {
      "text/html": [
       "<div>\n",
       "<table border=\"1\" class=\"dataframe\">\n",
       "  <thead>\n",
       "    <tr style=\"text-align: right;\">\n",
       "      <th></th>\n",
       "      <th>0</th>\n",
       "    </tr>\n",
       "  </thead>\n",
       "  <tbody>\n",
       "    <tr>\n",
       "      <th>count</th>\n",
       "      <td>5000.000000</td>\n",
       "    </tr>\n",
       "    <tr>\n",
       "      <th>mean</th>\n",
       "      <td>0.975200</td>\n",
       "    </tr>\n",
       "    <tr>\n",
       "      <th>std</th>\n",
       "      <td>0.155534</td>\n",
       "    </tr>\n",
       "    <tr>\n",
       "      <th>min</th>\n",
       "      <td>0.000000</td>\n",
       "    </tr>\n",
       "    <tr>\n",
       "      <th>25%</th>\n",
       "      <td>1.000000</td>\n",
       "    </tr>\n",
       "    <tr>\n",
       "      <th>50%</th>\n",
       "      <td>1.000000</td>\n",
       "    </tr>\n",
       "    <tr>\n",
       "      <th>75%</th>\n",
       "      <td>1.000000</td>\n",
       "    </tr>\n",
       "    <tr>\n",
       "      <th>max</th>\n",
       "      <td>1.000000</td>\n",
       "    </tr>\n",
       "  </tbody>\n",
       "</table>\n",
       "</div>"
      ],
      "text/plain": [
       "                 0\n",
       "count  5000.000000\n",
       "mean      0.975200\n",
       "std       0.155534\n",
       "min       0.000000\n",
       "25%       1.000000\n",
       "50%       1.000000\n",
       "75%       1.000000\n",
       "max       1.000000"
      ]
     },
     "execution_count": 55,
     "metadata": {},
     "output_type": "execute_result"
    }
   ],
   "source": [
    "res = np.float32( ( np.vstack( np.argmax( predicted_logreg(),axis=0)) + 1 ) == ex4data1['y'] )\n",
    "pd.DataFrame(res).describe()"
   ]
  },
  {
   "cell_type": "code",
   "execution_count": 56,
   "metadata": {},
   "outputs": [
    {
     "data": {
      "text/plain": [
       "[1, 2]"
      ]
     },
     "execution_count": 56,
     "metadata": {},
     "output_type": "execute_result"
    }
   ],
   "source": [
    "range(1,3)"
   ]
  },
  {
   "cell_type": "code",
   "execution_count": 57,
   "metadata": {},
   "outputs": [
    {
     "data": {
      "text/plain": [
       "(10, 5000)"
      ]
     },
     "execution_count": 57,
     "metadata": {},
     "output_type": "execute_result"
    }
   ],
   "source": [
    "predicted_logreg().shape"
   ]
  },
  {
   "cell_type": "code",
   "execution_count": 64,
   "metadata": {},
   "outputs": [
    {
     "name": "stdout",
     "output_type": "stream",
     "text": [
      "(10, 5000)\n",
      "(5000,)\n"
     ]
    }
   ],
   "source": [
    "print(y_prob.shape); print( np.argmax( y_prob,axis=0 ).shape)"
   ]
  },
  {
   "cell_type": "markdown",
   "metadata": {
    "collapsed": true
   },
   "source": [
    "#### Summary for Neural Net with Multiple Layers for logistic regression (but can be extended to linear regression)"
   ]
  },
  {
   "cell_type": "markdown",
   "metadata": {},
   "source": [
    "* *Load boilerplate training data:*"
   ]
  },
  {
   "cell_type": "code",
   "execution_count": 9,
   "metadata": {},
   "outputs": [],
   "source": [
    "sys.path.append( os.getcwd() + '/ML' )"
   ]
  },
  {
   "cell_type": "code",
   "execution_count": 10,
   "metadata": {},
   "outputs": [],
   "source": [
    "from NN import Layer, cost_functional, cost_functional_noreg, gradientDescent_step, MLP"
   ]
  },
  {
   "cell_type": "code",
   "execution_count": 11,
   "metadata": {},
   "outputs": [
    {
     "name": "stdout",
     "output_type": "stream",
     "text": [
      "Loading and Visualizing Data ... \n",
      "\n",
      "(400, 5000)\n",
      "(10, 5000)\n"
     ]
    }
   ],
   "source": [
    "# Load Training Data\n",
    "print(\"Loading and Visualizing Data ... \\n\")\n",
    "ex4data1 = scipy.io.loadmat('./coursera_Ng/machine-learning-ex4/ex4/ex4data1.mat')\n",
    "\n",
    "# recall that whereas the original labels (in the variable y) were 1, 2, ..., 10, for the purpose of training a \n",
    "# neural network, we need to recode the labels as vectors containing only values 0 or 1\n",
    "K=10\n",
    "m = ex4data1['y'].shape[0]\n",
    "y_prob = [np.zeros(K) for row in ex4data1['y']]  # list of 5000 numpy arrays of size dims. (10,)\n",
    "for i in range( m):\n",
    "        y_prob[i][ ex4data1['y'][i]-1] = 1\n",
    "y_prob = np.array(y_prob).T.astype(theano.config.floatX)  # size dims. (K,m)\n",
    "\n",
    "print(ex4data1['X'].T.shape)\n",
    "print(y_prob.shape)"
   ]
  },
  {
   "cell_type": "code",
   "execution_count": 12,
   "metadata": {},
   "outputs": [],
   "source": [
    "digitsMLP = MLP(3,[400,25,10], 5000, ex4data1['X'].T, y_prob, T.nnet.sigmoid, 1., 0.1, 0.0000)"
   ]
  },
  {
   "cell_type": "code",
   "execution_count": 17,
   "metadata": {
    "collapsed": true
   },
   "outputs": [],
   "source": [
    "digitsMLP.train_model(100000)"
   ]
  },
  {
   "cell_type": "code",
   "execution_count": 18,
   "metadata": {},
   "outputs": [
    {
     "name": "stdout",
     "output_type": "stream",
     "text": [
      "Accuracy score : 0.991200 \n"
     ]
    },
    {
     "data": {
      "text/plain": [
       "0.99119999999999997"
      ]
     },
     "execution_count": 18,
     "metadata": {},
     "output_type": "execute_result"
    }
   ],
   "source": [
    "digitsMLP.accuracy_log_reg()"
   ]
  },
  {
   "cell_type": "code",
   "execution_count": 19,
   "metadata": {},
   "outputs": [
    {
     "name": "stdout",
     "output_type": "stream",
     "text": [
      "[[-0.03968292  0.01570808 -0.00801071 ...,  0.05324144 -0.03536524\n",
      "  -0.02519361]\n",
      " [ 0.02765682  0.02882705 -0.06191737 ..., -0.01663327  0.03339296\n",
      "  -0.02493248]\n",
      " [ 0.01494016 -0.03611031  0.04792143 ...,  0.0510212  -0.00466521\n",
      "  -0.00434607]\n",
      " ..., \n",
      " [ 0.03901267 -0.03169481  0.06044593 ..., -0.0364962  -0.03772442\n",
      "   0.01351396]\n",
      " [ 0.03186403  0.05424397  0.02720479 ...,  0.01087107 -0.01080637\n",
      "   0.01786175]\n",
      " [ 0.06252811 -0.04008792  0.06331227 ..., -0.04469054  0.02635518\n",
      "   0.04384876]]\n"
     ]
    },
    {
     "data": {
      "text/plain": [
       "array([[ 1.20451474,  0.83254075,  0.3577919 ,  2.09141254,  0.30367732,\n",
       "         1.70919907, -0.68671805,  1.94035482,  0.6540705 , -2.20026374,\n",
       "         1.0235399 , -1.10299885,  0.87818861,  2.8505857 , -2.22271323,\n",
       "        -2.00406885, -2.60233808, -0.85654968, -2.76958466, -1.48524833,\n",
       "        -3.17246437, -0.06278938,  0.616503  ,  3.52648425,  0.98629874],\n",
       "       [ 2.60660052, -0.10535918,  1.22893441,  2.44127226, -3.89616203,\n",
       "        -3.1201973 , -2.51445174,  1.34601641,  3.96324277, -2.53724122,\n",
       "        -3.20322871,  0.95207882, -2.91599441, -2.66748142,  1.32648623,\n",
       "         0.81661856,  1.32140303, -0.87079829, -0.53782797, -1.90582633,\n",
       "         3.33778262, -0.50736022, -0.66713619, -1.36594701,  2.1127429 ],\n",
       "       [-1.43893147,  1.59595168,  0.58790714,  3.8221848 ,  4.65350819,\n",
       "        -2.22888541, -1.92654026, -1.48021591, -3.24884081, -2.0549016 ,\n",
       "         2.35445762,  3.15103745, -1.86801529,  2.50599551, -0.51754326,\n",
       "        -0.61664522, -1.13638568, -3.49592352, -0.14462674,  0.52218926,\n",
       "         0.94804603,  0.48102653, -2.2381053 , -2.80585504, -2.67067432],\n",
       "       [-0.97880727, -3.42777109, -3.0412941 ,  0.07771082,  0.56903011,\n",
       "        -0.83924389,  1.42225981,  2.75040054, -1.39653993,  1.39573848,\n",
       "         1.54833257, -2.28482318, -1.19908345, -1.23934305,  0.1012596 ,\n",
       "         0.41159233, -4.30142689, -1.29635179,  2.10533142, -0.36743957,\n",
       "         1.919065  , -5.38604879, -0.68395364,  1.60128868, -0.92604429],\n",
       "       [-2.21723104,  0.94654542,  2.71510959, -3.15821409,  1.2421279 ,\n",
       "         1.54322195,  2.38756323, -0.35632336,  1.59020221, -2.20207787,\n",
       "        -2.31908298, -0.23842566,  2.842659  , -1.16831934, -1.10033369,\n",
       "         2.3584559 , -2.86785245,  2.43999338,  2.25221205, -2.86637926,\n",
       "        -3.29994965,  0.2062892 , -2.27796054, -1.90024221,  5.06210709],\n",
       "       [-0.41967511,  2.81876731, -3.19176626, -2.13696814, -1.76408064,\n",
       "         1.12407899,  3.01087523,  2.11157274, -1.18705463,  1.32382548,\n",
       "        -0.06723422,  0.01781415,  2.63719058, -2.33022046, -1.4483918 ,\n",
       "        -2.91259265,  1.15207839, -1.17236662, -2.97872806, -0.56889361,\n",
       "        -1.30872059, -1.56629968,  1.08266664, -1.98741114, -0.89212441],\n",
       "       [-0.6513139 , -0.67716223, -3.03075981,  2.60289288, -2.83682179,\n",
       "        -1.9186002 , -2.81462193, -1.34299827, -2.06861496, -2.43334413,\n",
       "         2.26945639, -0.2679739 , -0.33434728, -1.78550529, -0.60505742,\n",
       "         1.65669274,  0.72454143,  2.54930949,  1.80095565, -0.6691587 ,\n",
       "        -2.79404688,  0.49601215,  3.74682832,  1.82545471,  0.06220638],\n",
       "       [-0.31317323, -2.17267513,  3.26154256, -0.96487314, -3.19127011,\n",
       "         4.00027752,  1.55789506, -3.2021575 , -3.13566351,  2.24683571,\n",
       "        -1.71402073, -1.77391756, -3.39949989,  1.01905394, -0.05652857,\n",
       "         1.37401104, -0.78254008, -2.96524358, -2.75739622, -1.48058116,\n",
       "        -1.42676282, -1.46033561,  2.61433244, -2.85393929, -3.30281448],\n",
       "       [ 2.51441741, -2.35930371, -2.45756555, -2.2026875 ,  3.0209465 ,\n",
       "         1.47433209,  1.19607747, -2.47334051, -0.01969391,  3.09615278,\n",
       "        -2.00905395,  0.31061357, -2.11481953, -1.13638878, -2.71792459,\n",
       "        -1.84998   ,  2.16689348, -3.52886462,  0.64545244, -2.02436543,\n",
       "        -0.21113941,  4.98415565, -3.85935426,  1.63133836, -1.07641482],\n",
       "       [-1.74175525, -2.37122393,  1.55441034,  0.23550114, -1.96717358,\n",
       "        -1.83210754, -3.25745535, -1.22520483, -0.62219352,  2.43008757,\n",
       "        -0.22606266, -0.01252492,  1.41700852,  0.24551152, -0.73388177,\n",
       "        -3.98788357,  1.05824101,  3.25433969,  0.86931092, -0.00776808,\n",
       "         0.05484827, -0.38054886,  0.17874011, -1.70390856, -0.95664531]], dtype=float32)"
      ]
     },
     "execution_count": 19,
     "metadata": {},
     "output_type": "execute_result"
    }
   ],
   "source": [
    "print( digitsMLP.Thetas[0].Theta.get_value() )\n",
    "digitsMLP.Thetas[1].Theta.get_value()\n"
   ]
  },
  {
   "cell_type": "code",
   "execution_count": 20,
   "metadata": {},
   "outputs": [
    {
     "data": {
      "text/plain": [
       "array([[  1.69714658e-05,   6.81859674e-05,   4.40727854e-06, ...,\n",
       "          5.32231061e-03,   2.53793423e-05,   1.24584597e-06],\n",
       "       [  1.01746270e-03,   4.22267512e-05,   4.14312631e-03, ...,\n",
       "          2.78708263e-04,   5.46442550e-07,   2.42858031e-03],\n",
       "       [  1.28256984e-03,   2.17894791e-03,   8.93946737e-04, ...,\n",
       "          7.34846219e-02,   1.61182688e-04,   1.05979457e-03],\n",
       "       ..., \n",
       "       [  5.44993207e-04,   4.99824178e-04,   2.40481794e-02, ...,\n",
       "          1.57466289e-04,   6.36213226e-03,   3.31715518e-03],\n",
       "       [  8.89896415e-04,   6.08195027e-04,   1.27942930e-03, ...,\n",
       "          8.00565720e-01,   9.88285422e-01,   7.53709316e-01],\n",
       "       [  9.96679068e-01,   9.98024583e-01,   9.72293377e-01, ...,\n",
       "          6.17099488e-07,   1.53781421e-05,   1.62253886e-01]], dtype=float32)"
      ]
     },
     "execution_count": 20,
     "metadata": {},
     "output_type": "execute_result"
    }
   ],
   "source": [
    "digitsMLP.predicted_vals_logreg()"
   ]
  },
  {
   "cell_type": "code",
   "execution_count": 21,
   "metadata": {},
   "outputs": [
    {
     "name": "stdout",
     "output_type": "stream",
     "text": [
      "[[  1.68952462e-03   9.66312247e-04   3.05149867e-03 ...,   6.01312637e-01\n",
      "    7.69796073e-02   1.04411095e-02]\n",
      " [  5.63030466e-02   3.84460762e-02   3.80754247e-02 ...,   5.98353744e-01\n",
      "    2.61052395e-04   2.27537050e-04]\n",
      " [  9.90030646e-01   9.98632133e-01   9.82155979e-01 ...,   1.93933040e-01\n",
      "    4.72371355e-02   2.82941740e-02]\n",
      " ..., \n",
      " [  3.31877563e-05   3.73444600e-05   8.24407116e-03 ...,   2.87410337e-03\n",
      "    5.70651256e-02   5.32165647e-01]\n",
      " [  3.52760107e-04   9.42657294e-04   9.13141354e-04 ...,   6.50500178e-01\n",
      "    9.91682410e-01   3.51258606e-01]\n",
      " [  5.73539697e-02   9.71803325e-04   3.29945865e-03 ...,   6.90432638e-02\n",
      "    1.61013941e-05   1.03116455e-03]]\n",
      "[[  1.68952462e-03   9.66312247e-04   3.05149867e-03 ...,   6.01312637e-01\n",
      "    7.69796073e-02   1.04411095e-02]\n",
      " [  5.63030466e-02   3.84460762e-02   3.80754247e-02 ...,   5.98353744e-01\n",
      "    2.61052395e-04   2.27537050e-04]\n",
      " [  9.90030646e-01   9.98632133e-01   9.82155979e-01 ...,   1.93933040e-01\n",
      "    4.72371355e-02   2.82941740e-02]\n",
      " ..., \n",
      " [  3.31877563e-05   3.73444600e-05   8.24407116e-03 ...,   2.87410337e-03\n",
      "    5.70651256e-02   5.32165647e-01]\n",
      " [  3.52760107e-04   9.42657294e-04   9.13141354e-04 ...,   6.50500178e-01\n",
      "    9.91682410e-01   3.51258606e-01]\n",
      " [  5.73539697e-02   9.71803325e-04   3.29945865e-03 ...,   6.90432638e-02\n",
      "    1.61013941e-05   1.03116455e-03]]\n"
     ]
    }
   ],
   "source": [
    "testL1a2 = theano.function([], digitsMLP.Thetas[0].alp1 )\n",
    "print( testL1a2() )\n",
    "testL2a2 = theano.function([], digitsMLP.Thetas[1].al )\n",
    "print( testL2a2() )\n"
   ]
  },
  {
   "cell_type": "code",
   "execution_count": 33,
   "metadata": {},
   "outputs": [
    {
     "data": {
      "text/plain": [
       "[1, 2, 3, 4, 5, 8, 1, 5]"
      ]
     },
     "execution_count": 33,
     "metadata": {},
     "output_type": "execute_result"
    }
   ],
   "source": [
    "[1,2,3,4,5] + [8,1,5]"
   ]
  },
  {
   "cell_type": "code",
   "execution_count": 22,
   "metadata": {},
   "outputs": [
    {
     "name": "stdout",
     "output_type": "stream",
     "text": [
      "(10, 5000)\n",
      "(5000, 1)\n"
     ]
    },
    {
     "data": {
      "text/html": [
       "<div>\n",
       "<table border=\"1\" class=\"dataframe\">\n",
       "  <thead>\n",
       "    <tr style=\"text-align: right;\">\n",
       "      <th></th>\n",
       "      <th>0</th>\n",
       "    </tr>\n",
       "  </thead>\n",
       "  <tbody>\n",
       "    <tr>\n",
       "      <th>count</th>\n",
       "      <td>5000.000000</td>\n",
       "    </tr>\n",
       "    <tr>\n",
       "      <th>mean</th>\n",
       "      <td>4.500000</td>\n",
       "    </tr>\n",
       "    <tr>\n",
       "      <th>std</th>\n",
       "      <td>2.872569</td>\n",
       "    </tr>\n",
       "    <tr>\n",
       "      <th>min</th>\n",
       "      <td>0.000000</td>\n",
       "    </tr>\n",
       "    <tr>\n",
       "      <th>25%</th>\n",
       "      <td>2.000000</td>\n",
       "    </tr>\n",
       "    <tr>\n",
       "      <th>50%</th>\n",
       "      <td>4.500000</td>\n",
       "    </tr>\n",
       "    <tr>\n",
       "      <th>75%</th>\n",
       "      <td>7.000000</td>\n",
       "    </tr>\n",
       "    <tr>\n",
       "      <th>max</th>\n",
       "      <td>9.000000</td>\n",
       "    </tr>\n",
       "  </tbody>\n",
       "</table>\n",
       "</div>"
      ],
      "text/plain": [
       "                 0\n",
       "count  5000.000000\n",
       "mean      4.500000\n",
       "std       2.872569\n",
       "min       0.000000\n",
       "25%       2.000000\n",
       "50%       4.500000\n",
       "75%       7.000000\n",
       "max       9.000000"
      ]
     },
     "execution_count": 22,
     "metadata": {},
     "output_type": "execute_result"
    }
   ],
   "source": [
    "print( digitsMLP.y.shape )\n",
    "y_cls_test = np.vstack( np.argmax( digitsMLP.y, axis=0) )\n",
    "print( y_cls_test.shape )\n",
    "pd.DataFrame( y_cls_test ).describe()"
   ]
  },
  {
   "cell_type": "code",
   "execution_count": 23,
   "metadata": {},
   "outputs": [
    {
     "name": "stdout",
     "output_type": "stream",
     "text": [
      "(5000, 1)\n"
     ]
    },
    {
     "data": {
      "text/html": [
       "<div>\n",
       "<table border=\"1\" class=\"dataframe\">\n",
       "  <thead>\n",
       "    <tr style=\"text-align: right;\">\n",
       "      <th></th>\n",
       "      <th>0</th>\n",
       "    </tr>\n",
       "  </thead>\n",
       "  <tbody>\n",
       "    <tr>\n",
       "      <th>count</th>\n",
       "      <td>5000.000000</td>\n",
       "    </tr>\n",
       "    <tr>\n",
       "      <th>mean</th>\n",
       "      <td>4.499000</td>\n",
       "    </tr>\n",
       "    <tr>\n",
       "      <th>std</th>\n",
       "      <td>2.879315</td>\n",
       "    </tr>\n",
       "    <tr>\n",
       "      <th>min</th>\n",
       "      <td>0.000000</td>\n",
       "    </tr>\n",
       "    <tr>\n",
       "      <th>25%</th>\n",
       "      <td>2.000000</td>\n",
       "    </tr>\n",
       "    <tr>\n",
       "      <th>50%</th>\n",
       "      <td>5.000000</td>\n",
       "    </tr>\n",
       "    <tr>\n",
       "      <th>75%</th>\n",
       "      <td>7.000000</td>\n",
       "    </tr>\n",
       "    <tr>\n",
       "      <th>max</th>\n",
       "      <td>9.000000</td>\n",
       "    </tr>\n",
       "  </tbody>\n",
       "</table>\n",
       "</div>"
      ],
      "text/plain": [
       "                 0\n",
       "count  5000.000000\n",
       "mean      4.499000\n",
       "std       2.879315\n",
       "min       0.000000\n",
       "25%       2.000000\n",
       "50%       5.000000\n",
       "75%       7.000000\n",
       "max       9.000000"
      ]
     },
     "execution_count": 23,
     "metadata": {},
     "output_type": "execute_result"
    }
   ],
   "source": [
    "pred_y_cls_test = np.vstack( np.argmax( digitsMLP.predicted_vals_logreg() , axis=0))\n",
    "print( pred_y_cls_test.shape )\n",
    "pd.DataFrame( pred_y_cls_test ).describe()"
   ]
  },
  {
   "cell_type": "code",
   "execution_count": 24,
   "metadata": {},
   "outputs": [
    {
     "data": {
      "text/plain": [
       "0.99119999999999997"
      ]
     },
     "execution_count": 24,
     "metadata": {},
     "output_type": "execute_result"
    }
   ],
   "source": [
    "np.mean( pred_y_cls_test == y_cls_test )"
   ]
  },
  {
   "cell_type": "markdown",
   "metadata": {
    "collapsed": true
   },
   "source": [
    "#### Testing on MNIST, from University of Montreal, Deep Learning Tutorial, data"
   ]
  },
  {
   "cell_type": "code",
   "execution_count": 27,
   "metadata": {},
   "outputs": [
    {
     "name": "stdout",
     "output_type": "stream",
     "text": [
      "(10, 50000)\n"
     ]
    }
   ],
   "source": [
    "K=10\n",
    "m = len(train_set[1])\n",
    "y_train_prob = [np.zeros(K) for row in train_set[1]]  # list of 5000 numpy arrays of size dims. (10,)\n",
    "for i in range( m):\n",
    "        y_train_prob[i][ train_set[1][i]] = 1\n",
    "y_train_prob = np.array(y_train_prob).T.astype(theano.config.floatX)  # size dims. (K,m)\n",
    "print( y_train_prob.shape )"
   ]
  },
  {
   "cell_type": "code",
   "execution_count": 28,
   "metadata": {},
   "outputs": [
    {
     "name": "stdout",
     "output_type": "stream",
     "text": [
      "           0          1          2          3          4          5      \\\n",
      "count  10.000000  10.000000  10.000000  10.000000  10.000000  10.000000   \n",
      "mean    0.100000   0.100000   0.100000   0.100000   0.100000   0.100000   \n",
      "std     0.316228   0.316228   0.316228   0.316228   0.316228   0.316228   \n",
      "min     0.000000   0.000000   0.000000   0.000000   0.000000   0.000000   \n",
      "25%     0.000000   0.000000   0.000000   0.000000   0.000000   0.000000   \n",
      "50%     0.000000   0.000000   0.000000   0.000000   0.000000   0.000000   \n",
      "75%     0.000000   0.000000   0.000000   0.000000   0.000000   0.000000   \n",
      "max     1.000000   1.000000   1.000000   1.000000   1.000000   1.000000   \n",
      "\n",
      "           6          7          8          9        ...          49990  \\\n",
      "count  10.000000  10.000000  10.000000  10.000000    ...      10.000000   \n",
      "mean    0.100000   0.100000   0.100000   0.100000    ...       0.100000   \n",
      "std     0.316228   0.316228   0.316228   0.316228    ...       0.316228   \n",
      "min     0.000000   0.000000   0.000000   0.000000    ...       0.000000   \n",
      "25%     0.000000   0.000000   0.000000   0.000000    ...       0.000000   \n",
      "50%     0.000000   0.000000   0.000000   0.000000    ...       0.000000   \n",
      "75%     0.000000   0.000000   0.000000   0.000000    ...       0.000000   \n",
      "max     1.000000   1.000000   1.000000   1.000000    ...       1.000000   \n",
      "\n",
      "           49991      49992      49993      49994      49995      49996  \\\n",
      "count  10.000000  10.000000  10.000000  10.000000  10.000000  10.000000   \n",
      "mean    0.100000   0.100000   0.100000   0.100000   0.100000   0.100000   \n",
      "std     0.316228   0.316228   0.316228   0.316228   0.316228   0.316228   \n",
      "min     0.000000   0.000000   0.000000   0.000000   0.000000   0.000000   \n",
      "25%     0.000000   0.000000   0.000000   0.000000   0.000000   0.000000   \n",
      "50%     0.000000   0.000000   0.000000   0.000000   0.000000   0.000000   \n",
      "75%     0.000000   0.000000   0.000000   0.000000   0.000000   0.000000   \n",
      "max     1.000000   1.000000   1.000000   1.000000   1.000000   1.000000   \n",
      "\n",
      "           49997      49998      49999  \n",
      "count  10.000000  10.000000  10.000000  \n",
      "mean    0.100000   0.100000   0.100000  \n",
      "std     0.316228   0.316228   0.316228  \n",
      "min     0.000000   0.000000   0.000000  \n",
      "25%     0.000000   0.000000   0.000000  \n",
      "50%     0.000000   0.000000   0.000000  \n",
      "75%     0.000000   0.000000   0.000000  \n",
      "max     1.000000   1.000000   1.000000  \n",
      "\n",
      "[8 rows x 50000 columns]\n"
     ]
    }
   ],
   "source": [
    "print( pd.DataFrame( y_train_prob).describe() )"
   ]
  },
  {
   "cell_type": "code",
   "execution_count": 29,
   "metadata": {
    "collapsed": true
   },
   "outputs": [],
   "source": [
    "m,d= train_set[0].shape\n",
    "MNIST_MTL = MLP(3,[d,25,10], m, train_set[0].T, y_train_prob, T.nnet.sigmoid, 1., 0.1, 0.00001)"
   ]
  },
  {
   "cell_type": "code",
   "execution_count": 31,
   "metadata": {},
   "outputs": [
    {
     "name": "stdout",
     "output_type": "stream",
     "text": [
      "Accuracy score : 0.095720 \n"
     ]
    },
    {
     "data": {
      "text/plain": [
       "0.09572"
      ]
     },
     "execution_count": 31,
     "metadata": {},
     "output_type": "execute_result"
    }
   ],
   "source": [
    "MNIST_MTL.accuracy_log_reg()"
   ]
  },
  {
   "cell_type": "code",
   "execution_count": 32,
   "metadata": {},
   "outputs": [
    {
     "name": "stdout",
     "output_type": "stream",
     "text": [
      "[[-0.21252947  0.08412755 -0.04290283 ...,  0.07965862 -0.23788518\n",
      "   0.22836781]\n",
      " [ 0.21750133 -0.28106511  0.2671701  ...,  0.05657074 -0.29780233\n",
      "  -0.34037825]\n",
      " [-0.02203849  0.19995408  0.29139307 ..., -0.0802632   0.14923781\n",
      "  -0.01326215]\n",
      " ..., \n",
      " [-0.09192752  0.2681919   0.26859927 ...,  0.06894684  0.12018485\n",
      "  -0.32358104]\n",
      " [-0.13953739  0.02424429 -0.20282558 ...,  0.13586117 -0.29190949\n",
      "   0.01420764]\n",
      " [ 0.14536618 -0.06120829 -0.19793963 ...,  0.02141157 -0.26165357\n",
      "  -0.22347094]]\n"
     ]
    },
    {
     "data": {
      "text/plain": [
       "array([[ 0.39743981,  0.47411704, -0.06570012, -1.42164946, -1.16744244,\n",
       "        -0.44029245,  1.55344975,  0.42985651,  0.42142299,  0.34747389,\n",
       "        -0.81492281, -1.56219399,  0.82000202, -0.40216985,  1.47232902,\n",
       "         0.35999769,  0.68932515,  0.82125103, -0.06185548, -0.27060255,\n",
       "        -0.25692338, -0.86920112, -1.25981688,  1.49232507,  0.52447045],\n",
       "       [-0.45812011, -1.22509992, -1.14734924,  0.8219015 ,  0.67774659,\n",
       "        -0.54277843, -0.51398909, -1.19371367,  1.41380441,  0.30840605,\n",
       "        -0.11502755,  0.03701442, -0.82230645,  0.57699567,  1.3465414 ,\n",
       "         0.46789521,  0.72777843, -0.74098152,  1.17320132,  0.3995336 ,\n",
       "         0.79102081, -0.1648806 , -0.07733183, -1.60657287, -0.64839828],\n",
       "       [-0.26341805,  1.1494323 , -0.1576034 , -0.51010013, -1.4537679 ,\n",
       "        -0.32284725, -0.11438043, -0.16837011, -0.92213452, -1.61426508,\n",
       "        -1.34188533, -0.43147799, -0.61895543,  1.38522243, -0.58895016,\n",
       "        -0.7618435 ,  0.89010906, -0.43544725,  0.9864412 ,  1.43864715,\n",
       "        -1.04564011,  1.22792351,  1.51681113,  1.48080194,  0.77915668],\n",
       "       [ 0.20965257,  0.96099746, -1.38709569, -0.71545523,  1.10635912,\n",
       "        -1.29045534, -1.57748663, -0.95929617, -0.24077024, -0.35265234,\n",
       "        -0.75665629, -1.07101023, -0.00545067, -0.99316341,  1.4602592 ,\n",
       "         0.7212196 , -0.10515147,  0.49578574,  1.45931995,  1.07267094,\n",
       "        -0.01084974,  1.01463413, -0.73990732, -0.75446784, -1.58813906],\n",
       "       [ 1.26138949, -0.47427896, -0.4497835 , -0.19745249, -0.21095291,\n",
       "        -0.08235157,  1.11536026,  0.04610212,  1.11256003, -0.46868172,\n",
       "         0.98976576,  0.5969364 ,  1.2798928 , -0.48845506, -1.03150034,\n",
       "         0.96056491,  0.30198944,  1.47925031,  0.36784145,  0.33264968,\n",
       "         0.26245806,  0.48660216,  0.96751767, -1.27767527,  0.42533398],\n",
       "       [-1.35573721, -0.85225189,  0.39260316,  1.22144449, -0.31289348,\n",
       "        -0.9116798 , -1.23236263,  0.81047082,  0.68190771,  0.23868939,\n",
       "         0.48585162,  0.1120138 , -0.15501086,  0.46083274,  1.03472054,\n",
       "         1.32915258, -1.44029725, -0.71790475,  1.60148978,  0.20379403,\n",
       "         1.15068221, -1.49505317, -0.42173779, -0.72793669,  0.96851325],\n",
       "       [ 1.43791103, -0.69099313, -0.79151177,  0.21312031,  1.36474013,\n",
       "        -1.19343758, -0.45168665,  0.60482723,  0.41439977, -1.3197763 ,\n",
       "        -1.09207129,  0.23710582,  0.06775524, -0.72686183,  0.96668959,\n",
       "         0.09902351,  0.4042387 , -0.44409871, -0.26330748,  1.35316038,\n",
       "        -1.48465347,  1.03650403,  0.71476686,  1.63380992,  0.13157721],\n",
       "       [-0.90288603,  1.17905378,  1.22328877,  1.41004956,  0.29629964,\n",
       "        -0.9095031 , -0.23757875,  1.6151613 , -1.52695167, -1.07278395,\n",
       "         1.56079459,  0.52057123, -1.35828531, -1.01550984,  0.75505394,\n",
       "        -0.20916736, -0.56811482, -0.02100989,  1.45307636, -1.61759782,\n",
       "        -0.51052654, -1.48488081,  1.15462708, -1.02267063, -1.04683352],\n",
       "       [ 1.52449572,  1.1317147 ,  0.56625313,  1.33766675, -0.3755441 ,\n",
       "         0.9018296 ,  0.18880704, -0.07619639, -0.89904916,  1.51346755,\n",
       "        -0.34904653, -0.45106241,  1.63571787,  0.12569541,  1.17675114,\n",
       "        -0.60786849, -0.92819321,  0.43607047,  1.23182929, -0.37070179,\n",
       "         0.63889045, -1.0101124 , -1.28258407,  1.46705651, -0.69088858],\n",
       "       [-1.50364363,  1.22934222,  0.83844817,  0.65174961, -1.37190723,\n",
       "        -0.32444778, -0.26416573,  0.29394153, -0.66541278,  0.23971787,\n",
       "         0.32632565, -1.46561682, -0.02179751, -1.46791589, -0.15427259,\n",
       "        -0.18021606, -0.39853364, -0.67619216, -0.01778612, -0.78865045,\n",
       "        -1.53309178,  0.3225404 ,  1.01434851,  0.08351628,  1.15306926]], dtype=float32)"
      ]
     },
     "execution_count": 32,
     "metadata": {},
     "output_type": "execute_result"
    }
   ],
   "source": [
    "print( MNIST_MTL.Thetas[0].Theta.get_value() )\n",
    "MNIST_MTL.Thetas[1].Theta.get_value()"
   ]
  },
  {
   "cell_type": "code",
   "execution_count": 33,
   "metadata": {},
   "outputs": [
    {
     "data": {
      "text/plain": [
       "array([[ 0.77596611,  0.75060475,  0.423906  , ...,  0.60422331,\n",
       "         0.40988356,  0.31822193],\n",
       "       [ 0.34422615,  0.67563272,  0.273395  , ...,  0.20291083,\n",
       "         0.3232716 ,  0.4690749 ],\n",
       "       [ 0.93080932,  0.28231877,  0.59183002, ...,  0.95939362,\n",
       "         0.69641775,  0.79752219],\n",
       "       ..., \n",
       "       [ 0.00841192,  0.01366395,  0.53732932, ...,  0.08155674,\n",
       "         0.07537536,  0.07692103],\n",
       "       [ 0.90377617,  0.96592015,  0.98436731, ...,  0.98901641,\n",
       "         0.98044145,  0.9684335 ],\n",
       "       [ 0.0747021 ,  0.01449165,  0.20927182, ...,  0.16606021,\n",
       "         0.27188161,  0.05889074]], dtype=float32)"
      ]
     },
     "execution_count": 33,
     "metadata": {},
     "output_type": "execute_result"
    }
   ],
   "source": [
    "MNIST_MTL.predicted_vals_logreg()"
   ]
  },
  {
   "cell_type": "code",
   "execution_count": 34,
   "metadata": {
    "collapsed": true
   },
   "outputs": [],
   "source": [
    "MNIST_MTL.train_model(100000)"
   ]
  },
  {
   "cell_type": "code",
   "execution_count": 35,
   "metadata": {},
   "outputs": [
    {
     "name": "stdout",
     "output_type": "stream",
     "text": [
      "Accuracy score : 0.980420 \n"
     ]
    },
    {
     "data": {
      "text/plain": [
       "0.98041999999999996"
      ]
     },
     "execution_count": 35,
     "metadata": {},
     "output_type": "execute_result"
    }
   ],
   "source": [
    "MNIST_MTL.accuracy_log_reg()"
   ]
  },
  {
   "cell_type": "code",
   "execution_count": 36,
   "metadata": {},
   "outputs": [
    {
     "name": "stdout",
     "output_type": "stream",
     "text": [
      "[[-0.47362512  0.18747789 -0.09561399 ...,  0.17751911 -0.53015506\n",
      "   0.50892061]\n",
      " [ 0.48472929 -0.62637842  0.5954116  ...,  0.12606943 -0.66368026\n",
      "  -0.7585848 ]\n",
      " [-0.04911496  0.44561294  0.64935881 ..., -0.1788629   0.33259752\n",
      "  -0.02955511]\n",
      " ..., \n",
      " [-0.20487256  0.59768224  0.59859228 ...,  0.15364726  0.26784071\n",
      "  -0.72111851]\n",
      " [-0.31096086  0.05403042 -0.45201683 ...,  0.30278146 -0.65051121\n",
      "   0.03166183]\n",
      " [ 0.3239423  -0.13641159 -0.44111899 ...,  0.0477186  -0.58310646\n",
      "  -0.49803132]]\n"
     ]
    },
    {
     "data": {
      "text/plain": [
       "array([[  7.11062133e-01,   4.57554549e-01,   9.75120664e-02,\n",
       "         -5.07937050e+00,  -3.83276868e+00,   5.47499716e-01,\n",
       "          7.71603918e+00,   1.36168015e+00,   3.17900872e+00,\n",
       "         -2.18454540e-01,  -2.86413026e+00,  -4.37900066e+00,\n",
       "         -2.17216992e+00,  -6.29720163e+00,   3.04203176e+00,\n",
       "         -5.22348732e-02,   1.34919095e+00,   4.03648329e+00,\n",
       "         -4.14651203e+00,  -5.77749729e+00,  -2.90662193e+00,\n",
       "         -3.27267551e+00,  -4.66104698e+00,   5.65531969e+00,\n",
       "          4.85670775e-01],\n",
       "       [ -9.64691222e-01,  -6.14411163e+00,  -7.89063311e+00,\n",
       "          2.64467096e+00,   1.46627915e+00,  -3.22474170e+00,\n",
       "         -1.01905584e+00,  -1.88596475e+00,   7.01221895e+00,\n",
       "          1.92705405e+00,   2.55174327e+00,   1.04782128e+00,\n",
       "         -5.82779360e+00,   3.49170709e+00,   6.75916958e+00,\n",
       "          2.16688132e+00,   5.75238085e+00,  -3.99549007e+00,\n",
       "          1.14223826e+00,  -3.51164603e+00,   1.34314454e+00,\n",
       "          3.65567946e+00,   1.13587379e-01,  -5.55841112e+00,\n",
       "         -5.92364883e+00],\n",
       "       [ -6.39417708e-01,   3.38985538e+00,  -3.20516133e+00,\n",
       "         -5.39822042e-01,  -5.74882793e+00,  -5.57149768e-01,\n",
       "          4.90440190e-01,  -2.76023102e+00,  -4.99793005e+00,\n",
       "         -6.13943529e+00,  -4.86437082e+00,   1.80150628e+00,\n",
       "         -2.43367410e+00,   5.27764797e+00,  -6.62898493e+00,\n",
       "          4.37618375e-01,   4.27750015e+00,  -2.12696409e+00,\n",
       "          4.19394159e+00,   5.73637605e-01,   1.46028674e+00,\n",
       "         -1.85208154e+00,   3.50097370e+00,   6.81654167e+00,\n",
       "          3.72835803e+00],\n",
       "       [  5.72197735e-01,   1.68034172e+00,  -3.00833821e+00,\n",
       "         -4.48841381e+00,   5.16429281e+00,  -4.16888475e+00,\n",
       "         -6.96294880e+00,  -1.28992057e+00,  -2.63191819e-01,\n",
       "         -1.80943739e+00,  -6.06960821e+00,  -6.07639885e+00,\n",
       "         -1.68026042e+00,  -2.49091673e+00,   2.72927237e+00,\n",
       "          4.20622349e+00,  -6.85564899e+00,   8.40938282e+00,\n",
       "          3.71062899e+00,   4.54962540e+00,  -1.98130476e+00,\n",
       "          4.28268671e+00,  -3.92813444e+00,  -4.68170261e+00,\n",
       "         -3.60260940e+00],\n",
       "       [  2.54607844e+00,  -7.96052980e+00,  -2.66434860e+00,\n",
       "         -2.93493319e+00,  -2.69420886e+00,   2.50106549e+00,\n",
       "          3.34071350e+00,  -2.57470822e+00,   4.58119583e+00,\n",
       "         -6.90563297e+00,   3.39330125e+00,   2.23719907e+00,\n",
       "          3.48375678e+00,  -5.02125692e+00,  -8.19848251e+00,\n",
       "         -1.71341038e+00,  -5.05596447e+00,   6.00544357e+00,\n",
       "         -6.56114340e-01,  -1.66288626e+00,   6.16928673e+00,\n",
       "         -2.33877707e+00,   3.89905548e+00,  -5.27366161e+00,\n",
       "          4.28496420e-01],\n",
       "       [ -3.05176616e+00,  -1.78837430e+00,   7.71145201e+00,\n",
       "          4.71982098e+00,  -3.77251506e+00,  -1.15936108e+01,\n",
       "         -1.03705215e+01,   6.77015543e+00,   1.57322168e-01,\n",
       "         -8.24020922e-01,   1.67905545e+00,  -1.78405321e+00,\n",
       "         -7.02612519e-01,   1.29097593e+00,   4.61267138e+00,\n",
       "          7.27420330e+00,  -6.49334812e+00,  -9.20294094e+00,\n",
       "          4.45572805e+00,   6.66842163e-01,   5.05022955e+00,\n",
       "         -4.36325932e+00,  -5.60956860e+00,  -2.40490198e+00,\n",
       "          4.14503574e+00],\n",
       "       [  3.16660190e+00,  -4.45554256e+00,  -8.53040874e-01,\n",
       "          1.87503129e-01,   3.07649398e+00,  -4.22100449e+00,\n",
       "         -3.50551677e+00,   1.83885932e+00,   2.24337983e+00,\n",
       "         -4.28148890e+00,  -4.76952076e+00,   2.70211458e+00,\n",
       "          3.59806252e+00,  -7.04305601e+00,   3.61042929e+00,\n",
       "         -5.86637259e+00,   4.11456347e+00,  -3.98823214e+00,\n",
       "         -4.80216026e+00,   4.52647972e+00,  -7.22660494e+00,\n",
       "          1.45237148e-01,  -3.31796020e-01,   6.53981590e+00,\n",
       "         -1.41842246e+00],\n",
       "       [ -1.80336964e+00,   8.29802036e-01,   3.64742970e+00,\n",
       "         -2.13532329e+00,   2.97970319e+00,  -2.54826999e+00,\n",
       "          5.18451631e-01,   7.25896454e+00,  -3.89744210e+00,\n",
       "         -3.08217072e+00,   7.56499863e+00,   4.09100199e+00,\n",
       "         -7.79509687e+00,  -3.42566800e+00,   1.08090663e+00,\n",
       "         -2.89872932e+00,  -2.74361014e+00,  -1.76804709e+00,\n",
       "          6.18264246e+00,  -5.52989483e+00,  -2.50305200e+00,\n",
       "         -5.23402739e+00,   6.55207300e+00,  -5.23101330e+00,\n",
       "         -6.57023430e+00],\n",
       "       [  3.09581041e+00,  -2.72198647e-01,   1.52220082e+00,\n",
       "          6.30821896e+00,  -3.80636024e+00,   2.36185217e+00,\n",
       "         -1.18582726e+00,  -5.26250982e+00,  -6.28981304e+00,\n",
       "          3.22874022e+00,  -6.88107872e+00,   2.49213648e+00,\n",
       "          4.94375658e+00,  -1.33158898e+00,  -9.53457475e-01,\n",
       "         -9.96722794e+00,  -7.79621029e+00,   2.17832088e+00,\n",
       "         -4.02353048e+00,  -2.39235783e+00,   2.79603124e+00,\n",
       "         -3.93508315e+00,  -4.85469151e+00,   4.19522619e+00,\n",
       "         -4.63762474e+00],\n",
       "       [ -3.33755684e+00,   4.57075739e+00,  -4.37777138e+00,\n",
       "          2.42956066e+00,  -3.74254751e+00,  -8.17862332e-01,\n",
       "          2.52893835e-01,  -5.16166925e+00,  -4.43093204e+00,\n",
       "          8.01136875e+00,  -5.95063388e-01,  -8.98904037e+00,\n",
       "          1.42401373e+00,  -7.24769258e+00,  -1.48296952e+00,\n",
       "         -8.67474616e-01,  -2.32061291e+00,  -2.56787968e+00,\n",
       "         -1.69821453e+00,  -6.43771887e+00,  -5.80188227e+00,\n",
       "          4.79170799e+00,  -7.73105025e-01,  -6.07473543e-04,\n",
       "          6.16166925e+00]], dtype=float32)"
      ]
     },
     "execution_count": 36,
     "metadata": {},
     "output_type": "execute_result"
    }
   ],
   "source": [
    "print( MNIST_MTL.Thetas[0].Theta.get_value() )\n",
    "MNIST_MTL.Thetas[1].Theta.get_value()"
   ]
  },
  {
   "cell_type": "code",
   "execution_count": 37,
   "metadata": {},
   "outputs": [
    {
     "data": {
      "text/plain": [
       "array([[  4.52048823e-07,   1.00000000e+00,   7.51884666e-10, ...,\n",
       "          6.04108479e-08,   1.88120055e-06,   1.62847478e-08],\n",
       "       [  5.50135458e-11,   3.89633271e-07,   3.38999451e-09, ...,\n",
       "          7.60669491e-06,   4.72258321e-09,   7.85911197e-06],\n",
       "       [  2.77830568e-05,   2.95011669e-05,   3.45770331e-06, ...,\n",
       "          8.52322955e-06,   7.60071725e-02,   1.38454227e-04],\n",
       "       ..., \n",
       "       [  1.52943358e-05,   1.54980810e-08,   9.39907186e-05, ...,\n",
       "          7.08678338e-10,   7.70168582e-11,   4.95301133e-09],\n",
       "       [  9.09049849e-11,   7.11831039e-13,   5.01017041e-07, ...,\n",
       "          9.96697187e-01,   1.42343296e-02,   9.99997377e-01],\n",
       "       [  1.09123675e-05,   1.50772337e-06,   9.65651736e-08, ...,\n",
       "          1.19623294e-07,   9.40610245e-02,   1.57795876e-06]], dtype=float32)"
      ]
     },
     "execution_count": 37,
     "metadata": {},
     "output_type": "execute_result"
    }
   ],
   "source": [
    "MNIST_MTL.predicted_vals_logreg()"
   ]
  },
  {
   "cell_type": "markdown",
   "metadata": {},
   "source": [
    "Save the mode; cf. [Getting Started, DeepLearning 0.1 documentation, Loading and Saving Models](http://deeplearning.net/tutorial/gettingstarted.html)"
   ]
  },
  {
   "cell_type": "code",
   "execution_count": 38,
   "metadata": {
    "collapsed": true
   },
   "outputs": [],
   "source": [
    "import cPickle"
   ]
  },
  {
   "cell_type": "code",
   "execution_count": 40,
   "metadata": {},
   "outputs": [],
   "source": [
    "save_file = open('./saved_models/MNIST_MTL_log_reg','wb')"
   ]
  },
  {
   "cell_type": "code",
   "execution_count": 41,
   "metadata": {
    "collapsed": true
   },
   "outputs": [],
   "source": [
    "for Thet in MNIST_MTL.Thetas:\n",
    "    cPickle.dump( Thet.Theta.get_value(borrow=True), save_file,-1) # the -1 is for HIGHEST priority\n",
    "    cPickle.dump( Thet.b.get_value(borrow=True), save_file,-1)"
   ]
  },
  {
   "cell_type": "code",
   "execution_count": 42,
   "metadata": {
    "collapsed": true
   },
   "outputs": [],
   "source": [
    "save_file.close()"
   ]
  },
  {
   "cell_type": "code",
   "execution_count": 50,
   "metadata": {},
   "outputs": [],
   "source": [
    "MNIST_MTL.Thetas[0].al.set_value( valid_set[0].T.astype(theano.config.floatX) )"
   ]
  },
  {
   "cell_type": "code",
   "execution_count": 47,
   "metadata": {},
   "outputs": [
    {
     "name": "stdout",
     "output_type": "stream",
     "text": [
      "(10, 10000)\n"
     ]
    }
   ],
   "source": [
    "K=10\n",
    "m = len(valid_set[1])\n",
    "y_valid_prob = [np.zeros(K) for row in valid_set[1]]  # list of 5000 numpy arrays of size dims. (10,)\n",
    "for i in range( m):\n",
    "        y_valid_prob[i][ valid_set[1][i]] = 1\n",
    "y_valid_prob = np.array(y_valid_prob).T.astype(theano.config.floatX)  # size dims. (K,m)\n",
    "print( y_valid_prob.shape )"
   ]
  },
  {
   "cell_type": "code",
   "execution_count": 48,
   "metadata": {
    "collapsed": true
   },
   "outputs": [],
   "source": [
    "MNIST_MTL.y = y_valid_prob"
   ]
  },
  {
   "cell_type": "code",
   "execution_count": 51,
   "metadata": {},
   "outputs": [
    {
     "ename": "ValueError",
     "evalue": "dimension mismatch in args to gemm (25,784)x(784,10000)->(25,50000)\nApply node that caused the error: GpuGemm{inplace}(GpuReshape{2}.0, TensorConstant{1.0}, Theta1, al, TensorConstant{1.0})\nToposort index: 14\nInputs types: [CudaNdarrayType(float32, matrix), TensorType(float32, scalar), CudaNdarrayType(float32, matrix), CudaNdarrayType(float32, matrix), TensorType(float32, scalar)]\nInputs shapes: [(25, 50000), (), (25, 784), (784, 10000), ()]\nInputs strides: [(50000, 1), (), (784, 1), (10000, 1), ()]\nInputs values: ['not shown', array(1.0, dtype=float32), 'not shown', 'not shown', array(1.0, dtype=float32)]\nOutputs clients: [[GpuElemwise{ScalarSigmoid}[(0, 0)](GpuGemm{inplace}.0)]]\n\nHINT: Re-running with most Theano optimization disabled could give you a back-trace of when this node was created. This can be done with by setting the Theano flag 'optimizer=fast_compile'. If that does not work, Theano optimizations can be disabled with 'optimizer=None'.\nHINT: Use the Theano flag 'exception_verbosity=high' for a debugprint and storage map footprint of this apply node.",
     "output_type": "error",
     "traceback": [
      "\u001b[1;31m---------------------------------------------------------------------------\u001b[0m",
      "\u001b[1;31mValueError\u001b[0m                                Traceback (most recent call last)",
      "\u001b[1;32m<ipython-input-51-ec623bb772a5>\u001b[0m in \u001b[0;36m<module>\u001b[1;34m()\u001b[0m\n\u001b[1;32m----> 1\u001b[1;33m \u001b[0mMNIST_MTL\u001b[0m\u001b[1;33m.\u001b[0m\u001b[0mpredicted_vals_logreg\u001b[0m\u001b[1;33m(\u001b[0m\u001b[1;33m)\u001b[0m\u001b[1;33m\u001b[0m\u001b[0m\n\u001b[0m",
      "\u001b[1;32m/home/topolo/PropD/MLgrabbag/ML/NN.py\u001b[0m in \u001b[0;36mpredicted_vals_logreg\u001b[1;34m(self)\u001b[0m\n\u001b[0;32m    311\u001b[0m         \u001b[1;32mdef\u001b[0m \u001b[0mpredicted_vals_logreg\u001b[0m\u001b[1;33m(\u001b[0m\u001b[0mself\u001b[0m\u001b[1;33m)\u001b[0m\u001b[1;33m:\u001b[0m\u001b[1;33m\u001b[0m\u001b[0m\n\u001b[0;32m    312\u001b[0m                 \u001b[0mpredict_vals_func\u001b[0m \u001b[1;33m=\u001b[0m \u001b[0mpredicted_logreg\u001b[0m\u001b[1;33m(\u001b[0m \u001b[0mself\u001b[0m\u001b[1;33m.\u001b[0m\u001b[0mThetas\u001b[0m\u001b[1;33m[\u001b[0m\u001b[1;33m-\u001b[0m\u001b[1;36m1\u001b[0m\u001b[1;33m]\u001b[0m\u001b[1;33m.\u001b[0m\u001b[0malp1\u001b[0m \u001b[1;33m)\u001b[0m\u001b[1;33m\u001b[0m\u001b[0m\n\u001b[1;32m--> 313\u001b[1;33m                 \u001b[1;32mreturn\u001b[0m \u001b[0mpredict_vals_func\u001b[0m\u001b[1;33m(\u001b[0m\u001b[1;33m)\u001b[0m \u001b[1;31m# do the actual prediction on actual values, with the inputted X and trained Thetas,b's\u001b[0m\u001b[1;33m\u001b[0m\u001b[0m\n\u001b[0m\u001b[0;32m    314\u001b[0m \u001b[1;33m\u001b[0m\u001b[0m\n\u001b[0;32m    315\u001b[0m \u001b[1;33m\u001b[0m\u001b[0m\n",
      "\u001b[1;32m/home/topolo/Public/anaconda2/lib/python2.7/site-packages/theano/compile/function_module.pyc\u001b[0m in \u001b[0;36m__call__\u001b[1;34m(self, *args, **kwargs)\u001b[0m\n\u001b[0;32m    869\u001b[0m                     \u001b[0mnode\u001b[0m\u001b[1;33m=\u001b[0m\u001b[0mself\u001b[0m\u001b[1;33m.\u001b[0m\u001b[0mfn\u001b[0m\u001b[1;33m.\u001b[0m\u001b[0mnodes\u001b[0m\u001b[1;33m[\u001b[0m\u001b[0mself\u001b[0m\u001b[1;33m.\u001b[0m\u001b[0mfn\u001b[0m\u001b[1;33m.\u001b[0m\u001b[0mposition_of_error\u001b[0m\u001b[1;33m]\u001b[0m\u001b[1;33m,\u001b[0m\u001b[1;33m\u001b[0m\u001b[0m\n\u001b[0;32m    870\u001b[0m                     \u001b[0mthunk\u001b[0m\u001b[1;33m=\u001b[0m\u001b[0mthunk\u001b[0m\u001b[1;33m,\u001b[0m\u001b[1;33m\u001b[0m\u001b[0m\n\u001b[1;32m--> 871\u001b[1;33m                     storage_map=getattr(self.fn, 'storage_map', None))\n\u001b[0m\u001b[0;32m    872\u001b[0m             \u001b[1;32melse\u001b[0m\u001b[1;33m:\u001b[0m\u001b[1;33m\u001b[0m\u001b[0m\n\u001b[0;32m    873\u001b[0m                 \u001b[1;31m# old-style linkers raise their own exceptions\u001b[0m\u001b[1;33m\u001b[0m\u001b[1;33m\u001b[0m\u001b[0m\n",
      "\u001b[1;32m/home/topolo/Public/anaconda2/lib/python2.7/site-packages/theano/gof/link.pyc\u001b[0m in \u001b[0;36mraise_with_op\u001b[1;34m(node, thunk, exc_info, storage_map)\u001b[0m\n\u001b[0;32m    312\u001b[0m         \u001b[1;31m# extra long error message in that case.\u001b[0m\u001b[1;33m\u001b[0m\u001b[1;33m\u001b[0m\u001b[0m\n\u001b[0;32m    313\u001b[0m         \u001b[1;32mpass\u001b[0m\u001b[1;33m\u001b[0m\u001b[0m\n\u001b[1;32m--> 314\u001b[1;33m     \u001b[0mreraise\u001b[0m\u001b[1;33m(\u001b[0m\u001b[0mexc_type\u001b[0m\u001b[1;33m,\u001b[0m \u001b[0mexc_value\u001b[0m\u001b[1;33m,\u001b[0m \u001b[0mexc_trace\u001b[0m\u001b[1;33m)\u001b[0m\u001b[1;33m\u001b[0m\u001b[0m\n\u001b[0m\u001b[0;32m    315\u001b[0m \u001b[1;33m\u001b[0m\u001b[0m\n\u001b[0;32m    316\u001b[0m \u001b[1;33m\u001b[0m\u001b[0m\n",
      "\u001b[1;32m/home/topolo/Public/anaconda2/lib/python2.7/site-packages/theano/compile/function_module.pyc\u001b[0m in \u001b[0;36m__call__\u001b[1;34m(self, *args, **kwargs)\u001b[0m\n\u001b[0;32m    857\u001b[0m         \u001b[0mt0_fn\u001b[0m \u001b[1;33m=\u001b[0m \u001b[0mtime\u001b[0m\u001b[1;33m.\u001b[0m\u001b[0mtime\u001b[0m\u001b[1;33m(\u001b[0m\u001b[1;33m)\u001b[0m\u001b[1;33m\u001b[0m\u001b[0m\n\u001b[0;32m    858\u001b[0m         \u001b[1;32mtry\u001b[0m\u001b[1;33m:\u001b[0m\u001b[1;33m\u001b[0m\u001b[0m\n\u001b[1;32m--> 859\u001b[1;33m             \u001b[0moutputs\u001b[0m \u001b[1;33m=\u001b[0m \u001b[0mself\u001b[0m\u001b[1;33m.\u001b[0m\u001b[0mfn\u001b[0m\u001b[1;33m(\u001b[0m\u001b[1;33m)\u001b[0m\u001b[1;33m\u001b[0m\u001b[0m\n\u001b[0m\u001b[0;32m    860\u001b[0m         \u001b[1;32mexcept\u001b[0m \u001b[0mException\u001b[0m\u001b[1;33m:\u001b[0m\u001b[1;33m\u001b[0m\u001b[0m\n\u001b[0;32m    861\u001b[0m             \u001b[1;32mif\u001b[0m \u001b[0mhasattr\u001b[0m\u001b[1;33m(\u001b[0m\u001b[0mself\u001b[0m\u001b[1;33m.\u001b[0m\u001b[0mfn\u001b[0m\u001b[1;33m,\u001b[0m \u001b[1;34m'position_of_error'\u001b[0m\u001b[1;33m)\u001b[0m\u001b[1;33m:\u001b[0m\u001b[1;33m\u001b[0m\u001b[0m\n",
      "\u001b[1;31mValueError\u001b[0m: dimension mismatch in args to gemm (25,784)x(784,10000)->(25,50000)\nApply node that caused the error: GpuGemm{inplace}(GpuReshape{2}.0, TensorConstant{1.0}, Theta1, al, TensorConstant{1.0})\nToposort index: 14\nInputs types: [CudaNdarrayType(float32, matrix), TensorType(float32, scalar), CudaNdarrayType(float32, matrix), CudaNdarrayType(float32, matrix), TensorType(float32, scalar)]\nInputs shapes: [(25, 50000), (), (25, 784), (784, 10000), ()]\nInputs strides: [(50000, 1), (), (784, 1), (10000, 1), ()]\nInputs values: ['not shown', array(1.0, dtype=float32), 'not shown', 'not shown', array(1.0, dtype=float32)]\nOutputs clients: [[GpuElemwise{ScalarSigmoid}[(0, 0)](GpuGemm{inplace}.0)]]\n\nHINT: Re-running with most Theano optimization disabled could give you a back-trace of when this node was created. This can be done with by setting the Theano flag 'optimizer=fast_compile'. If that does not work, Theano optimizations can be disabled with 'optimizer=None'.\nHINT: Use the Theano flag 'exception_verbosity=high' for a debugprint and storage map footprint of this apply node."
     ]
    }
   ],
   "source": [
    "MNIST_MTL.predicted_vals_logreg()"
   ]
  },
  {
   "cell_type": "code",
   "execution_count": 53,
   "metadata": {},
   "outputs": [
    {
     "ename": "ValueError",
     "evalue": "dimension mismatch in args to gemm (25,784)x(784,10000)->(25,50000)\nApply node that caused the error: GpuGemm{inplace}(GpuReshape{2}.0, TensorConstant{1.0}, Theta1, al, TensorConstant{1.0})\nToposort index: 7\nInputs types: [CudaNdarrayType(float32, matrix), TensorType(float32, scalar), CudaNdarrayType(float32, matrix), CudaNdarrayType(float32, matrix), TensorType(float32, scalar)]\nInputs shapes: [(25, 50000), (), (25, 784), (784, 10000), ()]\nInputs strides: [(50000, 1), (), (784, 1), (10000, 1), ()]\nInputs values: ['not shown', array(1.0, dtype=float32), 'not shown', 'not shown', array(1.0, dtype=float32)]\nOutputs clients: [[GpuElemwise{ScalarSigmoid}[(0, 0)](GpuGemm{inplace}.0)]]\n\nHINT: Re-running with most Theano optimization disabled could give you a back-trace of when this node was created. This can be done with by setting the Theano flag 'optimizer=fast_compile'. If that does not work, Theano optimizations can be disabled with 'optimizer=None'.\nHINT: Use the Theano flag 'exception_verbosity=high' for a debugprint and storage map footprint of this apply node.",
     "output_type": "error",
     "traceback": [
      "\u001b[1;31m---------------------------------------------------------------------------\u001b[0m",
      "\u001b[1;31mValueError\u001b[0m                                Traceback (most recent call last)",
      "\u001b[1;32m<ipython-input-53-10646c6daf13>\u001b[0m in \u001b[0;36m<module>\u001b[1;34m()\u001b[0m\n\u001b[1;32m----> 1\u001b[1;33m \u001b[0mtheano\u001b[0m\u001b[1;33m.\u001b[0m\u001b[0mfunction\u001b[0m\u001b[1;33m(\u001b[0m\u001b[1;33m[\u001b[0m\u001b[1;33m]\u001b[0m\u001b[1;33m,\u001b[0m \u001b[0mMNIST_MTL\u001b[0m\u001b[1;33m.\u001b[0m\u001b[0mThetas\u001b[0m\u001b[1;33m[\u001b[0m\u001b[1;36m0\u001b[0m\u001b[1;33m]\u001b[0m\u001b[1;33m.\u001b[0m\u001b[0malp1\u001b[0m\u001b[1;33m)\u001b[0m\u001b[1;33m(\u001b[0m\u001b[1;33m)\u001b[0m\u001b[1;33m\u001b[0m\u001b[0m\n\u001b[0m",
      "\u001b[1;32m/home/topolo/Public/anaconda2/lib/python2.7/site-packages/theano/compile/function_module.pyc\u001b[0m in \u001b[0;36m__call__\u001b[1;34m(self, *args, **kwargs)\u001b[0m\n\u001b[0;32m    869\u001b[0m                     \u001b[0mnode\u001b[0m\u001b[1;33m=\u001b[0m\u001b[0mself\u001b[0m\u001b[1;33m.\u001b[0m\u001b[0mfn\u001b[0m\u001b[1;33m.\u001b[0m\u001b[0mnodes\u001b[0m\u001b[1;33m[\u001b[0m\u001b[0mself\u001b[0m\u001b[1;33m.\u001b[0m\u001b[0mfn\u001b[0m\u001b[1;33m.\u001b[0m\u001b[0mposition_of_error\u001b[0m\u001b[1;33m]\u001b[0m\u001b[1;33m,\u001b[0m\u001b[1;33m\u001b[0m\u001b[0m\n\u001b[0;32m    870\u001b[0m                     \u001b[0mthunk\u001b[0m\u001b[1;33m=\u001b[0m\u001b[0mthunk\u001b[0m\u001b[1;33m,\u001b[0m\u001b[1;33m\u001b[0m\u001b[0m\n\u001b[1;32m--> 871\u001b[1;33m                     storage_map=getattr(self.fn, 'storage_map', None))\n\u001b[0m\u001b[0;32m    872\u001b[0m             \u001b[1;32melse\u001b[0m\u001b[1;33m:\u001b[0m\u001b[1;33m\u001b[0m\u001b[0m\n\u001b[0;32m    873\u001b[0m                 \u001b[1;31m# old-style linkers raise their own exceptions\u001b[0m\u001b[1;33m\u001b[0m\u001b[1;33m\u001b[0m\u001b[0m\n",
      "\u001b[1;32m/home/topolo/Public/anaconda2/lib/python2.7/site-packages/theano/gof/link.pyc\u001b[0m in \u001b[0;36mraise_with_op\u001b[1;34m(node, thunk, exc_info, storage_map)\u001b[0m\n\u001b[0;32m    312\u001b[0m         \u001b[1;31m# extra long error message in that case.\u001b[0m\u001b[1;33m\u001b[0m\u001b[1;33m\u001b[0m\u001b[0m\n\u001b[0;32m    313\u001b[0m         \u001b[1;32mpass\u001b[0m\u001b[1;33m\u001b[0m\u001b[0m\n\u001b[1;32m--> 314\u001b[1;33m     \u001b[0mreraise\u001b[0m\u001b[1;33m(\u001b[0m\u001b[0mexc_type\u001b[0m\u001b[1;33m,\u001b[0m \u001b[0mexc_value\u001b[0m\u001b[1;33m,\u001b[0m \u001b[0mexc_trace\u001b[0m\u001b[1;33m)\u001b[0m\u001b[1;33m\u001b[0m\u001b[0m\n\u001b[0m\u001b[0;32m    315\u001b[0m \u001b[1;33m\u001b[0m\u001b[0m\n\u001b[0;32m    316\u001b[0m \u001b[1;33m\u001b[0m\u001b[0m\n",
      "\u001b[1;32m/home/topolo/Public/anaconda2/lib/python2.7/site-packages/theano/compile/function_module.pyc\u001b[0m in \u001b[0;36m__call__\u001b[1;34m(self, *args, **kwargs)\u001b[0m\n\u001b[0;32m    857\u001b[0m         \u001b[0mt0_fn\u001b[0m \u001b[1;33m=\u001b[0m \u001b[0mtime\u001b[0m\u001b[1;33m.\u001b[0m\u001b[0mtime\u001b[0m\u001b[1;33m(\u001b[0m\u001b[1;33m)\u001b[0m\u001b[1;33m\u001b[0m\u001b[0m\n\u001b[0;32m    858\u001b[0m         \u001b[1;32mtry\u001b[0m\u001b[1;33m:\u001b[0m\u001b[1;33m\u001b[0m\u001b[0m\n\u001b[1;32m--> 859\u001b[1;33m             \u001b[0moutputs\u001b[0m \u001b[1;33m=\u001b[0m \u001b[0mself\u001b[0m\u001b[1;33m.\u001b[0m\u001b[0mfn\u001b[0m\u001b[1;33m(\u001b[0m\u001b[1;33m)\u001b[0m\u001b[1;33m\u001b[0m\u001b[0m\n\u001b[0m\u001b[0;32m    860\u001b[0m         \u001b[1;32mexcept\u001b[0m \u001b[0mException\u001b[0m\u001b[1;33m:\u001b[0m\u001b[1;33m\u001b[0m\u001b[0m\n\u001b[0;32m    861\u001b[0m             \u001b[1;32mif\u001b[0m \u001b[0mhasattr\u001b[0m\u001b[1;33m(\u001b[0m\u001b[0mself\u001b[0m\u001b[1;33m.\u001b[0m\u001b[0mfn\u001b[0m\u001b[1;33m,\u001b[0m \u001b[1;34m'position_of_error'\u001b[0m\u001b[1;33m)\u001b[0m\u001b[1;33m:\u001b[0m\u001b[1;33m\u001b[0m\u001b[0m\n",
      "\u001b[1;31mValueError\u001b[0m: dimension mismatch in args to gemm (25,784)x(784,10000)->(25,50000)\nApply node that caused the error: GpuGemm{inplace}(GpuReshape{2}.0, TensorConstant{1.0}, Theta1, al, TensorConstant{1.0})\nToposort index: 7\nInputs types: [CudaNdarrayType(float32, matrix), TensorType(float32, scalar), CudaNdarrayType(float32, matrix), CudaNdarrayType(float32, matrix), TensorType(float32, scalar)]\nInputs shapes: [(25, 50000), (), (25, 784), (784, 10000), ()]\nInputs strides: [(50000, 1), (), (784, 1), (10000, 1), ()]\nInputs values: ['not shown', array(1.0, dtype=float32), 'not shown', 'not shown', array(1.0, dtype=float32)]\nOutputs clients: [[GpuElemwise{ScalarSigmoid}[(0, 0)](GpuGemm{inplace}.0)]]\n\nHINT: Re-running with most Theano optimization disabled could give you a back-trace of when this node was created. This can be done with by setting the Theano flag 'optimizer=fast_compile'. If that does not work, Theano optimizations can be disabled with 'optimizer=None'.\nHINT: Use the Theano flag 'exception_verbosity=high' for a debugprint and storage map footprint of this apply node."
     ]
    }
   ],
   "source": [
    "theano.function([], MNIST_MTL.Thetas[0].alp1)()"
   ]
  },
  {
   "cell_type": "code",
   "execution_count": 56,
   "metadata": {},
   "outputs": [
    {
     "name": "stdout",
     "output_type": "stream",
     "text": [
      "10000\n"
     ]
    }
   ],
   "source": [
    "Layer1 = MNIST_MTL.Thetas[0]\n",
    "Layer2 = MNIST_MTL.Thetas[1]\n",
    "m = valid_set[0].shape[0]\n",
    "print(m)"
   ]
  },
  {
   "cell_type": "code",
   "execution_count": 60,
   "metadata": {},
   "outputs": [
    {
     "name": "stdout",
     "output_type": "stream",
     "text": [
      "(10, 10000)\n"
     ]
    }
   ],
   "source": [
    "a2 = T.nnet.sigmoid( T.dot( Layer1.Theta, Layer1.al) + T.tile( Layer1.b, (1,m)) )\n",
    "a3 = T.nnet.sigmoid( T.dot( Layer2.Theta, a2) + T.tile( Layer2.b, (1,m)) )\n",
    "valid_pred = theano.function([], a3)()\n",
    "print( valid_pred.shape)"
   ]
  },
  {
   "cell_type": "code",
   "execution_count": 61,
   "metadata": {},
   "outputs": [
    {
     "data": {
      "text/html": [
       "<div>\n",
       "<table border=\"1\" class=\"dataframe\">\n",
       "  <thead>\n",
       "    <tr style=\"text-align: right;\">\n",
       "      <th></th>\n",
       "      <th>0</th>\n",
       "      <th>1</th>\n",
       "      <th>2</th>\n",
       "      <th>3</th>\n",
       "      <th>4</th>\n",
       "      <th>5</th>\n",
       "      <th>6</th>\n",
       "      <th>7</th>\n",
       "      <th>8</th>\n",
       "      <th>9</th>\n",
       "    </tr>\n",
       "  </thead>\n",
       "  <tbody>\n",
       "    <tr>\n",
       "      <th>count</th>\n",
       "      <td>1.000000e+04</td>\n",
       "      <td>1.000000e+04</td>\n",
       "      <td>1.000000e+04</td>\n",
       "      <td>1.000000e+04</td>\n",
       "      <td>1.000000e+04</td>\n",
       "      <td>1.000000e+04</td>\n",
       "      <td>1.000000e+04</td>\n",
       "      <td>1.000000e+04</td>\n",
       "      <td>1.000000e+04</td>\n",
       "      <td>1.000000e+04</td>\n",
       "    </tr>\n",
       "    <tr>\n",
       "      <th>mean</th>\n",
       "      <td>9.992079e-02</td>\n",
       "      <td>1.074899e-01</td>\n",
       "      <td>9.912494e-02</td>\n",
       "      <td>1.052671e-01</td>\n",
       "      <td>9.976897e-02</td>\n",
       "      <td>9.037534e-02</td>\n",
       "      <td>9.769981e-02</td>\n",
       "      <td>1.085759e-01</td>\n",
       "      <td>1.005443e-01</td>\n",
       "      <td>9.500753e-02</td>\n",
       "    </tr>\n",
       "    <tr>\n",
       "      <th>std</th>\n",
       "      <td>2.961449e-01</td>\n",
       "      <td>3.058113e-01</td>\n",
       "      <td>2.902825e-01</td>\n",
       "      <td>2.958724e-01</td>\n",
       "      <td>2.931867e-01</td>\n",
       "      <td>2.795904e-01</td>\n",
       "      <td>2.927824e-01</td>\n",
       "      <td>3.047731e-01</td>\n",
       "      <td>2.924316e-01</td>\n",
       "      <td>2.828876e-01</td>\n",
       "    </tr>\n",
       "    <tr>\n",
       "      <th>min</th>\n",
       "      <td>9.005615e-17</td>\n",
       "      <td>1.986378e-17</td>\n",
       "      <td>2.439026e-13</td>\n",
       "      <td>6.265842e-16</td>\n",
       "      <td>1.214437e-18</td>\n",
       "      <td>6.500246e-18</td>\n",
       "      <td>9.674661e-19</td>\n",
       "      <td>1.735837e-17</td>\n",
       "      <td>3.318569e-18</td>\n",
       "      <td>6.359484e-18</td>\n",
       "    </tr>\n",
       "    <tr>\n",
       "      <th>25%</th>\n",
       "      <td>1.320481e-09</td>\n",
       "      <td>1.788181e-09</td>\n",
       "      <td>4.365240e-07</td>\n",
       "      <td>1.482097e-07</td>\n",
       "      <td>1.504599e-09</td>\n",
       "      <td>4.772580e-09</td>\n",
       "      <td>1.436151e-10</td>\n",
       "      <td>3.032865e-09</td>\n",
       "      <td>3.319625e-08</td>\n",
       "      <td>1.242549e-08</td>\n",
       "    </tr>\n",
       "    <tr>\n",
       "      <th>50%</th>\n",
       "      <td>9.058250e-08</td>\n",
       "      <td>1.760941e-07</td>\n",
       "      <td>1.530497e-05</td>\n",
       "      <td>8.275158e-06</td>\n",
       "      <td>3.291525e-07</td>\n",
       "      <td>4.075375e-07</td>\n",
       "      <td>2.823017e-08</td>\n",
       "      <td>4.088125e-07</td>\n",
       "      <td>3.484185e-06</td>\n",
       "      <td>1.585515e-06</td>\n",
       "    </tr>\n",
       "    <tr>\n",
       "      <th>75%</th>\n",
       "      <td>1.096723e-05</td>\n",
       "      <td>3.165664e-05</td>\n",
       "      <td>5.320824e-04</td>\n",
       "      <td>4.356618e-04</td>\n",
       "      <td>3.269091e-05</td>\n",
       "      <td>3.865018e-05</td>\n",
       "      <td>6.124497e-06</td>\n",
       "      <td>8.373335e-05</td>\n",
       "      <td>2.405906e-04</td>\n",
       "      <td>2.055749e-04</td>\n",
       "    </tr>\n",
       "    <tr>\n",
       "      <th>max</th>\n",
       "      <td>1.000000e+00</td>\n",
       "      <td>1.000000e+00</td>\n",
       "      <td>1.000000e+00</td>\n",
       "      <td>1.000000e+00</td>\n",
       "      <td>1.000000e+00</td>\n",
       "      <td>1.000000e+00</td>\n",
       "      <td>1.000000e+00</td>\n",
       "      <td>1.000000e+00</td>\n",
       "      <td>1.000000e+00</td>\n",
       "      <td>9.999994e-01</td>\n",
       "    </tr>\n",
       "  </tbody>\n",
       "</table>\n",
       "</div>"
      ],
      "text/plain": [
       "                  0             1             2             3             4  \\\n",
       "count  1.000000e+04  1.000000e+04  1.000000e+04  1.000000e+04  1.000000e+04   \n",
       "mean   9.992079e-02  1.074899e-01  9.912494e-02  1.052671e-01  9.976897e-02   \n",
       "std    2.961449e-01  3.058113e-01  2.902825e-01  2.958724e-01  2.931867e-01   \n",
       "min    9.005615e-17  1.986378e-17  2.439026e-13  6.265842e-16  1.214437e-18   \n",
       "25%    1.320481e-09  1.788181e-09  4.365240e-07  1.482097e-07  1.504599e-09   \n",
       "50%    9.058250e-08  1.760941e-07  1.530497e-05  8.275158e-06  3.291525e-07   \n",
       "75%    1.096723e-05  3.165664e-05  5.320824e-04  4.356618e-04  3.269091e-05   \n",
       "max    1.000000e+00  1.000000e+00  1.000000e+00  1.000000e+00  1.000000e+00   \n",
       "\n",
       "                  5             6             7             8             9  \n",
       "count  1.000000e+04  1.000000e+04  1.000000e+04  1.000000e+04  1.000000e+04  \n",
       "mean   9.037534e-02  9.769981e-02  1.085759e-01  1.005443e-01  9.500753e-02  \n",
       "std    2.795904e-01  2.927824e-01  3.047731e-01  2.924316e-01  2.828876e-01  \n",
       "min    6.500246e-18  9.674661e-19  1.735837e-17  3.318569e-18  6.359484e-18  \n",
       "25%    4.772580e-09  1.436151e-10  3.032865e-09  3.319625e-08  1.242549e-08  \n",
       "50%    4.075375e-07  2.823017e-08  4.088125e-07  3.484185e-06  1.585515e-06  \n",
       "75%    3.865018e-05  6.124497e-06  8.373335e-05  2.405906e-04  2.055749e-04  \n",
       "max    1.000000e+00  1.000000e+00  1.000000e+00  1.000000e+00  9.999994e-01  "
      ]
     },
     "execution_count": 61,
     "metadata": {},
     "output_type": "execute_result"
    }
   ],
   "source": [
    "pd.DataFrame( valid_pred.T).describe()"
   ]
  },
  {
   "cell_type": "code",
   "execution_count": 62,
   "metadata": {},
   "outputs": [
    {
     "data": {
      "text/plain": [
       "0.95340000000000003"
      ]
     },
     "execution_count": 62,
     "metadata": {},
     "output_type": "execute_result"
    }
   ],
   "source": [
    "np.mean( np.vstack( np.argmax( valid_pred,axis=0)) == np.vstack( valid_set[1] ) )"
   ]
  },
  {
   "cell_type": "code",
   "execution_count": 63,
   "metadata": {
    "collapsed": true
   },
   "outputs": [],
   "source": [
    "X_in = T.matrix()"
   ]
  },
  {
   "cell_type": "code",
   "execution_count": 64,
   "metadata": {},
   "outputs": [
    {
     "ename": "AttributeError",
     "evalue": "'TensorVariable' object has no attribute 'set_value'",
     "output_type": "error",
     "traceback": [
      "\u001b[1;31m---------------------------------------------------------------------------\u001b[0m",
      "\u001b[1;31mAttributeError\u001b[0m                            Traceback (most recent call last)",
      "\u001b[1;32m<ipython-input-64-922d1dc9b484>\u001b[0m in \u001b[0;36m<module>\u001b[1;34m()\u001b[0m\n\u001b[1;32m----> 1\u001b[1;33m \u001b[0mX_in\u001b[0m\u001b[1;33m.\u001b[0m\u001b[0mset_value\u001b[0m\u001b[1;33m(\u001b[0m \u001b[0mvalid_set\u001b[0m\u001b[1;33m[\u001b[0m\u001b[1;36m0\u001b[0m\u001b[1;33m]\u001b[0m\u001b[1;33m.\u001b[0m\u001b[0mT\u001b[0m\u001b[1;33m.\u001b[0m\u001b[0mastype\u001b[0m\u001b[1;33m(\u001b[0m\u001b[0mtheano\u001b[0m\u001b[1;33m.\u001b[0m\u001b[0mconfig\u001b[0m\u001b[1;33m.\u001b[0m\u001b[0mfloatX\u001b[0m\u001b[1;33m)\u001b[0m\u001b[1;33m)\u001b[0m\u001b[1;33m\u001b[0m\u001b[0m\n\u001b[0m",
      "\u001b[1;31mAttributeError\u001b[0m: 'TensorVariable' object has no attribute 'set_value'"
     ]
    }
   ],
   "source": [
    "X_in.set_value( valid_set[0].T.astype(theano.config.floatX))"
   ]
  },
  {
   "cell_type": "code",
   "execution_count": 68,
   "metadata": {},
   "outputs": [],
   "source": [
    "a2_giv = T.nnet.sigmoid( T.dot( Layer1.Theta, X_in) + T.tile(Layer1.b, (1,m)))\n",
    "a3_giv = T.nnet.sigmoid( T.dot( Layer2.Theta, a2_giv) + T.tile( Layer2.b, (1,m)) )\n",
    "valid_pred_givens = theano.function([], outputs=a3_giv, givens={ X_in: valid_set[0].T.astype(theano.config.floatX)} )"
   ]
  },
  {
   "cell_type": "code",
   "execution_count": 72,
   "metadata": {},
   "outputs": [
    {
     "name": "stdout",
     "output_type": "stream",
     "text": [
      "(10, 10000)\n"
     ]
    },
    {
     "data": {
      "text/html": [
       "<div>\n",
       "<table border=\"1\" class=\"dataframe\">\n",
       "  <thead>\n",
       "    <tr style=\"text-align: right;\">\n",
       "      <th></th>\n",
       "      <th>0</th>\n",
       "      <th>1</th>\n",
       "      <th>2</th>\n",
       "      <th>3</th>\n",
       "      <th>4</th>\n",
       "      <th>5</th>\n",
       "      <th>6</th>\n",
       "      <th>7</th>\n",
       "      <th>8</th>\n",
       "      <th>9</th>\n",
       "    </tr>\n",
       "  </thead>\n",
       "  <tbody>\n",
       "    <tr>\n",
       "      <th>count</th>\n",
       "      <td>1.000000e+04</td>\n",
       "      <td>1.000000e+04</td>\n",
       "      <td>1.000000e+04</td>\n",
       "      <td>1.000000e+04</td>\n",
       "      <td>1.000000e+04</td>\n",
       "      <td>1.000000e+04</td>\n",
       "      <td>1.000000e+04</td>\n",
       "      <td>1.000000e+04</td>\n",
       "      <td>1.000000e+04</td>\n",
       "      <td>1.000000e+04</td>\n",
       "    </tr>\n",
       "    <tr>\n",
       "      <th>mean</th>\n",
       "      <td>9.992079e-02</td>\n",
       "      <td>1.074899e-01</td>\n",
       "      <td>9.912494e-02</td>\n",
       "      <td>1.052671e-01</td>\n",
       "      <td>9.976897e-02</td>\n",
       "      <td>9.037534e-02</td>\n",
       "      <td>9.769981e-02</td>\n",
       "      <td>1.085759e-01</td>\n",
       "      <td>1.005443e-01</td>\n",
       "      <td>9.500753e-02</td>\n",
       "    </tr>\n",
       "    <tr>\n",
       "      <th>std</th>\n",
       "      <td>2.961449e-01</td>\n",
       "      <td>3.058113e-01</td>\n",
       "      <td>2.902825e-01</td>\n",
       "      <td>2.958724e-01</td>\n",
       "      <td>2.931867e-01</td>\n",
       "      <td>2.795904e-01</td>\n",
       "      <td>2.927824e-01</td>\n",
       "      <td>3.047731e-01</td>\n",
       "      <td>2.924316e-01</td>\n",
       "      <td>2.828876e-01</td>\n",
       "    </tr>\n",
       "    <tr>\n",
       "      <th>min</th>\n",
       "      <td>9.005615e-17</td>\n",
       "      <td>1.986378e-17</td>\n",
       "      <td>2.439026e-13</td>\n",
       "      <td>6.265842e-16</td>\n",
       "      <td>1.214437e-18</td>\n",
       "      <td>6.500246e-18</td>\n",
       "      <td>9.674661e-19</td>\n",
       "      <td>1.735837e-17</td>\n",
       "      <td>3.318569e-18</td>\n",
       "      <td>6.359484e-18</td>\n",
       "    </tr>\n",
       "    <tr>\n",
       "      <th>25%</th>\n",
       "      <td>1.320481e-09</td>\n",
       "      <td>1.788181e-09</td>\n",
       "      <td>4.365240e-07</td>\n",
       "      <td>1.482097e-07</td>\n",
       "      <td>1.504599e-09</td>\n",
       "      <td>4.772580e-09</td>\n",
       "      <td>1.436151e-10</td>\n",
       "      <td>3.032865e-09</td>\n",
       "      <td>3.319625e-08</td>\n",
       "      <td>1.242549e-08</td>\n",
       "    </tr>\n",
       "    <tr>\n",
       "      <th>50%</th>\n",
       "      <td>9.058250e-08</td>\n",
       "      <td>1.760941e-07</td>\n",
       "      <td>1.530497e-05</td>\n",
       "      <td>8.275158e-06</td>\n",
       "      <td>3.291525e-07</td>\n",
       "      <td>4.075375e-07</td>\n",
       "      <td>2.823017e-08</td>\n",
       "      <td>4.088125e-07</td>\n",
       "      <td>3.484185e-06</td>\n",
       "      <td>1.585515e-06</td>\n",
       "    </tr>\n",
       "    <tr>\n",
       "      <th>75%</th>\n",
       "      <td>1.096723e-05</td>\n",
       "      <td>3.165664e-05</td>\n",
       "      <td>5.320824e-04</td>\n",
       "      <td>4.356618e-04</td>\n",
       "      <td>3.269091e-05</td>\n",
       "      <td>3.865018e-05</td>\n",
       "      <td>6.124497e-06</td>\n",
       "      <td>8.373335e-05</td>\n",
       "      <td>2.405906e-04</td>\n",
       "      <td>2.055749e-04</td>\n",
       "    </tr>\n",
       "    <tr>\n",
       "      <th>max</th>\n",
       "      <td>1.000000e+00</td>\n",
       "      <td>1.000000e+00</td>\n",
       "      <td>1.000000e+00</td>\n",
       "      <td>1.000000e+00</td>\n",
       "      <td>1.000000e+00</td>\n",
       "      <td>1.000000e+00</td>\n",
       "      <td>1.000000e+00</td>\n",
       "      <td>1.000000e+00</td>\n",
       "      <td>1.000000e+00</td>\n",
       "      <td>9.999994e-01</td>\n",
       "    </tr>\n",
       "  </tbody>\n",
       "</table>\n",
       "</div>"
      ],
      "text/plain": [
       "                  0             1             2             3             4  \\\n",
       "count  1.000000e+04  1.000000e+04  1.000000e+04  1.000000e+04  1.000000e+04   \n",
       "mean   9.992079e-02  1.074899e-01  9.912494e-02  1.052671e-01  9.976897e-02   \n",
       "std    2.961449e-01  3.058113e-01  2.902825e-01  2.958724e-01  2.931867e-01   \n",
       "min    9.005615e-17  1.986378e-17  2.439026e-13  6.265842e-16  1.214437e-18   \n",
       "25%    1.320481e-09  1.788181e-09  4.365240e-07  1.482097e-07  1.504599e-09   \n",
       "50%    9.058250e-08  1.760941e-07  1.530497e-05  8.275158e-06  3.291525e-07   \n",
       "75%    1.096723e-05  3.165664e-05  5.320824e-04  4.356618e-04  3.269091e-05   \n",
       "max    1.000000e+00  1.000000e+00  1.000000e+00  1.000000e+00  1.000000e+00   \n",
       "\n",
       "                  5             6             7             8             9  \n",
       "count  1.000000e+04  1.000000e+04  1.000000e+04  1.000000e+04  1.000000e+04  \n",
       "mean   9.037534e-02  9.769981e-02  1.085759e-01  1.005443e-01  9.500753e-02  \n",
       "std    2.795904e-01  2.927824e-01  3.047731e-01  2.924316e-01  2.828876e-01  \n",
       "min    6.500246e-18  9.674661e-19  1.735837e-17  3.318569e-18  6.359484e-18  \n",
       "25%    4.772580e-09  1.436151e-10  3.032865e-09  3.319625e-08  1.242549e-08  \n",
       "50%    4.075375e-07  2.823017e-08  4.088125e-07  3.484185e-06  1.585515e-06  \n",
       "75%    3.865018e-05  6.124497e-06  8.373335e-05  2.405906e-04  2.055749e-04  \n",
       "max    1.000000e+00  1.000000e+00  1.000000e+00  1.000000e+00  9.999994e-01  "
      ]
     },
     "execution_count": 72,
     "metadata": {},
     "output_type": "execute_result"
    }
   ],
   "source": [
    "print( valid_pred_givens().shape )\n",
    "pd.DataFrame( valid_pred_givens().T).describe()"
   ]
  },
  {
   "cell_type": "code",
   "execution_count": 78,
   "metadata": {},
   "outputs": [
    {
     "data": {
      "text/plain": [
       "0.95340000000000003"
      ]
     },
     "execution_count": 78,
     "metadata": {},
     "output_type": "execute_result"
    }
   ],
   "source": [
    "np.mean( np.vstack( np.argmax( valid_pred_givens(),axis=0)) == np.vstack( valid_set[1] ) )"
   ]
  },
  {
   "cell_type": "code",
   "execution_count": 79,
   "metadata": {
    "collapsed": true
   },
   "outputs": [],
   "source": [
    "test_pred_givens = theano.function([], outputs=a3_giv, givens={ X_in: test_set[0].T.astype(theano.config.floatX)} )"
   ]
  },
  {
   "cell_type": "code",
   "execution_count": 80,
   "metadata": {},
   "outputs": [
    {
     "data": {
      "text/plain": [
       "0.94979999999999998"
      ]
     },
     "execution_count": 80,
     "metadata": {},
     "output_type": "execute_result"
    }
   ],
   "source": [
    "np.mean( np.vstack( np.argmax( test_pred_givens(),axis=0)) == np.vstack( test_set[1] ) )"
   ]
  },
  {
   "cell_type": "code",
   "execution_count": 81,
   "metadata": {},
   "outputs": [
    {
     "data": {
      "text/plain": [
       "[1, 2]"
      ]
     },
     "execution_count": 81,
     "metadata": {},
     "output_type": "execute_result"
    }
   ],
   "source": [
    "range(1,3)"
   ]
  },
  {
   "cell_type": "code",
   "execution_count": 82,
   "metadata": {},
   "outputs": [
    {
     "data": {
      "text/plain": [
       "[0, 1, 2]"
      ]
     },
     "execution_count": 82,
     "metadata": {},
     "output_type": "execute_result"
    }
   ],
   "source": [
    "range(3)"
   ]
  },
  {
   "cell_type": "code",
   "execution_count": 83,
   "metadata": {},
   "outputs": [
    {
     "data": {
      "text/plain": [
       "[1]"
      ]
     },
     "execution_count": 83,
     "metadata": {},
     "output_type": "execute_result"
    }
   ],
   "source": [
    "range(1,3-1)"
   ]
  },
  {
   "cell_type": "markdown",
   "metadata": {
    "collapsed": true
   },
   "source": [
    "cf. [Glass Classification](https://www.kaggle.com/uciml/glass)"
   ]
  },
  {
   "cell_type": "code",
   "execution_count": 11,
   "metadata": {
    "collapsed": true
   },
   "outputs": [],
   "source": [
    "gls_data = pd.read_csv( \"./kaggle/glass.csv\")"
   ]
  },
  {
   "cell_type": "code",
   "execution_count": 12,
   "metadata": {},
   "outputs": [
    {
     "data": {
      "text/html": [
       "<div>\n",
       "<table border=\"1\" class=\"dataframe\">\n",
       "  <thead>\n",
       "    <tr style=\"text-align: right;\">\n",
       "      <th></th>\n",
       "      <th>RI</th>\n",
       "      <th>Na</th>\n",
       "      <th>Mg</th>\n",
       "      <th>Al</th>\n",
       "      <th>Si</th>\n",
       "      <th>K</th>\n",
       "      <th>Ca</th>\n",
       "      <th>Ba</th>\n",
       "      <th>Fe</th>\n",
       "      <th>Type</th>\n",
       "    </tr>\n",
       "  </thead>\n",
       "  <tbody>\n",
       "    <tr>\n",
       "      <th>count</th>\n",
       "      <td>214.000000</td>\n",
       "      <td>214.000000</td>\n",
       "      <td>214.000000</td>\n",
       "      <td>214.000000</td>\n",
       "      <td>214.000000</td>\n",
       "      <td>214.000000</td>\n",
       "      <td>214.000000</td>\n",
       "      <td>214.000000</td>\n",
       "      <td>214.000000</td>\n",
       "      <td>214.000000</td>\n",
       "    </tr>\n",
       "    <tr>\n",
       "      <th>mean</th>\n",
       "      <td>1.518365</td>\n",
       "      <td>13.407850</td>\n",
       "      <td>2.684533</td>\n",
       "      <td>1.444907</td>\n",
       "      <td>72.650935</td>\n",
       "      <td>0.497056</td>\n",
       "      <td>8.956963</td>\n",
       "      <td>0.175047</td>\n",
       "      <td>0.057009</td>\n",
       "      <td>2.780374</td>\n",
       "    </tr>\n",
       "    <tr>\n",
       "      <th>std</th>\n",
       "      <td>0.003037</td>\n",
       "      <td>0.816604</td>\n",
       "      <td>1.442408</td>\n",
       "      <td>0.499270</td>\n",
       "      <td>0.774546</td>\n",
       "      <td>0.652192</td>\n",
       "      <td>1.423153</td>\n",
       "      <td>0.497219</td>\n",
       "      <td>0.097439</td>\n",
       "      <td>2.103739</td>\n",
       "    </tr>\n",
       "    <tr>\n",
       "      <th>min</th>\n",
       "      <td>1.511150</td>\n",
       "      <td>10.730000</td>\n",
       "      <td>0.000000</td>\n",
       "      <td>0.290000</td>\n",
       "      <td>69.810000</td>\n",
       "      <td>0.000000</td>\n",
       "      <td>5.430000</td>\n",
       "      <td>0.000000</td>\n",
       "      <td>0.000000</td>\n",
       "      <td>1.000000</td>\n",
       "    </tr>\n",
       "    <tr>\n",
       "      <th>25%</th>\n",
       "      <td>1.516523</td>\n",
       "      <td>12.907500</td>\n",
       "      <td>2.115000</td>\n",
       "      <td>1.190000</td>\n",
       "      <td>72.280000</td>\n",
       "      <td>0.122500</td>\n",
       "      <td>8.240000</td>\n",
       "      <td>0.000000</td>\n",
       "      <td>0.000000</td>\n",
       "      <td>1.000000</td>\n",
       "    </tr>\n",
       "    <tr>\n",
       "      <th>50%</th>\n",
       "      <td>1.517680</td>\n",
       "      <td>13.300000</td>\n",
       "      <td>3.480000</td>\n",
       "      <td>1.360000</td>\n",
       "      <td>72.790000</td>\n",
       "      <td>0.555000</td>\n",
       "      <td>8.600000</td>\n",
       "      <td>0.000000</td>\n",
       "      <td>0.000000</td>\n",
       "      <td>2.000000</td>\n",
       "    </tr>\n",
       "    <tr>\n",
       "      <th>75%</th>\n",
       "      <td>1.519157</td>\n",
       "      <td>13.825000</td>\n",
       "      <td>3.600000</td>\n",
       "      <td>1.630000</td>\n",
       "      <td>73.087500</td>\n",
       "      <td>0.610000</td>\n",
       "      <td>9.172500</td>\n",
       "      <td>0.000000</td>\n",
       "      <td>0.100000</td>\n",
       "      <td>3.000000</td>\n",
       "    </tr>\n",
       "    <tr>\n",
       "      <th>max</th>\n",
       "      <td>1.533930</td>\n",
       "      <td>17.380000</td>\n",
       "      <td>4.490000</td>\n",
       "      <td>3.500000</td>\n",
       "      <td>75.410000</td>\n",
       "      <td>6.210000</td>\n",
       "      <td>16.190000</td>\n",
       "      <td>3.150000</td>\n",
       "      <td>0.510000</td>\n",
       "      <td>7.000000</td>\n",
       "    </tr>\n",
       "  </tbody>\n",
       "</table>\n",
       "</div>"
      ],
      "text/plain": [
       "               RI          Na          Mg          Al          Si           K  \\\n",
       "count  214.000000  214.000000  214.000000  214.000000  214.000000  214.000000   \n",
       "mean     1.518365   13.407850    2.684533    1.444907   72.650935    0.497056   \n",
       "std      0.003037    0.816604    1.442408    0.499270    0.774546    0.652192   \n",
       "min      1.511150   10.730000    0.000000    0.290000   69.810000    0.000000   \n",
       "25%      1.516523   12.907500    2.115000    1.190000   72.280000    0.122500   \n",
       "50%      1.517680   13.300000    3.480000    1.360000   72.790000    0.555000   \n",
       "75%      1.519157   13.825000    3.600000    1.630000   73.087500    0.610000   \n",
       "max      1.533930   17.380000    4.490000    3.500000   75.410000    6.210000   \n",
       "\n",
       "               Ca          Ba          Fe        Type  \n",
       "count  214.000000  214.000000  214.000000  214.000000  \n",
       "mean     8.956963    0.175047    0.057009    2.780374  \n",
       "std      1.423153    0.497219    0.097439    2.103739  \n",
       "min      5.430000    0.000000    0.000000    1.000000  \n",
       "25%      8.240000    0.000000    0.000000    1.000000  \n",
       "50%      8.600000    0.000000    0.000000    2.000000  \n",
       "75%      9.172500    0.000000    0.100000    3.000000  \n",
       "max     16.190000    3.150000    0.510000    7.000000  "
      ]
     },
     "execution_count": 12,
     "metadata": {},
     "output_type": "execute_result"
    }
   ],
   "source": [
    "gls_data.describe()"
   ]
  },
  {
   "cell_type": "code",
   "execution_count": 16,
   "metadata": {},
   "outputs": [
    {
     "data": {
      "text/plain": [
       "(214, 10)"
      ]
     },
     "execution_count": 16,
     "metadata": {},
     "output_type": "execute_result"
    }
   ],
   "source": [
    "gls_data.get_values().shape"
   ]
  },
  {
   "cell_type": "code",
   "execution_count": 12,
   "metadata": {},
   "outputs": [
    {
     "name": "stdout",
     "output_type": "stream",
     "text": [
      "(214, 9)\n",
      "(214,)\n",
      "[ 1.  1.  1.  1.  1.  1.  1.  1.  1.  1.]\n",
      "(200, 9)\n",
      "(200,)\n"
     ]
    }
   ],
   "source": [
    "X_gls = gls_data.get_values()[:,:-1]\n",
    "print(X_gls.shape)\n",
    "y_gls = gls_data.get_values()[:,-1]\n",
    "print(y_gls.shape)\n",
    "print( y_gls[:10])\n",
    "X_gls_train = gls_data.get_values()[:-14,:-1]\n",
    "print(X_gls_train.shape)\n",
    "y_gls_train = gls_data.get_values()[:-14,-1]\n",
    "print(y_gls_train.shape)"
   ]
  },
  {
   "cell_type": "code",
   "execution_count": 29,
   "metadata": {},
   "outputs": [
    {
     "name": "stdout",
     "output_type": "stream",
     "text": [
      "(7, 200)\n"
     ]
    },
    {
     "name": "stderr",
     "output_type": "stream",
     "text": [
      "/home/topolo/Public/anaconda2/lib/python2.7/site-packages/ipykernel/__main__.py:5: VisibleDeprecationWarning: using a non-integer number instead of an integer will result in an error in the future\n"
     ]
    }
   ],
   "source": [
    "K=7\n",
    "m = len(y_gls_train)\n",
    "y_gls_train_prob = [np.zeros(K) for row in y_gls_train]  # list of 5000 numpy arrays of size dims. (10,)\n",
    "for i in range( m):\n",
    "        y_gls_train_prob[i][ y_gls_train[i]-1] = 1\n",
    "y_gls_train_prob = np.array(y_gls_train_prob).T.astype(theano.config.floatX)  # size dims. (K,m)\n",
    "print( y_gls_train_prob.shape )"
   ]
  },
  {
   "cell_type": "code",
   "execution_count": 42,
   "metadata": {},
   "outputs": [],
   "source": [
    "gls_MLP = MLP( 3, [9,8,7],200, X_gls_train.T, y_gls_train_prob, T.nnet.sigmoid, 0.01,0.05,0.0001 )"
   ]
  },
  {
   "cell_type": "code",
   "execution_count": 43,
   "metadata": {},
   "outputs": [
    {
     "name": "stdout",
     "output_type": "stream",
     "text": [
      "Accuracy score : 0.045000 \n"
     ]
    },
    {
     "data": {
      "text/plain": [
       "0.044999999999999998"
      ]
     },
     "execution_count": 43,
     "metadata": {},
     "output_type": "execute_result"
    }
   ],
   "source": [
    "gls_MLP.accuracy_log_reg()"
   ]
  },
  {
   "cell_type": "code",
   "execution_count": 44,
   "metadata": {
    "collapsed": true
   },
   "outputs": [],
   "source": [
    "gls_MLP.train_model(10000)"
   ]
  },
  {
   "cell_type": "code",
   "execution_count": 45,
   "metadata": {},
   "outputs": [
    {
     "name": "stdout",
     "output_type": "stream",
     "text": [
      "Accuracy score : 0.380000 \n"
     ]
    },
    {
     "data": {
      "text/plain": [
       "0.38"
      ]
     },
     "execution_count": 45,
     "metadata": {},
     "output_type": "execute_result"
    }
   ],
   "source": [
    "gls_MLP.accuracy_log_reg()"
   ]
  },
  {
   "cell_type": "code",
   "execution_count": 46,
   "metadata": {},
   "outputs": [
    {
     "data": {
      "text/plain": [
       "array([[ 0.34978667,  0.34978667,  0.34978667, ...,  0.34978667,\n",
       "         0.34978667,  0.34978667],\n",
       "       [ 0.3797904 ,  0.3797904 ,  0.3797904 , ...,  0.3797904 ,\n",
       "         0.3797904 ,  0.3797904 ],\n",
       "       [ 0.08406211,  0.08406211,  0.08406211, ...,  0.08406211,\n",
       "         0.08406211,  0.08406211],\n",
       "       ..., \n",
       "       [ 0.06395678,  0.06395678,  0.06395678, ...,  0.06395678,\n",
       "         0.06395678,  0.06395678],\n",
       "       [ 0.04376425,  0.04376425,  0.04376425, ...,  0.04376425,\n",
       "         0.04376425,  0.04376425],\n",
       "       [ 0.07399232,  0.07399232,  0.07399232, ...,  0.07399232,\n",
       "         0.07399232,  0.07399232]], dtype=float32)"
      ]
     },
     "execution_count": 46,
     "metadata": {},
     "output_type": "execute_result"
    }
   ],
   "source": [
    "gls_MLP.predicted_vals_logreg()"
   ]
  },
  {
   "cell_type": "code",
   "execution_count": 47,
   "metadata": {},
   "outputs": [
    {
     "name": "stdout",
     "output_type": "stream",
     "text": [
      "Accuracy score : 0.380000 \n"
     ]
    },
    {
     "data": {
      "text/plain": [
       "0.38"
      ]
     },
     "execution_count": 47,
     "metadata": {},
     "output_type": "execute_result"
    }
   ],
   "source": [
    "gls_MLP.train_model(10000)\n",
    "gls_MLP.accuracy_log_reg()"
   ]
  },
  {
   "cell_type": "code",
   "execution_count": null,
   "metadata": {
    "collapsed": true
   },
   "outputs": [],
   "source": [
    "ga"
   ]
  },
  {
   "cell_type": "code",
   "execution_count": 48,
   "metadata": {},
   "outputs": [
    {
     "name": "stdout",
     "output_type": "stream",
     "text": [
      "(14, 9)\n",
      "(14,)\n"
     ]
    }
   ],
   "source": [
    "X_gls_test = gls_data.get_values()[-14:,:-1]\n",
    "print( X_gls_test.shape )\n",
    "y_gls_test = gls_data.get_values()[-14:,-1]\n",
    "print( y_gls_test.shape)"
   ]
  },
  {
   "cell_type": "code",
   "execution_count": 49,
   "metadata": {},
   "outputs": [],
   "source": [
    "gls_predict_on_test = gls_MLP.predict_on( 14, X_gls_test.T )"
   ]
  },
  {
   "cell_type": "code",
   "execution_count": 51,
   "metadata": {},
   "outputs": [
    {
     "data": {
      "text/plain": [
       "0.0"
      ]
     },
     "execution_count": 51,
     "metadata": {},
     "output_type": "execute_result"
    }
   ],
   "source": [
    "np.mean( np.vstack( np.argmax( gls_predict_on_test(), axis=0) ) == (y_gls_test-1) )"
   ]
  },
  {
   "cell_type": "code",
   "execution_count": 52,
   "metadata": {},
   "outputs": [
    {
     "data": {
      "text/plain": [
       "array([ 7.,  7.,  7.,  7.,  7.,  7.,  7.,  7.,  7.,  7.,  7.,  7.,  7.,  7.])"
      ]
     },
     "execution_count": 52,
     "metadata": {},
     "output_type": "execute_result"
    }
   ],
   "source": [
    "y_gls_test"
   ]
  },
  {
   "cell_type": "code",
   "execution_count": 53,
   "metadata": {},
   "outputs": [
    {
     "data": {
      "text/plain": [
       "array([[1],\n",
       "       [1],\n",
       "       [1],\n",
       "       [1],\n",
       "       [1],\n",
       "       [1],\n",
       "       [1],\n",
       "       [1],\n",
       "       [1],\n",
       "       [1],\n",
       "       [1],\n",
       "       [1],\n",
       "       [1],\n",
       "       [1]])"
      ]
     },
     "execution_count": 53,
     "metadata": {},
     "output_type": "execute_result"
    }
   ],
   "source": [
    "np.vstack( np.argmax( gls_predict_on_test(), axis=0))"
   ]
  },
  {
   "cell_type": "code",
   "execution_count": 17,
   "metadata": {
    "collapsed": true
   },
   "outputs": [],
   "source": [
    "X_sym = T.matrix()"
   ]
  },
  {
   "cell_type": "code",
   "execution_count": 33,
   "metadata": {},
   "outputs": [],
   "source": [
    "rng = np.random.RandomState(1234)\n",
    "Thetab1 = Layer( rng, 1, 4,3,2, al = X_sym, activation=T.nnet.sigmoid)\n"
   ]
  },
  {
   "cell_type": "code",
   "execution_count": 34,
   "metadata": {},
   "outputs": [
    {
     "data": {
      "text/plain": [
       "(3, 4)"
      ]
     },
     "execution_count": 34,
     "metadata": {},
     "output_type": "execute_result"
    }
   ],
   "source": [
    "Thetab1.alp1\n",
    "Thetab1.Theta.get_value().shape"
   ]
  },
  {
   "cell_type": "code",
   "execution_count": 35,
   "metadata": {
    "collapsed": true
   },
   "outputs": [],
   "source": [
    "Thetab2 = Layer( rng, 2, 3,2,2, al=Thetab1.alp1, activation=T.nnet.sigmoid)\n"
   ]
  },
  {
   "cell_type": "code",
   "execution_count": 36,
   "metadata": {
    "collapsed": true
   },
   "outputs": [],
   "source": [
    "Thetab2.al = Thetab1.alp1"
   ]
  },
  {
   "cell_type": "code",
   "execution_count": 30,
   "metadata": {},
   "outputs": [
    {
     "data": {
      "text/plain": [
       "Subtensor{int64}.0"
      ]
     },
     "execution_count": 30,
     "metadata": {},
     "output_type": "execute_result"
    }
   ],
   "source": [
    "X_sym.shape[0]"
   ]
  },
  {
   "cell_type": "code",
   "execution_count": 31,
   "metadata": {},
   "outputs": [
    {
     "data": {
      "text/plain": [
       "Reshape{2}.0"
      ]
     },
     "execution_count": 31,
     "metadata": {},
     "output_type": "execute_result"
    }
   ],
   "source": [
    "T.tile( Thetab1.b, (1, X_sym.shape[0]))"
   ]
  },
  {
   "cell_type": "code",
   "execution_count": 42,
   "metadata": {},
   "outputs": [],
   "source": [
    "test12comp = theano.function( [], outputs=Thetab2.alp1, givens={ X_sym : X42test} )"
   ]
  },
  {
   "cell_type": "code",
   "execution_count": 40,
   "metadata": {},
   "outputs": [],
   "source": [
    "X42test = np.array([1,2,3,4,5,6,7,8]).reshape((4,2)).astype(theano.config.floatX)"
   ]
  },
  {
   "cell_type": "code",
   "execution_count": 43,
   "metadata": {},
   "outputs": [
    {
     "data": {
      "text/plain": [
       "array([[ 0.91000074,  0.91101253],\n",
       "       [ 0.02431746,  0.02417665]], dtype=float32)"
      ]
     },
     "execution_count": 43,
     "metadata": {},
     "output_type": "execute_result"
    }
   ],
   "source": [
    "test12comp()"
   ]
  },
  {
   "cell_type": "code",
   "execution_count": 44,
   "metadata": {
    "collapsed": true
   },
   "outputs": [],
   "source": [
    "X43test = np.array(range(1,13)).reshape((4,3)).astype(theano.config.floatX)"
   ]
  },
  {
   "cell_type": "code",
   "execution_count": 45,
   "metadata": {},
   "outputs": [
    {
     "data": {
      "text/plain": [
       "array([[  1.,   2.,   3.],\n",
       "       [  4.,   5.,   6.],\n",
       "       [  7.,   8.,   9.],\n",
       "       [ 10.,  11.,  12.]], dtype=float32)"
      ]
     },
     "execution_count": 45,
     "metadata": {},
     "output_type": "execute_result"
    }
   ],
   "source": [
    "X43test"
   ]
  },
  {
   "cell_type": "code",
   "execution_count": 46,
   "metadata": {
    "collapsed": true
   },
   "outputs": [],
   "source": [
    "test43comp = theano.function( [], outputs=Thetab2.alp1, givens={ X_sym : X43test} )"
   ]
  },
  {
   "cell_type": "code",
   "execution_count": 47,
   "metadata": {},
   "outputs": [
    {
     "ename": "ValueError",
     "evalue": "dimension mismatch in args to gemm (3,4)x(4,3)->(3,2)\nApply node that caused the error: GpuGemm{inplace}(GpuReshape{2}.0, TensorConstant{1.0}, Theta1, <CudaNdarrayType(float32, matrix)>, TensorConstant{1.0})\nToposort index: 14\nInputs types: [CudaNdarrayType(float32, matrix), TensorType(float32, scalar), CudaNdarrayType(float32, matrix), CudaNdarrayType(float32, matrix), TensorType(float32, scalar)]\nInputs shapes: [(3, 2), (), (3, 4), (4, 3), ()]\nInputs strides: [(2, 1), (), (4, 1), (3, 1), ()]\nInputs values: ['not shown', array(1.0, dtype=float32), 'not shown', 'not shown', array(1.0, dtype=float32)]\nOutputs clients: [[GpuElemwise{ScalarSigmoid}[(0, 0)](GpuGemm{inplace}.0)]]\n\nHINT: Re-running with most Theano optimization disabled could give you a back-trace of when this node was created. This can be done with by setting the Theano flag 'optimizer=fast_compile'. If that does not work, Theano optimizations can be disabled with 'optimizer=None'.\nHINT: Use the Theano flag 'exception_verbosity=high' for a debugprint and storage map footprint of this apply node.",
     "output_type": "error",
     "traceback": [
      "\u001b[1;31m---------------------------------------------------------------------------\u001b[0m",
      "\u001b[1;31mValueError\u001b[0m                                Traceback (most recent call last)",
      "\u001b[1;32m<ipython-input-47-4a3d91ae9a55>\u001b[0m in \u001b[0;36m<module>\u001b[1;34m()\u001b[0m\n\u001b[1;32m----> 1\u001b[1;33m \u001b[0mtest43comp\u001b[0m\u001b[1;33m(\u001b[0m\u001b[1;33m)\u001b[0m\u001b[1;33m\u001b[0m\u001b[0m\n\u001b[0m",
      "\u001b[1;32m/home/topolo/Public/anaconda2/lib/python2.7/site-packages/theano/compile/function_module.pyc\u001b[0m in \u001b[0;36m__call__\u001b[1;34m(self, *args, **kwargs)\u001b[0m\n\u001b[0;32m    869\u001b[0m                     \u001b[0mnode\u001b[0m\u001b[1;33m=\u001b[0m\u001b[0mself\u001b[0m\u001b[1;33m.\u001b[0m\u001b[0mfn\u001b[0m\u001b[1;33m.\u001b[0m\u001b[0mnodes\u001b[0m\u001b[1;33m[\u001b[0m\u001b[0mself\u001b[0m\u001b[1;33m.\u001b[0m\u001b[0mfn\u001b[0m\u001b[1;33m.\u001b[0m\u001b[0mposition_of_error\u001b[0m\u001b[1;33m]\u001b[0m\u001b[1;33m,\u001b[0m\u001b[1;33m\u001b[0m\u001b[0m\n\u001b[0;32m    870\u001b[0m                     \u001b[0mthunk\u001b[0m\u001b[1;33m=\u001b[0m\u001b[0mthunk\u001b[0m\u001b[1;33m,\u001b[0m\u001b[1;33m\u001b[0m\u001b[0m\n\u001b[1;32m--> 871\u001b[1;33m                     storage_map=getattr(self.fn, 'storage_map', None))\n\u001b[0m\u001b[0;32m    872\u001b[0m             \u001b[1;32melse\u001b[0m\u001b[1;33m:\u001b[0m\u001b[1;33m\u001b[0m\u001b[0m\n\u001b[0;32m    873\u001b[0m                 \u001b[1;31m# old-style linkers raise their own exceptions\u001b[0m\u001b[1;33m\u001b[0m\u001b[1;33m\u001b[0m\u001b[0m\n",
      "\u001b[1;32m/home/topolo/Public/anaconda2/lib/python2.7/site-packages/theano/gof/link.pyc\u001b[0m in \u001b[0;36mraise_with_op\u001b[1;34m(node, thunk, exc_info, storage_map)\u001b[0m\n\u001b[0;32m    312\u001b[0m         \u001b[1;31m# extra long error message in that case.\u001b[0m\u001b[1;33m\u001b[0m\u001b[1;33m\u001b[0m\u001b[0m\n\u001b[0;32m    313\u001b[0m         \u001b[1;32mpass\u001b[0m\u001b[1;33m\u001b[0m\u001b[0m\n\u001b[1;32m--> 314\u001b[1;33m     \u001b[0mreraise\u001b[0m\u001b[1;33m(\u001b[0m\u001b[0mexc_type\u001b[0m\u001b[1;33m,\u001b[0m \u001b[0mexc_value\u001b[0m\u001b[1;33m,\u001b[0m \u001b[0mexc_trace\u001b[0m\u001b[1;33m)\u001b[0m\u001b[1;33m\u001b[0m\u001b[0m\n\u001b[0m\u001b[0;32m    315\u001b[0m \u001b[1;33m\u001b[0m\u001b[0m\n\u001b[0;32m    316\u001b[0m \u001b[1;33m\u001b[0m\u001b[0m\n",
      "\u001b[1;32m/home/topolo/Public/anaconda2/lib/python2.7/site-packages/theano/compile/function_module.pyc\u001b[0m in \u001b[0;36m__call__\u001b[1;34m(self, *args, **kwargs)\u001b[0m\n\u001b[0;32m    857\u001b[0m         \u001b[0mt0_fn\u001b[0m \u001b[1;33m=\u001b[0m \u001b[0mtime\u001b[0m\u001b[1;33m.\u001b[0m\u001b[0mtime\u001b[0m\u001b[1;33m(\u001b[0m\u001b[1;33m)\u001b[0m\u001b[1;33m\u001b[0m\u001b[0m\n\u001b[0;32m    858\u001b[0m         \u001b[1;32mtry\u001b[0m\u001b[1;33m:\u001b[0m\u001b[1;33m\u001b[0m\u001b[0m\n\u001b[1;32m--> 859\u001b[1;33m             \u001b[0moutputs\u001b[0m \u001b[1;33m=\u001b[0m \u001b[0mself\u001b[0m\u001b[1;33m.\u001b[0m\u001b[0mfn\u001b[0m\u001b[1;33m(\u001b[0m\u001b[1;33m)\u001b[0m\u001b[1;33m\u001b[0m\u001b[0m\n\u001b[0m\u001b[0;32m    860\u001b[0m         \u001b[1;32mexcept\u001b[0m \u001b[0mException\u001b[0m\u001b[1;33m:\u001b[0m\u001b[1;33m\u001b[0m\u001b[0m\n\u001b[0;32m    861\u001b[0m             \u001b[1;32mif\u001b[0m \u001b[0mhasattr\u001b[0m\u001b[1;33m(\u001b[0m\u001b[0mself\u001b[0m\u001b[1;33m.\u001b[0m\u001b[0mfn\u001b[0m\u001b[1;33m,\u001b[0m \u001b[1;34m'position_of_error'\u001b[0m\u001b[1;33m)\u001b[0m\u001b[1;33m:\u001b[0m\u001b[1;33m\u001b[0m\u001b[0m\n",
      "\u001b[1;31mValueError\u001b[0m: dimension mismatch in args to gemm (3,4)x(4,3)->(3,2)\nApply node that caused the error: GpuGemm{inplace}(GpuReshape{2}.0, TensorConstant{1.0}, Theta1, <CudaNdarrayType(float32, matrix)>, TensorConstant{1.0})\nToposort index: 14\nInputs types: [CudaNdarrayType(float32, matrix), TensorType(float32, scalar), CudaNdarrayType(float32, matrix), CudaNdarrayType(float32, matrix), TensorType(float32, scalar)]\nInputs shapes: [(3, 2), (), (3, 4), (4, 3), ()]\nInputs strides: [(2, 1), (), (4, 1), (3, 1), ()]\nInputs values: ['not shown', array(1.0, dtype=float32), 'not shown', 'not shown', array(1.0, dtype=float32)]\nOutputs clients: [[GpuElemwise{ScalarSigmoid}[(0, 0)](GpuGemm{inplace}.0)]]\n\nHINT: Re-running with most Theano optimization disabled could give you a back-trace of when this node was created. This can be done with by setting the Theano flag 'optimizer=fast_compile'. If that does not work, Theano optimizations can be disabled with 'optimizer=None'.\nHINT: Use the Theano flag 'exception_verbosity=high' for a debugprint and storage map footprint of this apply node."
     ]
    }
   ],
   "source": [
    "test43comp()"
   ]
  },
  {
   "cell_type": "code",
   "execution_count": 50,
   "metadata": {},
   "outputs": [
    {
     "name": "stdout",
     "output_type": "stream",
     "text": [
      "<class 'theano.tensor.var.TensorVariable'>\n"
     ]
    }
   ],
   "source": [
    "print( type(Thetab1.al ))"
   ]
  },
  {
   "cell_type": "code",
   "execution_count": 52,
   "metadata": {
    "collapsed": true
   },
   "outputs": [],
   "source": [
    "lin_zlp1 = T.dot(Thetab1.Theta, Thetab1.al)+T.tile( Thetab1.b, (1,Thetab1.al.shape[1]))\n",
    "a1p1 = Thetab1.g( lin_zlp1 )"
   ]
  },
  {
   "cell_type": "code",
   "execution_count": 51,
   "metadata": {
    "collapsed": true
   },
   "outputs": [],
   "source": [
    "Thetab1.al = X_sym"
   ]
  },
  {
   "cell_type": "code",
   "execution_count": 53,
   "metadata": {
    "collapsed": true
   },
   "outputs": [],
   "source": [
    "Thetab2.al = a1p1"
   ]
  },
  {
   "cell_type": "code",
   "execution_count": 54,
   "metadata": {
    "collapsed": true
   },
   "outputs": [],
   "source": [
    "lin_z2p1 = T.dot(Thetab2.Theta, Thetab2.al)+T.tile( Thetab2.b, (1, Thetab2.al.shape[1]))\n",
    "a2p1 = Thetab2.g( lin_z2p1 )"
   ]
  },
  {
   "cell_type": "code",
   "execution_count": 55,
   "metadata": {
    "collapsed": true
   },
   "outputs": [],
   "source": [
    "test_gen_conn = theano.function([], outputs=a2p1, givens={ Thetab1.al : X42test })"
   ]
  },
  {
   "cell_type": "code",
   "execution_count": 56,
   "metadata": {},
   "outputs": [
    {
     "data": {
      "text/plain": [
       "array([[ 0.91000074,  0.91101253],\n",
       "       [ 0.02431746,  0.02417665]], dtype=float32)"
      ]
     },
     "execution_count": 56,
     "metadata": {},
     "output_type": "execute_result"
    }
   ],
   "source": [
    "test_gen_conn()"
   ]
  },
  {
   "cell_type": "code",
   "execution_count": 57,
   "metadata": {
    "collapsed": true
   },
   "outputs": [],
   "source": [
    "test_gen_conn = theano.function([], outputs=a2p1, givens={ Thetab1.al : X43test })"
   ]
  },
  {
   "cell_type": "code",
   "execution_count": 58,
   "metadata": {},
   "outputs": [
    {
     "data": {
      "text/plain": [
       "array([[ 0.91144621,  0.91158789,  0.91166627],\n",
       "       [ 0.02425005,  0.02417867,  0.02417858]], dtype=float32)"
      ]
     },
     "execution_count": 58,
     "metadata": {},
     "output_type": "execute_result"
    }
   ],
   "source": [
    "test_gen_conn()"
   ]
  },
  {
   "cell_type": "markdown",
   "metadata": {},
   "source": [
    "*GPU test*"
   ]
  },
  {
   "cell_type": "code",
   "execution_count": 59,
   "metadata": {
    "collapsed": true
   },
   "outputs": [],
   "source": [
    "test_gen_conn = theano.function([], outputs=sandbox.cuda.basic_ops.gpu_from_host(a2p1), givens={ Thetab1.al : X42test })"
   ]
  },
  {
   "cell_type": "code",
   "execution_count": 60,
   "metadata": {},
   "outputs": [
    {
     "data": {
      "text/plain": [
       "CudaNdarray([[ 0.91000074  0.91101253]\n",
       " [ 0.02431746  0.02417665]])"
      ]
     },
     "execution_count": 60,
     "metadata": {},
     "output_type": "execute_result"
    }
   ],
   "source": [
    "test_gen_conn()"
   ]
  },
  {
   "cell_type": "code",
   "execution_count": 61,
   "metadata": {
    "collapsed": true
   },
   "outputs": [],
   "source": [
    "test_gen_conn = theano.function([], outputs=sandbox.cuda.basic_ops.gpu_from_host(a2p1), givens={ Thetab1.al : X43test })"
   ]
  },
  {
   "cell_type": "code",
   "execution_count": 62,
   "metadata": {},
   "outputs": [
    {
     "data": {
      "text/plain": [
       "CudaNdarray([[ 0.91144621  0.91158789  0.91166627]\n",
       " [ 0.02425005  0.02417867  0.02417858]])"
      ]
     },
     "execution_count": 62,
     "metadata": {},
     "output_type": "execute_result"
    }
   ],
   "source": [
    "test_gen_conn()"
   ]
  },
  {
   "cell_type": "markdown",
   "metadata": {},
   "source": [
    "#### Summary for Neural Net with Multiple Layers for logistic regression (but can be extended to linear regression)"
   ]
  },
  {
   "cell_type": "code",
   "execution_count": 9,
   "metadata": {
    "collapsed": true
   },
   "outputs": [],
   "source": [
    "sys.path.append( os.getcwd() + '/ML' )"
   ]
  },
  {
   "cell_type": "code",
   "execution_count": 10,
   "metadata": {
    "collapsed": true
   },
   "outputs": [],
   "source": [
    "from NN import MLP"
   ]
  },
  {
   "cell_type": "code",
   "execution_count": 11,
   "metadata": {},
   "outputs": [
    {
     "name": "stdout",
     "output_type": "stream",
     "text": [
      "Loading and Visualizing Data ... \n",
      "\n",
      "(400, 5000)\n",
      "(10, 5000)\n"
     ]
    }
   ],
   "source": [
    "# Load Training Data\n",
    "print(\"Loading and Visualizing Data ... \\n\")\n",
    "ex4data1 = scipy.io.loadmat('./coursera_Ng/machine-learning-ex4/ex4/ex4data1.mat')\n",
    "\n",
    "# recall that whereas the original labels (in the variable y) were 1, 2, ..., 10, for the purpose of training a \n",
    "# neural network, we need to recode the labels as vectors containing only values 0 or 1\n",
    "K=10\n",
    "m = ex4data1['y'].shape[0]\n",
    "y_prob = [np.zeros(K) for row in ex4data1['y']]  # list of 5000 numpy arrays of size dims. (10,)\n",
    "for i in range( m):\n",
    "        y_prob[i][ ex4data1['y'][i]-1] = 1\n",
    "y_prob = np.array(y_prob).T.astype(theano.config.floatX)  # size dims. (K,m)\n",
    "\n",
    "print(ex4data1['X'].T.shape)\n",
    "print(y_prob.shape)"
   ]
  },
  {
   "cell_type": "code",
   "execution_count": 12,
   "metadata": {
    "collapsed": true
   },
   "outputs": [],
   "source": [
    "digitsMLP = MLP( 3, [400,25,10], ex4data1['X'].T, y_prob, T.nnet.sigmoid, 1.)"
   ]
  },
  {
   "cell_type": "code",
   "execution_count": 13,
   "metadata": {
    "collapsed": true
   },
   "outputs": [],
   "source": [
    "digitsMLP.build_update(ex4data1['X'].T, y_prob, 0.01, 0.00001)"
   ]
  },
  {
   "cell_type": "code",
   "execution_count": 14,
   "metadata": {},
   "outputs": [
    {
     "data": {
      "text/plain": [
       "array([[ 0.01459562,  0.00558456,  0.02797613, ...,  0.0674273 ,\n",
       "         0.04817105,  0.03059   ],\n",
       "       [ 0.99074477,  0.97213686,  0.98990673, ...,  0.94329911,\n",
       "         0.99409556,  0.98447394],\n",
       "       [ 0.02927557,  0.05798027,  0.07752991, ...,  0.36027411,\n",
       "         0.1559844 ,  0.26209033],\n",
       "       ..., \n",
       "       [ 0.00369688,  0.01589782,  0.0115205 , ...,  0.0152018 ,\n",
       "         0.00421828,  0.00280912],\n",
       "       [ 0.78314799,  0.61225456,  0.71571481, ...,  0.80646819,\n",
       "         0.94149739,  0.52025074],\n",
       "       [ 0.96498191,  0.98687011,  0.78228015, ...,  0.95690244,\n",
       "         0.63841748,  0.404479  ]], dtype=float32)"
      ]
     },
     "execution_count": 14,
     "metadata": {},
     "output_type": "execute_result"
    }
   ],
   "source": [
    "digitsMLP.predicted_vals_logreg()"
   ]
  },
  {
   "cell_type": "code",
   "execution_count": 15,
   "metadata": {},
   "outputs": [
    {
     "name": "stdout",
     "output_type": "stream",
     "text": [
      "Accuracy score : 0.134200 \n"
     ]
    },
    {
     "data": {
      "text/plain": [
       "0.13420000000000001"
      ]
     },
     "execution_count": 15,
     "metadata": {},
     "output_type": "execute_result"
    }
   ],
   "source": [
    "digitsMLP.accuracy_logreg( ex4data1['X'].T, y_prob)"
   ]
  },
  {
   "cell_type": "code",
   "execution_count": 16,
   "metadata": {
    "collapsed": true
   },
   "outputs": [],
   "source": [
    "digitsMLP.train_model(10000)"
   ]
  },
  {
   "cell_type": "code",
   "execution_count": 17,
   "metadata": {},
   "outputs": [
    {
     "name": "stdout",
     "output_type": "stream",
     "text": [
      "Accuracy score : 0.894600 \n"
     ]
    },
    {
     "data": {
      "text/plain": [
       "0.89459999999999995"
      ]
     },
     "execution_count": 17,
     "metadata": {},
     "output_type": "execute_result"
    }
   ],
   "source": [
    "digitsMLP.accuracy_logreg( ex4data1['X'].T, y_prob)"
   ]
  },
  {
   "cell_type": "code",
   "execution_count": 18,
   "metadata": {
    "collapsed": true
   },
   "outputs": [],
   "source": [
    "digitsMLP.train_model(50000)"
   ]
  },
  {
   "cell_type": "code",
   "execution_count": 19,
   "metadata": {},
   "outputs": [
    {
     "name": "stdout",
     "output_type": "stream",
     "text": [
      "Accuracy score : 0.956600 \n"
     ]
    },
    {
     "data": {
      "text/plain": [
       "0.95660000000000001"
      ]
     },
     "execution_count": 19,
     "metadata": {},
     "output_type": "execute_result"
    }
   ],
   "source": [
    "digitsMLP.accuracy_logreg( ex4data1['X'].T, y_prob)"
   ]
  },
  {
   "cell_type": "markdown",
   "metadata": {},
   "source": [
    "#### Testing on University of Montreal LISA lab MNIST data"
   ]
  },
  {
   "cell_type": "code",
   "execution_count": 20,
   "metadata": {
    "collapsed": true
   },
   "outputs": [],
   "source": [
    "import gzip\n",
    "import six.moves.cPickle as pickle\n",
    "with gzip.open(\"../DeepLearningTutorials/data/mnist.pkl.gz\", 'rb') as f:\n",
    "    try:\n",
    "        train_set, valid_set, test_set = pickle.load(f, encoding='latin1')\n",
    "    except:\n",
    "        train_set, valid_set, test_set = pickle.load(f)"
   ]
  },
  {
   "cell_type": "code",
   "execution_count": 21,
   "metadata": {},
   "outputs": [
    {
     "name": "stdout",
     "output_type": "stream",
     "text": [
      "(10, 50000)\n"
     ]
    }
   ],
   "source": [
    "K=10\n",
    "m = len(train_set[1])\n",
    "y_train_prob = [np.zeros(K) for row in train_set[1]]  # list of 5000 numpy arrays of size dims. (10,)\n",
    "for i in range( m):\n",
    "        y_train_prob[i][ train_set[1][i]] = 1\n",
    "y_train_prob = np.array(y_train_prob).T.astype(theano.config.floatX)  # size dims. (K,m)\n",
    "print( y_train_prob.shape )"
   ]
  },
  {
   "cell_type": "code",
   "execution_count": 22,
   "metadata": {
    "collapsed": true
   },
   "outputs": [],
   "source": [
    "MNIST_MLP = MLP( 3,[784,49,10], train_set[0].T, y_train_prob, T.nnet.sigmoid, 1.)"
   ]
  },
  {
   "cell_type": "code",
   "execution_count": 23,
   "metadata": {
    "collapsed": true
   },
   "outputs": [],
   "source": [
    "MNIST_MLP.build_update( train_set[0].T, y_train_prob, 0.01, 0.0001)"
   ]
  },
  {
   "cell_type": "code",
   "execution_count": 24,
   "metadata": {},
   "outputs": [
    {
     "name": "stdout",
     "output_type": "stream",
     "text": [
      "Accuracy score : 0.098660 \n"
     ]
    },
    {
     "data": {
      "text/plain": [
       "0.098659999999999998"
      ]
     },
     "execution_count": 24,
     "metadata": {},
     "output_type": "execute_result"
    }
   ],
   "source": [
    "MNIST_MLP.accuracy_logreg( train_set[0].T, y_train_prob)"
   ]
  },
  {
   "cell_type": "code",
   "execution_count": 25,
   "metadata": {
    "collapsed": true
   },
   "outputs": [],
   "source": [
    "MNIST_MLP.train_model(50000)"
   ]
  },
  {
   "cell_type": "code",
   "execution_count": 26,
   "metadata": {},
   "outputs": [
    {
     "name": "stdout",
     "output_type": "stream",
     "text": [
      "Accuracy score : 0.862140 \n"
     ]
    },
    {
     "data": {
      "text/plain": [
       "0.86214000000000002"
      ]
     },
     "execution_count": 26,
     "metadata": {},
     "output_type": "execute_result"
    }
   ],
   "source": [
    "MNIST_MLP.accuracy_logreg( train_set[0].T, y_train_prob)"
   ]
  },
  {
   "cell_type": "code",
   "execution_count": 30,
   "metadata": {},
   "outputs": [
    {
     "name": "stdout",
     "output_type": "stream",
     "text": [
      "CPU times: user 3min 38s, sys: 8min 22s, total: 12min\n",
      "Wall time: 12min\n"
     ]
    }
   ],
   "source": [
    "%time MNIST_MLP.train_model(100000)"
   ]
  },
  {
   "cell_type": "code",
   "execution_count": 31,
   "metadata": {},
   "outputs": [
    {
     "name": "stdout",
     "output_type": "stream",
     "text": [
      "Accuracy score : 0.826500 \n"
     ]
    },
    {
     "data": {
      "text/plain": [
       "0.82650000000000001"
      ]
     },
     "execution_count": 31,
     "metadata": {},
     "output_type": "execute_result"
    }
   ],
   "source": [
    "MNIST_MLP.accuracy_logreg( train_set[0].T,y_train_prob)"
   ]
  },
  {
   "cell_type": "code",
   "execution_count": 32,
   "metadata": {},
   "outputs": [
    {
     "name": "stdout",
     "output_type": "stream",
     "text": [
      "(10, 10000)\n"
     ]
    }
   ],
   "source": [
    "m = len(valid_set[1])\n",
    "y_valid_prob = [np.zeros(K) for row in valid_set[1]]  # list of 5000 numpy arrays of size dims. (10,)\n",
    "for i in range( m):\n",
    "        y_valid_prob[i][ valid_set[1][i]] = 1\n",
    "y_valid_prob = np.array(y_valid_prob).T.astype(theano.config.floatX)  # size dims. (K,m)\n",
    "print( y_valid_prob.shape )"
   ]
  },
  {
   "cell_type": "code",
   "execution_count": 33,
   "metadata": {},
   "outputs": [
    {
     "name": "stdout",
     "output_type": "stream",
     "text": [
      "(10, 10000)\n"
     ]
    }
   ],
   "source": [
    "m = len(test_set[1])\n",
    "y_test_prob = [np.zeros(K) for row in test_set[1]]  # list of 5000 numpy arrays of size dims. (10,)\n",
    "for i in range( m):\n",
    "        y_test_prob[i][ test_set[1][i]] = 1\n",
    "y_test_prob = np.array(y_test_prob).T.astype(theano.config.floatX)  # size dims. (K,m)\n",
    "print( y_test_prob.shape )"
   ]
  },
  {
   "cell_type": "code",
   "execution_count": 34,
   "metadata": {},
   "outputs": [
    {
     "name": "stdout",
     "output_type": "stream",
     "text": [
      "Accuracy score : 0.814200 \n"
     ]
    },
    {
     "data": {
      "text/plain": [
       "0.81420000000000003"
      ]
     },
     "execution_count": 34,
     "metadata": {},
     "output_type": "execute_result"
    }
   ],
   "source": [
    "MNIST_MLP.accuracy_logreg( valid_set[0].T,y_valid_prob)"
   ]
  },
  {
   "cell_type": "code",
   "execution_count": 35,
   "metadata": {},
   "outputs": [
    {
     "name": "stdout",
     "output_type": "stream",
     "text": [
      "Accuracy score : 0.805000 \n"
     ]
    },
    {
     "data": {
      "text/plain": [
       "0.80500000000000005"
      ]
     },
     "execution_count": 35,
     "metadata": {},
     "output_type": "execute_result"
    }
   ],
   "source": [
    "MNIST_MLP.accuracy_logreg( test_set[0].T,y_test_prob)"
   ]
  },
  {
   "cell_type": "code",
   "execution_count": 40,
   "metadata": {},
   "outputs": [
    {
     "name": "stdout",
     "output_type": "stream",
     "text": [
      "784\n"
     ]
    }
   ],
   "source": [
    "MNIST_d = train_set[0].T.shape[0]\n",
    "print(MNIST_d)\n",
    "MNIST_MLP = MLP( 3,[MNIST_d,25,10], train_set[0].T, y_train_prob, T.nnet.sigmoid, 1.)\n",
    "MNIST_MLP.build_update( train_set[0].T, y_train_prob, 0.1, 0.00001)"
   ]
  },
  {
   "cell_type": "code",
   "execution_count": 41,
   "metadata": {},
   "outputs": [
    {
     "name": "stdout",
     "output_type": "stream",
     "text": [
      "Accuracy score : 0.095720 \n"
     ]
    },
    {
     "data": {
      "text/plain": [
       "0.09572"
      ]
     },
     "execution_count": 41,
     "metadata": {},
     "output_type": "execute_result"
    }
   ],
   "source": [
    "MNIST_MLP.accuracy_logreg( train_set[0].T, y_train_prob)"
   ]
  },
  {
   "cell_type": "code",
   "execution_count": 42,
   "metadata": {
    "collapsed": true
   },
   "outputs": [],
   "source": [
    "MNIST_MLP.train_model(150000)"
   ]
  },
  {
   "cell_type": "code",
   "execution_count": 43,
   "metadata": {},
   "outputs": [
    {
     "name": "stdout",
     "output_type": "stream",
     "text": [
      "Accuracy score : 0.986520 \n"
     ]
    },
    {
     "data": {
      "text/plain": [
       "0.98651999999999995"
      ]
     },
     "execution_count": 43,
     "metadata": {},
     "output_type": "execute_result"
    }
   ],
   "source": [
    "MNIST_MLP.accuracy_logreg( train_set[0].T, y_train_prob)"
   ]
  },
  {
   "cell_type": "code",
   "execution_count": 44,
   "metadata": {},
   "outputs": [
    {
     "name": "stdout",
     "output_type": "stream",
     "text": [
      "Accuracy score : 0.950600 \n"
     ]
    },
    {
     "data": {
      "text/plain": [
       "0.9506"
      ]
     },
     "execution_count": 44,
     "metadata": {},
     "output_type": "execute_result"
    }
   ],
   "source": [
    "MNIST_MLP.accuracy_logreg( valid_set[0].T, y_valid_prob)"
   ]
  },
  {
   "cell_type": "code",
   "execution_count": 45,
   "metadata": {},
   "outputs": [
    {
     "name": "stdout",
     "output_type": "stream",
     "text": [
      "Accuracy score : 0.945200 \n"
     ]
    },
    {
     "data": {
      "text/plain": [
       "0.94520000000000004"
      ]
     },
     "execution_count": 45,
     "metadata": {},
     "output_type": "execute_result"
    }
   ],
   "source": [
    "MNIST_MLP.accuracy_logreg( test_set[0].T, y_test_prob)"
   ]
  },
  {
   "cell_type": "code",
   "execution_count": null,
   "metadata": {
    "collapsed": true
   },
   "outputs": [],
   "source": []
  }
 ],
 "metadata": {
  "kernelspec": {
   "display_name": "Python 2",
   "language": "python",
   "name": "python2"
  },
  "language_info": {
   "codemirror_mode": {
    "name": "ipython",
    "version": 2
   },
   "file_extension": ".py",
   "mimetype": "text/x-python",
   "name": "python",
   "nbconvert_exporter": "python",
   "pygments_lexer": "ipython2",
   "version": "2.7.13"
  }
 },
 "nbformat": 4,
 "nbformat_minor": 1
}
